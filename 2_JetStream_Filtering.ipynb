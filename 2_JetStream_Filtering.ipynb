{
 "cells": [
  {
   "metadata": {},
   "cell_type": "markdown",
   "source": "# Filtering JetStream Events"
  },
  {
   "metadata": {},
   "cell_type": "markdown",
   "source": [
    "In this notebook, we'll filter events from the Redis Stream that we created in the previous notebook. We'll use a combination of techniques to filter the events:\n",
    "\n",
    "1. Deduplication using Redis Bloom Filter to avoid processing the same event multiple times\n",
    "2. Content-based filtering using a machine learning model to identify software-related posts\n",
    "3. Storing filtered events in Redis for further processing\n",
    "\n",
    "Redis Bloom Filter is a probabilistic data structure that allows us to check if an element is in a set. It's very memory efficient and has a constant time complexity for both insertion and lookup operations. The trade-off is that it can have false positives, but the probability of false positives can be controlled by the size of the filter.\n",
    "\n",
    "Machine learning models can be used to classify text into different categories. In this notebook, we'll use a pre-trained zero-shot classification model to classify posts as software-related or not."
   ]
  },
  {
   "metadata": {},
   "cell_type": "markdown",
   "source": "## Consuming from Redis Streams"
  },
  {
   "metadata": {},
   "cell_type": "markdown",
   "source": [
    "### Model Redis Streams Event\n",
    "In this section, we'll define a data class to represent the events stored in the Redis Stream. This model will be used to deserialize the events from the stream."
   ]
  },
  {
   "metadata": {
    "ExecuteTime": {
     "end_time": "2025-05-16T17:50:50.188414Z",
     "start_time": "2025-05-16T17:50:49.967719Z"
    }
   },
   "cell_type": "code",
   "source": "@file:DependsOn(\"redis.clients:jedis:6.0.0\")",
   "outputs": [],
   "execution_count": 1
  },
  {
   "metadata": {
    "ExecuteTime": {
     "end_time": "2025-05-16T17:50:51.511989Z",
     "start_time": "2025-05-16T17:50:51.168294Z"
    }
   },
   "cell_type": "code",
   "source": [
    "import redis.clients.jedis.resps.StreamEntry\n",
    "\n",
    "data class Event(\n",
    "    val did: String,\n",
    "    val rkey: String,\n",
    "    val text: String,\n",
    "    val timeUs: String,\n",
    "    val operation: String,\n",
    "    val uri: String,\n",
    "    val parentUri: String,\n",
    "    val rootUri: String,\n",
    "    val langs: List<String>,\n",
    ") {\n",
    "    companion object {\n",
    "        fun fromMap(entry: StreamEntry): Event {\n",
    "            val fields = entry.fields\n",
    "            return Event(\n",
    "                did = fields[\"did\"] ?: \"\",\n",
    "                rkey = fields[\"rkey\"] ?: \"\",\n",
    "                text = fields[\"text\"] ?: \"\",\n",
    "                timeUs = fields[\"timeUs\"] ?: \"\",\n",
    "                operation = fields[\"operation\"] ?: \"\",\n",
    "                uri = fields[\"uri\"] ?: \"\",\n",
    "                parentUri = fields[\"parentUri\"] ?: \"\",\n",
    "                rootUri = fields[\"rootUri\"] ?: \"\",\n",
    "                langs = fields[\"langs\"]?.replace(\"[\", \"\")?.replace(\"]\", \"\")?.split(\", \") ?: emptyList()\n",
    "            )\n",
    "        }\n",
    "    }\n",
    "}"
   ],
   "outputs": [],
   "execution_count": 2
  },
  {
   "metadata": {},
   "cell_type": "markdown",
   "source": [
    "### Creating a Redis Client\n",
    "Create a Jedis client to connect to Redis. This is a reusable client that can be used to interact with Redis Streams."
   ]
  },
  {
   "metadata": {
    "ExecuteTime": {
     "end_time": "2025-05-16T17:50:54.134729Z",
     "start_time": "2025-05-16T17:50:53.981580Z"
    }
   },
   "cell_type": "code",
   "source": [
    "import redis.clients.jedis.JedisPooled\n",
    "\n",
    "val jedis = JedisPooled()"
   ],
   "outputs": [],
   "execution_count": 3
  },
  {
   "metadata": {},
   "cell_type": "markdown",
   "source": [
    "### Creating a Consumer Group\n",
    "Create a consumer group to read from the Redis Stream. A consumer group allows multiple consumers to read from the same stream without duplicating the work. Each consumer in the group will receive a different subset of the messages.\n",
    "\n",
    "A consumer group can be created in Redis with the XGROUP CREATE command:\n",
    "\n",
    "`XGROUP CREATE streamName groupName id [MKSTREAM]`\n",
    "\n",
    "To create a consumer group in this notebook, we will encapsulate the command in a function. The function will take the stream name and the group name as parameters."
   ]
  },
  {
   "metadata": {
    "ExecuteTime": {
     "end_time": "2025-05-16T17:50:55.881769Z",
     "start_time": "2025-05-16T17:50:55.803940Z"
    }
   },
   "cell_type": "code",
   "source": [
    "import redis.clients.jedis.StreamEntryID\n",
    "\n",
    "fun createConsumerGroup(streamName: String, consumerGroupName: String) {\n",
    "    try {\n",
    "        jedis.xgroupCreate(streamName, consumerGroupName, StreamEntryID(\"0-0\"), true)\n",
    "    } catch (e: Exception) {\n",
    "        println(\"Group already exists\")\n",
    "    }\n",
    "}"
   ],
   "outputs": [],
   "execution_count": 4
  },
  {
   "metadata": {
    "ExecuteTime": {
     "end_time": "2025-05-16T17:50:57.157689Z",
     "start_time": "2025-05-16T17:50:57.126602Z"
    }
   },
   "cell_type": "code",
   "source": "createConsumerGroup(\"jetstream\", \"printer-example\")",
   "outputs": [],
   "execution_count": 5
  },
  {
   "metadata": {},
   "cell_type": "markdown",
   "source": [
    "### Reading from the Stream\n",
    "Create a reusable function to read from the stream. This function will read from the stream and return a list of entries. It uses the XREADGROUP command to read from the stream as part of a consumer group:\n",
    "\n",
    "`XREADGROUP GROUP groupName consumerName COUNT count BLOCK blockTime streamName id`\n",
    "\n",
    "The command will be encapsulated in a function that takes the stream name, consumer group name, consumer name, and count as parameters. The function will return a list of entries."
   ]
  },
  {
   "metadata": {
    "ExecuteTime": {
     "end_time": "2025-05-16T17:50:59.032248Z",
     "start_time": "2025-05-16T17:50:58.968203Z"
    }
   },
   "cell_type": "code",
   "source": [
    "import redis.clients.jedis.params.XReadGroupParams\n",
    "\n",
    "fun readFromStream(streamName: String, consumerGroup: String, consumer: String, count: Int): List<Map.Entry<String, List<StreamEntry>>> {\n",
    "    return jedis.xreadGroup(\n",
    "        consumerGroup,\n",
    "        consumer,\n",
    "        XReadGroupParams().count(count),\n",
    "        mapOf(\n",
    "            streamName to StreamEntryID.XREADGROUP_UNDELIVERED_ENTRY\n",
    "        )\n",
    "    ) ?: emptyList()\n",
    "}"
   ],
   "outputs": [],
   "execution_count": 6
  },
  {
   "metadata": {},
   "cell_type": "markdown",
   "source": [
    "### Acknowledging Messages\n",
    "Create a function to acknowledge the message. This is important to let Redis know that the message has been processed successfully, so it won't be delivered to other consumers in the group.\n",
    "\n",
    "This is done by using the XACK command:\n",
    "\n",
    "`XACK streamName groupName id`\n",
    "\n",
    "The command will be encapsulated in a lambda function that takes the stream name, consumer group name, and entry as parameters. The function will acknowledge the message by calling the XACK command."
   ]
  },
  {
   "metadata": {
    "ExecuteTime": {
     "end_time": "2025-05-16T17:51:01.452984Z",
     "start_time": "2025-05-16T17:51:01.396752Z"
    }
   },
   "cell_type": "code",
   "source": [
    "val ackFn: (String, String, StreamEntry) -> Unit = { streamName, consumerGroup, entry ->\n",
    "    jedis.xack(\n",
    "        streamName,\n",
    "        consumerGroup,\n",
    "        entry.id\n",
    "    )\n",
    "}"
   ],
   "outputs": [],
   "execution_count": 7
  },
  {
   "metadata": {},
   "cell_type": "markdown",
   "source": [
    "### Consuming the Stream\n",
    "Create a reusable function to consume the stream.\n",
    "\n",
    "This function implements a pipeline pattern where each event is processed sequentially by a series of handlers. If any handler returns false, the processing stops for that event.\n",
    "\n",
    "After processing the event, the function acknowledges the message using the ack function."
   ]
  },
  {
   "metadata": {
    "ExecuteTime": {
     "end_time": "2025-05-16T17:51:03.345903Z",
     "start_time": "2025-05-16T17:51:03.264844Z"
    }
   },
   "cell_type": "code",
   "source": "%use coroutines",
   "outputs": [],
   "execution_count": 8
  },
  {
   "metadata": {
    "ExecuteTime": {
     "end_time": "2025-05-16T18:04:52.804297Z",
     "start_time": "2025-05-16T18:04:52.740695Z"
    }
   },
   "cell_type": "code",
   "source": [
    "import kotlinx.coroutines.*\n",
    "\n",
    "fun consumeStream(\n",
    "    streamName: String,\n",
    "    consumerGroup: String,\n",
    "    consumer: String,\n",
    "    handlers: List<(Event) -> Pair<Boolean, String>>,\n",
    "    ackFunction: ((String, String, StreamEntry) -> Unit),\n",
    "    count: Int = 5,\n",
    "    limit: Int = 5\n",
    ") {\n",
    "    var lastMessageTime = System.currentTimeMillis()\n",
    "    var consumed = 0\n",
    "\n",
    "    while (consumed < limit) {\n",
    "        val entries = readFromStream(streamName, consumerGroup, consumer, count)\n",
    "        val allEntries = entries.flatMap { it.value }\n",
    "        allEntries.map { entry ->\n",
    "            consumed++\n",
    "            val event = Event.fromMap(entry)\n",
    "\n",
    "            for (handler in handlers) {\n",
    "                val (shouldContinue, message) = handler(event)\n",
    "                ackFunction(streamName, consumerGroup, entry)\n",
    "\n",
    "                if (!shouldContinue) {\n",
    "                    println(\"$consumer: Handler stopped processing: $message\")\n",
    "                    break\n",
    "                }\n",
    "            }\n",
    "        }\n",
    "\n",
    "        if (allEntries.isEmpty()) {\n",
    "            val now = System.currentTimeMillis()\n",
    "            if (now - lastMessageTime >= 2_000) {\n",
    "                println(\"$consumer: No new messages for 2 seconds. Stopping.\")\n",
    "                break\n",
    "            }\n",
    "        }\n",
    "    }\n",
    "\n",
    "}"
   ],
   "outputs": [],
   "execution_count": 44
  },
  {
   "metadata": {},
   "cell_type": "markdown",
   "source": "To test the consumeStream function, we'll create a simple handler that prints the event's URI."
  },
  {
   "metadata": {
    "ExecuteTime": {
     "end_time": "2025-05-16T17:51:08.527942Z",
     "start_time": "2025-05-16T17:51:08.485855Z"
    }
   },
   "cell_type": "code",
   "source": [
    "val printUri: (Event) -> Pair<Boolean, String> = {\n",
    "    println(\"Got event from ${it.uri}\")\n",
    "    Pair(true, \"OK\")\n",
    "}"
   ],
   "outputs": [],
   "execution_count": 10
  },
  {
   "metadata": {
    "ExecuteTime": {
     "end_time": "2025-05-16T18:07:03.310149Z",
     "start_time": "2025-05-16T18:07:02.916328Z"
    }
   },
   "cell_type": "code",
   "source": [
    "runBlocking {\n",
    "    consumeStream(\n",
    "        streamName = \"jetstream\",\n",
    "        consumerGroup = \"printer-example\",\n",
    "        consumer =\"printer-1\",\n",
    "        handlers = listOf(printUri),\n",
    "        ackFunction = ackFn,\n",
    "        count = 100,\n",
    "        limit = 100\n",
    "    )\n",
    "}"
   ],
   "outputs": [
    {
     "name": "stdout",
     "output_type": "stream",
     "text": [
      "Got event from at://did:plc:3ymwxtmeesirvucb2degvdsl/app.bsky.feed.post/3lpcmgglvfc2p\n",
      "Got event from at://did:plc:wff7uo734vlav2j646kogbrj/app.bsky.feed.post/3lpcmghsguy2s\n",
      "Got event from at://did:plc:4kqyouk3lcaodrkdw5uphgty/app.bsky.feed.post/3lpcmghvyyv25\n",
      "Got event from at://did:plc:j4fa3lo7pu5ckeh2fuc3fdgl/app.bsky.feed.post/3lpcmgi2jlc2x\n",
      "Got event from at://did:plc:rjn7np2j6ugqpvptlij2dbwl/app.bsky.feed.post/3lpcmgicu6k2t\n",
      "Got event from at://did:plc:ueg2lbj2tvpc2hs7xytw3tic/app.bsky.feed.post/3lpcmghsfss2j\n",
      "Got event from at://did:plc:5lya2736k5olysj2gkarysao/app.bsky.feed.post/3loyxxl2ccc25\n",
      "Got event from at://did:plc:w4hpxq5o4dapo6ozvmhjqlav/app.bsky.feed.post/3lpcmgigxzc2w\n",
      "Got event from at://did:plc:pjfggsk6zp25bgoy5ich2xio/app.bsky.feed.post/3lpcmfgtrrc2t\n",
      "Got event from at://did:plc:n47xarga2ijdibgqa6swzply/app.bsky.feed.post/3lpcmgjfbqk2u\n",
      "Got event from at://did:plc:judc7jgvsqmnoe7ljfbfi2oq/app.bsky.feed.post/3lpcmghi6o22f\n",
      "Got event from at://did:plc:42kvq7or34iwpzkz2s4dczs6/app.bsky.feed.post/3lpcmgjutoh2d\n",
      "Got event from at://did:plc:d3d5z2lpzgy3ow2tgoiuz3m3/app.bsky.feed.post/3lpclnvcqlc2p\n",
      "Got event from at://did:plc:65u37bfanwf3nhuxcmnd4m67/app.bsky.feed.post/3lpcmgk6iy42w\n",
      "Got event from at://did:plc:jmjz7uxfuahewi3iyzwjo5gp/app.bsky.feed.post/3lpcmfusers2c\n",
      "Got event from at://did:plc:vslz2sx3t5rx4xlqjo3hti4m/app.bsky.feed.post/3lpcmikkm7k2k\n",
      "Got event from at://did:plc:m4j3edkiu3ip6ukzvvbkkpy4/app.bsky.feed.post/3lpcmikfpxk2x\n",
      "Got event from at://did:plc:lxmqtmmppzhtuip26bq2ogsy/app.bsky.feed.post/3lpcmikjow22f\n",
      "Got event from at://did:plc:5hgrdqpvsbinu2l34mudvrej/app.bsky.feed.post/3lpcmikilr224\n",
      "Got event from at://did:plc:bhaeflj3qgxyieqemcahojkv/app.bsky.feed.post/3lpcmigtzc22k\n",
      "Got event from at://did:plc:sfh342xnaiqcf2n4pjqnzoda/app.bsky.feed.post/3lpcmiisn722g\n",
      "Got event from at://did:plc:4mrcy5zr52pyhyohwmrqz6il/app.bsky.feed.post/3lpcmifqnhc2i\n",
      "Got event from at://did:plc:osdmcnk7g4jv23sdxssjw6mt/app.bsky.feed.post/3lpcmikn6ak2n\n",
      "Got event from at://did:plc:kkbskzp6lwujf4kgcvjro72b/app.bsky.feed.post/3lpcmilbmk22s\n",
      "Got event from at://did:plc:o27g2kn6zuzd7z4du4mpkxcw/app.bsky.feed.post/3lpcmillxls2q\n",
      "Got event from at://did:plc:5o3lhllhsv2l6h5ptny4aypn/app.bsky.feed.post/3lpcmink2vk2d\n",
      "Got event from at://did:plc:zsefjvwf3wkcr7xpnl6e4qoc/app.bsky.feed.post/3lpcmin4r4k2r\n",
      "Got event from at://did:plc:2eexdpaaaz2ai3ymyigtceoj/app.bsky.feed.post/3lpcmikewl22n\n",
      "Got event from at://did:plc:sxrg6hajmathemvvxrmtehza/app.bsky.feed.post/3lpcmilafi22g\n",
      "Got event from at://did:plc:lqsjceg5yu7kcn6ntrsggav2/app.bsky.feed.post/3lpcmimkqvr2g\n",
      "Got event from at://did:plc:5zalsoao62fummhftdubxukd/app.bsky.feed.post/3lpcmikzzes2u\n",
      "Got event from at://did:plc:ykcwq4vwoeu7d3izdofjueyy/app.bsky.feed.post/3lpcmin4u2c2e\n",
      "Got event from at://did:plc:zqq3543ym2kfu4ewr3m3aehq/app.bsky.feed.post/3lpcminjyx22p\n",
      "Got event from at://did:plc:d3d5z2lpzgy3ow2tgoiuz3m3/app.bsky.feed.post/3lpcicbnzns2p\n",
      "Got event from at://did:plc:t72n4mmcxir2qpjjadm62zho/app.bsky.feed.post/3lpcminioxc2s\n",
      "Got event from at://did:plc:fd2qoe7a3ydbmzu576cyy4a7/app.bsky.feed.post/3lpcminrk5s2e\n",
      "Got event from at://did:plc:qkhtvcgqx2kj5jgtulydn4oa/app.bsky.feed.post/3lpcmiiwsyc2r\n",
      "Got event from at://did:plc:zcfw7c6kalmxifc5a22ydciu/app.bsky.feed.post/3lpcmio7pbs2v\n",
      "Got event from at://did:plc:s5dj64iboirjzjavsfb2ti4o/app.bsky.feed.post/3lpcmilmgak2g\n",
      "Got event from at://did:plc:fltrqy44rv6ldmp5uu7vkbym/app.bsky.feed.post/3lpcminw3o227\n",
      "Got event from at://did:plc:sljoxhdkup55of7j6cq2utaj/app.bsky.feed.post/3lpcmicopo225\n",
      "Got event from at://did:plc:a6l33kt5nxqcwgumrxhrgcss/app.bsky.feed.post/3lpcmioj7xs26\n",
      "Got event from at://did:plc:u6vs6kr72oxgzac65sgmkcat/app.bsky.feed.post/3lpcmipc5t22a\n",
      "Got event from at://did:plc:i24kjswsljtypkh7qlmzwtfx/app.bsky.feed.post/3lpcminkqf22i\n",
      "Got event from at://did:plc:3pfk7mhmcwchu65q532n7dl2/app.bsky.feed.post/3lpcmilnx322p\n",
      "Got event from at://did:plc:qopche6525ueddh7tzrmc5jf/app.bsky.feed.post/3lpcmjhwfhc2i\n",
      "Got event from at://did:plc:ltfchhuquawmapyawrslme5i/app.bsky.feed.post/3lpcmjhqotk2s\n",
      "Got event from at://did:plc:6bqtm2qqk4zcfrmipsi4e5fa/app.bsky.feed.post/3lpcmjjjcec26\n",
      "Got event from at://did:plc:porj77r6m7rff5ncp3tlxq43/app.bsky.feed.post/3lpcmjhhpq22h\n",
      "Got event from at://did:plc:zleoqrxntovpelab6x5auzke/app.bsky.feed.post/3lpcmjioqqs2q\n",
      "Got event from at://did:plc:mdalsqzm7ucmvk6zlsu5drkx/app.bsky.feed.post/3lpcmjkpjyk2f\n",
      "Got event from at://did:plc:u4xi3n3me25bdn4nu3obkzvt/app.bsky.feed.post/3lpcmjjttbk2s\n",
      "Got event from at://did:plc:szsiaihfd4tar373vzug5whq/app.bsky.feed.post/3lpcmjjo2pc2x\n",
      "Got event from at://did:plc:b4rmzrjzhzbs6wu2znpnbnmp/app.bsky.feed.post/3lpcmjk6kq22g\n",
      "Got event from at://did:plc:ormz52bv7npfs5t6y7j6zofg/app.bsky.feed.post/3lpcmamps2i22\n",
      "Got event from at://did:plc:rshibtcbcif6qukicpuktnm6/app.bsky.feed.post/3lpcmjjbbue2r\n",
      "Got event from at://did:plc:pipprryk6mati5657cv5y63v/app.bsky.feed.post/3lpcmjjxsa226\n",
      "Got event from at://did:plc:dblfhwwk4uqa7h7wnabt6rvz/app.bsky.feed.post/3lpcmjj3ylc2q\n",
      "Got event from at://did:plc:ormz52bv7npfs5t6y7j6zofg/app.bsky.feed.post/3lpcmjlbekq2i\n",
      "Got event from at://did:plc:ijgsaagcz2bkl7r7ti6vbqhs/app.bsky.feed.post/3lpcmjl2z6k2h\n",
      "Got event from at://did:plc:vmd4dpqyrdnelwztp4ia6rsj/app.bsky.feed.post/3lpcmjl2ogs2t\n",
      "Got event from at://did:plc:srjxh4v7qmms37dpmta7qpsb/app.bsky.feed.post/3lpcmjkvghs2t\n",
      "Got event from at://did:plc:dgxuyys5hitd4ylqtfv6ovkz/app.bsky.feed.post/3lpcmjj6nk227\n",
      "Got event from at://did:plc:i7hv4pgdrigkugpicigwc5b5/app.bsky.feed.post/3lpcmjkd2lc2l\n",
      "Got event from at://did:plc:m7ocnguaqzm24zpu3xhj4sbv/app.bsky.feed.post/3lpcmjicxsc2a\n",
      "Got event from at://did:plc:elczgtrs4jb47ofrirxbstsj/app.bsky.feed.post/3lpcmjk3s5s2x\n",
      "Got event from at://did:plc:r36iayybtxk4h62g3odx2am2/app.bsky.feed.post/3lpcmjkwhoc2h\n",
      "Got event from at://did:plc:fylbefkixk2tqmww672nocsf/app.bsky.feed.post/3lpcmjkncpc2x\n",
      "Got event from at://did:plc:nd5y5kt3wuqkrb5jxl5okbvg/app.bsky.feed.post/3lpcmjjigzc2c\n",
      "Got event from at://did:plc:bvlbxnnxl6u72i6e6wq34qgw/app.bsky.feed.post/3lpcmjm57vs2y\n",
      "Got event from at://did:plc:637frxi2d2uevr4ymtaxnxny/app.bsky.feed.post/3lpcmjjmmsk2l\n",
      "Got event from at://did:plc:mf53wnykhnftoqzgkzab2jbp/app.bsky.feed.post/3lpcmjkgezk2j\n",
      "Got event from at://did:plc:ezxdykz2xaefmqcnumyuhcdg/app.bsky.feed.post/3lpcmjkd63i26\n",
      "Got event from at://did:plc:n5fa7v3lcoq53hcdli5ll5au/app.bsky.feed.post/3lpcmjkbvav2x\n",
      "Got event from at://did:plc:kjfvm5qgugx34hpawslwtibm/app.bsky.feed.post/3lpcmjkzv2c2f\n",
      "Got event from at://did:plc:ebygtjiw3c5ycaxpaqyvibmz/app.bsky.feed.post/3lpcmjjgsbs2z\n",
      "Got event from at://did:plc:keduptqmmtdaimqwfke5lqbl/app.bsky.feed.post/3lpcmjkca7k2k\n",
      "Got event from at://did:plc:owvxj26ktrbs2rncigzwiwmd/app.bsky.feed.post/3lpcmjkfkns2u\n",
      "Got event from at://did:plc:o6ukdjgkjdybrbv335u5hopf/app.bsky.feed.post/3lpcmjjwagc24\n",
      "Got event from at://did:plc:imqddns54p3apkknilugnwik/app.bsky.feed.post/3lpcmjh5pg223\n",
      "Got event from at://did:plc:l7kzx6rponwvmycvrgqeuvqh/app.bsky.feed.post/3lpcmjlbddc2s\n",
      "Got event from at://did:plc:kars4wyzya7mu5h3pklc4mjj/app.bsky.feed.post/3lpcmjkaaqc2c\n",
      "Got event from at://did:plc:tqs6a6ocgreplhmtpwy3mxjy/app.bsky.feed.post/3lpcmjl5ahs2e\n",
      "Got event from at://did:plc:53k6z45dd2nh6dlxsj7vzsfz/app.bsky.feed.post/3lpcmjh3nyc2m\n",
      "Got event from at://did:plc:z5wpmzaz5fyrhrlns2cf3c6g/app.bsky.feed.post/3lpcmjfqwsc2s\n",
      "Got event from at://did:plc:uvhimbodmilpqvf6jf5ljw2j/app.bsky.feed.post/3lpcmjkebnc2h\n",
      "Got event from at://did:plc:yriarordesrjdj35d4uris74/app.bsky.feed.post/3lpcmjl5yv22g\n",
      "Got event from at://did:plc:cobf5tlphgujj3dyqpnb6h5s/app.bsky.feed.post/3lpcmjjlfqk25\n",
      "Got event from at://did:plc:h2mtex64fbplasfttc73ftao/app.bsky.feed.post/3lpcmjjaqwc2r\n",
      "Got event from at://did:plc:yw62tlq2or3eqdce6megyaws/app.bsky.feed.post/3lpcmjfl2d22a\n",
      "Got event from at://did:plc:4dcrzjbs42oexrfcstx7yffn/app.bsky.feed.post/3lpcmjkb5k42e\n",
      "Got event from at://did:plc:3py2w4f6dlhuvpqumy4tmaww/app.bsky.feed.post/3lpcmjliwik2l\n",
      "Got event from at://did:plc:55hgu6rzcfky7dmrgmntl37k/app.bsky.feed.post/3lpcmjk4i422s\n",
      "Got event from at://did:plc:tbovqsyhgq375oaf2ept77xq/app.bsky.feed.post/3lpcmjlcw4c2u\n",
      "Got event from at://did:plc:ody4p7rdiisvlgyy4x6hea6n/app.bsky.feed.post/3lpcmjkpqtc2r\n",
      "Got event from at://did:plc:rovqnpm2okptizmklvoqnhws/app.bsky.feed.post/3lpcmjhrxu22l\n",
      "Got event from at://did:plc:pqunpc5uuhq4e3qumvxvfgbr/app.bsky.feed.post/3lpcmjf2zms2g\n",
      "Got event from at://did:plc:h6knx3kaduhe7q3bx7l6oyei/app.bsky.feed.post/3lpcmjmv6j22i\n",
      "Got event from at://did:plc:i4cac6juagvsug6recwoz6kt/app.bsky.feed.post/3lpcmjlgoa22h\n",
      "Got event from at://did:plc:dmw5mpzo3xsnitq3mhu3wrzk/app.bsky.feed.post/3lpcmjk5jt22a\n"
     ]
    }
   ],
   "execution_count": 46
  },
  {
   "metadata": {},
   "cell_type": "markdown",
   "source": [
    "## Deduplication with Bloom Filter\n",
    "Redis Bloom Filter is a probabilistic data structure that allows us to check if an element is in a set. It's very memory efficient and has a constant time complexity for both insertion and lookup operations.\n"
   ]
  },
  {
   "metadata": {},
   "cell_type": "markdown",
   "source": [
    "### Creating a Bloom Filter\n",
    "This function creates a Bloom Filter with the given name. The filter is configured with an error rate of 0.01 and an initial capacity of 1,000,000 elements."
   ]
  },
  {
   "metadata": {
    "ExecuteTime": {
     "end_time": "2025-05-16T17:51:15.681470Z",
     "start_time": "2025-05-16T17:51:15.630719Z"
    }
   },
   "cell_type": "code",
   "source": [
    "import redis.clients.jedis.bloom.BFReserveParams\n",
    "import redis.clients.jedis.exceptions.JedisDataException\n",
    "fun createBloomFilter(name: String) {\n",
    "    runCatching {\n",
    "        jedis.bfReserve(name, 0.01, 1_000_000L, BFReserveParams().expansion(2))\n",
    "    }.onFailure {\n",
    "        println(\"Bloom filter already exists\")\n",
    "    }\n",
    "}"
   ],
   "outputs": [],
   "execution_count": 12
  },
  {
   "metadata": {},
   "cell_type": "markdown",
   "source": [
    "### Deduplication Handler\n",
    "This function creates a handler that checks if an event has already been processed by checking if its URI is in the Bloom Filter. If the URI is in the filter, the handler returns false, which stops the processing of the event.\n"
   ]
  },
  {
   "metadata": {
    "ExecuteTime": {
     "end_time": "2025-05-16T17:51:17.519969Z",
     "start_time": "2025-05-16T17:51:17.477998Z"
    }
   },
   "cell_type": "code",
   "source": [
    "fun deduplicate(bloomFilter: String): (Event) -> Pair<Boolean, String> {\n",
    "    return { event ->\n",
    "        if (jedis.bfExists(bloomFilter, event.uri)) {\n",
    "            Pair(false, \"${event.uri} already processed\")\n",
    "        } else {\n",
    "            Pair(true, \"OK\")\n",
    "        }\n",
    "    }\n",
    "}"
   ],
   "outputs": [],
   "execution_count": 13
  },
  {
   "metadata": {},
   "cell_type": "markdown",
   "source": [
    "### Atomic Acknowledgment and Bloom Filter Update\n",
    "This function creates a handler that acknowledges the message and adds the URI to the Bloom Filter in a single atomic transaction. This ensures that if the acknowledgment succeeds, the URI is also added to the filter, and vice versa.\n"
   ]
  },
  {
   "metadata": {
    "ExecuteTime": {
     "end_time": "2025-05-16T17:51:20.495159Z",
     "start_time": "2025-05-16T17:51:20.409889Z"
    }
   },
   "cell_type": "code",
   "source": [
    "import redis.clients.jedis.Connection\n",
    "import redis.clients.jedis.JedisPool\n",
    "import redis.clients.jedis.Transaction\n",
    "\n",
    "val jedisPool = JedisPool()\n",
    "\n",
    "fun ackAndBfFn(bloomFilter: String):  (String, String, StreamEntry) -> Unit = { streamName, consumerGroup, entry ->\n",
    "    jedisPool.resource.use { jedis ->\n",
    "        // Create a transaction\n",
    "        val multi = jedis.multi()\n",
    "\n",
    "        // Acknowledge the message\n",
    "        multi.xack(\n",
    "            streamName,\n",
    "            consumerGroup,\n",
    "            entry.id\n",
    "        )\n",
    "\n",
    "        // Add the URI to the bloom filter\n",
    "        multi.bfAdd(bloomFilter, Event.fromMap(entry).uri)\n",
    "\n",
    "        // Execute the transaction\n",
    "        multi.exec()\n",
    "    }\n",
    "}"
   ],
   "outputs": [],
   "execution_count": 14
  },
  {
   "metadata": {
    "ExecuteTime": {
     "end_time": "2025-05-16T17:51:22.321044Z",
     "start_time": "2025-05-16T17:51:22.295653Z"
    }
   },
   "cell_type": "code",
   "source": "createConsumerGroup(\"jetstream\", \"deduplicate-example\")",
   "outputs": [],
   "execution_count": 15
  },
  {
   "metadata": {
    "ExecuteTime": {
     "end_time": "2025-05-16T17:51:23.508300Z",
     "start_time": "2025-05-16T17:51:23.482431Z"
    }
   },
   "cell_type": "code",
   "source": [
    "val bloomFilterName = \"processed-uris\"\n",
    "createBloomFilter(\"processed-uris\")"
   ],
   "outputs": [],
   "execution_count": 16
  },
  {
   "metadata": {
    "ExecuteTime": {
     "end_time": "2025-05-16T18:07:17.642496Z",
     "start_time": "2025-05-16T18:07:17.007378Z"
    }
   },
   "cell_type": "code",
   "source": [
    "runBlocking {\n",
    "    consumeStream(\n",
    "        streamName = \"jetstream\",\n",
    "        consumerGroup = \"deduplicate-example\",\n",
    "        consumer = \"deduplicate-1\",\n",
    "        handlers = listOf(deduplicate(bloomFilterName), printUri),\n",
    "        ackFunction = ackAndBfFn(bloomFilterName),\n",
    "        count = 100,\n",
    "        limit = 100\n",
    "    )\n",
    "}"
   ],
   "outputs": [
    {
     "name": "stdout",
     "output_type": "stream",
     "text": [
      "deduplicate-1: Handler stopped processing: at://did:plc:3ymwxtmeesirvucb2degvdsl/app.bsky.feed.post/3lpcmgglvfc2p already processed\n",
      "deduplicate-1: Handler stopped processing: at://did:plc:wff7uo734vlav2j646kogbrj/app.bsky.feed.post/3lpcmghsguy2s already processed\n",
      "deduplicate-1: Handler stopped processing: at://did:plc:4kqyouk3lcaodrkdw5uphgty/app.bsky.feed.post/3lpcmghvyyv25 already processed\n",
      "deduplicate-1: Handler stopped processing: at://did:plc:j4fa3lo7pu5ckeh2fuc3fdgl/app.bsky.feed.post/3lpcmgi2jlc2x already processed\n",
      "deduplicate-1: Handler stopped processing: at://did:plc:rjn7np2j6ugqpvptlij2dbwl/app.bsky.feed.post/3lpcmgicu6k2t already processed\n",
      "deduplicate-1: Handler stopped processing: at://did:plc:ueg2lbj2tvpc2hs7xytw3tic/app.bsky.feed.post/3lpcmghsfss2j already processed\n",
      "deduplicate-1: Handler stopped processing: at://did:plc:5lya2736k5olysj2gkarysao/app.bsky.feed.post/3loyxxl2ccc25 already processed\n",
      "deduplicate-1: Handler stopped processing: at://did:plc:w4hpxq5o4dapo6ozvmhjqlav/app.bsky.feed.post/3lpcmgigxzc2w already processed\n",
      "deduplicate-1: Handler stopped processing: at://did:plc:pjfggsk6zp25bgoy5ich2xio/app.bsky.feed.post/3lpcmfgtrrc2t already processed\n",
      "deduplicate-1: Handler stopped processing: at://did:plc:n47xarga2ijdibgqa6swzply/app.bsky.feed.post/3lpcmgjfbqk2u already processed\n",
      "deduplicate-1: Handler stopped processing: at://did:plc:judc7jgvsqmnoe7ljfbfi2oq/app.bsky.feed.post/3lpcmghi6o22f already processed\n",
      "deduplicate-1: Handler stopped processing: at://did:plc:42kvq7or34iwpzkz2s4dczs6/app.bsky.feed.post/3lpcmgjutoh2d already processed\n",
      "deduplicate-1: Handler stopped processing: at://did:plc:d3d5z2lpzgy3ow2tgoiuz3m3/app.bsky.feed.post/3lpclnvcqlc2p already processed\n",
      "deduplicate-1: Handler stopped processing: at://did:plc:65u37bfanwf3nhuxcmnd4m67/app.bsky.feed.post/3lpcmgk6iy42w already processed\n",
      "deduplicate-1: Handler stopped processing: at://did:plc:jmjz7uxfuahewi3iyzwjo5gp/app.bsky.feed.post/3lpcmfusers2c already processed\n",
      "deduplicate-1: Handler stopped processing: at://did:plc:vslz2sx3t5rx4xlqjo3hti4m/app.bsky.feed.post/3lpcmikkm7k2k already processed\n",
      "deduplicate-1: Handler stopped processing: at://did:plc:m4j3edkiu3ip6ukzvvbkkpy4/app.bsky.feed.post/3lpcmikfpxk2x already processed\n",
      "deduplicate-1: Handler stopped processing: at://did:plc:lxmqtmmppzhtuip26bq2ogsy/app.bsky.feed.post/3lpcmikjow22f already processed\n",
      "deduplicate-1: Handler stopped processing: at://did:plc:5hgrdqpvsbinu2l34mudvrej/app.bsky.feed.post/3lpcmikilr224 already processed\n",
      "deduplicate-1: Handler stopped processing: at://did:plc:bhaeflj3qgxyieqemcahojkv/app.bsky.feed.post/3lpcmigtzc22k already processed\n",
      "deduplicate-1: Handler stopped processing: at://did:plc:sfh342xnaiqcf2n4pjqnzoda/app.bsky.feed.post/3lpcmiisn722g already processed\n",
      "deduplicate-1: Handler stopped processing: at://did:plc:4mrcy5zr52pyhyohwmrqz6il/app.bsky.feed.post/3lpcmifqnhc2i already processed\n",
      "deduplicate-1: Handler stopped processing: at://did:plc:osdmcnk7g4jv23sdxssjw6mt/app.bsky.feed.post/3lpcmikn6ak2n already processed\n",
      "deduplicate-1: Handler stopped processing: at://did:plc:kkbskzp6lwujf4kgcvjro72b/app.bsky.feed.post/3lpcmilbmk22s already processed\n",
      "deduplicate-1: Handler stopped processing: at://did:plc:o27g2kn6zuzd7z4du4mpkxcw/app.bsky.feed.post/3lpcmillxls2q already processed\n",
      "deduplicate-1: Handler stopped processing: at://did:plc:5o3lhllhsv2l6h5ptny4aypn/app.bsky.feed.post/3lpcmink2vk2d already processed\n",
      "deduplicate-1: Handler stopped processing: at://did:plc:zsefjvwf3wkcr7xpnl6e4qoc/app.bsky.feed.post/3lpcmin4r4k2r already processed\n",
      "deduplicate-1: Handler stopped processing: at://did:plc:2eexdpaaaz2ai3ymyigtceoj/app.bsky.feed.post/3lpcmikewl22n already processed\n",
      "deduplicate-1: Handler stopped processing: at://did:plc:sxrg6hajmathemvvxrmtehza/app.bsky.feed.post/3lpcmilafi22g already processed\n",
      "deduplicate-1: Handler stopped processing: at://did:plc:lqsjceg5yu7kcn6ntrsggav2/app.bsky.feed.post/3lpcmimkqvr2g already processed\n",
      "deduplicate-1: Handler stopped processing: at://did:plc:5zalsoao62fummhftdubxukd/app.bsky.feed.post/3lpcmikzzes2u already processed\n",
      "deduplicate-1: Handler stopped processing: at://did:plc:ykcwq4vwoeu7d3izdofjueyy/app.bsky.feed.post/3lpcmin4u2c2e already processed\n",
      "deduplicate-1: Handler stopped processing: at://did:plc:zqq3543ym2kfu4ewr3m3aehq/app.bsky.feed.post/3lpcminjyx22p already processed\n",
      "deduplicate-1: Handler stopped processing: at://did:plc:d3d5z2lpzgy3ow2tgoiuz3m3/app.bsky.feed.post/3lpcicbnzns2p already processed\n",
      "deduplicate-1: Handler stopped processing: at://did:plc:t72n4mmcxir2qpjjadm62zho/app.bsky.feed.post/3lpcminioxc2s already processed\n",
      "deduplicate-1: Handler stopped processing: at://did:plc:fd2qoe7a3ydbmzu576cyy4a7/app.bsky.feed.post/3lpcminrk5s2e already processed\n",
      "deduplicate-1: Handler stopped processing: at://did:plc:qkhtvcgqx2kj5jgtulydn4oa/app.bsky.feed.post/3lpcmiiwsyc2r already processed\n",
      "deduplicate-1: Handler stopped processing: at://did:plc:zcfw7c6kalmxifc5a22ydciu/app.bsky.feed.post/3lpcmio7pbs2v already processed\n",
      "deduplicate-1: Handler stopped processing: at://did:plc:s5dj64iboirjzjavsfb2ti4o/app.bsky.feed.post/3lpcmilmgak2g already processed\n",
      "deduplicate-1: Handler stopped processing: at://did:plc:fltrqy44rv6ldmp5uu7vkbym/app.bsky.feed.post/3lpcminw3o227 already processed\n",
      "deduplicate-1: Handler stopped processing: at://did:plc:sljoxhdkup55of7j6cq2utaj/app.bsky.feed.post/3lpcmicopo225 already processed\n",
      "deduplicate-1: Handler stopped processing: at://did:plc:a6l33kt5nxqcwgumrxhrgcss/app.bsky.feed.post/3lpcmioj7xs26 already processed\n",
      "deduplicate-1: Handler stopped processing: at://did:plc:u6vs6kr72oxgzac65sgmkcat/app.bsky.feed.post/3lpcmipc5t22a already processed\n",
      "deduplicate-1: Handler stopped processing: at://did:plc:i24kjswsljtypkh7qlmzwtfx/app.bsky.feed.post/3lpcminkqf22i already processed\n",
      "deduplicate-1: Handler stopped processing: at://did:plc:3pfk7mhmcwchu65q532n7dl2/app.bsky.feed.post/3lpcmilnx322p already processed\n",
      "deduplicate-1: Handler stopped processing: at://did:plc:qopche6525ueddh7tzrmc5jf/app.bsky.feed.post/3lpcmjhwfhc2i already processed\n",
      "deduplicate-1: Handler stopped processing: at://did:plc:ltfchhuquawmapyawrslme5i/app.bsky.feed.post/3lpcmjhqotk2s already processed\n",
      "deduplicate-1: Handler stopped processing: at://did:plc:6bqtm2qqk4zcfrmipsi4e5fa/app.bsky.feed.post/3lpcmjjjcec26 already processed\n",
      "deduplicate-1: Handler stopped processing: at://did:plc:porj77r6m7rff5ncp3tlxq43/app.bsky.feed.post/3lpcmjhhpq22h already processed\n",
      "deduplicate-1: Handler stopped processing: at://did:plc:zleoqrxntovpelab6x5auzke/app.bsky.feed.post/3lpcmjioqqs2q already processed\n",
      "deduplicate-1: Handler stopped processing: at://did:plc:mdalsqzm7ucmvk6zlsu5drkx/app.bsky.feed.post/3lpcmjkpjyk2f already processed\n",
      "deduplicate-1: Handler stopped processing: at://did:plc:u4xi3n3me25bdn4nu3obkzvt/app.bsky.feed.post/3lpcmjjttbk2s already processed\n",
      "deduplicate-1: Handler stopped processing: at://did:plc:szsiaihfd4tar373vzug5whq/app.bsky.feed.post/3lpcmjjo2pc2x already processed\n",
      "deduplicate-1: Handler stopped processing: at://did:plc:b4rmzrjzhzbs6wu2znpnbnmp/app.bsky.feed.post/3lpcmjk6kq22g already processed\n",
      "deduplicate-1: Handler stopped processing: at://did:plc:ormz52bv7npfs5t6y7j6zofg/app.bsky.feed.post/3lpcmamps2i22 already processed\n",
      "Got event from at://did:plc:rshibtcbcif6qukicpuktnm6/app.bsky.feed.post/3lpcmjjbbue2r\n",
      "Got event from at://did:plc:pipprryk6mati5657cv5y63v/app.bsky.feed.post/3lpcmjjxsa226\n",
      "Got event from at://did:plc:dblfhwwk4uqa7h7wnabt6rvz/app.bsky.feed.post/3lpcmjj3ylc2q\n",
      "Got event from at://did:plc:ormz52bv7npfs5t6y7j6zofg/app.bsky.feed.post/3lpcmjlbekq2i\n",
      "Got event from at://did:plc:ijgsaagcz2bkl7r7ti6vbqhs/app.bsky.feed.post/3lpcmjl2z6k2h\n",
      "Got event from at://did:plc:vmd4dpqyrdnelwztp4ia6rsj/app.bsky.feed.post/3lpcmjl2ogs2t\n",
      "Got event from at://did:plc:srjxh4v7qmms37dpmta7qpsb/app.bsky.feed.post/3lpcmjkvghs2t\n",
      "Got event from at://did:plc:dgxuyys5hitd4ylqtfv6ovkz/app.bsky.feed.post/3lpcmjj6nk227\n",
      "Got event from at://did:plc:i7hv4pgdrigkugpicigwc5b5/app.bsky.feed.post/3lpcmjkd2lc2l\n",
      "Got event from at://did:plc:m7ocnguaqzm24zpu3xhj4sbv/app.bsky.feed.post/3lpcmjicxsc2a\n",
      "Got event from at://did:plc:elczgtrs4jb47ofrirxbstsj/app.bsky.feed.post/3lpcmjk3s5s2x\n",
      "Got event from at://did:plc:r36iayybtxk4h62g3odx2am2/app.bsky.feed.post/3lpcmjkwhoc2h\n",
      "Got event from at://did:plc:fylbefkixk2tqmww672nocsf/app.bsky.feed.post/3lpcmjkncpc2x\n",
      "Got event from at://did:plc:nd5y5kt3wuqkrb5jxl5okbvg/app.bsky.feed.post/3lpcmjjigzc2c\n",
      "Got event from at://did:plc:bvlbxnnxl6u72i6e6wq34qgw/app.bsky.feed.post/3lpcmjm57vs2y\n",
      "Got event from at://did:plc:637frxi2d2uevr4ymtaxnxny/app.bsky.feed.post/3lpcmjjmmsk2l\n",
      "Got event from at://did:plc:mf53wnykhnftoqzgkzab2jbp/app.bsky.feed.post/3lpcmjkgezk2j\n",
      "Got event from at://did:plc:ezxdykz2xaefmqcnumyuhcdg/app.bsky.feed.post/3lpcmjkd63i26\n",
      "Got event from at://did:plc:n5fa7v3lcoq53hcdli5ll5au/app.bsky.feed.post/3lpcmjkbvav2x\n",
      "Got event from at://did:plc:kjfvm5qgugx34hpawslwtibm/app.bsky.feed.post/3lpcmjkzv2c2f\n",
      "Got event from at://did:plc:ebygtjiw3c5ycaxpaqyvibmz/app.bsky.feed.post/3lpcmjjgsbs2z\n",
      "Got event from at://did:plc:keduptqmmtdaimqwfke5lqbl/app.bsky.feed.post/3lpcmjkca7k2k\n",
      "Got event from at://did:plc:owvxj26ktrbs2rncigzwiwmd/app.bsky.feed.post/3lpcmjkfkns2u\n",
      "Got event from at://did:plc:o6ukdjgkjdybrbv335u5hopf/app.bsky.feed.post/3lpcmjjwagc24\n",
      "Got event from at://did:plc:imqddns54p3apkknilugnwik/app.bsky.feed.post/3lpcmjh5pg223\n",
      "Got event from at://did:plc:l7kzx6rponwvmycvrgqeuvqh/app.bsky.feed.post/3lpcmjlbddc2s\n",
      "Got event from at://did:plc:kars4wyzya7mu5h3pklc4mjj/app.bsky.feed.post/3lpcmjkaaqc2c\n",
      "Got event from at://did:plc:tqs6a6ocgreplhmtpwy3mxjy/app.bsky.feed.post/3lpcmjl5ahs2e\n",
      "Got event from at://did:plc:53k6z45dd2nh6dlxsj7vzsfz/app.bsky.feed.post/3lpcmjh3nyc2m\n",
      "Got event from at://did:plc:z5wpmzaz5fyrhrlns2cf3c6g/app.bsky.feed.post/3lpcmjfqwsc2s\n",
      "Got event from at://did:plc:uvhimbodmilpqvf6jf5ljw2j/app.bsky.feed.post/3lpcmjkebnc2h\n",
      "Got event from at://did:plc:yriarordesrjdj35d4uris74/app.bsky.feed.post/3lpcmjl5yv22g\n",
      "Got event from at://did:plc:cobf5tlphgujj3dyqpnb6h5s/app.bsky.feed.post/3lpcmjjlfqk25\n",
      "Got event from at://did:plc:h2mtex64fbplasfttc73ftao/app.bsky.feed.post/3lpcmjjaqwc2r\n",
      "Got event from at://did:plc:yw62tlq2or3eqdce6megyaws/app.bsky.feed.post/3lpcmjfl2d22a\n",
      "Got event from at://did:plc:4dcrzjbs42oexrfcstx7yffn/app.bsky.feed.post/3lpcmjkb5k42e\n",
      "Got event from at://did:plc:3py2w4f6dlhuvpqumy4tmaww/app.bsky.feed.post/3lpcmjliwik2l\n",
      "Got event from at://did:plc:55hgu6rzcfky7dmrgmntl37k/app.bsky.feed.post/3lpcmjk4i422s\n",
      "Got event from at://did:plc:tbovqsyhgq375oaf2ept77xq/app.bsky.feed.post/3lpcmjlcw4c2u\n",
      "Got event from at://did:plc:ody4p7rdiisvlgyy4x6hea6n/app.bsky.feed.post/3lpcmjkpqtc2r\n",
      "Got event from at://did:plc:rovqnpm2okptizmklvoqnhws/app.bsky.feed.post/3lpcmjhrxu22l\n",
      "Got event from at://did:plc:pqunpc5uuhq4e3qumvxvfgbr/app.bsky.feed.post/3lpcmjf2zms2g\n",
      "Got event from at://did:plc:h6knx3kaduhe7q3bx7l6oyei/app.bsky.feed.post/3lpcmjmv6j22i\n",
      "Got event from at://did:plc:i4cac6juagvsug6recwoz6kt/app.bsky.feed.post/3lpcmjlgoa22h\n",
      "Got event from at://did:plc:dmw5mpzo3xsnitq3mhu3wrzk/app.bsky.feed.post/3lpcmjk5jt22a\n"
     ]
    }
   ],
   "execution_count": 47
  },
  {
   "metadata": {},
   "cell_type": "markdown",
   "source": [
    "## Content-Based Filtering with Machine Learning\n",
    "In this section, we'll use a machine learning model to filter posts based on their content. We'll use a pre-trained zero-shot classification model to classify posts as software-related or not."
   ]
  },
  {
   "metadata": {},
   "cell_type": "markdown",
   "source": [
    "### Setting Up the Machine Learning Model\n",
    "To load the model, we'll use the DJL (Deep Java Library) library. DJL is a high-level framework for deep learning in Java that provides a simple and consistent API for loading and using models."
   ]
  },
  {
   "metadata": {
    "ExecuteTime": {
     "end_time": "2025-05-16T17:51:38.809045Z",
     "start_time": "2025-05-16T17:51:38.709350Z"
    }
   },
   "cell_type": "code",
   "source": [
    "@file:DependsOn(\"ai.djl.huggingface:tokenizers:0.33.0\")\n",
    "@file:DependsOn(\"ai.djl.pytorch:pytorch-engine:0.33.0\")\n",
    "@file:DependsOn(\"ai.djl:api:0.33.0\")\n",
    "@file:DependsOn(\"ai.djl:model-zoo:0.33.0\")"
   ],
   "outputs": [],
   "execution_count": 18
  },
  {
   "metadata": {},
   "cell_type": "markdown",
   "source": [
    "#### Creating the model translator\n",
    "A translator is responsible for converting the input text into a format that the model can understand, and converting the model's output back into a format that we can use.\n",
    "\n",
    "In this case, we'll create a custom translator for the zero-shot classification model."
   ]
  },
  {
   "metadata": {
    "ExecuteTime": {
     "end_time": "2025-05-16T17:51:40.932337Z",
     "start_time": "2025-05-16T17:51:40.576905Z"
    }
   },
   "cell_type": "code",
   "source": [
    "import ai.djl.Model\n",
    "import ai.djl.huggingface.tokenizers.Encoding\n",
    "import ai.djl.huggingface.tokenizers.HuggingFaceTokenizer\n",
    "import ai.djl.inference.Predictor\n",
    "import ai.djl.modality.nlp.translator.ZeroShotClassificationInput\n",
    "import ai.djl.modality.nlp.translator.ZeroShotClassificationOutput\n",
    "import ai.djl.ndarray.NDArray\n",
    "import ai.djl.ndarray.NDArrays\n",
    "import ai.djl.ndarray.NDList\n",
    "import ai.djl.ndarray.NDManager\n",
    "import ai.djl.translate.*\n",
    "import java.util.*\n",
    "\n",
    "class CustomZeroShotClassificationTranslator private constructor(\n",
    "    private val tokenizer: HuggingFaceTokenizer,\n",
    "    private val int32: Boolean\n",
    ") : NoBatchifyTranslator<ZeroShotClassificationInput, ZeroShotClassificationOutput> {\n",
    "\n",
    "    private lateinit var predictor: Predictor<NDList, NDList>\n",
    "\n",
    "    override fun prepare(ctx: TranslatorContext) {\n",
    "        val model: Model = ctx.model\n",
    "        predictor = model.newPredictor(NoopTranslator(null))\n",
    "        ctx.predictorManager.attachInternal(UUID.randomUUID().toString(), predictor)\n",
    "    }\n",
    "\n",
    "    override fun processInput(ctx: TranslatorContext, input: ZeroShotClassificationInput): NDList {\n",
    "        ctx.setAttachment(\"input\", input)\n",
    "        return NDList()\n",
    "    }\n",
    "\n",
    "    override fun processOutput(ctx: TranslatorContext, list: NDList): ZeroShotClassificationOutput {\n",
    "        val input = ctx.getAttachment(\"input\") as ZeroShotClassificationInput\n",
    "\n",
    "        val template = input.hypothesisTemplate\n",
    "        val candidates = input.candidates ?: throw TranslateException(\"Missing candidates in input\")\n",
    "\n",
    "        val manager: NDManager = ctx.ndManager\n",
    "        val output = NDList(candidates.size)\n",
    "\n",
    "        for (candidate in candidates) {\n",
    "            val hypothesis = applyTemplate(template, candidate)\n",
    "            val encoding: Encoding = tokenizer.encode(input.text, hypothesis)\n",
    "            val encoded = encoding.toNDList(manager, true, true)\n",
    "            val batch = Batchifier.STACK.batchify(arrayOf(encoded))\n",
    "            output.add(predictor.predict(batch)[0])\n",
    "        }\n",
    "\n",
    "        var logits: NDArray = NDArrays.concat(output)\n",
    "        logits = if (input.isMultiLabel) {\n",
    "            val entailmentId = 0\n",
    "            val contradictionId = 2\n",
    "            val scores = NDList()\n",
    "            for (i in 0 until output.size) {\n",
    "                val logits2 = output[i]\n",
    "                val pair = logits2.get(\":, {}\", manager.create(intArrayOf(contradictionId, entailmentId)))\n",
    "                val probs = pair.softmax(1)\n",
    "                val entailmentScore = probs.get(\":, 1\") // shape: [1]\n",
    "                scores.add(entailmentScore)\n",
    "            }\n",
    "             NDArrays.stack(scores).squeeze()\n",
    "        } else {\n",
    "            val entailmentId = 0\n",
    "            val entailLogits = logits.get(\":, $entailmentId\")\n",
    "            val exp = entailLogits.exp()\n",
    "            val sum = exp.sum()\n",
    "            exp.div(sum)\n",
    "        }\n",
    "\n",
    "        val indices = logits.argSort(-1, false).toLongArray()\n",
    "        val probabilities = logits.toFloatArray()\n",
    "\n",
    "        val labels = Array(candidates.size) { \"\" }\n",
    "        val scores = DoubleArray(candidates.size)\n",
    "\n",
    "        for (i in labels.indices) {\n",
    "            val index = indices[i].toInt()\n",
    "            labels[i] = candidates[index]\n",
    "            scores[i] = probabilities[index].toDouble()\n",
    "        }\n",
    "\n",
    "        return ZeroShotClassificationOutput(input.text, labels, scores)\n",
    "    }\n",
    "\n",
    "    private fun applyTemplate(template: String, arg: String): String {\n",
    "        val pos = template.indexOf(\"{}\")\n",
    "        return if (pos == -1) template + arg else template.substring(0, pos) + arg + template.substring(pos + 2)\n",
    "    }\n",
    "\n",
    "    companion object {\n",
    "        fun builder(tokenizer: HuggingFaceTokenizer): Builder = Builder(tokenizer)\n",
    "\n",
    "        fun builder(tokenizer: HuggingFaceTokenizer, arguments: MutableMap<String, *>): Builder =\n",
    "            builder(tokenizer).apply { configure(arguments) }\n",
    "    }\n",
    "\n",
    "    class Builder(private val tokenizer: HuggingFaceTokenizer) {\n",
    "        private var int32: Boolean = false\n",
    "\n",
    "        fun optInt32(int32: Boolean) = apply { this.int32 = int32 }\n",
    "\n",
    "        fun configure(arguments: MutableMap<String, *>) {\n",
    "            optInt32(ArgumentsUtil.booleanValue(arguments, \"int32\"))\n",
    "        }\n",
    "\n",
    "        fun build(): CustomZeroShotClassificationTranslator = CustomZeroShotClassificationTranslator(tokenizer, int32)\n",
    "    }\n",
    "}"
   ],
   "outputs": [],
   "execution_count": 19
  },
  {
   "metadata": {},
   "cell_type": "markdown",
   "source": [
    "### Creating the Model Criteria\n",
    "The criteria is used to load the model and create a predictor. The criteria specifies the model path, the engine to use (in this case, PyTorch), and the translator to use.\n"
   ]
  },
  {
   "metadata": {
    "ExecuteTime": {
     "end_time": "2025-05-16T17:51:49.356922Z",
     "start_time": "2025-05-16T17:51:44.948139Z"
    }
   },
   "cell_type": "code",
   "source": [
    "import ai.djl.huggingface.translator.ZeroShotClassificationTranslator\n",
    "import ai.djl.huggingface.translator.ZeroShotClassificationTranslatorFactory\n",
    "import ai.djl.modality.nlp.translator.ZeroShotClassificationInput\n",
    "import ai.djl.modality.nlp.translator.ZeroShotClassificationOutput\n",
    "import ai.djl.repository.zoo.Criteria\n",
    "import java.nio.file.Paths\n",
    "\n",
    "val tokenizer = HuggingFaceTokenizer.newInstance(Paths.get(\"/Users/raphaeldelio/Documents/GitHub/redis/kotlinconf-bluesky-bot/model/DeBERTa-v3-large-mnli-fever-anli-ling-wanli/tokenizer.json\"))\n",
    "\n",
    "val translator = CustomZeroShotClassificationTranslator.builder(tokenizer).build()\n",
    "\n",
    "val criteria: Criteria<ZeroShotClassificationInput, ZeroShotClassificationOutput> = Criteria.builder()\n",
    "    .setTypes(\n",
    "        ZeroShotClassificationInput::class.java,\n",
    "        ZeroShotClassificationOutput::class.java\n",
    "    )\n",
    "    .optModelPath(Paths.get(\"/Users/raphaeldelio/Documents/GitHub/redis/kotlinconf-bluesky-bot/model/DeBERTa-v3-large-mnli-fever-anli-ling-wanli\"))\n",
    "    .optEngine(\"PyTorch\")\n",
    "    .optTranslator(translator)\n",
    "    .build()\n"
   ],
   "outputs": [],
   "execution_count": 20
  },
  {
   "metadata": {},
   "cell_type": "markdown",
   "source": [
    "### Loading the Model\n",
    "Now we'll load the model and create a predictor. The predictor is used to make predictions with the model.\n"
   ]
  },
  {
   "metadata": {
    "ExecuteTime": {
     "end_time": "2025-05-16T17:51:52.278107Z",
     "start_time": "2025-05-16T17:51:51.478610Z"
    }
   },
   "cell_type": "code",
   "source": [
    "import ai.djl.repository.zoo.ModelZoo\n",
    "\n",
    "val model = ModelZoo.loadModel(criteria)\n",
    "val predictor = model.newPredictor()"
   ],
   "outputs": [],
   "execution_count": 21
  },
  {
   "metadata": {},
   "cell_type": "markdown",
   "source": [
    "### Creating a Classification Function\n",
    "Now we'll create a function to classify text using the model.\n",
    "\n",
    "The function takes a text as input and returns a classification output. The classification output contains the probabilities for each candidate label.\n"
   ]
  },
  {
   "metadata": {
    "ExecuteTime": {
     "end_time": "2025-05-16T17:51:53.854941Z",
     "start_time": "2025-05-16T17:51:53.821015Z"
    }
   },
   "cell_type": "code",
   "source": [
    "import ai.djl.modality.nlp.translator.ZeroShotClassificationOutput\n",
    "\n",
    "fun classify(premise: String): ZeroShotClassificationOutput {\n",
    "    val candidateLabels = listOf(\"Software Engineering\", \"Software Programming\")\n",
    "    val input = ZeroShotClassificationInput(premise, candidateLabels.toTypedArray(), true, \"{}\")\n",
    "    return predictor.predict(input)\n",
    "}"
   ],
   "outputs": [],
   "execution_count": 22
  },
  {
   "metadata": {},
   "cell_type": "markdown",
   "source": [
    "### Creating a Filter Handler\n",
    "Now we'll create a handler that filters events based on their content.\n",
    "\n",
    "The handler uses the classification function to determine if a post is software-related.\n",
    "\n",
    "If the post is not software-related, the handler returns false, which stops the processing of the event.\n"
   ]
  },
  {
   "metadata": {
    "ExecuteTime": {
     "end_time": "2025-05-16T17:51:55.941845Z",
     "start_time": "2025-05-16T17:51:55.883733Z"
    }
   },
   "cell_type": "code",
   "source": [
    "val filter: (Event) -> Pair<Boolean, String> = { event ->\n",
    "    if (event.text.isNotBlank() && event.operation != \"delete\") {\n",
    "        val classification = classify(event.text)\n",
    "        if (classification.scores.any { it > 0.90 }) {\n",
    "            Pair(true, \"OK\")\n",
    "        } else {\n",
    "            Pair(false, \"Not a post related to software\")\n",
    "        }\n",
    "    } else {\n",
    "        Pair(false, \"Text is null or empty\")\n",
    "    }\n",
    "}"
   ],
   "outputs": [],
   "execution_count": 23
  },
  {
   "metadata": {},
   "cell_type": "markdown",
   "source": [
    "## Storing Filtered Events\n",
    "In this section, we'll store the filtered events in Redis for further processing.\n"
   ]
  },
  {
   "metadata": {},
   "cell_type": "markdown",
   "source": [
    "### Converting Events to Maps\n",
    "First, we need a function to convert an Event object to a Map that can be stored in Redis as a Hash."
   ]
  },
  {
   "metadata": {
    "ExecuteTime": {
     "end_time": "2025-05-16T17:51:58.132587Z",
     "start_time": "2025-05-16T17:51:58.082471Z"
    }
   },
   "cell_type": "code",
   "source": [
    "fun Event.toMap() = mapOf(\n",
    "    \"did\" to this.did,\n",
    "    \"timeUs\" to this.timeUs,\n",
    "    \"text\" to this.text,\n",
    "    \"langs\" to this.langs.joinToString(\"|\"),\n",
    "    \"operation\" to this.operation,\n",
    "    \"rkey\" to this.rkey,\n",
    "    \"parentUri\" to this.parentUri,\n",
    "    \"rootUri\" to this.rootUri,\n",
    "    \"uri\" to this.uri\n",
    ")"
   ],
   "outputs": [],
   "execution_count": 24
  },
  {
   "metadata": {},
   "cell_type": "markdown",
   "source": [
    "### Storing Events in Redis\n",
    "Now we'll create a handler that stores events in Redis. The handler stores the event as a hash in Redis, with the key being the event's URI.\n"
   ]
  },
  {
   "metadata": {
    "ExecuteTime": {
     "end_time": "2025-05-16T17:52:00.168134Z",
     "start_time": "2025-05-16T17:52:00.135513Z"
    }
   },
   "cell_type": "code",
   "source": [
    "val storeEvent: (Event) -> Pair<Boolean, String> = { event ->\n",
    "    jedis.hset(\"post:\" + event.uri, event.toMap())\n",
    "    Pair(true, \"OK\")\n",
    "}"
   ],
   "outputs": [],
   "execution_count": 25
  },
  {
   "metadata": {},
   "cell_type": "markdown",
   "source": [
    "### Adding Filtered Events to a New Stream\n",
    "Finally, we'll create a handler that adds filtered events to a new stream. This allows other consumers to process only the filtered events, rather than having to filter the events themselves.\n"
   ]
  },
  {
   "metadata": {
    "ExecuteTime": {
     "end_time": "2025-05-16T17:52:02.248281Z",
     "start_time": "2025-05-16T17:52:02.206531Z"
    }
   },
   "cell_type": "code",
   "source": [
    "import redis.clients.jedis.params.XAddParams\n",
    "\n",
    "val addFilteredEventToStream: (Event) -> Pair<Boolean, String> = { event ->\n",
    "    jedis.xadd(\n",
    "        \"filtered-events\",\n",
    "        XAddParams.xAddParams()\n",
    "            .id(StreamEntryID.NEW_ENTRY)\n",
    "            .maxLen(1_000_000)\n",
    "            .exactTrimming(),\n",
    "        event.toMap()\n",
    "    )\n",
    "    Pair(true, \"OK\")\n",
    "}"
   ],
   "outputs": [],
   "execution_count": 26
  },
  {
   "metadata": {
    "ExecuteTime": {
     "end_time": "2025-05-16T17:52:04.114344Z",
     "start_time": "2025-05-16T17:52:04.092628Z"
    }
   },
   "cell_type": "code",
   "source": "createConsumerGroup(\"jetstream\", \"store-example\")",
   "outputs": [],
   "execution_count": 27
  },
  {
   "metadata": {
    "ExecuteTime": {
     "end_time": "2025-05-16T17:52:06.315425Z",
     "start_time": "2025-05-16T17:52:06.290805Z"
    }
   },
   "cell_type": "code",
   "source": [
    "val bloomFilterName = \"store-bf\"\n",
    "createBloomFilter(bloomFilterName)"
   ],
   "outputs": [],
   "execution_count": 28
  },
  {
   "metadata": {},
   "cell_type": "markdown",
   "source": [
    "## Putting It All Together\n",
    "Now we'll put all the pieces together to create a complete pipeline for filtering events from the Redis Stream.\n",
    "\n",
    "In this example we create two consumers that will process the same stream.\n",
    "- By doing that, we can scale the processing of the events by adding more consumers to the group.\n",
    "- Redis will make sure that each consumer will receive different messages.\n"
   ]
  },
  {
   "metadata": {
    "ExecuteTime": {
     "end_time": "2025-05-16T18:08:04.221111Z",
     "start_time": "2025-05-16T18:07:49.868133Z"
    }
   },
   "cell_type": "code",
   "source": [
    "runBlocking {\n",
    "        listOf(\n",
    "            async { // Use Dispatchers.IO outside Kotlin Notebooks - Kotlin Notebooks won't print whatever was printed to the console\n",
    "                consumeStream(\n",
    "                    streamName = \"jetstream\",\n",
    "                    consumerGroup = \"store-example\",\n",
    "                    consumer = \"store-1\",\n",
    "                    handlers = listOf(\n",
    "                        deduplicate(bloomFilterName),\n",
    "                        filter,\n",
    "                        printUri,\n",
    "                        storeEvent,\n",
    "                        addFilteredEventToStream\n",
    "                    ),\n",
    "                    ackFunction = ackAndBfFn(bloomFilterName),\n",
    "                    count = 50,\n",
    "                    limit = 50\n",
    "                )\n",
    "            },\n",
    "            async {\n",
    "                consumeStream(\n",
    "                    streamName = \"jetstream\",\n",
    "                    consumerGroup = \"store-example\",\n",
    "                    consumer = \"store-2\", // Different consumer\n",
    "                    handlers = listOf(\n",
    "                        deduplicate(bloomFilterName),\n",
    "                        filter,\n",
    "                        printUri,\n",
    "                        storeEvent,\n",
    "                        addFilteredEventToStream\n",
    "                    ),\n",
    "                    ackFunction = ackAndBfFn(bloomFilterName),\n",
    "                    count = 50,\n",
    "                    limit = 50\n",
    "                )\n",
    "            }\n",
    "        ).awaitAll()\n",
    "}"
   ],
   "outputs": [
    {
     "name": "stdout",
     "output_type": "stream",
     "text": [
      "store-1: Handler stopped processing: at://did:plc:rshibtcbcif6qukicpuktnm6/app.bsky.feed.post/3lpcmjjbbue2r already processed\n",
      "store-1: Handler stopped processing: at://did:plc:pipprryk6mati5657cv5y63v/app.bsky.feed.post/3lpcmjjxsa226 already processed\n",
      "store-1: Handler stopped processing: at://did:plc:dblfhwwk4uqa7h7wnabt6rvz/app.bsky.feed.post/3lpcmjj3ylc2q already processed\n",
      "store-1: Handler stopped processing: at://did:plc:ormz52bv7npfs5t6y7j6zofg/app.bsky.feed.post/3lpcmjlbekq2i already processed\n",
      "store-1: Handler stopped processing: at://did:plc:ijgsaagcz2bkl7r7ti6vbqhs/app.bsky.feed.post/3lpcmjl2z6k2h already processed\n",
      "store-1: Handler stopped processing: at://did:plc:vmd4dpqyrdnelwztp4ia6rsj/app.bsky.feed.post/3lpcmjl2ogs2t already processed\n",
      "store-1: Handler stopped processing: at://did:plc:srjxh4v7qmms37dpmta7qpsb/app.bsky.feed.post/3lpcmjkvghs2t already processed\n",
      "store-1: Handler stopped processing: at://did:plc:dgxuyys5hitd4ylqtfv6ovkz/app.bsky.feed.post/3lpcmjj6nk227 already processed\n",
      "store-1: Handler stopped processing: at://did:plc:i7hv4pgdrigkugpicigwc5b5/app.bsky.feed.post/3lpcmjkd2lc2l already processed\n",
      "store-1: Handler stopped processing: at://did:plc:m7ocnguaqzm24zpu3xhj4sbv/app.bsky.feed.post/3lpcmjicxsc2a already processed\n",
      "store-1: Handler stopped processing: at://did:plc:elczgtrs4jb47ofrirxbstsj/app.bsky.feed.post/3lpcmjk3s5s2x already processed\n",
      "store-1: Handler stopped processing: at://did:plc:r36iayybtxk4h62g3odx2am2/app.bsky.feed.post/3lpcmjkwhoc2h already processed\n",
      "store-1: Handler stopped processing: at://did:plc:fylbefkixk2tqmww672nocsf/app.bsky.feed.post/3lpcmjkncpc2x already processed\n",
      "store-1: Handler stopped processing: at://did:plc:nd5y5kt3wuqkrb5jxl5okbvg/app.bsky.feed.post/3lpcmjjigzc2c already processed\n",
      "store-1: Handler stopped processing: at://did:plc:bvlbxnnxl6u72i6e6wq34qgw/app.bsky.feed.post/3lpcmjm57vs2y already processed\n",
      "store-1: Handler stopped processing: at://did:plc:637frxi2d2uevr4ymtaxnxny/app.bsky.feed.post/3lpcmjjmmsk2l already processed\n",
      "store-1: Handler stopped processing: at://did:plc:mf53wnykhnftoqzgkzab2jbp/app.bsky.feed.post/3lpcmjkgezk2j already processed\n",
      "store-1: Handler stopped processing: at://did:plc:ezxdykz2xaefmqcnumyuhcdg/app.bsky.feed.post/3lpcmjkd63i26 already processed\n",
      "store-1: Handler stopped processing: at://did:plc:n5fa7v3lcoq53hcdli5ll5au/app.bsky.feed.post/3lpcmjkbvav2x already processed\n",
      "store-1: Handler stopped processing: at://did:plc:kjfvm5qgugx34hpawslwtibm/app.bsky.feed.post/3lpcmjkzv2c2f already processed\n",
      "store-1: Handler stopped processing: at://did:plc:ebygtjiw3c5ycaxpaqyvibmz/app.bsky.feed.post/3lpcmjjgsbs2z already processed\n",
      "store-1: Handler stopped processing: at://did:plc:keduptqmmtdaimqwfke5lqbl/app.bsky.feed.post/3lpcmjkca7k2k already processed\n",
      "store-1: Handler stopped processing: at://did:plc:owvxj26ktrbs2rncigzwiwmd/app.bsky.feed.post/3lpcmjkfkns2u already processed\n",
      "store-1: Handler stopped processing: at://did:plc:o6ukdjgkjdybrbv335u5hopf/app.bsky.feed.post/3lpcmjjwagc24 already processed\n",
      "store-1: Handler stopped processing: at://did:plc:imqddns54p3apkknilugnwik/app.bsky.feed.post/3lpcmjh5pg223 already processed\n",
      "store-1: Handler stopped processing: at://did:plc:l7kzx6rponwvmycvrgqeuvqh/app.bsky.feed.post/3lpcmjlbddc2s already processed\n",
      "store-1: Handler stopped processing: at://did:plc:kars4wyzya7mu5h3pklc4mjj/app.bsky.feed.post/3lpcmjkaaqc2c already processed\n",
      "store-1: Handler stopped processing: at://did:plc:tqs6a6ocgreplhmtpwy3mxjy/app.bsky.feed.post/3lpcmjl5ahs2e already processed\n",
      "store-1: Handler stopped processing: at://did:plc:53k6z45dd2nh6dlxsj7vzsfz/app.bsky.feed.post/3lpcmjh3nyc2m already processed\n",
      "store-1: Handler stopped processing: at://did:plc:z5wpmzaz5fyrhrlns2cf3c6g/app.bsky.feed.post/3lpcmjfqwsc2s already processed\n",
      "store-1: Handler stopped processing: at://did:plc:uvhimbodmilpqvf6jf5ljw2j/app.bsky.feed.post/3lpcmjkebnc2h already processed\n",
      "store-1: Handler stopped processing: at://did:plc:yriarordesrjdj35d4uris74/app.bsky.feed.post/3lpcmjl5yv22g already processed\n",
      "store-1: Handler stopped processing: at://did:plc:cobf5tlphgujj3dyqpnb6h5s/app.bsky.feed.post/3lpcmjjlfqk25 already processed\n",
      "store-1: Handler stopped processing: at://did:plc:h2mtex64fbplasfttc73ftao/app.bsky.feed.post/3lpcmjjaqwc2r already processed\n",
      "store-1: Handler stopped processing: at://did:plc:yw62tlq2or3eqdce6megyaws/app.bsky.feed.post/3lpcmjfl2d22a already processed\n",
      "store-1: Handler stopped processing: at://did:plc:4dcrzjbs42oexrfcstx7yffn/app.bsky.feed.post/3lpcmjkb5k42e already processed\n",
      "store-1: Handler stopped processing: at://did:plc:3py2w4f6dlhuvpqumy4tmaww/app.bsky.feed.post/3lpcmjliwik2l already processed\n",
      "store-1: Handler stopped processing: at://did:plc:55hgu6rzcfky7dmrgmntl37k/app.bsky.feed.post/3lpcmjk4i422s already processed\n",
      "store-1: Handler stopped processing: at://did:plc:tbovqsyhgq375oaf2ept77xq/app.bsky.feed.post/3lpcmjlcw4c2u already processed\n",
      "store-1: Handler stopped processing: at://did:plc:ody4p7rdiisvlgyy4x6hea6n/app.bsky.feed.post/3lpcmjkpqtc2r already processed\n",
      "store-1: Handler stopped processing: at://did:plc:rovqnpm2okptizmklvoqnhws/app.bsky.feed.post/3lpcmjhrxu22l already processed\n",
      "store-1: Handler stopped processing: at://did:plc:pqunpc5uuhq4e3qumvxvfgbr/app.bsky.feed.post/3lpcmjf2zms2g already processed\n",
      "store-1: Handler stopped processing: at://did:plc:h6knx3kaduhe7q3bx7l6oyei/app.bsky.feed.post/3lpcmjmv6j22i already processed\n",
      "store-1: Handler stopped processing: at://did:plc:i4cac6juagvsug6recwoz6kt/app.bsky.feed.post/3lpcmjlgoa22h already processed\n",
      "store-1: Handler stopped processing: at://did:plc:dmw5mpzo3xsnitq3mhu3wrzk/app.bsky.feed.post/3lpcmjk5jt22a already processed\n",
      "store-1: Handler stopped processing: Not a post related to software\n",
      "store-1: Handler stopped processing: Not a post related to software\n",
      "store-1: Handler stopped processing: Not a post related to software\n",
      "store-1: Handler stopped processing: Not a post related to software\n",
      "Got event from at://did:plc:djglyf5epph2tc44lnqsdvfi/app.bsky.feed.post/3lpcmm7wkrc2y\n",
      "store-2: Handler stopped processing: Not a post related to software\n",
      "store-2: Handler stopped processing: Not a post related to software\n",
      "store-2: Handler stopped processing: Not a post related to software\n",
      "store-2: Handler stopped processing: Not a post related to software\n",
      "store-2: Handler stopped processing: Not a post related to software\n",
      "store-2: Handler stopped processing: Text is null or empty\n",
      "store-2: Handler stopped processing: Not a post related to software\n",
      "Got event from at://did:plc:ug7ad2kiztx2jhpuw2w44sjz/app.bsky.feed.post/3lpcmm6hkqc27\n",
      "store-2: Handler stopped processing: Not a post related to software\n",
      "store-2: Handler stopped processing: Text is null or empty\n",
      "store-2: Handler stopped processing: Not a post related to software\n",
      "store-2: Handler stopped processing: Not a post related to software\n",
      "store-2: Handler stopped processing: Not a post related to software\n",
      "store-2: Handler stopped processing: Text is null or empty\n",
      "store-2: Handler stopped processing: Not a post related to software\n",
      "store-2: Handler stopped processing: Not a post related to software\n",
      "store-2: Handler stopped processing: Text is null or empty\n",
      "store-2: Handler stopped processing: Not a post related to software\n",
      "store-2: Handler stopped processing: Not a post related to software\n",
      "store-2: Handler stopped processing: Not a post related to software\n",
      "store-2: Handler stopped processing: Not a post related to software\n",
      "store-2: Handler stopped processing: Not a post related to software\n",
      "store-2: Handler stopped processing: Not a post related to software\n",
      "Got event from at://did:plc:ger7kxkktaqoa32b5lawevrb/app.bsky.feed.post/3lpcmlzriy22k\n",
      "store-2: Handler stopped processing: Not a post related to software\n",
      "store-2: Handler stopped processing: Not a post related to software\n",
      "store-2: Handler stopped processing: Not a post related to software\n",
      "store-2: Handler stopped processing: Not a post related to software\n",
      "store-2: Handler stopped processing: Not a post related to software\n",
      "store-2: Handler stopped processing: Not a post related to software\n",
      "store-2: Handler stopped processing: Text is null or empty\n",
      "store-2: Handler stopped processing: Not a post related to software\n",
      "store-2: Handler stopped processing: Not a post related to software\n",
      "store-2: Handler stopped processing: Not a post related to software\n",
      "store-2: Handler stopped processing: Not a post related to software\n",
      "store-2: Handler stopped processing: Not a post related to software\n",
      "store-2: Handler stopped processing: Not a post related to software\n",
      "store-2: Handler stopped processing: Not a post related to software\n",
      "store-2: Handler stopped processing: Not a post related to software\n",
      "store-2: Handler stopped processing: Not a post related to software\n",
      "store-2: Handler stopped processing: Not a post related to software\n",
      "store-2: Handler stopped processing: Text is null or empty\n",
      "store-2: Handler stopped processing: Not a post related to software\n",
      "store-2: Handler stopped processing: Not a post related to software\n",
      "store-2: Handler stopped processing: Not a post related to software\n",
      "store-2: Handler stopped processing: Not a post related to software\n",
      "store-2: Handler stopped processing: Not a post related to software\n",
      "store-2: Handler stopped processing: Not a post related to software\n",
      "store-2: Handler stopped processing: Not a post related to software\n",
      "store-2: Handler stopped processing: Not a post related to software\n"
     ]
    },
    {
     "data": {
      "text/plain": [
       "[kotlin.Unit, kotlin.Unit]"
      ]
     },
     "execution_count": 48,
     "metadata": {},
     "output_type": "execute_result"
    }
   ],
   "execution_count": 48
  },
  {
   "metadata": {},
   "cell_type": "markdown",
   "source": [
    "## Next Steps\n",
    "In the next notebook, we'll enrich the filtered events with additional information, such as topic modeling and embeddings for semantic search.\n"
   ]
  }
 ],
 "metadata": {
  "kernelspec": {
   "display_name": "Kotlin",
   "language": "kotlin",
   "name": "kotlin"
  },
  "language_info": {
   "name": "kotlin",
   "version": "1.9.23",
   "mimetype": "text/x-kotlin",
   "file_extension": ".kt",
   "pygments_lexer": "kotlin",
   "codemirror_mode": "text/x-kotlin",
   "nbconvert_exporter": ""
  },
  "ktnbPluginMetadata": {
   "projectLibraries": false
  }
 },
 "nbformat": 4,
 "nbformat_minor": 0
}
