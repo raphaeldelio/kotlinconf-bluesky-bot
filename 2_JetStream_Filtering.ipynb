{
 "cells": [
  {
   "metadata": {},
   "cell_type": "markdown",
   "source": "# Filtering JetStream Events"
  },
  {
   "metadata": {},
   "cell_type": "markdown",
   "source": [
    "In this notebook, we'll filter events from the Redis Stream that we created in the previous notebook. We'll use a combination of techniques to filter the events:\n",
    "\n",
    "1. Deduplication using Redis Bloom Filter to avoid processing the same event multiple times\n",
    "2. Content-based filtering using a machine learning model to identify software-related posts\n",
    "3. Storing filtered events in Redis for further processing\n",
    "\n",
    "Redis Bloom Filter is a probabilistic data structure that allows us to check if an element is in a set. It's very memory efficient and has a constant time complexity for both insertion and lookup operations. The trade-off is that it can have false positives, but the probability of false positives can be controlled by the size of the filter.\n",
    "\n",
    "Machine learning models can be used to classify text into different categories. In this notebook, we'll use a pre-trained zero-shot classification model to classify posts as software-related or not."
   ]
  },
  {
   "metadata": {},
   "cell_type": "markdown",
   "source": "## Consuming from Redis Streams"
  },
  {
   "metadata": {},
   "cell_type": "markdown",
   "source": [
    "### Model Redis Streams Event\n",
    "In this section, we'll define a data class to represent the events stored in the Redis Stream. This model will be used to deserialize the events from the stream."
   ]
  },
  {
   "metadata": {
    "ExecuteTime": {
     "end_time": "2025-05-18T11:39:42.039248Z",
     "start_time": "2025-05-18T11:39:41.755507Z"
    }
   },
   "cell_type": "code",
   "source": "@file:DependsOn(\"redis.clients:jedis:6.0.0\")",
   "outputs": [],
   "execution_count": 1
  },
  {
   "metadata": {
    "ExecuteTime": {
     "end_time": "2025-05-18T11:39:43.889185Z",
     "start_time": "2025-05-18T11:39:43.470265Z"
    }
   },
   "cell_type": "code",
   "source": [
    "import redis.clients.jedis.resps.StreamEntry\n",
    "\n",
    "data class Event(\n",
    "    val did: String,\n",
    "    val rkey: String,\n",
    "    val text: String,\n",
    "    val timeUs: String,\n",
    "    val operation: String,\n",
    "    val uri: String,\n",
    "    val parentUri: String,\n",
    "    val rootUri: String,\n",
    "    val langs: List<String>,\n",
    ") {\n",
    "    companion object {\n",
    "        fun fromMap(entry: StreamEntry): Event {\n",
    "            val fields = entry.fields\n",
    "            return Event(\n",
    "                did = fields[\"did\"] ?: \"\",\n",
    "                rkey = fields[\"rkey\"] ?: \"\",\n",
    "                text = fields[\"text\"] ?: \"\",\n",
    "                timeUs = fields[\"timeUs\"] ?: \"\",\n",
    "                operation = fields[\"operation\"] ?: \"\",\n",
    "                uri = fields[\"uri\"] ?: \"\",\n",
    "                parentUri = fields[\"parentUri\"] ?: \"\",\n",
    "                rootUri = fields[\"rootUri\"] ?: \"\",\n",
    "                langs = fields[\"langs\"]?.replace(\"[\", \"\")?.replace(\"]\", \"\")?.split(\", \") ?: emptyList()\n",
    "            )\n",
    "        }\n",
    "    }\n",
    "}"
   ],
   "outputs": [],
   "execution_count": 2
  },
  {
   "metadata": {},
   "cell_type": "markdown",
   "source": [
    "### Creating a Redis Client\n",
    "Create a Jedis client to connect to Redis. This is a reusable client that can be used to interact with Redis Streams."
   ]
  },
  {
   "metadata": {
    "ExecuteTime": {
     "end_time": "2025-05-18T11:39:46.037542Z",
     "start_time": "2025-05-18T11:39:45.875199Z"
    }
   },
   "cell_type": "code",
   "source": [
    "import redis.clients.jedis.JedisPooled\n",
    "\n",
    "val jedis = JedisPooled()"
   ],
   "outputs": [],
   "execution_count": 3
  },
  {
   "metadata": {},
   "cell_type": "markdown",
   "source": [
    "### Creating a Consumer Group\n",
    "Create a consumer group to read from the Redis Stream. A consumer group allows multiple consumers to read from the same stream without duplicating the work. Each consumer in the group will receive a different subset of the messages.\n",
    "\n",
    "A consumer group can be created in Redis with the XGROUP CREATE command:\n",
    "\n",
    "`XGROUP CREATE streamName groupName id [MKSTREAM]`\n",
    "\n",
    "To create a consumer group in this notebook, we will encapsulate the command in a function. The function will take the stream name and the group name as parameters."
   ]
  },
  {
   "metadata": {
    "ExecuteTime": {
     "end_time": "2025-05-18T11:39:47.595126Z",
     "start_time": "2025-05-18T11:39:47.518774Z"
    }
   },
   "cell_type": "code",
   "source": [
    "import redis.clients.jedis.StreamEntryID\n",
    "\n",
    "fun createConsumerGroup(streamName: String, consumerGroupName: String) {\n",
    "    try {\n",
    "        jedis.xgroupCreate(streamName, consumerGroupName, StreamEntryID(\"0-0\"), true)\n",
    "    } catch (e: Exception) {\n",
    "        println(\"Group already exists\")\n",
    "    }\n",
    "}"
   ],
   "outputs": [],
   "execution_count": 4
  },
  {
   "metadata": {
    "ExecuteTime": {
     "end_time": "2025-05-18T11:39:49.047752Z",
     "start_time": "2025-05-18T11:39:49.015965Z"
    }
   },
   "cell_type": "code",
   "source": "createConsumerGroup(\"jetstream\", \"printer-example\")",
   "outputs": [
    {
     "name": "stdout",
     "output_type": "stream",
     "text": [
      "Group already exists\n"
     ]
    }
   ],
   "execution_count": 5
  },
  {
   "metadata": {},
   "cell_type": "markdown",
   "source": [
    "### Reading from the Stream\n",
    "Create a reusable function to read from the stream. This function will read from the stream and return a list of entries. It uses the XREADGROUP command to read from the stream as part of a consumer group:\n",
    "\n",
    "`XREADGROUP GROUP groupName consumerName COUNT count BLOCK blockTime streamName id`\n",
    "\n",
    "The command will be encapsulated in a function that takes the stream name, consumer group name, consumer name, and count as parameters. The function will return a list of entries."
   ]
  },
  {
   "metadata": {
    "ExecuteTime": {
     "end_time": "2025-05-18T11:39:51.019692Z",
     "start_time": "2025-05-18T11:39:50.943363Z"
    }
   },
   "cell_type": "code",
   "source": [
    "import redis.clients.jedis.params.XReadGroupParams\n",
    "\n",
    "fun readFromStream(streamName: String, consumerGroup: String, consumer: String, count: Int): List<Map.Entry<String, List<StreamEntry>>> {\n",
    "    return jedis.xreadGroup(\n",
    "        consumerGroup,\n",
    "        consumer,\n",
    "        XReadGroupParams().count(count),\n",
    "        mapOf(\n",
    "            streamName to StreamEntryID.XREADGROUP_UNDELIVERED_ENTRY\n",
    "        )\n",
    "    ) ?: emptyList()\n",
    "}"
   ],
   "outputs": [],
   "execution_count": 6
  },
  {
   "metadata": {},
   "cell_type": "markdown",
   "source": [
    "### Acknowledging Messages\n",
    "Create a function to acknowledge the message. This is important to let Redis know that the message has been processed successfully, so it won't be delivered to other consumers in the group.\n",
    "\n",
    "This is done by using the XACK command:\n",
    "\n",
    "`XACK streamName groupName id`\n",
    "\n",
    "The command will be encapsulated in a lambda function that takes the stream name, consumer group name, and entry as parameters. The function will acknowledge the message by calling the XACK command."
   ]
  },
  {
   "metadata": {
    "ExecuteTime": {
     "end_time": "2025-05-18T11:39:53.061705Z",
     "start_time": "2025-05-18T11:39:53.008515Z"
    }
   },
   "cell_type": "code",
   "source": [
    "val ackFn: (String, String, StreamEntry) -> Unit = { streamName, consumerGroup, entry ->\n",
    "    jedis.xack(\n",
    "        streamName,\n",
    "        consumerGroup,\n",
    "        entry.id\n",
    "    )\n",
    "}"
   ],
   "outputs": [],
   "execution_count": 7
  },
  {
   "metadata": {},
   "cell_type": "markdown",
   "source": [
    "### Consuming the Stream\n",
    "Create a reusable function to consume the stream.\n",
    "\n",
    "This function implements a pipeline pattern where each event is processed sequentially by a series of handlers. If any handler returns false, the processing stops for that event.\n",
    "\n",
    "After processing the event, the function acknowledges the message using the ack function."
   ]
  },
  {
   "metadata": {
    "ExecuteTime": {
     "end_time": "2025-05-18T11:39:55.280928Z",
     "start_time": "2025-05-18T11:39:55.202530Z"
    }
   },
   "cell_type": "code",
   "source": "%use coroutines",
   "outputs": [],
   "execution_count": 8
  },
  {
   "metadata": {
    "ExecuteTime": {
     "end_time": "2025-05-18T11:39:57.356597Z",
     "start_time": "2025-05-18T11:39:57.185284Z"
    }
   },
   "cell_type": "code",
   "source": [
    "import kotlinx.coroutines.*\n",
    "\n",
    "fun consumeStream(\n",
    "    streamName: String,\n",
    "    consumerGroup: String,\n",
    "    consumer: String,\n",
    "    handlers: List<(Event) -> Pair<Boolean, String>>,\n",
    "    ackFunction: ((String, String, StreamEntry) -> Unit),\n",
    "    count: Int = 5,\n",
    "    limit: Int = 5\n",
    ") {\n",
    "    var lastMessageTime = System.currentTimeMillis()\n",
    "    var consumed = 0\n",
    "\n",
    "    while (consumed < limit) {\n",
    "        val entries = readFromStream(streamName, consumerGroup, consumer, count)\n",
    "        val allEntries = entries.flatMap { it.value }\n",
    "        allEntries.map { entry ->\n",
    "            consumed++\n",
    "            val event = Event.fromMap(entry)\n",
    "\n",
    "            for (handler in handlers) {\n",
    "                val (shouldContinue, message) = handler(event)\n",
    "                ackFunction(streamName, consumerGroup, entry)\n",
    "\n",
    "                if (!shouldContinue) {\n",
    "                    println(\"$consumer: Handler stopped processing: $message\")\n",
    "                    break\n",
    "                }\n",
    "            }\n",
    "        }\n",
    "\n",
    "        if (allEntries.isEmpty()) {\n",
    "            val now = System.currentTimeMillis()\n",
    "            if (now - lastMessageTime >= 2_000) {\n",
    "                println(\"$consumer: No new messages for 2 seconds. Stopping.\")\n",
    "                break\n",
    "            }\n",
    "        }\n",
    "    }\n",
    "\n",
    "}"
   ],
   "outputs": [],
   "execution_count": 9
  },
  {
   "metadata": {},
   "cell_type": "markdown",
   "source": "To test the consumeStream function, we'll create a simple handler that prints the event's URI."
  },
  {
   "metadata": {
    "ExecuteTime": {
     "end_time": "2025-05-18T11:40:01.381035Z",
     "start_time": "2025-05-18T11:40:01.345467Z"
    }
   },
   "cell_type": "code",
   "source": [
    "val printUri: (Event) -> Pair<Boolean, String> = {\n",
    "    println(\"Got event from ${it.uri}\")\n",
    "    Pair(true, \"OK\")\n",
    "}"
   ],
   "outputs": [],
   "execution_count": 10
  },
  {
   "metadata": {
    "ExecuteTime": {
     "end_time": "2025-05-18T11:40:03.064405Z",
     "start_time": "2025-05-18T11:40:02.928157Z"
    }
   },
   "cell_type": "code",
   "source": [
    "runBlocking {\n",
    "    consumeStream(\n",
    "        streamName = \"jetstream\",\n",
    "        consumerGroup = \"printer-example\",\n",
    "        consumer =\"printer-1\",\n",
    "        handlers = listOf(printUri),\n",
    "        ackFunction = ackFn,\n",
    "        count = 100,\n",
    "        limit = 100\n",
    "    )\n",
    "}"
   ],
   "outputs": [
    {
     "name": "stdout",
     "output_type": "stream",
     "text": [
      "Got event from at://did:plc:ngjazqaujbzjrsocyxx67eem/app.bsky.feed.post/3lpcmmotq6c25\n",
      "Got event from at://did:plc:mixjhsj4zl6rdffvp5mdq5o2/app.bsky.feed.post/3lpcmmolgkc26\n",
      "Got event from at://did:plc:24bb6w7mcqmhqgkltul54qr7/app.bsky.feed.post/3lpcmybbmff2x\n",
      "Got event from at://did:plc:6muicijp6abb3ixgqrs7fxys/app.bsky.feed.post/3lpcmmo5ty22l\n",
      "Got event from at://did:plc:hgg3xchrrqshx5p66zgq3zag/app.bsky.feed.post/3lpcmmp3qz225\n",
      "Got event from at://did:plc:th53netqebtfytb7rzgxnzzx/app.bsky.feed.post/3lpcmmnxul225\n",
      "Got event from at://did:plc:hdwa35ohaiummesytn6jtism/app.bsky.feed.post/3lpcmmoj6bs22\n",
      "Got event from at://did:plc:plzf4rkazaqeoybqjmkkq7vt/app.bsky.feed.post/3lpcmmodvdk2d\n",
      "Got event from at://did:plc:av5r7ru27e3emms5d52bzylb/app.bsky.feed.post/3lpcmmhct6s2s\n",
      "Got event from at://did:plc:j3qds4grvc6qj6ggdj2lwefc/app.bsky.feed.post/3lpcmmosm222f\n",
      "Got event from at://did:plc:lkyxq5kwm7kjbavyi55o6a44/app.bsky.feed.post/3lpcmmp2kwc2k\n",
      "Got event from at://did:plc:huadcq5v7mlilvq5kqjtfp2h/app.bsky.feed.post/3lpcmmoxr3c22\n",
      "Got event from at://did:plc:hs6vjkggrdllggtrc4jduako/app.bsky.feed.post/3lpcmmol4rs2a\n",
      "Got event from at://did:plc:qwvhhwe4hlde7kijbkcpwzyx/app.bsky.feed.post/3lpcmmobebs2k\n",
      "Got event from at://did:plc:astxvoa5eyvh42xsb4u7yq4s/app.bsky.feed.post/3lpcmmomxes2s\n",
      "Got event from at://did:plc:cwhp5ev4dhfytnrlefptihju/app.bsky.feed.post/3lpcmmdnfes2m\n",
      "Got event from at://did:plc:iir4x2l7wt4m7l3tntb5j4xr/app.bsky.feed.post/3lpcmmoxszs25\n",
      "Got event from at://did:plc:u4ma73ixrc6sp7kluvhdmabc/app.bsky.feed.post/3lpcmmnrrb22i\n",
      "Got event from at://did:plc:5uv42nnfpjf7tenrd4d725ci/app.bsky.feed.post/3lpcmmrfhfs2c\n",
      "Got event from at://did:plc:2nuaz7x652n657zielxph3hl/app.bsky.feed.post/3lpcmmokq3k2o\n",
      "Got event from at://did:plc:b7txvl6bthoqyfl56knbulfv/app.bsky.feed.post/3lpcmmjrdv22b\n",
      "Got event from at://did:plc:o2sgbctrahac4ou6m5auvxrf/app.bsky.feed.post/3lpcmmotraj2d\n",
      "Got event from at://did:plc:mexd5ylk2prfg2mvl22z2k7v/app.bsky.feed.post/3lpcmmotyxk27\n",
      "Got event from at://did:plc:2gakajttktxw72dgohov2c35/app.bsky.feed.post/3lpcmmpp2722m\n",
      "Got event from at://did:plc:n6bxp7lemkb3pw7wr7kywrd4/app.bsky.feed.post/3lpcmmp6xkc2y\n",
      "Got event from at://did:plc:bquiax4gpurrput5l7zyzofs/app.bsky.feed.post/3lpcmmpafh22l\n",
      "Got event from at://did:plc:mois7nrumuki2gsywxmeefp6/app.bsky.feed.post/3lpcmmlsdxk2y\n",
      "Got event from at://did:plc:iva7zvkwmtdclltuir224b52/app.bsky.feed.post/3lpcmmoazk22q\n",
      "Got event from at://did:plc:3y2kv72vlqlyvz2si6h2kskd/app.bsky.feed.post/3lpcmmot7l22n\n",
      "Got event from at://did:plc:jj4zricda5aynktmzms5zmiq/app.bsky.feed.post/3lpcmmp3k6c2h\n",
      "Got event from at://did:plc:lhaz4gssyhfbj2qh3o4v7cue/app.bsky.feed.post/3lpcmmpxydc27\n",
      "Got event from at://did:plc:6si2ut4nlkaxjaysgv4bft2p/app.bsky.feed.post/3lpcmmpb7ss2r\n",
      "Got event from at://did:plc:oldfkwjcpc5bkvbmoe3yx3ll/app.bsky.feed.post/3lpcmmmuti22y\n",
      "Got event from at://did:plc:a5xbkkja5zhwtawgn2rb5fgt/app.bsky.feed.post/3lpcmmmuhr22m\n",
      "Got event from at://did:plc:a5xbkkja5zhwtawgn2rb5fgt/app.bsky.feed.post/3lpcmmoop222m\n",
      "Got event from at://did:plc:a5xbkkja5zhwtawgn2rb5fgt/app.bsky.feed.post/3lpcmmoopzc2m\n",
      "Got event from at://did:plc:tqg6pmckactar6v67mma5dpn/app.bsky.feed.post/3lpcmmp5vek2f\n",
      "Got event from at://did:plc:a5xbkkja5zhwtawgn2rb5fgt/app.bsky.feed.post/3lpcmmoopzd2m\n",
      "Got event from at://did:plc:pmbzl4xcveunvma4szhxkyls/app.bsky.feed.post/3lpcmmplgxk2y\n",
      "Got event from at://did:plc:s3z55fsmtpveoikvphnf5xm5/app.bsky.feed.post/3lpcmmpfcoc2f\n",
      "Got event from at://did:plc:kztn3wd3n45j3l4yr6dz6isl/app.bsky.feed.post/3lpcmmoeyik2r\n",
      "Got event from at://did:plc:di7ijthonusvnq7wjueyjwsg/app.bsky.feed.post/3lpcmmp2lvk2n\n",
      "Got event from at://did:plc:qjzpsn6okz2ntdkxj4hejbma/app.bsky.feed.post/3leakcgg6be2k\n",
      "Got event from at://did:plc:iuhdyl3dws3ibsxyclelqd3b/app.bsky.feed.post/3lpcmmokp4c25\n",
      "Got event from at://did:plc:qzivd77aswgcjodpvniidezp/app.bsky.feed.post/3lpcmmpk5x22j\n",
      "Got event from at://did:plc:z73xdurb4xwz6p5jftvntbxn/app.bsky.feed.post/3lpcmmp3yt22k\n",
      "Got event from at://did:plc:h3pgflznf2ilqp3b3goqr22c/app.bsky.feed.post/3lpcmmpkbu22u\n",
      "Got event from at://did:plc:haewobdl75y3toi6wlucylcm/app.bsky.feed.post/3lpcmmp4clk22\n",
      "Got event from at://did:plc:gx3h4ytknmulihsh6tvfazqs/app.bsky.feed.post/3lpcmmpsrdk2j\n",
      "Got event from at://did:plc:teoqzkmgyvgky2doashdewvn/app.bsky.feed.post/3lpcmmmxu5s2c\n",
      "Got event from at://did:plc:kff7w35yim2p3lw5bm2z6sp4/app.bsky.feed.post/3lpcpjlaoec25\n",
      "Got event from at://did:plc:f7sxk3egxmx6afmomsprwshd/app.bsky.feed.post/3lpcpjmwmwc27\n",
      "Got event from at://did:plc:jovm6cqvbpcoi7j6xntpzol2/app.bsky.feed.post/3lpcpjmyv6s25\n",
      "Got event from at://did:plc:4yydgaxx2ih4jmgq3gmpgbsr/app.bsky.feed.post/3lpcpjnbrbu2e\n",
      "Got event from at://did:plc:pzyhqbmj72gx4nxejeve4na7/app.bsky.feed.post/3lpcpjmaun22g\n",
      "Got event from at://did:plc:bhirl2heb3lns2tb5zu3dp2l/app.bsky.feed.post/3lpcpjm42cb27\n",
      "Got event from at://did:plc:zh5gusz7auqvlqqi5bkopuoz/app.bsky.feed.post/3lpcpjmpw3c2c\n",
      "Got event from at://did:plc:bmkf2nyxwjfdvpoprhf2npby/app.bsky.feed.post/3lpcpjktfkk2f\n",
      "Got event from at://did:plc:bmkf2nyxwjfdvpoprhf2npby/app.bsky.feed.post/3lpcpjmm7w22f\n",
      "Got event from at://did:plc:bmkf2nyxwjfdvpoprhf2npby/app.bsky.feed.post/3lpcpjmm7w32f\n",
      "Got event from at://did:plc:knsszrujdducsne2yxvzqhph/app.bsky.feed.post/3lpcpjih73c2d\n",
      "Got event from at://did:plc:uz25iphthlgzk5zso23namcr/app.bsky.feed.post/3lpcpjn6uls2f\n",
      "Got event from at://did:plc:ql2unqx6hbjdnqrhf5trclnt/app.bsky.feed.post/3lpcpjmbpy22v\n",
      "Got event from at://did:plc:p5zvxryi6gzsj43tvj3ohnde/app.bsky.feed.post/3lpcpjkoo6s2p\n",
      "Got event from at://did:plc:mwagtmvsxuqlgte5iqk3fndm/app.bsky.feed.post/3lpcpjlylyc25\n",
      "Got event from at://did:plc:blx6k756blshrfbotxfvzir7/app.bsky.feed.post/3lpcpj3yvxk27\n",
      "Got event from at://did:plc:x5h6z2npauo7fxe64bhfppb5/app.bsky.feed.post/3lpcpjmynes2m\n",
      "Got event from at://did:plc:2u2pm233grjynuf4je3s7khm/app.bsky.feed.post/3lpcpjn55vs2r\n",
      "Got event from at://did:plc:a4emkkudkxcs6usjivusx7yp/app.bsky.feed.post/3lpcpjmwwos2s\n",
      "Got event from at://did:plc:6yvxtdhsoiyrnefzqkxf6qzw/app.bsky.feed.post/3lpcpjnem6s2a\n",
      "Got event from at://did:plc:oesvahobuk5gengxe6xmlkfk/app.bsky.feed.post/3lpcpjnc53k2m\n",
      "Got event from at://did:plc:wjtujnb3vnjv6dqpdhnpngq6/app.bsky.feed.post/3lpcpjnaxy227\n",
      "Got event from at://did:plc:hkjwwmlasf4ghlp7wctfe5b3/app.bsky.feed.post/3lpcpjmkeds2b\n",
      "Got event from at://did:plc:lr5lxm6krz6tizi6lath3mkv/app.bsky.feed.post/3lpcpjmggek2e\n",
      "Got event from at://did:plc:laz35ruhzgb4cs43cklqkrgx/app.bsky.feed.post/3lpcpjljwb22u\n",
      "Got event from at://did:plc:lm67xvg6hydng3wq6k3ee54e/app.bsky.feed.post/3lpcpjn4obs2w\n",
      "Got event from at://did:plc:chiwijy2rkuwywtvhdcwnf47/app.bsky.feed.post/3lpcpjkyatc2h\n",
      "Got event from at://did:plc:bucg2dsfr66ecm7kc3bmepwv/app.bsky.feed.post/3lpcpjnice223\n",
      "Got event from at://did:plc:mheyyubkgjqfdjvar55oi4lb/app.bsky.feed.post/3lpcpjmz7wk2c\n",
      "Got event from at://did:plc:t5ozhwxo6gwsfnr7w4x7aezz/app.bsky.feed.post/3lpcpjngsis25\n",
      "Got event from at://did:plc:evbqafjhrtjcwaditpkkgv3y/app.bsky.feed.post/3lpcpjkjzqs2q\n",
      "Got event from at://did:plc:oyuznsw7ttrttuoqs7kis2ii/app.bsky.feed.post/3lpcpjmmvfk2h\n",
      "Got event from at://did:plc:dtotpsbzu46ubnov6sda3zri/app.bsky.feed.post/3lpcpjnbhm22j\n",
      "Got event from at://did:plc:5r2353vtg36igl7cuqkz3qit/app.bsky.feed.post/3lpcpjneibs2s\n",
      "Got event from at://did:plc:zjgagv2rqpoolmzt6si4uwpy/app.bsky.feed.post/3lpcpjfgo7m24\n",
      "Got event from at://did:plc:6i4uy6bx5ewu6stvluifncl7/app.bsky.feed.post/3lpcpjknzok2x\n",
      "Got event from at://did:plc:hm3ga5fnrfscyyiyp5schedm/app.bsky.feed.post/3lpcpjnngg22s\n",
      "Got event from at://did:plc:cohgrf3zixtf34eo4s6wonlf/app.bsky.feed.post/3lpcpjkyho22t\n",
      "Got event from at://did:plc:3ds4crdlki7huixkp3sof5rd/app.bsky.feed.post/3lpcpjn2gym2p\n",
      "Got event from at://did:plc:7on4nwytxlicvxun3asa5byq/app.bsky.feed.post/3lpcpjlk72c2b\n",
      "Got event from at://did:plc:hnqve7ixu4dnfqgn3llqz2df/app.bsky.feed.post/3lpcpjhwc2s25\n",
      "Got event from at://did:plc:mrikunpo6wgc2nz4rghpv7hp/app.bsky.feed.post/3lpcpjpaxtc2n\n",
      "Got event from at://did:plc:w4qgf6vg4zvdopbk22g7g6vu/app.bsky.feed.post/3lpcpjni2k22c\n",
      "Got event from at://did:plc:n5opb5yxx2anwqq6ehwwlsuv/app.bsky.feed.post/3lpcpjnbxa223\n",
      "Got event from at://did:plc:7zejomx3pt67lxtphvnjb7mi/app.bsky.feed.post/3lpcpjmqdqs2s\n",
      "Got event from at://did:plc:iq53r7wy5im4guqyllizeh2f/app.bsky.feed.post/3lpcpjmwpu22f\n",
      "Got event from at://did:plc:6wrwmmegxrm3pv4meuh6vfor/app.bsky.feed.post/3lpcpjnpzgc23\n",
      "Got event from at://did:plc:wjrodmaxiipewnw76u643tem/app.bsky.feed.post/3lpcpjn2f222v\n",
      "Got event from at://did:plc:5mr4ze7mheukiaejjipmjqw3/app.bsky.feed.post/3lpcpghttp552\n",
      "Got event from at://did:plc:rp3f3dbyjpumryfixzx5jtao/app.bsky.feed.post/3lpcpjjhn6226\n"
     ]
    }
   ],
   "execution_count": 11
  },
  {
   "metadata": {},
   "cell_type": "markdown",
   "source": [
    "## Deduplication with Bloom Filter\n",
    "Redis Bloom Filter is a probabilistic data structure that allows us to check if an element is in a set. It's very memory efficient and has a constant time complexity for both insertion and lookup operations.\n"
   ]
  },
  {
   "metadata": {},
   "cell_type": "markdown",
   "source": [
    "### Creating a Bloom Filter\n",
    "This function creates a Bloom Filter with the given name. The filter is configured with an error rate of 0.01 and an initial capacity of 1,000,000 elements."
   ]
  },
  {
   "metadata": {
    "ExecuteTime": {
     "end_time": "2025-05-18T11:40:23.606494Z",
     "start_time": "2025-05-18T11:40:23.548916Z"
    }
   },
   "cell_type": "code",
   "source": [
    "import redis.clients.jedis.bloom.BFReserveParams\n",
    "import redis.clients.jedis.exceptions.JedisDataException\n",
    "fun createBloomFilter(name: String) {\n",
    "    runCatching {\n",
    "        jedis.bfReserve(name, 0.01, 1_000_000L, BFReserveParams().expansion(2))\n",
    "    }.onFailure {\n",
    "        println(\"Bloom filter already exists\")\n",
    "    }\n",
    "}"
   ],
   "outputs": [],
   "execution_count": 12
  },
  {
   "metadata": {},
   "cell_type": "markdown",
   "source": [
    "### Deduplication Handler\n",
    "This function creates a handler that checks if an event has already been processed by checking if its URI is in the Bloom Filter. If the URI is in the filter, the handler returns false, which stops the processing of the event.\n"
   ]
  },
  {
   "metadata": {
    "ExecuteTime": {
     "end_time": "2025-05-18T11:40:25.232939Z",
     "start_time": "2025-05-18T11:40:25.195721Z"
    }
   },
   "cell_type": "code",
   "source": [
    "fun deduplicate(bloomFilter: String): (Event) -> Pair<Boolean, String> {\n",
    "    return { event ->\n",
    "        if (jedis.bfExists(bloomFilter, event.uri)) {\n",
    "            Pair(false, \"${event.uri} already processed\")\n",
    "        } else {\n",
    "            Pair(true, \"OK\")\n",
    "        }\n",
    "    }\n",
    "}"
   ],
   "outputs": [],
   "execution_count": 13
  },
  {
   "metadata": {},
   "cell_type": "markdown",
   "source": [
    "### Atomic Acknowledgment and Bloom Filter Update\n",
    "This function creates a handler that acknowledges the message and adds the URI to the Bloom Filter in a single atomic transaction. This ensures that if the acknowledgment succeeds, the URI is also added to the filter, and vice versa.\n"
   ]
  },
  {
   "metadata": {
    "ExecuteTime": {
     "end_time": "2025-05-18T11:40:27.108097Z",
     "start_time": "2025-05-18T11:40:27.021543Z"
    }
   },
   "cell_type": "code",
   "source": [
    "import redis.clients.jedis.Connection\n",
    "import redis.clients.jedis.JedisPool\n",
    "import redis.clients.jedis.Transaction\n",
    "\n",
    "val jedisPool = JedisPool()\n",
    "\n",
    "fun ackAndBfFn(bloomFilter: String):  (String, String, StreamEntry) -> Unit = { streamName, consumerGroup, entry ->\n",
    "    jedisPool.resource.use { jedis ->\n",
    "        // Create a transaction\n",
    "        val multi = jedis.multi()\n",
    "\n",
    "        // Acknowledge the message\n",
    "        multi.xack(\n",
    "            streamName,\n",
    "            consumerGroup,\n",
    "            entry.id\n",
    "        )\n",
    "\n",
    "        // Add the URI to the bloom filter\n",
    "        multi.bfAdd(bloomFilter, Event.fromMap(entry).uri)\n",
    "\n",
    "        // Execute the transaction\n",
    "        multi.exec()\n",
    "    }\n",
    "}"
   ],
   "outputs": [],
   "execution_count": 14
  },
  {
   "metadata": {
    "ExecuteTime": {
     "end_time": "2025-05-18T11:40:28.809135Z",
     "start_time": "2025-05-18T11:40:28.785841Z"
    }
   },
   "cell_type": "code",
   "source": "createConsumerGroup(\"jetstream\", \"deduplicate-example\")",
   "outputs": [
    {
     "name": "stdout",
     "output_type": "stream",
     "text": [
      "Group already exists\n"
     ]
    }
   ],
   "execution_count": 15
  },
  {
   "metadata": {
    "ExecuteTime": {
     "end_time": "2025-05-18T11:40:30.288040Z",
     "start_time": "2025-05-18T11:40:30.259671Z"
    }
   },
   "cell_type": "code",
   "source": [
    "val bloomFilterName = \"processed-uris\"\n",
    "createBloomFilter(\"processed-uris\")"
   ],
   "outputs": [
    {
     "name": "stdout",
     "output_type": "stream",
     "text": [
      "Bloom filter already exists\n"
     ]
    }
   ],
   "execution_count": 16
  },
  {
   "metadata": {
    "ExecuteTime": {
     "end_time": "2025-05-18T11:40:32.194426Z",
     "start_time": "2025-05-18T11:40:31.963633Z"
    }
   },
   "cell_type": "code",
   "source": [
    "runBlocking {\n",
    "    consumeStream(\n",
    "        streamName = \"jetstream\",\n",
    "        consumerGroup = \"deduplicate-example\",\n",
    "        consumer = \"deduplicate-1\",\n",
    "        handlers = listOf(deduplicate(bloomFilterName), printUri),\n",
    "        ackFunction = ackAndBfFn(bloomFilterName),\n",
    "        count = 100,\n",
    "        limit = 100\n",
    "    )\n",
    "}"
   ],
   "outputs": [
    {
     "name": "stdout",
     "output_type": "stream",
     "text": [
      "Got event from at://did:plc:ngjazqaujbzjrsocyxx67eem/app.bsky.feed.post/3lpcmmotq6c25\n",
      "Got event from at://did:plc:mixjhsj4zl6rdffvp5mdq5o2/app.bsky.feed.post/3lpcmmolgkc26\n",
      "Got event from at://did:plc:24bb6w7mcqmhqgkltul54qr7/app.bsky.feed.post/3lpcmybbmff2x\n",
      "Got event from at://did:plc:6muicijp6abb3ixgqrs7fxys/app.bsky.feed.post/3lpcmmo5ty22l\n",
      "Got event from at://did:plc:hgg3xchrrqshx5p66zgq3zag/app.bsky.feed.post/3lpcmmp3qz225\n",
      "Got event from at://did:plc:th53netqebtfytb7rzgxnzzx/app.bsky.feed.post/3lpcmmnxul225\n",
      "Got event from at://did:plc:hdwa35ohaiummesytn6jtism/app.bsky.feed.post/3lpcmmoj6bs22\n",
      "Got event from at://did:plc:plzf4rkazaqeoybqjmkkq7vt/app.bsky.feed.post/3lpcmmodvdk2d\n",
      "Got event from at://did:plc:av5r7ru27e3emms5d52bzylb/app.bsky.feed.post/3lpcmmhct6s2s\n",
      "Got event from at://did:plc:j3qds4grvc6qj6ggdj2lwefc/app.bsky.feed.post/3lpcmmosm222f\n",
      "Got event from at://did:plc:lkyxq5kwm7kjbavyi55o6a44/app.bsky.feed.post/3lpcmmp2kwc2k\n",
      "Got event from at://did:plc:huadcq5v7mlilvq5kqjtfp2h/app.bsky.feed.post/3lpcmmoxr3c22\n",
      "Got event from at://did:plc:hs6vjkggrdllggtrc4jduako/app.bsky.feed.post/3lpcmmol4rs2a\n",
      "Got event from at://did:plc:qwvhhwe4hlde7kijbkcpwzyx/app.bsky.feed.post/3lpcmmobebs2k\n",
      "Got event from at://did:plc:astxvoa5eyvh42xsb4u7yq4s/app.bsky.feed.post/3lpcmmomxes2s\n",
      "Got event from at://did:plc:cwhp5ev4dhfytnrlefptihju/app.bsky.feed.post/3lpcmmdnfes2m\n",
      "Got event from at://did:plc:iir4x2l7wt4m7l3tntb5j4xr/app.bsky.feed.post/3lpcmmoxszs25\n",
      "Got event from at://did:plc:u4ma73ixrc6sp7kluvhdmabc/app.bsky.feed.post/3lpcmmnrrb22i\n",
      "Got event from at://did:plc:5uv42nnfpjf7tenrd4d725ci/app.bsky.feed.post/3lpcmmrfhfs2c\n",
      "Got event from at://did:plc:2nuaz7x652n657zielxph3hl/app.bsky.feed.post/3lpcmmokq3k2o\n",
      "Got event from at://did:plc:b7txvl6bthoqyfl56knbulfv/app.bsky.feed.post/3lpcmmjrdv22b\n",
      "Got event from at://did:plc:o2sgbctrahac4ou6m5auvxrf/app.bsky.feed.post/3lpcmmotraj2d\n",
      "Got event from at://did:plc:mexd5ylk2prfg2mvl22z2k7v/app.bsky.feed.post/3lpcmmotyxk27\n",
      "Got event from at://did:plc:2gakajttktxw72dgohov2c35/app.bsky.feed.post/3lpcmmpp2722m\n",
      "Got event from at://did:plc:n6bxp7lemkb3pw7wr7kywrd4/app.bsky.feed.post/3lpcmmp6xkc2y\n",
      "Got event from at://did:plc:bquiax4gpurrput5l7zyzofs/app.bsky.feed.post/3lpcmmpafh22l\n",
      "Got event from at://did:plc:mois7nrumuki2gsywxmeefp6/app.bsky.feed.post/3lpcmmlsdxk2y\n",
      "Got event from at://did:plc:iva7zvkwmtdclltuir224b52/app.bsky.feed.post/3lpcmmoazk22q\n",
      "Got event from at://did:plc:3y2kv72vlqlyvz2si6h2kskd/app.bsky.feed.post/3lpcmmot7l22n\n",
      "Got event from at://did:plc:jj4zricda5aynktmzms5zmiq/app.bsky.feed.post/3lpcmmp3k6c2h\n",
      "Got event from at://did:plc:lhaz4gssyhfbj2qh3o4v7cue/app.bsky.feed.post/3lpcmmpxydc27\n",
      "Got event from at://did:plc:6si2ut4nlkaxjaysgv4bft2p/app.bsky.feed.post/3lpcmmpb7ss2r\n",
      "Got event from at://did:plc:oldfkwjcpc5bkvbmoe3yx3ll/app.bsky.feed.post/3lpcmmmuti22y\n",
      "Got event from at://did:plc:a5xbkkja5zhwtawgn2rb5fgt/app.bsky.feed.post/3lpcmmmuhr22m\n",
      "Got event from at://did:plc:a5xbkkja5zhwtawgn2rb5fgt/app.bsky.feed.post/3lpcmmoop222m\n",
      "Got event from at://did:plc:a5xbkkja5zhwtawgn2rb5fgt/app.bsky.feed.post/3lpcmmoopzc2m\n",
      "Got event from at://did:plc:tqg6pmckactar6v67mma5dpn/app.bsky.feed.post/3lpcmmp5vek2f\n",
      "Got event from at://did:plc:a5xbkkja5zhwtawgn2rb5fgt/app.bsky.feed.post/3lpcmmoopzd2m\n",
      "Got event from at://did:plc:pmbzl4xcveunvma4szhxkyls/app.bsky.feed.post/3lpcmmplgxk2y\n",
      "Got event from at://did:plc:s3z55fsmtpveoikvphnf5xm5/app.bsky.feed.post/3lpcmmpfcoc2f\n",
      "Got event from at://did:plc:kztn3wd3n45j3l4yr6dz6isl/app.bsky.feed.post/3lpcmmoeyik2r\n",
      "Got event from at://did:plc:di7ijthonusvnq7wjueyjwsg/app.bsky.feed.post/3lpcmmp2lvk2n\n",
      "Got event from at://did:plc:qjzpsn6okz2ntdkxj4hejbma/app.bsky.feed.post/3leakcgg6be2k\n",
      "Got event from at://did:plc:iuhdyl3dws3ibsxyclelqd3b/app.bsky.feed.post/3lpcmmokp4c25\n",
      "Got event from at://did:plc:qzivd77aswgcjodpvniidezp/app.bsky.feed.post/3lpcmmpk5x22j\n",
      "Got event from at://did:plc:z73xdurb4xwz6p5jftvntbxn/app.bsky.feed.post/3lpcmmp3yt22k\n",
      "Got event from at://did:plc:h3pgflznf2ilqp3b3goqr22c/app.bsky.feed.post/3lpcmmpkbu22u\n",
      "Got event from at://did:plc:haewobdl75y3toi6wlucylcm/app.bsky.feed.post/3lpcmmp4clk22\n",
      "Got event from at://did:plc:gx3h4ytknmulihsh6tvfazqs/app.bsky.feed.post/3lpcmmpsrdk2j\n",
      "Got event from at://did:plc:teoqzkmgyvgky2doashdewvn/app.bsky.feed.post/3lpcmmmxu5s2c\n",
      "Got event from at://did:plc:kff7w35yim2p3lw5bm2z6sp4/app.bsky.feed.post/3lpcpjlaoec25\n",
      "Got event from at://did:plc:f7sxk3egxmx6afmomsprwshd/app.bsky.feed.post/3lpcpjmwmwc27\n",
      "Got event from at://did:plc:jovm6cqvbpcoi7j6xntpzol2/app.bsky.feed.post/3lpcpjmyv6s25\n",
      "Got event from at://did:plc:4yydgaxx2ih4jmgq3gmpgbsr/app.bsky.feed.post/3lpcpjnbrbu2e\n",
      "Got event from at://did:plc:pzyhqbmj72gx4nxejeve4na7/app.bsky.feed.post/3lpcpjmaun22g\n",
      "Got event from at://did:plc:bhirl2heb3lns2tb5zu3dp2l/app.bsky.feed.post/3lpcpjm42cb27\n",
      "Got event from at://did:plc:zh5gusz7auqvlqqi5bkopuoz/app.bsky.feed.post/3lpcpjmpw3c2c\n",
      "Got event from at://did:plc:bmkf2nyxwjfdvpoprhf2npby/app.bsky.feed.post/3lpcpjktfkk2f\n",
      "Got event from at://did:plc:bmkf2nyxwjfdvpoprhf2npby/app.bsky.feed.post/3lpcpjmm7w22f\n",
      "Got event from at://did:plc:bmkf2nyxwjfdvpoprhf2npby/app.bsky.feed.post/3lpcpjmm7w32f\n",
      "Got event from at://did:plc:knsszrujdducsne2yxvzqhph/app.bsky.feed.post/3lpcpjih73c2d\n",
      "Got event from at://did:plc:uz25iphthlgzk5zso23namcr/app.bsky.feed.post/3lpcpjn6uls2f\n",
      "Got event from at://did:plc:ql2unqx6hbjdnqrhf5trclnt/app.bsky.feed.post/3lpcpjmbpy22v\n",
      "Got event from at://did:plc:p5zvxryi6gzsj43tvj3ohnde/app.bsky.feed.post/3lpcpjkoo6s2p\n",
      "Got event from at://did:plc:mwagtmvsxuqlgte5iqk3fndm/app.bsky.feed.post/3lpcpjlylyc25\n",
      "Got event from at://did:plc:blx6k756blshrfbotxfvzir7/app.bsky.feed.post/3lpcpj3yvxk27\n",
      "Got event from at://did:plc:x5h6z2npauo7fxe64bhfppb5/app.bsky.feed.post/3lpcpjmynes2m\n",
      "Got event from at://did:plc:2u2pm233grjynuf4je3s7khm/app.bsky.feed.post/3lpcpjn55vs2r\n",
      "Got event from at://did:plc:a4emkkudkxcs6usjivusx7yp/app.bsky.feed.post/3lpcpjmwwos2s\n",
      "Got event from at://did:plc:6yvxtdhsoiyrnefzqkxf6qzw/app.bsky.feed.post/3lpcpjnem6s2a\n",
      "Got event from at://did:plc:oesvahobuk5gengxe6xmlkfk/app.bsky.feed.post/3lpcpjnc53k2m\n",
      "Got event from at://did:plc:wjtujnb3vnjv6dqpdhnpngq6/app.bsky.feed.post/3lpcpjnaxy227\n",
      "Got event from at://did:plc:hkjwwmlasf4ghlp7wctfe5b3/app.bsky.feed.post/3lpcpjmkeds2b\n",
      "Got event from at://did:plc:lr5lxm6krz6tizi6lath3mkv/app.bsky.feed.post/3lpcpjmggek2e\n",
      "Got event from at://did:plc:laz35ruhzgb4cs43cklqkrgx/app.bsky.feed.post/3lpcpjljwb22u\n",
      "Got event from at://did:plc:lm67xvg6hydng3wq6k3ee54e/app.bsky.feed.post/3lpcpjn4obs2w\n",
      "Got event from at://did:plc:chiwijy2rkuwywtvhdcwnf47/app.bsky.feed.post/3lpcpjkyatc2h\n",
      "Got event from at://did:plc:bucg2dsfr66ecm7kc3bmepwv/app.bsky.feed.post/3lpcpjnice223\n",
      "Got event from at://did:plc:mheyyubkgjqfdjvar55oi4lb/app.bsky.feed.post/3lpcpjmz7wk2c\n",
      "Got event from at://did:plc:t5ozhwxo6gwsfnr7w4x7aezz/app.bsky.feed.post/3lpcpjngsis25\n",
      "Got event from at://did:plc:evbqafjhrtjcwaditpkkgv3y/app.bsky.feed.post/3lpcpjkjzqs2q\n",
      "Got event from at://did:plc:oyuznsw7ttrttuoqs7kis2ii/app.bsky.feed.post/3lpcpjmmvfk2h\n",
      "Got event from at://did:plc:dtotpsbzu46ubnov6sda3zri/app.bsky.feed.post/3lpcpjnbhm22j\n",
      "Got event from at://did:plc:5r2353vtg36igl7cuqkz3qit/app.bsky.feed.post/3lpcpjneibs2s\n",
      "Got event from at://did:plc:zjgagv2rqpoolmzt6si4uwpy/app.bsky.feed.post/3lpcpjfgo7m24\n",
      "Got event from at://did:plc:6i4uy6bx5ewu6stvluifncl7/app.bsky.feed.post/3lpcpjknzok2x\n",
      "Got event from at://did:plc:hm3ga5fnrfscyyiyp5schedm/app.bsky.feed.post/3lpcpjnngg22s\n",
      "Got event from at://did:plc:cohgrf3zixtf34eo4s6wonlf/app.bsky.feed.post/3lpcpjkyho22t\n",
      "Got event from at://did:plc:3ds4crdlki7huixkp3sof5rd/app.bsky.feed.post/3lpcpjn2gym2p\n",
      "Got event from at://did:plc:7on4nwytxlicvxun3asa5byq/app.bsky.feed.post/3lpcpjlk72c2b\n",
      "Got event from at://did:plc:hnqve7ixu4dnfqgn3llqz2df/app.bsky.feed.post/3lpcpjhwc2s25\n",
      "Got event from at://did:plc:mrikunpo6wgc2nz4rghpv7hp/app.bsky.feed.post/3lpcpjpaxtc2n\n",
      "Got event from at://did:plc:w4qgf6vg4zvdopbk22g7g6vu/app.bsky.feed.post/3lpcpjni2k22c\n",
      "Got event from at://did:plc:n5opb5yxx2anwqq6ehwwlsuv/app.bsky.feed.post/3lpcpjnbxa223\n",
      "Got event from at://did:plc:7zejomx3pt67lxtphvnjb7mi/app.bsky.feed.post/3lpcpjmqdqs2s\n",
      "Got event from at://did:plc:iq53r7wy5im4guqyllizeh2f/app.bsky.feed.post/3lpcpjmwpu22f\n",
      "Got event from at://did:plc:6wrwmmegxrm3pv4meuh6vfor/app.bsky.feed.post/3lpcpjnpzgc23\n",
      "Got event from at://did:plc:wjrodmaxiipewnw76u643tem/app.bsky.feed.post/3lpcpjn2f222v\n",
      "Got event from at://did:plc:5mr4ze7mheukiaejjipmjqw3/app.bsky.feed.post/3lpcpghttp552\n",
      "Got event from at://did:plc:rp3f3dbyjpumryfixzx5jtao/app.bsky.feed.post/3lpcpjjhn6226\n"
     ]
    }
   ],
   "execution_count": 17
  },
  {
   "metadata": {},
   "cell_type": "markdown",
   "source": [
    "## Content-Based Filtering with Machine Learning\n",
    "In this section, we'll use a machine learning model to filter posts based on their content. We'll use a pre-trained zero-shot classification model to classify posts as software-related or not."
   ]
  },
  {
   "metadata": {},
   "cell_type": "markdown",
   "source": [
    "### Setting Up the Machine Learning Model\n",
    "To load the model, we'll use the DJL (Deep Java Library) library. DJL is a high-level framework for deep learning in Java that provides a simple and consistent API for loading and using models."
   ]
  },
  {
   "metadata": {
    "ExecuteTime": {
     "end_time": "2025-05-18T11:40:41.402840Z",
     "start_time": "2025-05-18T11:40:41.309260Z"
    }
   },
   "cell_type": "code",
   "source": [
    "@file:DependsOn(\"ai.djl.huggingface:tokenizers:0.33.0\")\n",
    "@file:DependsOn(\"ai.djl.pytorch:pytorch-engine:0.33.0\")\n",
    "@file:DependsOn(\"ai.djl:api:0.33.0\")\n",
    "@file:DependsOn(\"ai.djl:model-zoo:0.33.0\")"
   ],
   "outputs": [],
   "execution_count": 18
  },
  {
   "metadata": {},
   "cell_type": "markdown",
   "source": [
    "#### Creating the model translator\n",
    "A translator is responsible for converting the input text into a format that the model can understand, and converting the model's output back into a format that we can use.\n",
    "\n",
    "In this case, we'll create a custom translator for the zero-shot classification model."
   ]
  },
  {
   "metadata": {
    "ExecuteTime": {
     "end_time": "2025-05-18T11:40:43.587765Z",
     "start_time": "2025-05-18T11:40:43.218805Z"
    }
   },
   "cell_type": "code",
   "source": [
    "import ai.djl.Model\n",
    "import ai.djl.huggingface.tokenizers.Encoding\n",
    "import ai.djl.huggingface.tokenizers.HuggingFaceTokenizer\n",
    "import ai.djl.inference.Predictor\n",
    "import ai.djl.modality.nlp.translator.ZeroShotClassificationInput\n",
    "import ai.djl.modality.nlp.translator.ZeroShotClassificationOutput\n",
    "import ai.djl.ndarray.NDArray\n",
    "import ai.djl.ndarray.NDArrays\n",
    "import ai.djl.ndarray.NDList\n",
    "import ai.djl.ndarray.NDManager\n",
    "import ai.djl.translate.*\n",
    "import java.util.*\n",
    "\n",
    "class CustomZeroShotClassificationTranslator private constructor(\n",
    "    private val tokenizer: HuggingFaceTokenizer,\n",
    "    private val int32: Boolean\n",
    ") : NoBatchifyTranslator<ZeroShotClassificationInput, ZeroShotClassificationOutput> {\n",
    "\n",
    "    private lateinit var predictor: Predictor<NDList, NDList>\n",
    "\n",
    "    override fun prepare(ctx: TranslatorContext) {\n",
    "        val model: Model = ctx.model\n",
    "        predictor = model.newPredictor(NoopTranslator(null))\n",
    "        ctx.predictorManager.attachInternal(UUID.randomUUID().toString(), predictor)\n",
    "    }\n",
    "\n",
    "    override fun processInput(ctx: TranslatorContext, input: ZeroShotClassificationInput): NDList {\n",
    "        ctx.setAttachment(\"input\", input)\n",
    "        return NDList()\n",
    "    }\n",
    "\n",
    "    override fun processOutput(ctx: TranslatorContext, list: NDList): ZeroShotClassificationOutput {\n",
    "        val input = ctx.getAttachment(\"input\") as ZeroShotClassificationInput\n",
    "\n",
    "        val template = input.hypothesisTemplate\n",
    "        val candidates = input.candidates ?: throw TranslateException(\"Missing candidates in input\")\n",
    "\n",
    "        val manager: NDManager = ctx.ndManager\n",
    "        val output = NDList(candidates.size)\n",
    "\n",
    "        for (candidate in candidates) {\n",
    "            val hypothesis = applyTemplate(template, candidate)\n",
    "            val encoding: Encoding = tokenizer.encode(input.text, hypothesis)\n",
    "            val encoded = encoding.toNDList(manager, true, true)\n",
    "            val batch = Batchifier.STACK.batchify(arrayOf(encoded))\n",
    "            output.add(predictor.predict(batch)[0])\n",
    "        }\n",
    "\n",
    "        var logits: NDArray = NDArrays.concat(output)\n",
    "        logits = if (input.isMultiLabel) {\n",
    "            val entailmentId = 0\n",
    "            val contradictionId = 2\n",
    "            val scores = NDList()\n",
    "            for (i in 0 until output.size) {\n",
    "                val logits2 = output[i]\n",
    "                val pair = logits2.get(\":, {}\", manager.create(intArrayOf(contradictionId, entailmentId)))\n",
    "                val probs = pair.softmax(1)\n",
    "                val entailmentScore = probs.get(\":, 1\") // shape: [1]\n",
    "                scores.add(entailmentScore)\n",
    "            }\n",
    "             NDArrays.stack(scores).squeeze()\n",
    "        } else {\n",
    "            val entailmentId = 0\n",
    "            val entailLogits = logits.get(\":, $entailmentId\")\n",
    "            val exp = entailLogits.exp()\n",
    "            val sum = exp.sum()\n",
    "            exp.div(sum)\n",
    "        }\n",
    "\n",
    "        val indices = logits.argSort(-1, false).toLongArray()\n",
    "        val probabilities = logits.toFloatArray()\n",
    "\n",
    "        val labels = Array(candidates.size) { \"\" }\n",
    "        val scores = DoubleArray(candidates.size)\n",
    "\n",
    "        for (i in labels.indices) {\n",
    "            val index = indices[i].toInt()\n",
    "            labels[i] = candidates[index]\n",
    "            scores[i] = probabilities[index].toDouble()\n",
    "        }\n",
    "\n",
    "        return ZeroShotClassificationOutput(input.text, labels, scores)\n",
    "    }\n",
    "\n",
    "    private fun applyTemplate(template: String, arg: String): String {\n",
    "        val pos = template.indexOf(\"{}\")\n",
    "        return if (pos == -1) template + arg else template.substring(0, pos) + arg + template.substring(pos + 2)\n",
    "    }\n",
    "\n",
    "    companion object {\n",
    "        fun builder(tokenizer: HuggingFaceTokenizer): Builder = Builder(tokenizer)\n",
    "\n",
    "        fun builder(tokenizer: HuggingFaceTokenizer, arguments: MutableMap<String, *>): Builder =\n",
    "            builder(tokenizer).apply { configure(arguments) }\n",
    "    }\n",
    "\n",
    "    class Builder(private val tokenizer: HuggingFaceTokenizer) {\n",
    "        private var int32: Boolean = false\n",
    "\n",
    "        fun optInt32(int32: Boolean) = apply { this.int32 = int32 }\n",
    "\n",
    "        fun configure(arguments: MutableMap<String, *>) {\n",
    "            optInt32(ArgumentsUtil.booleanValue(arguments, \"int32\"))\n",
    "        }\n",
    "\n",
    "        fun build(): CustomZeroShotClassificationTranslator = CustomZeroShotClassificationTranslator(tokenizer, int32)\n",
    "    }\n",
    "}"
   ],
   "outputs": [],
   "execution_count": 19
  },
  {
   "metadata": {},
   "cell_type": "markdown",
   "source": [
    "### Creating the Model Criteria\n",
    "The criteria is used to load the model and create a predictor. The criteria specifies the model path, the engine to use (in this case, PyTorch), and the translator to use.\n"
   ]
  },
  {
   "metadata": {
    "ExecuteTime": {
     "end_time": "2025-05-18T11:40:47.194041Z",
     "start_time": "2025-05-18T11:40:46.858846Z"
    }
   },
   "cell_type": "code",
   "source": [
    "import ai.djl.huggingface.translator.ZeroShotClassificationTranslator\n",
    "import ai.djl.huggingface.translator.ZeroShotClassificationTranslatorFactory\n",
    "import ai.djl.modality.nlp.translator.ZeroShotClassificationInput\n",
    "import ai.djl.modality.nlp.translator.ZeroShotClassificationOutput\n",
    "import ai.djl.repository.zoo.Criteria\n",
    "import java.nio.file.Paths\n",
    "\n",
    "val tokenizer = HuggingFaceTokenizer.newInstance(Paths.get(\"/Users/raphaeldelio/Documents/GitHub/redis/kotlinconf-bluesky-bot/model/DeBERTa-v3-large-mnli-fever-anli-ling-wanli/tokenizer.json\"))\n",
    "\n",
    "val translator = CustomZeroShotClassificationTranslator.builder(tokenizer).build()\n",
    "\n",
    "val criteria: Criteria<ZeroShotClassificationInput, ZeroShotClassificationOutput> = Criteria.builder()\n",
    "    .setTypes(\n",
    "        ZeroShotClassificationInput::class.java,\n",
    "        ZeroShotClassificationOutput::class.java\n",
    "    )\n",
    "    .optModelPath(Paths.get(\"/Users/raphaeldelio/Documents/GitHub/redis/kotlinconf-bluesky-bot/model/DeBERTa-v3-large-mnli-fever-anli-ling-wanli\"))\n",
    "    .optEngine(\"PyTorch\")\n",
    "    .optTranslator(translator)\n",
    "    .build()\n"
   ],
   "outputs": [],
   "execution_count": 20
  },
  {
   "metadata": {},
   "cell_type": "markdown",
   "source": [
    "### Loading the Model\n",
    "Now we'll load the model and create a predictor. The predictor is used to make predictions with the model.\n"
   ]
  },
  {
   "metadata": {
    "ExecuteTime": {
     "end_time": "2025-05-18T11:40:49.642441Z",
     "start_time": "2025-05-18T11:40:49.124351Z"
    }
   },
   "cell_type": "code",
   "source": [
    "import ai.djl.repository.zoo.ModelZoo\n",
    "\n",
    "val model = ModelZoo.loadModel(criteria)\n",
    "val predictor = model.newPredictor()"
   ],
   "outputs": [],
   "execution_count": 21
  },
  {
   "metadata": {},
   "cell_type": "markdown",
   "source": [
    "### Creating a Classification Function\n",
    "Now we'll create a function to classify text using the model.\n",
    "\n",
    "The function takes a text as input and returns a classification output. The classification output contains the probabilities for each candidate label.\n"
   ]
  },
  {
   "metadata": {
    "ExecuteTime": {
     "end_time": "2025-05-18T11:40:51.359269Z",
     "start_time": "2025-05-18T11:40:51.328732Z"
    }
   },
   "cell_type": "code",
   "source": [
    "import ai.djl.modality.nlp.translator.ZeroShotClassificationOutput\n",
    "\n",
    "fun classify(premise: String): ZeroShotClassificationOutput {\n",
    "    val candidateLabels = listOf(\"Software Engineering\", \"Software Programming\")\n",
    "    val input = ZeroShotClassificationInput(premise, candidateLabels.toTypedArray(), true, \"{}\")\n",
    "    return predictor.predict(input)\n",
    "}"
   ],
   "outputs": [],
   "execution_count": 22
  },
  {
   "metadata": {},
   "cell_type": "markdown",
   "source": [
    "### Creating a Filter Handler\n",
    "Now we'll create a handler that filters events based on their content.\n",
    "\n",
    "The handler uses the classification function to determine if a post is software-related.\n",
    "\n",
    "If the post is not software-related, the handler returns false, which stops the processing of the event.\n"
   ]
  },
  {
   "metadata": {
    "ExecuteTime": {
     "end_time": "2025-05-18T11:40:54.306480Z",
     "start_time": "2025-05-18T11:40:54.249537Z"
    }
   },
   "cell_type": "code",
   "source": [
    "val filter: (Event) -> Pair<Boolean, String> = { event ->\n",
    "    if (event.text.isNotBlank() && event.operation != \"delete\") {\n",
    "        val classification = classify(event.text)\n",
    "        if (classification.scores.any { it > 0.90 }) {\n",
    "            Pair(true, \"OK\")\n",
    "        } else {\n",
    "            Pair(false, \"Not a post related to software\")\n",
    "        }\n",
    "    } else {\n",
    "        Pair(false, \"Text is null or empty\")\n",
    "    }\n",
    "}"
   ],
   "outputs": [],
   "execution_count": 23
  },
  {
   "metadata": {},
   "cell_type": "markdown",
   "source": [
    "## Storing Filtered Events\n",
    "In this section, we'll store the filtered events in Redis for further processing.\n"
   ]
  },
  {
   "metadata": {},
   "cell_type": "markdown",
   "source": [
    "### Converting Events to Maps\n",
    "First, we need a function to convert an Event object to a Map that can be stored in Redis as a Hash."
   ]
  },
  {
   "metadata": {
    "ExecuteTime": {
     "end_time": "2025-05-18T11:40:56.188844Z",
     "start_time": "2025-05-18T11:40:56.146687Z"
    }
   },
   "cell_type": "code",
   "source": [
    "fun Event.toMap() = mapOf(\n",
    "    \"did\" to this.did,\n",
    "    \"timeUs\" to this.timeUs,\n",
    "    \"text\" to this.text,\n",
    "    \"langs\" to this.langs.joinToString(\"|\"),\n",
    "    \"operation\" to this.operation,\n",
    "    \"rkey\" to this.rkey,\n",
    "    \"parentUri\" to this.parentUri,\n",
    "    \"rootUri\" to this.rootUri,\n",
    "    \"uri\" to this.uri\n",
    ")"
   ],
   "outputs": [],
   "execution_count": 24
  },
  {
   "metadata": {},
   "cell_type": "markdown",
   "source": [
    "### Storing Events in Redis\n",
    "Now we'll create a handler that stores events in Redis. The handler stores the event as a hash in Redis, with the key being the event's URI.\n"
   ]
  },
  {
   "metadata": {
    "ExecuteTime": {
     "end_time": "2025-05-18T11:40:58.034274Z",
     "start_time": "2025-05-18T11:40:57.998084Z"
    }
   },
   "cell_type": "code",
   "source": [
    "val storeEvent: (Event) -> Pair<Boolean, String> = { event ->\n",
    "    jedis.hset(\"post:\" + event.uri, event.toMap())\n",
    "    Pair(true, \"OK\")\n",
    "}"
   ],
   "outputs": [],
   "execution_count": 25
  },
  {
   "metadata": {},
   "cell_type": "markdown",
   "source": [
    "### Adding Filtered Events to a New Stream\n",
    "Finally, we'll create a handler that adds filtered events to a new stream. This allows other consumers to process only the filtered events, rather than having to filter the events themselves.\n"
   ]
  },
  {
   "metadata": {
    "ExecuteTime": {
     "end_time": "2025-05-18T11:40:59.710211Z",
     "start_time": "2025-05-18T11:40:59.677041Z"
    }
   },
   "cell_type": "code",
   "source": [
    "import redis.clients.jedis.params.XAddParams\n",
    "\n",
    "val addFilteredEventToStream: (Event) -> Pair<Boolean, String> = { event ->\n",
    "    jedis.xadd(\n",
    "        \"filtered-events\",\n",
    "        XAddParams.xAddParams()\n",
    "            .id(StreamEntryID.NEW_ENTRY)\n",
    "            .maxLen(1_000_000)\n",
    "            .exactTrimming(),\n",
    "        event.toMap()\n",
    "    )\n",
    "    Pair(true, \"OK\")\n",
    "}"
   ],
   "outputs": [],
   "execution_count": 26
  },
  {
   "metadata": {
    "ExecuteTime": {
     "end_time": "2025-05-18T11:41:01.343605Z",
     "start_time": "2025-05-18T11:41:01.322568Z"
    }
   },
   "cell_type": "code",
   "source": "createConsumerGroup(\"jetstream\", \"store-example\")",
   "outputs": [
    {
     "name": "stdout",
     "output_type": "stream",
     "text": [
      "Group already exists\n"
     ]
    }
   ],
   "execution_count": 27
  },
  {
   "metadata": {
    "ExecuteTime": {
     "end_time": "2025-05-18T11:41:02.778570Z",
     "start_time": "2025-05-18T11:41:02.755186Z"
    }
   },
   "cell_type": "code",
   "source": [
    "val bloomFilterName = \"store-bf\"\n",
    "createBloomFilter(bloomFilterName)"
   ],
   "outputs": [
    {
     "name": "stdout",
     "output_type": "stream",
     "text": [
      "Bloom filter already exists\n"
     ]
    }
   ],
   "execution_count": 28
  },
  {
   "metadata": {},
   "cell_type": "markdown",
   "source": [
    "## Putting It All Together\n",
    "Now we'll put all the pieces together to create a complete pipeline for filtering events from the Redis Stream.\n",
    "\n",
    "In this example we create two consumers that will process the same stream.\n",
    "- By doing that, we can scale the processing of the events by adding more consumers to the group.\n",
    "- Redis will make sure that each consumer will receive different messages.\n"
   ]
  },
  {
   "metadata": {
    "ExecuteTime": {
     "end_time": "2025-05-18T11:42:54.733419Z",
     "start_time": "2025-05-18T11:42:22.348567Z"
    }
   },
   "cell_type": "code",
   "source": [
    "runBlocking {\n",
    "        listOf(\n",
    "            async { // Use Dispatchers.IO outside Kotlin Notebooks - Kotlin Notebooks won't print whatever was printed to the console\n",
    "                consumeStream(\n",
    "                    streamName = \"jetstream\",\n",
    "                    consumerGroup = \"store-example\",\n",
    "                    consumer = \"store-1\",\n",
    "                    handlers = listOf(\n",
    "                        deduplicate(bloomFilterName),\n",
    "                        filter,\n",
    "                        printUri,\n",
    "                        storeEvent,\n",
    "                        addFilteredEventToStream\n",
    "                    ),\n",
    "                    ackFunction = ackAndBfFn(bloomFilterName),\n",
    "                    count = 50,\n",
    "                    limit = 50\n",
    "                )\n",
    "            },\n",
    "            async {\n",
    "                consumeStream(\n",
    "                    streamName = \"jetstream\",\n",
    "                    consumerGroup = \"store-example\",\n",
    "                    consumer = \"store-2\", // Different consumer\n",
    "                    handlers = listOf(\n",
    "                        deduplicate(bloomFilterName),\n",
    "                        filter,\n",
    "                        printUri,\n",
    "                        storeEvent,\n",
    "                        addFilteredEventToStream\n",
    "                    ),\n",
    "                    ackFunction = ackAndBfFn(bloomFilterName),\n",
    "                    count = 50,\n",
    "                    limit = 50\n",
    "                )\n",
    "            }\n",
    "        ).awaitAll()\n",
    "}"
   ],
   "outputs": [
    {
     "name": "stdout",
     "output_type": "stream",
     "text": [
      "store-3: Handler stopped processing: Not a post related to software\n",
      "store-2: Handler stopped processing: Not a post related to software\n",
      "store-2: Handler stopped processing: Text is null or empty\n",
      "store-1: Handler stopped processing: Not a post related to software\n",
      "store-3: Handler stopped processing: Not a post related to software\n",
      "store-3: Handler stopped processing: at://did:plc:2756hcddnxquh6bjhy6c6qb5/app.bsky.feed.post/null already processed\n",
      "store-2: Handler stopped processing: Not a post related to software\n",
      "store-1: Handler stopped processing: Not a post related to software\n",
      "store-2: Handler stopped processing: Not a post related to software\n",
      "store-3: Handler stopped processing: Not a post related to software\n",
      "store-1: Handler stopped processing: Not a post related to software\n",
      "store-2: Handler stopped processing: Not a post related to software\n",
      "store-1: Handler stopped processing: Not a post related to software\n",
      "store-3: Handler stopped processing: Not a post related to software\n",
      "store-2: Handler stopped processing: Not a post related to software\n",
      "Got event from at://did:plc:afxeooratjkxccycf23cwkcs/app.bsky.feed.post/3lpcplgyowk2y\n",
      "store-3: Handler stopped processing: Not a post related to software\n",
      "store-2: Handler stopped processing: Not a post related to software\n",
      "store-1: Handler stopped processing: Not a post related to software\n",
      "store-3: Handler stopped processing: Not a post related to software\n",
      "store-2: Handler stopped processing: Not a post related to software\n",
      "store-3: Handler stopped processing: Not a post related to software\n",
      "store-1: Handler stopped processing: Not a post related to software\n",
      "store-2: Handler stopped processing: Not a post related to software\n",
      "store-3: Handler stopped processing: Not a post related to software\n",
      "store-1: Handler stopped processing: Not a post related to software\n",
      "store-2: Handler stopped processing: Not a post related to software\n",
      "store-3: Handler stopped processing: Not a post related to software\n",
      "store-1: Handler stopped processing: Not a post related to software\n",
      "store-2: Handler stopped processing: Not a post related to software\n",
      "store-3: Handler stopped processing: Not a post related to software\n",
      "store-2: Handler stopped processing: Not a post related to software\n",
      "store-1: Handler stopped processing: Not a post related to software\n",
      "store-3: Handler stopped processing: Not a post related to software\n",
      "store-2: Handler stopped processing: Not a post related to software\n",
      "store-1: Handler stopped processing: Not a post related to software\n",
      "store-1: Handler stopped processing: Not a post related to software\n",
      "store-2: Handler stopped processing: Not a post related to software\n",
      "store-3: Handler stopped processing: Not a post related to software\n",
      "store-1: Handler stopped processing: Not a post related to software\n",
      "store-3: Handler stopped processing: Not a post related to software\n",
      "store-2: Handler stopped processing: Not a post related to software\n",
      "store-1: Handler stopped processing: Not a post related to software\n",
      "store-2: Handler stopped processing: Not a post related to software\n",
      "store-3: Handler stopped processing: Not a post related to software\n",
      "store-1: Handler stopped processing: Not a post related to software\n",
      "store-2: Handler stopped processing: Not a post related to software\n",
      "store-2: Handler stopped processing: Text is null or empty\n",
      "store-1: Handler stopped processing: Not a post related to software\n",
      "store-3: Handler stopped processing: Not a post related to software\n",
      "store-2: Handler stopped processing: Not a post related to software\n",
      "store-2: Handler stopped processing: Text is null or empty\n",
      "store-1: Handler stopped processing: Not a post related to software\n",
      "store-3: Handler stopped processing: Not a post related to software\n",
      "store-2: Handler stopped processing: Not a post related to software\n",
      "store-1: Handler stopped processing: Not a post related to software\n",
      "store-3: Handler stopped processing: Not a post related to software\n",
      "store-2: Handler stopped processing: Not a post related to software\n",
      "store-1: Handler stopped processing: Not a post related to software\n",
      "store-3: Handler stopped processing: Not a post related to software\n",
      "store-2: Handler stopped processing: Not a post related to software\n",
      "store-1: Handler stopped processing: Not a post related to software\n",
      "store-3: Handler stopped processing: Not a post related to software\n",
      "store-2: Handler stopped processing: Not a post related to software\n",
      "store-1: Handler stopped processing: Not a post related to software\n",
      "store-3: Handler stopped processing: Not a post related to software\n",
      "store-2: Handler stopped processing: Not a post related to software\n",
      "store-3: Handler stopped processing: Not a post related to software\n",
      "store-1: Handler stopped processing: Not a post related to software\n",
      "store-2: Handler stopped processing: Not a post related to software\n",
      "store-1: Handler stopped processing: Not a post related to software\n",
      "store-2: Handler stopped processing: Not a post related to software\n",
      "Got event from at://did:plc:o6dn7w5zzrosn4eszqimafkl/app.bsky.feed.post/3lpcplgyvrc2j\n",
      "store-2: Handler stopped processing: Not a post related to software\n",
      "store-2: Handler stopped processing: at://did:plc:oiucqacyt4n6sm2crnd43rr5/app.bsky.feed.post/null already processed\n",
      "store-3: Handler stopped processing: Not a post related to software\n",
      "store-1: Handler stopped processing: Not a post related to software\n",
      "store-1: Handler stopped processing: Not a post related to software\n",
      "store-3: Handler stopped processing: Not a post related to software\n",
      "store-2: Handler stopped processing: Not a post related to software\n",
      "store-1: Handler stopped processing: Not a post related to software\n",
      "store-3: Handler stopped processing: Not a post related to software\n",
      "store-2: Handler stopped processing: Not a post related to software\n",
      "store-1: Handler stopped processing: Not a post related to software\n",
      "store-3: Handler stopped processing: Not a post related to software\n",
      "store-2: Handler stopped processing: Not a post related to software\n",
      "store-1: Handler stopped processing: Not a post related to software\n",
      "store-3: Handler stopped processing: Not a post related to software\n",
      "store-2: Handler stopped processing: Not a post related to software\n",
      "store-2: Handler stopped processing: Text is null or empty\n",
      "store-1: Handler stopped processing: Not a post related to software\n",
      "store-2: Handler stopped processing: Not a post related to software\n",
      "store-3: Handler stopped processing: Not a post related to software\n",
      "store-1: Handler stopped processing: Not a post related to software\n",
      "store-2: Handler stopped processing: Not a post related to software\n",
      "store-3: Handler stopped processing: Not a post related to software\n",
      "store-1: Handler stopped processing: Not a post related to software\n",
      "store-2: Handler stopped processing: Not a post related to software\n",
      "store-3: Handler stopped processing: Not a post related to software\n",
      "store-1: Handler stopped processing: Not a post related to software\n",
      "store-2: Handler stopped processing: Not a post related to software\n",
      "store-1: Handler stopped processing: Not a post related to software\n",
      "store-3: Handler stopped processing: Not a post related to software\n",
      "store-2: Handler stopped processing: Not a post related to software\n",
      "store-2: Handler stopped processing: Text is null or empty\n",
      "store-1: Handler stopped processing: Not a post related to software\n",
      "store-3: Handler stopped processing: Not a post related to software\n",
      "store-2: Handler stopped processing: Not a post related to software\n",
      "store-1: Handler stopped processing: Not a post related to software\n",
      "store-3: Handler stopped processing: Not a post related to software\n",
      "store-2: Handler stopped processing: Not a post related to software\n",
      "store-3: Handler stopped processing: Not a post related to software\n",
      "store-1: Handler stopped processing: Not a post related to software\n",
      "store-2: Handler stopped processing: Not a post related to software\n",
      "store-3: Handler stopped processing: Not a post related to software\n",
      "store-3: Handler stopped processing: Text is null or empty\n",
      "store-1: Handler stopped processing: Not a post related to software\n",
      "store-2: Handler stopped processing: Not a post related to software\n",
      "store-3: Handler stopped processing: Not a post related to software\n",
      "store-1: Handler stopped processing: Not a post related to software\n",
      "store-2: Handler stopped processing: Not a post related to software\n",
      "store-3: Handler stopped processing: Not a post related to software\n",
      "store-1: Handler stopped processing: Not a post related to software\n",
      "store-2: Handler stopped processing: Not a post related to software\n",
      "store-3: Handler stopped processing: Not a post related to software\n",
      "store-1: Handler stopped processing: Not a post related to software\n",
      "store-2: Handler stopped processing: Not a post related to software\n",
      "store-3: Handler stopped processing: Not a post related to software\n",
      "store-1: Handler stopped processing: Not a post related to software\n",
      "store-3: Handler stopped processing: Not a post related to software\n",
      "store-2: Handler stopped processing: Not a post related to software\n",
      "store-1: Handler stopped processing: Not a post related to software\n",
      "store-2: Handler stopped processing: Not a post related to software\n",
      "store-1: Handler stopped processing: Not a post related to software\n",
      "store-3: Handler stopped processing: Not a post related to software\n",
      "store-3: Handler stopped processing: Text is null or empty\n",
      "store-2: Handler stopped processing: Not a post related to software\n",
      "store-3: Handler stopped processing: Not a post related to software\n",
      "store-1: Handler stopped processing: Not a post related to software\n",
      "store-1: Handler stopped processing: Not a post related to software\n",
      "store-1: Handler stopped processing: Text is null or empty\n",
      "store-1: Handler stopped processing: Text is null or empty\n",
      "store-3: Handler stopped processing: Not a post related to software\n",
      "store-3: Handler stopped processing: Not a post related to software\n",
      "store-1: Handler stopped processing: Not a post related to software\n",
      "store-3: Handler stopped processing: Not a post related to software\n",
      "store-1: Handler stopped processing: Not a post related to software\n",
      "store-3: Handler stopped processing: Not a post related to software\n",
      "store-1: Handler stopped processing: Not a post related to software\n",
      "store-3: Handler stopped processing: Not a post related to software\n"
     ]
    },
    {
     "data": {
      "text/plain": [
       "[kotlin.Unit, kotlin.Unit, kotlin.Unit]"
      ]
     },
     "execution_count": 31,
     "metadata": {},
     "output_type": "execute_result"
    }
   ],
   "execution_count": 31
  },
  {
   "metadata": {},
   "cell_type": "markdown",
   "source": [
    "## Next Steps\n",
    "In the next notebook, we'll enrich the filtered events with additional information, such as topic modeling and embeddings for semantic search.\n"
   ]
  }
 ],
 "metadata": {
  "kernelspec": {
   "display_name": "Kotlin",
   "language": "kotlin",
   "name": "kotlin"
  },
  "language_info": {
   "name": "kotlin",
   "version": "1.9.23",
   "mimetype": "text/x-kotlin",
   "file_extension": ".kt",
   "pygments_lexer": "kotlin",
   "codemirror_mode": "text/x-kotlin",
   "nbconvert_exporter": ""
  },
  "ktnbPluginMetadata": {
   "projectLibraries": false
  }
 },
 "nbformat": 4,
 "nbformat_minor": 0
}
