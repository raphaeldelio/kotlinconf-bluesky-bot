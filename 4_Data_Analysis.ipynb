{
 "cells": [
  {
   "metadata": {},
   "cell_type": "markdown",
   "source": "# Analysing the Data"
  },
  {
   "metadata": {},
   "cell_type": "markdown",
   "source": [
    "In this notebook, we'll enrich the filtered events from the previous notebook with additional information. We'll use a combination of techniques to enrich the events:\n",
    "\n",
    "1. Topic modeling using a Large Language Model (LLM) to extract topics from the posts\n",
    "2. Creating embeddings for semantic search using a transformer model\n",
    "3. Storing the enriched events in Redis for querying\n",
    "\n",
    "\n",
    "\n",
    "Embeddings are vector representations of text that capture semantic meaning. They allow us to perform semantic search, which is a search based on meaning rather than exact keyword matching. In this notebook, we'll create embeddings for posts and store them in Redis for later querying.\n"
   ]
  },
  {
   "metadata": {},
   "cell_type": "markdown",
   "source": "## Recreating helping functions"
  },
  {
   "metadata": {
    "ExecuteTime": {
     "end_time": "2025-05-18T17:01:07.186053Z",
     "start_time": "2025-05-18T17:01:06.495427Z"
    }
   },
   "cell_type": "code",
   "source": [
    "@file:DependsOn(\"redis.clients:jedis:6.0.0\")\n",
    "@file:DependsOn(\"org.springframework.ai:spring-ai-transformers:1.0.0-RC1\")\n",
    "@file:DependsOn(\"ai.djl.huggingface:tokenizers:0.33.0\")\n",
    "@file:DependsOn(\"org.springframework.ai:spring-ai-ollama:1.0.0-RC1\")\n",
    "@file:DependsOn(\"org.springframework.ai:spring-ai-ollama:1.0.0-RC1\")"
   ],
   "outputs": [],
   "execution_count": 1
  },
  {
   "metadata": {
    "ExecuteTime": {
     "end_time": "2025-05-18T17:01:07.521644Z",
     "start_time": "2025-05-18T17:01:07.216951Z"
    }
   },
   "cell_type": "code",
   "source": [
    "import redis.clients.jedis.JedisPooled\n",
    "\n",
    "val jedis = JedisPooled()"
   ],
   "outputs": [],
   "execution_count": 2
  },
  {
   "metadata": {
    "ExecuteTime": {
     "end_time": "2025-05-18T17:32:02.792801Z",
     "start_time": "2025-05-18T17:32:02.432826Z"
    }
   },
   "cell_type": "code",
   "source": [
    "import org.springframework.ai.embedding.EmbeddingModel\n",
    "import org.springframework.ai.ollama.OllamaChatModel\n",
    "import org.springframework.ai.ollama.api.OllamaApi\n",
    "import org.springframework.ai.ollama.api.OllamaOptions\n",
    "import org.springframework.ai.transformers.TransformersEmbeddingModel\n",
    "import org.springframework.ai.chat.messages.SystemMessage\n",
    "import org.springframework.ai.chat.messages.UserMessage\n",
    "import org.springframework.ai.chat.prompt.Prompt\n",
    "import redis.clients.jedis.bloom.BFReserveParams\n",
    "import java.nio.ByteBuffer\n",
    "import java.nio.ByteOrder\n",
    "import java.lang.Float\n",
    "\n",
    "fun createBloomFilter(name: String) {\n",
    "    runCatching {\n",
    "        jedis.bfReserve(name, 0.01, 1_000_000L, BFReserveParams().expansion(2))\n",
    "    }.onFailure {\n",
    "        println(\"Bloom filter already exists\")\n",
    "    }\n",
    "}\n",
    "\n",
    "fun deduplicate(bloomFilter: String, uri: String): Boolean {\n",
    "    return if (jedis.bfExists(bloomFilter, uri)) false else true\n",
    "}\n",
    "\n",
    "fun ack(bloomFilter: String, uri: String) {\n",
    "    jedis.bfAdd(bloomFilter, uri)\n",
    "}\n",
    "\n",
    "val embeddingModel = TransformersEmbeddingModel()\n",
    "embeddingModel.afterPropertiesSet()\n",
    "\n",
    "val ollamaApi = OllamaApi.builder()\n",
    "    .baseUrl(\"http://localhost:11434\")\n",
    "    .build()\n",
    "\n",
    "val ollamaOptions = OllamaOptions.builder().model(\"deepseek-coder-v2\").build()\n",
    "\n",
    "val ollamaChatModel =  OllamaChatModel.builder()\n",
    "    .ollamaApi(ollamaApi)\n",
    "    .defaultOptions(ollamaOptions)\n",
    "    .build()\n",
    "\n",
    "fun createEmbedding(input: String): ByteArray {\n",
    "    val embedding = embeddingModel.embed(input)\n",
    "    val embeddingBytes = ByteArray(Float.BYTES * embedding.size)\n",
    "    ByteBuffer.wrap(embeddingBytes).order(ByteOrder.LITTLE_ENDIAN).asFloatBuffer().put(embedding)\n",
    "    return embeddingBytes\n",
    "}\n",
    "\n",
    "val topicModelingPromt = \"\"\"\n",
    "You are a topic classifier specialized in politics. Given a post, extract only politics-related topics—both explicitly mentioned and reasonably implied.\n",
    "\n",
    "If a post mentions a political figure, event, party, law, or movement, infer related political topics or domains.\n",
    "\n",
    "For example, if the post mentions “Green New Deal”, you may infer topics like “climate policy”, “progressive politics”, and “US Congress”.\n",
    "\n",
    "Avoid generic terms like “news”, “statement”, or “speech”.\n",
    "Only return relevant political topics.\n",
    "\n",
    "Also avoid overly narrow items such as specific bill numbers or individual quotes.\n",
    "\n",
    "If the topic or a very similar is already in the provided list of existing topics, use the one from the list, otherwise, feel free to create a new one.\n",
    "\n",
    "Format your response as comma separated values (ALWAYS, I MEAN IT):\n",
    "\"topic1, topic2, topic3\"\n",
    "\n",
    "Examples:\n",
    "\n",
    "Post:\n",
    "Climate change policy needs serious bipartisan commitment.\n",
    "Output:\n",
    "“Climate Policy, Bipartisanship, Environmental Politics”\n",
    "⸻\n",
    "Post:\n",
    "Macron’s recent comments on NATO expansion are causing waves.\n",
    "Output:\n",
    "“Emmanuel Macron, NATO, Foreign Policy, European Politics”\n",
    "⸻\n",
    "Post:\n",
    "Just watched a debate on universal basic income — fascinating stuff!\n",
    "Output:\n",
    "“Universal Basic Income, Economic Policy, Social Welfare”\n",
    "⸻\n",
    "Post:\n",
    "The Supreme Court decision today is a major turning point.\n",
    "Output:\n",
    "“Supreme Court, Judicial System, Constitutional Law”\n",
    "⸻\n",
    "Post:\n",
    "Alexandria Ocasio-Cortez is pushing for stronger climate legislation.\n",
    "Output:\n",
    "“Alexandria Ocasio-Cortez, Climate Policy, Progressive Politics, US Congress”\n",
    "\"\"\"\n",
    "\n",
    "fun topicModeling(post: String, existingTopics: String): String {\n",
    "    // Build a chat message\n",
    "    val messages = listOf(\n",
    "        SystemMessage(topicModelingPromt),\n",
    "        UserMessage(\"Existing topics: $existingTopics\"),\n",
    "        UserMessage(\"Post: $post\")\n",
    "    )\n",
    "\n",
    "    val response = ollamaChatModel.call(Prompt(messages))\n",
    "    return response.result.output.text ?: \"\"\n",
    "}\n",
    "\n",
    "fun extractTopics(text: String): List<String> {\n",
    "    val existingTopics = jedis.smembers(\"topics\")\n",
    "    return topicModeling(text, existingTopics.joinToString(\", \"))\n",
    "        .replace(\"\\\"\", \"\")\n",
    "        .replace(\"“\", \"\")\n",
    "        .replace(\"”\", \"\")\n",
    "        .split(\",\")\n",
    "        .map { it.trim() }\n",
    "}"
   ],
   "outputs": [],
   "execution_count": 35
  },
  {
   "metadata": {
    "ExecuteTime": {
     "end_time": "2025-05-18T17:01:19.050863Z",
     "start_time": "2025-05-18T17:01:18.743273Z"
    }
   },
   "cell_type": "code",
   "source": [
    "import redis.clients.jedis.resps.StreamEntry\n",
    "import redis.clients.jedis.search.Document\n",
    "\n",
    "data class Event(\n",
    "    val did: String,\n",
    "    val rkey: String,\n",
    "    val text: String,\n",
    "    val timeUs: String,\n",
    "    val operation: String,\n",
    "    val uri: String,\n",
    "    val parentUri: String,\n",
    "    val rootUri: String,\n",
    "    val langs: List<String>,\n",
    "    val similarityScore: Double\n",
    ") {\n",
    "    companion object {\n",
    "        fun fromMap(entry: StreamEntry): Event {\n",
    "            return fromMap(entry.fields)\n",
    "        }\n",
    "\n",
    "        fun fromMap(document: Document): Event {\n",
    "            val fields = document.properties.associate { entry ->  entry.key to entry.value.toString()}\n",
    "            return fromMap(fields)\n",
    "        }\n",
    "\n",
    "        fun fromMap(fields: Map<String, String>): Event {\n",
    "            return Event(\n",
    "                did = fields[\"did\"] ?: \"\",\n",
    "                rkey = fields[\"rkey\"] ?: \"\",\n",
    "                text = fields[\"text\"] ?: \"\",\n",
    "                timeUs = fields[\"timeUs\"] ?: \"\",\n",
    "                operation = fields[\"operation\"] ?: \"\",\n",
    "                uri = fields[\"uri\"] ?: \"\",\n",
    "                parentUri = fields[\"parentUri\"] ?: \"\",\n",
    "                rootUri = fields[\"rootUri\"] ?: \"\",\n",
    "                langs = fields[\"langs\"]?.replace(\"[\", \"\")?.replace(\"]\", \"\")?.split(\", \") ?: emptyList(),\n",
    "                similarityScore = fields[\"similarityScore\"]?.toDouble() ?: 0.0\n",
    "            )\n",
    "        }\n",
    "    }\n",
    "}"
   ],
   "outputs": [],
   "execution_count": 4
  },
  {
   "metadata": {
    "ExecuteTime": {
     "end_time": "2025-05-18T17:01:20.133422Z",
     "start_time": "2025-05-18T17:01:19.056519Z"
    }
   },
   "cell_type": "code",
   "source": [
    "%use ktor-client\n",
    "%use serialization\n",
    "%use coroutines"
   ],
   "outputs": [],
   "execution_count": 5
  },
  {
   "metadata": {
    "ExecuteTime": {
     "end_time": "2025-05-18T17:01:20.453195Z",
     "start_time": "2025-05-18T17:01:20.140806Z"
    }
   },
   "cell_type": "code",
   "source": [
    "@Serializable\n",
    "data class LoginResponse(\n",
    "    @SerialName(\"accessJwt\") val accessJwt: String,\n",
    "    @SerialName(\"refreshJwt\") val refreshJwt: String,\n",
    "    @SerialName(\"handle\") val handle: String,\n",
    "    @SerialName(\"did\") val did: String,\n",
    "    @SerialName(\"didDoc\") val didDoc: DidDoc?,\n",
    "    @SerialName(\"email\") val email: String?,\n",
    "    @SerialName(\"emailConfirmed\") val emailConfirmed: Boolean?,\n",
    "    @SerialName(\"emailAuthFactor\") val emailAuthFactor: Boolean?,\n",
    "    @SerialName(\"active\") val active: Boolean,\n",
    "    @SerialName(\"status\") val status: String? = null\n",
    ")\n",
    "\n",
    "@Serializable\n",
    "data class DidDoc(\n",
    "    @SerialName(\"id\") val id: String?\n",
    ")"
   ],
   "outputs": [],
   "execution_count": 6
  },
  {
   "metadata": {
    "ExecuteTime": {
     "end_time": "2025-05-18T17:01:20.597282Z",
     "start_time": "2025-05-18T17:01:20.469973Z"
    }
   },
   "cell_type": "code",
   "source": [
    "import io.ktor.client.HttpClient\n",
    "import io.ktor.client.engine.cio.CIO\n",
    "import io.ktor.client.plugins.contentnegotiation.ContentNegotiation\n",
    "import io.ktor.serialization.kotlinx.json.json\n",
    "\n",
    "val client = HttpClient(CIO) {\n",
    "    install(ContentNegotiation) {\n",
    "        json(Json {\n",
    "            ignoreUnknownKeys = true\n",
    "        })\n",
    "    }\n",
    "}\n",
    "\n",
    "val API_URL = \"https://bsky.social/xrpc\"\n",
    "\n",
    "val USERNAME = \"devbubble.bsky.social\"\n",
    "val PASSWORD = System.getenv(\"DEVBUBBLE_TOKEN\")"
   ],
   "outputs": [],
   "execution_count": 7
  },
  {
   "metadata": {
    "ExecuteTime": {
     "end_time": "2025-05-18T17:01:20.828749Z",
     "start_time": "2025-05-18T17:01:20.612727Z"
    }
   },
   "cell_type": "code",
   "source": [
    "import io.ktor.client.call.body\n",
    "import io.ktor.client.request.HttpRequestBuilder\n",
    "import io.ktor.client.request.headers\n",
    "import io.ktor.client.request.post\n",
    "import io.ktor.client.request.setBody\n",
    "import io.ktor.http.ContentType\n",
    "import io.ktor.http.HeadersBuilder\n",
    "import io.ktor.http.HttpStatusCode\n",
    "import io.ktor.http.contentType\n",
    "\n",
    "suspend fun getAccessToken(): String {\n",
    "    val response = client.post(\"$API_URL/com.atproto.server.createSession\") {\n",
    "        contentType(ContentType.Application.Json)\n",
    "        setBody(\n",
    "            mapOf(\n",
    "                \"identifier\" to USERNAME,\n",
    "                \"password\" to PASSWORD\n",
    "            )\n",
    "        )\n",
    "    }\n",
    "\n",
    "    return if (response.status == HttpStatusCode.OK) {\n",
    "        val result: LoginResponse = response.body()\n",
    "        jedis.set(\"mainDid\", result.did)\n",
    "        println(\"✅ Login successful. DID: ${result.did}\")\n",
    "        result.accessJwt\n",
    "    } else {\n",
    "        println(\"⚠️ Authentication failed: ${response.status}\")\n",
    "        \"\"\n",
    "    }\n",
    "}"
   ],
   "outputs": [],
   "execution_count": 8
  },
  {
   "metadata": {
    "ExecuteTime": {
     "end_time": "2025-05-18T17:01:39.344742Z",
     "start_time": "2025-05-18T17:01:38.776400Z"
    }
   },
   "cell_type": "code",
   "source": [
    "lateinit var blueskyToken: String;\n",
    "runBlocking {\n",
    "    blueskyToken = getAccessToken()\n",
    "}"
   ],
   "outputs": [
    {
     "name": "stdout",
     "output_type": "stream",
     "text": [
      "✅ Login successful. DID: did:plc:qdwb7czl4gdbu5go25dza3vo\n"
     ]
    }
   ],
   "execution_count": 10
  },
  {
   "metadata": {
    "ExecuteTime": {
     "end_time": "2025-05-18T17:01:41.911685Z",
     "start_time": "2025-05-18T17:01:41.599772Z"
    }
   },
   "cell_type": "code",
   "source": [
    "@Serializable\n",
    "data class SearchResponse(\n",
    "    @SerialName(\"cursor\") val cursor: String? = null,\n",
    "    @SerialName(\"hitsTotal\") val hitsTotal: Int? = null,\n",
    "    @SerialName(\"posts\") val posts: List<Post>\n",
    ")\n",
    "\n",
    "@Serializable\n",
    "data class Post(\n",
    "    @SerialName(\"uri\") val uri: String,\n",
    "    @SerialName(\"cid\") val cid: String,\n",
    "    @SerialName(\"author\") val author: Author,\n",
    "    @SerialName(\"indexedAt\") val indexedAt: String,\n",
    "    @SerialName(\"record\") val record: Record?,\n",
    "    @SerialName(\"replyCount\") val replyCount: Int? = null,\n",
    "    @SerialName(\"repostCount\") val repostCount: Int? = null,\n",
    "    @SerialName(\"likeCount\") val likeCount: Int? = null,\n",
    "    @SerialName(\"quoteCount\") val quoteCount: Int? = null,\n",
    "\n",
    "    )\n",
    "\n",
    "@Serializable\n",
    "data class Author(\n",
    "    @SerialName(\"did\") val did: String,\n",
    "    @SerialName(\"handle\") val handle: String,\n",
    "    @SerialName(\"displayName\") val displayName: String? = null,\n",
    "    @SerialName(\"avatar\") val avatar: String? = null\n",
    ")\n",
    "\n",
    "@Serializable\n",
    "data class Record(\n",
    "    @SerialName(\"text\") val text: String? = null,\n",
    "    @SerialName(\"embed\") val embed: Embed? = null,\n",
    "    @SerialName(\"createdAt\") val createdAt: String\n",
    ")\n",
    "\n",
    "@Serializable\n",
    "data class Embed(\n",
    "    @SerialName(\"images\") val images: List<Image>? = null\n",
    ")\n",
    "\n",
    "@Serializable\n",
    "data class Image(\n",
    "    @SerialName(\"thumb\") val thumb: String? = null, // Nullable to handle missing values\n",
    "    @SerialName(\"fullsize\") val fullsize: String? = null,\n",
    "    @SerialName(\"alt\") val alt: String? = null // Alt text is also optional\n",
    ")"
   ],
   "outputs": [],
   "execution_count": 11
  },
  {
   "metadata": {
    "ExecuteTime": {
     "end_time": "2025-05-18T17:01:44.797248Z",
     "start_time": "2025-05-18T17:01:44.615781Z"
    }
   },
   "cell_type": "code",
   "source": [
    "import io.ktor.client.*\n",
    "import io.ktor.client.request.*\n",
    "import io.ktor.client.statement.*\n",
    "import io.ktor.client.call.*\n",
    "import io.ktor.http.*\n",
    "\n",
    "import java.time.Instant\n",
    "import java.time.temporal.ChronoUnit\n",
    "\n",
    "suspend fun searchPosts(sinceTime: String, tag: String): List<Post> {\n",
    "    val allPosts = mutableListOf<Post>()\n",
    "    var cursor: String? = null\n",
    "\n",
    "    println(\"🔍 Searching posts with tag: $tag since: $sinceTime\")\n",
    "    do {\n",
    "        val response: HttpResponse = client.get(\"$API_URL/app.bsky.feed.searchPosts\") {\n",
    "            headers {\n",
    "                append(\"Authorization\", \"Bearer $blueskyToken\")\n",
    "            }\n",
    "            parameter(\"q\", tag)\n",
    "            parameter(\"sort\", \"latest\")\n",
    "            parameter(\"limit\", 100)\n",
    "            parameter(\"since\", sinceTime)\n",
    "            if (cursor != null) {\n",
    "                parameter(\"cursor\", cursor)\n",
    "            }\n",
    "        }\n",
    "\n",
    "        if (response.status == HttpStatusCode.OK) {\n",
    "            val result: SearchResponse = response.body()\n",
    "            val posts = result.posts\n",
    "            println(\"✅ Retrieved ${posts.size} posts. Total so far: ${allPosts.size + posts.size}.\")\n",
    "            allPosts.addAll(posts)\n",
    "            cursor = result.cursor\n",
    "        } else {\n",
    "            println(\"⚠️ Failed to fetch posts. Status: ${response.status}\")\n",
    "            println(response.bodyAsText())\n",
    "            break\n",
    "        }\n",
    "    } while (cursor != null)\n",
    "\n",
    "    println(\"🎉 Finished fetching posts. Total retrieved: ${allPosts.size}.\")\n",
    "    return allPosts\n",
    "}"
   ],
   "outputs": [],
   "execution_count": 12
  },
  {
   "metadata": {
    "ExecuteTime": {
     "end_time": "2025-05-18T17:01:49.359790Z",
     "start_time": "2025-05-18T17:01:47.456092Z"
    }
   },
   "cell_type": "code",
   "source": [
    "import kotlinx.coroutines.runBlocking\n",
    "\n",
    "runBlocking {\n",
    "    val sinceTime = Instant.now().minus(15, ChronoUnit.HOURS).toString()\n",
    "    searchPosts(sinceTime, \"java\")\n",
    "}"
   ],
   "outputs": [
    {
     "name": "stdout",
     "output_type": "stream",
     "text": [
      "🔍 Searching posts with tag: java since: 2025-05-18T02:01:47.504557Z\n",
      "✅ Retrieved 100 posts. Total so far: 100.\n",
      "✅ Retrieved 65 posts. Total so far: 165.\n",
      "🎉 Finished fetching posts. Total retrieved: 165.\n"
     ]
    },
    {
     "data": {
      "text/plain": [
       "[Post(uri=at://did:plc:tzo73w2q7mcw2ohhnmjexuji/app.bsky.feed.post/3lphjvken2522, cid=bafyreif5r2gy5fineqncwzgsznip3xb7dj4lfu6d4x5nn2in5xcgsjlkay, author=Author(did=did:plc:tzo73w2q7mcw2ohhnmjexuji, handle=akirby80.net, displayName=akirby80, avatar=https://cdn.bsky.app/img/avatar/plain/did:plc:tzo73w2q7mcw2ohhnmjexuji/bafkreiciglxlak5vqoat4zcjbxtlrhk3id5w3qjeyypsf34gz35bwqyqjq@jpeg), indexedAt=2025-05-18T17:01:23.122Z, record=Record(text=Minecraft is the best.\n",
       "\n",
       "Seed: -161003686673699055\n",
       "\n",
       "Found on Java Edition 1.21.5\n",
       "\n",
       "#Minecraft, embed=Embed(images=[Image(thumb=null, fullsize=null, alt=), Image(thumb=null, fullsize=null, alt=)]), createdAt=2025-05-18T17:01:22.333Z), replyCount=0, repostCount=0, likeCount=0, quoteCount=0), Post(uri=at://did:plc:aayuzazp5ehghd2yjbnnr2nk/app.bsky.feed.post/3lphjhtjd3c2g, cid=bafyreiah4342dorow6mihlvpsio5lrpzgxpsmrhqgpwbwyd7yczsk7byli, author=Author(did=did:plc:aayuzazp5ehghd2yjbnnr2nk, handle=tina-bp.bsky.social, displayName=ティナ, avatar=https://cdn.bsky.app/img/avatar/plain/did:plc:aayuzazp5ehghd2yjbnnr2nk/bafkreibgcyb2tccmnkf2hkzxumkt3k4pizoyq4u645whquw5awrb3dxifa@jpeg), indexedAt=2025-05-18T16:53:42.812Z, record=Record(text=きょうはマイクラを５人でやってたよ\n",
       "サーバーのバージョン新しくして、統合版もJava版も両方入れるようになったし、メモリもまだよゆうはありそうだから今のところは…だいじょうぶ…かな？, embed=null, createdAt=2025-05-18T16:53:42.186Z), replyCount=0, repostCount=0, likeCount=0, quoteCount=0), Post(uri=at://did:plc:i53e6y3liw2oaw4s6e6odw5m/app.bsky.feed.post/3lphit54fdz2d, cid=bafyreibqkcioejhgu6v23ilfolgciwoqeocbkzbuldtcfubq6bgs5lozii, author=Author(did=did:plc:i53e6y3liw2oaw4s6e6odw5m, handle=bluesky.awakari.com, displayName=Awakari, avatar=https://cdn.bsky.app/img/avatar/plain/did:plc:i53e6y3liw2oaw4s6e6odw5m/bafkreicvyjeywe5ph65avri3hzojqocoowoqwh3htd7dlazqgwzsnuyjfy@jpeg), indexedAt=2025-05-18T16:42:07.910Z, record=Record(text= https://www. minenest.com/471468/ double stacked shipwrecks at spawn? (seed: -240590392021394843 java 1.21) # Minecraft # MinecraftSeeds \n",
       "\n",
       "| Details | Interest | Feed |, embed=Embed(images=null), createdAt=2025-05-18T16:42:07Z), replyCount=0, repostCount=0, likeCount=0, quoteCount=0), Post(uri=at://did:plc:f3tt4dzn443sz2gh47hq7g2o/app.bsky.feed.post/3lphiqowvhs2l, cid=bafyreibgx7vsdn4iyl44kjngr6ef5fcri5hxxa27ni67ackecvvhzc3zke, author=Author(did=did:plc:f3tt4dzn443sz2gh47hq7g2o, handle=wrenzyart.bsky.social, displayName=🦝 Wrenzy 🐉, avatar=https://cdn.bsky.app/img/avatar/plain/did:plc:f3tt4dzn443sz2gh47hq7g2o/bafkreidzwllmbz3uhwn53unmdmilzv5vesns6zbtiz3nfhcdkw44cjqxxe@jpeg), indexedAt=2025-05-18T16:40:45.818Z, record=Record(text=Have a wonderful time, Java!!! 🧡🧡, embed=null, createdAt=2025-05-18T16:40:45.636Z), replyCount=0, repostCount=0, likeCount=0, quoteCount=0), Post(uri=at://did:plc:tbuuoxuit5plrmzls5h7lqx4/app.bsky.feed.post/3lphiorw6fp2j, cid=bafyreicifosylys3f2jlagc3m7s6bocvjqmw5klv445fxkuwhtc7prppcq, author=Author(did=did:plc:tbuuoxuit5plrmzls5h7lqx4, handle=hima.elpher.org, displayName=暇人鯖【公式】, avatar=https://cdn.bsky.app/img/avatar/plain/did:plc:tbuuoxuit5plrmzls5h7lqx4/bafkreicxkqrke4vla4izxprh6icfaqn3s6hlpeftvcaejwfbm5p62qxmti@jpeg), indexedAt=2025-05-18T16:39:41.913Z, record=Record(text=discord.gg/3u7vKV39K4\n",
       "《暇人鯖》\n",
       "暇人たちの鯖/マイクラ/雑談/TRPG/ゲーム\n",
       "Java/統合版対応のマイクラサーバーが利用可能！\n",
       "🍀公開から1週間で600人達成！\n",
       "会話やカジノで楽しめます！\n",
       "💕メンバーの意見を積極的に取り入れてより良いサーバーにしていきます！\n",
       "《🫶ぜひご参加ください！🫶》, embed=null, createdAt=2025-05-18T16:39:41.348Z), replyCount=0, repostCount=0, likeCount=0, quoteCount=0), Post(uri=at://did:plc:7thx574w4wv7lmulh5lxnpnz/app.bsky.feed.post/3lphgumphbk2h, cid=bafyreid4soi2erz6ai4sxmksu5rwhyqfoqmlgcmogozw343wdf2qjcwafe, author=Author(did=did:plc:7thx574w4wv7lmulh5lxnpnz, handle=newsycombinatorbot.bsky.social, displayName=Hacker News Bot, avatar=https://cdn.bsky.app/img/avatar/plain/did:plc:7thx574w4wv7lmulh5lxnpnz/bafkreihjs6jld3on4mqi7qhzsxoxgfdjh76huob75n7qo2x6am5hzipqwa@jpeg), indexedAt=2025-05-18T16:07:10.210Z, record=Record(text=Lessons from Mixing Rust and Java: Fast, Safe, and Practical (medium.com)\n",
       "\n",
       "Discussion | Main Link, embed=null, createdAt=2025-05-18T16:07:09.983853Z), replyCount=0, repostCount=0, likeCount=0, quoteCount=0), Post(uri=at://did:plc:t346wfftccbnaf7xepjozrrl/app.bsky.feed.post/3lphgmv2bs22x, cid=bafyreica6wj74alvcm37n6gpki7lzyovldeutdih5ebqo7cm3xlwbse5jm, author=Author(did=did:plc:t346wfftccbnaf7xepjozrrl, handle=zegale.bsky.social, displayName=Zegale, avatar=https://cdn.bsky.app/img/avatar/plain/did:plc:t346wfftccbnaf7xepjozrrl/bafkreigtylaql4kzbuau222pdznx5sjxta54jivtgnfvo33fgolk2jvovy@jpeg), indexedAt=2025-05-18T16:02:51.619Z, record=Record(text=そー　りとるめいども　かすたむNPCも　みんなJavaのみ；ｘ；, embed=null, createdAt=2025-05-18T16:02:50.337Z), replyCount=1, repostCount=0, likeCount=0, quoteCount=0), Post(uri=at://did:plc:ndx6cl37rmcy4ift2uitb66s/app.bsky.feed.post/3lphgdofl222s, cid=bafyreigbftj4dkoeoc7gcnt76mtlrak6sqcr76hplgwhdlhyr5ptlmopra, author=Author(did=did:plc:ndx6cl37rmcy4ift2uitb66s, handle=kaizensphere.dev, displayName=KaizenCode, avatar=https://cdn.bsky.app/img/avatar/plain/did:plc:ndx6cl37rmcy4ift2uitb66s/bafkreid5spqbv67gozzabheawvufwec4xsgjhwdcwfbdiv5525jn3mia34@jpeg), indexedAt=2025-05-18T15:57:41.713Z, record=Record(text=This week JCON in Cologne was amazing \n",
       "\n",
       "#JCON #java, embed=null, createdAt=2025-05-18T15:57:41.373Z), replyCount=0, repostCount=1, likeCount=3, quoteCount=0), Post(uri=at://did:plc:don3tvc4ogcwcvhqxs5o3ztz/app.bsky.feed.post/3lphfpq6a622h, cid=bafyreiglflg6kqbrfz2alnb4o3r4s663ny542lsutq5thr4wh7qfswzn4u, author=Author(did=did:plc:don3tvc4ogcwcvhqxs5o3ztz, handle=idkgames01.bsky.social, displayName=IDKgames, avatar=https://cdn.bsky.app/img/avatar/plain/did:plc:don3tvc4ogcwcvhqxs5o3ztz/bafkreicpu4gz6tnbwtikzq7luwewtaior7vlys3y6ki2r2baxqeq4mpswq@jpeg), indexedAt=2025-05-18T15:46:37.913Z, record=Record(text=S A N D (laser tag arena done) #princessgame #roblox #robloxdev #gamedev #indiegamedev #indiegame #solodev #gamedevs #gamedesign  #coding #codingmeme #indiegames #indiegaming  #indiedev #solodev #webdev #gamedesign #art #gameart #indie #java #gaming #gamememe #meme #memes  #softweardev #coder, embed=Embed(images=[Image(thumb=null, fullsize=null, alt=)]), createdAt=2025-05-18T15:46:32.123Z), replyCount=0, repostCount=4, likeCount=14, quoteCount=0), Post(uri=at://did:plc:tbuuoxuit5plrmzls5h7lqx4/app.bsky.feed.post/3lphfdiexep2s, cid=bafyreibm43jkoj4zeqn43uqkndyydaz3mceaaxiqgfydwfg4wfapzcq4ay, author=Author(did=did:plc:tbuuoxuit5plrmzls5h7lqx4, handle=hima.elpher.org, displayName=暇人鯖【公式】, avatar=https://cdn.bsky.app/img/avatar/plain/did:plc:tbuuoxuit5plrmzls5h7lqx4/bafkreicxkqrke4vla4izxprh6icfaqn3s6hlpeftvcaejwfbm5p62qxmti@jpeg), indexedAt=2025-05-18T15:39:41.613Z, record=Record(text=discord.gg/3u7vKV39K4\n",
       "《暇人鯖》\n",
       "暇人たちの鯖/マイクラ/雑談/TRPG/ゲーム\n",
       "Java/統合版対応のマイクラサーバーが利用可能！\n",
       "🍀公開から1週間で600人達成！\n",
       "会話やカジノで楽しめます！\n",
       "💕メンバーの意見を積極的に取り入れてより良いサーバーにしていきます！\n",
       "《🫶ぜひご参加ください！🫶》, embed=null, createdAt=2025-05-18T15:39:41.173Z), replyCount=0, repostCount=0, likeCount=0, quoteCount=0), Post(uri=at://did:plc:u5rlntlo554busu62iu4sa4w/app.bsky.feed.post/3lpheype73s2h, cid=bafyreifmrmevrlszdfgl5lf7gz33qapvqqg74nhqybfzbc75oqwynp7bji, author=Author(did=did:plc:u5rlntlo554busu62iu4sa4w, handle=hedgedknight.bsky.social, displayName=hedgedknight , avatar=https://cdn.bsky.app/img/avatar/plain/did:plc:u5rlntlo554busu62iu4sa4w/bafkreih3vabba2q2h2rbtbjg3yl567krn463ihad2wccsd53yj2dohvjei@jpeg), indexedAt=2025-05-18T15:33:38.913Z, record=Record(text=I am very sad the April fools day things aren't Add-ons or downloadable worlds for bedrock \n",
       "\n",
       "This the the closest I have come to playing Java.  If I had access to a computer I probably would, embed=null, createdAt=2025-05-18T15:33:39.538Z), replyCount=0, repostCount=0, likeCount=0, quoteCount=0), Post(uri=at://did:plc:gh4yq2r5bqlfbbjdmkoii4he/app.bsky.feed.post/3lphesjkkmq2r, cid=bafyreiaffyg5e6w6ircrvu7biuuqo7tdgb2pdbqxe4sqhdt7xyklvp6dee, author=Author(did=did:plc:gh4yq2r5bqlfbbjdmkoii4he, handle=moaijobs.bsky.social, displayName=MoAIJobs - AI job alerts, avatar=https://cdn.bsky.app/img/avatar/plain/did:plc:gh4yq2r5bqlfbbjdmkoii4he/bafkreigkrkhwbg45uksq7a5g3rcfmgd7c7ytgcy6nkejt24fwz46uhiujm@jpeg), indexedAt=2025-05-18T15:30:12.915Z, record=Record(text=🚨 AI job alert\n",
       "\n",
       "Airbnb is hiring a Staff Software Engineer, Airbnb\n",
       "\n",
       "💼 Java, GO, Python, or Scala, AWS, Azure, Google Cloud\n",
       "💰 $204K — $255K\n",
       "\n",
       "\n",
       "Apply here: https://www.moaijobs.com/job/staff-software-engineer-airbnb-airbnb-5281, embed=Embed(images=[Image(thumb=null, fullsize=null, alt=image)]), createdAt=2025-05-18T15:30:11.660Z), replyCount=0, repostCount=0, likeCount=0, quoteCount=0), Post(uri=at://did:plc:pb4iqo5afmok3c6a3wyadqkv/app.bsky.feed.post/3lpheojnvt42k, cid=bafyreifbhwczgf7d5lkun4262pmkzdoja575eicxrbyvhxprps3bigaxra, author=Author(did=did:plc:pb4iqo5afmok3c6a3wyadqkv, handle=inmobi-info.bsky.social, displayName=, avatar=https://cdn.bsky.app/img/avatar/plain/did:plc:pb4iqo5afmok3c6a3wyadqkv/bafkreif6okatzmnjutsq45i5lxjbweesbo5vhkbxxprqzq62aoevsr7uqu@jpeg), indexedAt=2025-05-18T15:27:59.017Z, record=Record(text=【JavaScript/HTML】4×4ミニオセロゲームを作ってみた\n",
       "\n",
       "こんにちは！今回は4x4のミニオセロゲームをHTML、CSS、JavaScriptのみで実装する方法をご紹介します。盤面が小さいミニオセロは通常の8x8オセロよりも戦略が単純でわかりやすく、Java… Source link, embed=Embed(images=null), createdAt=2025-05-18T15:27:56Z), replyCount=0, repostCount=0, likeCount=0, quoteCount=0), Post(uri=at://did:plc:psz77xh2suq2fpdavsjfutv7/app.bsky.feed.post/3lphec4vahc2q, cid=bafyreicianeg2yqf6ybemkgzuqqrpudchfpaaxt2kbkf2wi3ifp2safuuu, author=Author(did=did:plc:psz77xh2suq2fpdavsjfutv7, handle=szarypanz.bsky.social, displayName=szrpnzfffdrrzzz, avatar=https://cdn.bsky.app/img/avatar/plain/did:plc:psz77xh2suq2fpdavsjfutv7/bafkreigzzy6y2an7oi7pjqnbht5psr3vmghv7vngtrk63mxjopzl35wzge@jpeg), indexedAt=2025-05-18T15:21:03.912Z, record=Record(text=chleby czy java script, embed=null, createdAt=2025-05-18T15:21:01.978Z), replyCount=0, repostCount=0, likeCount=0, quoteCount=0), Post(uri=at://did:plc:i53e6y3liw2oaw4s6e6odw5m/app.bsky.feed.post/3lphebo2cg62e, cid=bafyreiczicyruhvxlkayh4tppjuugn6s7f2uax72hd5qzvt5arfdu3s774, author=Author(did=did:plc:i53e6y3liw2oaw4s6e6odw5m, handle=bluesky.awakari.com, displayName=Awakari, avatar=https://cdn.bsky.app/img/avatar/plain/did:plc:i53e6y3liw2oaw4s6e6odw5m/bafkreicvyjeywe5ph65avri3hzojqocoowoqwh3htd7dlazqgwzsnuyjfy@jpeg), indexedAt=2025-05-18T15:20:46.518Z, record=Record(text=Android App with PostgreSQL Integration Freelancer - New Projects Android Java Mobile App Development PostgreSQL RESTful API Freelancer Latest projects published at Freelancer. Freelancer_project_39421245 webmaster@freelancer.com I need an Android appli...\n",
       "\n",
       "| Details | Interest | Feed |, embed=Embed(images=null), createdAt=2025-05-18T15:20:46Z), replyCount=0, repostCount=1, likeCount=1, quoteCount=0), Post(uri=at://did:plc:i53e6y3liw2oaw4s6e6odw5m/app.bsky.feed.post/3lpheblvl5z2j, cid=bafyreiatuxch2v33fvy2ihob5nlvboxppojsg6rwoau7hmwqovns47t4im, author=Author(did=did:plc:i53e6y3liw2oaw4s6e6odw5m, handle=bluesky.awakari.com, displayName=Awakari, avatar=https://cdn.bsky.app/img/avatar/plain/did:plc:i53e6y3liw2oaw4s6e6odw5m/bafkreicvyjeywe5ph65avri3hzojqocoowoqwh3htd7dlazqgwzsnuyjfy@jpeg), indexedAt=2025-05-18T15:20:44.318Z, record=Record(text=Android App with PostgreSQL Integration Freelancer - New Projects Android Java Mobile App Development PostgreSQL RESTful API Freelancer Latest projects published at Freelancer. Freelancer_project_39421245 webmaster@freelancer.com I need an Android appli...\n",
       "\n",
       "| Details | Interest | Feed |, embed=Embed(images=null), createdAt=2025-05-18T15:20:43Z), replyCount=0, repostCount=1, likeCount=1, quoteCount=0), Post(uri=at://did:plc:i53e6y3liw2oaw4s6e6odw5m/app.bsky.feed.post/3lphebi3vgq2c, cid=bafyreia64vtdmm57byybun2l6w2habanrqn7ivc7ubwzjeu5wwzopl4e5y, author=Author(did=did:plc:i53e6y3liw2oaw4s6e6odw5m, handle=bluesky.awakari.com, displayName=Awakari, avatar=https://cdn.bsky.app/img/avatar/plain/did:plc:i53e6y3liw2oaw4s6e6odw5m/bafkreicvyjeywe5ph65avri3hzojqocoowoqwh3htd7dlazqgwzsnuyjfy@jpeg), indexedAt=2025-05-18T15:20:40.317Z, record=Record(text=Android App with PostgreSQL Integration Freelancer - New Projects Android Java Mobile App Development PostgreSQL RESTful API Freelancer Latest projects published at Freelancer. Freelancer_project_39421245 webmaster@freelancer.com I need an Android appli...\n",
       "\n",
       "| Details | Interest | Feed |, embed=Embed(images=null), createdAt=2025-05-18T15:20:40Z), replyCount=0, repostCount=1, likeCount=1, quoteCount=0), Post(uri=at://did:plc:i53e6y3liw2oaw4s6e6odw5m/app.bsky.feed.post/3lphe74vax62e, cid=bafyreigdkh6qye6rwkulysbagd3q53bnlzxiflk55yfcirng5v7q3g3zum, author=Author(did=did:plc:i53e6y3liw2oaw4s6e6odw5m, handle=bluesky.awakari.com, displayName=Awakari, avatar=https://cdn.bsky.app/img/avatar/plain/did:plc:i53e6y3liw2oaw4s6e6odw5m/bafkreicvyjeywe5ph65avri3hzojqocoowoqwh3htd7dlazqgwzsnuyjfy@jpeg), indexedAt=2025-05-18T15:19:21.513Z, record=Record(text=ABC3 I'll provide a comprehensive guide to building a post publishing system for your website, aquascript.xyz, using the specified tech stack (HTML, CSS, JavaScript, Java, Bootstrap, jQuery, Node.js, Next.js) and Neon Database's free trial. The system w...\n",
       "\n",
       "| Details | Interest | Feed |, embed=Embed(images=null), createdAt=2025-05-18T15:19:20Z), replyCount=0, repostCount=0, likeCount=0, quoteCount=0), Post(uri=at://did:plc:ug3nvsele7cu3kn6mgmepnww/app.bsky.feed.post/3lphe2w7jmc2r, cid=bafyreid7dcyww45krioebyw7eitoafwj26vahhm2ukk27qouwlwe6t7qvq, author=Author(did=did:plc:ug3nvsele7cu3kn6mgmepnww, handle=archiloque.bsky.social, displayName=Julien Kirch, avatar=https://cdn.bsky.app/img/avatar/plain/did:plc:ug3nvsele7cu3kn6mgmepnww/bafkreidyv2uvnjahqzwexso3qu3syioknixgxucca2csnhv7kv6iq36aca@jpeg), indexedAt=2025-05-18T15:17:04.220Z, record=Record(text=The use of velocity in #agile comes from the #Java templating framework Apache Velocity, because when using it the developers' productivity was so bad that it needed to be taken into account when doing project planning\n",
       "velocity.apache.org, embed=Embed(images=null), createdAt=2025-05-18T15:17:00.093Z), replyCount=0, repostCount=1, likeCount=1, quoteCount=0), Post(uri=at://did:plc:ztk57yzwh7gar464vmznvkhb/app.bsky.feed.post/3lphdyyi2q72y, cid=bafyreievnn4lui23ndpwy37du4ov7rjm45pxbehktcoubgpy6kdinzxfre, author=Author(did=did:plc:ztk57yzwh7gar464vmznvkhb, handle=playing-games.bsky.social, displayName=Playing Games, avatar=https://cdn.bsky.app/img/avatar/plain/did:plc:ztk57yzwh7gar464vmznvkhb/bafkreiha53255z6qdqhouesqbtxsbawvojyn2tpk3xf5v6lhfxfdunwvzy@jpeg), indexedAt=2025-05-18T15:15:56.714Z, record=Record(text=25W20Aで素敵なJavaシードを見つけました\n",
       "\n",
       "https://www.playing-games.com/647703/\n",
       "\n",
       "崖の上の木の上にあなたを産みます。遠くを見ると、平原の村、美しい山を見ることができます。村の左側の近くに行くと、小さな渓谷があります（村の近くと山の中にも複数の洞窟があります。 チェコ それはアウトします by tom_ [...], embed=Embed(images=null), createdAt=2025-05-18T15:15:52+00:00), replyCount=0, repostCount=0, likeCount=0, quoteCount=0), Post(uri=at://did:plc:etkadjdby46s2skc4shoxp6q/app.bsky.feed.post/3lphebww7cxb2, cid=bafyreihnqanjzmzn4avfk3s2jha7gh6kcc66sn2al2vrvsbt3m7e3sl7su, author=Author(did=did:plc:etkadjdby46s2skc4shoxp6q, handle=Android.activitypub.awakari.com.ap.brid.gy, displayName=Android, avatar=https://cdn.bsky.app/img/avatar/plain/did:plc:etkadjdby46s2skc4shoxp6q/bafkreibltzp64wgqko2zybvena2ajvyo6rt7gzw7qnyr3wfmp6qorslkhu@jpeg), indexedAt=2025-05-18T15:20:59.119Z, record=Record(text=\n",
       "\n",
       "https://www.freelancer.com/projects/android/Android-App-with-PostgreSQL-Integration.html\n",
       "\n",
       "#Android #Java #Mobile #App #Development #PostgreSQL #RESTful #API\n",
       "\n",
       "Result Details, embed=Embed(images=null), createdAt=2025-05-18T15:06:22.000Z), replyCount=0, repostCount=0, likeCount=0, quoteCount=0), Post(uri=at://did:plc:2a36y7jauews6x63ilgwu7ff/app.bsky.feed.post/3lphdce3fjc2q, cid=bafyreigtwezywp5vfkz32docf2d2duhtn3rl2rvgdzwobto5bfmin2tn6e, author=Author(did=did:plc:2a36y7jauews6x63ilgwu7ff, handle=floatingmen.bsky.social, displayName=The Floating Men, avatar=https://cdn.bsky.app/img/avatar/plain/did:plc:2a36y7jauews6x63ilgwu7ff/bafkreifwq6fngitzlfhobwjjg4blpgnzdzkygzdk3grpyylifldhfix4fm@jpeg), indexedAt=2025-05-18T15:03:21.532Z, record=Record(text=The full band was recorded live in 2001 at our Labor Day Bash in Nashville at 12th & Porter and Holmes Alone was captured in 2009 at the Bongo Java After Hours Theatre (h/t to TKCafé:  youtu.be/9AKaWJX-G94?... )., embed=Embed(images=null), createdAt=2025-05-18T15:03:13.481Z), replyCount=1, repostCount=0, likeCount=0, quoteCount=0), Post(uri=at://did:plc:nqs6ukshmhbkdbihf6kaeax6/app.bsky.feed.post/3lphdc4dke42y, cid=bafyreieotejiiz5buwvyh2d7nfje3n43swthjtds6xeqb4kpgbgvdkw3tq, author=Author(did=did:plc:nqs6ukshmhbkdbihf6kaeax6, handle=hnfeed.bsky.social, displayName=Hacker News Bot, avatar=https://cdn.bsky.app/img/avatar/plain/did:plc:nqs6ukshmhbkdbihf6kaeax6/bafkreicl3xld5bk77im2cnsj3glmzn3766jtlzelszfiysfkfpokl5hzvi@jpeg), indexedAt=2025-05-18T15:03:07.815Z, record=Record(text=Lessons from Mixing Rust and Java: Fast, Safe, and Practical\n",
       "https://medium.com/@greptime/how-to-supercharge-your-java-project-with-rust-a-practical-guide-to-jni-integration-with-a-86f60e9708b8 \n",
       "[comments] [86 points], embed=null, createdAt=2025-05-18T15:03:07.569Z), replyCount=0, repostCount=0, likeCount=0, quoteCount=0), Post(uri=at://did:plc:hop7a2yzhmedibx2pyq7s2yr/app.bsky.feed.post/3lphd5nxes72q, cid=bafyreidvmnusnaurzpjkvrrma3uw35svrsgacapogytt73dybpwvxoa52y, author=Author(did=did:plc:hop7a2yzhmedibx2pyq7s2yr, handle=intellijidea.com, displayName=IntelliJ IDEA, a JetBrains IDE, avatar=https://cdn.bsky.app/img/avatar/plain/did:plc:hop7a2yzhmedibx2pyq7s2yr/bafkreifqia7zlqmjxxras4zlxzodeetma3bdfudsvy3ileuq3qt2z57xhq@jpeg), indexedAt=2025-05-18T15:00:38.918Z, record=Record(text=Guess what #Java was up to in 2011! And what were you doing back then? \n",
       "#Java30Countdown #Java30, embed=Embed(images=[Image(thumb=null, fullsize=null, alt=)]), createdAt=2025-05-18T15:00:38.174Z), replyCount=1, repostCount=1, likeCount=2, quoteCount=0), Post(uri=at://did:plc:a6kts6emu6245qj6t4wn35nw/app.bsky.feed.post/3lphd4iwjxk2a, cid=bafyreielbk37kiq7ddjuww2weiybhitpzkus2vupd2boo5jfl6duxkcucm, author=Author(did=did:plc:a6kts6emu6245qj6t4wn35nw, handle=gunnarmorling.dev, displayName=Gunnar Morling, avatar=https://cdn.bsky.app/img/avatar/plain/did:plc:a6kts6emu6245qj6t4wn35nw/bafkreiavmhv2ukenwlkcbtjq6qwsrjsddwxl3til4t432swj7qdrka6y6m@jpeg), indexedAt=2025-05-18T15:00:04.628Z, record=Record(text=\"Towards a JSON API for the JDK\"\n",
       "\n",
       "New proposal on the core-libs-dev list for adding a basic JSON API to #Java. That would be a more than welcome addition, in particular considering the envisioned usage once member patterns will be available. Make it So 🤩!\n",
       "\n",
       "mail.openjdk.org/pipermail/co..., embed=Embed(images=[Image(thumb=null, fullsize=null, alt=)]), createdAt=2025-05-18T14:59:59.534Z), replyCount=0, repostCount=1, likeCount=13, quoteCount=0), Post(uri=at://did:plc:7og4ug52pk6bvvau73fmi2mg/app.bsky.feed.post/3lphckp6yrs2i, cid=bafyreiepmwgbfreqttyysvdimb33rsmyxadxwg3fkh3vrncf6epwpw4dpe, author=Author(did=did:plc:7og4ug52pk6bvvau73fmi2mg, handle=flexdown.bsky.social, displayName=Flexdown, avatar=https://cdn.bsky.app/img/avatar/plain/did:plc:7og4ug52pk6bvvau73fmi2mg/bafkreif3iczm4wvhw6haq62dd6zaspbscopblgabgvardbvgjeblqc3ura@jpeg), indexedAt=2025-05-18T14:50:11.718Z, record=Record(text=Java Burn Weight Loss Coffee \n",
       "Visit Website - flaxdown.blogspot.com/2025/03/java..., embed=Embed(images=null), createdAt=2025-05-18T14:50:02.123Z), replyCount=0, repostCount=0, likeCount=0, quoteCount=0), Post(uri=at://did:plc:k4g5euupso6tdnna6sfrldye/app.bsky.feed.post/3lphcgqshnj2j, cid=bafyreiddltpou2ink2wscfq4j4iem2b2t6wb7ud774ajs4hizufdbyfpd4, author=Author(did=did:plc:k4g5euupso6tdnna6sfrldye, handle=nullpro.bsky.social, displayName=Hello Web World!, avatar=https://cdn.bsky.app/img/avatar/plain/did:plc:k4g5euupso6tdnna6sfrldye/bafkreia26gjfnjtwjrvpgrueqf2brxga7opgse6cy4f5nsxacky775du3m@jpeg), indexedAt=2025-05-18T14:47:49.812Z, record=Record(text=Estaty - Multivendor Real Estate / Property Listing Website (Subscription Based) https://www.nullpro.net/resources/estaty-multivendor-real-estate-property-listing-website-subscription-based.24777/ #webmaster  #Community #PHP-Java-JavaScript, embed=null, createdAt=2025-05-18T14:47:49+00:00), replyCount=0, repostCount=0, likeCount=0, quoteCount=0), Post(uri=at://did:plc:vjijfsy4jybfmntq6tt24yex/app.bsky.feed.post/3lphc6twcr22d, cid=bafyreicjcemwjbarwvpwc4343cn6r4zprsgo5d2fh6bm62pdti33vs45xe, author=Author(did=did:plc:vjijfsy4jybfmntq6tt24yex, handle=ner0k1.bsky.social, displayName=Ner0K1, avatar=https://cdn.bsky.app/img/avatar/plain/did:plc:vjijfsy4jybfmntq6tt24yex/bafkreiafp6osbotlhmvzq6qddjpqhqf354gnw3i4h66o6wd6b4c45ds4q4@jpeg), indexedAt=2025-05-18T14:43:25.714Z, record=Record(text=Fair point, although my first language was java, java 8 specifically with Eclipse and editor, consequently I was 8 at the time, so, it can not get worse than it was back then for me, embed=null, createdAt=2025-05-18T14:43:24.429Z), replyCount=0, repostCount=0, likeCount=1, quoteCount=0), Post(uri=at://did:plc:rlpry74qhjqgenol2o2q4jnj/app.bsky.feed.post/3lphbgptgnc2s, cid=bafyreia4h2vccgu7pdn6gnv5vfp5tel3wbwbkse3atjmw347wsi5kdmbfq, author=Author(did=did:plc:rlpry74qhjqgenol2o2q4jnj, handle=shyguy852000.bsky.social, displayName=, avatar=https://cdn.bsky.app/img/avatar/plain/did:plc:rlpry74qhjqgenol2o2q4jnj/bafkreidzkkgy7wcbmkis2fhxm2glromf7lmxpmjdd5x6hvitzhpyu44vfm@jpeg), indexedAt=2025-05-18T14:29:56.121Z, record=Record(text=Please do and one thing I have to ask is since you guys more than likely, don't plan on fixing the nether roof bug on Java can you guys at least add it to bedrock? Since you're going for parody Please 🙏 i have so many ideas for it., embed=null, createdAt=2025-05-18T14:29:54.834Z), replyCount=0, repostCount=0, likeCount=0, quoteCount=0), Post(uri=at://did:plc:i53e6y3liw2oaw4s6e6odw5m/app.bsky.feed.post/3lphb6b5x322g, cid=bafyreihubbjczaeffglxvratypb5qkimvh4d2dj6gb3ujl7yj2fryuepde, author=Author(did=did:plc:i53e6y3liw2oaw4s6e6odw5m, handle=bluesky.awakari.com, displayName=Awakari, avatar=https://cdn.bsky.app/img/avatar/plain/did:plc:i53e6y3liw2oaw4s6e6odw5m/bafkreicvyjeywe5ph65avri3hzojqocoowoqwh3htd7dlazqgwzsnuyjfy@jpeg), indexedAt=2025-05-18T14:25:11.617Z, record=Record(text= and in the meantime I got both the Bedrock and Java edition of Minecraft working \n",
       "\n",
       "| Details | Interest | Feed |, embed=Embed(images=null), createdAt=2025-05-18T14:25:10Z), replyCount=0, repostCount=0, likeCount=0, quoteCount=0), Post(uri=at://did:plc:i53e6y3liw2oaw4s6e6odw5m/app.bsky.feed.post/3lphb5adaju2g, cid=bafyreie2rpqyts7ousga5mj4npp44oogtyduvfdchpcflf6zmx7ybib3py, author=Author(did=did:plc:i53e6y3liw2oaw4s6e6odw5m, handle=bluesky.awakari.com, displayName=Awakari, avatar=https://cdn.bsky.app/img/avatar/plain/did:plc:i53e6y3liw2oaw4s6e6odw5m/bafkreicvyjeywe5ph65avri3hzojqocoowoqwh3htd7dlazqgwzsnuyjfy@jpeg), indexedAt=2025-05-18T14:24:36.716Z, record=Record(text= and in the meantime I got both the Bedrock and Java edition of Minecraft working \n",
       "\n",
       "| Details | Interest | Feed |, embed=Embed(images=null), createdAt=2025-05-18T14:24:36Z), replyCount=0, repostCount=0, likeCount=0, quoteCount=0), Post(uri=at://did:plc:i53e6y3liw2oaw4s6e6odw5m/app.bsky.feed.post/3lphakxwsbp2p, cid=bafyreibnixvf3gbltmax2otk7oafrixkwdt2pl3ejji2f2flllcdxxgyd4, author=Author(did=did:plc:i53e6y3liw2oaw4s6e6odw5m, handle=bluesky.awakari.com, displayName=Awakari, avatar=https://cdn.bsky.app/img/avatar/plain/did:plc:i53e6y3liw2oaw4s6e6odw5m/bafkreicvyjeywe5ph65avri3hzojqocoowoqwh3htd7dlazqgwzsnuyjfy@jpeg), indexedAt=2025-05-18T14:14:24.118Z, record=Record(text=Java spring framework for web Rest json SERVICES Freelancer Freelancer_project_39421124 Apache Maven J2EE Java Spring RESTful Software Architecture Freelancer - New Projects webmaster@freelancer.com Please check GitHub repo before bid Need to perform 4 ...\n",
       "\n",
       "| Details | Interest | Feed |, embed=Embed(images=null), createdAt=2025-05-18T14:14:23Z), replyCount=0, repostCount=1, likeCount=1, quoteCount=0), Post(uri=at://did:plc:cip4bje5oofzyzijdtuxo5fg/app.bsky.feed.post/3lpha5a7wxk2u, cid=bafyreidd6nryqlruf3mnq32ccwcl4c4god22jcqvrklhc2splkp37h7jlq, author=Author(did=did:plc:cip4bje5oofzyzijdtuxo5fg, handle=glek.glektarssza.com, displayName=G'lek Tarssza, avatar=https://cdn.bsky.app/img/avatar/plain/did:plc:cip4bje5oofzyzijdtuxo5fg/bafkreifbqwzosqeijfvxelrq3jx645fta4lwufcn4h7pb247hsuddugjay@jpeg), indexedAt=2025-05-18T14:06:42.827Z, record=Record(text=For the curious; Java is apparently casting both short values into integers before performing the math, meaning I need to explicitly downcast the result back to a short again in order to return it.\n",
       "\n",
       "Very dumb., embed=null, createdAt=2025-05-18T14:06:41.801Z), replyCount=1, repostCount=0, likeCount=1, quoteCount=0), Post(uri=at://did:plc:cip4bje5oofzyzijdtuxo5fg/app.bsky.feed.post/3lpha57dgu22u, cid=bafyreigca6cuf7vqwteqvqig3qba2besgqjukqxzysshqaksizfmzdqb3u, author=Author(did=did:plc:cip4bje5oofzyzijdtuxo5fg, handle=glek.glektarssza.com, displayName=G'lek Tarssza, avatar=https://cdn.bsky.app/img/avatar/plain/did:plc:cip4bje5oofzyzijdtuxo5fg/bafkreifbqwzosqeijfvxelrq3jx645fta4lwufcn4h7pb247hsuddugjay@jpeg), indexedAt=2025-05-18T14:06:42.812Z, record=Record(text=And people say JavaScript is weird...\n",
       "\n",
       "#programming #dumb #java, embed=Embed(images=[Image(thumb=null, fullsize=null, alt=)]), createdAt=2025-05-18T14:06:41.800Z), replyCount=1, repostCount=1, likeCount=3, quoteCount=0), Post(uri=at://did:plc:s54kh2hgpayjdprr4325zxik/app.bsky.feed.post/3lphal3nff6b2, cid=bafyreiefpsclv26sc62dicssoyc23rvdptx27fby52xvj3z5ulszuzqj4m, author=Author(did=did:plc:s54kh2hgpayjdprr4325zxik, handle=JavaJobs.activitypub.awakari.com.ap.brid.gy, displayName=JavaJobs, avatar=https://cdn.bsky.app/img/avatar/plain/did:plc:s54kh2hgpayjdprr4325zxik/bafkreibltzp64wgqko2zybvena2ajvyo6rt7gzw7qnyr3wfmp6qorslkhu@jpeg), indexedAt=2025-05-18T14:14:40.618Z, record=Record(text=\n",
       "\n",
       "https://www.freelancer.com/projects/software-architecture/Java-spring-framework-for-web.html\n",
       "\n",
       "#Apache #Maven #J2EE #Java #Spring #RESTful #Software #Architecture\n",
       "\n",
       "Result Details, embed=Embed(images=null), createdAt=2025-05-18T14:04:05.000Z), replyCount=0, repostCount=0, likeCount=0, quoteCount=0), Post(uri=at://did:plc:eidn2o5kwuaqcss7zo7ivye5/app.bsky.feed.post/3lph7v442kk2i, cid=bafyreie3jfiunamxzi2l27qwft2zzjgf4zwwxpmws5pes35ninwfsplnx4, author=Author(did=did:plc:eidn2o5kwuaqcss7zo7ivye5, handle=github-trending.bsky.social, displayName=GitHub Trending 🤖, avatar=https://cdn.bsky.app/img/avatar/plain/did:plc:eidn2o5kwuaqcss7zo7ivye5/bafkreidbupniul36l7npohruhcxv6re3jubzkcbttkbtw5tpxjna5h3mge@jpeg), indexedAt=2025-05-18T14:02:10.716Z, record=Record(text=🚀 Skyrocketing！ 🚀 (200+ new stars)\n",
       "\n",
       "📦 Stirling-Tools / Stirling-PDF\n",
       "⭐ 59,189 (+242)\n",
       "🗒 Java\n",
       "\n",
       "#1 Locally hosted web application that allows you to perform various operations on PDF files, embed=Embed(images=null), createdAt=2025-05-18T14:02:09.889Z), replyCount=0, repostCount=1, likeCount=1, quoteCount=0), Post(uri=at://did:plc:dh26y4n3ehkvhcnelger6mht/app.bsky.feed.post/3lph7ugwkzc2d, cid=bafyreiai6e7pzlghimbp6h4l73phme6qjxcqz5z6ah4jv2huea427uatnm, author=Author(did=did:plc:dh26y4n3ehkvhcnelger6mht, handle=vepo.dev, displayName=Victor Osório , avatar=https://cdn.bsky.app/img/avatar/plain/did:plc:dh26y4n3ehkvhcnelger6mht/bafkreiaszcqhhm3viyjjmugykeunfafu57efwhhmro4s42lcpmqfdqh3h4@jpeg), indexedAt=2025-05-18T14:01:51.217Z, record=Record(text=Cara, sempre teve bibliotecas para fazer isso. Eu usei uma em C muitos anos atrás. Tinha uma em Java no Apache e agora tem o picocli. Deve ter uma em Go também.\n",
       "\n",
       "stackoverflow.com/a/24479532, embed=Embed(images=null), createdAt=2025-05-18T14:01:47.777Z), replyCount=0, repostCount=0, likeCount=0, quoteCount=0), Post(uri=at://did:plc:i53e6y3liw2oaw4s6e6odw5m/app.bsky.feed.post/3lph7se2qsc2g, cid=bafyreibrgfitjnerzuz4xp5hl3rfy7e6ca7n6wsdvypfi2qqxicbo55pda, author=Author(did=did:plc:i53e6y3liw2oaw4s6e6odw5m, handle=bluesky.awakari.com, displayName=Awakari, avatar=https://cdn.bsky.app/img/avatar/plain/did:plc:i53e6y3liw2oaw4s6e6odw5m/bafkreicvyjeywe5ph65avri3hzojqocoowoqwh3htd7dlazqgwzsnuyjfy@jpeg), indexedAt=2025-05-18T14:00:37.816Z, record=Record(text=https://www. minenest.com/471363/ found a nice java seed on 25w20a # Minecraft # MinecraftSeeds | Details | Interest | Feed |\n",
       "\n",
       "| Details | Interest | Feed |, embed=Embed(images=null), createdAt=2025-05-18T14:00:37Z), replyCount=0, repostCount=0, likeCount=0, quoteCount=0), Post(uri=at://did:plc:3fe25qalw4rfzrty3xyutj7c/app.bsky.feed.post/3lph7j4jiss23, cid=bafyreiax5ju4bl64ok6abw76bt7rsqgjwlylomsdzpl6je7hzemkfbmzjm, author=Author(did=did:plc:3fe25qalw4rfzrty3xyutj7c, handle=topickapp.bsky.social, displayName=topickapp (IT技術系ニュースサイト), avatar=https://cdn.bsky.app/img/avatar/plain/did:plc:3fe25qalw4rfzrty3xyutj7c/bafkreigk3krxyg4ziemipek74akdnpoxhrmo352cptjf2tnn6anklycxsa@jpeg), indexedAt=2025-05-18T13:55:28.716Z, record=Record(text=https://github.com/moustafa-nasr/fahmatrix\n",
       "Fahmatrixは、Javaで表形式データを扱うための軽量なライブラリです。\n",
       "PythonのPandasに触発され、JVM上でのデータ理解を容易にすることを目指しています。\n",
       "CSVファイルの読み込みやプレビュー、行のフィルタリング、列の選択が可能です。#python, embed=Embed(images=null), createdAt=2025-05-18T13:55:27.689096+00:00), replyCount=0, repostCount=0, likeCount=0, quoteCount=0), Post(uri=at://did:plc:4jyopfadf5rsejay5qfpnjrg/app.bsky.feed.post/3lph7i7uivf26, cid=bafyreieemyrvtxjbqvb3pyppwv76pat47nleh7etwnqlvj3ixtwhz4mbby, author=Author(did=did:plc:4jyopfadf5rsejay5qfpnjrg, handle=surabayabromotour.bsky.social, displayName=SurabayaBromoTour, avatar=https://cdn.bsky.app/img/avatar/plain/did:plc:4jyopfadf5rsejay5qfpnjrg/bafkreic32ydyu3yrzhftj5mcd3y6vbrig42yirk5hdcitnlpz4gvbnce7a@jpeg), indexedAt=2025-05-18T13:54:58.712Z, record=Record(text=Ijen Blue Fire Closed? Mount Ijen, located in East Java, Indonesia, is renowned for its mesmerizing blue fire phenomenon—a rare natural occurrence that attracts thousands of tourists annually.\n",
       "surabayabromotour.com/ijen-blue-fi..., embed=Embed(images=null), createdAt=2025-05-18T13:54:52Z), replyCount=0, repostCount=0, likeCount=0, quoteCount=0), Post(uri=at://did:plc:mcs3jggz7fnnvlira7ugsde2/app.bsky.feed.post/3lph7h73cm225, cid=bafyreieitacvcv422jrxtx524ti3zzwcacolnqz7prkqyucqlrxaqjqnzm, author=Author(did=did:plc:mcs3jggz7fnnvlira7ugsde2, handle=tchize.bsky.social, displayName=Delbecq David‏, avatar=https://cdn.bsky.app/img/avatar/plain/did:plc:mcs3jggz7fnnvlira7ugsde2/bafkreiay5pefqypa47tu2ug55ks32dggfkzdwgk7p7xpytekcacd3rgdme@jpeg), indexedAt=2025-05-18T13:54:24.017Z, record=Record(text=You are wrong, I thought the people at intellij would knew a bit of java 😅. docs.oracle.com/javase/specs...\n",
       "\n",
       "If the value p being boxed is ...  int  ..  between -128 and 127 (inclusive), then let r1 and r2 be the results of any two boxing conversions of p. It is always the case that r1 == r2., embed=Embed(images=null), createdAt=2025-05-18T13:54:23.335Z), replyCount=0, repostCount=0, likeCount=0, quoteCount=0), Post(uri=at://did:plc:i53e6y3liw2oaw4s6e6odw5m/app.bsky.feed.post/3lph6reghfd2p, cid=bafyreicj6xa3uz65vvb7ojyu5mrc32gfwm4ojqqbjz734lyqb3k4gkr244, author=Author(did=did:plc:i53e6y3liw2oaw4s6e6odw5m, handle=bluesky.awakari.com, displayName=Awakari, avatar=https://cdn.bsky.app/img/avatar/plain/did:plc:i53e6y3liw2oaw4s6e6odw5m/bafkreicvyjeywe5ph65avri3hzojqocoowoqwh3htd7dlazqgwzsnuyjfy@jpeg), indexedAt=2025-05-18T13:42:10.913Z, record=Record(text= https://www. minenest.com/471363/ found a nice java seed on 25w20a # Minecraft # MinecraftSeeds \n",
       "\n",
       "| Details | Interest | Feed |, embed=Embed(images=null), createdAt=2025-05-18T13:42:10Z), replyCount=0, repostCount=0, likeCount=0, quoteCount=0), Post(uri=at://did:plc:aw7hpd5p4a3mzq7srxwqtmed/app.bsky.feed.post/3lph7shvuq572, cid=bafyreifhc54ialadf2vfx7adoeom7t2q2yw4sl3voqcpscqu6fr256nzgi, author=Author(did=did:plc:aw7hpd5p4a3mzq7srxwqtmed, handle=Minecraft.activitypub.awakari.com.ap.brid.gy, displayName=Minecraft, avatar=https://cdn.bsky.app/img/avatar/plain/did:plc:aw7hpd5p4a3mzq7srxwqtmed/bafkreibltzp64wgqko2zybvena2ajvyo6rt7gzw7qnyr3wfmp6qorslkhu@jpeg), indexedAt=2025-05-18T14:00:54.914Z, record=Record(text=https://www. minenest.com/471363/ found a nice java seed on 25w20a # Minecraft # MinecraftSeeds |...\n",
       "\n",
       "https://bsky.app/profile/did:plc:i53e6y3liw2oaw4s6e6odw5m/post/3lph6reghfd2p\n",
       "\n",
       "Result Details, embed=Embed(images=null), createdAt=2025-05-18T13:42:10.000Z), replyCount=0, repostCount=0, likeCount=0, quoteCount=0), Post(uri=at://did:plc:lo7jfgk7x5jvxe6h5jxbtlgn/app.bsky.feed.post/3lph6onqzns2j, cid=bafyreifoyronoke7ehtvnezzhqx7wieebcmp2rbv6xwz3tpv5qfz3obqq4, author=Author(did=did:plc:lo7jfgk7x5jvxe6h5jxbtlgn, handle=rackerdad03.bsky.social, displayName=Rackerdad3, avatar=https://cdn.bsky.app/img/avatar/plain/did:plc:lo7jfgk7x5jvxe6h5jxbtlgn/bafkreibn2mwi2l2wvji5haqps25joajy6zlsugw645yszacxungwdyz5ga@jpeg), indexedAt=2025-05-18T13:40:40.411Z, record=Record(text=Caravan? Scottish Breakfast? Straight Java, long steep (5 minutes) in a French Press????\n",
       "\n",
       "Inquiring minds...☕, embed=null, createdAt=2025-05-18T13:40:39.868Z), replyCount=0, repostCount=0, likeCount=0, quoteCount=0), Post(uri=at://did:plc:tbuuoxuit5plrmzls5h7lqx4/app.bsky.feed.post/3lph6mwt7xo2o, cid=bafyreihlko7g6dbwjh2ioegvtyk2iw6rejhioswri6qtmd5cxeuu246sua, author=Author(did=did:plc:tbuuoxuit5plrmzls5h7lqx4, handle=hima.elpher.org, displayName=暇人鯖【公式】, avatar=https://cdn.bsky.app/img/avatar/plain/did:plc:tbuuoxuit5plrmzls5h7lqx4/bafkreicxkqrke4vla4izxprh6icfaqn3s6hlpeftvcaejwfbm5p62qxmti@jpeg), indexedAt=2025-05-18T13:39:42.415Z, record=Record(text=discord.gg/3u7vKV39K4\n",
       "《暇人鯖》\n",
       "暇人たちの鯖/マイクラ/雑談/TRPG/ゲーム\n",
       "Java/統合版対応のマイクラサーバーが利用可能！\n",
       "🍀公開から1週間で600人達成！\n",
       "会話やカジノで楽しめます！\n",
       "💕メンバーの意見を積極的に取り入れてより良いサーバーにしていきます！\n",
       "《🫶ぜひご参加ください！🫶》, embed=null, createdAt=2025-05-18T13:39:41.966Z), replyCount=0, repostCount=0, likeCount=0, quoteCount=0), Post(uri=at://did:plc:ipb4eucrkcu2ybxnsach3zrg/app.bsky.feed.post/3lph6blllm42r, cid=bafyreihatlq5qrlszkd46jphthe4xh5qaqkoxtpa3tq55hxiqjp4dux6uy, author=Author(did=did:plc:ipb4eucrkcu2ybxnsach3zrg, handle=sarikaarina.bsky.social, displayName=Sari Kaarina 📎 , avatar=https://cdn.bsky.app/img/avatar/plain/did:plc:ipb4eucrkcu2ybxnsach3zrg/bafkreidpejr2s2hbzof3ksewjduv3yoqhtvxpttzk7ja7u3rqcaln7b46u@jpeg), indexedAt=2025-05-18T13:33:25.914Z, record=Record(text=As a youngster I would enjoy browsing through the thick Saturday Star\n",
       "THIS VIDEO IS WORTH WATCHING WITH YOUR MORNING JAVA \n",
       "youtu.be/JIsBoUTsJlM?..., embed=Embed(images=null), createdAt=2025-05-18T13:33:21.370Z), replyCount=0, repostCount=0, likeCount=0, quoteCount=0), Post(uri=at://did:plc:y6mosu2ocb65ent5prvvsuja/app.bsky.feed.post/3lph6cbeoak26, cid=bafyreihcrjf4oxuaqttufkobmcre3rcxwrzfv7iihpqhvmnf27pqmkgdny, author=Author(did=did:plc:y6mosu2ocb65ent5prvvsuja, handle=putriprihatini.bsky.social, displayName=Putri Prihatini, avatar=https://cdn.bsky.app/img/avatar/plain/did:plc:y6mosu2ocb65ent5prvvsuja/bafkreicl54y74bx5i2rx6uz4savriqgjgjm23gjqvhv5zbsw45ry3vigfa@jpeg), indexedAt=2025-05-18T13:33:49.005Z, record=Record(text=Text image and verses were taken from \"Serat Katoerangganing Koetjing\" (1871, or in Javanese year, 1799), published by G. C. T van Dorp & Co., Semarang, Central Java., embed=Embed(images=[Image(thumb=null, fullsize=null, alt=A photograph of a white and grey tabby kitten with black stripes. It is sitting on its hind on a white, reflecting floor and staring at the camera.)]), createdAt=2025-05-18T13:33:11.529Z), replyCount=0, repostCount=0, likeCount=3, quoteCount=0), Post(uri=at://did:plc:3jux5cxpxjeww6v3fbhalgsc/app.bsky.feed.post/3lph5dlgii22i, cid=bafyreiho4zsh2dcqvzwoe2m3pbt5vkwq7ku2rk3bhmdj3cp3vjbxncf6wq, author=Author(did=did:plc:3jux5cxpxjeww6v3fbhalgsc, handle=minuslife.bsky.social, displayName=Minus, avatar=https://cdn.bsky.app/img/avatar/plain/did:plc:3jux5cxpxjeww6v3fbhalgsc/bafkreidpvuolwwtmknsto6mfhhqilwwvqsqjycu3eungfjw4eezte5cdsm@jpeg), indexedAt=2025-05-18T13:16:43.110Z, record=Record(text=I haven't had a Monster in YEARS. This weekend called for one. 🫡, embed=Embed(images=[Image(thumb=null, fullsize=null, alt=Loca Moca Java Monster drink.)]), createdAt=2025-05-18T13:16:34.564Z), replyCount=1, repostCount=0, likeCount=2, quoteCount=0), Post(uri=at://did:plc:6dalyv5y3bkxp5qgdvxaxjm5/app.bsky.feed.post/3lph4jyzoic2p, cid=bafyreihcg63fr267osseravi22cx6ochp2h27yjbtp6s3km3dds6t4ihre, author=Author(did=did:plc:6dalyv5y3bkxp5qgdvxaxjm5, handle=dash-notheactualworddash.com, displayName=Al , avatar=https://cdn.bsky.app/img/avatar/plain/did:plc:6dalyv5y3bkxp5qgdvxaxjm5/bafkreih2dpry4ryonhjckzwy5ru2tfcy6b43y4qdac6zq75a3l6hhni5qq@jpeg), indexedAt=2025-05-18T13:02:16.619Z, record=Record(text=Java and C programmers really depleted the supply of semicolons, embed=Embed(images=null), createdAt=2025-05-18T13:02:16.429Z), replyCount=0, repostCount=0, likeCount=0, quoteCount=0), Post(uri=at://did:plc:nyxzwcgwkzvtqqku6wbanv5n/app.bsky.feed.post/3lph4jddqgk2o, cid=bafyreiakovn42t2g5kgqmwjx6n4dc23ukrzdlalibzvtlyy3nzendwfqxa, author=Author(did=did:plc:nyxzwcgwkzvtqqku6wbanv5n, handle=cronicadearqueo.bsky.social, displayName=, avatar=https://cdn.bsky.app/img/avatar/plain/did:plc:nyxzwcgwkzvtqqku6wbanv5n/bafkreidd67h5lfn6b4o6mq3owfjfxlerwbznch5nscfo6rfqssz34j5ijm@jpeg), indexedAt=2025-05-18T13:01:59.018Z, record=Record(text=Documentados nuevos restos fósiles en La isla de Java (Indonesia) que corresponden a homínidos del Pleistoceno: Homo erectus. Los nuevos restos se han hallado a partir de la extracción de arena marina en el estrecho de Madura. Junto a los restos humanos se han hallado 6000 fósiles de vertebrados., embed=Embed(images=[Image(thumb=null, fullsize=null, alt=)]), createdAt=2025-05-18T13:01:53.687Z), replyCount=1, repostCount=0, likeCount=0, quoteCount=0), Post(uri=at://did:plc:mdbqzzourusu777rzqn6ignm/app.bsky.feed.post/3lph4fbm7sc2w, cid=bafyreiaaozdsirhz7xozjuhgknojr43itw3sc4ykckpraz7qzfirndym2y, author=Author(did=did:plc:mdbqzzourusu777rzqn6ignm, handle=3dawglady.bsky.social, displayName=, avatar=https://cdn.bsky.app/img/avatar/plain/did:plc:mdbqzzourusu777rzqn6ignm/bafkreigmdx7jjcweyegzkdlel3u6ctcjjcnyqvvtulivpvzsrxovk3yojy@jpeg), indexedAt=2025-05-18T12:59:40.316Z, record=Record(text=It seems like in another life...many years ago, I owned 2 coffee shops on St. Simons Island, Ga., where I use to live!  My parents let me sip on their cups of java...and, yes, I let mine also...lolol...but, it is my favorite drink..and then being from the south...love my sweet tea!, embed=null, createdAt=2025-05-18T12:59:37.654Z), replyCount=1, repostCount=0, likeCount=1, quoteCount=0), Post(uri=at://did:plc:i53e6y3liw2oaw4s6e6odw5m/app.bsky.feed.post/3lph45s7mht2s, cid=bafyreiftytjo2scxafq3od67namf5brklfoyl4pl4zfpktvkjttbpy3evu, author=Author(did=did:plc:i53e6y3liw2oaw4s6e6odw5m, handle=bluesky.awakari.com, displayName=Awakari, avatar=https://cdn.bsky.app/img/avatar/plain/did:plc:i53e6y3liw2oaw4s6e6odw5m/bafkreicvyjeywe5ph65avri3hzojqocoowoqwh3htd7dlazqgwzsnuyjfy@jpeg), indexedAt=2025-05-18T12:55:26.811Z, record=Record(text=250+ Practice Questions for Java SE 11 Developer Certification [1Z0-819] Exam Hello guys, I am very excited to announce the release of my new Udemy course, Java SE 11 Certification Practice Tests for the 1Z0-819 exam. This is one of my dream projects wh...\n",
       "\n",
       "| Details | Interest | Feed |, embed=Embed(images=null), createdAt=2025-05-18T12:55:26Z), replyCount=0, repostCount=1, likeCount=1, quoteCount=0), Post(uri=at://did:plc:i53e6y3liw2oaw4s6e6odw5m/app.bsky.feed.post/3lph45odoa72g, cid=bafyreidthbawatppekzbqy7d34ndlbhgnzya6nn3q5ipbo6rfrdogt6xpa, author=Author(did=did:plc:i53e6y3liw2oaw4s6e6odw5m, handle=bluesky.awakari.com, displayName=Awakari, avatar=https://cdn.bsky.app/img/avatar/plain/did:plc:i53e6y3liw2oaw4s6e6odw5m/bafkreicvyjeywe5ph65avri3hzojqocoowoqwh3htd7dlazqgwzsnuyjfy@jpeg), indexedAt=2025-05-18T12:55:23.415Z, record=Record(text=250+ Practice Questions for Java SE 11 Developer Certification [1Z0-819] Exam Hello guys, I am very excited to announce the release of my new Udemy course, Java SE 11 Certification Practice Tests for the 1Z0-819 exam. This is one of my dream projects wh...\n",
       "\n",
       "| Details | Interest | Feed |, embed=Embed(images=null), createdAt=2025-05-18T12:55:22Z), replyCount=0, repostCount=1, likeCount=1, quoteCount=0), Post(uri=at://did:plc:i53e6y3liw2oaw4s6e6odw5m/app.bsky.feed.post/3lph45ogu2w2o, cid=bafyreiegzl7jtkyhzj5peek5b5roatl6yysakeql56n3dtoappd6qg4qb4, author=Author(did=did:plc:i53e6y3liw2oaw4s6e6odw5m, handle=bluesky.awakari.com, displayName=Awakari, avatar=https://cdn.bsky.app/img/avatar/plain/did:plc:i53e6y3liw2oaw4s6e6odw5m/bafkreicvyjeywe5ph65avri3hzojqocoowoqwh3htd7dlazqgwzsnuyjfy@jpeg), indexedAt=2025-05-18T12:55:23.430Z, record=Record(text=250+ Practice Questions for Java SE 11 Developer Certification [1Z0-819] Exam Hello guys, I am very excited to announce the release of my new Udemy course, Java SE 11 Certification Practice Tests for the 1Z0-819 exam. This is one of my dream projects wh...\n",
       "\n",
       "| Details | Interest | Feed |, embed=Embed(images=null), createdAt=2025-05-18T12:55:22Z), replyCount=0, repostCount=1, likeCount=1, quoteCount=0), Post(uri=at://did:plc:i53e6y3liw2oaw4s6e6odw5m/app.bsky.feed.post/3lph45kttv527, cid=bafyreihybs7dyl6mildfsdhaq3hwflz7w72zzwjblfkj7y75pucb6eb6la, author=Author(did=did:plc:i53e6y3liw2oaw4s6e6odw5m, handle=bluesky.awakari.com, displayName=Awakari, avatar=https://cdn.bsky.app/img/avatar/plain/did:plc:i53e6y3liw2oaw4s6e6odw5m/bafkreicvyjeywe5ph65avri3hzojqocoowoqwh3htd7dlazqgwzsnuyjfy@jpeg), indexedAt=2025-05-18T12:55:19.113Z, record=Record(text=250+ Practice Questions for Java SE 11 Developer Certification [1Z0-819] Exam Hello guys, I am very excited to announce the release of my new Udemy course, Java SE 11 Certification Practice Tests for the 1Z0-819 exam. This is one of my dream projects wh...\n",
       "\n",
       "| Details | Interest | Feed |, embed=Embed(images=null), createdAt=2025-05-18T12:55:18Z), replyCount=0, repostCount=1, likeCount=1, quoteCount=0), Post(uri=at://did:plc:t33dwztd5plbmb2hqzehw3qz/app.bsky.feed.post/3lph43necc22x, cid=bafyreidb7mbsnau77hzbyqsmkplra4j62qr6263du3g5z5yykygvdymsxe, author=Author(did=did:plc:t33dwztd5plbmb2hqzehw3qz, handle=lihaoyi.com, displayName=, avatar=https://cdn.bsky.app/img/avatar/plain/did:plc:t33dwztd5plbmb2hqzehw3qz/bafkreid4qrhzv42hwgckjx2k5drpa56527rs3yvuzuoftuugnfbgdarl3y@jpeg), indexedAt=2025-05-18T12:54:20.715Z, record=Record(text=Giving a talk \"Untapped Potential in the Java Build Tool Experience\" at the Vienna Java meetup tomorrow evening, 19 May. If you are in Vienna and are interested in JVM developer tooling and user experience, come by and say hi!\n",
       "\n",
       "www.meetup.com/java-vienna/..., embed=Embed(images=null), createdAt=2025-05-18T12:54:14.432Z), replyCount=0, repostCount=0, likeCount=1, quoteCount=0), Post(uri=at://did:plc:7wcbbrmux3sy6n3ncnhaazqc/app.bsky.feed.post/3lpgzvvfymk2s, cid=bafyreifeybuqqfzub3xuaci6dpqmfbcy2vj2eato3gqmwlgcs5v7xn2qa4, author=Author(did=did:plc:7wcbbrmux3sy6n3ncnhaazqc, handle=thatjeffsmith.com, displayName=Jeff Smith, avatar=https://cdn.bsky.app/img/avatar/plain/did:plc:7wcbbrmux3sy6n3ncnhaazqc/bafkreigb47kqd5dxh23zssx2kmkbbicubpgoe5b73imt3rklyqux5phwee@jpeg), indexedAt=2025-05-18T12:15:14.517Z, record=Record(text=A surprisingly decent take on Oracle, however. \n",
       "\n",
       "Were cheapest for executing sql by cpu time - Cloud pricing changes everything.  We can beat most competitors for the performance and loads.\n",
       "\n",
       "Also our open source record speaks for itself. MySQL, Java, VirtualBox have all seen tons of innovation., embed=null, createdAt=2025-05-18T12:15:14.066Z), replyCount=0, repostCount=0, likeCount=0, quoteCount=0), Post(uri=at://did:plc:p33thmgdh77tvnvy7uocmf6d/app.bsky.feed.post/3lpgzkt2wz22z, cid=bafyreiegxlmhurmfmf6nriy6ev6iogfbwvel3edltnxydg6m4vujgz6lou, author=Author(did=did:plc:p33thmgdh77tvnvy7uocmf6d, handle=kyke1997.bsky.social, displayName=𝕂𝕪𝕜𝕖, avatar=https://cdn.bsky.app/img/avatar/plain/did:plc:p33thmgdh77tvnvy7uocmf6d/bafkreifmexpaj3ribz46iif46alggtkzryo65iba5ylyko7pfoyzvotv2m@jpeg), indexedAt=2025-05-18T12:09:01.464Z, record=Record(text=- No uséis los productos Gilette.\n",
       "- No uséis Java en vuestro ordenador puesto que están con un software israelí.\n",
       "- No compréis los dentífricos principales del mercado.\n",
       "- No uséis el hardware Intel.\n",
       "- No compréis productos Nestlé.\n",
       "- No compréis ropa de marca ya que todas financian a Israel., embed=null, createdAt=2025-05-18T12:09:02.496Z), replyCount=1, repostCount=0, likeCount=5, quoteCount=0), Post(uri=at://did:plc:buhmlcwbu5eqh2tsqne3ebmb/app.bsky.feed.post/3lpgzfy3gvs2z, cid=bafyreihschvqjvo6uyg3slpqfktrvtaxeis42o25h5j4m7vyh3kuisvecm, author=Author(did=did:plc:buhmlcwbu5eqh2tsqne3ebmb, handle=sowilothebard.bsky.social, displayName=🎼Sowilo el musicas🎶, avatar=https://cdn.bsky.app/img/avatar/plain/did:plc:buhmlcwbu5eqh2tsqne3ebmb/bafkreihhikic426rsoq6ggx5p3i5otr3lwayopsnvfkwgpw2sf3solgaba@jpeg), indexedAt=2025-05-18T12:06:20.419Z, record=Record(text=Java!, embed=null, createdAt=2025-05-18T12:06:19.988Z), replyCount=1, repostCount=0, likeCount=0, quoteCount=0), Post(uri=at://did:plc:owo2l6v35uvk3axlrkz6d2wt/app.bsky.feed.post/3lpgzbu2s652m, cid=bafyreifpbk7lcabtkoezqvsxkvwdzpabvglrzn74ctj4oiv5b2d4nilida, author=Author(did=did:plc:owo2l6v35uvk3axlrkz6d2wt, handle=undercode.bsky.social, displayName=, avatar=https://cdn.bsky.app/img/avatar/plain/did:plc:owo2l6v35uvk3axlrkz6d2wt/bafkreihtk5jtfum66cayqnmsb5mxrxihnresicqwcnwt7a4u4xyw5j5avu@jpeg), indexedAt=2025-05-18T12:04:02.715Z, record=Record(text=AWS Cloud Development Kit (CDK) Explained\n",
       "\n",
       "AWS Cloud Development Kit (CDK) is an Infrastructure as Code (IaC) framework that allows developers to define cloud resources using familiar programming languages like Python, TypeScript, Java, and C. Unlike traditional templating tools like AWS…, embed=Embed(images=null), createdAt=2025-05-18T12:04:00Z), replyCount=0, repostCount=0, likeCount=0, quoteCount=0), Post(uri=at://did:plc:ezjk3vq6ooeilfnocwl3hoo7/app.bsky.feed.post/3lpgz6tct7n24, cid=bafyreiekqlrfbcfm6el2snttcjp3vo3iiajmljlsbh3lf5tr7k56qu24by, author=Author(did=did:plc:ezjk3vq6ooeilfnocwl3hoo7, handle=digitalbricklayer.bsky.social, displayName=, avatar=https://cdn.bsky.app/img/avatar/plain/did:plc:ezjk3vq6ooeilfnocwl3hoo7/bafkreichye4vlwzfjpcvhp5hkxvk6torapt6zngu3ovf6lb6lbxhnjvzje@jpeg), indexedAt=2025-05-18T12:02:20.618Z, record=Record(text=🚀 Descubra como otimizar sua aplicação com a paginação em bancos de dados! Neste vídeo, mergulhe na eficiência do Spring e aprenda a lidar com grandes volumes de dados sem causar lentidão. Não deixe sua app pegar fogo! #java #springboot #programacao Vídeo Completo Aqui, embed=Embed(images=[Image(thumb=null, fullsize=null, alt=)]), createdAt=2025-05-18T12:02:20.067247+00:00), replyCount=0, repostCount=1, likeCount=2, quoteCount=0), Post(uri=at://did:plc:r6za4fwrd263wmzxjlsa3obg/app.bsky.feed.post/3lpgyzhceks2c, cid=bafyreigjlftfbp7wraplwmkhheftvrhdaobwj6tjaivgz66zzxqvrj6ffm, author=Author(did=did:plc:r6za4fwrd263wmzxjlsa3obg, handle=zeveto.bsky.social, displayName=Victor de Nikita, avatar=https://cdn.bsky.app/img/avatar/plain/did:plc:r6za4fwrd263wmzxjlsa3obg/bafkreief3noh42bqhk5wg3djed2727wrah5cuaefzv6zqrxi7iuhzcock4@jpeg), indexedAt=2025-05-18T11:59:20.710Z, record=Record(text=¥€$ 😵\n",
       "\n",
       "C’est comme si Joey Star interprétait la Java bleue, la java qu’on danse avé les yeux 😂, embed=null, createdAt=2025-05-18T11:59:19.744Z), replyCount=1, repostCount=0, likeCount=1, quoteCount=0), Post(uri=at://did:plc:mdbqzzourusu777rzqn6ignm/app.bsky.feed.post/3lpgyct65t224, cid=bafyreihxa6tmts3rjm4dv4egyyt7rtfcugb5yrz2hpdlwihr6rgv4ckwly, author=Author(did=did:plc:mdbqzzourusu777rzqn6ignm, handle=3dawglady.bsky.social, displayName=, avatar=https://cdn.bsky.app/img/avatar/plain/did:plc:mdbqzzourusu777rzqn6ignm/bafkreigmdx7jjcweyegzkdlel3u6ctcjjcnyqvvtulivpvzsrxovk3yojy@jpeg), indexedAt=2025-05-18T11:46:46.714Z, record=Record(text=Happy Sunday Blue Sky friends! 💙\n",
       "\n",
       "Fixed my 1st cup of java...always that first sip....\n",
       "\n",
       "I hope whatever you do today, that everything is great!, embed=Embed(images=[Image(thumb=null, fullsize=null, alt=)]), createdAt=2025-05-18T11:46:40.416Z), replyCount=0, repostCount=1, likeCount=2, quoteCount=0), Post(uri=at://did:plc:mdbqzzourusu777rzqn6ignm/app.bsky.feed.post/3lpgy4ovdik24, cid=bafyreiaeqz2wbti5kzycsh7dyx4eh73juoxnvizgml6cw7rf5xxrstqum4, author=Author(did=did:plc:mdbqzzourusu777rzqn6ignm, handle=3dawglady.bsky.social, displayName=, avatar=https://cdn.bsky.app/img/avatar/plain/did:plc:mdbqzzourusu777rzqn6ignm/bafkreigmdx7jjcweyegzkdlel3u6ctcjjcnyqvvtulivpvzsrxovk3yojy@jpeg), indexedAt=2025-05-18T11:43:21.012Z, record=Record(text=Good Morning Foxy and my Blue Sky friends...\n",
       "\n",
       "Finally got my 1st cup of java, and feel like I just might make it!\n",
       "\n",
       "Let's all try and have a good day!, embed=Embed(images=[Image(thumb=null, fullsize=null, alt=)]), createdAt=2025-05-18T11:43:14.604Z), replyCount=3, repostCount=0, likeCount=3, quoteCount=0), Post(uri=at://did:plc:5jhdlgshdusvirqtpx5y4r4v/app.bsky.feed.post/3lpgxz7c4722b, cid=bafyreiap3gfi7fnzgecha23ht2efgzh3g3jqf7rrrlvawm3zc3z6df6oqe, author=Author(did=did:plc:5jhdlgshdusvirqtpx5y4r4v, handle=edulq.bsky.social, displayName=에두씨, avatar=https://cdn.bsky.app/img/avatar/plain/did:plc:5jhdlgshdusvirqtpx5y4r4v/bafkreifsguwbtcvlaxm25rgmjk6x4ouafbammv4vmancr6pdm36kakt4dy@jpeg), indexedAt=2025-05-18T11:41:18.430Z, record=Record(text=Pasarme la adolescencia jugando a juegos de paradox y a los total war ha hecho que pueda reconocer la isla de Java con tan solo ver un cacho de su costa pero que sea incapaz de hablarle de nuevas a un desconocido y tener una conversación, embed=null, createdAt=2025-05-18T11:41:17.560Z), replyCount=1, repostCount=0, likeCount=2, quoteCount=0), Post(uri=at://did:plc:tbuuoxuit5plrmzls5h7lqx4/app.bsky.feed.post/3lpgxwdvowe2x, cid=bafyreigwxnhh322dshrnf5inzxdc5733oveo3iksjqalnm632w4qqhxbzy, author=Author(did=did:plc:tbuuoxuit5plrmzls5h7lqx4, handle=hima.elpher.org, displayName=暇人鯖【公式】, avatar=https://cdn.bsky.app/img/avatar/plain/did:plc:tbuuoxuit5plrmzls5h7lqx4/bafkreicxkqrke4vla4izxprh6icfaqn3s6hlpeftvcaejwfbm5p62qxmti@jpeg), indexedAt=2025-05-18T11:39:41.916Z, record=Record(text=discord.gg/3u7vKV39K4\n",
       "《暇人鯖》\n",
       "暇人たちの鯖/マイクラ/雑談/TRPG/ゲーム\n",
       "Java/統合版対応のマイクラサーバーが利用可能！\n",
       "🍀公開から1週間で600人達成！\n",
       "会話やカジノで楽しめます！\n",
       "💕メンバーの意見を積極的に取り入れてより良いサーバーにしていきます！\n",
       "《🫶ぜひご参加ください！🫶》, embed=null, createdAt=2025-05-18T11:39:41.508Z), replyCount=0, repostCount=0, likeCount=0, quoteCount=0), Post(uri=at://did:plc:i53e6y3liw2oaw4s6e6odw5m/app.bsky.feed.post/3lpgxr3e4cr2g, cid=bafyreicce65bynvgiyy6rr3drlqujuyncx7xia6di3x7aawum5ahanhcv4, author=Author(did=did:plc:i53e6y3liw2oaw4s6e6odw5m, handle=bluesky.awakari.com, displayName=Awakari, avatar=https://cdn.bsky.app/img/avatar/plain/did:plc:i53e6y3liw2oaw4s6e6odw5m/bafkreicvyjeywe5ph65avri3hzojqocoowoqwh3htd7dlazqgwzsnuyjfy@jpeg), indexedAt=2025-05-18T11:36:45.311Z, record=Record(text=[DEALS] The ChatGPT & AI Super Bundle (91% off) & Other Deals Up To 98% Off – Offers End Soon! Hello fellow geeks, Fresh offers await you on our Deals store, please have a look! The ChatGPT & AI Super Bundle (91% off) Ending soon // by Java Code Geeks...\n",
       "\n",
       "| Details | Interest | Feed |, embed=Embed(images=null), createdAt=2025-05-18T11:36:44Z), replyCount=0, repostCount=0, likeCount=0, quoteCount=0), Post(uri=at://did:plc:ubcn7446ezcezyrhdmnsexjh/app.bsky.feed.post/3lph45uupvtu2, cid=bafyreie25nus47dcs2ltvb764sbejntjtvqr7g3uvfliflcckb7c726ytm, author=Author(did=did:plc:ubcn7446ezcezyrhdmnsexjh, handle=Kubernetes.activitypub.awakari.com.ap.brid.gy, displayName=Kubernetes, avatar=https://cdn.bsky.app/img/avatar/plain/did:plc:ubcn7446ezcezyrhdmnsexjh/bafkreibltzp64wgqko2zybvena2ajvyo6rt7gzw7qnyr3wfmp6qorslkhu@jpeg), indexedAt=2025-05-18T12:56:50.916Z, record=Record(text=250+ Practice Questions for Java SE 11 Developer Certification [1Z0-819] Exam Hello guys, I am ve...\n",
       "\n",
       "http://javarevisited.blogspot.com/2021/04/250-questions-for-java-se-11-developer-certification.html\n",
       "\n",
       "#best #of #javarevisited #courses #Java #Certification #OCPJP #SCJP\n",
       "\n",
       "Result Details, embed=Embed(images=null), createdAt=2025-05-18T11:25:00.000Z), replyCount=0, repostCount=0, likeCount=0, quoteCount=0), Post(uri=at://did:plc:kfaqksbyr3zwzvzj3wpbpvac/app.bsky.feed.post/3lpgvpz7ecl2v, cid=bafyreidzxuurtqox55jljjiuowealz66ume3mhvlu7wqcxnz7trzscefhm, author=Author(did=did:plc:kfaqksbyr3zwzvzj3wpbpvac, handle=thenewstack.io, displayName=The New Stack, avatar=https://cdn.bsky.app/img/avatar/plain/did:plc:kfaqksbyr3zwzvzj3wpbpvac/bafkreiassf27znj6cofsw53ltcjy7atkc3v7icemdjimxfjol7rjiudk7y@jpeg), indexedAt=2025-05-18T11:00:21.912Z, record=Record(text=A new integration helps Java teams automatically detect and remove dead code across enterprise applications, saving developer time and improving security., embed=Embed(images=null), createdAt=2025-05-18T11:00:21Z), replyCount=0, repostCount=0, likeCount=0, quoteCount=0), Post(uri=at://did:plc:m6vdxrkdqhey6afrxtluahma/app.bsky.feed.post/3lpguxksses23, cid=bafyreig7b4fxauvrl4trbypu25ph3ma7gwpjwi5u4pqyybcz46ohmr44dy, author=Author(did=did:plc:m6vdxrkdqhey6afrxtluahma, handle=akisamenathume.bsky.social, displayName=秋雨ナツメ, avatar=https://cdn.bsky.app/img/avatar/plain/did:plc:m6vdxrkdqhey6afrxtluahma/bafkreig5k6cb3xlc64zbpfzovwbxdkr47hjkgycjh3aev34vo7us2c7uka@jpeg), indexedAt=2025-05-18T10:46:47.515Z, record=Record(text=！配信告知！\n",
       "\n",
       "直前になりますが、20:00～マインクラフトをやります！\n",
       "周年配信ではJAVA版でしたが、今回からは統合版でやっていきます！\n",
       "サバイバルモードのイージーで、まったり進めます✨\n",
       "\n",
       "ご視聴はこちらからどうぞ↓\n",
       "youtube.com/live/5-ZJYYJ...\n",
       "\n",
       "#マイクラ\n",
       "#マインクラフト\n",
       "#マインクラフト統合版\n",
       "#個人Vtuber, embed=Embed(images=[Image(thumb=null, fullsize=null, alt=)]), createdAt=2025-05-18T10:46:41.336Z), replyCount=0, repostCount=0, likeCount=1, quoteCount=0), Post(uri=at://did:plc:i5yx63kwc22vsonhdfoohvyb/app.bsky.feed.post/3lpguuuuvzw2s, cid=bafyreiagx35jnjrcrkdmz3dytlreuv76pmpoo5lnbs5ungvomblmlr6ncq, author=Author(did=did:plc:i5yx63kwc22vsonhdfoohvyb, handle=volcano.link, displayName=VolcanoDiscovery, avatar=https://cdn.bsky.app/img/avatar/plain/did:plc:i5yx63kwc22vsonhdfoohvyb/bafkreiaxxwz3xjqakxskvaxhin3635tg5p2kn37zqeojjusgeaa66v5n2i@jpeg), indexedAt=2025-05-18T10:45:12.112Z, record=Record(text=Volcanic Ash Advisory (#VAAC) for #Semeru #volcano (East Java, Indonesia)\n",
       "Explosive activity continues. Volcanic Ash Advisory Center (#VAAC) #Darwin warned about a volcanic ash plume that rose up to estimated 15000 ft (4600 m) altitude or flight level 150, and is moving at 05 kts in SW direction., embed=Embed(images=null), createdAt=2025-05-18T10:45:10+00:00), replyCount=0, repostCount=0, likeCount=0, quoteCount=0), Post(uri=at://did:plc:hmgbggxs7iy4vcn7hgyjyjsa/app.bsky.feed.post/3lpgue7crkr2x, cid=bafyreihv2bpldtztyfmnrumqzbttza4bkvjhndbbqrovt5ks6hrq2lxkgq, author=Author(did=did:plc:hmgbggxs7iy4vcn7hgyjyjsa, handle=ews.volcanoyt.com, displayName=Early Warning, avatar=https://cdn.bsky.app/img/avatar/plain/did:plc:hmgbggxs7iy4vcn7hgyjyjsa/bafkreiaysgzttwpi57vyxpeoecgfb5zukpshnjaquykqx5ltgeuqizej2m@jpeg), indexedAt=2025-05-18T10:35:52.411Z, record=Record(text=🌍 Earthquake Alert 🌍\n",
       "📍 Location: JAVA, INDONESIA\n",
       "📏 Magnitude (m): 2.9\n",
       "🔽 Depth: 12.00 km\n",
       "⏰ Time: 2025-05-18 10:30:16 UTC\n",
       "🔗 Source: EMSC\n",
       "Stay safe!, embed=Embed(images=null), createdAt=2025-05-18T10:35:51.668Z), replyCount=0, repostCount=0, likeCount=0, quoteCount=0), Post(uri=at://did:plc:frcbpxloz7g7w33x7hrfghq5/app.bsky.feed.post/3lpgud5tsq22n, cid=bafyreieixa5szixavfp4553itj54l6llifxiwojn35cgutnvrw4yqbblq4, author=Author(did=did:plc:frcbpxloz7g7w33x7hrfghq5, handle=pharology.bsky.social, displayName=Your Friendly Neighborhood Pharologist, avatar=https://cdn.bsky.app/img/avatar/plain/did:plc:frcbpxloz7g7w33x7hrfghq5/bafkreib3kwh2iz3z2vmdzyhmzel57jdef4wdjj5dvov4xr76wtmgy7qr3e@jpeg), indexedAt=2025-05-18T10:35:17.829Z, record=Record(text=The lighthouse was prefabricated in the Hague by the Prince of Orange Foundry in the Hague 1870, then shipped to the island of Java, Infonesia, where it was assembled in or around 1872. Your FNP has thus far been unable to find out any information about its subsequent history. \n",
       "\n",
       "🧵 2/2, embed=null, createdAt=2025-05-18T10:35:13.565Z), replyCount=1, repostCount=0, likeCount=2, quoteCount=0), Post(uri=at://did:plc:frcbpxloz7g7w33x7hrfghq5/app.bsky.feed.post/3lpgud2vsw22n, cid=bafyreig3x6qc7awbc5xj2jh5iuz4e3o3fmti3d4edbj5dwzbtsa3wvvlke, author=Author(did=did:plc:frcbpxloz7g7w33x7hrfghq5, handle=pharology.bsky.social, displayName=Your Friendly Neighborhood Pharologist, avatar=https://cdn.bsky.app/img/avatar/plain/did:plc:frcbpxloz7g7w33x7hrfghq5/bafkreib3kwh2iz3z2vmdzyhmzel57jdef4wdjj5dvov4xr76wtmgy7qr3e@jpeg), indexedAt=2025-05-18T10:35:17.812Z, record=Record(text=#LighthouseArt of the Day\n",
       "\n",
       "Gieterij Prins van Oranje (?) (Dutch foundry, active 1840-1897, the #Hague), Scale model of a #lighthouse on Duiveneiland near #Java, #Indonesia, 1870,  brass, wood, and glass.\n",
       "\n",
       "Rijksmuseum, rijksmuseum.nl\n",
       "\n",
       "🧵 1/2\n",
       "\n",
       "#MaritimeHistory #modelmaking #vuurtoren, embed=Embed(images=[Image(thumb=null, fullsize=null, alt=Brass model of a four-story octagonal pyramidal lighthouse standing on pilings, mounted on an octagonal wooden base. There are four windows on each floor. There are three openings in one side of the model, showing an interior staircase. The lantern is topped with a domed cupola and a weathervane, and a bell is mounted on the tower's side halfway to the lantern. )]), createdAt=2025-05-18T10:35:13.564Z), replyCount=1, repostCount=2, likeCount=13, quoteCount=0), Post(uri=at://did:plc:7iikw4ekxfhcm25urz4ajpzv/app.bsky.feed.post/3lpgucumtbk2e, cid=bafyreievsatg2le4lrcamax555icmy4tmvtml7os53qm5dbd6trpl47jfy, author=Author(did=did:plc:7iikw4ekxfhcm25urz4ajpzv, handle=fnaticlemon4eto.bsky.social, displayName=, avatar=https://cdn.bsky.app/img/avatar/plain/did:plc:7iikw4ekxfhcm25urz4ajpzv/bafkreifvgncwhukph7v4a6vfohix3q23qharodiv4ep5evj5sfkfnghe3u@jpeg), indexedAt=2025-05-18T10:35:08.310Z, record=Record(text=Just so yk, something happened to the glass pane item icon and now it looks normal (bedrocklike) when using the java aspects, java item icons and VDX UI java pack, embed=null, createdAt=2025-05-18T10:35:06.998Z), replyCount=0, repostCount=0, likeCount=0, quoteCount=0), Post(uri=at://did:plc:hmgbggxs7iy4vcn7hgyjyjsa/app.bsky.feed.post/3lpgu6caozj2x, cid=bafyreieasytlrenwa6q2yofh3g7coo3rfpjegbqpo5kmhuqb5frkjifqka, author=Author(did=did:plc:hmgbggxs7iy4vcn7hgyjyjsa, handle=ews.volcanoyt.com, displayName=Early Warning, avatar=https://cdn.bsky.app/img/avatar/plain/did:plc:hmgbggxs7iy4vcn7hgyjyjsa/bafkreiaysgzttwpi57vyxpeoecgfb5zukpshnjaquykqx5ltgeuqizej2m@jpeg), indexedAt=2025-05-18T10:32:34.214Z, record=Record(text=🌍 Earthquake Alert 🌍\n",
       "📍 Location: Java, Indonesia\n",
       "📏 Magnitude (M): 2.9\n",
       "🔽 Depth: 12.15 km\n",
       "⏰ Time: 2025-05-18 10:30:16 UTC\n",
       "🔗 Source: BMKG\n",
       "Stay safe!, embed=Embed(images=null), createdAt=2025-05-18T10:32:33.119Z), replyCount=0, repostCount=0, likeCount=0, quoteCount=0), Post(uri=at://did:plc:ug3nvsele7cu3kn6mgmepnww/app.bsky.feed.post/3lpgtk6vfq22n, cid=bafyreidovtg5znudc4ckoxy46erewkhq2ksn4xgz4naup647ic55ojef6i, author=Author(did=did:plc:ug3nvsele7cu3kn6mgmepnww, handle=archiloque.bsky.social, displayName=Julien Kirch, avatar=https://cdn.bsky.app/img/avatar/plain/did:plc:ug3nvsele7cu3kn6mgmepnww/bafkreidyv2uvnjahqzwexso3qu3syioknixgxucca2csnhv7kv6iq36aca@jpeg), indexedAt=2025-05-18T10:21:19.312Z, record=Record(text=I don’t think you can really understand #Rust philosophy without a level of knowledge in the witchcraft Tumblr community that lead to its creation, in the same way that Italo disco in an essential component to understand #Java, embed=null, createdAt=2025-05-18T10:21:18.898Z), replyCount=0, repostCount=1, likeCount=1, quoteCount=0), Post(uri=at://did:plc:z6rez3jprg7rm43yyfvpt5zx/app.bsky.feed.post/3lpgtj5xqwk26, cid=bafyreihoip7nhe5xzb4bmuiqwz4hnrzt6uxpz3umprw7whbfk7hqrawdtm, author=Author(did=did:plc:z6rez3jprg7rm43yyfvpt5zx, handle=teromea.bsky.social, displayName=Owen, avatar=https://cdn.bsky.app/img/avatar/plain/did:plc:z6rez3jprg7rm43yyfvpt5zx/bafkreieifxhc33mfem436zp6dqrxric45sposnuprktyacc3tdldgrm6jy@jpeg), indexedAt=2025-05-18T10:20:05.813Z, record=Record(text=Por lo que me conto es que ahora básicamente todo tira de web, que la separación es un vestigio de cuando era muy distinto cuando todo iba para java pero que hoy en día es una tontería, embed=null, createdAt=2025-05-18T10:20:44.379Z), replyCount=1, repostCount=0, likeCount=1, quoteCount=0), Post(uri=at://did:plc:s4za4jwf7ulspjheidcoysmq/app.bsky.feed.post/3lpgsux3fzw2c, cid=bafyreihoevz7xvygrqvh5tr6dk43jt32oofe4ncrvadgturyfadm23l22u, author=Author(did=did:plc:s4za4jwf7ulspjheidcoysmq, handle=rpgroups.bsky.social, displayName=RP GROUPS, avatar=https://cdn.bsky.app/img/avatar/plain/did:plc:s4za4jwf7ulspjheidcoysmq/bafkreicqa4b35suspfxgx3flqh6xq2xzddye7h4o4mq72k65zpj7xl6hci@jpeg), indexedAt=2025-05-18T10:09:27.019Z, record=Record(text=Crossword Puzzle Game in Android with Source Code\n",
       "\n",
       "Are you searching for a Crossword Puzzle Game in Android with source code? You're in the right place! This project is ideal for developers, students, or Android enthusiasts who want to explore mobile game development using Java and XML in Android…, embed=Embed(images=null), createdAt=2025-05-18T10:09:24Z), replyCount=0, repostCount=0, likeCount=0, quoteCount=0), Post(uri=at://did:plc:oqzm4qa4rwp7hzbydzhtj66x/app.bsky.feed.post/3lpgsgputd22m, cid=bafyreih62z3qfmlg5hp3w7pmlxa36vdo7aclalmjucwbtuuacv57ybzqcm, author=Author(did=did:plc:oqzm4qa4rwp7hzbydzhtj66x, handle=mcrtabot.bsky.social, displayName=マイクラRTA記録bot, avatar=https://cdn.bsky.app/img/avatar/plain/did:plc:oqzm4qa4rwp7hzbydzhtj66x/bafkreid7ezaekhya7r6laleqscduviac2irum7mbvd7m666kxr2yltw7fa@jpeg), indexedAt=2025-05-18T10:01:29.312Z, record=Record(text=記録が提出されました！ ⚠️承認待ち\n",
       "\n",
       "🏃 cobaltxash @cobaltxellie 🇯🇵\n",
       "⏱ 58:13.379 (first record)\n",
       "\n",
       "🗂️ Minecraft Java Edition / Any% Glitchless\n",
       "🫘 Random Seed 1.16+\n",
       "\n",
       "📍 https://www.speedrun.com/mc/run/m7lgxpey\n",
       "📊 https://bit.ly/4mloxxZ （ランキング）, embed=null, createdAt=2025-05-18T10:01:28.493316+00:00), replyCount=0, repostCount=0, likeCount=0, quoteCount=0), Post(uri=at://did:plc:bn5l7c5m3w4uodfjolawft6y/app.bsky.feed.post/3lpgqqekkkn2q, cid=bafyreifvn7lorgrwcpuqunohort77bh5mry6shocg4sijmm5xvwwn2ioky, author=Author(did=did:plc:bn5l7c5m3w4uodfjolawft6y, handle=zickzacknetwork.bsky.social, displayName=ZickZackNetwork, avatar=https://cdn.bsky.app/img/avatar/plain/did:plc:bn5l7c5m3w4uodfjolawft6y/bafkreidvv72sbgataiogfcqe355fw4thgq2ixo46qpsopgqm6m2qpo6ena@jpeg), indexedAt=2025-05-18T09:31:06.611Z, record=Record(text=🚨 Heute um 19:00 geht’s los!\n",
       "MegaCraft5 startet jetzt – das große Minecraft-SMP beginnt!\n",
       "🎮 Java & Bedrock Crossplay\n",
       "🔥 Events, Marktplatz & CraftAttack-Vibes\n",
       "👥 500+ Spieler\n",
       "➡️ zickzacknetwork.de/discord → #mgc5-anmelden\n",
       "#Minecraft #MegaCraft5 #SMP #StartHeute, embed=Embed(images=null), createdAt=2025-05-18T09:31:04.416251Z), replyCount=0, repostCount=0, likeCount=0, quoteCount=0), Post(uri=at://did:plc:azo3twmxckyomkndd2jnohap/app.bsky.feed.post/3lpgqoakhps2y, cid=bafyreihkad2qdbsmkwrvtb6or3g2f4syfjjtow2mqk2rzush6ej4eapwk4, author=Author(did=did:plc:azo3twmxckyomkndd2jnohap, handle=thmuch.bsky.social, displayName=Thomas Much, avatar=https://cdn.bsky.app/img/avatar/plain/did:plc:azo3twmxckyomkndd2jnohap/bafkreibg47ciz3ap2ebbm36xuvw3bi3mrrchpvyd3xto24qisweqb2zpmi@jpeg), indexedAt=2025-05-18T09:30:00.913Z, record=Record(text=A follow-up to @jcon.one – my two finds from the conference:\n",
       "\n",
       "🃏 Commit Cards for cleaner code. Thank you @rabauer.bsky.social for bringing this to my attention! xdev.software/en/news/deta...\n",
       "\n",
       "🤖 The session \"Practical AI in Java\" by @marcushellberg.dev. Most inspiring and motivating 😃\n",
       "\n",
       "#JCON2025, embed=Embed(images=[Image(thumb=null, fullsize=null, alt=)]), createdAt=2025-05-18T09:29:53.590Z), replyCount=0, repostCount=1, likeCount=2, quoteCount=0), Post(uri=at://did:plc:hbpug67gndln3f2jmjena3g7/app.bsky.feed.post/3lpgpzfohtk2s, cid=bafyreif7yuihiyzurjugoc76vk52i2hl2m3gzhbwvvlhysq3gczvrx6n2u, author=Author(did=did:plc:hbpug67gndln3f2jmjena3g7, handle=mediapundit.net, displayName=Paul Tenny, avatar=https://cdn.bsky.app/img/avatar/plain/did:plc:hbpug67gndln3f2jmjena3g7/bafkreiajiwdqlirss2xhh34xou54aicf5cnwc66qw2zihr45ggpekqyxxe@jpeg), indexedAt=2025-05-18T09:18:14.012Z, record=Record(text=Switched from using a regex matcher to slight manual tokenization (the first part of the line is tokenized in my Java app, the rest just uses String.split()) in the busiest area and shaved 500ms off execution time. That's nice when total time was ~1400ms and this dropped it to ~900ms., embed=null, createdAt=2025-05-18T09:18:14.366Z), replyCount=0, repostCount=0, likeCount=0, quoteCount=0), Post(uri=at://did:plc:i3m4box5mzrmnwl35ekovkyn/app.bsky.feed.post/3lpgoz6a5ms2z, cid=bafyreiegn3art7rnfrgo2vcac4shyv6gwhghyz3rp37j2ksdo4fzhdv6te, author=Author(did=did:plc:i3m4box5mzrmnwl35ekovkyn, handle=luzdaescritura.bsky.social, displayName=Luz da Escritura, avatar=https://cdn.bsky.app/img/avatar/plain/did:plc:i3m4box5mzrmnwl35ekovkyn/bafkreigrz3jbyisi2fidvw6km56ylpmybtg4jzcgxnzsl2nppqpw5iad74@jpeg), indexedAt=2025-05-18T09:00:13.013Z, record=Record(text=📖 Assim como os filhos de Javã tinham identidades únicas, lembre-se que você também é singular. Valorize suas diferenças e seja confiante em quem você é, pois sua singularidade é sua maior força.\n",
       "\n",
       "#VersículoDoDia #Motivação, embed=null, createdAt=2025-05-18T06:00:04-03:00), replyCount=0, repostCount=0, likeCount=0, quoteCount=0), Post(uri=at://did:plc:ac4uz5gz3ahfddihxkkotjai/app.bsky.feed.post/3lpgorngdqs2h, cid=bafyreiabupuplwjrcnu43zxcj4bmpmbhsb5rb4l76wpgq4xjwe6fyg2wya, author=Author(did=did:plc:ac4uz5gz3ahfddihxkkotjai, handle=marcuspope.com, displayName=Marcus Pope, avatar=https://cdn.bsky.app/img/avatar/plain/did:plc:ac4uz5gz3ahfddihxkkotjai/bafkreicgluk5mltryxvoel3346y2xoy74uj77irdauksqddlaiemkwix4u@jpeg), indexedAt=2025-05-18T08:56:01.111Z, record=Record(text=Binaries cannot be both!!!! We have people with both sexes!!! This should not be this hard to explain to a damn software engineer. But then again you do code in _java_ 🤣😜\n",
       "\n",
       "(just teasing, Java is a fine language for certain things), embed=null, createdAt=2025-05-18T08:56:00.310Z), replyCount=0, repostCount=0, likeCount=0, quoteCount=0), Post(uri=at://did:plc:n4qxlew5soqpts52lnszov3d/app.bsky.feed.post/3lpgoyvq3nt2x, cid=bafyreida2wkf4tibo6wfnygb3s26bq4iwlgg7yzb4ngaf7ergs536npp4y, author=Author(did=did:plc:n4qxlew5soqpts52lnszov3d, handle=lobsters-feed.bsky.social, displayName=The Lobste.rs RSS feed, avatar=https://cdn.bsky.app/img/avatar/plain/did:plc:n4qxlew5soqpts52lnszov3d/bafkreiardpsr5spppkykydikrbouw6h3fyylcioxolxbvwvusr3n2tog2a@jpeg), indexedAt=2025-05-18T09:00:04.511Z, record=Record(text=Java Native Interface Integration with Rust https://lobste.rs/s/nuknfg #java #rust , embed=Embed(images=null), createdAt=2025-05-18T08:54:50Z), replyCount=0, repostCount=0, likeCount=0, quoteCount=0), Post(uri=at://did:plc:sskcd5pkl2d4bvx7mr4q5e22/app.bsky.feed.post/3lpgo5zz7y22k, cid=bafyreicvu4yajolkiugvirzhiyjj4lafqhvpvkf3bau2riy5ujiy5ej25u, author=Author(did=did:plc:sskcd5pkl2d4bvx7mr4q5e22, handle=hnews.southla.social, displayName=HN Link Bot, avatar=https://cdn.bsky.app/img/avatar/plain/did:plc:sskcd5pkl2d4bvx7mr4q5e22/bafkreihe3cbvupmdk6cmlj2ihr5jgx2q3dobcfopaqwbse3kmxrm2gbtha@jpeg), indexedAt=2025-05-18T08:45:03.412Z, record=Record(text=📰 Lessons from Mixing Rust and Java: Fast, Safe, and Practical\r\n",
       "\r\n",
       "💬 Uniffi-rs saves devs from manual bindings. It's a hit for multi-language support! Mixed vibes on alternatives: 🤔✨\r\n",
       "\r\n",
       "https://news.ycombinator.com/item?id=43991221, embed=null, createdAt=2025-05-18T08:45:02.315Z), replyCount=0, repostCount=0, likeCount=0, quoteCount=0), Post(uri=at://did:plc:ik2qcknve4qgxzo3vwep2lys/app.bsky.feed.post/3lpgnkqlorc2b, cid=bafyreidi76bi5ooz4dmuca3vgt3td3zjlderseo2ejyfqd7wndnrq3lijy, author=Author(did=did:plc:ik2qcknve4qgxzo3vwep2lys, handle=mpd77.bsky.social, displayName=, avatar=https://cdn.bsky.app/img/avatar/plain/did:plc:ik2qcknve4qgxzo3vwep2lys/bafkreian56a2mrrdhzshf3ac4luxijlvn5ajjdhwyw2hhpw6rfhlfvcy3u@jpeg), indexedAt=2025-05-18T08:34:16.011Z, record=Record(text=Yes, I've used flags in Java. This isn't what sex is though. Sex is binary., embed=null, createdAt=2025-05-18T08:34:15.010Z), replyCount=1, repostCount=0, likeCount=0, quoteCount=0), Post(uri=at://did:plc:6clcp32vg7hejrq4v7hff3gs/app.bsky.feed.post/3lpgmtci3bw2l, cid=bafyreiejpi65simkm53o7p34axhdmktnxfw3c2rtco5g2szsty6fnadxoy, author=Author(did=did:plc:6clcp32vg7hejrq4v7hff3gs, handle=hackernewstop5.bsky.social, displayName=HackerNewsTop5, avatar=https://cdn.bsky.app/img/avatar/plain/did:plc:6clcp32vg7hejrq4v7hff3gs/bafkreig2xih373q3gv5pozbflfqckzpoez7euyrctrvduzqjbqnmk647fi@jpeg), indexedAt=2025-05-18T08:21:09.112Z, record=Record(text=Lessons from Mixing Rust and Java: Fast, Safe, and Practical\n",
       "\n",
       "#HackerNews\n",
       "\n",
       "https://medium.com/@greptime/how-to-supercharge-your-java-project-with-rust-a-practical-guide-to-jni-integration-with-a-86f60e9708b8, embed=Embed(images=[Image(thumb=null, fullsize=null, alt=Lessons from Mixing Rust and Java: Fast, Safe, and Practical)]), createdAt=2025-05-18T08:21:08.387Z), replyCount=0, repostCount=0, likeCount=0, quoteCount=0), Post(uri=at://did:plc:v4baa25z5yeonbsfk7oxkumy/app.bsky.feed.post/3lpgm4fppus27, cid=bafyreibd6tu4yzcc2ol77lyghzpgvx2jwwxdz4p3w4hg3ro2s6ox2zgooi, author=Author(did=did:plc:v4baa25z5yeonbsfk7oxkumy, handle=kwanapon0927.bsky.social, displayName=わかぽん☕️, avatar=https://cdn.bsky.app/img/avatar/plain/did:plc:v4baa25z5yeonbsfk7oxkumy/bafkreiamqmme2j4ps7agwlxh3da4ehtn3jrzw4qawqnapz2qar7y3dur3a@jpeg), indexedAt=2025-05-18T08:08:21.011Z, record=Record(text=やっとJavaでRTAやってます(一応)と言えるように...！, embed=null, createdAt=2025-05-18T08:08:20.103Z), replyCount=0, repostCount=0, likeCount=2, quoteCount=0), Post(uri=at://did:plc:i53e6y3liw2oaw4s6e6odw5m/app.bsky.feed.post/3lpglztubkl2c, cid=bafyreib4wz6y2awuay3znna2cpa5zgzsxc7gicoav6fbmc54pxqx4x5czy, author=Author(did=did:plc:i53e6y3liw2oaw4s6e6odw5m, handle=bluesky.awakari.com, displayName=Awakari, avatar=https://cdn.bsky.app/img/avatar/plain/did:plc:i53e6y3liw2oaw4s6e6odw5m/bafkreicvyjeywe5ph65avri3hzojqocoowoqwh3htd7dlazqgwzsnuyjfy@jpeg), indexedAt=2025-05-18T08:06:54.411Z, record=Record(text= Chainlink Labs is hiring Solutions Architect - Capital Markets - APAC 🔧 # c # cplusplus # golang # java # python # rust # solidity # swift # blockchain # defi # web3 # solutionsarchitect 🌎 Remote; Hong Kong ⏰ Full-time 🏢 Chainlink Labs Job d...\n",
       "\n",
       "| Details | Interest | Feed |, embed=Embed(images=null), createdAt=2025-05-18T08:06:54Z), replyCount=0, repostCount=1, likeCount=1, quoteCount=0), Post(uri=at://did:plc:i53e6y3liw2oaw4s6e6odw5m/app.bsky.feed.post/3lpglzrhrjt2o, cid=bafyreiflyvtyfnqb62jtiodmk6etg744th6fppkrhg2any3evov7zjgbpi, author=Author(did=did:plc:i53e6y3liw2oaw4s6e6odw5m, handle=bluesky.awakari.com, displayName=Awakari, avatar=https://cdn.bsky.app/img/avatar/plain/did:plc:i53e6y3liw2oaw4s6e6odw5m/bafkreicvyjeywe5ph65avri3hzojqocoowoqwh3htd7dlazqgwzsnuyjfy@jpeg), indexedAt=2025-05-18T08:06:51.914Z, record=Record(text= Chainlink Labs is hiring Solutions Architect - Capital Markets - APAC 🔧 # c # cplusplus # golang # java # python # rust # solidity # swift # blockchain # defi # web3 # solutionsarchitect 🌎 Remote; Hong Kong ⏰ Full-time 🏢 Chainlink Labs Job d...\n",
       "\n",
       "| Details | Interest | Feed |, embed=Embed(images=null), createdAt=2025-05-18T08:06:51Z), replyCount=0, repostCount=1, likeCount=1, quoteCount=0), Post(uri=at://did:plc:i53e6y3liw2oaw4s6e6odw5m/app.bsky.feed.post/3lpglyptsul2o, cid=bafyreifhej6gxe5eqqaptaavcix4o74qtiv7m22l6cli36xs4mlyubhgcy, author=Author(did=did:plc:i53e6y3liw2oaw4s6e6odw5m, handle=bluesky.awakari.com, displayName=Awakari, avatar=https://cdn.bsky.app/img/avatar/plain/did:plc:i53e6y3liw2oaw4s6e6odw5m/bafkreicvyjeywe5ph65avri3hzojqocoowoqwh3htd7dlazqgwzsnuyjfy@jpeg), indexedAt=2025-05-18T08:06:16.715Z, record=Record(text= Chainlink Labs is hiring Solutions Architect - Capital Markets - APAC 🔧 # c # cplusplus # golang # java # python # rust # solidity # swift # blockchain # defi # web3 # solutionsarchitect 🌎 Remote; Hong Kong ⏰ Full-time 🏢 Chainlink Labs Job d...\n",
       "\n",
       "| Details | Interest | Feed |, embed=Embed(images=null), createdAt=2025-05-18T08:06:16Z), replyCount=0, repostCount=1, likeCount=1, quoteCount=0), Post(uri=at://did:plc:udxig53qxflb2gkj6l23z6dj/app.bsky.feed.post/3lpgly5wxnk2y, cid=bafyreiefq63q7vv74q6yrxwbao74q4bzoj3udciuksvncoeh7ed7uqlyay, author=Author(did=did:plc:udxig53qxflb2gkj6l23z6dj, handle=shaiuk.bsky.social, displayName=Shai, avatar=https://cdn.bsky.app/img/avatar/plain/did:plc:udxig53qxflb2gkj6l23z6dj/bafkreifixe4pgfqjusz3x3i6llxtsxnzt45fsg3g7j3mm6ij6cdea3h7ea@jpeg), indexedAt=2025-05-18T08:06:00.215Z, record=Record(text=Far more functional than having a portable cafetière. DOI - I have an aeropress at work.\n",
       "\n",
       "You are right, the Taylors Hot Java ones are really good. \n",
       "\n",
       "I suspect you are remembering Rich Italian, which I haven’t yet tried…. \n",
       "Cos I had a BTC machiiiiiinnneeeeee😭😭😭, embed=Embed(images=[Image(thumb=null, fullsize=null, alt=Coffee bags… yummy ones.)]), createdAt=2025-05-18T08:05:57.724Z), replyCount=1, repostCount=0, likeCount=2, quoteCount=0), Post(uri=at://did:plc:i53e6y3liw2oaw4s6e6odw5m/app.bsky.feed.post/3lpglxt6yp52g, cid=bafyreif3nelq2mdqxgho3xklzw5fd7parsuperasnzz6gqm4eym76huw2e, author=Author(did=did:plc:i53e6y3liw2oaw4s6e6odw5m, handle=bluesky.awakari.com, displayName=Awakari, avatar=https://cdn.bsky.app/img/avatar/plain/did:plc:i53e6y3liw2oaw4s6e6odw5m/bafkreicvyjeywe5ph65avri3hzojqocoowoqwh3htd7dlazqgwzsnuyjfy@jpeg), indexedAt=2025-05-18T08:05:46.611Z, record=Record(text= Chainlink Labs is hiring Solutions Architect - Capital Markets - APAC 🔧 # c # cplusplus # golang # java # python # rust # solidity # swift # blockchain # defi # web3 # solutionsarchitect 🌎 Remote; Hong Kong ⏰ Full-time 🏢 Chainlink Labs Job d...\n",
       "\n",
       "| Details | Interest | Feed |, embed=Embed(images=null), createdAt=2025-05-18T08:05:46Z), replyCount=0, repostCount=1, likeCount=1, quoteCount=0), Post(uri=at://did:plc:i53e6y3liw2oaw4s6e6odw5m/app.bsky.feed.post/3lpglwwjjls26, cid=bafyreiaij72exqvg2bekk4dwxbe5eo5mez7okivvd2p5dgcra3zsrrdhoq, author=Author(did=did:plc:i53e6y3liw2oaw4s6e6odw5m, handle=bluesky.awakari.com, displayName=Awakari, avatar=https://cdn.bsky.app/img/avatar/plain/did:plc:i53e6y3liw2oaw4s6e6odw5m/bafkreicvyjeywe5ph65avri3hzojqocoowoqwh3htd7dlazqgwzsnuyjfy@jpeg), indexedAt=2025-05-18T08:05:16.815Z, record=Record(text= Chainlink Labs is hiring Solutions Architect - Capital Markets - APAC 🔧 # c # cplusplus # golang # java # python # rust # solidity # swift # blockchain # defi # web3 # solutionsarchitect 🌎 Remote; Hong Kong ⏰ Full-time 🏢 Chainlink Labs Job d...\n",
       "\n",
       "| Details | Interest | Feed |, embed=Embed(images=null), createdAt=2025-05-18T08:05:16Z), replyCount=0, repostCount=1, likeCount=1, quoteCount=0), Post(uri=at://did:plc:2sle4qezl4uesdamhruhcp53/app.bsky.feed.post/3lpgls7pcxk2k, cid=bafyreiawmmhroi4xgukhpgy2uamzdjbfddslwyytsfbzachmnseg5ynefi, author=Author(did=did:plc:2sle4qezl4uesdamhruhcp53, handle=yukari-yuduki.bsky.social, displayName=結月ゆかり🌕未来の逸材P🐇毎週日曜17時からマイクラ放送中(*´ω｀*), avatar=https://cdn.bsky.app/img/avatar/plain/did:plc:2sle4qezl4uesdamhruhcp53/bafkreibewup2p3tqnykjuz2ikmcioorheu2ohepurlbime7fv7m7pa2ela@jpeg), indexedAt=2025-05-18T08:02:39.915Z, record=Record(text=【 #Minecraft java版1.21.1】ゆかりさんとマイクラする？（マルチ参加可）【 #結月ゆかり ゲーム生放送】 #ゆかりんガーデン #ゆかりねっと #vtuber www.twitch.tv/mirainoitsuz..., embed=Embed(images=null), createdAt=2025-05-18T08:02:38.255Z), replyCount=0, repostCount=0, likeCount=4, quoteCount=0), Post(uri=at://did:plc:2sle4qezl4uesdamhruhcp53/app.bsky.feed.post/3lpglr5ra3c2k, cid=bafyreigyqgne3ky6yu2dl7tkfu5uax6rsqjl347a7b477wyt2wavz7z5ym, author=Author(did=did:plc:2sle4qezl4uesdamhruhcp53, handle=yukari-yuduki.bsky.social, displayName=結月ゆかり🌕未来の逸材P🐇毎週日曜17時からマイクラ放送中(*´ω｀*), avatar=https://cdn.bsky.app/img/avatar/plain/did:plc:2sle4qezl4uesdamhruhcp53/bafkreibewup2p3tqnykjuz2ikmcioorheu2ohepurlbime7fv7m7pa2ela@jpeg), indexedAt=2025-05-18T08:02:06.412Z, record=Record(text=【 #Minecraft java版1.21.1】ゆかりさんとマイクラする？（マルチ参加可）【 #結月ゆかり ゲーム生放送】 #ゆかりんガーデン... www.youtube.com/live/-UotuFG... @YouTubeより, embed=Embed(images=null), createdAt=2025-05-18T08:02:02.666Z), replyCount=0, repostCount=0, likeCount=1, quoteCount=0), Post(uri=at://did:plc:2sle4qezl4uesdamhruhcp53/app.bsky.feed.post/3lpglqe4ifs2k, cid=bafyreicpauqfrzczcrufy7ppz54m4rihf4d6zvlc5tp5taqpbpbw4zpabe, author=Author(did=did:plc:2sle4qezl4uesdamhruhcp53, handle=yukari-yuduki.bsky.social, displayName=結月ゆかり🌕未来の逸材P🐇毎週日曜17時からマイクラ放送中(*´ω｀*), avatar=https://cdn.bsky.app/img/avatar/plain/did:plc:2sle4qezl4uesdamhruhcp53/bafkreibewup2p3tqnykjuz2ikmcioorheu2ohepurlbime7fv7m7pa2ela@jpeg), indexedAt=2025-05-18T08:01:39.314Z, record=Record(text=【 #Minecraft java版1.21.1】ゆかりさんとマイクラする？（マルチ参加可）【 #結月ゆかり ゲーム生放送】 #ゆかりんガーデン #ゆかりねっと #vtuber / ニコ生配信中 live.nicovideo.jp/watch/lv3477..., embed=Embed(images=null), createdAt=2025-05-18T08:01:35.771Z), replyCount=0, repostCount=0, likeCount=2, quoteCount=0), Post(uri=at://did:plc:oqzm4qa4rwp7hzbydzhtj66x/app.bsky.feed.post/3lpglpxszx42g, cid=bafyreigv6pzy6xfj6sywwmcxbup3jprrgusac5psiincqpcako733t7o3a, author=Author(did=did:plc:oqzm4qa4rwp7hzbydzhtj66x, handle=mcrtabot.bsky.social, displayName=マイクラRTA記録bot, avatar=https://cdn.bsky.app/img/avatar/plain/did:plc:oqzm4qa4rwp7hzbydzhtj66x/bafkreid7ezaekhya7r6laleqscduviac2irum7mbvd7m666kxr2yltw7fa@jpeg), indexedAt=2025-05-18T08:01:23.016Z, record=Record(text=記録が提出されました！ ⚠️承認待ち\n",
       "\n",
       "🏃 soichi 🇯🇵\n",
       "⏱ 33:41.676 (-04:29.466)\n",
       "\n",
       "🗂️ Minecraft Java Edition / Any% Glitchless\n",
       "🫘 Random Seed 1.16+\n",
       "\n",
       "📍 https://www.speedrun.com/mc/run/zngkpglm\n",
       "📊 https://bit.ly/49Zl8Pn （ランキング）, embed=null, createdAt=2025-05-18T08:01:22.616957+00:00), replyCount=0, repostCount=0, likeCount=0, quoteCount=0), Post(uri=at://did:plc:h5maykrmsb3yz4y5qcdlulvk/app.bsky.feed.post/3lpglnmxkcs2e, cid=bafyreie577tvw3fynwrhwprelnu7mds5eoqjnxhip7h7vz5jqtoouasb4a, author=Author(did=did:plc:h5maykrmsb3yz4y5qcdlulvk, handle=hnbot.gsuscs.xyz, displayName=HackerNews Compilator, avatar=https://cdn.bsky.app/img/avatar/plain/did:plc:h5maykrmsb3yz4y5qcdlulvk/bafkreic6ua4hxa3af3ipa6kj5c3tw7cr7v5mjrqfpzxqekwqoyyehlia4m@jpeg), indexedAt=2025-05-18T08:00:04.710Z, record=Record(text=Lessons from Mixing Rust and Java: Fast, Safe, and Practical\n",
       "\n",
       "https://medium.com/@greptime/how-to-supercharge-your-java-project-with-rust-a-practical-guide-to-jni-integration-with-a-86f60e9708b8, embed=null, createdAt=2025-05-18T08:00:04.334Z), replyCount=0, repostCount=0, likeCount=0, quoteCount=0), Post(uri=at://did:plc:qahvm4loito64nwrjwtepski/app.bsky.feed.post/3lpgl27qjfs2l, cid=bafyreib6kqejfww7pufnventpzzhmfztskv5xc4djxaqoczjj37a6tqkcu, author=Author(did=did:plc:qahvm4loito64nwrjwtepski, handle=kbstraining.bsky.social, displayName=KBS Training, avatar=https://cdn.bsky.app/img/avatar/plain/did:plc:qahvm4loito64nwrjwtepski/bafkreiflzo2qhijsmvc3vws6t35lqjilax2dz7r4iczqoy7vnpb2ecucpa@jpeg), indexedAt=2025-05-18T07:49:19.016Z, record=Record(text=💻 In the U.S. tech world, job support is no longer optional — it’s essential.\n",
       "\n",
       "#AWS\n",
       "#DevOps\n",
       "#Python\n",
       "#Salesforce\n",
       "#Java\n",
       "\n",
       "📖 www.kbstraining.com/blog/softwar...\n",
       "\n",
       "📋 Free consult: tally.so/r/nWYPWQ\n",
       "\n",
       "#JobSupportUSA #SoftwareSupport #TechCareers #USJobs #ITSupport #KBSsupport #RemoteHelp #Upskilling, embed=Embed(images=null), createdAt=2025-05-18T07:49:12.986Z), replyCount=0, repostCount=1, likeCount=2, quoteCount=0), Post(uri=at://did:plc:2xybqpm666wtbt2ihj2ua7zn/app.bsky.feed.post/3lpgkzpdsfc2g, cid=bafyreihet57xuisfxubapxnp3huc4rq743zvtoc73jfilfdwmgsc7xtyzu, author=Author(did=did:plc:2xybqpm666wtbt2ihj2ua7zn, handle=fratschi.bsky.social, displayName=fratschi, avatar=https://cdn.bsky.app/img/avatar/plain/did:plc:2xybqpm666wtbt2ihj2ua7zn/bafkreigve44o3u4265almyhr6eahc4hb7chnl6sqd4parfl7gtjz5mltsy@jpeg), indexedAt=2025-05-18T07:48:55.612Z, record=Record(text=I remember Java stacktraces with ~4.000 lines... No fun. Maybe the reason I like short error messages 🤣, embed=null, createdAt=2025-05-18T07:48:55.793Z), replyCount=1, repostCount=0, likeCount=2, quoteCount=0), Post(uri=at://did:plc:4f7ufthce64awkr6idcgbang/app.bsky.feed.post/3lpgktjfzq22a, cid=bafyreifchkcv25z7zxwddps5ysymkoklwgcfxh4ohb7fzgebcaab7tooa4, author=Author(did=did:plc:4f7ufthce64awkr6idcgbang, handle=yufica.bsky.social, displayName=ユフィカ, avatar=https://cdn.bsky.app/img/avatar/plain/did:plc:4f7ufthce64awkr6idcgbang/bafkreifa6w3vwpb6mpbyngvnwogfadij6gcoyobirwuzxpd6jx6e45hr2e@jpeg), indexedAt=2025-05-18T07:45:36.115Z, record=Record(text=「Carnal Instinct」を値引き期間中に購入した。価格面からの感想だけで言うと、定価での購入を迷うのなら 早期アクセスを終えてからにしとけ。\n",
       "旧作オブリビオンをPC(日本語化なし)でプレイしていたような連中なら買い、ただ単に絵にひかれてのエロ目的なら止めておけ、三日もしないうちに飽きる。　アニメ系獣の「Sapphire Safari」に半額だすぐらいだったら、定価でもこっちを選びますけどねぇ 私なら。\n",
       "コントローラーでの操作は一応と思ったほうが良さげ、マイクラJavaでJoyToKeyを使っているのなら、その設定からボタン変更をするといい感じになる。でもキーボードだけだと厳しいかな, embed=Embed(images=[Image(thumb=null, fullsize=null, alt=), Image(thumb=null, fullsize=null, alt=)]), createdAt=2025-05-18T07:45:28.242Z), replyCount=0, repostCount=0, likeCount=0, quoteCount=0), Post(uri=at://did:plc:tidiuaa5wycdpawciyk7sh3u/app.bsky.feed.post/3lpgku6azi22s, cid=bafyreig7t33cnxt2arqvrr5c5bynechvpolcjx44xjcebdq6obnjkc7hme, author=Author(did=did:plc:tidiuaa5wycdpawciyk7sh3u, handle=rabauer.bsky.social, displayName=Johannes Rabauer, avatar=https://cdn.bsky.app/img/avatar/plain/did:plc:tidiuaa5wycdpawciyk7sh3u/bafkreids6znuswkcigsqnf3pctqnretpqi2hsszxewwxn7lcmxvex5a26y@jpeg), indexedAt=2025-05-18T07:45:53.966Z, record=Record(text=But most of all: thanks to every attendee I got to meet.\n",
       "Whether it was a quick chat or a deep talk — it really made the experience meaningful.\n",
       "Let’s keep in touch. See you next time!\n",
       "#Java #JCON2025 #JavaCommunity, embed=Embed(images=[Image(thumb=null, fullsize=null, alt=)]), createdAt=2025-05-18T07:45:16.903Z), replyCount=0, repostCount=1, likeCount=2, quoteCount=0), Post(uri=at://did:plc:sjqlxdpgql3ovcdj6wsgc27u/app.bsky.feed.post/3lpgkjut3wj2i, cid=bafyreicwvi6ht2j7of6nrvefzhy7d4flymwvkraeetetyikwt4g3gkwk6a, author=Author(did=did:plc:sjqlxdpgql3ovcdj6wsgc27u, handle=hackernewsbot.bsky.social, displayName=Hacker News Top Stories, avatar=https://cdn.bsky.app/img/avatar/plain/did:plc:sjqlxdpgql3ovcdj6wsgc27u/bafkreiaowesled27rksncgsym6j6yblcggxu6zjurkf25b5bzyee2jzviy@jpeg), indexedAt=2025-05-18T07:40:05.314Z, record=Record(text=Lessons from Mixing Rust and Java: Fast, Safe, and Practical | Discussion, embed=Embed(images=null), createdAt=2025-05-18T07:40:04.227Z), replyCount=0, repostCount=0, likeCount=2, quoteCount=0), Post(uri=at://did:plc:ac4uz5gz3ahfddihxkkotjai/app.bsky.feed.post/3lpgkgrad4k2h, cid=bafyreial3idxxwb445zuzaz2ovpstznpjaixe5t5ll4q4v4lwxpo7orvgu, author=Author(did=did:plc:ac4uz5gz3ahfddihxkkotjai, handle=marcuspope.com, displayName=Marcus Pope, avatar=https://cdn.bsky.app/img/avatar/plain/did:plc:ac4uz5gz3ahfddihxkkotjai/bafkreicgluk5mltryxvoel3346y2xoy74uj77irdauksqddlaiemkwix4u@jpeg), indexedAt=2025-05-18T07:38:20.743Z, record=Record(text=You can’t even write a Java program to classify these people, who absolutely need classifying for medical reasons., embed=null, createdAt=2025-05-18T07:38:19.860Z), replyCount=1, repostCount=0, likeCount=0, quoteCount=0), Post(uri=at://did:plc:wjyyltkrn7ppnwdtagyvpszk/app.bsky.feed.post/3lpgkfwphzs2d, cid=bafyreidci54xlwbj6i5m4rue6tmijvihj6ijtmi5hfahhwlsemdbw3vfqy, author=Author(did=did:plc:wjyyltkrn7ppnwdtagyvpszk, handle=svjaneo.com, displayName=Ron Kuris ✅, avatar=https://cdn.bsky.app/img/avatar/plain/did:plc:wjyyltkrn7ppnwdtagyvpszk/bafkreid2nwllbh2akkpudel6pgx7zsccggprfnmaghivzkuv77xemobpsm@jpeg), indexedAt=2025-05-18T07:37:55.515Z, record=Record(text=Presumably you've never worked with Java, with some error messages (novels) that push vim to its limits., embed=null, createdAt=2025-05-18T07:37:52.427Z), replyCount=1, repostCount=0, likeCount=0, quoteCount=0), Post(uri=at://did:plc:a3ckxd7pwewp7dn555oskvqe/app.bsky.feed.post/3lpgjys5rbh25, cid=bafyreie5ujpk4sflbcvcvdtvprb3spkjb2jehj62a6emu2gdiymmmjsyb4, author=Author(did=did:plc:a3ckxd7pwewp7dn555oskvqe, handle=quarkus.io, displayName=Quarkus, avatar=https://cdn.bsky.app/img/avatar/plain/did:plc:a3ckxd7pwewp7dn555oskvqe/bafkreihbjpjenn3ne45et2vjvjlgcd7njgodcluogku6ko3pfppy3dofza@jpeg), indexedAt=2025-05-18T07:30:32.310Z, record=Record(text=Learn how to version, evolve, and manage your database schema like a pro, using modern Java, Quarkus Dev Services, and Flyway.\n",
       "\n",
       "myfear.substack.com/p/quarkus-fl..., embed=Embed(images=[Image(thumb=null, fullsize=null, alt=)]), createdAt=2025-05-18T07:30:31.399Z), replyCount=0, repostCount=0, likeCount=2, quoteCount=0), Post(uri=at://did:plc:ik2qcknve4qgxzo3vwep2lys/app.bsky.feed.post/3lpgjp6bwr22b, cid=bafyreif4u4d5hywbvpcyhmtea5xwmyqpcrteiei7cyivygq2nsyvy32d4y, author=Author(did=did:plc:ik2qcknve4qgxzo3vwep2lys, handle=mpd77.bsky.social, displayName=, avatar=https://cdn.bsky.app/img/avatar/plain/did:plc:ik2qcknve4qgxzo3vwep2lys/bafkreian56a2mrrdhzshf3ac4luxijlvn5ajjdhwyw2hhpw6rfhlfvcy3u@jpeg), indexedAt=2025-05-18T07:25:09.811Z, record=Record(text=Yes. I'm a Java programmer so Java enums don't look like that. Maybe that's C/C++ which I haven't used for years.\n",
       "You're taking the two sexes and then saying that some individuals could be neither or both. I think 99.99% of individuals at least or just one sex, and the 0.01% of others..., embed=null, createdAt=2025-05-18T07:25:08.621Z), replyCount=4, repostCount=0, likeCount=0, quoteCount=0), Post(uri=at://did:plc:hmgbggxs7iy4vcn7hgyjyjsa/app.bsky.feed.post/3lpgizvv2cd2e, cid=bafyreih5zsowhiz2khqr3di7kc6y2dtiffbvquwpep2m7rgokvp2yu7cuy, author=Author(did=did:plc:hmgbggxs7iy4vcn7hgyjyjsa, handle=ews.volcanoyt.com, displayName=Early Warning, avatar=https://cdn.bsky.app/img/avatar/plain/did:plc:hmgbggxs7iy4vcn7hgyjyjsa/bafkreiaysgzttwpi57vyxpeoecgfb5zukpshnjaquykqx5ltgeuqizej2m@jpeg), indexedAt=2025-05-18T07:13:15.814Z, record=Record(text=🌍 Earthquake Alert 🌍\n",
       "📍 Location: Java, Indonesia\n",
       "📏 Magnitude (M): 2.7\n",
       "🔽 Depth: 186.68 km\n",
       "⏰ Time: 2025-05-18 06:53:34 UTC\n",
       "🔗 Source: BMKG\n",
       "Stay safe!, embed=Embed(images=null), createdAt=2025-05-18T07:13:14.765Z), replyCount=0, repostCount=0, likeCount=0, quoteCount=0), Post(uri=at://did:plc:b26ihupagaade3zaet4uvf3k/app.bsky.feed.post/3lpgik35lxq2x, cid=bafyreigfqqpo4hpf3pfkwsqkq7zj6df2cylncltfmy2qxdv5tsbzrethy4, author=Author(did=did:plc:b26ihupagaade3zaet4uvf3k, handle=bjdeming.bsky.social, displayName=B.J. Deming, avatar=https://cdn.bsky.app/img/avatar/plain/did:plc:b26ihupagaade3zaet4uvf3k/bafkreihohewj4kumkgftkqjfelj3jqm3eekoqnb2lkkddcvh6usthqrz2u@jpeg), indexedAt=2025-05-18T07:04:25.410Z, record=Record(text=VEI 8’s: Toba and Earth’s Climate\n",
       "\n",
       "Krakatoa, which is actually west of Java, gave us clues about how a large eruption in the tropics affects the Earth. A hundred and eight years later, so did Mount Pinatubo in the Philippines -- and at that point, we had the technology and know-how to do even…, embed=Embed(images=null), createdAt=2025-05-18T07:04:22Z), replyCount=0, repostCount=0, likeCount=0, quoteCount=0), Post(uri=at://did:plc:jmuhjrotgvcquoaqtpcuxjii/app.bsky.feed.post/3lpgidccreh25, cid=bafyreidvatqiqpn66ntlhfubnm42736esw73pfhkbli5nyjrteo6k6plsm, author=Author(did=did:plc:jmuhjrotgvcquoaqtpcuxjii, handle=hnws.bsky.social, displayName=HN, avatar=https://cdn.bsky.app/img/avatar/plain/did:plc:jmuhjrotgvcquoaqtpcuxjii/bafkreiazgbmgqtvkangdr6ibbuzbdfdaggjgvqhvkbbip7sus2ml6ouana@jpeg), indexedAt=2025-05-18T07:00:36.813Z, record=Record(text=Lessons from Mixing Rust and Java: Fast, Safe, and Practical\n",
       "L: https://medium.com/@greptime/how-to-supercharge-your-java-project-with-rust-a-practical-guide-to-jni-integration-with-a-86f60e9708b8\n",
       "C: https://news.ycombinator.com/item?id=43991221\n",
       "posted on 2025.05.14 at 22:18:34 (c=0, p=3), embed=null, createdAt=2025-05-18T07:00:36.287738+00:00), replyCount=0, repostCount=0, likeCount=0, quoteCount=0), Post(uri=at://did:plc:a2yjodjmav6xnqxzzvb5usvl/app.bsky.feed.post/3lpgidbfcul2u, cid=bafyreigquotegi4yhd4wdxhho47udggmeki4u3d7myq3473r3w7ebweaem, author=Author(did=did:plc:a2yjodjmav6xnqxzzvb5usvl, handle=mussola.bsky.social, displayName=Mussola, avatar=https://cdn.bsky.app/img/avatar/plain/did:plc:a2yjodjmav6xnqxzzvb5usvl/bafkreicqyfd3wcd5dojpnbt7qb6gw6vvb4rgwuliu5hlftfus36wmz3z5u@jpeg), indexedAt=2025-05-18T07:00:35.615Z, record=Record(text=Fullstack Java developer per a UPCnet \n",
       "www.mussola.cat/2025/05/full..., embed=Embed(images=[Image(thumb=null, fullsize=null, alt=)]), createdAt=2025-05-18T07:00:35.304Z), replyCount=0, repostCount=0, likeCount=0, quoteCount=0), Post(uri=at://did:plc:s4xmseub4a4pwwetg2xxmcyy/app.bsky.feed.post/3lpgi6rbjem2k, cid=bafyreiek43m2xim3phjyobwajrw3rguzvvxn6bgcqlkewbltoevv4wxmpa, author=Author(did=did:plc:s4xmseub4a4pwwetg2xxmcyy, handle=hn100.bsky.social, displayName=Hacker News Top 100 Bot (Unofficial), avatar=https://cdn.bsky.app/img/avatar/plain/did:plc:s4xmseub4a4pwwetg2xxmcyy/bafkreic6k3jvmlnlly55pnm23ayahvvjc3qrawwaffec2gbtbkt3sptex4@jpeg), indexedAt=2025-05-18T06:58:05.822Z, record=Record(text=Lessons from Mixing Rust and Java: Fast, Safe, and Practical\n",
       "\n",
       "Discussion, embed=null, createdAt=2025-05-18T06:58:04.286779+00:00), replyCount=0, repostCount=0, likeCount=0, quoteCount=0), Post(uri=at://did:plc:t346wfftccbnaf7xepjozrrl/app.bsky.feed.post/3lpghyeecas2r, cid=bafyreidwf6ujqvn7vqrsz55tcnhssj7s6qcmrd6iooir7ps7c2v43qk2ci, author=Author(did=did:plc:t346wfftccbnaf7xepjozrrl, handle=zegale.bsky.social, displayName=Zegale, avatar=https://cdn.bsky.app/img/avatar/plain/did:plc:t346wfftccbnaf7xepjozrrl/bafkreigtylaql4kzbuau222pdznx5sjxta54jivtgnfvo33fgolk2jvovy@jpeg), indexedAt=2025-05-18T06:54:30.711Z, record=Record(text=Javaは選べられるけど　総合版は自動更新だからねTTｖTT\n",
       "本丸に帰られないとか悪夢だからずっとNOーMODでしたわ…, embed=null, createdAt=2025-05-18T06:54:29.496Z), replyCount=1, repostCount=0, likeCount=0, quoteCount=0), Post(uri=at://did:plc:5s6vxdt4fm6g2xzpazyvoljp/app.bsky.feed.post/3lpghu2iz4k2g, cid=bafyreiat6ww5xru25kxy4uhn4hcvhyggytj7z4coiqgcfd27hkzutnp4by, author=Author(did=did:plc:5s6vxdt4fm6g2xzpazyvoljp, handle=cleacwlw.bsky.social, displayName=くりあてぃー, avatar=https://cdn.bsky.app/img/avatar/plain/did:plc:5s6vxdt4fm6g2xzpazyvoljp/bafkreicvgz6wcws6s6v2m7ukgku3ker2asyz4ujcizhokdc3fdl5qic76a@jpeg), indexedAt=2025-05-18T06:52:06.511Z, record=Record(text=あ〜〜\n",
       "ありますよねそれ………新しいバージョンにいくからそのmodが使えなくなる事象………\n",
       "そのおかげでjavaは1.12.2の亡霊です………（）とあるmodの続編来るまでは1.7.10の亡霊でした………だからあんまり最新コンテンツとか追えてないんですよね, embed=null, createdAt=2025-05-18T06:52:04.946Z), replyCount=1, repostCount=0, likeCount=0, quoteCount=0), Post(uri=at://did:plc:5s6vxdt4fm6g2xzpazyvoljp/app.bsky.feed.post/3lpggyftlqs2g, cid=bafyreichdesufixlwxgpvytln7qglcwybi5qiaaxylicbi5xeyslvccwma, author=Author(did=did:plc:5s6vxdt4fm6g2xzpazyvoljp, handle=cleacwlw.bsky.social, displayName=くりあてぃー, avatar=https://cdn.bsky.app/img/avatar/plain/did:plc:5s6vxdt4fm6g2xzpazyvoljp/bafkreicvgz6wcws6s6v2m7ukgku3ker2asyz4ujcizhokdc3fdl5qic76a@jpeg), indexedAt=2025-05-18T06:36:37.811Z, record=Record(text=わーお……\n",
       "Javaと統合である程度仕様が違っててこんがらがるんですよね……後バニラ環境不慣れすぎて………（）, embed=null, createdAt=2025-05-18T06:36:37.304Z), replyCount=1, repostCount=0, likeCount=0, quoteCount=0), Post(uri=at://did:plc:t346wfftccbnaf7xepjozrrl/app.bsky.feed.post/3lpggvhueck2r, cid=bafyreicraxy3mghwzteptf7lm5qlabi24zdrbs34lhblbxlqin3ft6vuyi, author=Author(did=did:plc:t346wfftccbnaf7xepjozrrl, handle=zegale.bsky.social, displayName=Zegale, avatar=https://cdn.bsky.app/img/avatar/plain/did:plc:t346wfftccbnaf7xepjozrrl/bafkreigtylaql4kzbuau222pdznx5sjxta54jivtgnfvo33fgolk2jvovy@jpeg), indexedAt=2025-05-18T06:35:00.010Z, record=Record(text=MODなしでもやべぇからうち　総合版出てからやりましたね自分（1.16かな総合版のだと、Javaのとバージョン数字違うし＝ｗ＝；）, embed=null, createdAt=2025-05-18T06:34:58.763Z), replyCount=1, repostCount=0, likeCount=0, quoteCount=0), Post(uri=at://did:plc:dw5cgdpwihmk5wiwbgvdydqi/app.bsky.feed.post/3lpggtwkdac2a, cid=bafyreiglbkxk4idz536tdnrdx3phnm4yuv3g5tpsnvyeseble6bjzxcs7m, author=Author(did=did:plc:dw5cgdpwihmk5wiwbgvdydqi, handle=bluebeens.bsky.social, displayName=, avatar=null), indexedAt=2025-05-18T06:34:09.814Z, record=Record(text=「朝からOW→マイクラソロ\n",
       "ハードコア。だらだらやる」\n",
       "▽Minecraft (Java/PC)\n",
       "(9:21〜)\n",
       "\n",
       "twitch.tv/kato_junichi..., embed=Embed(images=null), createdAt=2025-05-18T06:34:07.053Z), replyCount=0, repostCount=0, likeCount=0, quoteCount=0), Post(uri=at://did:plc:5s6vxdt4fm6g2xzpazyvoljp/app.bsky.feed.post/3lpggqytvzc2e, cid=bafyreihd23ned23c6p6nhtrg34pone3xykirvcxx3ymjf3q37v5ssb4e2y, author=Author(did=did:plc:5s6vxdt4fm6g2xzpazyvoljp, handle=cleacwlw.bsky.social, displayName=くりあてぃー, avatar=https://cdn.bsky.app/img/avatar/plain/did:plc:5s6vxdt4fm6g2xzpazyvoljp/bafkreicvgz6wcws6s6v2m7ukgku3ker2asyz4ujcizhokdc3fdl5qic76a@jpeg), indexedAt=2025-05-18T06:32:29.611Z, record=Record(text=Java版めちゃくちゃ重いですからねえ…………MOD入れまくってマルチとかやるとブロック破壊できないぐらい重くなることありますあります………, embed=null, createdAt=2025-05-18T06:32:28.801Z), replyCount=1, repostCount=0, likeCount=0, quoteCount=0), Post(uri=at://did:plc:7og4ug52pk6bvvau73fmi2mg/app.bsky.feed.post/3lpggp3oma226, cid=bafyreibq3cgvy5k3ukbovlojxtvhxkhi5rtlos5jpuuggfnaxc5bftb4gm, author=Author(did=did:plc:7og4ug52pk6bvvau73fmi2mg, handle=flexdown.bsky.social, displayName=Flexdown, avatar=https://cdn.bsky.app/img/avatar/plain/did:plc:7og4ug52pk6bvvau73fmi2mg/bafkreif3iczm4wvhw6haq62dd6zaspbscopblgabgvardbvgjeblqc3ura@jpeg), indexedAt=2025-05-18T06:31:31.112Z, record=Record(text=Java Burn Weight Loss Coffee \n",
       "Visit Website - flaxdown.blogspot.com/2025/03/java..., embed=Embed(images=[Image(thumb=null, fullsize=null, alt=JAVA burn )]), createdAt=2025-05-18T06:31:24.611Z), replyCount=0, repostCount=0, likeCount=2, quoteCount=0), Post(uri=at://did:plc:lvb3dzo3zfcxhjcx576zbsqc/app.bsky.feed.post/3lpggnuoqnv2e, cid=bafyreicszjibltr6ahi6ug3znpxb7stw7qf2szfbgx4cbmas2ocmxjchoq, author=Author(did=did:plc:lvb3dzo3zfcxhjcx576zbsqc, handle=adoptabledogs.bsky.social, displayName=Adoptable Dogs, avatar=https://cdn.bsky.app/img/avatar/plain/did:plc:lvb3dzo3zfcxhjcx576zbsqc/bafkreibnyapl7rbloksoyg2iyx7umuancs33rveyv4lxiybyzuhhjl27v4@jpeg), indexedAt=2025-05-18T06:30:44.916Z, record=Record(text=Java 🐕\n",
       "Young female Terrier mix\n",
       "Adoptable from Rover Rescue (Aurora, IL)\n",
       "\n",
       "https://www.petfinder.com/dog/java-76453875/il/aurora/rover-rescue-il244/, embed=Embed(images=[Image(thumb=null, fullsize=null, alt=Java is a Young Terrier mix), Image(thumb=null, fullsize=null, alt=Java is a Young Terrier mix)]), createdAt=2025-05-18T06:30:43.744Z), replyCount=0, repostCount=0, likeCount=7, quoteCount=0), Post(uri=at://did:plc:t346wfftccbnaf7xepjozrrl/app.bsky.feed.post/3lpggkiy4ls2r, cid=bafyreig2jo3qxtefbmasqa52e4zaki6ie7ye62lmwvkoyhze4aimbdduwu, author=Author(did=did:plc:t346wfftccbnaf7xepjozrrl, handle=zegale.bsky.social, displayName=Zegale, avatar=https://cdn.bsky.app/img/avatar/plain/did:plc:t346wfftccbnaf7xepjozrrl/bafkreigtylaql4kzbuau222pdznx5sjxta54jivtgnfvo33fgolk2jvovy@jpeg), indexedAt=2025-05-18T06:28:51.514Z, record=Record(text=Java版がなぜか鞄閉じられないですよ＝～＝；\n",
       "Eで開けたのにもう一度Eしても閉じられなかった…（＊多分重い）, embed=null, createdAt=2025-05-18T06:28:50.836Z), replyCount=1, repostCount=0, likeCount=0, quoteCount=0), Post(uri=at://did:plc:5s6vxdt4fm6g2xzpazyvoljp/app.bsky.feed.post/3lpgghinc7c2e, cid=bafyreiec5pumr33zfu5fao6kf2k6o4yhsx2ynnzz5uzl65jaggpza3gz7i, author=Author(did=did:plc:5s6vxdt4fm6g2xzpazyvoljp, handle=cleacwlw.bsky.social, displayName=くりあてぃー, avatar=https://cdn.bsky.app/img/avatar/plain/did:plc:5s6vxdt4fm6g2xzpazyvoljp/bafkreicvgz6wcws6s6v2m7ukgku3ker2asyz4ujcizhokdc3fdl5qic76a@jpeg), indexedAt=2025-05-18T06:27:10.310Z, record=Record(text=Java版持ってたおかげか統合版もできますがやっぱJavaがいいですね……色々な要素追加できるのやっぱでかいです………, embed=null, createdAt=2025-05-18T06:27:09.817Z), replyCount=1, repostCount=0, likeCount=0, quoteCount=0), Post(uri=at://did:plc:f2cwex3mlgjqogzqzulmw7hm/app.bsky.feed.post/3lpgg7yhjuk2r, cid=bafyreicdb6vawn2aiaoucbkjhdtdehtkrntdkotzepjcv6evalnsoikxvi, author=Author(did=did:plc:f2cwex3mlgjqogzqzulmw7hm, handle=hanglisa.bsky.social, displayName=CITRILINAS, avatar=https://cdn.bsky.app/img/avatar/plain/did:plc:f2cwex3mlgjqogzqzulmw7hm/bafkreicfervsccfgg7zdfnqqpzpfk5iqf34zld6y342y4n5u27fkphtadi@jpeg), indexedAt=2025-05-18T06:22:59.910Z, record=Record(text=com certeza o sonarqube tem um bom apoio pra análise sintática de c# assim como ele tem pra java, não vou ter nenhum problema com isso, embed=Embed(images=[Image(thumb=null, fullsize=null, alt=)]), createdAt=2025-05-18T06:22:57.968Z), replyCount=0, repostCount=0, likeCount=0, quoteCount=0), Post(uri=at://did:plc:t346wfftccbnaf7xepjozrrl/app.bsky.feed.post/3lpgfzpx6ms2r, cid=bafyreiabz5lsieejyaycpid2irdtxhfkinu3kwhmbfmprmvsnnycd63soe, author=Author(did=did:plc:t346wfftccbnaf7xepjozrrl, handle=zegale.bsky.social, displayName=Zegale, avatar=https://cdn.bsky.app/img/avatar/plain/did:plc:t346wfftccbnaf7xepjozrrl/bafkreigtylaql4kzbuau222pdznx5sjxta54jivtgnfvo33fgolk2jvovy@jpeg), indexedAt=2025-05-18T06:19:28.811Z, record=Record(text=Javaの人うらやましいいーーー（ｂｙ総合版の民；ｖ；）, embed=null, createdAt=2025-05-18T06:19:27.720Z), replyCount=1, repostCount=0, likeCount=0, quoteCount=0), Post(uri=at://did:plc:3lweg7xrq2kmkek46ofvvxln/app.bsky.feed.post/3lpgforlzg22g, cid=bafyreihilzv5erbwirh2td2u3b7p2vntlrppedgjwobydgaesi5fiexqta, author=Author(did=did:plc:3lweg7xrq2kmkek46ofvvxln, handle=myfear.com, displayName=Markus Eisele, avatar=https://cdn.bsky.app/img/avatar/plain/did:plc:3lweg7xrq2kmkek46ofvvxln/bafkreigd55y3bh2amsupvgzyffsvgpcp4shdxmsk4aa5cenjtjg4dltb64@jpeg), indexedAt=2025-05-18T06:13:20.912Z, record=Record(text=Mastering Database Migrations in Java: A Hands-On Guide with Quarkus and Flyway\n",
       "Learn how to version, evolve, and manage your database schema like a pro, using modern Java, Quarkus Dev Services, and Flyway. \n",
       "buff.ly/clRk2B4\n",
       "#Java #Quarkus #Flyway #Database, embed=Embed(images=[Image(thumb=null, fullsize=null, alt=)]), createdAt=2025-05-18T06:13:20.330Z), replyCount=0, repostCount=2, likeCount=3, quoteCount=0), Post(uri=at://did:plc:tbuuoxuit5plrmzls5h7lqx4/app.bsky.feed.post/3lpgdsmptyq2a, cid=bafyreickbbgcihtv7zo3v3ztw4o4mqnpdtno5qxhzt4coalhrge3gdwub4, author=Author(did=did:plc:tbuuoxuit5plrmzls5h7lqx4, handle=hima.elpher.org, displayName=暇人鯖【公式】, avatar=https://cdn.bsky.app/img/avatar/plain/did:plc:tbuuoxuit5plrmzls5h7lqx4/bafkreicxkqrke4vla4izxprh6icfaqn3s6hlpeftvcaejwfbm5p62qxmti@jpeg), indexedAt=2025-05-18T05:39:42.112Z, record=Record(text=discord.gg/3u7vKV39K4\n",
       "《暇人鯖》\n",
       "暇人たちの鯖/マイクラ/雑談/TRPG/ゲーム\n",
       "Java/統合版対応のマイクラサーバーが利用可能！\n",
       "🍀公開から1週間で600人達成！\n",
       "会話やカジノで楽しめます！\n",
       "💕メンバーの意見を積極的に取り入れてより良いサーバーにしていきます！\n",
       "《🫶ぜひご参加ください！🫶》, embed=null, createdAt=2025-05-18T05:39:41.667Z), replyCount=0, repostCount=0, likeCount=0, quoteCount=0), Post(uri=at://did:plc:n23l3ucvxf5ybywrgwf2pg32/app.bsky.feed.post/3lpgd2zqb7s2t, cid=bafyreihu4i6z3axwdyhryfkk5dhpkqlkhf7s5um2n6tazq7q2cmlxf5h3u, author=Author(did=did:plc:n23l3ucvxf5ybywrgwf2pg32, handle=finn6935.bsky.social, displayName=finn, avatar=https://cdn.bsky.app/img/avatar/plain/did:plc:n23l3ucvxf5ybywrgwf2pg32/bafkreic4oew7a5cbep62zszipwgmqbtn2bynou2rd4xdtibmq2mjmgmjta@jpeg), indexedAt=2025-05-18T05:26:33.112Z, record=Record(text=Javaと仲良くなりたい、AWSの勉強したい、積んでる技術書読みたい、個人開発アプリをレスポンシブ対応したい、Switch2欲しい→マリカワールドとデルタルーンとポケモンコロシアムやりたい、山登りたい、スマメイトやりたい、FEエンゲージやりたいが今ある欲求で普通にやりたいことありすぎてやめるべきことがSNSしかない\n",
       "制限アプリのおかげでXに時間浪費せずに済んでるのに、ブルスカにオタクの狂った長文垂れ流して時間浪費するのやめたい（と言いながらまたブルスカを開いてしまうオタク）, embed=null, createdAt=2025-05-18T05:26:30.305Z), replyCount=0, repostCount=0, likeCount=0, quoteCount=0), Post(uri=at://did:plc:p6g5tezyzc7bagxlvqz5mnvv/app.bsky.feed.post/3lpgasqz5ok2h, cid=bafyreid3wl75ogpzeiqxoeaw7gnqftmzfuogxvyoami4ecv2p2rxowjuhq, author=Author(did=did:plc:p6g5tezyzc7bagxlvqz5mnvv, handle=jeremyhornik.bsky.social, displayName=Jeremy Hornik, avatar=https://cdn.bsky.app/img/avatar/plain/did:plc:p6g5tezyzc7bagxlvqz5mnvv/bafkreihfhrcdpul7a3vheithpvbmh2zcblmt52exdmoz2opv2a7jtgezdi@jpeg), indexedAt=2025-05-18T04:46:05.514Z, record=Record(text=(Just starting Java and the South China Sea. The cat mutilator is dead af by now, if that's what you were sparing me from.), embed=null, createdAt=2025-05-18T04:46:05.243Z), replyCount=1, repostCount=0, likeCount=0, quoteCount=0), Post(uri=at://did:plc:z2fuxgrepg6y72wy4ze5dib5/app.bsky.feed.post/3lpgaps4fso23, cid=bafyreiff5oz75kesyfttychnio7boqfirzm4zhds3xb756ltc54n3ykxdi, author=Author(did=did:plc:z2fuxgrepg6y72wy4ze5dib5, handle=mydeveloperplanet.com, displayName=Gunter Rotsaert, avatar=https://cdn.bsky.app/img/avatar/plain/did:plc:z2fuxgrepg6y72wy4ze5dib5/bafkreid2x7hguplpwwiqc5ag6jxy57pcmw3bobjb5wirw3vv3lhrlwsmb4@jpeg), indexedAt=2025-05-18T04:44:26.115Z, record=Record(text=In this blog, you will learn how to backup and restore a PostgreSQL database. Enjoy!\n",
       "#postgresql #database #java, embed=Embed(images=null), createdAt=2025-05-18T04:44:24Z), replyCount=0, repostCount=1, likeCount=2, quoteCount=0), Post(uri=at://did:plc:pdvjdejvjinix4lnt4sgzg7r/app.bsky.feed.post/3lpg72jxuoa2u, cid=bafyreicuu34owvjp6pv7nntqjdxsru3o3noogd4m55najkbpaj2qbjprle, author=Author(did=did:plc:pdvjdejvjinix4lnt4sgzg7r, handle=jobboardsearch.com, displayName=JobBoardSearch 🔎, avatar=https://cdn.bsky.app/img/avatar/plain/did:plc:pdvjdejvjinix4lnt4sgzg7r/bafkreihyczseyy6xvhcwu767yff3sst266xtjbcr6nmoxopj4wwbcgne24@jpeg), indexedAt=2025-05-18T04:14:39.320Z, record=Record(text=📢 Deutsche Bank is #hiring a Java Automation Lead Engineer - Vice President!\n",
       "\n",
       "💰 $125K - $185K\n",
       "📍 US\r\n",
       "\n",
       "\n",
       "🔗 http://jbs.ink/SefQKoD7uT4W\n",
       "\n",
       "#remotejob #remotework #wfh, embed=Embed(images=[Image(thumb=null, fullsize=null, alt=📢 Deutsche Bank is hiring a Java Automation Lead Engineer - Vice President!)]), createdAt=2025-05-18T04:14:37+00:00), replyCount=0, repostCount=0, likeCount=0, quoteCount=0), Post(uri=at://did:plc:i53e6y3liw2oaw4s6e6odw5m/app.bsky.feed.post/3lpg6lnzyx42p, cid=bafyreihslt25btjakjfysksdl7gvlsdci7bnnv556d37e3yyyp2ma4jhhe, author=Author(did=did:plc:i53e6y3liw2oaw4s6e6odw5m, handle=bluesky.awakari.com, displayName=Awakari, avatar=https://cdn.bsky.app/img/avatar/plain/did:plc:i53e6y3liw2oaw4s6e6odw5m/bafkreicvyjeywe5ph65avri3hzojqocoowoqwh3htd7dlazqgwzsnuyjfy@jpeg), indexedAt=2025-05-18T04:06:19.910Z, record=Record(text= MongoDB is hiring Software Engineer, Identity and Access Management 🔧 # csharp # cplusplus # golang # java # javascript # typescript # react # redux # aws # azure # gcp # mongodb 🌎 New York City, New York ⏰ Full-time 🏢 MongoDB Job details ht...\n",
       "\n",
       "| Details | Interest | Feed |, embed=Embed(images=null), createdAt=2025-05-18T04:06:19Z), replyCount=0, repostCount=1, likeCount=2, quoteCount=0), Post(uri=at://did:plc:i53e6y3liw2oaw4s6e6odw5m/app.bsky.feed.post/3lpg6lm5a3w2s, cid=bafyreiapohpukgffm7b45j425z7cvtmre2hfozklycy2sjayohbbitnmy4, author=Author(did=did:plc:i53e6y3liw2oaw4s6e6odw5m, handle=bluesky.awakari.com, displayName=Awakari, avatar=https://cdn.bsky.app/img/avatar/plain/did:plc:i53e6y3liw2oaw4s6e6odw5m/bafkreicvyjeywe5ph65avri3hzojqocoowoqwh3htd7dlazqgwzsnuyjfy@jpeg), indexedAt=2025-05-18T04:06:18.610Z, record=Record(text= MongoDB is hiring Software Engineer, Identity and Access Management 🔧 # csharp # cplusplus # golang # java # javascript # typescript # react # redux # aws # azure # gcp # mongodb 🌎 New York City, New York ⏰ Full-time 🏢 MongoDB Job details ht...\n",
       "\n",
       "| Details | Interest | Feed |, embed=Embed(images=null), createdAt=2025-05-18T04:06:17Z), replyCount=0, repostCount=1, likeCount=2, quoteCount=0), Post(uri=at://did:plc:i53e6y3liw2oaw4s6e6odw5m/app.bsky.feed.post/3lpg6lk2eoo2l, cid=bafyreibszrj4p4gruk3nxsgwh4qxy3avxtauqns2sa6k6t6szpsdgnuzva, author=Author(did=did:plc:i53e6y3liw2oaw4s6e6odw5m, handle=bluesky.awakari.com, displayName=Awakari, avatar=https://cdn.bsky.app/img/avatar/plain/did:plc:i53e6y3liw2oaw4s6e6odw5m/bafkreicvyjeywe5ph65avri3hzojqocoowoqwh3htd7dlazqgwzsnuyjfy@jpeg), indexedAt=2025-05-18T04:06:16.013Z, record=Record(text= MongoDB is hiring Software Engineer, Identity and Access Management 🔧 # csharp # cplusplus # golang # java # javascript # typescript # react # redux # aws # azure # gcp # mongodb 🌎 New York City, New York ⏰ Full-time 🏢 MongoDB Job details ht...\n",
       "\n",
       "| Details | Interest | Feed |, embed=Embed(images=null), createdAt=2025-05-18T04:06:15Z), replyCount=0, repostCount=1, likeCount=2, quoteCount=0), Post(uri=at://did:plc:i53e6y3liw2oaw4s6e6odw5m/app.bsky.feed.post/3lpg6lhqmak2v, cid=bafyreiblkggbrkptiamkv6ks2hn5gyk3mg526nbrbiquw2qn4dxvifine4, author=Author(did=did:plc:i53e6y3liw2oaw4s6e6odw5m, handle=bluesky.awakari.com, displayName=Awakari, avatar=https://cdn.bsky.app/img/avatar/plain/did:plc:i53e6y3liw2oaw4s6e6odw5m/bafkreicvyjeywe5ph65avri3hzojqocoowoqwh3htd7dlazqgwzsnuyjfy@jpeg), indexedAt=2025-05-18T04:06:13.711Z, record=Record(text= MongoDB is hiring Software Engineer, Identity and Access Management 🔧 # csharp # cplusplus # golang # java # javascript # typescript # react # redux # aws # azure # gcp # mongodb 🌎 New York City, New York ⏰ Full-time 🏢 MongoDB Job details ht...\n",
       "\n",
       "| Details | Interest | Feed |, embed=Embed(images=null), createdAt=2025-05-18T04:06:12Z), replyCount=0, repostCount=1, likeCount=2, quoteCount=0), Post(uri=at://did:plc:i53e6y3liw2oaw4s6e6odw5m/app.bsky.feed.post/3lpg6lfzejg2s, cid=bafyreig4wgu4h3j2uzshmciclhnroshmorjdtjmn7guvqhm22oc7homvau, author=Author(did=did:plc:i53e6y3liw2oaw4s6e6odw5m, handle=bluesky.awakari.com, displayName=Awakari, avatar=https://cdn.bsky.app/img/avatar/plain/did:plc:i53e6y3liw2oaw4s6e6odw5m/bafkreicvyjeywe5ph65avri3hzojqocoowoqwh3htd7dlazqgwzsnuyjfy@jpeg), indexedAt=2025-05-18T04:06:11.615Z, record=Record(text= MongoDB is hiring Software Engineer, Identity and Access Management 🔧 # csharp # cplusplus # golang # java # javascript # typescript # react # redux # aws # azure # gcp # mongodb 🌎 New York City, New York ⏰ Full-time 🏢 MongoDB Job details ht...\n",
       "\n",
       "| Details | Interest | Feed |, embed=Embed(images=null), createdAt=2025-05-18T04:06:11Z), replyCount=0, repostCount=1, likeCount=1, quoteCount=0), Post(uri=at://did:plc:hcyf3mmftm3iyvvqfdl7ovqg/app.bsky.feed.post/3lpg64spxok2o, cid=bafyreihrx34xolftupi2no5llzpn5t6xn27gqzumyoq3fuf4ofqivuw4de, author=Author(did=did:plc:hcyf3mmftm3iyvvqfdl7ovqg, handle=eldinerolat.bsky.social, displayName=eldinero.lat, avatar=https://cdn.bsky.app/img/avatar/plain/did:plc:hcyf3mmftm3iyvvqfdl7ovqg/bafkreidwkafzepm3ss3shapxpfij3hiungtrlynszo6cwuztvtiwbtyz24@jpeg), indexedAt=2025-05-18T03:58:02.011Z, record=Record(text=Programación Orientada a Datos en Java: Revolucionando el Desarrollo con Limpieza y Eficiencia\r\n",
       "\r\n",
       "\r\n",
       "https://eldinero.lat/posts/C573121B-A105-41CE-8D21-EF1DAB5FF6FB, embed=null, createdAt=2025-05-18T03:58:00Z), replyCount=0, repostCount=0, likeCount=0, quoteCount=0), Post(uri=at://did:plc:wkzk5nmqsdwo4fu4cllsdqq6/app.bsky.feed.post/3lpg643orcm2q, cid=bafyreid4gqo5zxosvijca4ckqmhlcvkzui42hbr23bqzi5chqmglfpntca, author=Author(did=did:plc:wkzk5nmqsdwo4fu4cllsdqq6, handle=dasgeldco.bsky.social, displayName=dasgeld.co, avatar=https://cdn.bsky.app/img/avatar/plain/did:plc:wkzk5nmqsdwo4fu4cllsdqq6/bafkreig26tkvmxvflpaofxvyso4wtmycnoeocxqkp3kob6ju3g3wqnu45a@jpeg), indexedAt=2025-05-18T03:57:38.010Z, record=Record(text=Data Oriented Programming in Java: Moderne Ansätze für sauberen und wartbaren Code\r\n",
       "\r\n",
       "\r\n",
       "https://dasgeld.co/posts/7963BA5F-179E-464E-A425-54C4004B9D89, embed=null, createdAt=2025-05-18T03:57:36Z), replyCount=0, repostCount=0, likeCount=0, quoteCount=0), Post(uri=at://did:plc:l5hw3gcsunfwjbwhjahcu7q2/app.bsky.feed.post/3lpg5lzwuqk2b, cid=bafyreihwqkzsdngvv5bfskcpsvvpueuiv62utsq4jlurswk6lkktfjy7qy, author=Author(did=did:plc:l5hw3gcsunfwjbwhjahcu7q2, handle=stuxnetstudios.bsky.social, displayName=Clubhouse for Cool Kids, avatar=https://cdn.bsky.app/img/avatar/plain/did:plc:l5hw3gcsunfwjbwhjahcu7q2/bafkreidh4qh3zp34avtz3zwasj6hygpj3nkwnwqy63qiy6iikldzimn5m4@jpeg), indexedAt=2025-05-18T03:48:53.314Z, record=Record(text=When will I ever use undergrad Java problems in real life?, embed=Embed(images=[Image(thumb=null, fullsize=null, alt=)]), createdAt=2025-05-18T03:48:38.499Z), replyCount=0, repostCount=0, likeCount=0, quoteCount=0), Post(uri=at://did:plc:i53e6y3liw2oaw4s6e6odw5m/app.bsky.feed.post/3lpg4dpt4ib26, cid=bafyreihuzxhgojhege3zquxdsmqrpoz2laquzzj54niuhvswwtu5rzqs6e, author=Author(did=did:plc:i53e6y3liw2oaw4s6e6odw5m, handle=bluesky.awakari.com, displayName=Awakari, avatar=https://cdn.bsky.app/img/avatar/plain/did:plc:i53e6y3liw2oaw4s6e6odw5m/bafkreicvyjeywe5ph65avri3hzojqocoowoqwh3htd7dlazqgwzsnuyjfy@jpeg), indexedAt=2025-05-18T03:26:06.011Z, record=Record(text= https://www. minenest.com/471104/ Java players in a nutshell # Memes # Minecraft # MinecraftMemes \n",
       "\n",
       "| Details | Interest | Feed |, embed=Embed(images=null), createdAt=2025-05-18T03:26:05Z), replyCount=0, repostCount=0, likeCount=0, quoteCount=0), Post(uri=at://did:plc:pdvjdejvjinix4lnt4sgzg7r/app.bsky.feed.post/3lpg3xyc4qc2h, cid=bafyreifvx3a6ryjxv2zn7o7qy6rnyqsmt5lrn7eszbt2vicgv6ikwkr5pi, author=Author(did=did:plc:pdvjdejvjinix4lnt4sgzg7r, handle=jobboardsearch.com, displayName=JobBoardSearch 🔎, avatar=https://cdn.bsky.app/img/avatar/plain/did:plc:pdvjdejvjinix4lnt4sgzg7r/bafkreihyczseyy6xvhcwu767yff3sst266xtjbcr6nmoxopj4wwbcgne24@jpeg), indexedAt=2025-05-18T03:19:32.616Z, record=Record(text=📢 Vonage is #hiring a Fullstack Software Engineer - Java at Vonage!\n",
       "\n",
       "💰 \n",
       "\n",
       "🌎 Worldwide\r\n",
       "\n",
       "\n",
       "🔗 http://jbs.ink/SWOwkdjJ0olI\n",
       "\n",
       "#remotejob #remotework #wfh, embed=Embed(images=[Image(thumb=null, fullsize=null, alt=📢 Vonage is hiring a Fullstack Software Engineer - Java at Vonage!)]), createdAt=2025-05-18T03:19:30+00:00), replyCount=0, repostCount=0, likeCount=0, quoteCount=0), Post(uri=at://did:plc:ztk57yzwh7gar464vmznvkhb/app.bsky.feed.post/3lpg3qlooh722, cid=bafyreidwovdfyt77h5brietivrqq4oa7jzgm4xdnk2ms76xdox3ojxibue, author=Author(did=did:plc:ztk57yzwh7gar464vmznvkhb, handle=playing-games.bsky.social, displayName=Playing Games, avatar=https://cdn.bsky.app/img/avatar/plain/did:plc:ztk57yzwh7gar464vmznvkhb/bafkreiha53255z6qdqhouesqbtxsbawvojyn2tpk3xf5v6lhfxfdunwvzy@jpeg), indexedAt=2025-05-18T03:15:25.213Z, record=Record(text=岩盤のためのJavaシード？\n",
       "\n",
       "https://www.playing-games.com/647113/\n",
       "\n",
       "誰かがこれに似た種子を知っていますか？ by hiatuslive, embed=Embed(images=null), createdAt=2025-05-18T03:15:20+00:00), replyCount=0, repostCount=0, likeCount=0, quoteCount=0), Post(uri=at://did:plc:pdvjdejvjinix4lnt4sgzg7r/app.bsky.feed.post/3lpg3dsmmrc2h, cid=bafyreiag3mknjmz4ht5nbw56jobi3njzmxibumghksrgoaenzfbbbbbyge, author=Author(did=did:plc:pdvjdejvjinix4lnt4sgzg7r, handle=jobboardsearch.com, displayName=JobBoardSearch 🔎, avatar=https://cdn.bsky.app/img/avatar/plain/did:plc:pdvjdejvjinix4lnt4sgzg7r/bafkreihyczseyy6xvhcwu767yff3sst266xtjbcr6nmoxopj4wwbcgne24@jpeg), indexedAt=2025-05-18T03:08:15.012Z, record=Record(text=📢 Creatio is #hiring a Full Stack (Angular + Java) Developer at Creatio!\n",
       "\n",
       "💰 \n",
       "\n",
       "🌎 Worldwide\r\n",
       "\n",
       "\n",
       "🔗 http://jbs.ink/s9ZKmVFHpDuP\n",
       "\n",
       "#remotejob #remotework #wfh, embed=Embed(images=[Image(thumb=null, fullsize=null, alt=📢 Creatio is hiring a Full Stack (Angular + Java) Developer at Creatio!)]), createdAt=2025-05-18T03:08:13+00:00), replyCount=0, repostCount=0, likeCount=0, quoteCount=0), Post(uri=at://did:plc:hcyf3mmftm3iyvvqfdl7ovqg/app.bsky.feed.post/3lpg34geulj2o, cid=bafyreie5qgrykrizesjka34whcdtz3sjotj5fxhtrojs2kgiba2ebhes24, author=Author(did=did:plc:hcyf3mmftm3iyvvqfdl7ovqg, handle=eldinerolat.bsky.social, displayName=eldinero.lat, avatar=https://cdn.bsky.app/img/avatar/plain/did:plc:hcyf3mmftm3iyvvqfdl7ovqg/bafkreidwkafzepm3ss3shapxpfij3hiungtrlynszo6cwuztvtiwbtyz24@jpeg), indexedAt=2025-05-18T03:04:08.116Z, record=Record(text=CheerpJ 4.0: Revolución en la ejecución de Java en el navegador con soporte para Java 11 y JNI\r\n",
       "\r\n",
       "\r\n",
       "https://eldinero.lat/posts/8513AEBD-CAD3-4DB4-BCD9-3B61CC5D48B6, embed=null, createdAt=2025-05-18T03:04:06Z), replyCount=0, repostCount=0, likeCount=0, quoteCount=0), Post(uri=at://did:plc:wkzk5nmqsdwo4fu4cllsdqq6/app.bsky.feed.post/3lpg33hl4ux2f, cid=bafyreicd4dsggy4psv3nw2d3werko5mezqxuqx2b224iauw73ndorgojzy, author=Author(did=did:plc:wkzk5nmqsdwo4fu4cllsdqq6, handle=dasgeldco.bsky.social, displayName=dasgeld.co, avatar=https://cdn.bsky.app/img/avatar/plain/did:plc:wkzk5nmqsdwo4fu4cllsdqq6/bafkreig26tkvmxvflpaofxvyso4wtmycnoeocxqkp3kob6ju3g3wqnu45a@jpeg), indexedAt=2025-05-18T03:03:35.115Z, record=Record(text=CheerpJ 4.0: Die Zukunft von Java im Browser mit WebAssembly und Java 11 Unterstützung\r\n",
       "\r\n",
       "\r\n",
       "https://dasgeld.co/posts/2CA562C2-0AE3-4ADB-9FB0-98386D37B023, embed=null, createdAt=2025-05-18T03:03:34Z), replyCount=0, repostCount=0, likeCount=0, quoteCount=0), Post(uri=at://did:plc:wuepwtokgkmzhfgtoq7qjve6/app.bsky.feed.post/3lpg2vnffac2l, cid=bafyreihm2eafkwxhhg5lxua3gljt35q7zjluklvcj7p37nucruz4dexdva, author=Author(did=did:plc:wuepwtokgkmzhfgtoq7qjve6, handle=sumi-gottani.bsky.social, displayName=sumi, avatar=https://cdn.bsky.app/img/avatar/plain/did:plc:wuepwtokgkmzhfgtoq7qjve6/bafkreigfptgii4bb2muectr6uy7jsfvlwkro6z6or47r4sqq3nhusxj3o4@jpeg), indexedAt=2025-05-18T03:00:23.113Z, record=Record(text=ぼーっと聴いてたら1:56辺り、Javaがすねげすねげって言ってるように聞こえてダメだった、そんな風に聞こえたの初めてなんやけどw\n",
       "3人で歌ってるの好きなんやけど、今後よぎりそうで嫌だ😂\n",
       "music.apple.com/jp/album/the..., embed=Embed(images=null), createdAt=2025-05-18T03:00:19.661Z), replyCount=0, repostCount=0, likeCount=0, quoteCount=0), Post(uri=at://did:plc:kfaqksbyr3zwzvzj3wpbpvac/app.bsky.feed.post/3lpg2vhpkrs2e, cid=bafyreiajcsk2fzym5slgtj6l5fkzmcerxu4rywxucons5kyhbcv2r6h3qy, author=Author(did=did:plc:kfaqksbyr3zwzvzj3wpbpvac, handle=thenewstack.io, displayName=The New Stack, avatar=https://cdn.bsky.app/img/avatar/plain/did:plc:kfaqksbyr3zwzvzj3wpbpvac/bafkreiassf27znj6cofsw53ltcjy7atkc3v7icemdjimxfjol7rjiudk7y@jpeg), indexedAt=2025-05-18T03:00:13.814Z, record=Record(text=From trash-diving teen to tech pioneer, James Gosling's pragmatic genius shaped three decades of Java and modern computing., embed=Embed(images=null), createdAt=2025-05-18T03:00:13Z), replyCount=0, repostCount=0, likeCount=2, quoteCount=0), Post(uri=at://did:plc:bwqj4kqpnkjtiqclmaaid6w2/app.bsky.feed.post/3lpg2vbe5bv2j, cid=bafyreiatpldedgznbmjc6yxgbkancokajbpdxnjnb6o5eou3dgzpmor3za, author=Author(did=did:plc:bwqj4kqpnkjtiqclmaaid6w2, handle=codingcat.dev, displayName=CodingCat.dev, avatar=https://cdn.bsky.app/img/avatar/plain/did:plc:bwqj4kqpnkjtiqclmaaid6w2/bafkreifxpdvxnziph6ntvfzvbdfrue6bu4nn7tjtd3lkrtyuc73egaegbe@jpeg), indexedAt=2025-05-18T03:00:07.911Z, record=Record(text=Variáveis e Tipos de Dados em Java, embed=Embed(images=null), createdAt=2025-05-18T03:00:06.963Z), replyCount=0, repostCount=0, likeCount=0, quoteCount=0), Post(uri=at://did:plc:pjg3t7xfvsepn6ozajptvuvc/app.bsky.feed.post/3lpg2lqe7q22u, cid=bafyreie56vyod4cclxi6ebldpgcixrspocrv7hex7focmdg377nxyowkrm, author=Author(did=did:plc:pjg3t7xfvsepn6ozajptvuvc, handle=theneildeall.bsky.social, displayName=★🦴🥩 DUALITY 🥩🦴★ [view pf byi] [chance fictkin], avatar=https://cdn.bsky.app/img/avatar/plain/did:plc:pjg3t7xfvsepn6ozajptvuvc/bafkreifghvyn2vpyxt772vsr2dbfwmfofs637uypcbaxfsodgl3vjg45ym@jpeg), indexedAt=2025-05-18T02:54:48.013Z, record=Record(text=i have popcorn and java monster 😻, embed=null, createdAt=2025-05-18T02:54:47.225Z), replyCount=0, repostCount=0, likeCount=0, quoteCount=0), Post(uri=at://did:plc:jds3jm2uwi3dhp72lhjzp2g2/app.bsky.feed.post/3lpg2j6mjlc2c, cid=bafyreigyt76haqvhtomqlksh5rybgraoes7j2pepsdsy3y3wwcmtka5aym, author=Author(did=did:plc:jds3jm2uwi3dhp72lhjzp2g2, handle=akkyakimoto.bsky.social, displayName=Akky, avatar=https://cdn.bsky.app/img/avatar/plain/did:plc:jds3jm2uwi3dhp72lhjzp2g2/bafkreic237epwbnkk5v27z4m4hpszsjw7l7leqtuimga5nxjbwenaxw5fe@jpeg), indexedAt=2025-05-18T02:53:21.416Z, record=Record(text=playing around on ChatGPT Codex. Sandbox has Node.js, Python, Java, Ruby and Rust but does not have what I usually use, Deno and PHP., embed=null, createdAt=2025-05-18T02:53:21.513Z), replyCount=0, repostCount=0, likeCount=0, quoteCount=0), Post(uri=at://did:plc:3qmch5hhw3xvsgpnq6p5w5jj/app.bsky.feed.post/3lpg23kjnw22w, cid=bafyreibsuyzls3cb53ydzd7ynxunannsmea4dph4i4r7cigbswb3d5mhl4, author=Author(did=did:plc:3qmch5hhw3xvsgpnq6p5w5jj, handle=404nm.bsky.social, displayName=りつ犬, avatar=https://cdn.bsky.app/img/avatar/plain/did:plc:3qmch5hhw3xvsgpnq6p5w5jj/bafkreieay3kwxaourptokap4t3hrvzzft2g26ayctq5j6yvyafwduiz4ym@jpeg), indexedAt=2025-05-18T02:45:44.920Z, record=Record(text=今まで学んだ言語が\n",
       "c言語、c# （unityのお供）、java （浅め）、java scriptなんですけど、単純にこれらと違いすぎませんか…？？\n",
       "\n",
       "①：とかインデントで階層構造を表現\n",
       "②；がない違和感\n",
       "③型がない。型の変換が一見不明\n",
       "④self ← 突然出てきて誰だお前は\n",
       "⑤配列のインデックスに負の値\n",
       "⑥値渡しと参照渡しの境界\n",
       "⑦ローカル変数のスコープ, embed=null, createdAt=2025-05-18T02:45:44.241Z), replyCount=1, repostCount=0, likeCount=2, quoteCount=0), Post(uri=at://did:plc:lvagsfvx6c3w4cmek5owmkqe/app.bsky.feed.post/3lpg23ieynk2l, cid=bafyreibqqmn4ltgcidcna24zpdiy6qocn5pnpn5hpq5etayh3rdmxgkq4i, author=Author(did=did:plc:lvagsfvx6c3w4cmek5owmkqe, handle=mongo-ica.bsky.social, displayName=紋甲いか, avatar=https://cdn.bsky.app/img/avatar/plain/did:plc:lvagsfvx6c3w4cmek5owmkqe/bafkreidz52mk7bkqnqh5yzuyo5yq2nl7na76cqag4r2hxosxkkqx7tuirm@jpeg), indexedAt=2025-05-18T02:45:43.016Z, record=Record(text=数日前にjava版のマイクラを購入した（職場でマイクラやるってなった時にコントローラーでしか動かせなくて困ったので）から、ほぼ日で操作練習してる。\n",
       "昨日も練習のために1時間弱プレイしてから寝たら、なんか夢の中でマイクラ世界みたいなところにいた。夢で脳が記憶を整理してるというのが良く分かる例だ。, embed=null, createdAt=2025-05-18T02:45:41.990Z), replyCount=1, repostCount=0, likeCount=3, quoteCount=0), Post(uri=at://did:plc:tbuuoxuit5plrmzls5h7lqx4/app.bsky.feed.post/3lpfzqqn6wr2s, cid=bafyreib2ig3qpd4zqmuobxydtbizvbzy2jjbj5wzp2kqxfqw726jdtqmoi, author=Author(did=did:plc:tbuuoxuit5plrmzls5h7lqx4, handle=hima.elpher.org, displayName=暇人鯖【公式】, avatar=https://cdn.bsky.app/img/avatar/plain/did:plc:tbuuoxuit5plrmzls5h7lqx4/bafkreicxkqrke4vla4izxprh6icfaqn3s6hlpeftvcaejwfbm5p62qxmti@jpeg), indexedAt=2025-05-18T02:39:41.711Z, record=Record(text=discord.gg/3u7vKV39K4\n",
       "《暇人鯖》\n",
       "暇人たちの鯖/マイクラ/雑談/TRPG/ゲーム\n",
       "Java/統合版対応のマイクラサーバーが利用可能！\n",
       "🍀公開から1週間で600人達成！\n",
       "会話やカジノで楽しめます！\n",
       "💕メンバーの意見を積極的に取り入れてより良いサーバーにしていきます！\n",
       "《🫶ぜひご参加ください！🫶》, embed=null, createdAt=2025-05-18T02:39:41.283Z), replyCount=0, repostCount=0, likeCount=0, quoteCount=0), Post(uri=at://did:plc:n3oj442hxy3iagrxcysrafzo/app.bsky.feed.post/3lpfzmstl6c2w, cid=bafyreibjdvcd7q57xzwp75ozz4g7tnbmiukqogwvma25sppdpxhrujydhy, author=Author(did=did:plc:n3oj442hxy3iagrxcysrafzo, handle=yasenstar.bsky.social, displayName=Yasen - Enterprise Architecture, avatar=https://cdn.bsky.app/img/avatar/plain/did:plc:n3oj442hxy3iagrxcysrafzo/bafkreiega6tleyblarwcfhns3kl25lhwpbtju6h2dlqkdyr7tozbf67224@jpeg), indexedAt=2025-05-18T02:37:30.413Z, record=Record(text=Java程序设计基础 - 学习到第七章 “类的特性”：https://github.com/yasenstar/java/tree/master/Java_Prog_Basic/07_Class-Characteristics, embed=null, createdAt=2025-05-18T02:37:29.638Z), replyCount=0, repostCount=0, likeCount=1, quoteCount=0), Post(uri=at://did:plc:m6ieuo67dwgystj6nhfq45w4/app.bsky.feed.post/3lpfz7pi3zf26, cid=bafyreiflb6pjkmdi7im2axxzjhv5oxc6ihkzrols3mmv2uautg6hkhbezi, author=Author(did=did:plc:m6ieuo67dwgystj6nhfq45w4, handle=wktv.bsky.social, displayName=WKTV, avatar=https://cdn.bsky.app/img/avatar/plain/did:plc:m6ieuo67dwgystj6nhfq45w4/bafkreiesf2igeoi7istsckwipghqhlrp5gwrydwcblg5fage7ps7i4rll4@jpeg), indexedAt=2025-05-18T02:30:10.815Z, record=Record(text=The go-to for java on Rt. 13 will close at the end of the month for remodeling., embed=Embed(images=null), createdAt=2025-05-18T02:30:09.840Z), replyCount=0, repostCount=0, likeCount=0, quoteCount=0), Post(uri=at://did:plc:pdvjdejvjinix4lnt4sgzg7r/app.bsky.feed.post/3lpfz7g76th2s, cid=bafyreiekq7rn5n4pnnpc3eqxotu73peuwnwb277tk5vd6rcgsfof4jvwpa, author=Author(did=did:plc:pdvjdejvjinix4lnt4sgzg7r, handle=jobboardsearch.com, displayName=JobBoardSearch 🔎, avatar=https://cdn.bsky.app/img/avatar/plain/did:plc:pdvjdejvjinix4lnt4sgzg7r/bafkreihyczseyy6xvhcwu767yff3sst266xtjbcr6nmoxopj4wwbcgne24@jpeg), indexedAt=2025-05-18T02:30:00.810Z, record=Record(text=📢 Elastic is #hiring a Elasticsearch - Senior Java Engineer - Distributed Systems!\n",
       "\n",
       "💰 $133K - $252K\n",
       "📍 US\r\n",
       "👵 Senior\n",
       "\n",
       "\n",
       "🔗 http://jbs.ink/siR89DLVw10d\n",
       "\n",
       "#remotejob #remotework #wfh, embed=Embed(images=[Image(thumb=null, fullsize=null, alt=📢 Elastic is hiring a Elasticsearch - Senior Java Engineer - Distributed Systems!)]), createdAt=2025-05-18T02:29:59+00:00), replyCount=0, repostCount=0, likeCount=0, quoteCount=0), Post(uri=at://did:plc:pdvjdejvjinix4lnt4sgzg7r/app.bsky.feed.post/3lpfyzfxheh2s, cid=bafyreih4qzopoeije5gklbunvdrttxqnbwvmkst7j2456unfdhwv4oyx3m, author=Author(did=did:plc:pdvjdejvjinix4lnt4sgzg7r, handle=jobboardsearch.com, displayName=JobBoardSearch 🔎, avatar=https://cdn.bsky.app/img/avatar/plain/did:plc:pdvjdejvjinix4lnt4sgzg7r/bafkreihyczseyy6xvhcwu767yff3sst266xtjbcr6nmoxopj4wwbcgne24@jpeg), indexedAt=2025-05-18T02:26:39.112Z, record=Record(text=📢 Nielsen is #hiring a MTS 3/4 - Backend JAVA!\n",
       "\n",
       "📍 Mumbai, India\r\n",
       "\n",
       "\n",
       "🔗 http://jbs.ink/jMTsQvNpduBI\n",
       "\n",
       "#jobalert #jobsearch #JobSeekers #sportstechjobs #backend #aws #devops #design, embed=Embed(images=[Image(thumb=null, fullsize=null, alt=📢 Nielsen is hiring a MTS 3/4 - Backend JAVA!)]), createdAt=2025-05-18T02:26:37+00:00), replyCount=0, repostCount=0, likeCount=0, quoteCount=0), Post(uri=at://did:plc:o6ggjvnj4ze3mnrpnv5oravg/app.bsky.feed.post/3lpfywhthxu27, cid=bafyreia6yyjgxzzylnfv77pbxhgvx3icmpcvj6b6xtakss3xjropbjeipm, author=Author(did=did:plc:o6ggjvnj4ze3mnrpnv5oravg, handle=longtail.news, displayName=Longtail News, avatar=https://cdn.bsky.app/img/avatar/plain/did:plc:o6ggjvnj4ze3mnrpnv5oravg/bafkreidir7ju3jscr5rlwlg7r5raukdsizzszflwojh3pdm56cnem3k6hu@jpeg), indexedAt=2025-05-18T02:25:00.743Z, record=Record(text=Feed: \"Enterprise Java and Quarkus\"\n",
       "By: Markus Eisele on Saturday, May 17, 2025, embed=Embed(images=null), createdAt=2025-05-18T02:25:00.766607+00:00), replyCount=0, repostCount=0, likeCount=0, quoteCount=0), Post(uri=at://did:plc:pdvjdejvjinix4lnt4sgzg7r/app.bsky.feed.post/3lpfyoncxmu2e, cid=bafyreib376guaeravd3iln5xegx2brnx7zfmsvi7pcn5onft4mgwtqt2aq, author=Author(did=did:plc:pdvjdejvjinix4lnt4sgzg7r, handle=jobboardsearch.com, displayName=JobBoardSearch 🔎, avatar=https://cdn.bsky.app/img/avatar/plain/did:plc:pdvjdejvjinix4lnt4sgzg7r/bafkreihyczseyy6xvhcwu767yff3sst266xtjbcr6nmoxopj4wwbcgne24@jpeg), indexedAt=2025-05-18T02:20:37.715Z, record=Record(text=📢 Weekday Ai is #hiring a Senior Backend Engineer - Java!\n",
       "\n",
       "🌎 India\r\n",
       "👵 Senior\n",
       "\n",
       "\n",
       "🔗 http://jbs.ink/xyCqJ1i2Be9D\n",
       "\n",
       "#jobalert #jobsearch #backend #microservices #aws #dataengineer #kubernetes #azure #docker #devops #sql, embed=Embed(images=[Image(thumb=null, fullsize=null, alt=📢 Weekday Ai is hiring a Senior Backend Engineer - Java!)]), createdAt=2025-05-18T02:20:36+00:00), replyCount=0, repostCount=0, likeCount=0, quoteCount=0), Post(uri=at://did:plc:pdvjdejvjinix4lnt4sgzg7r/app.bsky.feed.post/3lpfylfsys42s, cid=bafyreigoatxbuagunuzcl3lawxqgad2kkweylmqcce5kgmdqiitkisdcwe, author=Author(did=did:plc:pdvjdejvjinix4lnt4sgzg7r, handle=jobboardsearch.com, displayName=JobBoardSearch 🔎, avatar=https://cdn.bsky.app/img/avatar/plain/did:plc:pdvjdejvjinix4lnt4sgzg7r/bafkreihyczseyy6xvhcwu767yff3sst266xtjbcr6nmoxopj4wwbcgne24@jpeg), indexedAt=2025-05-18T02:18:49.215Z, record=Record(text=📢 Deutsche Bank is #hiring a Java Microservices Engineer!\n",
       "\n",
       "📍 Pune, India\r\n",
       "\n",
       "\n",
       "🔗 http://jbs.ink/onNuJZ2pyxaC\n",
       "\n",
       "#remotejob #remotework #wfh, embed=Embed(images=[Image(thumb=null, fullsize=null, alt=📢 Deutsche Bank is hiring a Java Microservices Engineer!)]), createdAt=2025-05-18T02:18:47+00:00), replyCount=0, repostCount=0, likeCount=0, quoteCount=0), Post(uri=at://did:plc:v3ywroekon3m46ziybpazktb/app.bsky.feed.post/3lpfycreel22b, cid=bafyreid6czisiuwp34i2vhaze723avhvjxnvtasrofzegmqko7wbfgxi24, author=Author(did=did:plc:v3ywroekon3m46ziybpazktb, handle=secordrian.bsky.social, displayName=Seco, avatar=https://cdn.bsky.app/img/avatar/plain/did:plc:v3ywroekon3m46ziybpazktb/bafkreiev3j776wctrt7cuzpx6gs7iyxypofahw3cduxpot2ralkyoqyza4@jpeg), indexedAt=2025-05-18T02:14:01.415Z, record=Record(text=I know Java has really bad performance for games, but it’s easy to learn and works well across platforms. I’d switch to another language if I get the chance!, embed=null, createdAt=2025-05-18T02:13:58.805Z), replyCount=0, repostCount=0, likeCount=1, quoteCount=0), Post(uri=at://did:plc:bytklqcwwwywimgzj4oymex7/app.bsky.feed.post/3lpfybdqaws2r, cid=bafyreiblgi4qio6zvxgsj47i7li26udphsqivqa7j6gyzapz46yh5g7bhu, author=Author(did=did:plc:bytklqcwwwywimgzj4oymex7, handle=mikoto2000.bsky.social, displayName=mikoto2000, avatar=https://cdn.bsky.app/img/avatar/plain/did:plc:bytklqcwwwywimgzj4oymex7/bafkreiajlhm6mpxhafn66duarjryralbkgczld6xt5gcppqyrin5tksazy@jpeg), indexedAt=2025-05-18T02:12:32.715Z, record=Record(text=あれ？ Bluesky とマストドンのタイムライン取得プログラム、なんで Go 言語で作ったんだっけ？\n",
       "僕のスキルセット的に、デスクトップアプリなら Rust だし、 Web なら Java じゃないか？ Go は CLI しか作れないぞ？？？, embed=null, createdAt=2025-05-18T02:13:10.960Z), replyCount=1, repostCount=0, likeCount=0, quoteCount=0), Post(uri=at://did:plc:sek23f2vucrxxyaaud2emnxe/app.bsky.feed.post/3lpfy6jmer22j, cid=bafyreihg32nbmmyzljhdka2xephe464e3mg2asgken4dqx43htzlle3ala, author=Author(did=did:plc:sek23f2vucrxxyaaud2emnxe, handle=hossain.dev, displayName=Hossain Khan, avatar=https://cdn.bsky.app/img/avatar/plain/did:plc:sek23f2vucrxxyaaud2emnxe/bafkreic7ksmwcvdsmjvvrhczeg6vvkuqsnc3iwuwsxttiz5ws6e6pvr4fe@jpeg), indexedAt=2025-05-18T02:11:36.614Z, record=Record(text=I suspect a lot of legacy Java apps still use them, most of them might not be maintained.\n",
       "\n",
       "For Kotlin+Compose I think Coil is the de-facto standard!, embed=null, createdAt=2025-05-18T02:11:36.459Z), replyCount=0, repostCount=0, likeCount=2, quoteCount=0)]"
      ]
     },
     "execution_count": 13,
     "metadata": {},
     "output_type": "execute_result"
    }
   ],
   "execution_count": 13
  },
  {
   "metadata": {
    "ExecuteTime": {
     "end_time": "2025-05-18T17:01:55.587085Z",
     "start_time": "2025-05-18T17:01:55.542925Z"
    }
   },
   "cell_type": "code",
   "source": [
    "val trendingTopicsRoute = listOf(\n",
    "    \"What are the most mentioned topics?\",\n",
    "    \"What's trending right now?\",\n",
    "    \"What’s hot in the network\",\n",
    "    \"Top topics?\",\n",
    "    \"What are people talking about?\",\n",
    "    \"What people are discussing?\",\n",
    ")"
   ],
   "outputs": [],
   "execution_count": 14
  },
  {
   "metadata": {
    "ExecuteTime": {
     "end_time": "2025-05-18T17:01:57.663944Z",
     "start_time": "2025-05-18T17:01:57.355923Z"
    }
   },
   "cell_type": "code",
   "source": "@file:DependsOn(\"org.springframework.ai:spring-ai-redis-store:1.0.0-RC1\")",
   "outputs": [],
   "execution_count": 15
  },
  {
   "metadata": {
    "ExecuteTime": {
     "end_time": "2025-05-18T17:01:59.215707Z",
     "start_time": "2025-05-18T17:01:59.084995Z"
    }
   },
   "cell_type": "code",
   "source": [
    "import org.springframework.ai.vectorstore.redis.RedisVectorStore\n",
    "import org.springframework.ai.vectorstore.redis.RedisVectorStore.MetadataField\n",
    "import redis.clients.jedis.search.Schema.FieldType\n",
    "import org.springframework.ai.vectorstore.SearchRequest\n",
    "import org.springframework.web.reactive.function.server.router\n",
    "\n",
    "val redisVectorStore = RedisVectorStore.builder(jedis, embeddingModel)\n",
    "    .indexName(\"routeIdx\")\n",
    "    .contentFieldName(\"text\")\n",
    "    .embeddingFieldName(\"textEmbedding\")\n",
    "    .metadataFields(\n",
    "        MetadataField(\"route\", FieldType.TEXT)\n",
    "    )\n",
    "    .prefix(\"route:\")\n",
    "    .initializeSchema(true)\n",
    "    .vectorAlgorithm(RedisVectorStore.Algorithm.FLAT)\n",
    "    .build()\n",
    "redisVectorStore.afterPropertiesSet()"
   ],
   "outputs": [],
   "execution_count": 16
  },
  {
   "metadata": {
    "ExecuteTime": {
     "end_time": "2025-05-18T17:02:03.034031Z",
     "start_time": "2025-05-18T17:02:02.625081Z"
    }
   },
   "cell_type": "code",
   "source": [
    "import org.springframework.ai.document.Document\n",
    "import java.util.UUID\n",
    "\n",
    "trendingTopicsRoute.forEach { text ->\n",
    "    redisVectorStore.add(\n",
    "        listOf(\n",
    "            Document(\n",
    "                UUID.randomUUID().toString(),\n",
    "                text,\n",
    "                mapOf(\n",
    "                    \"route\" to \"trending_topics\",\n",
    "                    \"text\" to text,\n",
    "                )\n",
    "            )\n",
    "        )\n",
    "    )\n",
    "}"
   ],
   "outputs": [],
   "execution_count": 17
  },
  {
   "metadata": {
    "ExecuteTime": {
     "end_time": "2025-05-18T17:02:05.100919Z",
     "start_time": "2025-05-18T17:02:05.055154Z"
    }
   },
   "cell_type": "code",
   "source": [
    "redisVectorStore.similaritySearch(\n",
    "    SearchRequest.builder()\n",
    "        .topK(1)\n",
    "        .query(\"Hey Dev Bubble. What's trending today? Excited to hear the news!\")\n",
    "        .build()\n",
    ")"
   ],
   "outputs": [
    {
     "data": {
      "text/plain": [
       "[Document{id='3588d11a-b1bc-4767-8cf7-e40927384bc1', text='What's trending right now?', media='null', metadata={distance=0.16146064, vector_score=0.16146064, route=trending_topics}, score=0.8385393619537354}]"
      ]
     },
     "execution_count": 18,
     "metadata": {},
     "output_type": "execute_result"
    }
   ],
   "execution_count": 18
  },
  {
   "metadata": {
    "ExecuteTime": {
     "end_time": "2025-05-18T17:02:07.290108Z",
     "start_time": "2025-05-18T17:02:07.177421Z"
    }
   },
   "cell_type": "code",
   "source": [
    "import redis.clients.jedis.search.FTSearchParams\n",
    "import redis.clients.jedis.search.Query\n",
    "\n",
    "val userQuery = \"Hey DevBubble, what's trending today? Excited to hear the news!\"\n",
    "val userQueryClauses = userQuery.split(Regex(\"\"\"[!?,.:;()\"\\[\\]{}]+\"\"\"))\n",
    "userQueryClauses.filter { it.isNotBlank() }.forEach { clause ->\n",
    "\n",
    "    val result = redisVectorStore.similaritySearch(\n",
    "        SearchRequest.builder()\n",
    "            .topK(1)\n",
    "            .query(clause)\n",
    "            .build()\n",
    "    )\n",
    "\n",
    "    println(\"Evaluated clause: $clause\")\n",
    "    println(\"Route: \" + result?.first()?.metadata?.get(\"route\"))\n",
    "    println(\"Matched text: \" + result?.first()?.text)\n",
    "    println(\"Similarity Score: \" + result?.first()?.score)\n",
    "    println()\n",
    "}"
   ],
   "outputs": [
    {
     "name": "stdout",
     "output_type": "stream",
     "text": [
      "Evaluated clause: Hey DevBubble\n",
      "Route: trending_topics\n",
      "Matched text: What people are talking about?\n",
      "Similarity Score: 0.6013960838317871\n",
      "\n",
      "Evaluated clause:  what's trending today\n",
      "Route: trending_topics\n",
      "Matched text: What's trending right now?\n",
      "Similarity Score: 0.9528361558914185\n",
      "\n",
      "Evaluated clause:  Excited to hear the news\n",
      "Route: trending_topics\n",
      "Matched text: What are people talking about today?\n",
      "Similarity Score: 0.6495983004570007\n",
      "\n"
     ]
    }
   ],
   "execution_count": 19
  },
  {
   "metadata": {
    "ExecuteTime": {
     "end_time": "2025-05-18T18:16:13.735802Z",
     "start_time": "2025-05-18T18:16:13.634431Z"
    }
   },
   "cell_type": "code",
   "source": [
    "import redis.clients.jedis.search.FTSearchParams\n",
    "import redis.clients.jedis.search.Query\n",
    "\n",
    "fun matchRoute(query: String): List<String> {\n",
    "    val userQueryClauses = query.split(Regex(\"\"\"[!?,.:;()\"\\[\\]{}]+\"\"\"))\n",
    "    return userQueryClauses.filter { it.isNotBlank() }.flatMap { clause ->\n",
    "        val result = redisVectorStore.similaritySearch(\n",
    "            SearchRequest.builder()\n",
    "                .topK(1)\n",
    "                .query(clause)\n",
    "                .build()\n",
    "        )\n",
    "\n",
    "        result?.forEach {\n",
    "            println(it?.metadata?.get(\"route\") as String)\n",
    "            println(it?.score)\n",
    "        }\n",
    "\n",
    "        result?.filter { (it?.score ?: 0.0) > 0.80 }?.map {\n",
    "            it?.metadata?.get(\"route\") as String\n",
    "        } ?: emptyList()\n",
    "    }\n",
    "    return emptyList()\n",
    "}"
   ],
   "outputs": [],
   "execution_count": 106
  },
  {
   "metadata": {
    "ExecuteTime": {
     "end_time": "2025-05-18T17:10:18.190178Z",
     "start_time": "2025-05-18T17:10:18.092516Z"
    }
   },
   "cell_type": "code",
   "source": [
    "import org.springframework.ai.chat.messages.SystemMessage\n",
    "import org.springframework.ai.chat.messages.UserMessage\n",
    "import org.springframework.ai.chat.prompt.Prompt\n",
    "import java.time.LocalDateTime\n",
    "\n",
    "fun trendingTopics(): Set<String> {\n",
    "    val currentMinute = LocalDateTime.now().withSecond(0).withNano(0).toString()\n",
    "    return jedis.smembers(\"topics\")\n",
    "        .map { it to jedis.cmsQuery(\"topics-cms:$currentMinute\", it).first() }\n",
    "        .sortedByDescending { it.second }\n",
    "        .take(10)\n",
    "        .map { it.first }\n",
    "        .toSet()\n",
    "}"
   ],
   "outputs": [],
   "execution_count": 21
  },
  {
   "metadata": {
    "ExecuteTime": {
     "end_time": "2025-05-18T17:11:21.170354Z",
     "start_time": "2025-05-18T17:11:20.024168Z"
    }
   },
   "cell_type": "code",
   "source": "trendingTopics()",
   "outputs": [
    {
     "data": {
      "text/plain": [
       "[Economic Policy, Donald Trump, , European Union, Social Movements, Donald Trump Presidency, Financial Markets, Political Engagement, Political Extremism, Populism]"
      ]
     },
     "execution_count": 23,
     "metadata": {},
     "output_type": "execute_result"
    }
   ],
   "execution_count": 23
  },
  {
   "metadata": {
    "ExecuteTime": {
     "end_time": "2025-05-18T18:33:35.312156Z",
     "start_time": "2025-05-18T18:33:35.265128Z"
    }
   },
   "cell_type": "code",
   "source": [
    "fun processUserRequest(query: String): String {\n",
    "    val routes = matchRoute(query)\n",
    "    println(routes)\n",
    "\n",
    "    val enrichedData = routes.map { routes ->\n",
    "        when (routes) {\n",
    "            \"trending_topics\" -> trendingTopics()\n",
    "            \"summarization\" -> summarization(query)\n",
    "            else -> \"\"\n",
    "        }\n",
    "    }\n",
    "\n",
    "    val systemPrompt = \"You are a bot that helps users analyse posts about politics. You may be given a data set to help you answer questions. Answer in a max od 300 chars. I MEAN IT. It's a TWEET. Don't write more than 300 chars. Respond in only ONE paragraph. Be as concise as possible\"\n",
    "\n",
    "    return ollamaChatModel.call(\n",
    "        Prompt(\n",
    "            SystemMessage(systemPrompt),\n",
    "            SystemMessage(\"Enriching data: $enrichedData\"),\n",
    "            UserMessage(\"User query: $query\")\n",
    "        )\n",
    "    ).result.output.text ?: \"\"\n",
    "}"
   ],
   "outputs": [],
   "execution_count": 144
  },
  {
   "metadata": {
    "ExecuteTime": {
     "end_time": "2025-05-18T18:16:39.892879Z",
     "start_time": "2025-05-18T18:16:39.870135Z"
    }
   },
   "cell_type": "code",
   "source": "processUserRequest(\"What are people talking about?\")",
   "outputs": [
    {
     "ename": "redis.clients.jedis.exceptions.JedisDataException",
     "evalue": "Error parsing vector similarity query: query vector blob size (1536) does not match index's expected size (4096).",
     "output_type": "error",
     "traceback": [
      "redis.clients.jedis.exceptions.JedisDataException: Error parsing vector similarity query: query vector blob size (1536) does not match index's expected size (4096).",
      "\tat redis.clients.jedis.Protocol.processError(Protocol.java:110)",
      "\tat redis.clients.jedis.Protocol.process(Protocol.java:158)",
      "\tat redis.clients.jedis.Protocol.read(Protocol.java:221)",
      "\tat redis.clients.jedis.Connection.protocolRead(Connection.java:384)",
      "\tat redis.clients.jedis.Connection.readProtocolWithCheckingBroken(Connection.java:397)",
      "\tat redis.clients.jedis.Connection.getOne(Connection.java:370)",
      "\tat redis.clients.jedis.Connection.executeCommand(Connection.java:175)",
      "\tat redis.clients.jedis.executors.DefaultCommandExecutor.executeCommand(DefaultCommandExecutor.java:24)",
      "\tat redis.clients.jedis.UnifiedJedis.executeCommand(UnifiedJedis.java:311)",
      "\tat redis.clients.jedis.UnifiedJedis.ftSearch(UnifiedJedis.java:3974)",
      "\tat org.springframework.ai.vectorstore.redis.RedisVectorStore.doSimilaritySearch(RedisVectorStore.java:361)",
      "\tat org.springframework.ai.vectorstore.observation.AbstractObservationVectorStore.lambda$similaritySearch$7(AbstractObservationVectorStore.java:126)",
      "\tat io.micrometer.observation.Observation.observe(Observation.java:564)",
      "\tat org.springframework.ai.vectorstore.observation.AbstractObservationVectorStore.similaritySearch(AbstractObservationVectorStore.java:125)",
      "\tat Line_30_jupyter.matchRoute(Line_30.jupyter.kts:7) at Cell In[20], line 7",
      "\tat Line_66_jupyter.processUserRequest(Line_66.jupyter.kts:2) at Cell In[56], line 2",
      "\tat Line_118_jupyter.<init>(Line_118.jupyter.kts:1) at Cell In[108], line 1",
      "\tat java.base/jdk.internal.reflect.DirectConstructorHandleAccessor.newInstance(DirectConstructorHandleAccessor.java:62)",
      "\tat java.base/java.lang.reflect.Constructor.newInstanceWithCaller(Constructor.java:502)",
      "\tat java.base/java.lang.reflect.Constructor.newInstance(Constructor.java:486)",
      "\tat kotlin.script.experimental.jvm.BasicJvmScriptEvaluator.evalWithConfigAndOtherScriptsResults(BasicJvmScriptEvaluator.kt:122)",
      "\tat kotlin.script.experimental.jvm.BasicJvmScriptEvaluator.invoke$suspendImpl(BasicJvmScriptEvaluator.kt:48)",
      "\tat kotlin.script.experimental.jvm.BasicJvmScriptEvaluator.invoke(BasicJvmScriptEvaluator.kt)",
      "\tat kotlin.script.experimental.jvm.BasicJvmReplEvaluator.eval(BasicJvmReplEvaluator.kt:49)",
      "\tat org.jetbrains.kotlinx.jupyter.repl.impl.InternalEvaluatorImpl$eval$resultWithDiagnostics$1.invokeSuspend(InternalEvaluatorImpl.kt:137)",
      "\tat kotlin.coroutines.jvm.internal.BaseContinuationImpl.resumeWith(ContinuationImpl.kt:33)",
      "\tat kotlinx.coroutines.DispatchedTask.run(DispatchedTask.kt:104)",
      "\tat kotlinx.coroutines.EventLoopImplBase.processNextEvent(EventLoop.common.kt:277)",
      "\tat kotlinx.coroutines.BlockingCoroutine.joinBlocking(Builders.kt:95)",
      "\tat kotlinx.coroutines.BuildersKt__BuildersKt.runBlocking(Builders.kt:69)",
      "\tat kotlinx.coroutines.BuildersKt.runBlocking(Unknown Source)",
      "\tat kotlinx.coroutines.BuildersKt__BuildersKt.runBlocking$default(Builders.kt:48)",
      "\tat kotlinx.coroutines.BuildersKt.runBlocking$default(Unknown Source)",
      "\tat org.jetbrains.kotlinx.jupyter.repl.impl.InternalEvaluatorImpl.eval(InternalEvaluatorImpl.kt:137)",
      "\tat org.jetbrains.kotlinx.jupyter.repl.impl.CellExecutorImpl$execute$1$result$1.invoke(CellExecutorImpl.kt:80)",
      "\tat org.jetbrains.kotlinx.jupyter.repl.impl.CellExecutorImpl$execute$1$result$1.invoke(CellExecutorImpl.kt:78)",
      "\tat org.jetbrains.kotlinx.jupyter.repl.impl.ReplForJupyterImpl.withHost(ReplForJupyterImpl.kt:791)",
      "\tat org.jetbrains.kotlinx.jupyter.repl.impl.CellExecutorImpl.execute-L4Nmkdk(CellExecutorImpl.kt:78)",
      "\tat org.jetbrains.kotlinx.jupyter.repl.execution.CellExecutor$DefaultImpls.execute-L4Nmkdk$default(CellExecutor.kt:13)",
      "\tat org.jetbrains.kotlinx.jupyter.repl.impl.ReplForJupyterImpl.evaluateUserCode-wNURfNM(ReplForJupyterImpl.kt:613)",
      "\tat org.jetbrains.kotlinx.jupyter.repl.impl.ReplForJupyterImpl.evalExImpl(ReplForJupyterImpl.kt:471)",
      "\tat org.jetbrains.kotlinx.jupyter.repl.impl.ReplForJupyterImpl.access$evalExImpl(ReplForJupyterImpl.kt:143)",
      "\tat org.jetbrains.kotlinx.jupyter.repl.impl.ReplForJupyterImpl$evalEx$1.invoke(ReplForJupyterImpl.kt:464)",
      "\tat org.jetbrains.kotlinx.jupyter.repl.impl.ReplForJupyterImpl$evalEx$1.invoke(ReplForJupyterImpl.kt:463)",
      "\tat org.jetbrains.kotlinx.jupyter.repl.impl.ReplForJupyterImpl.withEvalContext(ReplForJupyterImpl.kt:444)",
      "\tat org.jetbrains.kotlinx.jupyter.repl.impl.ReplForJupyterImpl.evalEx(ReplForJupyterImpl.kt:463)",
      "\tat org.jetbrains.kotlinx.jupyter.messaging.IdeCompatibleMessageRequestProcessor$processExecuteRequest$1$response$1$1.invoke(IdeCompatibleMessageRequestProcessor.kt:159)",
      "\tat org.jetbrains.kotlinx.jupyter.messaging.IdeCompatibleMessageRequestProcessor$processExecuteRequest$1$response$1$1.invoke(IdeCompatibleMessageRequestProcessor.kt:158)",
      "\tat org.jetbrains.kotlinx.jupyter.streams.BlockingSubstitutionEngine.withDataSubstitution(SubstitutionEngine.kt:70)",
      "\tat org.jetbrains.kotlinx.jupyter.streams.StreamSubstitutionManager.withSubstitutedStreams(StreamSubstitutionManager.kt:118)",
      "\tat org.jetbrains.kotlinx.jupyter.messaging.IdeCompatibleMessageRequestProcessor.withForkedIn(IdeCompatibleMessageRequestProcessor.kt:335)",
      "\tat org.jetbrains.kotlinx.jupyter.messaging.IdeCompatibleMessageRequestProcessor.access$withForkedIn(IdeCompatibleMessageRequestProcessor.kt:54)",
      "\tat org.jetbrains.kotlinx.jupyter.messaging.IdeCompatibleMessageRequestProcessor$evalWithIO$1$1.invoke(IdeCompatibleMessageRequestProcessor.kt:349)",
      "\tat org.jetbrains.kotlinx.jupyter.streams.BlockingSubstitutionEngine.withDataSubstitution(SubstitutionEngine.kt:70)",
      "\tat org.jetbrains.kotlinx.jupyter.streams.StreamSubstitutionManager.withSubstitutedStreams(StreamSubstitutionManager.kt:118)",
      "\tat org.jetbrains.kotlinx.jupyter.messaging.IdeCompatibleMessageRequestProcessor.withForkedErr(IdeCompatibleMessageRequestProcessor.kt:324)",
      "\tat org.jetbrains.kotlinx.jupyter.messaging.IdeCompatibleMessageRequestProcessor.access$withForkedErr(IdeCompatibleMessageRequestProcessor.kt:54)",
      "\tat org.jetbrains.kotlinx.jupyter.messaging.IdeCompatibleMessageRequestProcessor$evalWithIO$1.invoke(IdeCompatibleMessageRequestProcessor.kt:348)",
      "\tat org.jetbrains.kotlinx.jupyter.streams.BlockingSubstitutionEngine.withDataSubstitution(SubstitutionEngine.kt:70)",
      "\tat org.jetbrains.kotlinx.jupyter.streams.StreamSubstitutionManager.withSubstitutedStreams(StreamSubstitutionManager.kt:118)",
      "\tat org.jetbrains.kotlinx.jupyter.messaging.IdeCompatibleMessageRequestProcessor.withForkedOut(IdeCompatibleMessageRequestProcessor.kt:316)",
      "\tat org.jetbrains.kotlinx.jupyter.messaging.IdeCompatibleMessageRequestProcessor.evalWithIO(IdeCompatibleMessageRequestProcessor.kt:347)",
      "\tat org.jetbrains.kotlinx.jupyter.messaging.IdeCompatibleMessageRequestProcessor$processExecuteRequest$1$response$1.invoke(IdeCompatibleMessageRequestProcessor.kt:158)",
      "\tat org.jetbrains.kotlinx.jupyter.messaging.IdeCompatibleMessageRequestProcessor$processExecuteRequest$1$response$1.invoke(IdeCompatibleMessageRequestProcessor.kt:157)",
      "\tat org.jetbrains.kotlinx.jupyter.execution.JupyterExecutorImpl$Task.execute(JupyterExecutorImpl.kt:41)",
      "\tat org.jetbrains.kotlinx.jupyter.execution.JupyterExecutorImpl$executorThread$1.invoke(JupyterExecutorImpl.kt:83)",
      "\tat org.jetbrains.kotlinx.jupyter.execution.JupyterExecutorImpl$executorThread$1.invoke(JupyterExecutorImpl.kt:80)",
      "\tat kotlin.concurrent.ThreadsKt$thread$thread$1.run(Thread.kt:30)",
      "",
      "redis.clients.jedis.exceptions.JedisDataException: Error parsing vector similarity query: query vector blob size (1536) does not match index's expected size (4096).",
      "at Cell In[20], line 7",
      ""
     ]
    }
   ],
   "execution_count": 108
  },
  {
   "metadata": {
    "ExecuteTime": {
     "end_time": "2025-05-18T17:49:28.541539Z",
     "start_time": "2025-05-18T17:49:28.514940Z"
    }
   },
   "cell_type": "code",
   "source": [
    "val summarizationRoute = listOf(\n",
    "    \"What are people saying about {topics}?\",\n",
    "    \"What’s the buzz around {topics}?\",\n",
    "    \"Any chatter about {topics}?\",\n",
    "    \"What are folks talking about regarding {topics}?\",\n",
    "    \"What’s being said about {topics} lately?\",\n",
    "    \"What have people been posting about {topics}?\",\n",
    "    \"What's trending in conversations about {topics}?\",\n",
    "    \"What’s the latest talk on {topics}?\",\n",
    "    \"Any recent posts about {topics}?\",\n",
    "    \"What's the sentiment around {topics}?\",\n",
    "    \"What are people saying about {topic1} and {topic2}?\",\n",
    "    \"What are folks talking about when it comes to {topic1}, {topic2}, or both?\",\n",
    "    \"What’s being said about {topic1}, {topic2}, and others?\",\n",
    "    \"Is there any discussion around {topic1} and {topic2}?\",\n",
    "    \"How are people reacting to both {topic1} and {topic2}?\",\n",
    "    \"What’s the conversation like around {topic1}, {topic2}, or related topics?\",\n",
    "    \"Are {topic1} and {topic2} being discussed together?\",\n",
    "    \"Any posts comparing {topic1} and {topic2}?\",\n",
    "    \"What's trending when it comes to {topic1} and {topic2}?\",\n",
    "    \"What are people saying about the relationship between {topic1} and {topic2}?\"\n",
    ")"
   ],
   "outputs": [],
   "execution_count": 87
  },
  {
   "metadata": {
    "ExecuteTime": {
     "end_time": "2025-05-18T17:49:29.942684Z",
     "start_time": "2025-05-18T17:49:29.756995Z"
    }
   },
   "cell_type": "code",
   "source": [
    "import org.springframework.ai.document.Document\n",
    "import java.util.UUID\n",
    "\n",
    "summarizationRoute.forEach { text ->\n",
    "    redisVectorStore.add(\n",
    "        listOf(\n",
    "            Document(\n",
    "                UUID.randomUUID().toString(),\n",
    "                text,\n",
    "                mapOf(\n",
    "                    \"route\" to \"summarization\",\n",
    "                    \"text\" to text,\n",
    "                )\n",
    "            )\n",
    "        )\n",
    "    )\n",
    "}"
   ],
   "outputs": [],
   "execution_count": 88
  },
  {
   "metadata": {
    "ExecuteTime": {
     "end_time": "2025-05-18T18:30:46.336128Z",
     "start_time": "2025-05-18T18:30:46.285568Z"
    }
   },
   "cell_type": "code",
   "source": [
    "import org.springframework.ai.chat.messages.SystemMessage\n",
    "import org.springframework.ai.chat.messages.UserMessage\n",
    "import org.springframework.ai.chat.prompt.Prompt\n",
    "\n",
    "fun summarization(userQuery: String): List<String> {\n",
    "    val queryTopics = extractTopics(userQuery)\n",
    "    println(queryTopics)\n",
    "\n",
    "    return queryTopics.flatMap { topic ->\n",
    "        val query = Query(\"@topics:{'$topic'}\")\n",
    "            .returnFields(\"text\")\n",
    "            .setSortBy(\"time_us\", false)\n",
    "            .dialect(2)\n",
    "            .limit(0, 10)\n",
    "\n",
    "        val result = jedis.ftSearch(\n",
    "            \"postIdx\",\n",
    "            query\n",
    "        )\n",
    "\n",
    "        result.documents.map {\n",
    "            document -> document.get(\"text\").toString()\n",
    "        }\n",
    "    }\n",
    "}"
   ],
   "outputs": [],
   "execution_count": 136
  },
  {
   "metadata": {
    "ExecuteTime": {
     "end_time": "2025-05-18T18:30:48.014971Z",
     "start_time": "2025-05-18T18:30:47.335615Z"
    }
   },
   "cell_type": "code",
   "source": "summarization(\"What's being said about Trump and Angela Merkel?\")",
   "outputs": [
    {
     "name": "stdout",
     "output_type": "stream",
     "text": [
      "[Donald Trump, Angela Merkel, Foreign Policy, International Relations]\n"
     ]
    },
    {
     "data": {
      "text/plain": [
       "[Granted some of these problems are insoluble: On some issues, Kraft is so close to Wu there's barely any daylight between them, so if you like Wu, why vote for Kraft? This is something a good campaign manager should have asked him before he even ran.,  Trump’s Sitcom Administration https:// medium.com/illumination/trumps -sitcom-administration-e8956035bb76?utm_source=flipboard&utm_medium=activitypub Posted into ILLUMINATION on Medium @ illumination-on-medium-Digitalmehmet \n",
       "\n",
       "| Details | Interest | Feed |, I'm sure DJT will be sending paper towels. Oh and maybe ICE can come to the disaster area so Noem Dome can strut around in camos while her flying monkeys in masks arrest people ., For putting this egregious MONSTER back in office by choosing him to be the RePub candidate, not once but TWICE:\n",
       "DESTROY THE GOP!!!, How does electing Trump help the Palestinians?, And while Comey took a picture of a pile of rocks that they claim was a call for assassination, nothing was said, and the Secret Service wasn’t sent to investigate the calls for the assassination of Biden that the Trump people were actually selling., The majority of Americans aren't fear-mongerers, so STFU. The Corrupt Court knows the truth...they just choose to ignore it. Tramp doesn't have immunity, due process is the law, immigrants aren't the criminals Tramp makes them out to be, and the real criminals are in this 47th abomination., 'You moron!' MAGA celebrity sickens with jokes as Mexican ship hits Brooklyn Bridge\n",
       "\n",
       "www.rawstory.com/mexican-ship..., Uhmn,…STOP. MISSING. VOTES!!\n",
       "Tha’s all. \n",
       "\n",
       "MAGA!\n",
       "Make Americans Grateful Again\n",
       "👊🇺🇸🤣, Too bad Tyrant Trump has dismantled that!, yeah, bibi is a criminal trying to save himself. Doesn't mean israel deserves to go down with him. Y'all are fuckin weird., Pleasantly surprised that Poodle Head is sticking up for Canada.\n",
       "\n",
       "#cdnpoli, Amazing the US Administration can't see this \"death & destruction\" it continually parrots is irrelevant. \n",
       "\n",
       "It's 80% happening to one-side which if it cared about it would thus stop the war. That RU doesn't & hasn't after 3yrs shows fundamentally it's an irrelevant point.\n",
       "\n",
       "But on and on goes US.., indo atras de investimento e colocando o brasil no mundo, diferente de um certo ex presidente ai., Don't forget that Biden supported Netanyahu as well., No Paywall \n",
       "Tulsi Gabbard fired two senior intelligence officials who contradicted Donald Trump’s claims about Tren de Aragua (TdA).\n",
       "\n",
       "By Benedict Smith The Telegraph \n",
       "Thu, May 15, 2025 at 12:44 PM MDT\n",
       "www.yahoo.com/news/tulsi-g..., American dominance over who exactly?, Ok Donnie. Dump weapons, huge amounts of weapons to Ukraine now 🫵, Trump lives in a world where Nuclear War is a Comic Book Movie\n",
       "\n",
       "WTF are we DOING PEOPLE?, You’re courageous, showing people in foreign countries just how corrupt the orange Nazi dictator is!👍🏻, End the Russian occupation in Ukraine now., Amazing the US Administration can't see this \"death & destruction\" it continually parrots is irrelevant. \n",
       "\n",
       "It's 80% happening to one-side which if it cared about it would thus stop the war. That RU doesn't & hasn't after 3yrs shows fundamentally it's an irrelevant point.\n",
       "\n",
       "But on and on goes US.., To Zelenskyy he wil say \"I'm the greatest.\" To Putin he will say \"You are the greatest.\", Unrealistic demands. Yes Putin is playing games., Jeszcze w tym roku Stany Zjednoczone rozpoczną rozmowy z europejskimi sojusznikami w sprawie redukcji amerykańskich wojsk w Europie. - Nie będziemy już mieć cierpliwości do ociągania się w tej kwestii - zapowiedział ambasador Stanów Zjednoczonych przy NATO Matthew Whitaker., American dominance over who exactly?, Witkoff thinks that Trump, by the force of his personality, will get Putin to agree to a peace deal with Ukraine.\n",
       "\n",
       "But Putin has rejected every overture from Trump so far. And Trump promised to end the war in 24 hours with 1 phone call before he was even inaugurated. That was 4 months ago., The U.S. President, Donald Trump stayed at The Ritz-Carlton Abu Dhabi, Grand Canal, which is a lavish hotel and has strong American links., Just watched footage of a very dignified Zelenskyy and his missus meeting the Pope then a couple of posts later this lot ranting and raving about how they plan to destroy Europe but it's us who are the evil satanists of course., #İstanbul müzakereleri: Rusya mı yoksa #Avrupa mı maksimalist? – 1\n",
       "\n",
       "Büyük tantanaya neden olan İstanbul’daki #Rusya - #Ukrayna görüşmeleri iki saatten kısa sürdü. Beklendiği gibi mühim bir sonuç çıkmadı. İyimser bir ifadeyle “başlangıç oldu.” \n",
       "\n",
       "Devamı için ⤵️]"
      ]
     },
     "execution_count": 137,
     "metadata": {},
     "output_type": "execute_result"
    }
   ],
   "execution_count": 137
  },
  {
   "metadata": {
    "ExecuteTime": {
     "end_time": "2025-05-18T17:43:13.975118Z",
     "start_time": "2025-05-18T17:43:12.295240Z"
    }
   },
   "cell_type": "code",
   "source": "processUserRequest(\"What are people saying about Trump or Angela Merkel?\")",
   "outputs": [
    {
     "name": "stdout",
     "output_type": "stream",
     "text": [
      "[]\n",
      "[]\n"
     ]
    },
    {
     "data": {
      "text/plain": [
       " To analyze what people are saying about Trump and Angela Merkel, I would first collect relevant posts that mention either of these figures. Then, I would categorize the content based on sentiment analysis (positive, negative, neutral) to understand public opinion. Additionally, I might look at topics discussed in relation to both leaders to gain broader insights into popular narratives."
      ]
     },
     "execution_count": 67,
     "metadata": {},
     "output_type": "execute_result"
    }
   ],
   "execution_count": 67
  },
  {
   "metadata": {
    "ExecuteTime": {
     "end_time": "2025-05-18T18:15:54.129924Z",
     "start_time": "2025-05-18T18:15:54.055898Z"
    }
   },
   "cell_type": "code",
   "source": "matchRoute(\"What are folks talking about tpics and Angela Merkel?\")",
   "outputs": [
    {
     "name": "stdout",
     "output_type": "stream",
     "text": [
      "trending_topics\n",
      "0.8401669263839722\n"
     ]
    },
    {
     "data": {
      "text/plain": [
       "[]"
      ]
     },
     "execution_count": 105,
     "metadata": {},
     "output_type": "execute_result"
    }
   ],
   "execution_count": 105
  },
  {
   "metadata": {
    "ExecuteTime": {
     "end_time": "2025-05-18T17:58:54.470077Z",
     "start_time": "2025-05-18T17:58:53.224695Z"
    }
   },
   "cell_type": "code",
   "source": [
    "val embeddingModel = TransformersEmbeddingModel()\n",
    "embeddingModel.setModelResource(\"file:model/bge-large-en-v1.5/model.onnx\")\n",
    "embeddingModel.setTokenizerResource(\"file:model/bge-large-en-v1.5/tokenizer.json\")\n",
    "embeddingModel.afterPropertiesSet()"
   ],
   "outputs": [],
   "execution_count": 98
  },
  {
   "metadata": {
    "ExecuteTime": {
     "end_time": "2025-05-18T18:02:11.321497Z",
     "start_time": "2025-05-18T18:02:10.103583Z"
    }
   },
   "cell_type": "code",
   "source": [
    "fun createEmbedding(input: String): ByteArray {\n",
    "    val embedding = embeddingModel.embed(input)\n",
    "    val embeddingBytes = ByteArray(Float.BYTES * embedding.size)\n",
    "    ByteBuffer.wrap(embeddingBytes).order(ByteOrder.LITTLE_ENDIAN).asFloatBuffer().put(embedding)\n",
    "    return embeddingBytes\n",
    "}\n",
    "\n",
    "val redisVectorStore = RedisVectorStore.builder(jedis, embeddingModel)\n",
    "    .indexName(\"routeIdx\")\n",
    "    .contentFieldName(\"text\")\n",
    "    .embeddingFieldName(\"textEmbedding\")\n",
    "    .metadataFields(\n",
    "        MetadataField(\"route\", FieldType.TEXT)\n",
    "    )\n",
    "    .prefix(\"route:\")\n",
    "    .initializeSchema(true)\n",
    "    .vectorAlgorithm(RedisVectorStore.Algorithm.FLAT)\n",
    "    .build()\n",
    "redisVectorStore.afterPropertiesSet()\n",
    "\n",
    "summarizationRoute.forEach { text ->\n",
    "    redisVectorStore.add(\n",
    "        listOf(\n",
    "            org.springframework.ai.document.Document(\n",
    "                UUID.randomUUID().toString(),\n",
    "                text,\n",
    "                mapOf(\n",
    "                    \"route\" to \"summarization\",\n",
    "                    \"text\" to text,\n",
    "                )\n",
    "            )\n",
    "        )\n",
    "    )\n",
    "}\n",
    "\n",
    "trendingTopicsRoute.forEach { text ->\n",
    "    redisVectorStore.add(\n",
    "        listOf(\n",
    "            org.springframework.ai.document.Document(\n",
    "                UUID.randomUUID().toString(),\n",
    "                text,\n",
    "                mapOf(\n",
    "                    \"route\" to \"trending_topics\",\n",
    "                    \"text\" to text,\n",
    "                )\n",
    "            )\n",
    "        )\n",
    "    )\n",
    "}"
   ],
   "outputs": [],
   "execution_count": 100
  },
  {
   "metadata": {
    "ExecuteTime": {
     "end_time": "2025-05-18T18:20:19.370798Z",
     "start_time": "2025-05-18T18:20:19.263200Z"
    }
   },
   "cell_type": "code",
   "source": "matchRoute(\"What are folks saying regarding Trump and Angela Merkel?\")",
   "outputs": [
    {
     "name": "stdout",
     "output_type": "stream",
     "text": [
      "trending_topics\n",
      "0.8226513266563416\n"
     ]
    },
    {
     "data": {
      "text/plain": [
       "[trending_topics]"
      ]
     },
     "execution_count": 115,
     "metadata": {},
     "output_type": "execute_result"
    }
   ],
   "execution_count": 115
  },
  {
   "metadata": {
    "ExecuteTime": {
     "end_time": "2025-05-18T18:36:26.019919Z",
     "start_time": "2025-05-18T18:36:18.189061Z"
    }
   },
   "cell_type": "code",
   "source": "processUserRequest(\"What have people been posting about Trump or Angela Merkel?\")",
   "outputs": [
    {
     "name": "stdout",
     "output_type": "stream",
     "text": [
      "summarization\n",
      "0.8771777749061584\n",
      "[summarization]\n",
      "[Donald Trump, Angela Merkel, Foreign Policy, Political Figures]\n"
     ]
    },
    {
     "data": {
      "text/plain": [
       " People have been expressing concerns about Trump's support for Israel based on personal gains and criticizing his administration without addressing Gaza. Some tweets highlight Biden's promise towards Israel being misguided, while others show disdain for the way Trump handles international relations. There are also posts discussing the role of intelligence officials in contradicting Trump's claims and general discontent with political figures like Scott Jennings."
      ]
     },
     "execution_count": 148,
     "metadata": {},
     "output_type": "execute_result"
    }
   ],
   "execution_count": 148
  },
  {
   "metadata": {
    "ExecuteTime": {
     "end_time": "2025-05-18T18:36:35.593262Z",
     "start_time": "2025-05-18T18:36:28.224522Z"
    }
   },
   "cell_type": "code",
   "source": "processUserRequest(\"What are people talking about?\")",
   "outputs": [
    {
     "name": "stdout",
     "output_type": "stream",
     "text": [
      "trending_topics\n",
      "0.9923163056373596\n",
      "[trending_topics]\n"
     ]
    },
    {
     "data": {
      "text/plain": [
       " People are discussing a variety of topics related to politics. They're concerned with economic policy and the Democratic Party. There seems to be interest in how policies impact society and American life, including discussions around advocacy for social movements and disaster relief. European Union matters also come up occasionally, suggesting an awareness that global political dynamics play a role in domestic issues. Some are even discussing corporate politics and its implications on broader economic landscapes. The overall sentiment leans towards engagement with the political process, be it through commentary or discussion of policy decisions."
      ]
     },
     "execution_count": 149,
     "metadata": {},
     "output_type": "execute_result"
    }
   ],
   "execution_count": 149
  }
 ],
 "metadata": {
  "kernelspec": {
   "display_name": "Kotlin",
   "language": "kotlin",
   "name": "kotlin"
  },
  "language_info": {
   "name": "kotlin",
   "version": "1.9.23",
   "mimetype": "text/x-kotlin",
   "file_extension": ".kt",
   "pygments_lexer": "kotlin",
   "codemirror_mode": "text/x-kotlin",
   "nbconvert_exporter": ""
  }
 },
 "nbformat": 4,
 "nbformat_minor": 0
}
