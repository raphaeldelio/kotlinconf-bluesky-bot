{
 "cells": [
  {
   "metadata": {},
   "cell_type": "markdown",
   "source": "# Enriching Filtered Events"
  },
  {
   "metadata": {},
   "cell_type": "markdown",
   "source": [
    "In this notebook, we'll enrich the filtered events from the previous notebook with additional information. We'll use a combination of techniques to enrich the events:\n",
    "\n",
    "1. Topic modeling using a Large Language Model (LLM) to extract topics from the posts\n",
    "2. Creating embeddings for semantic search using a transformer model\n",
    "3. Storing the enriched events in Redis for querying\n",
    "\n",
    "\n",
    "\n",
    "Embeddings are vector representations of text that capture semantic meaning. They allow us to perform semantic search, which is a search based on meaning rather than exact keyword matching. In this notebook, we'll create embeddings for posts and store them in Redis for later querying.\n"
   ]
  },
  {
   "metadata": {
    "ExecuteTime": {
     "end_time": "2025-05-19T12:36:18.888381Z",
     "start_time": "2025-05-19T12:36:18.792550Z"
    }
   },
   "cell_type": "code",
   "source": [
    "import dev.raphaeldelio.*\n",
    "%use coroutines"
   ],
   "outputs": [],
   "execution_count": 69
  },
  {
   "metadata": {},
   "cell_type": "markdown",
   "source": [
    "## Topic Modeling with Large Language Models\n",
    "Topic modeling is a technique used to discover abstract topics in a collection of documents. In this notebook, we'll use a Large Language Model to extract topics from posts. This will allow us to categorize posts and make them more searchable."
   ]
  },
  {
   "metadata": {},
   "cell_type": "markdown",
   "source": [
    "### Setting Up the Ollama API Client\n",
    "We'll use the Spring AI Ollama client to interact with the Ollama API.\n",
    "\n",
    "Ollama is a tool that allows us to run large language models locally."
   ]
  },
  {
   "metadata": {
    "ExecuteTime": {
     "end_time": "2025-05-19T12:36:21.109210Z",
     "start_time": "2025-05-19T12:36:20.889999Z"
    }
   },
   "cell_type": "code",
   "source": "@file:DependsOn(\"org.springframework.ai:spring-ai-ollama:1.0.0-RC1\")",
   "outputs": [],
   "execution_count": 70
  },
  {
   "metadata": {},
   "cell_type": "markdown",
   "source": "The prompt we'll use for the LLM is designed to extract software-related topics from posts. The prompt includes examples of how to format the output and what types of topics to include."
  },
  {
   "metadata": {
    "ExecuteTime": {
     "end_time": "2025-05-19T12:36:23.148729Z",
     "start_time": "2025-05-19T12:36:23.125345Z"
    }
   },
   "cell_type": "code",
   "source": [
    "import java.io.File\n",
    "\n",
    "val topicModelingSystemPrompt = File(\"resources/topic-modeling-prompt.txt\").readText()"
   ],
   "outputs": [],
   "execution_count": 71
  },
  {
   "metadata": {},
   "cell_type": "markdown",
   "source": "Create the Ollama Chat Model"
  },
  {
   "metadata": {
    "ExecuteTime": {
     "end_time": "2025-05-19T12:36:27.347547Z",
     "start_time": "2025-05-19T12:36:27.313005Z"
    }
   },
   "cell_type": "code",
   "source": [
    "import org.springframework.ai.ollama.OllamaChatModel\n",
    "import org.springframework.ai.ollama.api.OllamaApi\n",
    "import org.springframework.ai.ollama.api.OllamaApi.ChatRequest\n",
    "import org.springframework.ai.ollama.api.OllamaApi.Message\n",
    "import org.springframework.ai.ollama.api.OllamaApi.Message.Role\n",
    "import org.springframework.ai.ollama.api.OllamaOptions\n",
    "\n",
    "val ollamaApi = OllamaApi.builder()\n",
    "    .baseUrl(\"http://localhost:11434\")\n",
    "    .build()\n",
    "\n",
    "val ollamaOptions = OllamaOptions.builder().model(\"deepseek-coder-v2\").build()\n",
    "\n",
    "val ollamaChatModel = OllamaChatModel.builder()\n",
    "    .ollamaApi(ollamaApi)\n",
    "    .defaultOptions(ollamaOptions)\n",
    "    .build()"
   ],
   "outputs": [],
   "execution_count": 72
  },
  {
   "metadata": {},
   "cell_type": "markdown",
   "source": [
    "### Creating a Topic Modeling Function\n",
    "This function takes a post as input and uses the Ollama API to extract topics from the post. The function returns a string of comma-separated topics."
   ]
  },
  {
   "metadata": {
    "ExecuteTime": {
     "end_time": "2025-05-19T12:36:29.472347Z",
     "start_time": "2025-05-19T12:36:29.441277Z"
    }
   },
   "cell_type": "code",
   "source": [
    "import org.springframework.ai.chat.messages.SystemMessage\n",
    "import org.springframework.ai.chat.messages.UserMessage\n",
    "import org.springframework.ai.chat.prompt.Prompt\n",
    "\n",
    "fun topicModeling(post: String, existingTopics: String): String {\n",
    "    // Build a chat message\n",
    "    val messages = listOf(\n",
    "        SystemMessage(topicModelingSystemPrompt),\n",
    "        UserMessage(\"Existing topics: $existingTopics\"),\n",
    "        UserMessage(\"Post: $post\")\n",
    "    )\n",
    "\n",
    "    val response = ollamaChatModel.call(Prompt(messages))\n",
    "    return response.result.output.text ?: \"\"\n",
    "}"
   ],
   "outputs": [],
   "execution_count": 73
  },
  {
   "metadata": {
    "ExecuteTime": {
     "end_time": "2025-05-19T12:36:43.894054Z",
     "start_time": "2025-05-19T12:36:43.062632Z"
    }
   },
   "cell_type": "code",
   "source": "topicModeling(\"In 2021, Angela Merkel stepped down after 16 years as Germany’s Chancellor. In the same year, Joe Biden became the 46th U.S. President. Quiet transitions of power still matter.\", \"\")",
   "outputs": [
    {
     "data": {
      "text/plain": [
       " \"Angela Merkel, Joe Biden, German Politics, US Presidency\""
      ]
     },
     "execution_count": 76,
     "metadata": {},
     "output_type": "execute_result"
    }
   ],
   "execution_count": 76
  },
  {
   "metadata": {
    "ExecuteTime": {
     "end_time": "2025-05-19T12:36:41.532998Z",
     "start_time": "2025-05-19T12:36:41.138680Z"
    }
   },
   "cell_type": "code",
   "source": "topicModeling(\"Brazilian samba is a great music genre for dancing\", \"\")",
   "outputs": [
    {
     "data": {
      "text/plain": [
       " \"\""
      ]
     },
     "execution_count": 75,
     "metadata": {},
     "output_type": "execute_result"
    }
   ],
   "execution_count": 75
  },
  {
   "metadata": {},
   "cell_type": "markdown",
   "source": "### Counting how many times a topic appears"
  },
  {
   "metadata": {},
   "cell_type": "markdown",
   "source": [
    "Count-min sketch is a probabilistic data structure used for estimating the frequency of events in a stream of data.\n",
    "\n",
    "It is particularly useful for counting the number of occurrences of items in a large dataset without storing all the items explicitly."
   ]
  },
  {
   "metadata": {
    "ExecuteTime": {
     "end_time": "2025-05-19T12:36:47.287646Z",
     "start_time": "2025-05-19T12:36:47.243801Z"
    }
   },
   "cell_type": "code",
   "source": [
    "import redis.clients.jedis.exceptions.JedisDataException\n",
    "import java.time.LocalDateTime\n",
    "\n",
    "fun createCountMinSketch(): String {\n",
    "    val windowBucket = LocalDateTime.now().withSecond(0).withNano(0)\n",
    "    try {\n",
    "        jedisPooled.cmsInitByDim(\"topics-cms:$windowBucket\", 3000, 10)\n",
    "    } catch (_: JedisDataException) {\n",
    "        println(\"Count-min sketch already exists\")\n",
    "    }\n",
    "\n",
    "    return \"topics-cms:$windowBucket\"\n",
    "}"
   ],
   "outputs": [],
   "execution_count": 77
  },
  {
   "metadata": {},
   "cell_type": "markdown",
   "source": [
    "### Creating a Topic Extraction Handler\n",
    "This function creates a handler that extracts topics from an event's text and stores them in Redis. The topics are stored as a pipe-separated string in the \"topics\" field of the event's hash."
   ]
  },
  {
   "metadata": {
    "ExecuteTime": {
     "end_time": "2025-05-19T12:36:49.388145Z",
     "start_time": "2025-05-19T12:36:49.284855Z"
    }
   },
   "cell_type": "code",
   "source": [
    "val extractTopics: (Event) -> Pair<Boolean, String> = { event ->\n",
    "    val existingTopics = jedisPooled.smembers(\"topics\")\n",
    "    val topics = topicModeling(event.text, existingTopics.joinToString(\", \"))\n",
    "        .replace(\"\\\"\", \"\")\n",
    "        .replace(\"“\", \"\")\n",
    "        .replace(\"”\", \"\")\n",
    "        .split(\",\")\n",
    "        .map { it.trim() }\n",
    "\n",
    "    val cmsKey = createCountMinSketch()\n",
    "    jedisPooled.cmsIncrBy(cmsKey, topics.filter { it.isNotBlank() }.associateWith { 1 })\n",
    "    jedisPooled.hset(\"post:\" + event.uri, mapOf(\"topics\" to topics.joinToString(\"|\")))\n",
    "    jedisPooled.sadd(\"topics\", *topics.toTypedArray())\n",
    "    Pair(true, \"OK\")\n",
    "}"
   ],
   "outputs": [],
   "execution_count": 78
  },
  {
   "metadata": {
    "ExecuteTime": {
     "end_time": "2025-05-19T12:36:51.465873Z",
     "start_time": "2025-05-19T12:36:51.444297Z"
    }
   },
   "cell_type": "code",
   "source": "createConsumerGroup(\"filtered-events\", \"topic-extraction-example\")",
   "outputs": [],
   "execution_count": 79
  },
  {
   "metadata": {
    "ExecuteTime": {
     "end_time": "2025-05-19T12:36:52.955644Z",
     "start_time": "2025-05-19T12:36:52.931990Z"
    }
   },
   "cell_type": "code",
   "source": [
    "val bloomFilterName = \"topic-extraction-bf\"\n",
    "createBloomFilter(bloomFilterName)"
   ],
   "outputs": [],
   "execution_count": 80
  },
  {
   "metadata": {
    "ExecuteTime": {
     "end_time": "2025-05-19T12:37:02.937212Z",
     "start_time": "2025-05-19T12:36:56.669115Z"
    }
   },
   "cell_type": "code",
   "source": [
    "runBlocking {\n",
    "    consumeStream(\n",
    "        streamName = \"filtered-events\",\n",
    "        consumerGroup = \"topic-extraction-example\",\n",
    "        consumer = \"topic-extraction-1\",\n",
    "        handlers = listOf(deduplicate(bloomFilterName), printUri, extractTopics),\n",
    "        ackFunction = ackAndBfFn(bloomFilterName),\n",
    "        count = 100,\n",
    "        limit = 100\n",
    "    )\n",
    "}"
   ],
   "outputs": [
    {
     "name": "stdout",
     "output_type": "stream",
     "text": [
      "Got event from at://did:plc:grtvknfaj6jx52dgah5itytk/app.bsky.feed.post/3lpjlfaord22m\n",
      "Got event from at://did:plc:loayypd7afaurmdbouegbplm/app.bsky.feed.post/3lpjlfcplk227\n",
      "Count-min sketch already exists\n",
      "Got event from at://did:plc:yoesuq4m7ebrhaelvp6ohcay/app.bsky.feed.post/3lpjlfdlvs22a\n",
      "Count-min sketch already exists\n",
      "Got event from at://did:plc:g3jnrobuc6ihp2go7pbb2ric/app.bsky.feed.post/3lpjlf7lncc23\n",
      "Count-min sketch already exists\n",
      "Got event from at://did:plc:xygjdg76jr7lzsesbhiarrt2/app.bsky.feed.post/3lpjlfdcvpc2m\n",
      "Count-min sketch already exists\n",
      "Got event from at://did:plc:onqixu24n5qjinfxrejrwq26/app.bsky.feed.post/3lpjlf6egg22k\n",
      "Count-min sketch already exists\n",
      "Got event from at://did:plc:oposrz2ixm6xnmgjsownkafx/app.bsky.feed.post/3lpjlfbzv7c2z\n",
      "Count-min sketch already exists\n",
      "Got event from at://did:plc:eavefzxezztrvztaw4v64elp/app.bsky.feed.post/3lpjlfdv3qc2e\n",
      "Got event from at://did:plc:7zzswd5g2zbynzbowl3edpww/app.bsky.feed.post/3lpjlfdfxec2o\n",
      "Count-min sketch already exists\n",
      "Got event from at://did:plc:fou27oy5vzz24lgzdlsekizi/app.bsky.feed.post/3lpjlfe6ijc2k\n",
      "Count-min sketch already exists\n",
      "Got event from at://did:plc:q2ytctqppyxwazziebhlylgv/app.bsky.feed.post/3lpjlfdtqrc2a\n",
      "Count-min sketch already exists\n",
      "Got event from at://did:plc:c5xlx2bada6ra7zighou62zh/app.bsky.feed.post/3lpjlfbrtfc2t\n",
      "Count-min sketch already exists\n",
      "Got event from at://did:plc:gteukb6debh2nl5tmwvvu4sh/app.bsky.feed.post/3lpjlfeqctc2f\n",
      "Count-min sketch already exists\n",
      "topic-extraction-1: No new messages for 2 seconds. Stopping.\n"
     ]
    }
   ],
   "execution_count": 81
  },
  {
   "metadata": {},
   "cell_type": "markdown",
   "source": [
    "## Creating Embeddings for Semantic Search\n",
    "In this section, we'll create embeddings for posts. Embeddings are vector representations of text that capture semantic meaning. They allow us to perform semantic search, which is a search based on meaning rather than exact keyword matching.\n",
    "\n",
    "For example, if I search for:\n",
    "\n",
    "\"Redis is a cool db for Python devs\"\n",
    "\n",
    "I can still match:\n",
    "\n",
    "\"Redis is a great database for Python developers\""
   ]
  },
  {
   "metadata": {},
   "cell_type": "markdown",
   "source": [
    "### Setting Up the Embedding Model\n",
    "We'll use the Spring AI Transformers library to create embeddings for posts. This library provides a simple API for creating embeddings using transformer models."
   ]
  },
  {
   "metadata": {
    "ExecuteTime": {
     "end_time": "2025-05-19T12:37:14.176670Z",
     "start_time": "2025-05-19T12:37:13.809368Z"
    }
   },
   "cell_type": "code",
   "source": [
    "@file:DependsOn(\"org.springframework.ai:spring-ai-transformers:1.0.0-RC1\")\n",
    "@file:DependsOn(\"ai.djl.huggingface:tokenizers:0.33.0\")"
   ],
   "outputs": [],
   "execution_count": 82
  },
  {
   "metadata": {
    "ExecuteTime": {
     "end_time": "2025-05-19T12:37:15.006681Z",
     "start_time": "2025-05-19T12:37:14.829435Z"
    }
   },
   "cell_type": "code",
   "source": [
    "import org.springframework.ai.transformers.TransformersEmbeddingModel\n",
    "\n",
    "val embeddingModel = TransformersEmbeddingModel() // uses all-MiniLM-L6-v2 by default\n",
    "embeddingModel.afterPropertiesSet()"
   ],
   "outputs": [],
   "execution_count": 83
  },
  {
   "metadata": {},
   "cell_type": "markdown",
   "source": [
    "### Creating an Embedding Handler\n",
    "This function creates a handler that generates embeddings for an event's text and stores them in Redis. The embeddings are stored as binary data in the \"textEmbedding\" field of the event's hash."
   ]
  },
  {
   "metadata": {
    "ExecuteTime": {
     "end_time": "2025-05-19T12:37:16.526803Z",
     "start_time": "2025-05-19T12:37:16.495760Z"
    }
   },
   "cell_type": "code",
   "source": [
    "import java.lang.Float\n",
    "import java.nio.ByteBuffer\n",
    "import java.nio.ByteOrder\n",
    "\n",
    "fun createEmbedding(input: String): ByteArray {\n",
    "    val embedding = embeddingModel.embed(input)\n",
    "    val embeddingBytes = ByteArray(Float.BYTES * embedding.size)\n",
    "    ByteBuffer.wrap(embeddingBytes).order(ByteOrder.LITTLE_ENDIAN).asFloatBuffer().put(embedding)\n",
    "    return embeddingBytes\n",
    "}"
   ],
   "outputs": [],
   "execution_count": 84
  },
  {
   "metadata": {
    "ExecuteTime": {
     "end_time": "2025-05-19T12:37:18.149549Z",
     "start_time": "2025-05-19T12:37:18.072814Z"
    }
   },
   "cell_type": "code",
   "source": [
    "val createEmbedding: (Event) -> Pair<Boolean, String> = { event ->\n",
    "    val embeddingBytes = createEmbedding(event.text)\n",
    "    jedisPooled.hset((\"post:\" + event.uri).encodeToByteArray(), mapOf(\"textEmbedding\".encodeToByteArray() to embeddingBytes))\n",
    "    Pair(true, \"OK\")\n",
    "}"
   ],
   "outputs": [],
   "execution_count": 85
  },
  {
   "metadata": {
    "ExecuteTime": {
     "end_time": "2025-05-19T12:37:19.187753Z",
     "start_time": "2025-05-19T12:37:19.163447Z"
    }
   },
   "cell_type": "code",
   "source": "createConsumerGroup(\"filtered-events\", \"embedding-example\")",
   "outputs": [],
   "execution_count": 86
  },
  {
   "metadata": {
    "ExecuteTime": {
     "end_time": "2025-05-19T12:37:20.270008Z",
     "start_time": "2025-05-19T12:37:20.243332Z"
    }
   },
   "cell_type": "code",
   "source": [
    "val bloomFilterName = \"embedding-bf\"\n",
    "createBloomFilter(bloomFilterName)"
   ],
   "outputs": [],
   "execution_count": 87
  },
  {
   "metadata": {
    "ExecuteTime": {
     "end_time": "2025-05-19T12:37:23.796796Z",
     "start_time": "2025-05-19T12:37:21.762758Z"
    }
   },
   "cell_type": "code",
   "source": [
    "runBlocking {\n",
    "    consumeStream(\n",
    "        streamName = \"filtered-events\",\n",
    "        consumerGroup = \"embedding-example\",\n",
    "        consumer = \"embedding-1\",\n",
    "        handlers = listOf(deduplicate(bloomFilterName), printUri, createEmbedding),\n",
    "        ackFunction = ackAndBfFn(bloomFilterName),\n",
    "        count = 100,\n",
    "        limit = 100\n",
    "    )\n",
    "}"
   ],
   "outputs": [
    {
     "name": "stdout",
     "output_type": "stream",
     "text": [
      "Got event from at://did:plc:grtvknfaj6jx52dgah5itytk/app.bsky.feed.post/3lpjlfaord22m\n",
      "Got event from at://did:plc:loayypd7afaurmdbouegbplm/app.bsky.feed.post/3lpjlfcplk227\n",
      "Got event from at://did:plc:yoesuq4m7ebrhaelvp6ohcay/app.bsky.feed.post/3lpjlfdlvs22a\n",
      "Got event from at://did:plc:g3jnrobuc6ihp2go7pbb2ric/app.bsky.feed.post/3lpjlf7lncc23\n",
      "Got event from at://did:plc:xygjdg76jr7lzsesbhiarrt2/app.bsky.feed.post/3lpjlfdcvpc2m\n",
      "Got event from at://did:plc:onqixu24n5qjinfxrejrwq26/app.bsky.feed.post/3lpjlf6egg22k\n",
      "Got event from at://did:plc:oposrz2ixm6xnmgjsownkafx/app.bsky.feed.post/3lpjlfbzv7c2z\n",
      "Got event from at://did:plc:eavefzxezztrvztaw4v64elp/app.bsky.feed.post/3lpjlfdv3qc2e\n",
      "Got event from at://did:plc:7zzswd5g2zbynzbowl3edpww/app.bsky.feed.post/3lpjlfdfxec2o\n",
      "Got event from at://did:plc:fou27oy5vzz24lgzdlsekizi/app.bsky.feed.post/3lpjlfe6ijc2k\n",
      "Got event from at://did:plc:q2ytctqppyxwazziebhlylgv/app.bsky.feed.post/3lpjlfdtqrc2a\n",
      "Got event from at://did:plc:c5xlx2bada6ra7zighou62zh/app.bsky.feed.post/3lpjlfbrtfc2t\n",
      "Got event from at://did:plc:gteukb6debh2nl5tmwvvu4sh/app.bsky.feed.post/3lpjlfeqctc2f\n",
      "embedding-1: No new messages for 2 seconds. Stopping.\n"
     ]
    }
   ],
   "execution_count": 88
  },
  {
   "metadata": {},
   "cell_type": "markdown",
   "source": [
    "## Creating a Redis Search Index\n",
    "In this section, we'll create a Redis Search index to make the enriched events searchable. Redis Search is a module that adds full-text search capabilities to Redis. It allows us to search for events based on their text, topics, and other fields."
   ]
  },
  {
   "metadata": {},
   "cell_type": "markdown",
   "source": [
    "### Creating the Index Schema in Code\n",
    "Now we'll create the index schema in code. We'll use the Jedis client to create the schema and the index.\n",
    "\n",
    "The following schema defines the fields that will be indexed. The schema includes:\n",
    "- Text fields for full-text search\n",
    "- Tag fields for exact matching\n",
    "- Vector fields for semantic search\n",
    "\n",
    "```\n",
    "FT.CREATE postIdx ON HASH PREFIX 1 post: SCHEMA\n",
    "        parentUri     TEXT\n",
    "        topics        TAG SEPARATOR \"|\"\n",
    "        time_us       TEXT\n",
    "        langs         TAG\n",
    "        uri           TEXT\n",
    "        operation     TAG\n",
    "        did           TAG\n",
    "        timeUs        NUMERIC\n",
    "        rkey          TAG\n",
    "        textEmbedding VECTOR HNSW 6\n",
    "            DIM 384\n",
    "            TYPE FLOAT32\n",
    "            DISTANCE_METRIC COSINE\n",
    "        rootUri       TEXT\n",
    "        text          TEXT\n",
    "```"
   ]
  },
  {
   "metadata": {
    "ExecuteTime": {
     "end_time": "2025-05-19T12:37:25.264777Z",
     "start_time": "2025-05-19T12:37:25.213744Z"
    }
   },
   "cell_type": "code",
   "source": [
    "import redis.clients.jedis.search.IndexDefinition\n",
    "import redis.clients.jedis.search.IndexOptions\n",
    "import redis.clients.jedis.search.Schema\n",
    "import redis.clients.jedis.search.schemafields.VectorField.VectorAlgorithm\n",
    "\n",
    "val schema = Schema()\n",
    "    .addTextField(\"parentUri\", 1.0)\n",
    "    .addTagField(\"topics\", \"|\")\n",
    "    .addTextField(\"time_us\", 1.0)\n",
    "    .addTagField(\"langs\")\n",
    "    .addTextField(\"uri\", 1.0)\n",
    "    .addTagField(\"operation\")\n",
    "    .addTagField(\"did\")\n",
    "    .addNumericField(\"timeUs\")\n",
    "    .addTagField(\"rkey\")\n",
    "    .addHNSWVectorField(\n",
    "        \"textEmbedding\",\n",
    "        mapOf(\n",
    "            \"type\" to \"FLOAT32\",\n",
    "            \"dim\" to \"384\",\n",
    "            \"distance_metric\" to \"COSINE\",\n",
    "        )\n",
    "    )\n",
    "    .addTextField(\"rootUri\", 1.0)\n",
    "    .addTextField(\"text\", 1.0)\n",
    "\n",
    "// Define index options (e.g., prefix)\n",
    "val rule = IndexDefinition()\n",
    "    .setPrefixes(\"post:\")\n",
    "\n",
    "// Create the index\n",
    "try {\n",
    "    jedisPooled.ftCreate(\"postIdx\", IndexOptions.defaultOptions().setDefinition(rule), schema)\n",
    "} catch (e: JedisDataException) {\n",
    "    println(\"Index already exists\")\n",
    "}"
   ],
   "outputs": [],
   "execution_count": 89
  },
  {
   "metadata": {},
   "cell_type": "markdown",
   "source": [
    "### Searching the Index\n",
    "Now that we have created the index, we can search for events based on their topics, text, and other fields. In this example, we'll search for events with the topic \"Samba\".\n",
    "\n",
    "Redis Search uses a query language similar to SQL. For example, to search for events with the topic \"machine_learning\", we would use the query `@topics:{machine_learning}`."
   ]
  },
  {
   "metadata": {},
   "cell_type": "markdown",
   "source": "Exact Matching Search"
  },
  {
   "metadata": {
    "ExecuteTime": {
     "end_time": "2025-05-19T12:37:27.858721Z",
     "start_time": "2025-05-19T12:37:27.825360Z"
    }
   },
   "cell_type": "code",
   "source": [
    "//FT.SEARCH postIdx \"@topics:{machine_learning}\"\n",
    "val result = jedisPooled.ftSearch(\n",
    "    \"postIdx\",\n",
    "    \"@topics:{European Politics}\"\n",
    ")\n",
    "\n",
    "result.documents.forEach { post ->\n",
    "    println(post.get(\"topics\"))\n",
    "    println(post.get(\"text\"))\n",
    "    println(\"\\n\")\n",
    "}"
   ],
   "outputs": [],
   "execution_count": 90
  },
  {
   "metadata": {},
   "cell_type": "markdown",
   "source": "Full Text Search"
  },
  {
   "metadata": {
    "ExecuteTime": {
     "end_time": "2025-05-19T12:37:32.000448Z",
     "start_time": "2025-05-19T12:37:31.965334Z"
    }
   },
   "cell_type": "code",
   "source": [
    "//FT.SEARCH postIdx \"@text:Open source\"\n",
    "val result = jedisPooled.ftSearch(\n",
    "    \"postIdx\",\n",
    "    \"@text:Pope\"\n",
    ")\n",
    "\n",
    "result.documents.forEach { post ->\n",
    "    println(post.get(\"text\"))\n",
    "    println(\"\\n\")\n",
    "}"
   ],
   "outputs": [],
   "execution_count": 91
  },
  {
   "metadata": {},
   "cell_type": "markdown",
   "source": "Vector Similarity Search"
  },
  {
   "metadata": {
    "ExecuteTime": {
     "end_time": "2025-05-19T12:37:37.481706Z",
     "start_time": "2025-05-19T12:37:37.417126Z"
    }
   },
   "cell_type": "code",
   "source": [
    "import redis.clients.jedis.search.FTSearchParams\n",
    "import redis.clients.jedis.search.Query\n",
    "\n",
    "val vector: ByteArray = createEmbedding(\"A great action by the pope\")\n",
    "\n",
    "val queryString = (\"* =>[KNN \\$K @textEmbedding \\$BLOB AS similarityScore]\")\n",
    "\n",
    "val params = mapOf(\"BLOB\" to vector)\n",
    "\n",
    "var query = Query(queryString)\n",
    "    .addParam(\"K\", 1)\n",
    "    .addParam(\"BLOB\", vector)\n",
    "    .returnFields(\"uri\", \"text\", \"similarityScore\")\n",
    "    .setSortBy(\"similarityScore\", true)\n",
    "    .dialect(2)\n",
    "\n",
    "val result = jedisPooled.ftSearch(\n",
    "    \"postIdx\",\n",
    "    query\n",
    ")\n",
    "\n",
    "result.documents.forEach { doc ->\n",
    "    println(doc.get(\"topics\"))\n",
    "    println(doc.get(\"text\"))\n",
    "    println(\"\\n\")\n",
    "}"
   ],
   "outputs": [],
   "execution_count": 92
  },
  {
   "metadata": {},
   "cell_type": "markdown",
   "source": "Pre filtering"
  },
  {
   "metadata": {
    "ExecuteTime": {
     "end_time": "2025-05-19T12:37:40.847512Z",
     "start_time": "2025-05-19T12:37:40.798041Z"
    }
   },
   "cell_type": "code",
   "source": [
    "//FT.SEARCH postIdx \"@text:Open source\" \"@tag:{Samba}\" \"*=>[KNN 1 @textEmbedding $BLOB AS similarityScore]\"\n",
    "val vector: ByteArray = createEmbedding(\"Open source is wizardry stuff\")\n",
    "\n",
    "val queryString = \"@topics:{Samba} =>[KNN \\$K @textEmbedding \\$BLOB AS similarityScore]\"\n",
    "\n",
    "val params = mapOf(\"BLOB\" to vector)\n",
    "\n",
    "var query = Query(queryString)\n",
    "    .addParam(\"K\", 5) // Top 5 results (if enough from pre filtering)\n",
    "    .addParam(\"BLOB\", vector)\n",
    "    .returnFields(\"uri\", \"text\", \"similarityScore\")\n",
    "    .setSortBy(\"similarityScore\", true)\n",
    "    .dialect(2)\n",
    "\n",
    "val result = jedisPooled.ftSearch(\n",
    "    \"postIdx\",\n",
    "    query\n",
    ")\n",
    "\n",
    "println(result.totalResults)\n",
    "result.documents.forEach { doc ->\n",
    "    println(doc.get(\"topics\"))\n",
    "    println(doc.get(\"text\"))\n",
    "    println(\"\\n\")\n",
    "}"
   ],
   "outputs": [
    {
     "name": "stdout",
     "output_type": "stream",
     "text": [
      "0\n"
     ]
    }
   ],
   "execution_count": 93
  },
  {
   "metadata": {},
   "cell_type": "markdown",
   "source": "Counting the number of occurrences of a topic with Count-min sketch\n"
  },
  {
   "metadata": {
    "ExecuteTime": {
     "end_time": "2025-05-19T12:37:44.762638Z",
     "start_time": "2025-05-19T12:37:44.710800Z"
    }
   },
   "cell_type": "code",
   "source": [
    "import redis.clients.jedis.params.ScanParams\n",
    "\n",
    "val jedisScanFn = { cursor: String ->\n",
    "    jedisPooled.scan(cursor, ScanParams().match(\"topics-cms:*\"), \"CMSk-TYPE\")\n",
    "}\n",
    "\n",
    "val keys = mutableListOf<String>()\n",
    "var lastCursor = \"0\"\n",
    "do {\n",
    "    val result = jedisScanFn.invoke(lastCursor)\n",
    "    lastCursor = result.cursor\n",
    "    keys.addAll(result.result)\n",
    "} while (lastCursor != \"0\")\n",
    "\n",
    "keys.forEach {\n",
    "    println(it)\n",
    "    val count = jedisPooled.cmsQuery(it, \"Donald Trump\")\n",
    "    println(count)\n",
    "}"
   ],
   "outputs": [
    {
     "name": "stdout",
     "output_type": "stream",
     "text": [
      "topics-cms:2025-05-19T14:37\n",
      "[0]\n",
      "topics-cms:2025-05-19T14:36\n",
      "[2]\n"
     ]
    }
   ],
   "execution_count": 94
  }
 ],
 "metadata": {
  "kernelspec": {
   "display_name": "Kotlin",
   "language": "kotlin",
   "name": "kotlin"
  },
  "language_info": {
   "name": "kotlin",
   "version": "1.9.23",
   "mimetype": "text/x-kotlin",
   "file_extension": ".kt",
   "pygments_lexer": "kotlin",
   "codemirror_mode": "text/x-kotlin",
   "nbconvert_exporter": ""
  },
  "ktnbPluginMetadata": {
   "projectLibraries": false,
   "projectDependencies": [
    "kotlinconf-bsky-bot.kotlin-notebooks.main"
   ]
  }
 },
 "nbformat": 4,
 "nbformat_minor": 0
}
