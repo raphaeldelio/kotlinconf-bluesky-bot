{
 "cells": [
  {
   "metadata": {},
   "cell_type": "markdown",
   "source": "# Enriching Filtered Events"
  },
  {
   "metadata": {},
   "cell_type": "markdown",
   "source": [
    "In this notebook, we'll enrich the filtered events from the previous notebook with additional information. We'll use a combination of techniques to enrich the events:\n",
    "\n",
    "1. Topic modeling using a Large Language Model (LLM) to extract topics from the posts\n",
    "2. Creating embeddings for semantic search using a transformer model\n",
    "3. Storing the enriched events in Redis for querying\n",
    "\n",
    "\n",
    "\n",
    "Embeddings are vector representations of text that capture semantic meaning. They allow us to perform semantic search, which is a search based on meaning rather than exact keyword matching. In this notebook, we'll create embeddings for posts and store them in Redis for later querying.\n"
   ]
  },
  {
   "metadata": {
    "ExecuteTime": {
     "end_time": "2025-05-22T00:29:30.328278Z",
     "start_time": "2025-05-22T00:29:30.270610Z"
    }
   },
   "cell_type": "code",
   "source": [
    "import dev.raphaeldelio.*\n",
    "%use coroutines"
   ],
   "outputs": [],
   "execution_count": 27
  },
  {
   "metadata": {},
   "cell_type": "markdown",
   "source": [
    "## Topic Modeling with Large Language Models\n",
    "Topic modeling is a technique used to discover abstract topics in a collection of documents. In this notebook, we'll use a Large Language Model to extract topics from posts. This will allow us to categorize posts and make them more searchable."
   ]
  },
  {
   "metadata": {},
   "cell_type": "markdown",
   "source": [
    "### Setting Up the Ollama API Client\n",
    "We'll use the Spring AI Ollama client to interact with the Ollama API.\n",
    "\n",
    "Ollama is a tool that allows us to run large language models locally."
   ]
  },
  {
   "metadata": {
    "ExecuteTime": {
     "end_time": "2025-05-22T00:29:30.462473Z",
     "start_time": "2025-05-22T00:29:30.330777Z"
    }
   },
   "cell_type": "code",
   "source": "@file:DependsOn(\"org.springframework.ai:spring-ai-ollama:1.0.0-RC1\")",
   "outputs": [],
   "execution_count": 28
  },
  {
   "metadata": {},
   "cell_type": "markdown",
   "source": "The prompt we'll use for the LLM is designed to extract software-related topics from posts. The prompt includes examples of how to format the output and what types of topics to include."
  },
  {
   "metadata": {
    "ExecuteTime": {
     "end_time": "2025-05-22T00:29:30.484850Z",
     "start_time": "2025-05-22T00:29:30.464570Z"
    }
   },
   "cell_type": "code",
   "source": [
    "import java.io.File\n",
    "\n",
    "val topicModelingSystemPrompt = File(\"resources/topic-extractor-prompt.txt\").readText()"
   ],
   "outputs": [],
   "execution_count": 29
  },
  {
   "metadata": {},
   "cell_type": "markdown",
   "source": "Create the Ollama Chat Model"
  },
  {
   "metadata": {
    "ExecuteTime": {
     "end_time": "2025-05-22T00:29:30.512126Z",
     "start_time": "2025-05-22T00:29:30.486943Z"
    }
   },
   "cell_type": "code",
   "source": [
    "import org.springframework.ai.ollama.OllamaChatModel\n",
    "import org.springframework.ai.ollama.api.OllamaApi\n",
    "import org.springframework.ai.ollama.api.OllamaApi.ChatRequest\n",
    "import org.springframework.ai.ollama.api.OllamaApi.Message\n",
    "import org.springframework.ai.ollama.api.OllamaApi.Message.Role\n",
    "import org.springframework.ai.ollama.api.OllamaOptions\n",
    "\n",
    "val ollamaApi = OllamaApi.builder()\n",
    "    .baseUrl(\"http://localhost:11434\")\n",
    "    .build()\n",
    "\n",
    "val ollamaOptions = OllamaOptions.builder().model(\"deepseek-coder-v2\").build()\n",
    "\n",
    "val ollamaChatModel = OllamaChatModel.builder()\n",
    "    .ollamaApi(ollamaApi)\n",
    "    .defaultOptions(ollamaOptions)\n",
    "    .build()"
   ],
   "outputs": [],
   "execution_count": 30
  },
  {
   "metadata": {},
   "cell_type": "markdown",
   "source": [
    "### Creating a Topic Modeling Function\n",
    "This function takes a post as input and uses the Ollama API to extract topics from the post. The function returns a string of comma-separated topics."
   ]
  },
  {
   "metadata": {
    "ExecuteTime": {
     "end_time": "2025-05-22T00:29:30.548218Z",
     "start_time": "2025-05-22T00:29:30.517854Z"
    }
   },
   "cell_type": "code",
   "source": [
    "import org.springframework.ai.chat.messages.SystemMessage\n",
    "import org.springframework.ai.chat.messages.UserMessage\n",
    "import org.springframework.ai.chat.prompt.Prompt\n",
    "\n",
    "fun topicModeling(post: String, existingTopics: String): String {\n",
    "    // Build a chat message\n",
    "    val messages = listOf(\n",
    "        SystemMessage(topicModelingSystemPrompt),\n",
    "        UserMessage(\"Existing topics: $existingTopics\"),\n",
    "        UserMessage(\"Post: $post\")\n",
    "    )\n",
    "\n",
    "    val response = ollamaChatModel.call(Prompt(messages))\n",
    "    return response.result.output.text ?: \"\"\n",
    "}"
   ],
   "outputs": [],
   "execution_count": 31
  },
  {
   "metadata": {
    "ExecuteTime": {
     "end_time": "2025-05-22T00:29:32.242036Z",
     "start_time": "2025-05-22T00:29:30.551215Z"
    }
   },
   "cell_type": "code",
   "source": "topicModeling(\"In 2021, Angela Merkel stepped down after 16 years as Germany’s Chancellor. In the same year, Joe Biden became the 46th U.S. President. Quiet transitions of power still matter.\", \"\")",
   "outputs": [
    {
     "data": {
      "text/plain": [
       " \"\""
      ]
     },
     "execution_count": 32,
     "metadata": {},
     "output_type": "execute_result"
    }
   ],
   "execution_count": 32
  },
  {
   "metadata": {
    "ExecuteTime": {
     "end_time": "2025-05-22T00:29:32.418459Z",
     "start_time": "2025-05-22T00:29:32.249429Z"
    }
   },
   "cell_type": "code",
   "source": "topicModeling(\"Brazilian samba is a great music genre for dancing\", \"\")",
   "outputs": [
    {
     "data": {
      "text/plain": [
       " \"\""
      ]
     },
     "execution_count": 33,
     "metadata": {},
     "output_type": "execute_result"
    }
   ],
   "execution_count": 33
  },
  {
   "metadata": {},
   "cell_type": "markdown",
   "source": "### Counting how many times a topic appears"
  },
  {
   "metadata": {},
   "cell_type": "markdown",
   "source": [
    "Count-min sketch is a probabilistic data structure used for estimating the frequency of events in a stream of data.\n",
    "\n",
    "It is particularly useful for counting the number of occurrences of items in a large dataset without storing all the items explicitly."
   ]
  },
  {
   "metadata": {
    "ExecuteTime": {
     "end_time": "2025-05-22T00:29:32.451984Z",
     "start_time": "2025-05-22T00:29:32.423305Z"
    }
   },
   "cell_type": "code",
   "source": [
    "import redis.clients.jedis.exceptions.JedisDataException\n",
    "import java.time.LocalDateTime\n",
    "\n",
    "fun createCountMinSketch(): String {\n",
    "    val windowBucket = LocalDateTime.now().withMinute(0).withSecond(0).withNano(0)\n",
    "    try {\n",
    "        jedisPooled.cmsInitByDim(\"topics-cms:$windowBucket\", 3000, 10)\n",
    "    } catch (_: JedisDataException) {\n",
    "        println(\"Count-min sketch already exists\")\n",
    "    }\n",
    "\n",
    "    return \"topics-cms:$windowBucket\"\n",
    "}"
   ],
   "outputs": [],
   "execution_count": 34
  },
  {
   "metadata": {},
   "cell_type": "markdown",
   "source": [
    "### Creating a Topic Extraction Handler\n",
    "This function creates a handler that extracts topics from an event's text and stores them in Redis. The topics are stored as a pipe-separated string in the \"topics\" field of the event's hash."
   ]
  },
  {
   "metadata": {
    "ExecuteTime": {
     "end_time": "2025-05-22T00:29:32.531676Z",
     "start_time": "2025-05-22T00:29:32.454262Z"
    }
   },
   "cell_type": "code",
   "source": [
    "val extractTopics: (Event) -> Pair<Boolean, String> = { event ->\n",
    "    val existingTopics = jedisPooled.smembers(\"topics\")\n",
    "    val topics = topicModeling(event.text, existingTopics.joinToString(\", \"))\n",
    "        .replace(\"\\\"\", \"\")\n",
    "        .replace(\"“\", \"\")\n",
    "        .replace(\"”\", \"\")\n",
    "        .split(\",\")\n",
    "        .map { it.trim() }\n",
    "        .filter { it.isNotBlank() }\n",
    "\n",
    "    val cmsKey = createCountMinSketch()\n",
    "    if (topics.isNotEmpty()) {\n",
    "        jedisPooled.cmsIncrBy(cmsKey, topics.associateWith { 1 })\n",
    "        jedisPooled.hset(\"post:\" + event.uri.replace(\"at://did:plc:\", \"\"), mapOf(\"topics\" to topics.joinToString(\"|\")))\n",
    "        jedisPooled.sadd(\"topics\", *topics.toTypedArray())\n",
    "    }\n",
    "    Pair(true, \"OK\")\n",
    "}"
   ],
   "outputs": [],
   "execution_count": 35
  },
  {
   "metadata": {
    "ExecuteTime": {
     "end_time": "2025-05-22T00:29:32.556840Z",
     "start_time": "2025-05-22T00:29:32.535672Z"
    }
   },
   "cell_type": "code",
   "source": "createConsumerGroup(\"filtered-events\", \"topic-extraction-example\")",
   "outputs": [
    {
     "name": "stdout",
     "output_type": "stream",
     "text": [
      "Group already exists\n"
     ]
    }
   ],
   "execution_count": 36
  },
  {
   "metadata": {
    "ExecuteTime": {
     "end_time": "2025-05-22T00:29:32.581763Z",
     "start_time": "2025-05-22T00:29:32.562369Z"
    }
   },
   "cell_type": "code",
   "source": [
    "val bloomFilterName = \"topic-extraction-bf\"\n",
    "createBloomFilter(bloomFilterName)"
   ],
   "outputs": [
    {
     "name": "stdout",
     "output_type": "stream",
     "text": [
      "Bloom filter already exists\n"
     ]
    }
   ],
   "execution_count": 37
  },
  {
   "metadata": {
    "ExecuteTime": {
     "end_time": "2025-05-22T00:29:37.929486Z",
     "start_time": "2025-05-22T00:29:32.587004Z"
    }
   },
   "cell_type": "code",
   "source": [
    "runBlocking {\n",
    "    consumeStream(\n",
    "        streamName = \"filtered-events\",\n",
    "        consumerGroup = \"topic-extraction-example\",\n",
    "        consumer = \"topic-extraction-1\",\n",
    "        handlers = listOf(deduplicate(bloomFilterName), printUri, extractTopics),\n",
    "        ackFunction = ackAndBfFn(bloomFilterName),\n",
    "        count = 1,\n",
    "        limit = 100\n",
    "    )\n",
    "}"
   ],
   "outputs": [
    {
     "name": "stdout",
     "output_type": "stream",
     "text": [
      "Got event from at://did:plc:plmrzhbrzs5p3z5hq4ljwjhj/app.bsky.feed.post/3lppt46hvtc2k\n",
      "Count-min sketch already exists\n",
      "Got event from at://did:plc:bb4ohqqg3l5uqurpgvn7zaon/app.bsky.feed.post/3lppt4gxxr32m\n",
      "Count-min sketch already exists\n",
      "Got event from at://did:plc:lcsq3emslqunozqk4zeskggd/app.bsky.feed.post/3lppt4gog7s2x\n",
      "Count-min sketch already exists\n",
      "Got event from at://did:plc:hpp52ivrklmlxzotiurem2af/app.bsky.feed.post/3lppt4hwiig2t\n",
      "Count-min sketch already exists\n",
      "Got event from at://did:plc:e33j7rtgfl5nyre4zx4ai6zw/app.bsky.feed.post/3lppt4m2f5k2d\n",
      "Count-min sketch already exists\n",
      "Got event from at://did:plc:p3wtkvud3zazjpgysrxywcd5/app.bsky.feed.post/3lppt4nhz4c2y\n",
      "Count-min sketch already exists\n",
      "Got event from at://did:plc:2jt2hjhnujd57pr4uy3vh3mb/app.bsky.feed.post/3lppt4petfk25\n",
      "Count-min sketch already exists\n",
      "Got event from at://did:plc:zl7yevhfe4stpinqnb2jcmqq/app.bsky.feed.post/3lppt4qhirk2d\n",
      "Count-min sketch already exists\n",
      "Got event from at://did:plc:scguov34lrzd6hrorplttx2z/app.bsky.feed.post/3lppt4s6x6s2z\n",
      "Count-min sketch already exists\n",
      "Got event from at://did:plc:5txuklpddqgrlxcozcq6r5da/app.bsky.feed.post/3lppt4zcqas2g\n",
      "Count-min sketch already exists\n",
      "Got event from at://did:plc:b7bvfaw67cfhiygh7py6ld5w/app.bsky.feed.post/3lppt52umb52e\n",
      "Count-min sketch already exists\n",
      "Got event from at://did:plc:xpvvqpow43ekyqmeuvutpbgl/app.bsky.feed.post/3lppt53msek2e\n",
      "Count-min sketch already exists\n",
      "Got event from at://did:plc:iztyhwpqltpjvdbdorfiysck/app.bsky.feed.post/3lppt57cb5s24\n",
      "Count-min sketch already exists\n",
      "topic-extraction-1: No new messages for 2 seconds. Stopping.\n"
     ]
    }
   ],
   "execution_count": 38
  },
  {
   "metadata": {},
   "cell_type": "markdown",
   "source": [
    "## Creating Embeddings for Semantic Search\n",
    "In this section, we'll create embeddings for posts. Embeddings are vector representations of text that capture semantic meaning. They allow us to perform semantic search, which is a search based on meaning rather than exact keyword matching.\n",
    "\n",
    "For example, if I search for:\n",
    "\n",
    "\"Redis is a cool db for Python devs\"\n",
    "\n",
    "I can still match:\n",
    "\n",
    "\"Redis is a great database for Python developers\""
   ]
  },
  {
   "metadata": {},
   "cell_type": "markdown",
   "source": [
    "### Setting Up the Embedding Model\n",
    "We'll use the Spring AI Transformers library to create embeddings for posts. This library provides a simple API for creating embeddings using transformer models."
   ]
  },
  {
   "metadata": {
    "ExecuteTime": {
     "end_time": "2025-05-22T00:29:38.109018Z",
     "start_time": "2025-05-22T00:29:37.936595Z"
    }
   },
   "cell_type": "code",
   "source": [
    "@file:DependsOn(\"org.springframework.ai:spring-ai-transformers:1.0.0-RC1\")\n",
    "@file:DependsOn(\"ai.djl.huggingface:tokenizers:0.33.0\")"
   ],
   "outputs": [],
   "execution_count": 39
  },
  {
   "metadata": {
    "ExecuteTime": {
     "end_time": "2025-05-22T00:29:38.254510Z",
     "start_time": "2025-05-22T00:29:38.113447Z"
    }
   },
   "cell_type": "code",
   "source": [
    "import org.springframework.ai.transformers.TransformersEmbeddingModel\n",
    "\n",
    "val embeddingModel = TransformersEmbeddingModel() // uses all-MiniLM-L6-v2 by default\n",
    "embeddingModel.afterPropertiesSet()"
   ],
   "outputs": [],
   "execution_count": 40
  },
  {
   "metadata": {},
   "cell_type": "markdown",
   "source": [
    "### Creating an Embedding Handler\n",
    "This function creates a handler that generates embeddings for an event's text and stores them in Redis. The embeddings are stored as binary data in the \"textEmbedding\" field of the event's hash."
   ]
  },
  {
   "metadata": {
    "ExecuteTime": {
     "end_time": "2025-05-22T00:29:38.294848Z",
     "start_time": "2025-05-22T00:29:38.257399Z"
    }
   },
   "cell_type": "code",
   "source": [
    "import java.lang.Float\n",
    "import java.nio.ByteBuffer\n",
    "import java.nio.ByteOrder\n",
    "\n",
    "fun createEmbedding(input: String): ByteArray {\n",
    "    val embedding = embeddingModel.embed(input)\n",
    "    val embeddingBytes = ByteArray(Float.BYTES * embedding.size)\n",
    "    ByteBuffer.wrap(embeddingBytes).order(ByteOrder.LITTLE_ENDIAN).asFloatBuffer().put(embedding)\n",
    "    return embeddingBytes\n",
    "}"
   ],
   "outputs": [],
   "execution_count": 41
  },
  {
   "metadata": {
    "ExecuteTime": {
     "end_time": "2025-05-22T00:29:38.344550Z",
     "start_time": "2025-05-22T00:29:38.297504Z"
    }
   },
   "cell_type": "code",
   "source": [
    "val createEmbedding: (Event) -> Pair<Boolean, String> = { event ->\n",
    "    val embeddingBytes = createEmbedding(event.text)\n",
    "    jedisPooled.hset((\"post:\" + event.uri.replace(\"at://did:plc:\", \"\")).encodeToByteArray(), mapOf(\"textEmbedding\".encodeToByteArray() to embeddingBytes))\n",
    "    Pair(true, \"OK\")\n",
    "}"
   ],
   "outputs": [],
   "execution_count": 42
  },
  {
   "metadata": {
    "ExecuteTime": {
     "end_time": "2025-05-22T00:29:38.370617Z",
     "start_time": "2025-05-22T00:29:38.349748Z"
    }
   },
   "cell_type": "code",
   "source": "createConsumerGroup(\"filtered-events\", \"embedding-example\")",
   "outputs": [
    {
     "name": "stdout",
     "output_type": "stream",
     "text": [
      "Group already exists\n"
     ]
    }
   ],
   "execution_count": 43
  },
  {
   "metadata": {
    "ExecuteTime": {
     "end_time": "2025-05-22T00:29:38.399795Z",
     "start_time": "2025-05-22T00:29:38.376318Z"
    }
   },
   "cell_type": "code",
   "source": [
    "val bloomFilterName = \"embedding-bf\"\n",
    "createBloomFilter(bloomFilterName)"
   ],
   "outputs": [
    {
     "name": "stdout",
     "output_type": "stream",
     "text": [
      "Bloom filter already exists\n"
     ]
    }
   ],
   "execution_count": 44
  },
  {
   "metadata": {
    "ExecuteTime": {
     "end_time": "2025-05-22T00:29:40.475420Z",
     "start_time": "2025-05-22T00:29:38.425566Z"
    }
   },
   "cell_type": "code",
   "source": [
    "runBlocking {\n",
    "    consumeStream(\n",
    "        streamName = \"filtered-events\",\n",
    "        consumerGroup = \"embedding-example\",\n",
    "        consumer = \"embedding-1\",\n",
    "        handlers = listOf(deduplicate(bloomFilterName), printUri, createEmbedding),\n",
    "        ackFunction = ackAndBfFn(bloomFilterName),\n",
    "        count = 100,\n",
    "        limit = 100\n",
    "    )\n",
    "}"
   ],
   "outputs": [
    {
     "name": "stdout",
     "output_type": "stream",
     "text": [
      "Got event from at://did:plc:plmrzhbrzs5p3z5hq4ljwjhj/app.bsky.feed.post/3lppt46hvtc2k\n",
      "Got event from at://did:plc:bb4ohqqg3l5uqurpgvn7zaon/app.bsky.feed.post/3lppt4gxxr32m\n",
      "Got event from at://did:plc:lcsq3emslqunozqk4zeskggd/app.bsky.feed.post/3lppt4gog7s2x\n",
      "Got event from at://did:plc:hpp52ivrklmlxzotiurem2af/app.bsky.feed.post/3lppt4hwiig2t\n",
      "Got event from at://did:plc:e33j7rtgfl5nyre4zx4ai6zw/app.bsky.feed.post/3lppt4m2f5k2d\n",
      "Got event from at://did:plc:p3wtkvud3zazjpgysrxywcd5/app.bsky.feed.post/3lppt4nhz4c2y\n",
      "Got event from at://did:plc:2jt2hjhnujd57pr4uy3vh3mb/app.bsky.feed.post/3lppt4petfk25\n",
      "Got event from at://did:plc:zl7yevhfe4stpinqnb2jcmqq/app.bsky.feed.post/3lppt4qhirk2d\n",
      "Got event from at://did:plc:scguov34lrzd6hrorplttx2z/app.bsky.feed.post/3lppt4s6x6s2z\n",
      "Got event from at://did:plc:5txuklpddqgrlxcozcq6r5da/app.bsky.feed.post/3lppt4zcqas2g\n",
      "Got event from at://did:plc:b7bvfaw67cfhiygh7py6ld5w/app.bsky.feed.post/3lppt52umb52e\n",
      "Got event from at://did:plc:xpvvqpow43ekyqmeuvutpbgl/app.bsky.feed.post/3lppt53msek2e\n",
      "Got event from at://did:plc:iztyhwpqltpjvdbdorfiysck/app.bsky.feed.post/3lppt57cb5s24\n",
      "embedding-1: No new messages for 2 seconds. Stopping.\n"
     ]
    }
   ],
   "execution_count": 45
  },
  {
   "metadata": {},
   "cell_type": "markdown",
   "source": [
    "## Creating a Redis Search Index\n",
    "In this section, we'll create a Redis Search index to make the enriched events searchable. Redis Search is a module that adds full-text search capabilities to Redis. It allows us to search for events based on their text, topics, and other fields."
   ]
  },
  {
   "metadata": {},
   "cell_type": "markdown",
   "source": [
    "### Creating the Index Schema in Code\n",
    "Now we'll create the index schema in code. We'll use the Jedis client to create the schema and the index.\n",
    "\n",
    "The following schema defines the fields that will be indexed. The schema includes:\n",
    "- Text fields for full-text search\n",
    "- Tag fields for exact matching\n",
    "- Vector fields for semantic search\n",
    "\n",
    "```\n",
    "FT.CREATE postIdx ON HASH PREFIX 1 post: SCHEMA\n",
    "        parentUri     TEXT\n",
    "        topics        TAG SEPARATOR \"|\"\n",
    "        time_us       TEXT\n",
    "        langs         TAG\n",
    "        uri           TEXT\n",
    "        operation     TAG\n",
    "        did           TAG\n",
    "        timeUs        NUMERIC\n",
    "        rkey          TAG\n",
    "        textEmbedding VECTOR HNSW 6\n",
    "            DIM 384\n",
    "            TYPE FLOAT32\n",
    "            DISTANCE_METRIC COSINE\n",
    "        rootUri       TEXT\n",
    "        text          TEXT\n",
    "```"
   ]
  },
  {
   "metadata": {
    "ExecuteTime": {
     "end_time": "2025-05-22T00:29:40.560016Z",
     "start_time": "2025-05-22T00:29:40.494479Z"
    }
   },
   "cell_type": "code",
   "source": [
    "import redis.clients.jedis.search.IndexDefinition\n",
    "import redis.clients.jedis.search.IndexOptions\n",
    "import redis.clients.jedis.search.Schema\n",
    "import redis.clients.jedis.search.schemafields.VectorField.VectorAlgorithm\n",
    "\n",
    "val schema = Schema()\n",
    "    .addTextField(\"parentUri\", 1.0)\n",
    "    .addTagField(\"topics\", \"|\")\n",
    "    .addTextField(\"time_us\", 1.0)\n",
    "    .addTagField(\"langs\")\n",
    "    .addTextField(\"uri\", 1.0)\n",
    "    .addTagField(\"operation\")\n",
    "    .addTagField(\"did\")\n",
    "    .addNumericField(\"timeUs\")\n",
    "    .addTagField(\"rkey\")\n",
    "    .addHNSWVectorField(\n",
    "        \"textEmbedding\",\n",
    "        mapOf(\n",
    "            \"type\" to \"FLOAT32\",\n",
    "            \"dim\" to \"384\",\n",
    "            \"distance_metric\" to \"COSINE\",\n",
    "        )\n",
    "    )\n",
    "    .addTextField(\"rootUri\", 1.0)\n",
    "    .addTextField(\"text\", 1.0)\n",
    "\n",
    "// Define index options (e.g., prefix)\n",
    "val rule = IndexDefinition()\n",
    "    .setPrefixes(\"post:\")\n",
    "\n",
    "// Create the index\n",
    "try {\n",
    "    jedisPooled.ftCreate(\"postIdx\", IndexOptions.defaultOptions().setDefinition(rule), schema)\n",
    "} catch (e: JedisDataException) {\n",
    "    println(\"Index already exists\")\n",
    "}"
   ],
   "outputs": [
    {
     "name": "stdout",
     "output_type": "stream",
     "text": [
      "Index already exists\n"
     ]
    }
   ],
   "execution_count": 46
  },
  {
   "metadata": {},
   "cell_type": "markdown",
   "source": [
    "### Searching the Index\n",
    "Now that we have created the index, we can search for events based on their topics, text, and other fields. In this example, we'll search for events with the topic \"Samba\".\n",
    "\n",
    "Redis Search uses a query language similar to SQL. For example, to search for events with the topic \"machine_learning\", we would use the query `@topics:{machine_learning}`."
   ]
  },
  {
   "metadata": {},
   "cell_type": "markdown",
   "source": "Exact Matching Search"
  },
  {
   "metadata": {
    "ExecuteTime": {
     "end_time": "2025-05-22T00:29:40.625871Z",
     "start_time": "2025-05-22T00:29:40.571008Z"
    }
   },
   "cell_type": "code",
   "source": [
    "//FT.SEARCH postIdx \"@topics:{machine_learning}\"\n",
    "val result = jedisPooled.ftSearch(\n",
    "    \"postIdx\",\n",
    "    \"@topics:{ChatGPT}\"\n",
    ")\n",
    "\n",
    "result.documents.forEach { post ->\n",
    "    println(post.get(\"topics\"))\n",
    "    println(post.get(\"text\"))\n",
    "    println(\"\\n\")\n",
    "}"
   ],
   "outputs": [
    {
     "name": "stdout",
     "output_type": "stream",
     "text": [
      "ChatGPT|AI Art|Chatbots\n",
      "Chatgpt 畫“選腎與熊”\n",
      "\n",
      "\n",
      "ChatGPT|AI Ethics\n",
      "According to ChatGPT 4, it’s .13 gallons. So either ChatGPT is lying or God is lying.\n",
      "\n",
      "\n",
      "ChatGPT|AI Ethics\n",
      "\"ChatGPT is now estimated to be the fifth-most visited website in the world, just after Instagram and ahead of X.\"\n",
      "\n",
      "www.similarweb.com/top-websites/\n",
      "\n",
      "\n"
     ]
    }
   ],
   "execution_count": 47
  },
  {
   "metadata": {},
   "cell_type": "markdown",
   "source": "Full Text Search"
  },
  {
   "metadata": {
    "ExecuteTime": {
     "end_time": "2025-05-22T00:29:40.670303Z",
     "start_time": "2025-05-22T00:29:40.632908Z"
    }
   },
   "cell_type": "code",
   "source": [
    "//FT.SEARCH postIdx \"@text:Open source\"\n",
    "val result = jedisPooled.ftSearch(\n",
    "    \"postIdx\",\n",
    "    \"@text:estimated to be\"\n",
    ")\n",
    "\n",
    "result.documents.forEach { post ->\n",
    "    println(post.get(\"text\"))\n",
    "    println(\"\\n\")\n",
    "}"
   ],
   "outputs": [
    {
     "name": "stdout",
     "output_type": "stream",
     "text": [
      "\"ChatGPT is now estimated to be the fifth-most visited website in the world, just after Instagram and ahead of X.\"\n",
      "\n",
      "www.similarweb.com/top-websites/\n",
      "\n",
      "\n"
     ]
    }
   ],
   "execution_count": 48
  },
  {
   "metadata": {},
   "cell_type": "markdown",
   "source": "Vector Similarity Search"
  },
  {
   "metadata": {
    "ExecuteTime": {
     "end_time": "2025-05-22T00:29:40.768592Z",
     "start_time": "2025-05-22T00:29:40.686876Z"
    }
   },
   "cell_type": "code",
   "source": [
    "import redis.clients.jedis.search.FTSearchParams\n",
    "import redis.clients.jedis.search.Query\n",
    "\n",
    "val vector: ByteArray = createEmbedding(\"ChatGPT\")\n",
    "\n",
    "val queryString = (\"* =>[KNN \\$K @textEmbedding \\$BLOB AS similarityScore]\")\n",
    "\n",
    "val params = mapOf(\"BLOB\" to vector)\n",
    "\n",
    "var query = Query(queryString)\n",
    "    .addParam(\"K\", 1)\n",
    "    .addParam(\"BLOB\", vector)\n",
    "    .returnFields(\"uri\", \"text\", \"similarityScore\")\n",
    "    .setSortBy(\"similarityScore\", true)\n",
    "    .dialect(2)\n",
    "\n",
    "val result = jedisPooled.ftSearch(\n",
    "    \"postIdx\",\n",
    "    query\n",
    ")\n",
    "\n",
    "result.documents.forEach { doc ->\n",
    "    println(doc.get(\"topics\"))\n",
    "    println(doc.get(\"text\"))\n",
    "    println(\"\\n\")\n",
    "}"
   ],
   "outputs": [
    {
     "name": "stdout",
     "output_type": "stream",
     "text": [
      "null\n",
      "Chatgpt 畫“選腎與熊”\n",
      "\n",
      "\n"
     ]
    }
   ],
   "execution_count": 49
  },
  {
   "metadata": {},
   "cell_type": "markdown",
   "source": "Pre filtering"
  },
  {
   "metadata": {
    "ExecuteTime": {
     "end_time": "2025-05-22T00:29:40.894683Z",
     "start_time": "2025-05-22T00:29:40.798245Z"
    }
   },
   "cell_type": "code",
   "source": [
    "//FT.SEARCH postIdx \"@text:Open source\" \"@tag:{Samba}\" \"*=>[KNN 1 @textEmbedding $BLOB AS similarityScore]\"\n",
    "val vector: ByteArray = createEmbedding(\"Open source is wizardry stuff\")\n",
    "\n",
    "val queryString = \"@topics:{ChatGPT} =>[KNN \\$K @textEmbedding \\$BLOB AS similarityScore]\"\n",
    "\n",
    "val params = mapOf(\"BLOB\" to vector)\n",
    "\n",
    "var query = Query(queryString)\n",
    "    .addParam(\"K\", 5) // Top 5 results (if enough from pre filtering)\n",
    "    .addParam(\"BLOB\", vector)\n",
    "    .returnFields(\"uri\", \"text\", \"similarityScore\")\n",
    "    .setSortBy(\"similarityScore\", true)\n",
    "    .dialect(2)\n",
    "\n",
    "val result = jedisPooled.ftSearch(\n",
    "    \"postIdx\",\n",
    "    query\n",
    ")\n",
    "\n",
    "result.documents.forEach { doc ->\n",
    "    println(doc.get(\"topics\"))\n",
    "    println(doc.get(\"text\"))\n",
    "    println(\"\\n\")\n",
    "}"
   ],
   "outputs": [
    {
     "name": "stdout",
     "output_type": "stream",
     "text": [
      "null\n",
      "\"ChatGPT is now estimated to be the fifth-most visited website in the world, just after Instagram and ahead of X.\"\n",
      "\n",
      "www.similarweb.com/top-websites/\n",
      "\n",
      "\n",
      "null\n",
      "According to ChatGPT 4, it’s .13 gallons. So either ChatGPT is lying or God is lying.\n",
      "\n",
      "\n",
      "null\n",
      "Chatgpt 畫“選腎與熊”\n",
      "\n",
      "\n"
     ]
    }
   ],
   "execution_count": 50
  },
  {
   "metadata": {},
   "cell_type": "markdown",
   "source": "Counting the number of occurrences of a topic with Count-min sketch\n"
  },
  {
   "metadata": {
    "ExecuteTime": {
     "end_time": "2025-05-22T00:29:41.016152Z",
     "start_time": "2025-05-22T00:29:40.904598Z"
    }
   },
   "cell_type": "code",
   "source": [
    "import redis.clients.jedis.params.ScanParams\n",
    "\n",
    "val jedisScanFn = { cursor: String ->\n",
    "    jedisPooled.scan(cursor, ScanParams().match(\"topics-cms:*\"), \"CMSk-TYPE\")\n",
    "}\n",
    "\n",
    "val keys = mutableListOf<String>()\n",
    "var lastCursor = \"0\"\n",
    "do {\n",
    "    val result = jedisScanFn.invoke(lastCursor)\n",
    "    lastCursor = result.cursor\n",
    "    keys.addAll(result.result)\n",
    "} while (lastCursor != \"0\")\n",
    "\n",
    "keys.forEach {\n",
    "    println(it)\n",
    "    val count = jedisPooled.cmsQuery(it, \"ChatGPT\")\n",
    "    println(count)\n",
    "}"
   ],
   "outputs": [
    {
     "name": "stdout",
     "output_type": "stream",
     "text": [
      "topics-cms:2025-05-22T02:00\n",
      "[1]\n",
      "topics-cms:2025-05-22T01:00\n",
      "[2]\n"
     ]
    }
   ],
   "execution_count": 51
  }
 ],
 "metadata": {
  "kernelspec": {
   "display_name": "Kotlin",
   "language": "kotlin",
   "name": "kotlin"
  },
  "language_info": {
   "name": "kotlin",
   "version": "1.9.23",
   "mimetype": "text/x-kotlin",
   "file_extension": ".kt",
   "pygments_lexer": "kotlin",
   "codemirror_mode": "text/x-kotlin",
   "nbconvert_exporter": ""
  },
  "ktnbPluginMetadata": {
   "projectLibraries": false,
   "projectDependencies": [
    "kotlinconf-bsky-bot.kotlin-notebooks.main"
   ]
  }
 },
 "nbformat": 4,
 "nbformat_minor": 0
}
