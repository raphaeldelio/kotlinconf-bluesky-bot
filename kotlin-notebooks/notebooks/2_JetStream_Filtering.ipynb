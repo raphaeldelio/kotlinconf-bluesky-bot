{
 "cells": [
  {
   "metadata": {},
   "cell_type": "markdown",
   "source": "# Filtering JetStream Events"
  },
  {
   "metadata": {},
   "cell_type": "markdown",
   "source": [
    "In this notebook, we'll filter events from the Redis Stream that we created in the previous notebook. We'll use a combination of techniques to filter the events:\n",
    "\n",
    "1. Deduplication using Redis Bloom Filter to avoid processing the same event multiple times\n",
    "2. Content-based filtering using a machine learning model to identify software-related posts\n",
    "3. Storing filtered events in Redis for further processing\n",
    "\n",
    "Redis Bloom Filter is a probabilistic data structure that allows us to check if an element is in a set. It's very memory efficient and has a constant time complexity for both insertion and lookup operations. The trade-off is that it can have false positives, but the probability of false positives can be controlled by the size of the filter.\n",
    "\n",
    "Machine learning models can be used to classify text into different categories. In this notebook, we'll use a pre-trained zero-shot classification model to classify posts as software-related or not."
   ]
  },
  {
   "metadata": {},
   "cell_type": "markdown",
   "source": "## Consuming from Redis Streams"
  },
  {
   "metadata": {},
   "cell_type": "markdown",
   "source": [
    "### Model Redis Streams Event\n",
    "In this section, we'll define a data class to represent the events stored in the Redis Stream. This model will be used to deserialize the events from the stream."
   ]
  },
  {
   "metadata": {
    "ExecuteTime": {
     "end_time": "2025-05-19T18:32:00.268825Z",
     "start_time": "2025-05-19T18:32:00.213715Z"
    }
   },
   "cell_type": "code",
   "source": "@file:DependsOn(\"redis.clients:jedis:6.0.0\")",
   "outputs": [],
   "execution_count": 57
  },
  {
   "metadata": {
    "ExecuteTime": {
     "end_time": "2025-05-19T18:32:00.327384Z",
     "start_time": "2025-05-19T18:32:00.276588Z"
    }
   },
   "cell_type": "code",
   "source": [
    "import redis.clients.jedis.resps.StreamEntry\n",
    "\n",
    "data class Event(\n",
    "    val did: String,\n",
    "    val rkey: String,\n",
    "    val text: String,\n",
    "    val timeUs: String,\n",
    "    val operation: String,\n",
    "    val uri: String,\n",
    "    val parentUri: String,\n",
    "    val rootUri: String,\n",
    "    val langs: List<String>,\n",
    ") {\n",
    "    companion object {\n",
    "        fun fromMap(entry: StreamEntry): Event {\n",
    "            val fields = entry.fields\n",
    "            return Event(\n",
    "                did = fields[\"did\"] ?: \"\",\n",
    "                rkey = fields[\"rkey\"] ?: \"\",\n",
    "                text = fields[\"text\"] ?: \"\",\n",
    "                timeUs = fields[\"timeUs\"] ?: \"\",\n",
    "                operation = fields[\"operation\"] ?: \"\",\n",
    "                uri = fields[\"uri\"] ?: \"\",\n",
    "                parentUri = fields[\"parentUri\"] ?: \"\",\n",
    "                rootUri = fields[\"rootUri\"] ?: \"\",\n",
    "                langs = fields[\"langs\"]?.replace(\"[\", \"\")?.replace(\"]\", \"\")?.split(\", \") ?: emptyList()\n",
    "            )\n",
    "        }\n",
    "    }\n",
    "}"
   ],
   "outputs": [],
   "execution_count": 58
  },
  {
   "metadata": {},
   "cell_type": "markdown",
   "source": [
    "### Creating a Redis Client\n",
    "Create a Jedis client to connect to Redis. This is a reusable client that can be used to interact with Redis Streams."
   ]
  },
  {
   "metadata": {
    "ExecuteTime": {
     "end_time": "2025-05-19T18:32:00.345653Z",
     "start_time": "2025-05-19T18:32:00.329977Z"
    }
   },
   "cell_type": "code",
   "source": [
    "import redis.clients.jedis.JedisPooled\n",
    "\n",
    "val jedisPooled = JedisPooled()"
   ],
   "outputs": [],
   "execution_count": 59
  },
  {
   "metadata": {},
   "cell_type": "markdown",
   "source": [
    "### Creating a Consumer Group\n",
    "Create a consumer group to read from the Redis Stream. A consumer group allows multiple consumers to read from the same stream without duplicating the work. Each consumer in the group will receive a different subset of the messages.\n",
    "\n",
    "A consumer group can be created in Redis with the XGROUP CREATE command:\n",
    "\n",
    "`XGROUP CREATE streamName groupName id [MKSTREAM]`\n",
    "\n",
    "To create a consumer group in this notebook, we will encapsulate the command in a function. The function will take the stream name and the group name as parameters."
   ]
  },
  {
   "metadata": {
    "ExecuteTime": {
     "end_time": "2025-05-19T18:32:00.369782Z",
     "start_time": "2025-05-19T18:32:00.347968Z"
    }
   },
   "cell_type": "code",
   "source": [
    "import redis.clients.jedis.StreamEntryID\n",
    "\n",
    "fun createConsumerGroup(streamName: String, consumerGroupName: String) {\n",
    "    try {\n",
    "        jedisPooled.xgroupCreate(streamName, consumerGroupName, StreamEntryID(\"0-0\"), true)\n",
    "    } catch (_: Exception) {\n",
    "        println(\"Group already exists\")\n",
    "    }\n",
    "}"
   ],
   "outputs": [],
   "execution_count": 60
  },
  {
   "metadata": {
    "ExecuteTime": {
     "end_time": "2025-05-19T18:32:00.389868Z",
     "start_time": "2025-05-19T18:32:00.372968Z"
    }
   },
   "cell_type": "code",
   "source": "createConsumerGroup(\"jetstream\", \"printer-example\")",
   "outputs": [
    {
     "name": "stdout",
     "output_type": "stream",
     "text": [
      "Group already exists\n"
     ]
    }
   ],
   "execution_count": 61
  },
  {
   "metadata": {},
   "cell_type": "markdown",
   "source": [
    "### Reading from the Stream\n",
    "Create a reusable function to read from the stream. This function will read from the stream and return a list of entries. It uses the XREADGROUP command to read from the stream as part of a consumer group:\n",
    "\n",
    "`XREADGROUP GROUP groupName consumerName COUNT count BLOCK blockTime streamName id`\n",
    "\n",
    "The command will be encapsulated in a function that takes the stream name, consumer group name, consumer name, and count as parameters. The function will return a list of entries."
   ]
  },
  {
   "metadata": {
    "ExecuteTime": {
     "end_time": "2025-05-19T18:32:00.424142Z",
     "start_time": "2025-05-19T18:32:00.394346Z"
    }
   },
   "cell_type": "code",
   "source": [
    "import redis.clients.jedis.params.XReadGroupParams\n",
    "\n",
    "fun readFromStream(\n",
    "    streamName: String,\n",
    "    consumerGroup: String,\n",
    "    consumer: String, count: Int\n",
    "): List<Map.Entry<String, List<StreamEntry>>> {\n",
    "    return jedisPooled.xreadGroup(\n",
    "        consumerGroup,\n",
    "        consumer,\n",
    "        XReadGroupParams().count(count),\n",
    "        mapOf(\n",
    "            streamName to StreamEntryID.XREADGROUP_UNDELIVERED_ENTRY\n",
    "        )\n",
    "    ) ?: emptyList()\n",
    "}"
   ],
   "outputs": [],
   "execution_count": 62
  },
  {
   "metadata": {},
   "cell_type": "markdown",
   "source": [
    "### Acknowledging Messages\n",
    "Create a function to acknowledge the message. This is important to let Redis know that the message has been processed successfully, so it won't be delivered to other consumers in the group.\n",
    "\n",
    "This is done by using the XACK command:\n",
    "\n",
    "`XACK streamName groupName id`\n",
    "\n",
    "The command will be encapsulated in a lambda function that takes the stream name, consumer group name, and entry as parameters. The function will acknowledge the message by calling the XACK command."
   ]
  },
  {
   "metadata": {
    "ExecuteTime": {
     "end_time": "2025-05-19T18:32:00.446213Z",
     "start_time": "2025-05-19T18:32:00.427053Z"
    }
   },
   "cell_type": "code",
   "source": [
    "fun ackFunction(): (String, String, StreamEntry) -> Unit {\n",
    "    return { streamName, consumerGroup, entry ->\n",
    "        jedisPooled.xack(\n",
    "            streamName,\n",
    "            consumerGroup,\n",
    "            entry.id\n",
    "        )\n",
    "    }\n",
    "}"
   ],
   "outputs": [],
   "execution_count": 63
  },
  {
   "metadata": {},
   "cell_type": "markdown",
   "source": [
    "### Consuming the Stream\n",
    "Create a reusable function to consume the stream.\n",
    "\n",
    "This function implements a pipeline pattern where each event is processed sequentially by a series of handlers. If any handler returns false, the processing stops for that event.\n",
    "\n",
    "After processing the event, the function acknowledges the message using the ack function."
   ]
  },
  {
   "metadata": {
    "ExecuteTime": {
     "end_time": "2025-05-19T18:32:00.478943Z",
     "start_time": "2025-05-19T18:32:00.448603Z"
    }
   },
   "cell_type": "code",
   "source": "%use coroutines",
   "outputs": [],
   "execution_count": 64
  },
  {
   "metadata": {
    "ExecuteTime": {
     "end_time": "2025-05-19T18:32:00.538852Z",
     "start_time": "2025-05-19T18:32:00.481936Z"
    }
   },
   "cell_type": "code",
   "source": [
    "import kotlinx.coroutines.*\n",
    "\n",
    "fun consumeStream(\n",
    "    streamName: String,\n",
    "    consumerGroup: String,\n",
    "    consumer: String,\n",
    "    handlers: List<(Event) -> Pair<Boolean, String>>,\n",
    "    ackFunction: ((String, String, StreamEntry) -> Unit),\n",
    "    count: Int = 5,\n",
    "    limit: Int = 5\n",
    ") {\n",
    "    var lastMessageTime = System.currentTimeMillis()\n",
    "    var consumed = 0\n",
    "\n",
    "    while (consumed < limit) {\n",
    "        val entries = readFromStream(streamName, consumerGroup, consumer, count)\n",
    "        val allEntries = entries.flatMap { it.value }\n",
    "        allEntries.map { entry ->\n",
    "            consumed++\n",
    "            val event = Event.fromMap(entry)\n",
    "\n",
    "            for (handler in handlers) {\n",
    "                val (shouldContinue, message) = handler(event)\n",
    "                ackFunction(streamName, consumerGroup, entry)\n",
    "\n",
    "                if (!shouldContinue) {\n",
    "                    println(\"$consumer: Handler stopped processing: $message\")\n",
    "                    break\n",
    "                }\n",
    "            }\n",
    "        }\n",
    "\n",
    "        if (allEntries.isEmpty()) {\n",
    "            val now = System.currentTimeMillis()\n",
    "            if (now - lastMessageTime >= 2_000) {\n",
    "                println(\"$consumer: No new messages for 2 seconds. Stopping.\")\n",
    "                break\n",
    "            }\n",
    "        }\n",
    "    }\n",
    "\n",
    "}"
   ],
   "outputs": [],
   "execution_count": 65
  },
  {
   "metadata": {},
   "cell_type": "markdown",
   "source": "To test the consumeStream function, we'll create a simple handler that prints the event's URI."
  },
  {
   "metadata": {
    "ExecuteTime": {
     "end_time": "2025-05-19T18:32:00.562817Z",
     "start_time": "2025-05-19T18:32:00.541507Z"
    }
   },
   "cell_type": "code",
   "source": [
    "val printUri: (Event) -> Pair<Boolean, String> = {\n",
    "    println(\"Got event from ${it.uri}\")\n",
    "    Pair(true, \"OK\")\n",
    "}"
   ],
   "outputs": [],
   "execution_count": 66
  },
  {
   "metadata": {
    "ExecuteTime": {
     "end_time": "2025-05-19T18:32:02.592156Z",
     "start_time": "2025-05-19T18:32:00.566330Z"
    }
   },
   "cell_type": "code",
   "source": [
    "runBlocking {\n",
    "    consumeStream(\n",
    "        streamName = \"jetstream\",\n",
    "        consumerGroup = \"printer-example\",\n",
    "        consumer =\"printer-1\",\n",
    "        handlers = listOf(printUri),\n",
    "        ackFunction = ackFunction(),\n",
    "        count = 100,\n",
    "        limit = 100\n",
    "    )\n",
    "}"
   ],
   "outputs": [
    {
     "name": "stdout",
     "output_type": "stream",
     "text": [
      "printer-1: No new messages for 2 seconds. Stopping.\n"
     ]
    }
   ],
   "execution_count": 67
  },
  {
   "metadata": {},
   "cell_type": "markdown",
   "source": [
    "## Deduplication with Bloom Filter\n",
    "Redis Bloom Filter is a probabilistic data structure that allows us to check if an element is in a set. It's very memory efficient and has a constant time complexity for both insertion and lookup operations.\n"
   ]
  },
  {
   "metadata": {},
   "cell_type": "markdown",
   "source": [
    "### Creating a Bloom Filter\n",
    "This function creates a Bloom Filter with the given name. The filter is configured with an error rate of 0.01 and an initial capacity of 1,000,000 elements."
   ]
  },
  {
   "metadata": {
    "ExecuteTime": {
     "end_time": "2025-05-19T18:32:02.625997Z",
     "start_time": "2025-05-19T18:32:02.599873Z"
    }
   },
   "cell_type": "code",
   "source": [
    "import redis.clients.jedis.bloom.BFReserveParams\n",
    "import redis.clients.jedis.exceptions.JedisDataException\n",
    "fun createBloomFilter(name: String) {\n",
    "    try {\n",
    "        val errorRate = 0.01\n",
    "        val capacity = 1_000_000L\n",
    "        val reserveParams = BFReserveParams().expansion(2)\n",
    "        jedisPooled.bfReserve(name, errorRate, capacity, reserveParams)\n",
    "    } catch (_: JedisDataException) {\n",
    "        println(\"Bloom filter already exists\")\n",
    "    }\n",
    "}"
   ],
   "outputs": [],
   "execution_count": 68
  },
  {
   "metadata": {},
   "cell_type": "markdown",
   "source": [
    "### Deduplication Handler\n",
    "This function creates a handler that checks if an event has already been processed by checking if its URI is in the Bloom Filter. If the URI is in the filter, the handler returns false, which stops the processing of the event.\n"
   ]
  },
  {
   "metadata": {
    "ExecuteTime": {
     "end_time": "2025-05-19T18:32:02.657227Z",
     "start_time": "2025-05-19T18:32:02.630036Z"
    }
   },
   "cell_type": "code",
   "source": [
    "fun deduplicate(bloomFilter: String): (Event) -> Pair<Boolean, String> {\n",
    "    return { event ->\n",
    "        if (jedisPooled.bfExists(bloomFilter, event.uri)) {\n",
    "            Pair(false, \"${event.uri} already processed\")\n",
    "        } else {\n",
    "            Pair(true, \"OK\")\n",
    "        }\n",
    "    }\n",
    "}"
   ],
   "outputs": [],
   "execution_count": 69
  },
  {
   "metadata": {},
   "cell_type": "markdown",
   "source": [
    "### Atomic Acknowledgment and Bloom Filter Update\n",
    "This function creates a handler that acknowledges the message and adds the URI to the Bloom Filter in a single atomic transaction. This ensures that if the acknowledgment succeeds, the URI is also added to the filter, and vice versa.\n"
   ]
  },
  {
   "metadata": {
    "ExecuteTime": {
     "end_time": "2025-05-19T18:32:02.695523Z",
     "start_time": "2025-05-19T18:32:02.660793Z"
    }
   },
   "cell_type": "code",
   "source": [
    "import redis.clients.jedis.Connection\n",
    "import redis.clients.jedis.JedisPool\n",
    "import redis.clients.jedis.Transaction\n",
    "\n",
    "val jedisPool = JedisPool()\n",
    "\n",
    "fun ackAndBfFn(bloomFilter: String):  (String, String, StreamEntry) -> Unit {\n",
    "    return { streamName, consumerGroup, entry ->\n",
    "        jedisPool.resource.use { jedis ->\n",
    "            // Create a transaction\n",
    "            val multi = jedis.multi()\n",
    "\n",
    "            // Acknowledge the message\n",
    "            multi.xack(\n",
    "                streamName,\n",
    "                consumerGroup,\n",
    "                entry.id\n",
    "            )\n",
    "\n",
    "            // Add the URI to the bloom filter\n",
    "            multi.bfAdd(bloomFilter, Event.fromMap(entry).uri)\n",
    "\n",
    "            // Execute the transaction\n",
    "            multi.exec()\n",
    "        }\n",
    "    }\n",
    "}"
   ],
   "outputs": [],
   "execution_count": 70
  },
  {
   "metadata": {
    "ExecuteTime": {
     "end_time": "2025-05-19T18:32:02.772306Z",
     "start_time": "2025-05-19T18:32:02.747833Z"
    }
   },
   "cell_type": "code",
   "source": "createConsumerGroup(\"jetstream\", \"deduplicate-example\")",
   "outputs": [
    {
     "name": "stdout",
     "output_type": "stream",
     "text": [
      "Group already exists\n"
     ]
    }
   ],
   "execution_count": 71
  },
  {
   "metadata": {
    "ExecuteTime": {
     "end_time": "2025-05-19T18:32:02.800718Z",
     "start_time": "2025-05-19T18:32:02.780483Z"
    }
   },
   "cell_type": "code",
   "source": [
    "val bloomFilterName = \"processed-uris\"\n",
    "createBloomFilter(\"processed-uris\")"
   ],
   "outputs": [
    {
     "name": "stdout",
     "output_type": "stream",
     "text": [
      "Bloom filter already exists\n"
     ]
    }
   ],
   "execution_count": 72
  },
  {
   "metadata": {
    "ExecuteTime": {
     "end_time": "2025-05-19T18:32:04.833203Z",
     "start_time": "2025-05-19T18:32:02.806136Z"
    }
   },
   "cell_type": "code",
   "source": [
    "runBlocking {\n",
    "    consumeStream(\n",
    "        streamName = \"jetstream\",\n",
    "        consumerGroup = \"deduplicate-example\",\n",
    "        consumer = \"deduplicate-1\",\n",
    "        handlers = listOf(deduplicate(bloomFilterName), printUri),\n",
    "        ackFunction = ackAndBfFn(bloomFilterName),\n",
    "        count = 100,\n",
    "        limit = 100\n",
    "    )\n",
    "}"
   ],
   "outputs": [
    {
     "name": "stdout",
     "output_type": "stream",
     "text": [
      "deduplicate-1: No new messages for 2 seconds. Stopping.\n"
     ]
    }
   ],
   "execution_count": 73
  },
  {
   "metadata": {},
   "cell_type": "markdown",
   "source": [
    "## Content-Based Filtering with Machine Learning\n",
    "In this section, we'll use a machine learning model to filter posts based on their content. We'll use a pre-trained zero-shot classification model to classify posts as software-related or not."
   ]
  },
  {
   "metadata": {},
   "cell_type": "markdown",
   "source": [
    "### Setting Up the Machine Learning Model\n",
    "To load the model, we'll use the DJL (Deep Java Library) library. DJL is a high-level framework for deep learning in Java that provides a simple and consistent API for loading and using models."
   ]
  },
  {
   "metadata": {
    "ExecuteTime": {
     "end_time": "2025-05-19T18:32:04.896855Z",
     "start_time": "2025-05-19T18:32:04.838673Z"
    }
   },
   "cell_type": "code",
   "source": [
    "@file:DependsOn(\"ai.djl.huggingface:tokenizers:0.33.0\")\n",
    "@file:DependsOn(\"ai.djl.pytorch:pytorch-engine:0.33.0\")\n",
    "@file:DependsOn(\"ai.djl:api:0.33.0\")\n",
    "@file:DependsOn(\"ai.djl:model-zoo:0.33.0\")"
   ],
   "outputs": [],
   "execution_count": 74
  },
  {
   "metadata": {},
   "cell_type": "markdown",
   "source": [
    "### Creating the Model Criteria\n",
    "The criteria is used to load the model and create a predictor. The criteria specifies the model path, the engine to use (in this case, PyTorch), and the translator to use.\n"
   ]
  },
  {
   "metadata": {
    "ExecuteTime": {
     "end_time": "2025-05-19T18:32:05.062613Z",
     "start_time": "2025-05-19T18:32:04.899935Z"
    }
   },
   "cell_type": "code",
   "source": [
    "import ai.djl.huggingface.tokenizers.HuggingFaceTokenizer\n",
    "import ai.djl.huggingface.translator.ZeroShotClassificationTranslator\n",
    "import ai.djl.huggingface.translator.ZeroShotClassificationTranslatorFactory\n",
    "import ai.djl.modality.nlp.translator.ZeroShotClassificationInput\n",
    "import ai.djl.modality.nlp.translator.ZeroShotClassificationOutput\n",
    "import ai.djl.repository.zoo.Criteria\n",
    "import dev.raphaeldelio.CustomZeroShotClassificationTranslator\n",
    "import java.nio.file.Paths\n",
    "import kotlin.io.path.listDirectoryEntries\n",
    "\n",
    "val tokenizer = HuggingFaceTokenizer.newInstance(Paths.get(\"/Users/raphaeldelio/Documents/GitHub/redis/kotlinconf-bsky-bot/kotlin-notebooks/notebooks/resources/model/DeBERTa-v3-large-mnli-fever-anli-ling-wanli/tokenizer.json\"))\n",
    "\n",
    "val translator = CustomZeroShotClassificationTranslator.builder(tokenizer).build()\n",
    "\n",
    "val criteria: Criteria<ZeroShotClassificationInput, ZeroShotClassificationOutput> = Criteria.builder()\n",
    "    .setTypes(\n",
    "        ZeroShotClassificationInput::class.java,\n",
    "        ZeroShotClassificationOutput::class.java\n",
    "    )\n",
    "    .optModelPath(Paths.get(\"resources/model/DeBERTa-v3-large-mnli-fever-anli-ling-wanli\"))\n",
    "    .optEngine(\"PyTorch\")\n",
    "    .optTranslator(translator)\n",
    "    .build()\n"
   ],
   "outputs": [],
   "execution_count": 75
  },
  {
   "metadata": {},
   "cell_type": "markdown",
   "source": [
    "### Loading the Model\n",
    "Now we'll load the model and create a predictor. The predictor is used to make predictions with the model.\n"
   ]
  },
  {
   "metadata": {
    "ExecuteTime": {
     "end_time": "2025-05-19T18:32:05.669605Z",
     "start_time": "2025-05-19T18:32:05.065940Z"
    }
   },
   "cell_type": "code",
   "source": [
    "import ai.djl.repository.zoo.ModelZoo\n",
    "\n",
    "val model = ModelZoo.loadModel(criteria)\n",
    "val predictor = model.newPredictor()"
   ],
   "outputs": [],
   "execution_count": 76
  },
  {
   "metadata": {},
   "cell_type": "markdown",
   "source": [
    "### Creating a Classification Function\n",
    "Now we'll create a function to classify text using the model.\n",
    "\n",
    "The function takes a text as input and returns a classification output. The classification output contains the probabilities for each candidate label.\n"
   ]
  },
  {
   "metadata": {
    "ExecuteTime": {
     "end_time": "2025-05-19T18:32:05.715731Z",
     "start_time": "2025-05-19T18:32:05.677642Z"
    }
   },
   "cell_type": "code",
   "source": [
    "import ai.djl.modality.nlp.translator.ZeroShotClassificationOutput\n",
    "\n",
    "fun classify(premise: String): ZeroShotClassificationOutput {\n",
    "    val candidateLabels = listOf(\"politics\", \"american politics\", \"european politics\")\n",
    "    val input = ZeroShotClassificationInput(premise, candidateLabels.toTypedArray(), true, \"{}\")\n",
    "    return predictor.predict(input)\n",
    "}"
   ],
   "outputs": [],
   "execution_count": 77
  },
  {
   "metadata": {},
   "cell_type": "markdown",
   "source": [
    "### Creating a Filter Handler\n",
    "Now we'll create a handler that filters events based on their content.\n",
    "\n",
    "The handler uses the classification function to determine if a post is software-related.\n",
    "\n",
    "If the post is not software-related, the handler returns false, which stops the processing of the event.\n"
   ]
  },
  {
   "metadata": {
    "ExecuteTime": {
     "end_time": "2025-05-19T18:32:05.829136Z",
     "start_time": "2025-05-19T18:32:05.725740Z"
    }
   },
   "cell_type": "code",
   "source": [
    "val filter: (Event) -> Pair<Boolean, String> = { event ->\n",
    "    if (event.text.isNotBlank() && event.operation != \"delete\") {\n",
    "        val classification = classify(event.text)\n",
    "        if (classification.scores.any { it > 0.90 }) {\n",
    "            Pair(true, \"OK\")\n",
    "        } else {\n",
    "            Pair(false, \"Not a post related to politics\")\n",
    "        }\n",
    "    } else {\n",
    "        Pair(false, \"Text is null or empty\")\n",
    "    }\n",
    "}"
   ],
   "outputs": [],
   "execution_count": 78
  },
  {
   "metadata": {},
   "cell_type": "markdown",
   "source": [
    "## Storing Filtered Events\n",
    "In this section, we'll store the filtered events in Redis for further processing.\n"
   ]
  },
  {
   "metadata": {},
   "cell_type": "markdown",
   "source": [
    "### Converting Events to Maps\n",
    "First, we need a function to convert an Event object to a Map that can be stored in Redis as a Hash."
   ]
  },
  {
   "metadata": {
    "ExecuteTime": {
     "end_time": "2025-05-19T18:32:05.881224Z",
     "start_time": "2025-05-19T18:32:05.834043Z"
    }
   },
   "cell_type": "code",
   "source": [
    "import dev.raphaeldelio.*\n",
    "\n",
    "fun Event.toMap() = mapOf(\n",
    "    \"did\" to this.did,\n",
    "    \"timeUs\" to this.timeUs,\n",
    "    \"text\" to this.text,\n",
    "    \"langs\" to this.langs.joinToString(\"|\"),\n",
    "    \"operation\" to this.operation,\n",
    "    \"rkey\" to this.rkey,\n",
    "    \"parentUri\" to this.parentUri,\n",
    "    \"rootUri\" to this.rootUri,\n",
    "    \"uri\" to this.uri\n",
    ")"
   ],
   "outputs": [],
   "execution_count": 79
  },
  {
   "metadata": {},
   "cell_type": "markdown",
   "source": [
    "### Storing Events in Redis\n",
    "Now we'll create a handler that stores events in Redis. The handler stores the event as a hash in Redis, with the key being the event's URI.\n"
   ]
  },
  {
   "metadata": {
    "ExecuteTime": {
     "end_time": "2025-05-19T18:32:05.918476Z",
     "start_time": "2025-05-19T18:32:05.884845Z"
    }
   },
   "cell_type": "code",
   "source": [
    "val storeEvent: (Event) -> Pair<Boolean, String> = { event ->\n",
    "    jedisPooled.hset(\"post:\" + event.uri, event.toMap())\n",
    "    Pair(true, \"OK\")\n",
    "}"
   ],
   "outputs": [],
   "execution_count": 80
  },
  {
   "metadata": {},
   "cell_type": "markdown",
   "source": [
    "### Adding Filtered Events to a New Stream\n",
    "Finally, we'll create a handler that adds filtered events to a new stream. This allows other consumers to process only the filtered events, rather than having to filter the events themselves.\n"
   ]
  },
  {
   "metadata": {
    "ExecuteTime": {
     "end_time": "2025-05-19T18:32:05.957419Z",
     "start_time": "2025-05-19T18:32:05.924079Z"
    }
   },
   "cell_type": "code",
   "source": [
    "import redis.clients.jedis.params.XAddParams\n",
    "\n",
    "val addFilteredEventToStream: (Event) -> Pair<Boolean, String> = { event ->\n",
    "    jedisPooled.xadd(\n",
    "        \"filtered-events\",\n",
    "        XAddParams.xAddParams()\n",
    "            .id(StreamEntryID.NEW_ENTRY)\n",
    "            .maxLen(1_000_000)\n",
    "            .exactTrimming(),\n",
    "        event.toMap()\n",
    "    )\n",
    "    Pair(true, \"OK\")\n",
    "}"
   ],
   "outputs": [],
   "execution_count": 81
  },
  {
   "metadata": {
    "ExecuteTime": {
     "end_time": "2025-05-19T18:32:05.981417Z",
     "start_time": "2025-05-19T18:32:05.961850Z"
    }
   },
   "cell_type": "code",
   "source": "createConsumerGroup(\"jetstream\", \"store-example\")",
   "outputs": [],
   "execution_count": 82
  },
  {
   "metadata": {
    "ExecuteTime": {
     "end_time": "2025-05-19T18:32:06.004850Z",
     "start_time": "2025-05-19T18:32:05.984906Z"
    }
   },
   "cell_type": "code",
   "source": [
    "val bloomFilterName = \"store-bf\"\n",
    "createBloomFilter(bloomFilterName)"
   ],
   "outputs": [
    {
     "name": "stdout",
     "output_type": "stream",
     "text": [
      "Bloom filter already exists\n"
     ]
    }
   ],
   "execution_count": 83
  },
  {
   "metadata": {},
   "cell_type": "markdown",
   "source": [
    "## Putting It All Together\n",
    "Now we'll put all the pieces together to create a complete pipeline for filtering events from the Redis Stream.\n",
    "\n",
    "In this example we create two consumers that will process the same stream.\n",
    "- By doing that, we can scale the processing of the events by adding more consumers to the group.\n",
    "- Redis will make sure that each consumer will receive different messages.\n"
   ]
  },
  {
   "metadata": {
    "ExecuteTime": {
     "end_time": "2025-05-19T18:32:43.347639Z",
     "start_time": "2025-05-19T18:32:06.012652Z"
    }
   },
   "cell_type": "code",
   "source": [
    "runBlocking {\n",
    "        listOf(\n",
    "            async(Dispatchers.IO) {\n",
    "                consumeStream(\n",
    "                    streamName = \"jetstream\",\n",
    "                    consumerGroup = \"store-example\",\n",
    "                    consumer = \"store-1\",\n",
    "                    handlers = listOf(\n",
    "                        deduplicate(bloomFilterName),\n",
    "                        filter,\n",
    "                        printUri,\n",
    "                        storeEvent,\n",
    "                        addFilteredEventToStream\n",
    "                    ),\n",
    "                    ackFunction = ackAndBfFn(bloomFilterName),\n",
    "                    count = 5,\n",
    "                    limit = 100\n",
    "                )\n",
    "            },\n",
    "            async(Dispatchers.IO) {\n",
    "                consumeStream(\n",
    "                    streamName = \"jetstream\",\n",
    "                    consumerGroup = \"store-example\",\n",
    "                    consumer = \"store-2\", // Different consumer\n",
    "                    handlers = listOf(\n",
    "                        deduplicate(bloomFilterName),\n",
    "                        filter,\n",
    "                        printUri,\n",
    "                        storeEvent,\n",
    "                        addFilteredEventToStream\n",
    "                    ),\n",
    "                    ackFunction = ackAndBfFn(bloomFilterName),\n",
    "                    count = 5,\n",
    "                    limit = 100\n",
    "                )\n",
    "            }\n",
    "        ).awaitAll()\n",
    "}"
   ],
   "outputs": [
    {
     "name": "stdout",
     "output_type": "stream",
     "text": [
      "Got event from at://did:plc:hes7qmqsxebul32jq7zzsf3q/app.bsky.feed.post/3lpk76yly6k2a\n",
      "store-1: Handler stopped processing: Not a post related to politics\n",
      "store-2: Handler stopped processing: Not a post related to politics\n",
      "store-1: Handler stopped processing: Not a post related to politics\n",
      "store-2: Handler stopped processing: Not a post related to politics\n",
      "store-2: Handler stopped processing: Not a post related to politics\n",
      "Got event from at://did:plc:7y52dzwyzgajqqwos3cb4wx7/app.bsky.feed.post/3lpk76xppv22u\n",
      "store-1: Handler stopped processing: at://did:plc:teu3oy2ay2okhyfr3sdlfup4/app.bsky.feed.post/null already processed\n",
      "store-2: Handler stopped processing: Not a post related to politics\n",
      "store-1: Handler stopped processing: Not a post related to politics\n",
      "Got event from at://did:plc:k4roswoynx4n3542b5cu3yem/app.bsky.feed.post/3lpk76yszrc2l\n",
      "store-2: Handler stopped processing: Not a post related to politics\n",
      "store-2: Handler stopped processing: Text is null or empty\n",
      "store-1: Handler stopped processing: Not a post related to politics\n",
      "store-2: Handler stopped processing: Not a post related to politics\n",
      "store-2: Handler stopped processing: at://did:plc:xmryzdfd6ccbnngzhk3ehoyb/app.bsky.feed.post/null already processed\n",
      "store-1: Handler stopped processing: Not a post related to politics\n",
      "store-2: Handler stopped processing: Not a post related to politics\n",
      "store-1: Handler stopped processing: Not a post related to politics\n",
      "store-1: Handler stopped processing: Text is null or empty\n",
      "store-2: Handler stopped processing: Not a post related to politics\n",
      "store-1: Handler stopped processing: Not a post related to politics\n",
      "store-2: Handler stopped processing: Not a post related to politics\n",
      "Got event from at://did:plc:g6zwrm4kjmbnfqbokyom5j7l/app.bsky.feed.post/3lpk76vybhs2l\n",
      "store-2: Handler stopped processing: Not a post related to politics\n",
      "Got event from at://did:plc:tt3lfxqncisvlwnmv7mlstxo/app.bsky.feed.post/3lpk76yxv222x\n",
      "store-2: Handler stopped processing: Not a post related to politics\n",
      "store-1: Handler stopped processing: Not a post related to politics\n",
      "store-2: Handler stopped processing: Not a post related to politics\n",
      "store-1: Handler stopped processing: Not a post related to politics\n",
      "store-2: Handler stopped processing: Not a post related to politics\n",
      "Got event from at://did:plc:tyaubqegekmpfnnbe5akgeil/app.bsky.feed.post/3lpk76yohbs2s\n",
      "store-2: Handler stopped processing: Not a post related to politics\n",
      "store-1: Handler stopped processing: Not a post related to politics\n",
      "store-2: Handler stopped processing: Not a post related to politics\n",
      "store-1: Handler stopped processing: Not a post related to politics\n",
      "store-2: Handler stopped processing: Not a post related to politics\n",
      "store-2: Handler stopped processing: Not a post related to politics\n",
      "Got event from at://did:plc:dvsuizfvq4rtg2owl5e4g7cn/app.bsky.feed.post/3lpk76zat6c2f\n",
      "store-2: Handler stopped processing: Not a post related to politics\n",
      "store-1: Handler stopped processing: Not a post related to politics\n",
      "store-1: Handler stopped processing: Text is null or empty\n",
      "Got event from at://did:plc:tlbmqcdjdhbcd2ep44davsm4/app.bsky.feed.post/3lpk76zl5as2i\n",
      "store-2: Handler stopped processing: Not a post related to politics\n",
      "store-1: Handler stopped processing: Not a post related to politics\n",
      "store-2: Handler stopped processing: Not a post related to politics\n",
      "store-1: Handler stopped processing: Not a post related to politics\n",
      "store-1: Handler stopped processing: Not a post related to politics\n",
      "store-2: Handler stopped processing: Not a post related to politics\n",
      "Got event from at://did:plc:spcqri5vyosvjqjlb2yk4rwp/app.bsky.feed.post/3lpk76zkjps22\n",
      "Got event from at://did:plc:53ddj7fogb34edotbjh4npad/app.bsky.feed.post/3lpk76zacl22d\n",
      "store-1: Handler stopped processing: Not a post related to politics\n",
      "Got event from at://did:plc:s6zgehxsshm4jwylcereuhaj/app.bsky.feed.post/3lpk76z5vgc2r\n",
      "store-1: Handler stopped processing: Not a post related to politics\n",
      "store-1: Handler stopped processing: Not a post related to politics\n",
      "store-2: Handler stopped processing: Not a post related to politics\n",
      "store-1: Handler stopped processing: Not a post related to politics\n",
      "store-1: Handler stopped processing: Text is null or empty\n",
      "store-2: Handler stopped processing: Not a post related to politics\n",
      "store-1: Handler stopped processing: Not a post related to politics\n",
      "store-2: Handler stopped processing: Not a post related to politics\n",
      "store-1: Handler stopped processing: Not a post related to politics\n",
      "store-2: Handler stopped processing: Not a post related to politics\n",
      "store-2: Handler stopped processing: Text is null or empty\n",
      "store-2: Handler stopped processing: Not a post related to politics\n",
      "store-1: Handler stopped processing: Not a post related to politics\n",
      "store-1: Handler stopped processing: Text is null or empty\n",
      "store-2: Handler stopped processing: Not a post related to politics\n",
      "store-2: Handler stopped processing: Not a post related to politics\n",
      "store-1: Handler stopped processing: Not a post related to politics\n",
      "store-2: Handler stopped processing: Not a post related to politics\n",
      "store-1: Handler stopped processing: Not a post related to politics\n",
      "store-1: Handler stopped processing: Not a post related to politics\n",
      "store-2: Handler stopped processing: Not a post related to politics\n",
      "store-1: Handler stopped processing: Not a post related to politics\n",
      "store-2: Handler stopped processing: Not a post related to politics\n",
      "Got event from at://did:plc:jlloe75k2eegbd555bpr4miz/app.bsky.feed.post/3lpk76zkmnk2d\n",
      "store-1: Handler stopped processing: Not a post related to politics\n",
      "store-2: Handler stopped processing: Not a post related to politics\n",
      "store-1: Handler stopped processing: Not a post related to politics\n",
      "store-2: Handler stopped processing: Not a post related to politics\n",
      "store-1: Handler stopped processing: Not a post related to politics\n",
      "store-2: Handler stopped processing: Not a post related to politics\n",
      "store-2: Handler stopped processing: Text is null or empty\n",
      "store-2: Handler stopped processing: Text is null or empty\n",
      "store-1: Handler stopped processing: Not a post related to politics\n",
      "store-2: Handler stopped processing: Not a post related to politics\n",
      "store-1: Handler stopped processing: Not a post related to politics\n",
      "store-2: Handler stopped processing: Not a post related to politics\n",
      "store-1: Handler stopped processing: Not a post related to politics\n",
      "store-2: Handler stopped processing: Not a post related to politics\n",
      "store-1: Handler stopped processing: Not a post related to politics\n",
      "store-2: Handler stopped processing: Not a post related to politics\n",
      "store-1: Handler stopped processing: Not a post related to politics\n",
      "store-1: Handler stopped processing: Not a post related to politics\n",
      "store-2: Handler stopped processing: Not a post related to politics\n",
      "store-1: Handler stopped processing: Not a post related to politics\n",
      "store-2: Handler stopped processing: Not a post related to politics\n",
      "store-2: No new messages for 2 seconds. Stopping.\n",
      "store-1: Handler stopped processing: Not a post related to politics\n",
      "store-1: Handler stopped processing: Text is null or empty\n",
      "store-1: No new messages for 2 seconds. Stopping.\n"
     ]
    },
    {
     "data": {
      "text/plain": [
       "[kotlin.Unit, kotlin.Unit]"
      ]
     },
     "execution_count": 84,
     "metadata": {},
     "output_type": "execute_result"
    }
   ],
   "execution_count": 84
  },
  {
   "metadata": {},
   "cell_type": "markdown",
   "source": [
    "## Next Steps\n",
    "In the next notebook, we'll enrich the filtered events with additional information, such as topic modeling and embeddings for semantic search.\n"
   ]
  }
 ],
 "metadata": {
  "kernelspec": {
   "display_name": "Kotlin",
   "language": "kotlin",
   "name": "kotlin"
  },
  "language_info": {
   "name": "kotlin",
   "version": "1.9.23",
   "mimetype": "text/x-kotlin",
   "file_extension": ".kt",
   "pygments_lexer": "kotlin",
   "codemirror_mode": "text/x-kotlin",
   "nbconvert_exporter": ""
  },
  "ktnbPluginMetadata": {
   "projectLibraries": false,
   "projectDependencies": [
    "kotlinconf-bsky-bot.kotlin-notebooks.main"
   ]
  }
 },
 "nbformat": 4,
 "nbformat_minor": 0
}
