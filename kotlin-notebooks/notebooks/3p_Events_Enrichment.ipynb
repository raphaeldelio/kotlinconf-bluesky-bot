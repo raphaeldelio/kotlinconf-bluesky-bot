{
 "cells": [
  {
   "metadata": {},
   "cell_type": "markdown",
   "source": "# Enriching Filtered Events"
  },
  {
   "metadata": {},
   "cell_type": "markdown",
   "source": [
    "In this notebook, we'll enrich the filtered events from the previous notebook with additional information. We'll use a combination of techniques to enrich the events:\n",
    "\n",
    "1. Topic modeling using a Large Language Model (LLM) to extract topics from the posts\n"
   ]
  },
  {
   "metadata": {},
   "cell_type": "markdown",
   "source": [
    "## Topic Modeling with Large Language Models\n",
    "Topic modeling is a technique used to discover abstract topics in a collection of documents. In this notebook, we'll use a Large Language Model to extract topics from posts. This will allow us to categorize posts and make them more searchable."
   ]
  },
  {
   "metadata": {},
   "cell_type": "markdown",
   "source": [
    "### Setting Up the Ollama API Client\n",
    "We'll use the Spring AI Ollama client to interact with the Ollama API.\n",
    "\n",
    "Ollama is a tool that allows us to run large language models locally."
   ]
  },
  {
   "metadata": {
    "ExecuteTime": {
     "end_time": "2025-05-22T18:47:17.244370Z",
     "start_time": "2025-05-22T18:47:16.657515Z"
    }
   },
   "cell_type": "code",
   "source": [
    "%use coroutines\n",
    "@file:DependsOn(\"org.springframework.ai:spring-ai-ollama:1.0.0-RC1\")"
   ],
   "outputs": [],
   "execution_count": 18
  },
  {
   "metadata": {},
   "cell_type": "markdown",
   "source": "The prompt we'll use for the LLM is designed to extract software-related topics from posts. The prompt includes examples of how to format the output and what types of topics to include."
  },
  {
   "metadata": {
    "ExecuteTime": {
     "end_time": "2025-05-22T18:47:18.727623Z",
     "start_time": "2025-05-22T18:47:18.693978Z"
    }
   },
   "cell_type": "code",
   "source": [
    "import java.io.File\n",
    "\n",
    "val topicModelingSystemPrompt = File(\"resources/topic-extractor-prompt.txt\").readText()"
   ],
   "outputs": [],
   "execution_count": 19
  },
  {
   "metadata": {},
   "cell_type": "markdown",
   "source": "Create the Ollama Chat Model"
  },
  {
   "metadata": {
    "ExecuteTime": {
     "end_time": "2025-05-22T18:47:29.753131Z",
     "start_time": "2025-05-22T18:47:29.697256Z"
    }
   },
   "cell_type": "code",
   "source": [
    "import org.springframework.ai.ollama.OllamaChatModel\n",
    "import org.springframework.ai.ollama.api.OllamaApi\n",
    "import org.springframework.ai.ollama.api.OllamaApi.ChatRequest\n",
    "import org.springframework.ai.ollama.api.OllamaApi.Message\n",
    "import org.springframework.ai.ollama.api.OllamaApi.Message.Role\n",
    "import org.springframework.ai.ollama.api.OllamaOptions\n",
    "\n",
    "val ollamaApi = OllamaApi.builder()\n",
    "    .baseUrl(\"http://localhost:11434\")\n",
    "    .build()\n",
    "\n",
    "val ollamaOptions = OllamaOptions.builder().model(\"deepseek-coder-v2\").build()\n",
    "\n",
    "val ollamaChatModel = OllamaChatModel.builder()\n",
    "    .ollamaApi(ollamaApi)\n",
    "    .defaultOptions(ollamaOptions)\n",
    "    .build()"
   ],
   "outputs": [],
   "execution_count": 20
  },
  {
   "metadata": {},
   "cell_type": "markdown",
   "source": [
    "### Creating a Topic Modeling Function\n",
    "This function takes a post as input and uses the Ollama API to extract topics from the post. The function returns a string of comma-separated topics."
   ]
  },
  {
   "metadata": {
    "ExecuteTime": {
     "end_time": "2025-05-22T18:47:34.756093Z",
     "start_time": "2025-05-22T18:47:34.713175Z"
    }
   },
   "cell_type": "code",
   "source": [
    "import org.springframework.ai.chat.messages.SystemMessage\n",
    "import org.springframework.ai.chat.messages.UserMessage\n",
    "import org.springframework.ai.chat.prompt.Prompt\n",
    "import dev.raphaeldelio.*\n",
    "\n",
    "fun extractTopics(post: String, existingTopics: String): String {\n",
    "    val messages = listOf(\n",
    "        SystemMessage(topicModelingSystemPrompt),\n",
    "        UserMessage(\"Existing topics: $existingTopics\"),\n",
    "        UserMessage(\"Post: $post\")\n",
    "    )\n",
    "\n",
    "    val response = ollamaChatModel.call(Prompt(messages))\n",
    "    return response.result.output.text ?: \"\"\n",
    "}"
   ],
   "outputs": [],
   "execution_count": 21
  },
  {
   "metadata": {
    "ExecuteTime": {
     "end_time": "2025-05-22T18:47:44.207442Z",
     "start_time": "2025-05-22T18:47:36.913795Z"
    }
   },
   "cell_type": "code",
   "source": "extractTopics(\"Kotlin is a great programming language for beginners who wants to build Agentic AI apps\", \"\")",
   "outputs": [
    {
     "data": {
      "text/plain": [
       " \"Kotlin, Programming Languages, Beginner Guides, AI Applications\""
      ]
     },
     "execution_count": 22,
     "metadata": {},
     "output_type": "execute_result"
    }
   ],
   "execution_count": 22
  },
  {
   "metadata": {
    "ExecuteTime": {
     "end_time": "2025-05-22T18:47:48.107318Z",
     "start_time": "2025-05-22T18:47:47.631566Z"
    }
   },
   "cell_type": "code",
   "source": "extractTopics(\"Brazilian samba is a great music genre for dancing\", \"\")",
   "outputs": [
    {
     "data": {
      "text/plain": [
       " \"\""
      ]
     },
     "execution_count": 23,
     "metadata": {},
     "output_type": "execute_result"
    }
   ],
   "execution_count": 23
  },
  {
   "metadata": {},
   "cell_type": "markdown",
   "source": "### Counting how many times a topic appears"
  },
  {
   "metadata": {},
   "cell_type": "markdown",
   "source": "Topk is a probabilistic data structure used for counting the number of occurrences of items in a stream. It is particularly useful for counting the number of occurrences of items in a large dataset without storing all the items explicitly."
  },
  {
   "metadata": {
    "ExecuteTime": {
     "end_time": "2025-05-22T18:47:55.717711Z",
     "start_time": "2025-05-22T18:47:55.657389Z"
    }
   },
   "cell_type": "code",
   "source": [
    "import redis.clients.jedis.exceptions.JedisDataException\n",
    "import java.time.LocalDateTime\n",
    "\n",
    "fun createTopK(): String {\n",
    "    val windowBucket = LocalDateTime.now().withMinute(0).withSecond(0).withNano(0)\n",
    "    try {\n",
    "        jedisPooled.topkReserve(\"topics-topk:$windowBucket\", 15, 3000, 10, 0.9)\n",
    "    } catch (_: JedisDataException) {\n",
    "        println(\"TopK already exists\")\n",
    "    }\n",
    "\n",
    "    return \"topics-topk:$windowBucket\"\n",
    "}"
   ],
   "outputs": [],
   "execution_count": 24
  },
  {
   "metadata": {},
   "cell_type": "markdown",
   "source": [
    "### Creating a Topic Extraction Handler\n",
    "This function creates a handler that extracts topics from an event's text and stores them in Redis. The topics are stored as a pipe-separated string in the \"topics\" field of the event's hash."
   ]
  },
  {
   "metadata": {
    "ExecuteTime": {
     "end_time": "2025-05-22T18:49:08.592076Z",
     "start_time": "2025-05-22T18:49:08.465643Z"
    }
   },
   "cell_type": "code",
   "source": [
    "val extractTopics: (Event) -> Pair<Boolean, String> = { event ->\n",
    "    val existingTopics = jedisPooled.smembers(\"topics\")\n",
    "    val topics = extractTopics(event.text, existingTopics.joinToString(\", \"))\n",
    "        .replace(\"\\\"\", \"\")\n",
    "        .replace(\"“\", \"\")\n",
    "        .replace(\"”\", \"\")\n",
    "        .split(\",\")\n",
    "        .map { it.trim() }\n",
    "        .filter { it.isNotBlank() }\n",
    "\n",
    "    val topKKey = createTopK()\n",
    "    if (topics.isNotEmpty()) {\n",
    "        // TODO\n",
    "        jedisPooled.topkAdd(topKKey, *topics.toTypedArray())\n",
    "        jedisPooled.hset(\"post:\" + event.uri.replace(\"at://did:plc:\", \"\"), mapOf(\"topics\" to topics.joinToString(\"|\")))\n",
    "        jedisPooled.sadd(\"topics\", *topics.toTypedArray())\n",
    "    }\n",
    "    Pair(true, \"OK\")\n",
    "}"
   ],
   "outputs": [],
   "execution_count": 30
  },
  {
   "metadata": {
    "ExecuteTime": {
     "end_time": "2025-05-22T18:48:06.557887Z",
     "start_time": "2025-05-22T18:48:06.530016Z"
    }
   },
   "cell_type": "code",
   "source": "createConsumerGroup(\"filtered-events\", \"topic-extraction-example\")",
   "outputs": [],
   "execution_count": 26
  },
  {
   "metadata": {
    "ExecuteTime": {
     "end_time": "2025-05-22T18:49:19.663174Z",
     "start_time": "2025-05-22T18:49:10.416660Z"
    }
   },
   "cell_type": "code",
   "source": [
    "runBlocking {\n",
    "    consumeStream(\n",
    "        streamName = \"filtered-events\",\n",
    "        consumerGroup = \"topic-extraction-example\",\n",
    "        consumer = \"topic-extraction-1\",\n",
    "        handlers = listOf(printUri, extractTopics),\n",
    "        ackFunction = ackFn(),\n",
    "        count = 1,\n",
    "        limit = 100\n",
    "    )\n",
    "}"
   ],
   "outputs": [
    {
     "name": "stdout",
     "output_type": "stream",
     "text": [
      "Got event from at://did:plc:xpulmjc4mplz5utxvkojmins/app.bsky.feed.post/3lprrhtzifc2g\n",
      "TopK already exists\n",
      "Got event from at://did:plc:a4jeetwjhsl6oqooqjchescf/app.bsky.feed.post/3lprrhua7ac24\n",
      "TopK already exists\n",
      "Got event from at://did:plc:zkpgnrqqrcqa7ysw6lhzn6r5/app.bsky.feed.post/3lprrhx6np22x\n",
      "TopK already exists\n",
      "Got event from at://did:plc:3m2vd5b23axzlqmtgj643qms/app.bsky.feed.post/3lprrhwssvi2o\n",
      "TopK already exists\n",
      "Got event from at://did:plc:effjhs33nq2ehulyo35up2j2/app.bsky.feed.post/3lprri4ooj226\n",
      "TopK already exists\n",
      "Got event from at://did:plc:5sc2irakhrj7dluuxddjpg7g/app.bsky.feed.post/3lprri4ru6y24\n",
      "TopK already exists\n",
      "Got event from at://did:plc:7d5uxrm2r4ynpk5zln42ow44/app.bsky.feed.post/3lprriqkry22c\n",
      "TopK already exists\n",
      "Got event from at://did:plc:qgpyaecnnfe5f3ignbi5iuml/app.bsky.feed.post/3lprrisv5uc2s\n",
      "TopK already exists\n",
      "Got event from at://did:plc:zbtmfb6kki4bb7ijn3kooptx/app.bsky.feed.post/3lprriw3kzq26\n",
      "TopK already exists\n",
      "Got event from at://did:plc:pmyzey3h32w7jk6ss55qfjzl/app.bsky.feed.post/3lprriwxnnc23\n",
      "TopK already exists\n",
      "Got event from at://did:plc:rv4v7wictih7guni6lez3wwi/app.bsky.feed.post/3lprrirwncc22\n",
      "TopK already exists\n",
      "Got event from at://did:plc:qilklzeybzfawbe5lxgtgyyw/app.bsky.feed.post/3lprriyylg22k\n",
      "TopK already exists\n",
      "Got event from at://did:plc:2sh6zkj6hhrpx5ywfxqw7efx/app.bsky.feed.post/3lprriurapk2b\n",
      "TopK already exists\n",
      "Got event from at://did:plc:3pj6u3zlnzjbdd3re4zkfknd/app.bsky.feed.post/3lprrizj66u2z\n",
      "TopK already exists\n",
      "Got event from at://did:plc:ohzkhmk4zuasbrrfr3xwyf6c/app.bsky.feed.post/3lprrjbcpfc2a\n",
      "TopK already exists\n",
      "Got event from at://did:plc:fz7iybqqvg6tb7yfayvdsyoq/app.bsky.feed.post/3lprrjfjvks2r\n",
      "TopK already exists\n",
      "Got event from at://did:plc:pacn4jb5tkpf3dax35hauoqu/app.bsky.feed.post/3lprrjko6fk27\n",
      "TopK already exists\n",
      "Got event from at://did:plc:f5xme3lku5vxbrih5iarrre3/app.bsky.feed.post/3lprrjkr7742g\n",
      "TopK already exists\n",
      "topic-extraction-1: No new messages for 2 seconds. Stopping.\n"
     ]
    }
   ],
   "execution_count": 31
  },
  {
   "metadata": {},
   "cell_type": "markdown",
   "source": [
    "## Creating a Redis Search Index\n",
    "In this section, we'll create a Redis Search index to make the enriched events searchable. Redis Search is a module that adds full-text search capabilities to Redis. It allows us to search for events based on their text, topics, and other fields."
   ]
  },
  {
   "metadata": {},
   "cell_type": "markdown",
   "source": [
    "### Creating the Index Schema in Code\n",
    "Now we'll create the index schema in code. We'll use the Jedis client to create the schema and the index.\n",
    "\n",
    "The following schema defines the fields that will be indexed. The schema includes:\n",
    "- Text fields for full-text search\n",
    "- Tag fields for exact matching\n",
    "- Vector fields for semantic search\n",
    "\n",
    "```\n",
    "FT.CREATE postIdx ON HASH PREFIX 1 post: SCHEMA\n",
    "        parentUri     TEXT\n",
    "        topics        TAG SEPARATOR \"|\"\n",
    "        time_us       TEXT\n",
    "        langs         TAG\n",
    "        uri           TEXT\n",
    "        operation     TAG\n",
    "        did           TAG\n",
    "        timeUs        NUMERIC\n",
    "        rkey          TAG\n",
    "        rootUri       TEXT\n",
    "        text          TEXT\n",
    "```"
   ]
  },
  {
   "metadata": {
    "ExecuteTime": {
     "end_time": "2025-05-22T18:49:19.732054Z",
     "start_time": "2025-05-22T18:49:19.673868Z"
    }
   },
   "cell_type": "code",
   "source": [
    "import redis.clients.jedis.search.IndexDefinition\n",
    "import redis.clients.jedis.search.IndexOptions\n",
    "import redis.clients.jedis.search.Schema\n",
    "import redis.clients.jedis.search.schemafields.VectorField.VectorAlgorithm\n",
    "\n",
    "val schema = Schema()\n",
    "    .addTextField(\"parentUri\", 1.0)\n",
    "    .addTagField(\"topics\", \"|\")\n",
    "    .addTextField(\"time_us\", 1.0)\n",
    "    .addTagField(\"langs\")\n",
    "    .addTextField(\"uri\", 1.0)\n",
    "    .addTagField(\"operation\")\n",
    "    .addTagField(\"did\")\n",
    "    .addNumericField(\"timeUs\")\n",
    "    .addTagField(\"rkey\")\n",
    "    .addTextField(\"rootUri\", 1.0)\n",
    "    .addTextField(\"text\", 1.0)\n",
    "\n",
    "// Define index options (e.g., prefix)\n",
    "val rule = IndexDefinition()\n",
    "    .setPrefixes(\"post:\")\n",
    "\n",
    "// Create the index\n",
    "try {\n",
    "    jedisPooled.ftCreate(\"postIdx\", IndexOptions.defaultOptions().setDefinition(rule), schema)\n",
    "} catch (e: JedisDataException) {\n",
    "    println(\"Index already exists\")\n",
    "}"
   ],
   "outputs": [
    {
     "name": "stdout",
     "output_type": "stream",
     "text": [
      "Index already exists\n"
     ]
    }
   ],
   "execution_count": 32
  },
  {
   "metadata": {},
   "cell_type": "markdown",
   "source": [
    "### Searching the Index\n",
    "Now that we have created the index, we can search for events based on their topics, text, and other fields. In this example, we'll search for events with the topic \"Samba\".\n",
    "\n",
    "Redis Search uses a query language similar to SQL. For example, to search for events with the topic \"machine_learning\", we would use the query `@topics:{machine_learning}`."
   ]
  },
  {
   "metadata": {},
   "cell_type": "markdown",
   "source": "Exact Matching Search"
  },
  {
   "metadata": {
    "ExecuteTime": {
     "end_time": "2025-05-22T18:49:46.827770Z",
     "start_time": "2025-05-22T18:49:46.772380Z"
    }
   },
   "cell_type": "code",
   "source": [
    "//FT.SEARCH postIdx \"@topics:{machine_learning}\"\n",
    "val result = jedisPooled.ftSearch(\n",
    "    \"postIdx\",\n",
    "    \"@topics:{OpenAI}\"\n",
    ")\n",
    "\n",
    "result.documents.forEach { post ->\n",
    "    println(post.get(\"topics\"))\n",
    "    println(post.get(\"text\"))\n",
    "    println(\"\\n\")\n",
    "}"
   ],
   "outputs": [],
   "execution_count": 35
  },
  {
   "metadata": {},
   "cell_type": "markdown",
   "source": "Full Text Search"
  },
  {
   "metadata": {
    "ExecuteTime": {
     "end_time": "2025-05-22T18:50:30.789385Z",
     "start_time": "2025-05-22T18:50:30.731915Z"
    }
   },
   "cell_type": "code",
   "source": [
    "//FT.SEARCH postIdx \"@text:Open source\"\n",
    "val result = jedisPooled.ftSearch(\n",
    "    \"postIdx\",\n",
    "    \"@text:estimated to be\"\n",
    ")\n",
    "\n",
    "result.documents.forEach { post ->\n",
    "    println(post.get(\"text\"))\n",
    "    println(\"\\n\")\n",
    "}"
   ],
   "outputs": [],
   "execution_count": 37
  },
  {
   "metadata": {},
   "cell_type": "markdown",
   "source": "Querying the TopK"
  },
  {
   "metadata": {
    "ExecuteTime": {
     "end_time": "2025-05-22T18:50:36.196668Z",
     "start_time": "2025-05-22T18:50:36.115766Z"
    }
   },
   "cell_type": "code",
   "source": [
    "import redis.clients.jedis.params.ScanParams\n",
    "\n",
    "val jedisScanFn = { cursor: String ->\n",
    "    jedisPooled.scan(cursor, ScanParams().match(\"topics-topk:*\"), \"TopK-TYPE\")\n",
    "}\n",
    "\n",
    "val keys = mutableListOf<String>()\n",
    "var lastCursor = \"0\"\n",
    "do {\n",
    "    val result = jedisScanFn.invoke(lastCursor)\n",
    "    lastCursor = result.cursor\n",
    "    keys.addAll(result.result)\n",
    "} while (lastCursor != \"0\")\n",
    "\n",
    "keys.forEach {\n",
    "    println(it)\n",
    "    val count = jedisPooled.topkList(it)\n",
    "    println(count)\n",
    "}"
   ],
   "outputs": [
    {
     "name": "stdout",
     "output_type": "stream",
     "text": [
      "topics-topk:2025-05-22T20:00\n",
      "[AI Content Generation, Generative AI, Deep Learning, AI Tooling, Prompt Engineering, Ethical AI Practices, Cryptocurrency, Tech and Crypto Landscape, Cybersecurity, Video Creation, AI Restrictions, AI in Transportation, Depression in Academia, Driverless Vehicles, Autonomous Technology]\n"
     ]
    }
   ],
   "execution_count": 38
  }
 ],
 "metadata": {
  "kernelspec": {
   "display_name": "Kotlin",
   "language": "kotlin",
   "name": "kotlin"
  },
  "language_info": {
   "name": "kotlin",
   "version": "1.9.23",
   "mimetype": "text/x-kotlin",
   "file_extension": ".kt",
   "pygments_lexer": "kotlin",
   "codemirror_mode": "text/x-kotlin",
   "nbconvert_exporter": ""
  },
  "ktnbPluginMetadata": {
   "projectLibraries": false,
   "projectDependencies": [
    "kotlinconf-bsky-bot.kotlin-notebooks.main"
   ]
  }
 },
 "nbformat": 4,
 "nbformat_minor": 0
}
