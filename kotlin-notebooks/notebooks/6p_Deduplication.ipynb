{
 "cells": [
  {
   "metadata": {},
   "cell_type": "markdown",
   "source": "# Deduplication with Bloom Filters"
  },
  {
   "metadata": {},
   "cell_type": "markdown",
   "source": [
    "## Deduplication with Bloom Filters\n",
    "\n",
    "In this notebook, we'll explore how to use Redis Bloom Filters to deduplicate events in a stream. We'll also use a machine learning model to filter posts based on their content."
   ]
  },
  {
   "metadata": {
    "ExecuteTime": {
     "end_time": "2025-05-22T16:05:50.508939Z",
     "start_time": "2025-05-22T16:05:50.452812Z"
    }
   },
   "cell_type": "code",
   "source": "%use coroutines",
   "outputs": [],
   "execution_count": 10
  },
  {
   "metadata": {},
   "cell_type": "markdown",
   "source": [
    "## Deduplication with Bloom Filter\n",
    "Redis Bloom Filter is a probabilistic data structure that allows us to check if an element is in a set. It's very memory efficient and has a constant time complexity for both insertion and lookup operations.\n"
   ]
  },
  {
   "metadata": {},
   "cell_type": "markdown",
   "source": [
    "### Creating a Bloom Filter\n",
    "This function creates a Bloom Filter with the given name. The filter is configured with an error rate of 0.01 and an initial capacity of 1,000,000 elements."
   ]
  },
  {
   "metadata": {
    "ExecuteTime": {
     "end_time": "2025-05-22T16:04:59.438269Z",
     "start_time": "2025-05-22T16:04:59.327175Z"
    }
   },
   "cell_type": "code",
   "source": [
    "import dev.raphaeldelio.*\n",
    "import redis.clients.jedis.bloom.BFReserveParams\n",
    "import redis.clients.jedis.exceptions.JedisDataException\n",
    "fun createBloomFilter(name: String) {\n",
    "    try {\n",
    "        val errorRate = 0.01\n",
    "        val capacity = 1_000_000L\n",
    "        val reserveParams = BFReserveParams().expansion(2)\n",
    "        jedisPooled.bfReserve(name, errorRate, capacity, reserveParams)\n",
    "    } catch (_: JedisDataException) {\n",
    "        println(\"Bloom filter already exists\")\n",
    "    }\n",
    "}"
   ],
   "outputs": [],
   "execution_count": 2
  },
  {
   "metadata": {},
   "cell_type": "markdown",
   "source": [
    "### Deduplication Handler\n",
    "This function creates a handler that checks if an event has already been processed by checking if its URI is in the Bloom Filter. If the URI is in the filter, the handler returns false, which stops the processing of the event.\n"
   ]
  },
  {
   "metadata": {
    "ExecuteTime": {
     "end_time": "2025-05-22T16:05:01.702646Z",
     "start_time": "2025-05-22T16:05:01.612531Z"
    }
   },
   "cell_type": "code",
   "source": [
    "fun deduplicate(bloomFilter: String): (Event) -> Pair<Boolean, String> {\n",
    "    return { event ->\n",
    "        if (jedisPooled.bfExists(bloomFilter, event.uri)) {\n",
    "            Pair(false, \"${event.uri} already processed\")\n",
    "        } else {\n",
    "            Pair(true, \"OK\")\n",
    "        }\n",
    "    }\n",
    "}"
   ],
   "outputs": [],
   "execution_count": 3
  },
  {
   "metadata": {},
   "cell_type": "markdown",
   "source": [
    "### Atomic Acknowledgment and Bloom Filter Update\n",
    "This function creates a handler that acknowledges the message and adds the URI to the Bloom Filter in a single atomic transaction. This ensures that if the acknowledgment succeeds, the URI is also added to the filter, and vice versa.\n"
   ]
  },
  {
   "metadata": {
    "ExecuteTime": {
     "end_time": "2025-05-22T16:05:10.649518Z",
     "start_time": "2025-05-22T16:05:10.507002Z"
    }
   },
   "cell_type": "code",
   "source": [
    "import redis.clients.jedis.Connection\n",
    "import redis.clients.jedis.JedisPool\n",
    "import redis.clients.jedis.Transaction\n",
    "import redis.clients.jedis.resps.StreamEntry\n",
    "\n",
    "val jedisPool = JedisPool()\n",
    "\n",
    "fun ackAndBfFn(bloomFilter: String):  (String, String, StreamEntry) -> Unit {\n",
    "    return { streamName, consumerGroup, entry ->\n",
    "        jedisPool.resource.use { jedis ->\n",
    "            // Create a transaction\n",
    "            val multi = jedis.multi()\n",
    "\n",
    "            // Acknowledge the message\n",
    "            multi.xack(\n",
    "                streamName,\n",
    "                consumerGroup,\n",
    "                entry.id\n",
    "            )\n",
    "\n",
    "            // Add the URI to the bloom filter\n",
    "            multi.bfAdd(bloomFilter, Event.fromMap(entry).uri)\n",
    "\n",
    "            // Execute the transaction\n",
    "            multi.exec()\n",
    "        }\n",
    "    }\n",
    "}"
   ],
   "outputs": [],
   "execution_count": 5
  },
  {
   "metadata": {
    "ExecuteTime": {
     "end_time": "2025-05-22T16:05:13.616780Z",
     "start_time": "2025-05-22T16:05:13.185668Z"
    }
   },
   "cell_type": "code",
   "source": "createConsumerGroup(\"jetstream\", \"deduplicate-example\")",
   "outputs": [
    {
     "name": "stdout",
     "output_type": "stream",
     "text": [
      "Group already exists\n"
     ]
    }
   ],
   "execution_count": 6
  },
  {
   "metadata": {
    "ExecuteTime": {
     "end_time": "2025-05-22T16:05:15.187787Z",
     "start_time": "2025-05-22T16:05:15.146723Z"
    }
   },
   "cell_type": "code",
   "source": [
    "val bloomFilterName = \"processed-uris\"\n",
    "createBloomFilter(\"processed-uris\")"
   ],
   "outputs": [
    {
     "name": "stdout",
     "output_type": "stream",
     "text": [
      "Bloom filter already exists\n"
     ]
    }
   ],
   "execution_count": 7
  },
  {
   "metadata": {
    "ExecuteTime": {
     "end_time": "2025-05-22T16:05:56.655378Z",
     "start_time": "2025-05-22T16:05:56.316215Z"
    }
   },
   "cell_type": "code",
   "source": [
    "runBlocking {\n",
    "    consumeStream(\n",
    "        streamName = \"jetstream\",\n",
    "        consumerGroup = \"deduplicate-example\",\n",
    "        consumer = \"deduplicate-1\",\n",
    "        handlers = listOf(deduplicate(bloomFilterName), printUri),\n",
    "        ackFunction = ackAndBfFn(bloomFilterName),\n",
    "        count = 100,\n",
    "        limit = 200\n",
    "    )\n",
    "}"
   ],
   "outputs": [
    {
     "name": "stdout",
     "output_type": "stream",
     "text": [
      "Got event from at://did:plc:smdkfx7db3pbvkdfwidns4rv/app.bsky.feed.post/3lpprhxknnn2u\n",
      "Got event from at://did:plc:ihlnz2jflr7qdlltjitnqkk4/app.bsky.feed.post/3lpprhxlkjk2e\n",
      "Got event from at://did:plc:p7kwdof4qtn7rprbaful22y4/app.bsky.feed.post/3lpprhxrps22q\n",
      "Got event from at://did:plc:44zocvhgzpss25bumybmz4hl/app.bsky.feed.post/3lpprhsopxs2q\n",
      "Got event from at://did:plc:eg5pb4jan53agtahzryq6rnt/app.bsky.feed.post/3lpprhwlpxs2j\n",
      "Got event from at://did:plc:gngr6bvlifll55dyqaxy5vsk/app.bsky.feed.post/3lpprhtrzu22o\n",
      "Got event from at://did:plc:425iddzal5kpwz2f7wxbzlxu/app.bsky.feed.post/3lpprhy4sku2n\n",
      "Got event from at://did:plc:htgcwoihuk25whhip57vlrln/app.bsky.feed.post/3lpprhxkzwc2s\n",
      "Got event from at://did:plc:tcvpjkdcsdotgvcgdf6epyoe/app.bsky.feed.post/3lpprhxp7pk2l\n",
      "Got event from at://did:plc:ypd623sroyr4crw2rvn55h5q/app.bsky.feed.post/3lpprhxekw42r\n",
      "Got event from at://did:plc:nzt52plpdc3q4m5a2aqdifhs/app.bsky.feed.post/3lpprhxukmc2r\n",
      "Got event from at://did:plc:tospzlswwp3egvrgj7p7iwq5/app.bsky.feed.post/3lpprhx2crc2n\n",
      "Got event from at://did:plc:l7cvatcndy3vvaiexhgabrlc/app.bsky.feed.post/3lpprhy5xfc2o\n",
      "Got event from at://did:plc:sbqcbq6mr565qkxbo7eyfugc/app.bsky.feed.post/3lpprhrvv2c2t\n",
      "Got event from at://did:plc:fcnbisw7xl6lmtcnvioocffz/app.bsky.feed.post/3lpprhy725d2s\n",
      "Got event from at://did:plc:5cukrckrb4ipq6rygkwbihbp/app.bsky.feed.post/3lpprhxgghk2d\n",
      "Got event from at://did:plc:2h323zn7z653iv2i4relhqh4/app.bsky.feed.post/3lpprhxkegs25\n",
      "Got event from at://did:plc:tmx2ts22ouglxty2choeckrf/app.bsky.feed.post/null\n",
      "Got event from at://did:plc:xjl7lbjlawdkszogt3yrbnh7/app.bsky.feed.post/3lkfybces722e\n",
      "Got event from at://did:plc:63lu3qkgig3qvepx4dry2tmh/app.bsky.feed.post/3lpprhxamw22s\n",
      "Got event from at://did:plc:xkwwxzzhynrgr7xoe4sactok/app.bsky.feed.post/3lpprhy6iwd22\n",
      "Got event from at://did:plc:e6e4pwquuncww7k32lupjseo/app.bsky.feed.post/3lpprhufc2s2y\n",
      "Got event from at://did:plc:znzxmjxaofcxz7zp4sykfb3d/app.bsky.feed.post/3lpprhy23ek2n\n",
      "Got event from at://did:plc:obxhiskpv77fr5lg2az5qrhy/app.bsky.feed.post/3lpprhyfnxv2k\n",
      "Got event from at://did:plc:jodqzdfmz2op3ijoyoem4qhk/app.bsky.feed.post/3lpprhy46qs2x\n",
      "Got event from at://did:plc:qs3sbyjeczeadqpxmdv2txaz/app.bsky.feed.post/3lpprhxzzg227\n",
      "Got event from at://did:plc:jxwd7xdkxfz6lbybxipihfqb/app.bsky.feed.post/3lpprct3chs26\n",
      "Got event from at://did:plc:pknoxvyhjkmzianws2anlxvy/app.bsky.feed.post/3lpprczzwik2b\n",
      "Got event from at://did:plc:htxlwuzhl2jaefgge57pmin2/app.bsky.feed.post/3lpprhxoxvk2k\n",
      "Got event from at://did:plc:sxy52z5nr4jwti4sa4bxqxrr/app.bsky.feed.post/3lpprhywhl22h\n",
      "Got event from at://did:plc:wl3kpjhiqfcijx6nhgtp62se/app.bsky.feed.post/3lpprhy4sbs2w\n",
      "Got event from at://did:plc:3hlho2wjspuezjngu4wqaz7w/app.bsky.feed.post/3lpprhvpybk26\n",
      "Got event from at://did:plc:ctkburuy2l26xfkwbdesyw7t/app.bsky.feed.post/3lpprht3l4222\n",
      "Got event from at://did:plc:r7ei7c5h7xfdbjtzboxeyukl/app.bsky.feed.post/3lpprhvtpg22h\n",
      "Got event from at://did:plc:hdte5leshsk5zxfnovynif3o/app.bsky.feed.post/3lpprhxqz6p24\n",
      "Got event from at://did:plc:7buopfdc44a7rjjscmyrnsva/app.bsky.feed.post/3lpprhygv5l2e\n",
      "Got event from at://did:plc:ziur2brejbqctam4uwm2taoz/app.bsky.feed.post/3lpprhqvrpc2m\n",
      "Got event from at://did:plc:hdljjptovr3zb4ygp6uur673/app.bsky.feed.post/3lpprhwgvoc2u\n",
      "Got event from at://did:plc:f4qkn23v4ocp6undxwu54f2b/app.bsky.feed.post/3lppri257sk2j\n",
      "Got event from at://did:plc:23qxx2sswpbkukjmyv7pcogn/app.bsky.feed.post/3lpprhxre322s\n",
      "Got event from at://did:plc:vir2otn47r4eobjxvntdm4nf/app.bsky.feed.post/3lpprhxvc2c2i\n",
      "Got event from at://did:plc:ytbz6tvgwbqhcamx2yereanr/app.bsky.feed.post/3lpprhxy6t22h\n",
      "Got event from at://did:plc:3r2pticjmxszq5in4s4yvjmu/app.bsky.feed.post/3lpprhvjxvc2u\n",
      "Got event from at://did:plc:4d2niogetuduh4n22lzfkatj/app.bsky.feed.post/3lpprhycltc2e\n",
      "Got event from at://did:plc:rmxo3kwa74udzrr3gh32r2ss/app.bsky.feed.post/3lpprhyew2c2p\n",
      "Got event from at://did:plc:ywbm3iywnhzep3ckt6efhoh7/app.bsky.feed.post/3lpprhxnjyt2h\n",
      "Got event from at://did:plc:3kc5gamthdqocq5o47krrnmh/app.bsky.feed.post/3lpprh7mklc24\n",
      "Got event from at://did:plc:kubd4rze75jh7aftm3qg7btj/app.bsky.feed.post/3lpprhwqn722w\n",
      "Got event from at://did:plc:cq3yta4cpl4v64gox2edtuvp/app.bsky.feed.post/3lpprhwbaz22e\n",
      "Got event from at://did:plc:hn3fttefhh4s3en3eizof4xq/app.bsky.feed.post/3lpprhz7bsc2e\n",
      "Got event from at://did:plc:kl7v7wsattkdebwx6njdoa66/app.bsky.feed.post/3lpprhyb6vs2y\n",
      "Got event from at://did:plc:4cfvzmlojyvjs7ydxmhxmd5p/app.bsky.feed.post/3lpprhzbpwc2v\n",
      "Got event from at://did:plc:mignap3gmydi6mi3eolq44ah/app.bsky.feed.post/3lpprhx743k2f\n",
      "Got event from at://did:plc:3z2l5c75ksvdqbrjyn4q6vdv/app.bsky.feed.post/3lpprhxyljc2q\n",
      "Got event from at://did:plc:faqnpttxu5vo4doeoewia6z5/app.bsky.feed.post/3lpprhy6uos2g\n",
      "Got event from at://did:plc:nuf2gon3beucu2tvfwkp4kev/app.bsky.feed.post/3lpprhzdfn22o\n",
      "Got event from at://did:plc:rv5cf2stgsjtfdxqle4fc6rr/app.bsky.feed.post/3lpprhz4toc2l\n",
      "Got event from at://did:plc:qgaqstz2j3bzeapzrsyvpqfw/app.bsky.feed.post/3lpprhxlbqc26\n",
      "Got event from at://did:plc:xthxdspb5fqp5ytgvoifhson/app.bsky.feed.post/3lpprhykzec2s\n",
      "Got event from at://did:plc:ohznktx6iuybvaetqejcdwmd/app.bsky.feed.post/3lpprhxjny22w\n",
      "Got event from at://did:plc:tryrxxclhcxhyignedisgezy/app.bsky.feed.post/3lpprhx4kzs2a\n",
      "Got event from at://did:plc:nrkn7hdtoii5buefaom5qnyj/app.bsky.feed.post/3lpprhxioq22b\n",
      "Got event from at://did:plc:i7c74rm2k7dd4rho5vb6qjkp/app.bsky.feed.post/3lpprhyyr4h2x\n",
      "Got event from at://did:plc:lnxqhlxou6icy3ed5rx2unod/app.bsky.feed.post/3ljbnqmf5yc2u\n",
      "Got event from at://did:plc:wcqnjmntm6f73etegttp6i2f/app.bsky.feed.post/3lpprhxq6xk2z\n",
      "Got event from at://did:plc:oxxpplof2s4fb263v5pcmrie/app.bsky.feed.post/3lpprhy43t22p\n",
      "Got event from at://did:plc:f5dpdbkxgrwqkaplhafxfpc2/app.bsky.feed.post/3lpprhut3hs2t\n",
      "Got event from at://did:plc:g3lwvg3t7w7u6xcjbc4ewfqb/app.bsky.feed.post/3lpprhrcsp22y\n",
      "Got event from at://did:plc:ga7gbpwpjzkntbx3glxmxw4w/app.bsky.feed.post/3lpprhvvi2k27\n",
      "Got event from at://did:plc:rnu3jen3zqksamb25ifxykn7/app.bsky.feed.post/3lpprhzwsq22c\n",
      "Got event from at://did:plc:y6vy2uexru4nekjppin2x7yz/app.bsky.feed.post/null\n",
      "Got event from at://did:plc:4gsu52sa2ar4r7n5lksoyu2j/app.bsky.feed.post/3lpprhubuos24\n",
      "deduplicate-1: Handler stopped processing: at://did:plc:y6vy2uexru4nekjppin2x7yz/app.bsky.feed.post/null already processed\n",
      "Got event from at://did:plc:bbdwc47gdmtkzfhghazzob2i/app.bsky.feed.post/3lpprhye3ok2l\n",
      "Got event from at://did:plc:u6f44pwue5klwr6jokil6c7j/app.bsky.feed.post/3lpprhyu6dc2g\n",
      "Got event from at://did:plc:uqz5oiwka2l3jch6ifpqq5ba/app.bsky.feed.post/3lpprhx5idc2l\n",
      "Got event from at://did:plc:le2m4hlpq2ls7lrnxv4vgyhr/app.bsky.feed.post/3lpprhz5vu22e\n",
      "Got event from at://did:plc:ep475ar4rjqjsajb4ss4tlpu/app.bsky.feed.post/3lpprhxvc2c2x\n",
      "Got event from at://did:plc:5oep77qosmcnhj3qaeeltlqk/app.bsky.feed.post/3lpprhyqvgr2l\n",
      "Got event from at://did:plc:fvhlzpsg2jux6gci76uleadz/app.bsky.feed.post/3lpprhujyhc2y\n",
      "Got event from at://did:plc:st73qxys6qrdyuvpiznmrdpf/app.bsky.feed.post/3lpprhyddbc2k\n",
      "Got event from at://did:plc:4hnalwdznih6ppwh6266lj62/app.bsky.feed.post/3lpprhyvzvk2z\n",
      "Got event from at://did:plc:xvjcrfj2xnt5mwrmrrufzli3/app.bsky.feed.post/3lpprhwhryk2s\n",
      "Got event from at://did:plc:2euqiuhgcm5egzmrt36zbdnf/app.bsky.feed.post/3lpprhynw522k\n",
      "Got event from at://did:plc:qb4yqhp6zx6vur4qbohdxy6y/app.bsky.feed.post/3lpprhz7zac2m\n",
      "Got event from at://did:plc:7j3npts4qobtlbx77fprnusv/app.bsky.feed.post/3lpprhzdnh22r\n",
      "Got event from at://did:plc:xf274egfzus6olrb24o7kmtq/app.bsky.feed.post/3lpprhyu7ck2y\n",
      "Got event from at://did:plc:aie6mgxuwfyzoenhh5tpcmfb/app.bsky.feed.post/3lpprhv5jhc2w\n",
      "Got event from at://did:plc:zdeltuepmpbbgldgtjvpdmjz/app.bsky.feed.post/3lpprhz5n2s2a\n",
      "Got event from at://did:plc:ekts44pfepbmryv2h633onqu/app.bsky.feed.post/3lpprhxgej226\n",
      "Got event from at://did:plc:figclgdmbg6ff55qth5bzarj/app.bsky.feed.post/3lpprhzbvrs2r\n",
      "Got event from at://did:plc:v4m77a76c2gcvotfc4pv6jjt/app.bsky.feed.post/3lpprhwdjbk26\n",
      "Got event from at://did:plc:ean2befltadvqu5obemolf4l/app.bsky.feed.post/3lpprhz47622q\n",
      "Got event from at://did:plc:x4hmhz7fll3u2j3g5amwcjv4/app.bsky.feed.post/3lppri2iuu22z\n",
      "Got event from at://did:plc:ktqyctgzi7amx4iei7vo3fj4/app.bsky.feed.post/3lpprhz7p3724\n",
      "Got event from at://did:plc:ec6v7lpnurr6bgrmvysnp4dx/app.bsky.feed.post/3lpprhytuks2y\n",
      "Got event from at://did:plc:bkv5ef6646hcrm3ap77il76f/app.bsky.feed.post/3lpprhuucjs2t\n",
      "Got event from at://did:plc:7henqd6gmij26y5mtoarnlbp/app.bsky.feed.post/3lpprhzhfks2u\n",
      "Got event from at://did:plc:wbsm3zpx3elwavaasel45amu/app.bsky.feed.post/3lpprijhxvs23\n",
      "Got event from at://did:plc:dpsq2htq5tyobyphczpgn3wa/app.bsky.feed.post/3lpprhzovsc2k\n",
      "Got event from at://did:plc:7buopfdc44a7rjjscmyrnsva/app.bsky.feed.post/3lpprhzpxcg2v\n",
      "Got event from at://did:plc:hz2yaq6b75lztejyvoteumcx/app.bsky.feed.post/3lpprhtjyzc23\n",
      "Got event from at://did:plc:4ihmhdqbwccg4bfeskuaar63/app.bsky.feed.post/3lpprhz27os2v\n",
      "Got event from at://did:plc:55hix436oarechk7x4cqku6t/app.bsky.feed.post/3lpprepkr222o\n",
      "Got event from at://did:plc:u4aj4xo3nrdta4e3ndlyg4r7/app.bsky.feed.post/3lpprhzgn5k2r\n",
      "Got event from at://did:plc:3gbhxfllvrtjvav7cjmpljls/app.bsky.feed.post/3lpprhz4gy22p\n",
      "Got event from at://did:plc:gcjury2g5lleigul7so24sa6/app.bsky.feed.post/3lpprhyhjzs2a\n",
      "Got event from at://did:plc:dm2csy6qyd3vzfv2hl3q7hoe/app.bsky.feed.post/3lpprhyx24s2h\n",
      "Got event from at://did:plc:evemyanilrms35yhhuhc425s/app.bsky.feed.post/3lpprhyvr4c2r\n",
      "Got event from at://did:plc:swhb5wdq3jazzpytrpvkrxh6/app.bsky.feed.post/null\n",
      "Got event from at://did:plc:swrlp3sp5g3rso6slfipupqq/app.bsky.feed.post/3lpprhwkyjs2l\n",
      "Got event from at://did:plc:jodwdyen2dffnjjfxzna6rkc/app.bsky.feed.post/3lmga5q5o6s23\n",
      "Got event from at://did:plc:cw6q5wntjyu7gmudrwz2ey4l/app.bsky.feed.post/null\n",
      "Got event from at://did:plc:6pflslckpdtkulaiks3kl4z6/app.bsky.feed.post/3lpnlku5kfc2x\n",
      "Got event from at://did:plc:oee5pmntipmblyrq32ssektv/app.bsky.feed.post/3lpprhzjblz2r\n",
      "Got event from at://did:plc:w5w4xl4ejrrlfhtamuto3icz/app.bsky.feed.post/3lpprhz2his23\n",
      "Got event from at://did:plc:w26kabzuv6zmwzifsynqdvhy/app.bsky.feed.post/null\n",
      "Got event from at://did:plc:rypc6pfiw4ftxsifjkb6jqhv/app.bsky.feed.post/3lpprhzzau227\n",
      "deduplicate-1: Handler stopped processing: at://did:plc:w26kabzuv6zmwzifsynqdvhy/app.bsky.feed.post/null already processed\n",
      "Got event from at://did:plc:3gim4ktr6fimqiufjxustfup/app.bsky.feed.post/3lpprhyvt2s2x\n",
      "Got event from at://did:plc:aw2i2ljbg2iaf4uuud3p3sky/app.bsky.feed.post/3lpprhnjmrc2i\n",
      "Got event from at://did:plc:lz3g4j64imyyrpf76y7cktlu/app.bsky.feed.post/3lpprhzypbk2p\n",
      "Got event from at://did:plc:d6ob33l67i6z2gk2bhqdxbsu/app.bsky.feed.post/3lpprhy5kp22g\n",
      "Got event from at://did:plc:f6kvzowt7f7o62gn67n62273/app.bsky.feed.post/3lpprhzlw3s2k\n",
      "Got event from at://did:plc:pmkjgy5zyf6nsh4hymnkuaf6/app.bsky.feed.post/3lpprhzr62s2z\n",
      "Got event from at://did:plc:g5gjnbh3t5g4jxiapo3x7opi/app.bsky.feed.post/3lpprhwren22o\n",
      "Got event from at://did:plc:or7bisuftywscxvtbyq6qqrm/app.bsky.feed.post/3lpprhzj5a22j\n",
      "Got event from at://did:plc:6qx6wz47aobysixn3m5z6wy3/app.bsky.feed.post/3lpprhxibzs2r\n",
      "Got event from at://did:plc:zwnaxzmovtbdbrob6jlg2nmv/app.bsky.feed.post/3lpprhzwuok2v\n",
      "Got event from at://did:plc:g47ecu5lsumlg7hd5fp5kuzg/app.bsky.feed.post/3lpprhztq3s2h\n",
      "Got event from at://did:plc:akkzm62zogz3r3y7hbdrdj52/app.bsky.feed.post/3lpprhzdyk62l\n",
      "Got event from at://did:plc:jt3vm2hxldvqy2nbrc2nx2wl/app.bsky.feed.post/3lpprhzymds2t\n",
      "Got event from at://did:plc:eizqt7ythkfirr2mysmrzlwx/app.bsky.feed.post/3lpprhygvjk2w\n",
      "Got event from at://did:plc:eocotc67tgwklz7j665yf3to/app.bsky.feed.post/3lpprhzo6ec24\n",
      "Got event from at://did:plc:6osa5qtotumzhmr35wxferpc/app.bsky.feed.post/3lpprhznqos2m\n",
      "Got event from at://did:plc:os5nbfofn5hx4lf4zqz2dkfv/app.bsky.feed.post/3lppri22yjc2f\n",
      "Got event from at://did:plc:mmsnsmpilqtm4gg3zdrwlbm5/app.bsky.feed.post/3lppri27c7k2x\n",
      "Got event from at://did:plc:rol3y4pny6utsqdlbyf6w57o/app.bsky.feed.post/3lpprhzq5tk2t\n",
      "Got event from at://did:plc:6mvu2qeazw6bp7zctxo2ne5a/app.bsky.feed.post/3lppri425ys2k\n",
      "Got event from at://did:plc:57iixflgromlsj6ztp6n32ae/app.bsky.feed.post/3lppri22eyc2a\n",
      "Got event from at://did:plc:425iddzal5kpwz2f7wxbzlxu/app.bsky.feed.post/3lpprhz7tsv2c\n",
      "Got event from at://did:plc:425iddzal5kpwz2f7wxbzlxu/app.bsky.feed.post/3lppri2dfiq2t\n",
      "Got event from at://did:plc:uuk7dvksy6fckkyhm4pd4f5i/app.bsky.feed.post/3lpprhzggcs2x\n",
      "Got event from at://did:plc:nvnz52tm7vgv7ujl3uhrgbj5/app.bsky.feed.post/3lpprhy4v7k2b\n",
      "Got event from at://did:plc:alcuuuimhyxjkx5vgn2eaxis/app.bsky.feed.post/3lpprhzxvv22c\n",
      "Got event from at://did:plc:pasis6tbqzohuczxaxvgh5gf/app.bsky.feed.post/3lpprns5udc2f\n",
      "Got event from at://did:plc:7zct5lq47etxvgyulgwnyeyb/app.bsky.feed.post/3lppri34yfs2w\n",
      "Got event from at://did:plc:26u5wdo6raad4mgtrafkrta7/app.bsky.feed.post/3lppri2wgh22y\n",
      "Got event from at://did:plc:afyg6whueap6mcd4yqeh4am5/app.bsky.feed.post/3lppri26cxk2k\n",
      "Got event from at://did:plc:me4jrlnztz77sla2zq4jvobf/app.bsky.feed.post/3lpprhz457k2f\n",
      "Got event from at://did:plc:u6eexydxgb7nsllkdlnx44l5/app.bsky.feed.post/3lppri22fxk2p\n",
      "Got event from at://did:plc:z3ikoxhq7fs7s7txagqqgdsb/app.bsky.feed.post/3lppri35ouk2q\n",
      "Got event from at://did:plc:teazq7wxqughbrbtfvdeegsa/app.bsky.feed.post/3lpprho4dfk2r\n",
      "Got event from at://did:plc:lb3sebtae74icqtair64fyy7/app.bsky.feed.post/3lpprhzqwas2b\n",
      "Got event from at://did:plc:upr4imh4klftvmjifb3di6rj/app.bsky.feed.post/3lppri2dzlc2n\n",
      "Got event from at://did:plc:hoxsdc7mxxza33lgcmkfcn74/app.bsky.feed.post/3lpprhyndlc23\n",
      "Got event from at://did:plc:fsyldeaubtogsx3g7d6y53yp/app.bsky.feed.post/3lpprhzxeck2m\n",
      "Got event from at://did:plc:c3s4woz2dxksop7zr4fahtd3/app.bsky.feed.post/3lppri2rftp2k\n",
      "Got event from at://did:plc:wecivemmueux3btm7vd7pk65/app.bsky.feed.post/3lppri26cxk2q\n",
      "Got event from at://did:plc:wncg3weefnp5vtjbl6eyznnp/app.bsky.feed.post/3lpprhxiqok2b\n",
      "Got event from at://did:plc:wcrdusub35hwzlwsnma27amj/app.bsky.feed.post/3lppri2tbuc2q\n",
      "Got event from at://did:plc:tzeh7a2rzzdfqbw64qa4bq3j/app.bsky.feed.post/3lppri2fw4s2x\n",
      "Got event from at://did:plc:leainrd3piebznra5elvtlxm/app.bsky.feed.post/3lppqthwlvk2k\n",
      "Got event from at://did:plc:xkwwxzzhynrgr7xoe4sactok/app.bsky.feed.post/3lppri2es5w2v\n",
      "Got event from at://did:plc:zb3i5f3p25aocdu4cyf4ocoe/app.bsky.feed.post/3lppri237e22w\n",
      "Got event from at://did:plc:vtcm54bmbkuaj32aiqtbvrwu/app.bsky.feed.post/3lppri2k5uk2a\n",
      "Got event from at://did:plc:dihwgezntngb6p7j3prnkcrv/app.bsky.feed.post/3lpprhztjb22f\n",
      "Got event from at://did:plc:2zcqiarsz5kimt35v5sj56kn/app.bsky.feed.post/3lppri2diy22f\n",
      "Got event from at://did:plc:zjhx4ybkjqvpg5vlkqv7wprz/app.bsky.feed.post/3lppri2rl6c24\n",
      "Got event from at://did:plc:doyscl476flkq3awvrn3cvgs/app.bsky.feed.post/3lpprbwrf7k2h\n",
      "Got event from at://did:plc:lnxqhlxou6icy3ed5rx2unod/app.bsky.feed.post/3ljbnqmgb5c2u\n",
      "Got event from at://did:plc:5gn7he5bnhyxevoopxhfvo2d/app.bsky.feed.post/3lppri2iuu22q\n",
      "Got event from at://did:plc:2tjiu3ydbuaznxooclmxjetd/app.bsky.feed.post/3lppri2wjes2z\n",
      "Got event from at://did:plc:jtugplw4ck7olwwltxegw6dv/app.bsky.feed.post/3lppri2dg2c2y\n",
      "Got event from at://did:plc:ht72mic74gpqwz6hbjftdxdn/app.bsky.feed.post/3lpprhx5q5c2p\n",
      "Got event from at://did:plc:33xcu27rbhvh36f5z4db2vfx/app.bsky.feed.post/3lppri3n23c2p\n",
      "Got event from at://did:plc:wajitna6voh2gp4ejyxwy45l/app.bsky.feed.post/3lppri34bry2j\n",
      "Got event from at://did:plc:gxo47hhmbbie6rihm54vblwr/app.bsky.feed.post/3lponw7z72k2b\n",
      "Got event from at://did:plc:v4ttcavt5dneie3vodwhwyw5/app.bsky.feed.post/3lpprht4nbs26\n",
      "Got event from at://did:plc:wsan7yjju6t2nycouxfp7rns/app.bsky.feed.post/3lppri3dkek2r\n",
      "Got event from at://did:plc:dgs2meppnph4rvc7u5gpn2yz/app.bsky.feed.post/3lpprhwa2wc23\n",
      "Got event from at://did:plc:tw3fct3d5hohh6uartb3sw2k/app.bsky.feed.post/3ldjawhvtv22p\n",
      "Got event from at://did:plc:xm3kmzaasafrxbkf6iztt3jf/app.bsky.feed.post/3kjfmcltwjs2r\n",
      "Got event from at://did:plc:g6hyekozrdbyuhvqd5pfemxh/app.bsky.feed.post/3lppri2xcrc2h\n",
      "Got event from at://did:plc:7buopfdc44a7rjjscmyrnsva/app.bsky.feed.post/3lppri2uwvg2v\n",
      "Got event from at://did:plc:l2gc5vbh6d7h4jahtwnouwva/app.bsky.feed.post/3lppri2odns2x\n",
      "Got event from at://did:plc:cnpzha6v2ne3bc2npoghv6xb/app.bsky.feed.post/3lpprhziavs27\n",
      "Got event from at://did:plc:lt6s5nszouhqnhfsomuwkreh/app.bsky.feed.post/3lpprgztfrk2u\n",
      "Got event from at://did:plc:53srd26lwsfzdgdycadt2pvb/app.bsky.feed.post/3lppri2yzhc2t\n",
      "Got event from at://did:plc:hkpc7ztzpqjnzfv44qvprltt/app.bsky.feed.post/3lpmzaoadu22k\n",
      "Got event from at://did:plc:p6quqbrdt6eaxt6skujlcoxf/app.bsky.feed.post/3lppri2zsts2a\n",
      "Got event from at://did:plc:5gmdjiogsjnezjeaxsy7vjcd/app.bsky.feed.post/3lppri33pfc2t\n",
      "Got event from at://did:plc:aq3q6hy3aocytkyrsennocf3/app.bsky.feed.post/3lppri2obpc2u\n",
      "Got event from at://did:plc:ofdlzqxuzvippgesg22s4zo5/app.bsky.feed.post/3lppri2tpjs2b\n",
      "Got event from at://did:plc:f6op4aja5tefutopz7ipnyqw/app.bsky.feed.post/3lppri2wv3s24\n",
      "Got event from at://did:plc:pebtlewfn7hje2dntyv27r5f/app.bsky.feed.post/3lppri3d5oc2f\n",
      "Got event from at://did:plc:7umo3cbjz7fhcost4yqj6jbo/app.bsky.feed.post/3lpprhznxjk2m\n",
      "Got event from at://did:plc:t3pr2n7ua6oiehjipofkjr3t/app.bsky.feed.post/3lppri3ivbc2z\n",
      "Got event from at://did:plc:cywq7mgl4s2hstvw7uuvq6t2/app.bsky.feed.post/3lppri3fcz22e\n",
      "Got event from at://did:plc:2eq3onv4ew5wxyn2vtjb5ssk/app.bsky.feed.post/3lpprhx7no22p\n"
     ]
    }
   ],
   "execution_count": 12
  }
 ],
 "metadata": {
  "kernelspec": {
   "display_name": "Kotlin",
   "language": "kotlin",
   "name": "kotlin"
  },
  "language_info": {
   "name": "kotlin",
   "version": "1.9.23",
   "mimetype": "text/x-kotlin",
   "file_extension": ".kt",
   "pygments_lexer": "kotlin",
   "codemirror_mode": "text/x-kotlin",
   "nbconvert_exporter": ""
  },
  "ktnbPluginMetadata": {
   "projectLibraries": false,
   "projectDependencies": [
    "kotlinconf-bsky-bot.kotlin-notebooks.main"
   ]
  }
 },
 "nbformat": 4,
 "nbformat_minor": 0
}
