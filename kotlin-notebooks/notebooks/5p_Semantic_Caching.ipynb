{
 "cells": [
  {
   "metadata": {
    "ExecuteTime": {
     "end_time": "2025-05-23T11:26:24.298825Z",
     "start_time": "2025-05-23T11:26:21.362990Z"
    }
   },
   "cell_type": "code",
   "source": [
    "import org.springframework.ai.transformers.TransformersEmbeddingModel\n",
    "\n",
    "val embeddingModel = TransformersEmbeddingModel()\n",
    "embeddingModel.setModelResource(\"file:resources/model/bge-large-en-v1.5/model.onnx\")\n",
    "embeddingModel.setTokenizerResource(\"file:resources/model/bge-large-en-v1.5/tokenizer.json\")\n",
    "embeddingModel.afterPropertiesSet()"
   ],
   "outputs": [],
   "execution_count": 2
  },
  {
   "metadata": {
    "ExecuteTime": {
     "end_time": "2025-05-23T11:26:26.929931Z",
     "start_time": "2025-05-23T11:26:25.681625Z"
    }
   },
   "cell_type": "code",
   "source": [
    "import dev.raphaeldelio.*\n",
    "import org.springframework.ai.vectorstore.redis.RedisVectorStore\n",
    "import org.springframework.ai.vectorstore.redis.RedisVectorStore.MetadataField\n",
    "import redis.clients.jedis.search.Schema.FieldType\n",
    "\n",
    "val redisVectorStore = RedisVectorStore.builder(jedisPooled, embeddingModel)\n",
    "    .indexName(\"semanticCacheIdx\")\n",
    "    .contentFieldName(\"text\")\n",
    "    .embeddingFieldName(\"textEmbedding\")\n",
    "    .metadataFields(\n",
    "        MetadataField(\"answer\", FieldType.TEXT),\n",
    "    )\n",
    "    .prefix(\"semanticcache:\")\n",
    "    .initializeSchema(true)\n",
    "    .vectorAlgorithm(RedisVectorStore.Algorithm.FLAT)\n",
    "    .build()\n",
    "redisVectorStore.afterPropertiesSet()"
   ],
   "outputs": [],
   "execution_count": 3
  },
  {
   "metadata": {
    "ExecuteTime": {
     "end_time": "2025-05-23T11:31:17.418881Z",
     "start_time": "2025-05-23T11:31:17.360808Z"
    }
   },
   "cell_type": "code",
   "source": [
    "import org.springframework.ai.document.Document\n",
    "import java.util.UUID\n",
    "\n",
    "fun insertIntoCache(post: String, answer: String) {\n",
    "    redisVectorStore.add(listOf(createDocument(post, answer)))\n",
    "}\n",
    "\n",
    "fun createDocument(post: String, answer: String): Document {\n",
    "    return Document(\n",
    "        UUID.randomUUID().toString(),\n",
    "        post,\n",
    "        mapOf(\"answer\" to answer),\n",
    "    )\n",
    "}"
   ],
   "outputs": [],
   "execution_count": 7
  },
  {
   "metadata": {
    "ExecuteTime": {
     "end_time": "2025-05-23T11:32:30.181678Z",
     "start_time": "2025-05-23T11:32:30.098760Z"
    }
   },
   "cell_type": "code",
   "source": [
    "fun getFromCache(post: String): String {\n",
    "    val result = redisVectorStore.similaritySearch(post)?.first()\n",
    "    val score = redisVectorStore.similaritySearch(post)?.first()?.score ?: 0.0\n",
    "    if (score > 0.9) {\n",
    "        return result?.metadata?.get(\"answer\").toString()\n",
    "    } else {\n",
    "        return \"\"\n",
    "    }\n",
    "}"
   ],
   "outputs": [],
   "execution_count": 11
  },
  {
   "metadata": {
    "ExecuteTime": {
     "end_time": "2025-05-23T11:31:39.278585Z",
     "start_time": "2025-05-23T11:31:39.193648Z"
    }
   },
   "cell_type": "code",
   "source": "insertIntoCache(\"What's trending right now?\", \"This, this, and that\")",
   "outputs": [],
   "execution_count": 8
  },
  {
   "metadata": {
    "ExecuteTime": {
     "end_time": "2025-05-23T11:32:50.125754Z",
     "start_time": "2025-05-23T11:32:49.931234Z"
    }
   },
   "cell_type": "code",
   "source": "getFromCache(\"What's trending today?\")",
   "outputs": [
    {
     "data": {
      "text/plain": [
       "This, this, and that"
      ]
     },
     "execution_count": 15,
     "metadata": {},
     "output_type": "execute_result"
    }
   ],
   "execution_count": 15
  },
  {
   "metadata": {
    "ExecuteTime": {
     "end_time": "2025-05-23T11:32:48.486839Z",
     "start_time": "2025-05-23T11:32:48.400840Z"
    }
   },
   "cell_type": "code",
   "source": "getFromCache(\"What are people saying about ChatGPT?\")",
   "outputs": [
    {
     "data": {
      "text/plain": []
     },
     "execution_count": 14,
     "metadata": {},
     "output_type": "execute_result"
    }
   ],
   "execution_count": 14
  }
 ],
 "metadata": {
  "kernelspec": {
   "display_name": "Kotlin",
   "language": "kotlin",
   "name": "kotlin"
  },
  "language_info": {
   "name": "kotlin",
   "version": "1.9.23",
   "mimetype": "text/x-kotlin",
   "file_extension": ".kt",
   "pygments_lexer": "kotlin",
   "codemirror_mode": "text/x-kotlin",
   "nbconvert_exporter": ""
  },
  "ktnbPluginMetadata": {
   "projectDependencies": [
    "kotlinconf-bsky-bot.kotlin-notebooks.main"
   ],
   "projectLibraries": false
  }
 },
 "nbformat": 4,
 "nbformat_minor": 0
}
