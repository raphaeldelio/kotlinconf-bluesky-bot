{
 "cells": [
  {
   "metadata": {},
   "cell_type": "markdown",
   "source": [
    "# Building the bot\n",
    "\n",
    "In this notebook, we'll create a bot that will be used as the interface to analyze the enriched events from the previous notebook. The bot will allow users to:\n",
    "\n",
    "- Ask what's trending on Bluesky\n",
    "- Search for posts based on topics"
   ]
  },
  {
   "metadata": {},
   "cell_type": "markdown",
   "source": [
    "## Setting Up the Environment\n",
    "In this section, we'll set up the environment for our bot. We'll import the necessary libraries and create the HTTP client that we'll use to interact with the Bluesky API.\n"
   ]
  },
  {
   "metadata": {
    "ExecuteTime": {
     "end_time": "2025-05-23T11:47:14.511194Z",
     "start_time": "2025-05-23T11:47:14.308095Z"
    }
   },
   "cell_type": "code",
   "source": "%use coroutines",
   "outputs": [],
   "execution_count": 1
  },
  {
   "metadata": {},
   "cell_type": "markdown",
   "source": [
    "### Defining Authentication Data Models\n",
    "We need to define data classes to represent the response from the Bluesky authentication API. These models will be used to deserialize the JSON response from the API.\n"
   ]
  },
  {
   "metadata": {
    "ExecuteTime": {
     "end_time": "2025-05-23T11:47:14.878027Z",
     "start_time": "2025-05-23T11:47:14.515729Z"
    }
   },
   "cell_type": "code",
   "source": [
    "import kotlinx.serialization.SerialName\n",
    "import kotlinx.serialization.Serializable\n",
    "\n",
    "@Serializable\n",
    "data class LoginResponse(\n",
    "    @SerialName(\"accessJwt\") val accessJwt: String,\n",
    "    @SerialName(\"refreshJwt\") val refreshJwt: String,\n",
    "    @SerialName(\"handle\") val handle: String,\n",
    "    @SerialName(\"did\") val did: String,\n",
    "    @SerialName(\"didDoc\") val didDoc: DidDoc?,\n",
    "    @SerialName(\"email\") val email: String?,\n",
    "    @SerialName(\"emailConfirmed\") val emailConfirmed: Boolean?,\n",
    "    @SerialName(\"emailAuthFactor\") val emailAuthFactor: Boolean?,\n",
    "    @SerialName(\"active\") val active: Boolean,\n",
    "    @SerialName(\"status\") val status: String? = null\n",
    ")\n",
    "\n",
    "@Serializable\n",
    "data class DidDoc(\n",
    "    @SerialName(\"id\") val id: String?\n",
    ")"
   ],
   "outputs": [],
   "execution_count": 2
  },
  {
   "metadata": {},
   "cell_type": "markdown",
   "source": [
    "### Implementing Authentication\n",
    "Now we'll implement the function to authenticate with the Bluesky API. This function will send a POST request to the API with our username and password, and return an access token that we can use for subsequent requests.\n"
   ]
  },
  {
   "metadata": {
    "ExecuteTime": {
     "end_time": "2025-05-23T11:47:14.938423Z",
     "start_time": "2025-05-23T11:47:14.883027Z"
    }
   },
   "cell_type": "code",
   "source": [
    "val API_URL = \"https://bsky.social/xrpc\"\n",
    "val USERNAME = \"devbubble.bsky.social\"\n",
    "val PASSWORD = System.getenv(\"DEVBUBBLE_TOKEN\")"
   ],
   "outputs": [],
   "execution_count": 3
  },
  {
   "metadata": {
    "ExecuteTime": {
     "end_time": "2025-05-23T11:47:15.593130Z",
     "start_time": "2025-05-23T11:47:14.947555Z"
    }
   },
   "cell_type": "code",
   "source": [
    "import dev.raphaeldelio.*\n",
    "import io.ktor.client.call.body\n",
    "import io.ktor.client.request.HttpRequestBuilder\n",
    "import io.ktor.client.request.headers\n",
    "import io.ktor.client.request.post\n",
    "import io.ktor.client.request.setBody\n",
    "import io.ktor.http.ContentType\n",
    "import io.ktor.http.HeadersBuilder\n",
    "import io.ktor.http.HttpStatusCode\n",
    "import io.ktor.http.contentType\n",
    "\n",
    "suspend fun getAccessToken(): String {\n",
    "    val response = httpClient.post(\"$API_URL/com.atproto.server.createSession\") {\n",
    "        contentType(ContentType.Application.Json)\n",
    "        setBody(\n",
    "            mapOf(\n",
    "                \"identifier\" to USERNAME,\n",
    "                \"password\" to PASSWORD\n",
    "            )\n",
    "        )\n",
    "    }\n",
    "\n",
    "    return if (response.status == HttpStatusCode.OK) {\n",
    "        val result: LoginResponse = response.body()\n",
    "        jedisPooled.set(\"mainDid\", result.did)\n",
    "        println(\"✅ Login successful. DID: ${result.did}\")\n",
    "        result.accessJwt\n",
    "    } else {\n",
    "        println(\"⚠️ Authentication failed: ${response.status}\")\n",
    "        \"\"\n",
    "    }\n",
    "}"
   ],
   "outputs": [],
   "execution_count": 4
  },
  {
   "metadata": {},
   "cell_type": "markdown",
   "source": [
    "### Getting the Access Token\n",
    "Now we'll call the `getAccessToken` function to get an access token from the Bluesky API. We'll store this token in a variable that we can use for subsequent requests.\n"
   ]
  },
  {
   "metadata": {
    "ExecuteTime": {
     "end_time": "2025-05-23T11:47:17.113998Z",
     "start_time": "2025-05-23T11:47:15.602004Z"
    }
   },
   "cell_type": "code",
   "source": [
    "var blueskyToken: String\n",
    "runBlocking {\n",
    "    blueskyToken = getAccessToken()\n",
    "}"
   ],
   "outputs": [
    {
     "name": "stdout",
     "output_type": "stream",
     "text": [
      "✅ Login successful. DID: did:plc:qdwb7czl4gdbu5go25dza3vo\n"
     ]
    }
   ],
   "execution_count": 5
  },
  {
   "metadata": {},
   "cell_type": "markdown",
   "source": [
    "## Searching for Posts\n",
    "In this section, we'll implement the functionality to search for posts on Bluesky. We'll define data models to represent the search response and posts, and then implement a function to search for posts.\n",
    "\n",
    "### Defining Post Search Models\n",
    "First, we need to define data classes to represent the response from the Bluesky search API. These models will be used to deserialize the JSON response from the API.\n"
   ]
  },
  {
   "metadata": {
    "ExecuteTime": {
     "end_time": "2025-05-23T11:47:17.701097Z",
     "start_time": "2025-05-23T11:47:17.182980Z"
    }
   },
   "cell_type": "code",
   "source": [
    "@Serializable\n",
    "data class SearchResponse(\n",
    "    @SerialName(\"cursor\") val cursor: String? = null,\n",
    "    @SerialName(\"hitsTotal\") val hitsTotal: Int? = null,\n",
    "    @SerialName(\"posts\") val posts: List<Post>\n",
    ")\n",
    "\n",
    "@Serializable\n",
    "data class Post(\n",
    "    @SerialName(\"uri\") val uri: String,\n",
    "    @SerialName(\"cid\") val cid: String,\n",
    "    @SerialName(\"author\") val author: Author,\n",
    "    @SerialName(\"indexedAt\") val indexedAt: String,\n",
    "    @SerialName(\"record\") val record: Record?,\n",
    "    @SerialName(\"replyCount\") val replyCount: Int? = null,\n",
    "    @SerialName(\"repostCount\") val repostCount: Int? = null,\n",
    "    @SerialName(\"likeCount\") val likeCount: Int? = null,\n",
    "    @SerialName(\"quoteCount\") val quoteCount: Int? = null,\n",
    "\n",
    "    )\n",
    "\n",
    "@Serializable\n",
    "data class Author(\n",
    "    @SerialName(\"did\") val did: String,\n",
    "    @SerialName(\"handle\") val handle: String,\n",
    "    @SerialName(\"displayName\") val displayName: String? = null,\n",
    "    @SerialName(\"avatar\") val avatar: String? = null\n",
    ")\n",
    "\n",
    "@Serializable\n",
    "data class Record(\n",
    "    @SerialName(\"text\") val text: String? = null,\n",
    "    @SerialName(\"embed\") val embed: Embed? = null,\n",
    "    @SerialName(\"createdAt\") val createdAt: String\n",
    ")\n",
    "\n",
    "@Serializable\n",
    "data class Embed(\n",
    "    @SerialName(\"images\") val images: List<Image>? = null\n",
    ")\n",
    "\n",
    "@Serializable\n",
    "data class Image(\n",
    "    @SerialName(\"thumb\") val thumb: String? = null, // Nullable to handle missing values\n",
    "    @SerialName(\"fullsize\") val fullsize: String? = null,\n",
    "    @SerialName(\"alt\") val alt: String? = null // Alt text is also optional\n",
    ")"
   ],
   "outputs": [],
   "execution_count": 6
  },
  {
   "metadata": {},
   "cell_type": "markdown",
   "source": [
    "### Implementing Post Search\n",
    "Now we'll implement the function to search for posts on Bluesky. This function will send a GET request to the API with our search parameters, and return a list of posts that match our search criteria.\n",
    "\n",
    "The function uses pagination to retrieve all posts that match the search criteria, even if there are more than can be returned in a single response.\n"
   ]
  },
  {
   "metadata": {
    "ExecuteTime": {
     "end_time": "2025-05-23T11:47:18.187939Z",
     "start_time": "2025-05-23T11:47:17.751229Z"
    }
   },
   "cell_type": "code",
   "source": [
    "import io.ktor.client.*\n",
    "import io.ktor.client.request.*\n",
    "import io.ktor.client.statement.*\n",
    "import io.ktor.client.call.*\n",
    "import io.ktor.http.*\n",
    "\n",
    "import java.time.Instant\n",
    "import java.time.temporal.ChronoUnit\n",
    "\n",
    "suspend fun searchPosts(sinceTime: String, term: String): List<Post> {\n",
    "    val allPosts = mutableListOf<Post>()\n",
    "    var cursor: String? = null\n",
    "\n",
    "    println(\"🔍 Searching posts with tag: $term since: $sinceTime\")\n",
    "    do {\n",
    "        val response: HttpResponse = httpClient.get(\"$API_URL/app.bsky.feed.searchPosts\") {\n",
    "            headers {\n",
    "                append(\"Authorization\", \"Bearer $blueskyToken\")\n",
    "            }\n",
    "            parameter(\"q\", term)\n",
    "            parameter(\"sort\", \"latest\")\n",
    "            parameter(\"limit\", 100)\n",
    "            parameter(\"since\", sinceTime)\n",
    "            if (cursor != null) {\n",
    "                parameter(\"cursor\", cursor)\n",
    "            }\n",
    "        }\n",
    "\n",
    "        if (response.status == HttpStatusCode.OK) {\n",
    "            val result: SearchResponse = response.body()\n",
    "            val posts = result.posts\n",
    "            println(\"✅ Retrieved ${posts.size} posts. Total so far: ${allPosts.size + posts.size}.\")\n",
    "            allPosts.addAll(posts)\n",
    "            cursor = result.cursor\n",
    "        } else {\n",
    "            println(\"⚠️ Failed to fetch posts. Status: ${response.status}\")\n",
    "            println(response.bodyAsText())\n",
    "            break\n",
    "        }\n",
    "    } while (cursor != null)\n",
    "\n",
    "    println(\"🎉 Finished fetching posts. Total retrieved: ${allPosts.size}.\")\n",
    "    return allPosts\n",
    "}"
   ],
   "outputs": [],
   "execution_count": 7
  },
  {
   "metadata": {},
   "cell_type": "markdown",
   "source": [
    "### Testing Post Search\n",
    "Let's test our post search function by searching for posts that mention our bot's handle. We'll search for posts from the last 15 hours, and for each post, we'll process the text to remove our bot's handle and then process the user's request.\n"
   ]
  },
  {
   "metadata": {
    "ExecuteTime": {
     "end_time": "2025-05-23T11:47:26.938448Z",
     "start_time": "2025-05-23T11:47:18.200975Z"
    }
   },
   "cell_type": "code",
   "source": [
    "val sinceTime = Instant.now().minus(15, ChronoUnit.HOURS).toString()\n",
    "runBlocking {\n",
    "    val posts = searchPosts(sinceTime, \"@devbubble.bsky.social\")\n",
    "    posts.forEach { post ->\n",
    "        post.record?.text?.replace(\"@devbubble.bsky.social\", \"\")?.trim()!!.let { cleanedPost ->\n",
    "            println(processUserRequest(cleanedPost, multiHandler))\n",
    "        }\n",
    "    }\n",
    "}"
   ],
   "outputs": [
    {
     "name": "stdout",
     "output_type": "stream",
     "text": [
      "🔍 Searching posts with tag: @devbubble.bsky.social since: 2025-05-22T20:47:18.474881Z\n",
      "✅ Retrieved 1 posts. Total so far: 1.\n",
      "🎉 Finished fetching posts. Total retrieved: 1.\n",
      "What's being said about ChatGPT\n",
      "summarization\n",
      "0.8501898050308228\n",
      "0.8\n",
      "\n",
      "[summarization]\n",
      "[ChatGPT, AI Chatbots, OpenAI, Generative Pre-trained Transformer, Natural Language Processing]\n",
      "[[Vercel Releases v0 AI Model for Web Application Development, Compatible with OpenAI API Vercel, the company behind the vibe coding platform for web application development, v0, is now releasing an artificial intelligence (AI) model. Announced on Thursda...\n",
      "\n",
      "| Details | Interest | Feed |, Wow Claude 4.0 😍 , we are in a different world !, OpenAI vs. R/Whereintheworld Article URL: https://www.whereisthisphoto.com/blog/openai-model-image-analysis Comments URL: https://news.ycombinator.com/item?id=44071449 Points: 2 # Comments: 1 \n",
      "\n",
      "| Details | Interest | Feed |, did you seriously need chatgpt to make this image? the illustration with text on it? that's the level of laziness on display?, Arrivano Claude Sonnet 4 e Opus 4: gli LLM più potenti di Anthropic, ma meglio essere \"positivi\" nei prompt\n",
      "https://www.dday.it/redazione/53102/arrivano-claude-sonnet-4-e-opus-4-i-modelli-linguistici-piu-potenti-di-anthropic-ma-meglio-essere-positivi-nei-prompt], \n",
      "]\n",
      "LLM Response:\n",
      " Recent posts highlight the capabilities of Claude 4.0 and other advanced AI models, showcasing significant advancements in artificial intelligence technology. Users express amazement at these developments, suggesting a rapid evolution in machine learning capabilities.\n"
     ]
    }
   ],
   "execution_count": 8
  },
  {
   "metadata": {},
   "cell_type": "markdown",
   "source": [
    "## Creating Posts\n",
    "In this section, we'll implement the functionality to create posts on Bluesky. We'll define data models to represent the post request and then implement a function to create posts.\n",
    "\n",
    "### Defining Post Creation Models\n",
    "First, we need to define data classes to represent the request we'll send to the Bluesky API to create a post. These models will be used to serialize our request into JSON.\n"
   ]
  },
  {
   "metadata": {
    "ExecuteTime": {
     "end_time": "2025-05-23T11:47:27.090407Z",
     "start_time": "2025-05-23T11:47:26.955178Z"
    }
   },
   "cell_type": "code",
   "source": [
    "@Serializable\n",
    "data class ReplyRef(\n",
    "    val root: PostRef,\n",
    "    val parent: PostRef\n",
    ")\n",
    "\n",
    "@Serializable\n",
    "data class PostRef(\n",
    "    val cid: String,\n",
    "    val uri: String\n",
    ")\n",
    "\n",
    "@Serializable\n",
    "data class PostRecord(\n",
    "    val `$type`: String = \"app.bsky.feed.post\",\n",
    "    val text: String,\n",
    "    val createdAt: String,\n",
    "    val reply: ReplyRef? = null\n",
    ")\n",
    "\n",
    "@Serializable\n",
    "data class PostRequest(\n",
    "    val repo: String,\n",
    "    val collection: String,\n",
    "    val record: PostRecord\n",
    ")\n"
   ],
   "outputs": [],
   "execution_count": 9
  },
  {
   "metadata": {},
   "cell_type": "markdown",
   "source": [
    "### Implementing Post Creation\n",
    "Now we'll implement the function to create posts on Bluesky. This function will send a POST request to the API with our post content, and return a boolean indicating whether the post was created successfully.\n",
    "\n",
    "The function can create both standalone posts and replies to existing posts. If `replyToUri` and `replyToCid` are provided, the post will be created as a reply to the specified post.\n"
   ]
  },
  {
   "metadata": {
    "ExecuteTime": {
     "end_time": "2025-05-23T11:47:27.242Z",
     "start_time": "2025-05-23T11:47:27.098312Z"
    }
   },
   "cell_type": "code",
   "source": [
    "suspend fun createPost(\n",
    "    text: String,\n",
    "    replyToUri: String? = null,\n",
    "    replyToCid: String? = null\n",
    "): Boolean {\n",
    "    val replyRef = if (replyToUri != null && replyToCid != null) {\n",
    "        ReplyRef(\n",
    "            root = PostRef(uri = replyToUri, cid = replyToCid),\n",
    "            parent = PostRef(uri = replyToUri, cid = replyToCid)\n",
    "        )\n",
    "    } else {\n",
    "        null\n",
    "    }\n",
    "\n",
    "    val record = PostRecord(\n",
    "        text = text,\n",
    "        createdAt = Instant.now().toString(),\n",
    "        reply = replyRef\n",
    "    )\n",
    "\n",
    "    val response: HttpResponse = httpClient.post(\"$API_URL/com.atproto.repo.createRecord\") {\n",
    "        headers {\n",
    "            append(\"Authorization\", \"Bearer $blueskyToken\")\n",
    "            contentType(ContentType.Application.Json)\n",
    "        }\n",
    "        setBody(\n",
    "            PostRequest(\n",
    "                repo = \"did:plc:qdwb7czl4gdbu5go25dza3vo\",\n",
    "                collection = \"app.bsky.feed.post\",\n",
    "                record = record\n",
    "            )\n",
    "        )\n",
    "    }\n",
    "\n",
    "    return if (response.status == HttpStatusCode.OK || response.status == HttpStatusCode.Accepted) {\n",
    "        println(\"✅ Post created${if (replyRef != null) \" (as reply)\" else \"\"}!\")\n",
    "        true\n",
    "    } else {\n",
    "        println(\"❌ Failed to create post: ${response.status}\")\n",
    "        println(response.bodyAsText())\n",
    "        false\n",
    "    }\n",
    "}"
   ],
   "outputs": [],
   "execution_count": 10
  },
  {
   "metadata": {
    "ExecuteTime": {
     "end_time": "2025-05-23T11:47:27.789290Z",
     "start_time": "2025-05-23T11:47:27.255506Z"
    }
   },
   "cell_type": "code",
   "source": [
    "runBlocking {\n",
    "    createPost(\"test\")\n",
    "}"
   ],
   "outputs": [
    {
     "name": "stdout",
     "output_type": "stream",
     "text": [
      "✅ Post created!\n"
     ]
    },
    {
     "data": {
      "text/plain": [
       "true"
      ]
     },
     "execution_count": 11,
     "metadata": {},
     "output_type": "execute_result"
    }
   ],
   "execution_count": 11
  },
  {
   "metadata": {},
   "cell_type": "markdown",
   "source": "### Putting It All Together"
  },
  {
   "metadata": {
    "ExecuteTime": {
     "end_time": "2025-05-23T11:47:28.043184Z",
     "start_time": "2025-05-23T11:47:27.844943Z"
    }
   },
   "cell_type": "code",
   "source": [
    "fun splitIntoChunks(text: String, maxLength: Int = 300): List<String> {\n",
    "    val words = text.split(Regex(\"\\\\s+\"))\n",
    "    val chunks = mutableListOf<String>()\n",
    "    var current = StringBuilder()\n",
    "\n",
    "    for (word in words) {\n",
    "        if (current.length + word.length + 1 > maxLength) {\n",
    "            chunks.add(current.toString().trim())\n",
    "            current = StringBuilder()\n",
    "        }\n",
    "        current.append(word).append(' ')\n",
    "    }\n",
    "\n",
    "    if (current.isNotEmpty()) {\n",
    "        chunks.add(current.toString().trim())\n",
    "    }\n",
    "\n",
    "    return chunks\n",
    "}"
   ],
   "outputs": [],
   "execution_count": 12
  },
  {
   "metadata": {
    "ExecuteTime": {
     "end_time": "2025-05-23T11:47:30.741294Z",
     "start_time": "2025-05-23T11:47:28.055821Z"
    }
   },
   "cell_type": "code",
   "source": [
    "val embeddingModel = getEmbeddingModelForRouting()\n",
    "val redisVectorStore = getSemanticCacheRedisVectorStore(embeddingModel)"
   ],
   "outputs": [],
   "execution_count": 13
  },
  {
   "metadata": {
    "ExecuteTime": {
     "end_time": "2025-05-23T11:49:28.593758Z",
     "start_time": "2025-05-23T11:49:18.921403Z"
    }
   },
   "cell_type": "code",
   "source": [
    "import dev.raphaeldelio.*\n",
    "\n",
    "val sinceTime = Instant.now().minus(15, ChronoUnit.HOURS).toString()\n",
    "runBlocking {\n",
    "    val posts = searchPosts(sinceTime, \"@devbubble.bsky.social\")\n",
    "    posts.forEach { post ->\n",
    "        post.record?.text?.replace(\"@devbubble.bsky.social\", \"\")?.trim()!!.let { cleanedPost ->\n",
    "            val handle = post.author.handle\n",
    "            var lastUri = post.uri\n",
    "            var lastCid = post.cid\n",
    "\n",
    "            val cachedResponse = getFromCache(redisVectorStore, cleanedPost)\n",
    "            val response = if (cachedResponse.isNotBlank()) {\n",
    "                cachedResponse\n",
    "            } else {\n",
    "                val response = processUserRequest(cleanedPost, multiHandler)\n",
    "                insertIntoCache(redisVectorStore, cleanedPost, response)\n",
    "                response\n",
    "            }\n",
    "\n",
    "            val finalResponse = \"@$handle $response\"\n",
    "            val chunks = splitIntoChunks(finalResponse)\n",
    "\n",
    "            chunks.forEach { chunk ->\n",
    "                createPost(\n",
    "                    chunk,\n",
    "                    lastUri,\n",
    "                    lastCid\n",
    "                )\n",
    "                lastUri = post.uri\n",
    "                lastCid = post.cid\n",
    "            }\n",
    "        }\n",
    "    }\n",
    "}"
   ],
   "outputs": [
    {
     "name": "stdout",
     "output_type": "stream",
     "text": [
      "🔍 Searching posts with tag: @devbubble.bsky.social since: 2025-05-22T20:49:19.030344Z\n",
      "✅ Retrieved 1 posts. Total so far: 1.\n",
      "🎉 Finished fetching posts. Total retrieved: 1.\n",
      "What's being said about OpenAI\n",
      "summarization\n",
      "0.8119206428527832\n",
      "0.8\n",
      "\n",
      "[summarization]\n",
      "[OpenAI, AI Ethics, Technology Trends]\n",
      "[[Vercel Releases v0 AI Model for Web Application Development, Compatible with OpenAI API Vercel, the company behind the vibe coding platform for web application development, v0, is now releasing an artificial intelligence (AI) model. Announced on Thursda...\n",
      "\n",
      "| Details | Interest | Feed |, Wow Claude 4.0 😍 , we are in a different world !, OpenAI vs. R/Whereintheworld Article URL: https://www.whereisthisphoto.com/blog/openai-model-image-analysis Comments URL: https://news.ycombinator.com/item?id=44071449 Points: 2 # Comments: 1 \n",
      "\n",
      "| Details | Interest | Feed |, did you seriously need chatgpt to make this image? the illustration with text on it? that's the level of laziness on display?, Arrivano Claude Sonnet 4 e Opus 4: gli LLM più potenti di Anthropic, ma meglio essere \"positivi\" nei prompt\n",
      "https://www.dday.it/redazione/53102/arrivano-claude-sonnet-4-e-opus-4-i-modelli-linguistici-piu-potenti-di-anthropic-ma-meglio-essere-positivi-nei-prompt], \n",
      "]\n",
      "LLM Response:\n",
      "✅ Post created (as reply)!\n",
      "✅ Post created (as reply)!\n"
     ]
    }
   ],
   "execution_count": 15
  }
 ],
 "metadata": {
  "kernelspec": {
   "display_name": "Kotlin",
   "language": "kotlin",
   "name": "kotlin"
  },
  "language_info": {
   "name": "kotlin",
   "version": "1.9.23",
   "mimetype": "text/x-kotlin",
   "file_extension": ".kt",
   "pygments_lexer": "kotlin",
   "codemirror_mode": "text/x-kotlin",
   "nbconvert_exporter": ""
  },
  "ktnbPluginMetadata": {
   "projectDependencies": [
    "kotlinconf-bsky-bot.kotlin-notebooks.main"
   ],
   "projectLibraries": false
  }
 },
 "nbformat": 4,
 "nbformat_minor": 0
}
