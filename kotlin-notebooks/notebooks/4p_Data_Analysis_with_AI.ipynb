{
 "cells": [
  {
   "metadata": {},
   "cell_type": "markdown",
   "source": [
    "# Data Analysis with AI\n",
    "\n",
    "In this notebook, we'll analyze the enriched events from the previous notebooks. We'll use a combination of AI techniques to analyze the data and build a simple question-answering system.\n",
    "\n",
    "## Overview of Previous Notebooks\n",
    "\n",
    "In the previous notebooks, we've built a pipeline for processing Bluesky posts:\n",
    "\n",
    "1. **JetStream Consumer**: We consumed Bluesky's Jetstream Websocket and inserted events into a Redis Stream.\n",
    "2. **JetStream Filtering**: We filtered events using Redis Bloom Filter for deduplication and a machine learning model for content-based filtering.\n",
    "3. **Events Enrichment**: We enriched the filtered events with topic modeling and embeddings for semantic search.\n",
    "\n",
    "## What We'll Build in This Notebook\n",
    "\n",
    "In this notebook, we'll build a simple question-answering system that can:\n",
    "\n",
    "1. Identify trending topics in the posts\n",
    "2. Perform semantic search to understand user queries\n",
    "3. Summarize posts about specific topics using a Large Language Model (LLM)\n",
    "4. Route different types of user queries to the appropriate handler\n",
    "\n",
    "This demonstrates how to combine Redis, vector search, and LLMs to build an intelligent data analysis system."
   ]
  },
  {
   "metadata": {},
   "cell_type": "markdown",
   "source": [
    "## Setting Up the Environment\n",
    "\n",
    "First, let's import the necessary libraries and set up our environment. We'll need:\n",
    "\n",
    "1. Helper functions from previous notebooks\n",
    "2. Ktor client for HTTP requests\n",
    "3. Serialization for JSON parsing\n",
    "4. Coroutines for asynchronous programming\n"
   ]
  },
  {
   "metadata": {
    "ExecuteTime": {
     "end_time": "2025-05-23T11:06:36.727473Z",
     "start_time": "2025-05-23T11:06:35.487967Z"
    }
   },
   "cell_type": "code",
   "source": [
    "%use ktor-client\n",
    "%use serialization\n",
    "%use coroutines"
   ],
   "outputs": [],
   "execution_count": 1
  },
  {
   "metadata": {},
   "cell_type": "markdown",
   "source": [
    "## Semantic Routing with Vector Search\n",
    "\n",
    "To build our question-answering system, we need to understand what the user is asking. We'll use a technique called semantic routing to classify user queries into different categories.\n",
    "\n",
    "For example, if a user asks \"What's trending right now?\", we want to route this to our trending topics handler. If they ask \"What are people saying about Trump?\", we want to route this to our summarization handler.\n",
    "\n",
    "We'll use vector search to match user queries to predefined routes. First, let's define some example queries for the trending topics route:\n"
   ]
  },
  {
   "metadata": {
    "ExecuteTime": {
     "end_time": "2025-05-23T11:06:46.278186Z",
     "start_time": "2025-05-23T11:06:46.222486Z"
    }
   },
   "cell_type": "code",
   "source": [
    "val trendingTopicsRoute = listOf(\n",
    "    \"What are the most mentioned topics?\",\n",
    "    \"What's trending right now?\",\n",
    "    \"What’s hot in the network\",\n",
    "    \"Top topics?\",\n",
    ")"
   ],
   "outputs": [],
   "execution_count": 2
  },
  {
   "metadata": {},
   "cell_type": "markdown",
   "source": [
    "## Setting Up the Vector Store\n",
    "\n",
    "To implement our query routing, we'll use Redis as a vector store to store and search for similar queries. A vector store is a database that stores vector embeddings and allows for efficient similarity search.\n",
    "\n",
    "We'll use Redis as our vector store and Spring AI to create embeddings. First, let's set up the embedding model:\n"
   ]
  },
  {
   "metadata": {
    "ExecuteTime": {
     "end_time": "2025-05-23T11:06:59.633852Z",
     "start_time": "2025-05-23T11:06:53.058828Z"
    }
   },
   "cell_type": "code",
   "source": [
    "import org.springframework.ai.transformers.TransformersEmbeddingModel\n",
    "\n",
    "val embeddingModel = TransformersEmbeddingModel()\n",
    "embeddingModel.setModelResource(\"file:resources/model/bge-large-en-v1.5/model.onnx\")\n",
    "embeddingModel.setTokenizerResource(\"file:resources/model/bge-large-en-v1.5/tokenizer.json\")\n",
    "embeddingModel.afterPropertiesSet()"
   ],
   "outputs": [],
   "execution_count": 3
  },
  {
   "metadata": {},
   "cell_type": "markdown",
   "source": [
    "## Configuring the Redis Vector Store\n",
    "\n",
    "Now, let's configure the Redis vector store. We'll use Spring AI's RedisVectorStore, which provides a high-level interface for storing and searching vector embeddings in Redis.\n",
    "\n",
    "The configuration includes:\n",
    "- The index name for our vector store\n",
    "- The field names for content and embeddings\n",
    "- Metadata fields for storing additional information\n",
    "- The prefix for our keys in Redis\n",
    "- The vector algorithm to use for similarity search (FLAT in this case)\n"
   ]
  },
  {
   "metadata": {
    "ExecuteTime": {
     "end_time": "2025-05-23T11:07:07.802708Z",
     "start_time": "2025-05-23T11:07:07.009467Z"
    }
   },
   "cell_type": "code",
   "source": [
    "import dev.raphaeldelio.*\n",
    "import org.springframework.ai.vectorstore.redis.RedisVectorStore\n",
    "import org.springframework.ai.vectorstore.redis.RedisVectorStore.MetadataField\n",
    "import redis.clients.jedis.search.Schema.FieldType\n",
    "\n",
    "val redisVectorStore = RedisVectorStore.builder(jedisPooled, embeddingModel)\n",
    "    .indexName(\"routeIdx\")\n",
    "    .contentFieldName(\"text\")\n",
    "    .embeddingFieldName(\"textEmbedding\")\n",
    "    .metadataFields(\n",
    "        MetadataField(\"route\", FieldType.TEXT),\n",
    "        MetadataField(\"minThreshold\", FieldType.NUMERIC),\n",
    "    )\n",
    "    .prefix(\"route:\")\n",
    "    .initializeSchema(true)\n",
    "    .vectorAlgorithm(RedisVectorStore.Algorithm.FLAT)\n",
    "    .build()\n",
    "redisVectorStore.afterPropertiesSet()"
   ],
   "outputs": [],
   "execution_count": 4
  },
  {
   "metadata": {},
   "cell_type": "markdown",
   "source": [
    "## Creating and Storing Route Documents\n",
    "\n",
    "Now that we have our vector store set up, we need to create documents for our routes and store them in the vector store. Each document represents a possible user query and contains:\n",
    "\n",
    "- The route it belongs to (e.g., \"trending_topics\")\n",
    "- The text of the query (e.g., \"What's trending right now?\")\n",
    "- A minimum threshold for matching (to avoid false positives)\n",
    "\n",
    "We'll create a function to create these documents and another function to store them in Redis:\n"
   ]
  },
  {
   "metadata": {
    "ExecuteTime": {
     "end_time": "2025-05-23T11:07:33.565124Z",
     "start_time": "2025-05-23T11:07:33.305223Z"
    }
   },
   "cell_type": "code",
   "source": [
    "import org.springframework.ai.document.Document\n",
    "import java.util.UUID\n",
    "\n",
    "fun storeRouteDocumentsInRedis(routeName: String, minThreshold: Double, routeSamples: List<String>) {\n",
    "    val trendingTopicDocuments = routeSamples.map { text ->\n",
    "        createRouteDocument(routeName, text, minThreshold)\n",
    "    }\n",
    "\n",
    "    redisVectorStore.add(trendingTopicDocuments)\n",
    "}\n",
    "\n",
    "fun createRouteDocument(route: String, text: String, minThreshold: Double): Document {\n",
    "    return Document(\n",
    "        UUID.randomUUID().toString(),\n",
    "        text,\n",
    "        mapOf(\n",
    "            \"route\" to route,\n",
    "            \"text\" to text,\n",
    "            \"minThreshold\" to minThreshold,\n",
    "        )\n",
    "    )\n",
    "}\n",
    "\n",
    "storeRouteDocumentsInRedis(\"trending_topics\", 0.9, trendingTopicsRoute)"
   ],
   "outputs": [],
   "execution_count": 5
  },
  {
   "metadata": {},
   "cell_type": "markdown",
   "source": [
    "## Testing Vector Search\n",
    "\n",
    "Let's test our vector store by searching for a query similar to the ones we've stored. We'll use the `similaritySearch` method to find the most similar document to our query:\n"
   ]
  },
  {
   "metadata": {
    "ExecuteTime": {
     "end_time": "2025-05-23T11:07:53.350188Z",
     "start_time": "2025-05-23T11:07:53.213613Z"
    }
   },
   "cell_type": "code",
   "source": [
    "import org.springframework.ai.vectorstore.SearchRequest\n",
    "\n",
    "val query = \"Hey Dev Bubble. What's trending today? Excited to hear the news!\"\n",
    "\n",
    "redisVectorStore.similaritySearch(\n",
    "    SearchRequest.builder()\n",
    "        .topK(1)\n",
    "        .query(query)\n",
    "        .build()\n",
    ")?.forEach { document ->\n",
    "    println(\"Matched route: \" + document.metadata[\"route\"])\n",
    "    println(\"Matched text: \" + document.text)\n",
    "    println(\"Min threshold: \" + document.metadata[\"minThreshold\"])\n",
    "    println(\"Score: \" + document.score)\n",
    "    println()\n",
    "}"
   ],
   "outputs": [
    {
     "name": "stdout",
     "output_type": "stream",
     "text": [
      "Matched route: trending_topics\n",
      "Matched text: What's trending right now?\n",
      "Min threshold: 0.9\n",
      "Score: 0.9052984714508057\n",
      "\n"
     ]
    }
   ],
   "execution_count": 7
  },
  {
   "metadata": {},
   "cell_type": "markdown",
   "source": [
    "## Route Matching\n",
    "\n",
    "Now that we have our vector store set up and tested, we need to create a function to match user queries to routes. This function will:\n",
    "\n",
    "1. Break the user query into clauses (to handle complex queries)\n",
    "2. For each clause, find the most similar document in our vector store\n",
    "3. Check if the similarity score is above the minimum threshold\n",
    "4. Return the set of matched routes\n"
   ]
  },
  {
   "metadata": {
    "ExecuteTime": {
     "end_time": "2025-05-23T11:08:20.329058Z",
     "start_time": "2025-05-23T11:08:20.096115Z"
    }
   },
   "cell_type": "code",
   "source": [
    "import redis.clients.jedis.search.FTSearchParams\n",
    "import redis.clients.jedis.search.Query\n",
    "\n",
    "fun matchRoute(query: String): Set<String> {\n",
    "    return breakSentenceIntoClauses(query).flatMap { clause ->\n",
    "        val result = redisVectorStore.similaritySearch(\n",
    "            SearchRequest.builder()\n",
    "                .topK(1)\n",
    "                .query(clause)\n",
    "                .build()\n",
    "        )\n",
    "\n",
    "        val route = result?.firstOrNull()?.metadata?.get(\"route\") as String\n",
    "        val minThreshold = result.firstOrNull()?.metadata?.get(\"minThreshold\") as String\n",
    "\n",
    "        result.forEach { document ->\n",
    "            println(clause)\n",
    "            println(\"Matched route: \" + document.metadata[\"route\"])\n",
    "            println(\"Matched text: \" + document.text)\n",
    "            println(\"Min threshold: \" + document.metadata[\"minThreshold\"])\n",
    "            println(\"Score: \" + document.score)\n",
    "            println()\n",
    "        }\n",
    "\n",
    "        result.filter { (it?.score ?: 0.0) > minThreshold.toDouble() }.map {\n",
    "            it?.metadata?.get(\"route\") as String\n",
    "        }\n",
    "    }.toSet()\n",
    "}\n",
    "\n",
    "fun breakSentenceIntoClauses(sentence: String): List<String> {\n",
    "    return sentence.split(Regex(\"\"\"[!?,.:;()\"\\[\\]{}]+\"\"\"))\n",
    "        .filter { it.isNotBlank() }.map { it.trim() }\n",
    "}"
   ],
   "outputs": [],
   "execution_count": 8
  },
  {
   "metadata": {},
   "cell_type": "markdown",
   "source": [
    "## Testing Route Matching\n",
    "\n",
    "Let's test our route matching function with a sample query:\n"
   ]
  },
  {
   "metadata": {
    "ExecuteTime": {
     "end_time": "2025-05-23T11:08:46.676774Z",
     "start_time": "2025-05-23T11:08:46.544570Z"
    }
   },
   "cell_type": "code",
   "source": "matchRoute(\"Hey DevBubble, what's trending in the network? Let me know!!\")",
   "outputs": [
    {
     "name": "stdout",
     "output_type": "stream",
     "text": [
      "Hey DevBubble\n",
      "Matched route: trending_topics\n",
      "Matched text: What’s hot in the network\n",
      "Min threshold: 0.9\n",
      "Score: 0.7936378717422485\n",
      "\n",
      "what's trending in the network\n",
      "Matched route: trending_topics\n",
      "Matched text: What's trending right now?\n",
      "Min threshold: 0.9\n",
      "Score: 0.9403464198112488\n",
      "\n",
      "Let me know\n",
      "Matched route: trending_topics\n",
      "Matched text: What's trending right now?\n",
      "Min threshold: 0.9\n",
      "Score: 0.8138612508773804\n",
      "\n"
     ]
    },
    {
     "data": {
      "text/plain": [
       "[trending_topics]"
      ]
     },
     "execution_count": 10,
     "metadata": {},
     "output_type": "execute_result"
    }
   ],
   "execution_count": 10
  },
  {
   "metadata": {},
   "cell_type": "markdown",
   "source": [
    "## Implementing Trending Topics\n",
    "\n",
    "Now that we have our route matching function, let's implement the trending topics handler. This handler will:\n",
    "\n",
    "1. Get the current minute (to query the count-min sketch for the current time window)\n",
    "2. Get all topics ever added to Redis\n",
    "3. For each topic, get the count from the count-min sketch\n",
    "4. Sort the topics by count (descending)\n",
    "5. Take the top 15 topics\n",
    "6. Return them as a set\n"
   ]
  },
  {
   "metadata": {
    "ExecuteTime": {
     "end_time": "2025-05-23T11:09:19.786523Z",
     "start_time": "2025-05-23T11:09:19.675136Z"
    }
   },
   "cell_type": "code",
   "source": [
    "import org.springframework.ai.chat.messages.SystemMessage\n",
    "import org.springframework.ai.chat.messages.UserMessage\n",
    "import org.springframework.ai.chat.prompt.Prompt\n",
    "import java.time.LocalDateTime\n",
    "\n",
    "fun trendingTopics(): Set<String> {\n",
    "    val currentMinute = LocalDateTime.now().withMinute(0).withSecond(0).withNano(0).toString()\n",
    "    val topTopics = jedisPooled.topkList(\"topics-topk:$currentMinute\")\n",
    "    topTopics.add(\"These are the most mentioned topics. Don't try to guess what's being said in the topics. Just say that these are the most mentioned topics.\")\n",
    "    return topTopics.toSet()\n",
    "}"
   ],
   "outputs": [],
   "execution_count": 11
  },
  {
   "metadata": {},
   "cell_type": "markdown",
   "source": [
    "## Testing Trending Topics\n",
    "\n",
    "Let's test our trending topics function:\n"
   ]
  },
  {
   "metadata": {
    "ExecuteTime": {
     "end_time": "2025-05-23T11:09:21.849191Z",
     "start_time": "2025-05-23T11:09:21.814567Z"
    }
   },
   "cell_type": "code",
   "source": "trendingTopics()",
   "outputs": [
    {
     "data": {
      "text/plain": [
       "[Generative Models, Prompt Engineering, AI, OpenAI, AI Tooling, Azure Cloud, HPC, Web Application Development, Supercomputers, AI Model, These are the most mentioned topics. Don't try to guess what's being said in the topics. Just say that these are the most mentioned topics.]"
      ]
     },
     "execution_count": 12,
     "metadata": {},
     "output_type": "execute_result"
    }
   ],
   "execution_count": 12
  },
  {
   "metadata": {},
   "cell_type": "markdown",
   "source": [
    "## Creating a Trending Topics Handler\n",
    "\n",
    "Now that we have our trending topics function, let's create a handler that can be used by our query router. This handler will:\n",
    "\n",
    "1. Take a route and a query as input\n",
    "2. If the route is \"trending_topics\", call our trendingTopics function\n",
    "3. Otherwise, return an empty list\n"
   ]
  },
  {
   "metadata": {
    "ExecuteTime": {
     "end_time": "2025-05-23T11:10:22.728241Z",
     "start_time": "2025-05-23T11:10:22.692710Z"
    }
   },
   "cell_type": "code",
   "source": [
    "import dev.raphaeldelio.*\n",
    "\n",
    "val routesHandler: (String, String) -> Iterable<String> = { route, query ->\n",
    "    when (route) {\n",
    "        \"trending_topics\" -> trendingTopics()\n",
    "        else -> emptyList()\n",
    "    }\n",
    "}"
   ],
   "outputs": [],
   "execution_count": 16
  },
  {
   "metadata": {},
   "cell_type": "markdown",
   "source": [
    "## Processing User Requests\n",
    "\n",
    "Now that we have our trending topics handler, let's create a function to process user requests. This function will:\n",
    "\n",
    "1. Take a user query and a handler function as input\n",
    "2. Use our matchRoute function to determine which routes match the query\n",
    "3. Call the handler function for each matched route to get the relevant data\n",
    "4. Use a Large Language Model to generate a response based on the user query and the data\n",
    "\n",
    "The LLM will help us generate a natural language response that summarizes the data in a concise way.\n"
   ]
  },
  {
   "metadata": {
    "ExecuteTime": {
     "end_time": "2025-05-23T11:17:39.160695Z",
     "start_time": "2025-05-23T11:17:39.085349Z"
    }
   },
   "cell_type": "code",
   "source": [
    "fun processUserRequest(\n",
    "    query: String,\n",
    "    routesHandler: (String, String) -> Iterable<String>\n",
    "): String {\n",
    "    val routes = matchRoute(query)\n",
    "    println(routes)\n",
    "\n",
    "    if (routes.isEmpty()) {\n",
    "        return \"Sorry, I couldn't find any relevant information from your post. Try asking what's trending or what people are saying about a specific topic.\"\n",
    "    }\n",
    "\n",
    "    val enrichedData = routes.map { route -> routesHandler(route, query) }\n",
    "    println(enrichedData + \"\\n\")\n",
    "\n",
    "    val systemPrompt = \"You are an AI assistant that analyzes social media posts about artificial intelligence. You may receive datasets to support your analysis. Respond in a single paragraph with a maximum of 300 characters—like a tweet. Your answer must be concise, informative, and context-aware. Include relevant insights, trends, or classifications, but never exceed 300 characters. Avoid filler, repetition, or unnecessary explanation. Prioritize clarity, accuracy, and relevance. If unsure, default to brief summaries or best-effort classification. Your goal is to help users quickly understand or categorize AI-related content.\"\n",
    "\n",
    "    println(\"LLM Response:\")\n",
    "    return ollamaChatModel.call(\n",
    "        Prompt(\n",
    "            SystemMessage(systemPrompt),\n",
    "            SystemMessage(\"Enriching data: $enrichedData\"),\n",
    "            UserMessage(\"User query: $query\")\n",
    "        )\n",
    "    ).result.output.text ?: \"\"\n",
    "}"
   ],
   "outputs": [],
   "execution_count": 37
  },
  {
   "metadata": {},
   "cell_type": "markdown",
   "source": [
    "## Testing User Requests\n",
    "\n",
    "Let's test our processUserRequest function with a sample query:\n"
   ]
  },
  {
   "metadata": {
    "ExecuteTime": {
     "end_time": "2025-05-23T11:12:06.243028Z",
     "start_time": "2025-05-23T11:12:04.658455Z"
    }
   },
   "cell_type": "code",
   "source": "processUserRequest(\"What's trending in bluesky now?\", trendingTopicsHandler)",
   "outputs": [
    {
     "name": "stdout",
     "output_type": "stream",
     "text": [
      "What's trending in bluesky now\n",
      "Matched route: trending_topics\n",
      "Matched text: What's trending right now?\n",
      "Min threshold: 0.9\n",
      "Score: 0.9147495031356812\n",
      "\n",
      "[trending_topics]\n",
      "[[Generative Models, Prompt Engineering, AI, OpenAI, AI Tooling, Azure Cloud, HPC, Web Application Development, Supercomputers, AI Model, These are the most mentioned topics. Don't try to guess what's being said in the topics. Just say that these are the most mentioned topics.], \n",
      "]\n",
      "LLM Response:\n"
     ]
    },
    {
     "data": {
      "text/plain": [
       " Bluesky is currently seeing a surge in mentions of generative models, prompt engineering, and AI tooling. These areas represent significant advancements and applications within the broader field of artificial intelligence, showcasing innovation and potential uses across various sectors from cloud computing to supercomputers, reflecting a dynamic shift in technology trends."
      ]
     },
     "execution_count": 19,
     "metadata": {},
     "output_type": "execute_result"
    }
   ],
   "execution_count": 19
  },
  {
   "metadata": {},
   "cell_type": "markdown",
   "source": [
    "## Implementing Summarization\n",
    "\n",
    "In addition to trending topics, we also want to be able to summarize posts about specific topics. For example, if a user asks \"What are people saying about Trump?\", we want to find posts about Trump and summarize them.\n",
    "\n",
    "First, let's define some example queries for the summarization route:\n"
   ]
  },
  {
   "metadata": {
    "ExecuteTime": {
     "end_time": "2025-05-23T11:12:45.636378Z",
     "start_time": "2025-05-23T11:12:45.606301Z"
    }
   },
   "cell_type": "code",
   "source": [
    "val summarizationRoute = listOf(\n",
    "    \"What are people saying about {topics}?\",\n",
    "    \"What’s the buzz around {topics}?\",\n",
    "    \"Any chatter about {topics}?\",\n",
    "    \"What are folks talking about regarding {topics}?\",\n",
    "    \"What’s being said about {topics} lately?\",\n",
    "    \"What have people been posting about {topics}?\",\n",
    "    \"What's trending in conversations about {topics}?\",\n",
    "    \"What’s the latest talk on {topics}?\",\n",
    "    \"Any recent posts about {topics}?\",\n",
    "    \"What's the sentiment around {topics}?\",\n",
    "    \"What are people saying about {topic1} and {topic2}?\",\n",
    "    \"What are folks talking about when it comes to {topic1}, {topic2}, or both?\",\n",
    "    \"What’s being said about {topic1}, {topic2}, and others?\",\n",
    "    \"Is there any discussion around {topic1} and {topic2}?\",\n",
    "    \"How are people reacting to both {topic1} and {topic2}?\",\n",
    "    \"What’s the conversation like around {topic1}, {topic2}, or related topics?\",\n",
    "    \"Are {topic1} and {topic2} being discussed together?\",\n",
    "    \"Any posts comparing {topic1} and {topic2}?\",\n",
    "    \"What's trending when it comes to {topic1} and {topic2}?\",\n",
    "    \"What are people saying about the relationship between {topic1} and {topic2}?\"\n",
    ")"
   ],
   "outputs": [],
   "execution_count": 20
  },
  {
   "metadata": {},
   "cell_type": "markdown",
   "source": [
    "## Storing Summarization Routes\n",
    "\n",
    "Now that we've defined our summarization routes, let's store them in our vector store:\n"
   ]
  },
  {
   "metadata": {
    "ExecuteTime": {
     "end_time": "2025-05-23T11:12:53.236358Z",
     "start_time": "2025-05-23T11:12:52.544963Z"
    }
   },
   "cell_type": "code",
   "source": "storeRouteDocumentsInRedis(\"summarization\", 0.8, summarizationRoute)",
   "outputs": [],
   "execution_count": 21
  },
  {
   "metadata": {},
   "cell_type": "markdown",
   "source": [
    "## Implementing the Summarization Function\n",
    "\n",
    "Now let's implement the summarization function. This function will:\n",
    "\n",
    "1. Extract topics from the user query using our topic modeling function\n",
    "2. For each topic, search for posts in Redis that have that topic\n",
    "3. Return the text of those posts\n"
   ]
  },
  {
   "metadata": {
    "ExecuteTime": {
     "end_time": "2025-05-23T11:15:13.315653Z",
     "start_time": "2025-05-23T11:15:13.207386Z"
    }
   },
   "cell_type": "code",
   "source": [
    "import org.springframework.ai.chat.messages.SystemMessage\n",
    "import org.springframework.ai.chat.messages.UserMessage\n",
    "import org.springframework.ai.chat.prompt.Prompt\n",
    "\n",
    "fun summarization(userQuery: String): List<String> {\n",
    "    val existingTopics = jedisPooled.smembers(\"topics\").joinToString { \", \" }\n",
    "    val queryTopics = topicExtraction(userQuery, existingTopics)\n",
    "        .replace(\"\\\"\", \"\")\n",
    "        .replace(\"“\", \"\")\n",
    "        .replace(\"”\", \"\")\n",
    "        .split(\", \")\n",
    "        .map { it.trim() }\n",
    "    println(queryTopics)\n",
    "\n",
    "    val posts = if (queryTopics.isEmpty()) {\n",
    "        val query = Query(\"*\")\n",
    "            .returnFields(\"text\")\n",
    "            .setSortBy(\"time_us\", false)\n",
    "            .dialect(2)\n",
    "            .limit(0, 10)\n",
    "\n",
    "        val result = jedisPooled.ftSearch(\n",
    "            \"postIdx\",\n",
    "            query\n",
    "        )\n",
    "\n",
    "        result.documents.map { document ->\n",
    "            document.get(\"text\").toString()\n",
    "        }\n",
    "    } else {\n",
    "        queryTopics.map { topic ->\n",
    "            val query = Query(\"@topics:{'$topic'}\")\n",
    "                .returnFields(\"text\")\n",
    "                .setSortBy(\"time_us\", false)\n",
    "                .dialect(2)\n",
    "                .limit(0, 10)\n",
    "\n",
    "            val result = jedisPooled.ftSearch(\n",
    "                \"postIdx\",\n",
    "                query\n",
    "            )\n",
    "\n",
    "            result.documents.map { document ->\n",
    "                document.get(\"text\").toString()\n",
    "            }\n",
    "        }.flatten()\n",
    "    }\n",
    "\n",
    "    return if (posts.isEmpty()) {\n",
    "        listOf(\"Nothing was found. Say that nothing was mentioned about these topics.\")\n",
    "    } else {\n",
    "        posts\n",
    "    }\n",
    "}"
   ],
   "outputs": [],
   "execution_count": 29
  },
  {
   "metadata": {},
   "cell_type": "markdown",
   "source": [
    "## Testing the Summarization Function\n",
    "\n",
    "Let's test our summarization function with a sample query:\n"
   ]
  },
  {
   "metadata": {
    "ExecuteTime": {
     "end_time": "2025-05-23T11:17:48.363131Z",
     "start_time": "2025-05-23T11:17:46.426332Z"
    }
   },
   "cell_type": "code",
   "source": "summarization(\"What's being said about Prompt Engineering?\")",
   "outputs": [
    {
     "name": "stdout",
     "output_type": "stream",
     "text": [
      "[Prompt Engineering, AI Strategy]\n"
     ]
    },
    {
     "data": {
      "text/plain": [
       "[I guess you’re unaware of how AI art works. I created this piece using art tools in a system called #Midjourney7 from a text called the prompt and various previously made images. Everything is designed by me but I didn’t write the software that converts it all to the final image. It’s complicated., chatgpt.com/s/m_6830566a... AI, I'm gonna bring up this example when I get pitched by some vendor at Plork about spending money to show up on AI Overview, chatgpt.com/s/m_68305649... AI, did you seriously need chatgpt to make this image? the illustration with text on it? that's the level of laziness on display?, I think as AI helps us look at genes for depression, the line between our actual biology and these tech predictions could get really blurry. This overlap makes us question who we are and how private our data truly is., With AI becoming more entangled with more industries, Smartass Publishers want to be as transparent as possible. As we deem the written word as just an offshoot of the human mind, any work that has come from us which has been created by AI software  will be labelled as such., Arrivano Claude Sonnet 4 e Opus 4: gli LLM più potenti di Anthropic, ma meglio essere \"positivi\" nei prompt\n",
       "https://www.dday.it/redazione/53102/arrivano-claude-sonnet-4-e-opus-4-i-modelli-linguistici-piu-potenti-di-anthropic-ma-meglio-essere-positivi-nei-prompt]"
      ]
     },
     "execution_count": 38,
     "metadata": {},
     "output_type": "execute_result"
    }
   ],
   "execution_count": 38
  },
  {
   "metadata": {},
   "cell_type": "markdown",
   "source": [
    "## Creating a Multi-Handler\n",
    "\n",
    "Now that we have both trending topics and summarization handlers, let's create a combined handler that can handle both types of queries:\n"
   ]
  },
  {
   "metadata": {
    "ExecuteTime": {
     "end_time": "2025-05-23T11:16:08.230280Z",
     "start_time": "2025-05-23T11:16:08.190179Z"
    }
   },
   "cell_type": "code",
   "source": [
    "val routesHandler: (String, String) -> Iterable<String> = { route, query ->\n",
    "    when (route) {\n",
    "        \"trending_topics\" -> trendingTopics()\n",
    "        \"summarization\" -> summarization(query)\n",
    "        else -> emptyList()\n",
    "    }\n",
    "}"
   ],
   "outputs": [],
   "execution_count": 32
  },
  {
   "metadata": {},
   "cell_type": "markdown",
   "source": [
    "## Testing the Complete System\n",
    "\n",
    "Now that we have our complete system, let's test it with different types of queries:\n"
   ]
  },
  {
   "metadata": {
    "ExecuteTime": {
     "end_time": "2025-05-23T11:18:10.701703Z",
     "start_time": "2025-05-23T11:18:07.477493Z"
    }
   },
   "cell_type": "code",
   "source": "processUserRequest(\"What's being said about ChatGPT?\", routesHandler)",
   "outputs": [
    {
     "name": "stdout",
     "output_type": "stream",
     "text": [
      "What's being said about ChatGPT\n",
      "Matched route: summarization\n",
      "Matched text: What are people saying about {topics}?\n",
      "Min threshold: 0.8\n",
      "Score: 0.8501898050308228\n",
      "\n",
      "[summarization]\n",
      "[ChatGPT, AI Conversations, Generative AI, OpenAI]\n",
      "[[Vercel Releases v0 AI Model for Web Application Development, Compatible with OpenAI API Vercel, the company behind the vibe coding platform for web application development, v0, is now releasing an artificial intelligence (AI) model. Announced on Thursda...\n",
      "\n",
      "| Details | Interest | Feed |, Wow Claude 4.0 😍 , we are in a different world !, OpenAI vs. R/Whereintheworld Article URL: https://www.whereisthisphoto.com/blog/openai-model-image-analysis Comments URL: https://news.ycombinator.com/item?id=44071449 Points: 2 # Comments: 1 \n",
      "\n",
      "| Details | Interest | Feed |, did you seriously need chatgpt to make this image? the illustration with text on it? that's the level of laziness on display?, Arrivano Claude Sonnet 4 e Opus 4: gli LLM più potenti di Anthropic, ma meglio essere \"positivi\" nei prompt\n",
      "https://www.dday.it/redazione/53102/arrivano-claude-sonnet-4-e-opus-4-i-modelli-linguistici-piu-potenti-di-anthropic-ma-meglio-essere-positivi-nei-prompt], \n",
      "]\n",
      "LLM Response:\n"
     ]
    },
    {
     "data": {
      "text/plain": [
       " People are excited about Claude 4.0, a powerful AI model from Anthropic. They also discuss the laziness of using ChatGPT for simple tasks and mention that ChatGPT has been used to create an image with text on it."
      ]
     },
     "execution_count": 40,
     "metadata": {},
     "output_type": "execute_result"
    }
   ],
   "execution_count": 40
  },
  {
   "metadata": {
    "ExecuteTime": {
     "end_time": "2025-05-23T11:18:26.607647Z",
     "start_time": "2025-05-23T11:18:24.794230Z"
    }
   },
   "cell_type": "code",
   "source": "processUserRequest(\"What's trending now'?\", multiHandler)",
   "outputs": [
    {
     "name": "stdout",
     "output_type": "stream",
     "text": [
      "What's trending now'\n",
      "Matched route: trending_topics\n",
      "Matched text: What's trending right now?\n",
      "Min threshold: 0.9\n",
      "Score: 0.9872353076934814\n",
      "\n",
      "[trending_topics]\n",
      "[[Generative Models, Prompt Engineering, AI, OpenAI, AI Tooling, Azure Cloud, HPC, Web Application Development, Supercomputers, AI Model, These are the most mentioned topics. Don't try to guess what's being said in the topics.], \n",
      "]\n",
      "LLM Response:\n"
     ]
    },
    {
     "data": {
      "text/plain": [
       " The latest buzz in AI is about generative models and prompt engineering, with OpenAI leading the trend. Meanwhile, tech giants like Microsoft Azure Cloud are pushing boundaries with their HPC (High Performance Computing) solutions for supercomputers and advanced AI model development. Web application developers are also jumping on this bandwagon to create innovative tools leveraging these technologies seamlessly."
      ]
     },
     "execution_count": 41,
     "metadata": {},
     "output_type": "execute_result"
    }
   ],
   "execution_count": 41
  },
  {
   "metadata": {
    "ExecuteTime": {
     "end_time": "2025-05-23T11:18:37.784603Z",
     "start_time": "2025-05-23T11:18:37.706076Z"
    }
   },
   "cell_type": "code",
   "source": "processUserRequest(\"What's on for lunch?\", multiHandler)",
   "outputs": [
    {
     "name": "stdout",
     "output_type": "stream",
     "text": [
      "What's on for lunch\n",
      "Matched route: trending_topics\n",
      "Matched text: What's trending right now?\n",
      "Min threshold: 0.9\n",
      "Score: 0.8346343040466309\n",
      "\n",
      "[]\n"
     ]
    },
    {
     "data": {
      "text/plain": [
       "Sorry, I couldn't find any relevant information from your post. Try asking what's trending or what people are saying about a specific topic."
      ]
     },
     "execution_count": 42,
     "metadata": {},
     "output_type": "execute_result"
    }
   ],
   "execution_count": 42
  }
 ],
 "metadata": {
  "kernelspec": {
   "display_name": "Kotlin",
   "language": "kotlin",
   "name": "kotlin"
  },
  "language_info": {
   "name": "kotlin",
   "version": "1.9.23",
   "mimetype": "text/x-kotlin",
   "file_extension": ".kt",
   "pygments_lexer": "kotlin",
   "codemirror_mode": "text/x-kotlin",
   "nbconvert_exporter": ""
  },
  "ktnbPluginMetadata": {
   "projectDependencies": [
    "kotlinconf-bsky-bot.kotlin-notebooks.main"
   ],
   "projectLibraries": false
  }
 },
 "nbformat": 4,
 "nbformat_minor": 0
}
