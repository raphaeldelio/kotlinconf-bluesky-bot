{
 "cells": [
  {
   "metadata": {},
   "cell_type": "markdown",
   "source": [
    "# Data Analysis with AI\n",
    "\n",
    "In this notebook, we'll analyze the enriched events from the previous notebooks. We'll use a combination of AI techniques to analyze the data and build a simple question-answering system.\n",
    "\n",
    "## Overview of Previous Notebooks\n",
    "\n",
    "In the previous notebooks, we've built a pipeline for processing Bluesky posts:\n",
    "\n",
    "1. **JetStream Consumer**: We consumed Bluesky's Jetstream Websocket and inserted events into a Redis Stream.\n",
    "2. **JetStream Filtering**: We filtered events using Redis Bloom Filter for deduplication and a machine learning model for content-based filtering.\n",
    "3. **Events Enrichment**: We enriched the filtered events with topic modeling and embeddings for semantic search.\n",
    "\n",
    "## What We'll Build in This Notebook\n",
    "\n",
    "In this notebook, we'll build a simple question-answering system that can:\n",
    "\n",
    "1. Identify trending topics in the posts\n",
    "2. Perform semantic search to understand user queries\n",
    "3. Summarize posts about specific topics using a Large Language Model (LLM)\n",
    "4. Route different types of user queries to the appropriate handler\n",
    "\n",
    "This demonstrates how to combine Redis, vector search, and LLMs to build an intelligent data analysis system."
   ]
  },
  {
   "metadata": {},
   "cell_type": "markdown",
   "source": [
    "## Setting Up the Environment\n",
    "\n",
    "First, let's import the necessary libraries and set up our environment. We'll need:\n",
    "\n",
    "1. Helper functions from previous notebooks\n",
    "2. Ktor client for HTTP requests\n",
    "3. Serialization for JSON parsing\n",
    "4. Coroutines for asynchronous programming\n"
   ]
  },
  {
   "metadata": {
    "ExecuteTime": {
     "end_time": "2025-05-22T18:53:15.786927Z",
     "start_time": "2025-05-22T18:53:15.171211Z"
    }
   },
   "cell_type": "code",
   "source": [
    "%use ktor-client\n",
    "%use serialization\n",
    "%use coroutines"
   ],
   "outputs": [],
   "execution_count": 62
  },
  {
   "metadata": {},
   "cell_type": "markdown",
   "source": [
    "## Semantic Routing with Vector Search\n",
    "\n",
    "To build our question-answering system, we need to understand what the user is asking. We'll use a technique called semantic routing to classify user queries into different categories.\n",
    "\n",
    "For example, if a user asks \"What's trending right now?\", we want to route this to our trending topics handler. If they ask \"What are people saying about Trump?\", we want to route this to our summarization handler.\n",
    "\n",
    "We'll use vector search to match user queries to predefined routes. First, let's define some example queries for the trending topics route:\n"
   ]
  },
  {
   "metadata": {
    "ExecuteTime": {
     "end_time": "2025-05-22T18:53:17.222521Z",
     "start_time": "2025-05-22T18:53:17.167994Z"
    }
   },
   "cell_type": "code",
   "source": [
    "val trendingTopicsRoute = listOf(\n",
    "    \"What are the most mentioned topics?\",\n",
    "    \"What's trending right now?\",\n",
    "    \"What’s hot in the network\",\n",
    "    \"Top topics?\",\n",
    ")"
   ],
   "outputs": [],
   "execution_count": 63
  },
  {
   "metadata": {},
   "cell_type": "markdown",
   "source": [
    "## Setting Up the Vector Store\n",
    "\n",
    "To implement our query routing, we'll use Redis as a vector store to store and search for similar queries. A vector store is a database that stores vector embeddings and allows for efficient similarity search.\n",
    "\n",
    "We'll use Redis as our vector store and Spring AI to create embeddings. First, let's set up the embedding model:\n"
   ]
  },
  {
   "metadata": {
    "ExecuteTime": {
     "end_time": "2025-05-22T18:53:25.328894Z",
     "start_time": "2025-05-22T18:53:19.044078Z"
    }
   },
   "cell_type": "code",
   "source": [
    "import org.springframework.ai.transformers.TransformersEmbeddingModel\n",
    "\n",
    "val embeddingModel = TransformersEmbeddingModel()\n",
    "embeddingModel.setModelResource(\"file:resources/model/bge-large-en-v1.5/model.onnx\")\n",
    "embeddingModel.setTokenizerResource(\"file:resources/model/bge-large-en-v1.5/tokenizer.json\")\n",
    "embeddingModel.afterPropertiesSet()"
   ],
   "outputs": [],
   "execution_count": 64
  },
  {
   "metadata": {},
   "cell_type": "markdown",
   "source": [
    "## Configuring the Redis Vector Store\n",
    "\n",
    "Now, let's configure the Redis vector store. We'll use Spring AI's RedisVectorStore, which provides a high-level interface for storing and searching vector embeddings in Redis.\n",
    "\n",
    "The configuration includes:\n",
    "- The index name for our vector store\n",
    "- The field names for content and embeddings\n",
    "- Metadata fields for storing additional information\n",
    "- The prefix for our keys in Redis\n",
    "- The vector algorithm to use for similarity search (FLAT in this case)\n"
   ]
  },
  {
   "metadata": {
    "ExecuteTime": {
     "end_time": "2025-05-22T18:53:29.714517Z",
     "start_time": "2025-05-22T18:53:29.372904Z"
    }
   },
   "cell_type": "code",
   "source": [
    "import dev.raphaeldelio.*\n",
    "import org.springframework.ai.vectorstore.redis.RedisVectorStore\n",
    "import org.springframework.ai.vectorstore.redis.RedisVectorStore.MetadataField\n",
    "import redis.clients.jedis.search.Schema.FieldType\n",
    "\n",
    "val redisVectorStore = RedisVectorStore.builder(jedisPooled, embeddingModel)\n",
    "    .indexName(\"routeIdx\")\n",
    "    .contentFieldName(\"text\")\n",
    "    .embeddingFieldName(\"textEmbedding\")\n",
    "    .metadataFields(\n",
    "        MetadataField(\"route\", FieldType.TEXT),\n",
    "        MetadataField(\"minThreshold\", FieldType.NUMERIC),\n",
    "    )\n",
    "    .prefix(\"route:\")\n",
    "    .initializeSchema(true)\n",
    "    .vectorAlgorithm(RedisVectorStore.Algorithm.FLAT)\n",
    "    .build()\n",
    "redisVectorStore.afterPropertiesSet()"
   ],
   "outputs": [],
   "execution_count": 65
  },
  {
   "metadata": {},
   "cell_type": "markdown",
   "source": [
    "## Creating and Storing Route Documents\n",
    "\n",
    "Now that we have our vector store set up, we need to create documents for our routes and store them in the vector store. Each document represents a possible user query and contains:\n",
    "\n",
    "- The route it belongs to (e.g., \"trending_topics\")\n",
    "- The text of the query (e.g., \"What's trending right now?\")\n",
    "- A minimum threshold for matching (to avoid false positives)\n",
    "\n",
    "We'll create a function to create these documents and another function to store them in Redis:\n"
   ]
  },
  {
   "metadata": {
    "ExecuteTime": {
     "end_time": "2025-05-22T18:53:33.186445Z",
     "start_time": "2025-05-22T18:53:32.966054Z"
    }
   },
   "cell_type": "code",
   "source": [
    "import org.springframework.ai.document.Document\n",
    "import java.util.UUID\n",
    "\n",
    "fun createRouteDocument(route: String, text: String, minThreshold: Double): Document {\n",
    "    return Document(\n",
    "        UUID.randomUUID().toString(),\n",
    "        text,\n",
    "        mapOf(\n",
    "            \"route\" to route,\n",
    "            \"text\" to text,\n",
    "            \"minThreshold\" to minThreshold,\n",
    "        )\n",
    "    )\n",
    "}\n",
    "\n",
    "fun storeRouteDocumentsInRedis(routeName: String, minThreshold: Double, routeSamples: List<String>) {\n",
    "    val trendingTopicDocuments = routeSamples.map { text ->\n",
    "        createRouteDocument(routeName, text, minThreshold)\n",
    "    }\n",
    "\n",
    "    redisVectorStore.add(trendingTopicDocuments)\n",
    "}\n",
    "\n",
    "storeRouteDocumentsInRedis(\"trending_topics\", 0.9, trendingTopicsRoute)"
   ],
   "outputs": [],
   "execution_count": 66
  },
  {
   "metadata": {},
   "cell_type": "markdown",
   "source": [
    "## Testing Vector Search\n",
    "\n",
    "Let's test our vector store by searching for a query similar to the ones we've stored. We'll use the `similaritySearch` method to find the most similar document to our query:\n"
   ]
  },
  {
   "metadata": {
    "ExecuteTime": {
     "end_time": "2025-05-22T18:53:56.255061Z",
     "start_time": "2025-05-22T18:53:56.094458Z"
    }
   },
   "cell_type": "code",
   "source": [
    "import org.springframework.ai.vectorstore.SearchRequest\n",
    "\n",
    "redisVectorStore.similaritySearch(\n",
    "    SearchRequest.builder()\n",
    "        .topK(1)\n",
    "        .query(\"Hey Dev Bubble. What's trending today? Excited to hear the news!\")\n",
    "        .build()\n",
    ")?.forEach { document ->\n",
    "    println(\"Matched route: \" + document.metadata[\"route\"])\n",
    "    println(\"Matched text: \" + document.text)\n",
    "    println(\"Min threshold: \" + document.metadata[\"minThreshold\"])\n",
    "    println(\"Score: \" + document.score)\n",
    "    println()\n",
    "}"
   ],
   "outputs": [
    {
     "name": "stdout",
     "output_type": "stream",
     "text": [
      "Matched route: trending_topics\n",
      "Matched text: What's trending right now?\n",
      "Min threshold: 0.9\n",
      "Score: 0.9052984714508057\n",
      "\n"
     ]
    }
   ],
   "execution_count": 67
  },
  {
   "metadata": {},
   "cell_type": "markdown",
   "source": [
    "## Route Matching\n",
    "\n",
    "Now that we have our vector store set up and tested, we need to create a function to match user queries to routes. This function will:\n",
    "\n",
    "1. Break the user query into clauses (to handle complex queries)\n",
    "2. For each clause, find the most similar document in our vector store\n",
    "3. Check if the similarity score is above the minimum threshold\n",
    "4. Return the set of matched routes\n"
   ]
  },
  {
   "metadata": {
    "ExecuteTime": {
     "end_time": "2025-05-22T18:54:22.174956Z",
     "start_time": "2025-05-22T18:54:22.000964Z"
    }
   },
   "cell_type": "code",
   "source": [
    "import redis.clients.jedis.search.FTSearchParams\n",
    "import redis.clients.jedis.search.Query\n",
    "\n",
    "fun breakSentenceIntoClauses(sentence: String): List<String> {\n",
    "    return sentence.split(Regex(\"\"\"[!?,.:;()\"\\[\\]{}]+\"\"\"))\n",
    "        .filter { it.isNotBlank() }.map { it.trim() }\n",
    "}\n",
    "\n",
    "fun matchRoute(query: String): Set<String> {\n",
    "    return breakSentenceIntoClauses(query).flatMap { clause ->\n",
    "        val result = redisVectorStore.similaritySearch(\n",
    "            SearchRequest.builder()\n",
    "                .topK(1)\n",
    "                .query(clause)\n",
    "                .build()\n",
    "        )\n",
    "\n",
    "        val route = result?.firstOrNull()?.metadata?.get(\"route\") as String\n",
    "        val minThreshold = result.firstOrNull()?.metadata?.get(\"minThreshold\") as String\n",
    "\n",
    "        result.forEach { document ->\n",
    "            println(clause)\n",
    "            println(\"Matched route: \" + document.metadata[\"route\"])\n",
    "            println(\"Matched text: \" + document.text)\n",
    "            println(\"Min threshold: \" + document.metadata[\"minThreshold\"])\n",
    "            println(\"Score: \" + document.score)\n",
    "            println()\n",
    "        }\n",
    "\n",
    "        result.filter { (it?.score ?: 0.0) > minThreshold.toDouble() }.map {\n",
    "            it?.metadata?.get(\"route\") as String\n",
    "        }\n",
    "    }.toSet()\n",
    "}"
   ],
   "outputs": [],
   "execution_count": 68
  },
  {
   "metadata": {},
   "cell_type": "markdown",
   "source": [
    "## Testing Route Matching\n",
    "\n",
    "Let's test our route matching function with a sample query:\n"
   ]
  },
  {
   "metadata": {
    "ExecuteTime": {
     "end_time": "2025-05-22T18:54:26.893606Z",
     "start_time": "2025-05-22T18:54:26.762514Z"
    }
   },
   "cell_type": "code",
   "source": "matchRoute(\"Hey DevBubble, what's trending today? Let me know!!\")",
   "outputs": [
    {
     "name": "stdout",
     "output_type": "stream",
     "text": [
      "Hey DevBubble\n",
      "Matched route: trending_topics\n",
      "Matched text: What’s hot in the network\n",
      "Min threshold: 0.9\n",
      "Score: 0.7936378717422485\n",
      "\n",
      "what's trending today\n",
      "Matched route: trending_topics\n",
      "Matched text: What's trending right now?\n",
      "Min threshold: 0.9\n",
      "Score: 0.979021430015564\n",
      "\n",
      "Let me know\n",
      "Matched route: trending_topics\n",
      "Matched text: What's trending right now?\n",
      "Min threshold: 0.9\n",
      "Score: 0.8138612508773804\n",
      "\n"
     ]
    },
    {
     "data": {
      "text/plain": [
       "[trending_topics]"
      ]
     },
     "execution_count": 69,
     "metadata": {},
     "output_type": "execute_result"
    }
   ],
   "execution_count": 69
  },
  {
   "metadata": {},
   "cell_type": "markdown",
   "source": [
    "## Implementing Trending Topics\n",
    "\n",
    "Now that we have our route matching function, let's implement the trending topics handler. This handler will:\n",
    "\n",
    "1. Get the current minute (to query the count-min sketch for the current time window)\n",
    "2. Get all topics ever added to Redis\n",
    "3. For each topic, get the count from the count-min sketch\n",
    "4. Sort the topics by count (descending)\n",
    "5. Take the top 15 topics\n",
    "6. Return them as a set\n"
   ]
  },
  {
   "metadata": {
    "ExecuteTime": {
     "end_time": "2025-05-22T18:55:02.478438Z",
     "start_time": "2025-05-22T18:55:02.438976Z"
    }
   },
   "cell_type": "code",
   "source": [
    "import org.springframework.ai.chat.messages.SystemMessage\n",
    "import org.springframework.ai.chat.messages.UserMessage\n",
    "import org.springframework.ai.chat.prompt.Prompt\n",
    "import java.time.LocalDateTime\n",
    "\n",
    "fun trendingTopics(): Set<String> {\n",
    "    val currentMinute = LocalDateTime.now().withMinute(0).withSecond(0).withNano(0).toString()\n",
    "    val topTopics = jedisPooled.topkList(\"topics-topk:$currentMinute\")\n",
    "    topTopics.add(\"These are the most mentioned topics. Don't try to guess what's being said in the topics.\")\n",
    "    return topTopics.toSet()\n",
    "}"
   ],
   "outputs": [],
   "execution_count": 70
  },
  {
   "metadata": {},
   "cell_type": "markdown",
   "source": [
    "## Testing Trending Topics\n",
    "\n",
    "Let's test our trending topics function:\n"
   ]
  },
  {
   "metadata": {
    "ExecuteTime": {
     "end_time": "2025-05-22T18:55:04.184273Z",
     "start_time": "2025-05-22T18:55:04.156748Z"
    }
   },
   "cell_type": "code",
   "source": "trendingTopics()",
   "outputs": [
    {
     "data": {
      "text/plain": [
       "[AI Content Generation, Generative AI, Deep Learning, AI Tooling, Prompt Engineering, Ethical AI Practices, Cryptocurrency, Tech and Crypto Landscape, Cybersecurity, Video Creation, AI Restrictions, AI in Transportation, Depression in Academia, Driverless Vehicles, Autonomous Technology, These are the most mentioned topics. Don't try to guess what's being said in the topics.]"
      ]
     },
     "execution_count": 71,
     "metadata": {},
     "output_type": "execute_result"
    }
   ],
   "execution_count": 71
  },
  {
   "metadata": {},
   "cell_type": "markdown",
   "source": [
    "## Creating a Trending Topics Handler\n",
    "\n",
    "Now that we have our trending topics function, let's create a handler that can be used by our query router. This handler will:\n",
    "\n",
    "1. Take a route and a query as input\n",
    "2. If the route is \"trending_topics\", call our trendingTopics function\n",
    "3. Otherwise, return an empty list\n"
   ]
  },
  {
   "metadata": {
    "ExecuteTime": {
     "end_time": "2025-05-22T18:55:11.388426Z",
     "start_time": "2025-05-22T18:55:11.348294Z"
    }
   },
   "cell_type": "code",
   "source": [
    "import dev.raphaeldelio.*\n",
    "\n",
    "val trendingTopicsHandler: (String, String) -> Iterable<String> = { route, query ->\n",
    "    when (route) {\n",
    "        \"trending_topics\" -> trendingTopics()\n",
    "        else -> emptyList()\n",
    "    }\n",
    "}"
   ],
   "outputs": [],
   "execution_count": 72
  },
  {
   "metadata": {},
   "cell_type": "markdown",
   "source": [
    "## Processing User Requests\n",
    "\n",
    "Now that we have our trending topics handler, let's create a function to process user requests. This function will:\n",
    "\n",
    "1. Take a user query and a handler function as input\n",
    "2. Use our matchRoute function to determine which routes match the query\n",
    "3. Call the handler function for each matched route to get the relevant data\n",
    "4. Use a Large Language Model to generate a response based on the user query and the data\n",
    "\n",
    "The LLM will help us generate a natural language response that summarizes the data in a concise way.\n"
   ]
  },
  {
   "metadata": {
    "ExecuteTime": {
     "end_time": "2025-05-22T18:55:13.719262Z",
     "start_time": "2025-05-22T18:55:13.658327Z"
    }
   },
   "cell_type": "code",
   "source": [
    "fun processUserRequest(\n",
    "    query: String,\n",
    "    handler: (String, String) -> Iterable<String>\n",
    "): String {\n",
    "    val routes = matchRoute(query)\n",
    "    println(routes)\n",
    "\n",
    "    if (routes.isEmpty()) {\n",
    "        return \"Sorry, I couldn't find any relevant information from your post. Try asking what's trending or what people are saying about a specific topic.\"\n",
    "    }\n",
    "\n",
    "    val enrichedData = routes.map { route -> handler(route, query) }\n",
    "    println(enrichedData + \"\\n\")\n",
    "\n",
    "    val systemPrompt = \"You are a bot that helps users analyse posts about artificial intelligence posts. You may be given a data set to help you answer questions. Answer in a max od 300 chars. I MEAN IT. It's a TWEET. Don't write more than 300 chars. Respond in only ONE paragraph. Be as concise as possible\"\n",
    "\n",
    "    println(\"LLM Response:\")\n",
    "    return ollamaChatModel.call(\n",
    "        Prompt(\n",
    "            SystemMessage(systemPrompt),\n",
    "            SystemMessage(\"Enriching data: $enrichedData\"),\n",
    "            UserMessage(\"User query: $query\")\n",
    "        )\n",
    "    ).result.output.text ?: \"\"\n",
    "}"
   ],
   "outputs": [],
   "execution_count": 73
  },
  {
   "metadata": {},
   "cell_type": "markdown",
   "source": [
    "## Testing User Requests\n",
    "\n",
    "Let's test our processUserRequest function with a sample query:\n"
   ]
  },
  {
   "metadata": {
    "ExecuteTime": {
     "end_time": "2025-05-22T18:55:23.670402Z",
     "start_time": "2025-05-22T18:55:16.536908Z"
    }
   },
   "cell_type": "code",
   "source": "processUserRequest(\"What's trending right now?\", trendingTopicsHandler)",
   "outputs": [
    {
     "name": "stdout",
     "output_type": "stream",
     "text": [
      "What's trending right now\n",
      "Matched route: trending_topics\n",
      "Matched text: What's trending right now?\n",
      "Min threshold: 0.9\n",
      "Score: 0.9956518411636353\n",
      "\n",
      "[trending_topics]\n",
      "[[AI Content Generation, Generative AI, Deep Learning, AI Tooling, Prompt Engineering, Ethical AI Practices, Cryptocurrency, Tech and Crypto Landscape, Cybersecurity, Video Creation, AI Restrictions, AI in Transportation, Depression in Academia, Driverless Vehicles, Autonomous Technology, These are the most mentioned topics. Don't try to guess what's being said in the topics.], \n",
      "]\n",
      "LLM Response:\n"
     ]
    },
    {
     "data": {
      "text/plain": [
       " Right now, people on social media are talking a lot about AI content generation, generative AI, deep learning, and other related stuff like prompt engineering and ethical AI practices. They also discuss cryptocurrency, tech trends, cybersecurity issues, video creation tools, limitations of AI in certain areas, advancements in autonomous technology, and the challenges faced by academics dealing with depression."
      ]
     },
     "execution_count": 74,
     "metadata": {},
     "output_type": "execute_result"
    }
   ],
   "execution_count": 74
  },
  {
   "metadata": {},
   "cell_type": "markdown",
   "source": [
    "## Implementing Summarization\n",
    "\n",
    "In addition to trending topics, we also want to be able to summarize posts about specific topics. For example, if a user asks \"What are people saying about Trump?\", we want to find posts about Trump and summarize them.\n",
    "\n",
    "First, let's define some example queries for the summarization route:\n"
   ]
  },
  {
   "metadata": {
    "ExecuteTime": {
     "end_time": "2025-05-22T18:55:48.399166Z",
     "start_time": "2025-05-22T18:55:48.329673Z"
    }
   },
   "cell_type": "code",
   "source": [
    "val summarizationRoute = listOf(\n",
    "    \"What are people saying about {topics}?\",\n",
    "    \"What’s the buzz around {topics}?\",\n",
    "    \"Any chatter about {topics}?\",\n",
    "    \"What are folks talking about regarding {topics}?\",\n",
    "    \"What’s being said about {topics} lately?\",\n",
    "    \"What have people been posting about {topics}?\",\n",
    "    \"What's trending in conversations about {topics}?\",\n",
    "    \"What’s the latest talk on {topics}?\",\n",
    "    \"Any recent posts about {topics}?\",\n",
    "    \"What's the sentiment around {topics}?\",\n",
    "    \"What are people saying about {topic1} and {topic2}?\",\n",
    "    \"What are folks talking about when it comes to {topic1}, {topic2}, or both?\",\n",
    "    \"What’s being said about {topic1}, {topic2}, and others?\",\n",
    "    \"Is there any discussion around {topic1} and {topic2}?\",\n",
    "    \"How are people reacting to both {topic1} and {topic2}?\",\n",
    "    \"What’s the conversation like around {topic1}, {topic2}, or related topics?\",\n",
    "    \"Are {topic1} and {topic2} being discussed together?\",\n",
    "    \"Any posts comparing {topic1} and {topic2}?\",\n",
    "    \"What's trending when it comes to {topic1} and {topic2}?\",\n",
    "    \"What are people saying about the relationship between {topic1} and {topic2}?\"\n",
    ")"
   ],
   "outputs": [],
   "execution_count": 75
  },
  {
   "metadata": {},
   "cell_type": "markdown",
   "source": [
    "## Storing Summarization Routes\n",
    "\n",
    "Now that we've defined our summarization routes, let's store them in our vector store:\n"
   ]
  },
  {
   "metadata": {
    "ExecuteTime": {
     "end_time": "2025-05-22T18:55:52.862119Z",
     "start_time": "2025-05-22T18:55:51.450141Z"
    }
   },
   "cell_type": "code",
   "source": "storeRouteDocumentsInRedis(\"summarization\", 0.8, summarizationRoute)",
   "outputs": [],
   "execution_count": 76
  },
  {
   "metadata": {},
   "cell_type": "markdown",
   "source": [
    "## Implementing the Summarization Function\n",
    "\n",
    "Now let's implement the summarization function. This function will:\n",
    "\n",
    "1. Extract topics from the user query using our topic modeling function\n",
    "2. For each topic, search for posts in Redis that have that topic\n",
    "3. Return the text of those posts\n"
   ]
  },
  {
   "metadata": {
    "ExecuteTime": {
     "end_time": "2025-05-22T18:55:55.956162Z",
     "start_time": "2025-05-22T18:55:55.833501Z"
    }
   },
   "cell_type": "code",
   "source": [
    "import org.springframework.ai.chat.messages.SystemMessage\n",
    "import org.springframework.ai.chat.messages.UserMessage\n",
    "import org.springframework.ai.chat.prompt.Prompt\n",
    "\n",
    "fun summarization(userQuery: String): List<String> {\n",
    "    val existingTopics = jedisPooled.smembers(\"topics\").joinToString { \", \" }\n",
    "    val queryTopics = topicExtraction(userQuery, existingTopics).replace(\"\\\"\", \"\").split(\", \")\n",
    "    println(queryTopics)\n",
    "\n",
    "    val posts = if (queryTopics.isEmpty()) {\n",
    "        val query = Query(\"*\")\n",
    "            .returnFields(\"text\")\n",
    "            .setSortBy(\"time_us\", false)\n",
    "            .dialect(2)\n",
    "            .limit(0, 10)\n",
    "\n",
    "        val result = jedisPooled.ftSearch(\n",
    "            \"postIdx\",\n",
    "            query\n",
    "        )\n",
    "\n",
    "        result.documents.map { document ->\n",
    "            document.get(\"text\").toString()\n",
    "        }\n",
    "    } else {\n",
    "        queryTopics.map { topic ->\n",
    "            val query = Query(\"@topics:{'$topic'}\")\n",
    "                .returnFields(\"text\")\n",
    "                .setSortBy(\"time_us\", false)\n",
    "                .dialect(2)\n",
    "                .limit(0, 10)\n",
    "\n",
    "            val result = jedisPooled.ftSearch(\n",
    "                \"postIdx\",\n",
    "                query\n",
    "            )\n",
    "\n",
    "            result.documents.map { document ->\n",
    "                document.get(\"text\").toString()\n",
    "            }\n",
    "        }.flatten()\n",
    "    }\n",
    "\n",
    "    return if (posts.isEmpty()) {\n",
    "        listOf(\"Nothing was found. Say that nothing was mentioned about these topics.\")\n",
    "    } else {\n",
    "        posts\n",
    "    }\n",
    "}"
   ],
   "outputs": [],
   "execution_count": 77
  },
  {
   "metadata": {},
   "cell_type": "markdown",
   "source": [
    "## Testing the Summarization Function\n",
    "\n",
    "Let's test our summarization function with a sample query:\n"
   ]
  },
  {
   "metadata": {
    "ExecuteTime": {
     "end_time": "2025-05-22T18:56:16.435788Z",
     "start_time": "2025-05-22T18:56:15.811563Z"
    }
   },
   "cell_type": "code",
   "source": "summarization(\"What's being said about OpenAI and Chatbots?\")",
   "outputs": [
    {
     "name": "stdout",
     "output_type": "stream",
     "text": [
      "[ OpenAI, Chatbots]\n"
     ]
    },
    {
     "data": {
      "text/plain": [
       "[Nothing was found. Say that nothing was mentioned about these topics.]"
      ]
     },
     "execution_count": 79,
     "metadata": {},
     "output_type": "execute_result"
    }
   ],
   "execution_count": 79
  },
  {
   "metadata": {},
   "cell_type": "markdown",
   "source": [
    "## Creating a Multi-Handler\n",
    "\n",
    "Now that we have both trending topics and summarization handlers, let's create a combined handler that can handle both types of queries:\n"
   ]
  },
  {
   "metadata": {
    "ExecuteTime": {
     "end_time": "2025-05-22T18:56:22.706177Z",
     "start_time": "2025-05-22T18:56:22.648638Z"
    }
   },
   "cell_type": "code",
   "source": [
    "val multiHandler: (String, String) -> Iterable<String> = { route, query ->\n",
    "    when (route) {\n",
    "        \"trending_topics\" -> trendingTopics()\n",
    "        \"summarization\" -> summarization(query)\n",
    "        else -> emptyList()\n",
    "    }\n",
    "}"
   ],
   "outputs": [],
   "execution_count": 80
  },
  {
   "metadata": {},
   "cell_type": "markdown",
   "source": [
    "## Testing the Complete System\n",
    "\n",
    "Now that we have our complete system, let's test it with different types of queries:\n"
   ]
  },
  {
   "metadata": {
    "ExecuteTime": {
     "end_time": "2025-05-22T18:56:37.755656Z",
     "start_time": "2025-05-22T18:56:34.042962Z"
    }
   },
   "cell_type": "code",
   "source": "processUserRequest(\"What's being said about ChatGPT and Chatbots?\", multiHandler)",
   "outputs": [
    {
     "name": "stdout",
     "output_type": "stream",
     "text": [
      "What's being said about ChatGPT and Chatbots\n",
      "Matched route: summarization\n",
      "Matched text: What are people saying about {topics}?\n",
      "Min threshold: 0.8\n",
      "Score: 0.8352869153022766\n",
      "\n",
      "[summarization]\n",
      "[ ChatGPT, Chatbots]\n",
      "[[Nothing was found. Say that nothing was mentioned about these topics.], \n",
      "]\n",
      "LLM Response:\n"
     ]
    },
    {
     "data": {
      "text/plain": [
       " ChatGPT is a sophisticated conversational AI model developed by OpenAI, capable of engaging in natural language conversations across various domains. Users appreciate its ability to provide relevant responses and adapt to different contexts, making it a valuable tool for information gathering, problem-solving, and general chit-chat. Its widespread use has sparked discussions on ethical implications, security concerns, and potential job displacement, with many users lauding its efficiency while others express worries about the impact on employment and personal data privacy."
      ]
     },
     "execution_count": 82,
     "metadata": {},
     "output_type": "execute_result"
    }
   ],
   "execution_count": 82
  },
  {
   "metadata": {
    "ExecuteTime": {
     "end_time": "2025-05-22T18:56:45.264140Z",
     "start_time": "2025-05-22T18:56:42.817896Z"
    }
   },
   "cell_type": "code",
   "source": "processUserRequest(\"What's trending now'?\", multiHandler)",
   "outputs": [
    {
     "name": "stdout",
     "output_type": "stream",
     "text": [
      "What's trending now'\n",
      "Matched route: trending_topics\n",
      "Matched text: What's trending right now?\n",
      "Min threshold: 0.9\n",
      "Score: 0.9872353076934814\n",
      "\n",
      "[trending_topics]\n",
      "[[AI Content Generation, Generative AI, Deep Learning, AI Tooling, Prompt Engineering, Ethical AI Practices, Cryptocurrency, Tech and Crypto Landscape, Cybersecurity, Video Creation, AI Restrictions, AI in Transportation, Depression in Academia, Driverless Vehicles, Autonomous Technology, These are the most mentioned topics. Don't try to guess what's being said in the topics.], \n",
      "]\n",
      "LLM Response:\n"
     ]
    },
    {
     "data": {
      "text/plain": [
       " Trending topics in AI and tech include content generation with generative AI, deep learning advancements, ethical considerations in AI practices, cryptocurrency discussions, cybersecurity concerns, innovative tools for video creation, restrictions on AI applications, exciting developments in AI for transportation like driverless vehicles, autonomous technology, and the broader context of these trends within the crypto and tech landscape."
      ]
     },
     "execution_count": 83,
     "metadata": {},
     "output_type": "execute_result"
    }
   ],
   "execution_count": 83
  },
  {
   "metadata": {
    "ExecuteTime": {
     "end_time": "2025-05-22T18:56:50.363259Z",
     "start_time": "2025-05-22T18:56:50.291972Z"
    }
   },
   "cell_type": "code",
   "source": "processUserRequest(\"What's on for lunch?\", multiHandler)",
   "outputs": [
    {
     "name": "stdout",
     "output_type": "stream",
     "text": [
      "What's on for lunch\n",
      "Matched route: trending_topics\n",
      "Matched text: What's trending right now?\n",
      "Min threshold: 0.9\n",
      "Score: 0.8346343040466309\n",
      "\n",
      "[]\n"
     ]
    },
    {
     "data": {
      "text/plain": [
       "Sorry, I couldn't find any relevant information from your post. Try asking what's trending or what people are saying about a specific topic."
      ]
     },
     "execution_count": 84,
     "metadata": {},
     "output_type": "execute_result"
    }
   ],
   "execution_count": 84
  }
 ],
 "metadata": {
  "kernelspec": {
   "display_name": "Kotlin",
   "language": "kotlin",
   "name": "kotlin"
  },
  "language_info": {
   "name": "kotlin",
   "version": "1.9.23",
   "mimetype": "text/x-kotlin",
   "file_extension": ".kt",
   "pygments_lexer": "kotlin",
   "codemirror_mode": "text/x-kotlin",
   "nbconvert_exporter": ""
  },
  "ktnbPluginMetadata": {
   "projectDependencies": [
    "kotlinconf-bsky-bot.kotlin-notebooks.main"
   ],
   "projectLibraries": false
  }
 },
 "nbformat": 4,
 "nbformat_minor": 0
}
