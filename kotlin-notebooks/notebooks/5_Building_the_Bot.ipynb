{
 "cells": [
  {
   "metadata": {},
   "cell_type": "markdown",
   "source": [
    "# Analyzing the Data\n",
    "\n",
    "In this notebook, we'll analyze the enriched events from the previous notebook. We'll use a combination of techniques to analyze the data:\n",
    "\n",
    "1. Querying Redis for trending topics\n",
    "2. Semantic search using embeddings\n",
    "3. Summarization of posts using a Large Language Model (LLM)\n",
    "4. Creating a simple query router to handle different types of user queries\n",
    "\n",
    "This notebook demonstrates how to build a simple question-answering system on top of the enriched data."
   ]
  },
  {
   "metadata": {
    "ExecuteTime": {
     "end_time": "2025-05-19T17:29:36.021930Z",
     "start_time": "2025-05-19T17:29:35.997695Z"
    }
   },
   "cell_type": "code",
   "source": "import dev.raphaeldelio.*",
   "outputs": [],
   "execution_count": 1
  },
  {
   "metadata": {
    "ExecuteTime": {
     "end_time": "2025-05-19T17:29:36.285753Z",
     "start_time": "2025-05-19T17:29:36.026618Z"
    }
   },
   "cell_type": "code",
   "source": "%use coroutines",
   "outputs": [],
   "execution_count": 2
  },
  {
   "metadata": {
    "ExecuteTime": {
     "end_time": "2025-05-19T17:29:36.664849Z",
     "start_time": "2025-05-19T17:29:36.302222Z"
    }
   },
   "cell_type": "code",
   "source": [
    "import io.ktor.client.HttpClient\n",
    "import io.ktor.client.engine.cio.CIO\n",
    "import io.ktor.client.plugins.contentnegotiation.ContentNegotiation\n",
    "import io.ktor.serialization.kotlinx.json.json\n",
    "import kotlinx.serialization.json.Json\n",
    "\n",
    "val client = HttpClient(CIO) {\n",
    "    install(ContentNegotiation) {\n",
    "        json(Json {\n",
    "            ignoreUnknownKeys = true\n",
    "        })\n",
    "    }\n",
    "}"
   ],
   "outputs": [],
   "execution_count": 3
  },
  {
   "metadata": {
    "ExecuteTime": {
     "end_time": "2025-05-19T17:29:36.731662Z",
     "start_time": "2025-05-19T17:29:36.670347Z"
    }
   },
   "cell_type": "code",
   "source": [
    "val API_URL = \"https://bsky.social/xrpc\"\n",
    "val USERNAME = \"devbubble.bsky.social\"\n",
    "val PASSWORD = System.getenv(\"DEVBUBBLE_TOKEN\")"
   ],
   "outputs": [],
   "execution_count": 4
  },
  {
   "metadata": {
    "ExecuteTime": {
     "end_time": "2025-05-19T17:29:37.280287Z",
     "start_time": "2025-05-19T17:29:36.741074Z"
    }
   },
   "cell_type": "code",
   "source": [
    "import kotlinx.serialization.SerialName\n",
    "import kotlinx.serialization.Serializable\n",
    "\n",
    "@Serializable\n",
    "data class LoginResponse(\n",
    "    @SerialName(\"accessJwt\") val accessJwt: String,\n",
    "    @SerialName(\"refreshJwt\") val refreshJwt: String,\n",
    "    @SerialName(\"handle\") val handle: String,\n",
    "    @SerialName(\"did\") val did: String,\n",
    "    @SerialName(\"didDoc\") val didDoc: DidDoc?,\n",
    "    @SerialName(\"email\") val email: String?,\n",
    "    @SerialName(\"emailConfirmed\") val emailConfirmed: Boolean?,\n",
    "    @SerialName(\"emailAuthFactor\") val emailAuthFactor: Boolean?,\n",
    "    @SerialName(\"active\") val active: Boolean,\n",
    "    @SerialName(\"status\") val status: String? = null\n",
    ")\n",
    "\n",
    "@Serializable\n",
    "data class DidDoc(\n",
    "    @SerialName(\"id\") val id: String?\n",
    ")"
   ],
   "outputs": [],
   "execution_count": 5
  },
  {
   "metadata": {
    "ExecuteTime": {
     "end_time": "2025-05-19T17:29:37.680904Z",
     "start_time": "2025-05-19T17:29:37.288940Z"
    }
   },
   "cell_type": "code",
   "source": [
    "import io.ktor.client.call.body\n",
    "import io.ktor.client.request.HttpRequestBuilder\n",
    "import io.ktor.client.request.headers\n",
    "import io.ktor.client.request.post\n",
    "import io.ktor.client.request.setBody\n",
    "import io.ktor.http.ContentType\n",
    "import io.ktor.http.HeadersBuilder\n",
    "import io.ktor.http.HttpStatusCode\n",
    "import io.ktor.http.contentType\n",
    "\n",
    "suspend fun getAccessToken(): String {\n",
    "    val response = client.post(\"$API_URL/com.atproto.server.createSession\") {\n",
    "        contentType(ContentType.Application.Json)\n",
    "        setBody(\n",
    "            mapOf(\n",
    "                \"identifier\" to USERNAME,\n",
    "                \"password\" to PASSWORD\n",
    "            )\n",
    "        )\n",
    "    }\n",
    "\n",
    "    return if (response.status == HttpStatusCode.OK) {\n",
    "        val result: LoginResponse = response.body()\n",
    "        jedisPooled.set(\"mainDid\", result.did)\n",
    "        println(\"✅ Login successful. DID: ${result.did}\")\n",
    "        result.accessJwt\n",
    "    } else {\n",
    "        println(\"⚠️ Authentication failed: ${response.status}\")\n",
    "        \"\"\n",
    "    }\n",
    "}"
   ],
   "outputs": [],
   "execution_count": 6
  },
  {
   "metadata": {
    "ExecuteTime": {
     "end_time": "2025-05-19T17:29:39.059823Z",
     "start_time": "2025-05-19T17:29:37.753111Z"
    }
   },
   "cell_type": "code",
   "source": [
    "var blueskyToken: String\n",
    "runBlocking {\n",
    "    blueskyToken = getAccessToken()\n",
    "}"
   ],
   "outputs": [
    {
     "name": "stdout",
     "output_type": "stream",
     "text": [
      "✅ Login successful. DID: did:plc:qdwb7czl4gdbu5go25dza3vo\n"
     ]
    }
   ],
   "execution_count": 7
  },
  {
   "metadata": {
    "ExecuteTime": {
     "end_time": "2025-05-19T17:29:39.351045Z",
     "start_time": "2025-05-19T17:29:39.069589Z"
    }
   },
   "cell_type": "code",
   "source": [
    "@Serializable\n",
    "data class SearchResponse(\n",
    "    @SerialName(\"cursor\") val cursor: String? = null,\n",
    "    @SerialName(\"hitsTotal\") val hitsTotal: Int? = null,\n",
    "    @SerialName(\"posts\") val posts: List<Post>\n",
    ")\n",
    "\n",
    "@Serializable\n",
    "data class Post(\n",
    "    @SerialName(\"uri\") val uri: String,\n",
    "    @SerialName(\"cid\") val cid: String,\n",
    "    @SerialName(\"author\") val author: Author,\n",
    "    @SerialName(\"indexedAt\") val indexedAt: String,\n",
    "    @SerialName(\"record\") val record: Record?,\n",
    "    @SerialName(\"replyCount\") val replyCount: Int? = null,\n",
    "    @SerialName(\"repostCount\") val repostCount: Int? = null,\n",
    "    @SerialName(\"likeCount\") val likeCount: Int? = null,\n",
    "    @SerialName(\"quoteCount\") val quoteCount: Int? = null,\n",
    "\n",
    "    )\n",
    "\n",
    "@Serializable\n",
    "data class Author(\n",
    "    @SerialName(\"did\") val did: String,\n",
    "    @SerialName(\"handle\") val handle: String,\n",
    "    @SerialName(\"displayName\") val displayName: String? = null,\n",
    "    @SerialName(\"avatar\") val avatar: String? = null\n",
    ")\n",
    "\n",
    "@Serializable\n",
    "data class Record(\n",
    "    @SerialName(\"text\") val text: String? = null,\n",
    "    @SerialName(\"embed\") val embed: Embed? = null,\n",
    "    @SerialName(\"createdAt\") val createdAt: String\n",
    ")\n",
    "\n",
    "@Serializable\n",
    "data class Embed(\n",
    "    @SerialName(\"images\") val images: List<Image>? = null\n",
    ")\n",
    "\n",
    "@Serializable\n",
    "data class Image(\n",
    "    @SerialName(\"thumb\") val thumb: String? = null, // Nullable to handle missing values\n",
    "    @SerialName(\"fullsize\") val fullsize: String? = null,\n",
    "    @SerialName(\"alt\") val alt: String? = null // Alt text is also optional\n",
    ")"
   ],
   "outputs": [],
   "execution_count": 8
  },
  {
   "metadata": {
    "ExecuteTime": {
     "end_time": "2025-05-19T17:29:39.532699Z",
     "start_time": "2025-05-19T17:29:39.360361Z"
    }
   },
   "cell_type": "code",
   "source": [
    "import io.ktor.client.*\n",
    "import io.ktor.client.request.*\n",
    "import io.ktor.client.statement.*\n",
    "import io.ktor.client.call.*\n",
    "import io.ktor.http.*\n",
    "\n",
    "import java.time.Instant\n",
    "import java.time.temporal.ChronoUnit\n",
    "\n",
    "suspend fun searchPosts(sinceTime: String, term: String): List<Post> {\n",
    "    val allPosts = mutableListOf<Post>()\n",
    "    var cursor: String? = null\n",
    "\n",
    "    println(\"🔍 Searching posts with tag: $term since: $sinceTime\")\n",
    "    do {\n",
    "        val response: HttpResponse = client.get(\"$API_URL/app.bsky.feed.searchPosts\") {\n",
    "            headers {\n",
    "                append(\"Authorization\", \"Bearer $blueskyToken\")\n",
    "            }\n",
    "            parameter(\"q\", term)\n",
    "            parameter(\"sort\", \"latest\")\n",
    "            parameter(\"limit\", 100)\n",
    "            parameter(\"since\", sinceTime)\n",
    "            if (cursor != null) {\n",
    "                parameter(\"cursor\", cursor)\n",
    "            }\n",
    "        }\n",
    "\n",
    "        if (response.status == HttpStatusCode.OK) {\n",
    "            val result: SearchResponse = response.body()\n",
    "            val posts = result.posts\n",
    "            println(\"✅ Retrieved ${posts.size} posts. Total so far: ${allPosts.size + posts.size}.\")\n",
    "            allPosts.addAll(posts)\n",
    "            cursor = result.cursor\n",
    "        } else {\n",
    "            println(\"⚠️ Failed to fetch posts. Status: ${response.status}\")\n",
    "            println(response.bodyAsText())\n",
    "            break\n",
    "        }\n",
    "    } while (cursor != null)\n",
    "\n",
    "    println(\"🎉 Finished fetching posts. Total retrieved: ${allPosts.size}.\")\n",
    "    return allPosts\n",
    "}"
   ],
   "outputs": [],
   "execution_count": 9
  },
  {
   "metadata": {
    "ExecuteTime": {
     "end_time": "2025-05-19T17:29:51.862886Z",
     "start_time": "2025-05-19T17:29:39.541603Z"
    }
   },
   "cell_type": "code",
   "source": [
    "val sinceTime = Instant.now().minus(15, ChronoUnit.HOURS).toString()\n",
    "runBlocking {\n",
    "    val posts = searchPosts(sinceTime, \"@devbubble.bsky.social\")\n",
    "    posts.forEach { post ->\n",
    "        post.record?.text?.replace(\"@devbubble.bsky.social\", \"\")?.trim()!!.let { cleanedPost ->\n",
    "            println(processUserRequest(cleanedPost, multiHandler))\n",
    "        }\n",
    "    }\n",
    "}"
   ],
   "outputs": [
    {
     "name": "stdout",
     "output_type": "stream",
     "text": [
      "🔍 Searching posts with tag: @devbubble.bsky.social since: 2025-05-19T02:29:39.640411Z\n",
      "✅ Retrieved 1 posts. Total so far: 1.\n",
      "🎉 Finished fetching posts. Total retrieved: 1.\n",
      "What's being said about Trump and Angela Merkel\n",
      "summarization\n",
      "0.8182173371315002\n",
      "0.8\n",
      "\n",
      "[summarization]\n",
      "[ Donald Trump, Angela Merkel, US Politics, German Politics]\n",
      " People are discussing how Trump is compared to Merkel's leadership. Some highlight her calm demeanor and long-term vision, suggesting a positive comparison in terms of effective governance amidst political instability.\n"
     ]
    }
   ],
   "execution_count": 10
  },
  {
   "metadata": {
    "ExecuteTime": {
     "end_time": "2025-05-19T17:29:52.241543Z",
     "start_time": "2025-05-19T17:29:51.874212Z"
    }
   },
   "cell_type": "code",
   "source": [
    "@Serializable\n",
    "data class ReplyRef(\n",
    "    val root: PostRef,\n",
    "    val parent: PostRef\n",
    ")\n",
    "\n",
    "@Serializable\n",
    "data class PostRef(\n",
    "    val cid: String,\n",
    "    val uri: String\n",
    ")\n",
    "\n",
    "@Serializable\n",
    "data class PostRecord(\n",
    "    val `$type`: String = \"app.bsky.feed.post\",\n",
    "    val text: String,\n",
    "    val createdAt: String,\n",
    "    val reply: ReplyRef? = null\n",
    ")\n",
    "\n",
    "@Serializable\n",
    "data class PostRequest(\n",
    "    val repo: String,\n",
    "    val collection: String,\n",
    "    val record: PostRecord\n",
    ")\n",
    "\n",
    "suspend fun createPost(\n",
    "    text: String,\n",
    "    replyToUri: String? = null,\n",
    "    replyToCid: String? = null\n",
    "): Boolean {\n",
    "    val replyRef = if (replyToUri != null && replyToCid != null) {\n",
    "        ReplyRef(\n",
    "            root = PostRef(uri = replyToUri, cid = replyToCid),\n",
    "            parent = PostRef(uri = replyToUri, cid = replyToCid)\n",
    "        )\n",
    "    } else {\n",
    "        null\n",
    "    }\n",
    "\n",
    "    val record = PostRecord(\n",
    "        text = text,\n",
    "        createdAt = Instant.now().toString(),\n",
    "        reply = replyRef\n",
    "    )\n",
    "\n",
    "    val response: HttpResponse = client.post(\"$API_URL/com.atproto.repo.createRecord\") {\n",
    "        headers {\n",
    "            append(\"Authorization\", \"Bearer $blueskyToken\")\n",
    "            contentType(ContentType.Application.Json)\n",
    "        }\n",
    "        setBody(\n",
    "            PostRequest(\n",
    "                repo = \"did:plc:qdwb7czl4gdbu5go25dza3vo\",\n",
    "                collection = \"app.bsky.feed.post\",\n",
    "                record = record\n",
    "            )\n",
    "        )\n",
    "    }\n",
    "\n",
    "    return if (response.status == HttpStatusCode.OK || response.status == HttpStatusCode.Accepted) {\n",
    "        println(\"✅ Post created${if (replyRef != null) \" (as reply)\" else \"\"}!\")\n",
    "        true\n",
    "    } else {\n",
    "        println(\"❌ Failed to create post: ${response.status}\")\n",
    "        println(response.bodyAsText())\n",
    "        false\n",
    "    }\n",
    "}"
   ],
   "outputs": [],
   "execution_count": 11
  },
  {
   "metadata": {
    "ExecuteTime": {
     "end_time": "2025-05-19T17:29:52.738198Z",
     "start_time": "2025-05-19T17:29:52.252186Z"
    }
   },
   "cell_type": "code",
   "source": [
    "runBlocking {\n",
    "    createPost(\"test\")\n",
    "}"
   ],
   "outputs": [
    {
     "name": "stdout",
     "output_type": "stream",
     "text": [
      "✅ Post created!\n"
     ]
    },
    {
     "data": {
      "text/plain": [
       "true"
      ]
     },
     "execution_count": 12,
     "metadata": {},
     "output_type": "execute_result"
    }
   ],
   "execution_count": 12
  },
  {
   "metadata": {
    "ExecuteTime": {
     "end_time": "2025-05-19T17:29:52.861687Z",
     "start_time": "2025-05-19T17:29:52.746354Z"
    }
   },
   "cell_type": "code",
   "source": [
    "fun splitIntoChunks(text: String, maxLength: Int = 300): List<String> {\n",
    "    val words = text.split(Regex(\"\\\\s+\"))\n",
    "    val chunks = mutableListOf<String>()\n",
    "    var current = StringBuilder()\n",
    "\n",
    "    for (word in words) {\n",
    "        if (current.length + word.length + 1 > maxLength) {\n",
    "            chunks.add(current.toString().trim())\n",
    "            current = StringBuilder()\n",
    "        }\n",
    "        current.append(word).append(' ')\n",
    "    }\n",
    "\n",
    "    if (current.isNotEmpty()) {\n",
    "        chunks.add(current.toString().trim())\n",
    "    }\n",
    "\n",
    "    return chunks\n",
    "}"
   ],
   "outputs": [],
   "execution_count": 13
  },
  {
   "metadata": {
    "ExecuteTime": {
     "end_time": "2025-05-19T17:30:01.132932Z",
     "start_time": "2025-05-19T17:29:52.866564Z"
    }
   },
   "cell_type": "code",
   "source": [
    "val sinceTime = Instant.now().minus(15, ChronoUnit.HOURS).toString()\n",
    "runBlocking {\n",
    "    val posts = searchPosts(sinceTime, \"@devbubble.bsky.social\")\n",
    "    posts.forEach { post ->\n",
    "        post.record?.text?.replace(\"@devbubble.bsky.social\", \"\")?.trim()!!.let { cleanedPost ->\n",
    "            val handle = post.author.handle\n",
    "            val response = \"@$handle ${processUserRequest(cleanedPost, multiHandler)}\"\n",
    "            val chunks = splitIntoChunks(response)\n",
    "            var lastUri = post.uri\n",
    "            var lastCid = post.cid\n",
    "\n",
    "            chunks.forEach { chunk ->\n",
    "                createPost(\n",
    "                    chunk,\n",
    "                    post.uri,\n",
    "                    post.cid\n",
    "                )\n",
    "                lastUri = post.uri\n",
    "                lastCid = post.cid\n",
    "            }\n",
    "        }\n",
    "    }\n",
    "}"
   ],
   "outputs": [
    {
     "name": "stdout",
     "output_type": "stream",
     "text": [
      "🔍 Searching posts with tag: @devbubble.bsky.social since: 2025-05-19T02:29:53.025798Z\n",
      "✅ Retrieved 1 posts. Total so far: 1.\n",
      "🎉 Finished fetching posts. Total retrieved: 1.\n",
      "What's being said about Trump and Angela Merkel\n",
      "summarization\n",
      "0.8182173371315002\n",
      "0.8\n",
      "\n",
      "[summarization]\n",
      "[ Donald Trump, Angela Merkel, US Foreign Policy, German Politics]\n",
      "✅ Post created (as reply)!\n",
      "✅ Post created (as reply)!\n"
     ]
    }
   ],
   "execution_count": 14
  }
 ],
 "metadata": {
  "kernelspec": {
   "display_name": "Kotlin",
   "language": "kotlin",
   "name": "kotlin"
  },
  "language_info": {
   "name": "kotlin",
   "version": "1.9.23",
   "mimetype": "text/x-kotlin",
   "file_extension": ".kt",
   "pygments_lexer": "kotlin",
   "codemirror_mode": "text/x-kotlin",
   "nbconvert_exporter": ""
  },
  "ktnbPluginMetadata": {
   "projectDependencies": [
    "kotlinconf-bsky-bot.kotlin-notebooks.main"
   ],
   "projectLibraries": false
  }
 },
 "nbformat": 4,
 "nbformat_minor": 0
}
