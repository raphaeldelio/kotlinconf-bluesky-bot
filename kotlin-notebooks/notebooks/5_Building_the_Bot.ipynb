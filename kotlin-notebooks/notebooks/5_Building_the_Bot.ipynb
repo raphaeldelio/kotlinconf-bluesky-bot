{
 "cells": [
  {
   "metadata": {},
   "cell_type": "markdown",
   "source": [
    "# Analyzing the Data\n",
    "\n",
    "In this notebook, we'll analyze the enriched events from the previous notebook. We'll use a combination of techniques to analyze the data:\n",
    "\n",
    "1. Querying Redis for trending topics\n",
    "2. Semantic search using embeddings\n",
    "3. Summarization of posts using a Large Language Model (LLM)\n",
    "4. Creating a simple query router to handle different types of user queries\n",
    "\n",
    "This notebook demonstrates how to build a simple question-answering system on top of the enriched data."
   ]
  },
  {
   "metadata": {
    "ExecuteTime": {
     "end_time": "2025-05-19T13:18:04.761915Z",
     "start_time": "2025-05-19T13:18:04.735903Z"
    }
   },
   "cell_type": "code",
   "source": "import dev.raphaeldelio.*",
   "outputs": [],
   "execution_count": 1
  },
  {
   "metadata": {
    "ExecuteTime": {
     "end_time": "2025-05-19T13:18:05.870095Z",
     "start_time": "2025-05-19T13:18:04.769025Z"
    }
   },
   "cell_type": "code",
   "source": [
    "%use ktor-client\n",
    "%use serialization\n",
    "%use coroutines"
   ],
   "outputs": [],
   "execution_count": 2
  },
  {
   "metadata": {
    "ExecuteTime": {
     "end_time": "2025-05-19T13:18:05.933052Z",
     "start_time": "2025-05-19T13:18:05.876646Z"
    }
   },
   "cell_type": "code",
   "source": [
    "val trendingTopicsRoute = listOf(\n",
    "    \"What are the most mentioned topics?\",\n",
    "    \"What's trending right now?\",\n",
    "    \"What’s hot in the network\",\n",
    "    \"Top topics?\",\n",
    "    \"What are people talking about?\",\n",
    "    \"What people are discussing?\",\n",
    ")"
   ],
   "outputs": [],
   "execution_count": 3
  },
  {
   "metadata": {
    "ExecuteTime": {
     "end_time": "2025-05-19T13:18:06.222670Z",
     "start_time": "2025-05-19T13:18:05.937854Z"
    }
   },
   "cell_type": "code",
   "source": "@file:DependsOn(\"org.springframework.ai:spring-ai-redis-store:1.0.0-RC1\")",
   "outputs": [],
   "execution_count": 4
  },
  {
   "metadata": {
    "ExecuteTime": {
     "end_time": "2025-05-19T13:18:12.732667Z",
     "start_time": "2025-05-19T13:18:06.229470Z"
    }
   },
   "cell_type": "code",
   "source": [
    "import org.springframework.ai.transformers.TransformersEmbeddingModel\n",
    "\n",
    "val embeddingModel = TransformersEmbeddingModel()\n",
    "embeddingModel.setModelResource(\"file:resources/model/bge-large-en-v1.5/model.onnx\")\n",
    "embeddingModel.setTokenizerResource(\"file:resources/model/bge-large-en-v1.5/tokenizer.json\")\n",
    "embeddingModel.afterPropertiesSet()"
   ],
   "outputs": [],
   "execution_count": 5
  },
  {
   "metadata": {
    "ExecuteTime": {
     "end_time": "2025-05-19T13:29:09.912521Z",
     "start_time": "2025-05-19T13:29:09.832904Z"
    }
   },
   "cell_type": "code",
   "source": [
    "import org.springframework.ai.vectorstore.redis.RedisVectorStore\n",
    "import org.springframework.ai.vectorstore.redis.RedisVectorStore.MetadataField\n",
    "import redis.clients.jedis.search.Schema.FieldType\n",
    "\n",
    "val redisVectorStore = RedisVectorStore.builder(jedisPooled, embeddingModel)\n",
    "    .indexName(\"routeIdx\")\n",
    "    .contentFieldName(\"text\")\n",
    "    .embeddingFieldName(\"textEmbedding\")\n",
    "    .metadataFields(\n",
    "        MetadataField(\"route\", FieldType.TEXT),\n",
    "        MetadataField(\"minThreshold\", FieldType.NUMERIC),\n",
    "    )\n",
    "    .prefix(\"route:\")\n",
    "    .initializeSchema(true)\n",
    "    .vectorAlgorithm(RedisVectorStore.Algorithm.FLAT)\n",
    "    .build()\n",
    "redisVectorStore.afterPropertiesSet()"
   ],
   "outputs": [],
   "execution_count": 44
  },
  {
   "metadata": {
    "ExecuteTime": {
     "end_time": "2025-05-19T13:27:52.370031Z",
     "start_time": "2025-05-19T13:27:51.998422Z"
    }
   },
   "cell_type": "code",
   "source": [
    "import org.springframework.ai.document.Document\n",
    "import java.util.UUID\n",
    "\n",
    "fun createRouteDocument(route: String, text: String, minThreshold: Double): Document {\n",
    "    return Document(\n",
    "        UUID.randomUUID().toString(),\n",
    "        text,\n",
    "        mapOf(\n",
    "            \"route\" to route,\n",
    "            \"text\" to text,\n",
    "            \"minThreshold\" to minThreshold,\n",
    "        )\n",
    "    )\n",
    "}\n",
    "\n",
    "fun storeRouteDocumentsInRedis(routeName: String, minThreshold: Double, routeSamples: List<String>) {\n",
    "    val trendingTopicDocuments = routeSamples.map { text ->\n",
    "        createRouteDocument(routeName, text, minThreshold)\n",
    "    }\n",
    "\n",
    "    redisVectorStore.add(trendingTopicDocuments)\n",
    "}\n",
    "\n",
    "storeRouteDocumentsInRedis(\"trending_topics\", 0.9, trendingTopicsRoute)"
   ],
   "outputs": [],
   "execution_count": 38
  },
  {
   "metadata": {
    "ExecuteTime": {
     "end_time": "2025-05-19T13:24:12.386108Z",
     "start_time": "2025-05-19T13:24:12.291795Z"
    }
   },
   "cell_type": "code",
   "source": [
    "import org.springframework.ai.vectorstore.SearchRequest\n",
    "\n",
    "redisVectorStore.similaritySearch(\n",
    "    SearchRequest.builder()\n",
    "        .topK(1)\n",
    "        .query(\"Hey Dev Bubble. What's trending today? Excited to hear the news!\")\n",
    "        .build()\n",
    ")"
   ],
   "outputs": [
    {
     "data": {
      "text/plain": [
       "[Document{id='e6031c4f-a313-4fe2-93af-f3290b8e96a0', text='What's trending right now?', media='null', metadata={vector_score=0.09470183, minThreshold=0.9, route=trending_topics, distance=0.09470183}, score=0.9052981734275818}]"
      ]
     },
     "execution_count": 29,
     "metadata": {},
     "output_type": "execute_result"
    }
   ],
   "execution_count": 29
  },
  {
   "metadata": {
    "ExecuteTime": {
     "end_time": "2025-05-19T13:27:05.432829Z",
     "start_time": "2025-05-19T13:27:05.334601Z"
    }
   },
   "cell_type": "code",
   "source": [
    "import redis.clients.jedis.search.FTSearchParams\n",
    "import redis.clients.jedis.search.Query\n",
    "\n",
    "fun breakSentenceIntoClauses(sentence: String): List<String> {\n",
    "    return sentence.split(Regex(\"\"\"[!?,.:;()\"\\[\\]{}]+\"\"\"))\n",
    "        .filter { it.isNotBlank() }.map { it.trim() }\n",
    "}\n",
    "\n",
    "fun matchRoute(query: String): Set<String> {\n",
    "    return breakSentenceIntoClauses(query).flatMap { clause ->\n",
    "        val result = redisVectorStore.similaritySearch(\n",
    "            SearchRequest.builder()\n",
    "                .topK(1)\n",
    "                .query(clause)\n",
    "                .build()\n",
    "        )\n",
    "\n",
    "        val route = result?.firstOrNull()?.metadata?.get(\"route\") as String\n",
    "        val minThreshold = result.firstOrNull()?.metadata?.get(\"minThreshold\") as String\n",
    "\n",
    "        result.forEach {\n",
    "            println(clause)\n",
    "            println(route)\n",
    "            println(it.score ?: 0.0)\n",
    "            println(minThreshold)\n",
    "            println()\n",
    "        }\n",
    "\n",
    "        result.filter { (it?.score ?: 0.0) > minThreshold.toDouble() }.map {\n",
    "            it?.metadata?.get(\"route\") as String\n",
    "        }\n",
    "    }.toSet()\n",
    "}"
   ],
   "outputs": [],
   "execution_count": 32
  },
  {
   "metadata": {
    "ExecuteTime": {
     "end_time": "2025-05-19T13:27:07.248858Z",
     "start_time": "2025-05-19T13:27:07.117613Z"
    }
   },
   "cell_type": "code",
   "source": "matchRoute(\"Hey DevBubble, what's trending today? Excited to hear the news!\")",
   "outputs": [
    {
     "name": "stdout",
     "output_type": "stream",
     "text": [
      "Hey DevBubble\n",
      "trending_topics\n",
      "0.7936376333236694\n",
      "0.9\n",
      "\n",
      "what's trending today\n",
      "trending_topics\n",
      "0.979021430015564\n",
      "0.9\n",
      "\n",
      "Excited to hear the news\n",
      "trending_topics\n",
      "0.8192511796951294\n",
      "0.9\n",
      "\n"
     ]
    },
    {
     "data": {
      "text/plain": [
       "[trending_topics]"
      ]
     },
     "execution_count": 33,
     "metadata": {},
     "output_type": "execute_result"
    }
   ],
   "execution_count": 33
  },
  {
   "metadata": {
    "ExecuteTime": {
     "end_time": "2025-05-19T13:27:20.288158Z",
     "start_time": "2025-05-19T13:27:20.230082Z"
    }
   },
   "cell_type": "code",
   "source": [
    "import org.springframework.ai.chat.messages.SystemMessage\n",
    "import org.springframework.ai.chat.messages.UserMessage\n",
    "import org.springframework.ai.chat.prompt.Prompt\n",
    "import java.time.LocalDateTime\n",
    "\n",
    "fun trendingTopics(): Set<String> {\n",
    "    val currentMinute = LocalDateTime.now().withSecond(0).withNano(0).toString()\n",
    "    return jedisPooled.smembers(\"topics\")\n",
    "        .map { it to jedisPooled.cmsQuery(\"topics-cms:$currentMinute\", it).first() }\n",
    "        .sortedByDescending { it.second }\n",
    "        .take(10)\n",
    "        .map { it.first }\n",
    "        .toSet()\n",
    "}"
   ],
   "outputs": [],
   "execution_count": 34
  },
  {
   "metadata": {
    "ExecuteTime": {
     "end_time": "2025-05-19T13:18:14.999354Z",
     "start_time": "2025-05-19T13:18:14.959383Z"
    }
   },
   "cell_type": "code",
   "source": "trendingTopics()",
   "outputs": [
    {
     "ename": "redis.clients.jedis.exceptions.JedisDataException",
     "evalue": "CMS: key does not exist",
     "output_type": "error",
     "traceback": [
      "redis.clients.jedis.exceptions.JedisDataException: CMS: key does not exist",
      "\tat redis.clients.jedis.Protocol.processError(Protocol.java:110)",
      "\tat redis.clients.jedis.Protocol.process(Protocol.java:158)",
      "\tat redis.clients.jedis.Protocol.read(Protocol.java:221)",
      "\tat redis.clients.jedis.Connection.protocolRead(Connection.java:384)",
      "\tat redis.clients.jedis.Connection.readProtocolWithCheckingBroken(Connection.java:397)",
      "\tat redis.clients.jedis.Connection.getOne(Connection.java:370)",
      "\tat redis.clients.jedis.Connection.executeCommand(Connection.java:175)",
      "\tat redis.clients.jedis.executors.DefaultCommandExecutor.executeCommand(DefaultCommandExecutor.java:24)",
      "\tat redis.clients.jedis.UnifiedJedis.executeCommand(UnifiedJedis.java:311)",
      "\tat redis.clients.jedis.UnifiedJedis.cmsQuery(UnifiedJedis.java:4868)",
      "\tat Line_24_jupyter.trendingTopics(Line_24.jupyter.kts:9) at Cell In[11], line 9",
      "\tat Line_25_jupyter.<init>(Line_25.jupyter.kts:1) at Cell In[12], line 1",
      "\tat java.base/jdk.internal.reflect.DirectConstructorHandleAccessor.newInstance(DirectConstructorHandleAccessor.java:62)",
      "\tat java.base/java.lang.reflect.Constructor.newInstanceWithCaller(Constructor.java:502)",
      "\tat java.base/java.lang.reflect.Constructor.newInstance(Constructor.java:486)",
      "\tat kotlin.script.experimental.jvm.BasicJvmScriptEvaluator.evalWithConfigAndOtherScriptsResults(BasicJvmScriptEvaluator.kt:122)",
      "\tat kotlin.script.experimental.jvm.BasicJvmScriptEvaluator.invoke$suspendImpl(BasicJvmScriptEvaluator.kt:48)",
      "\tat kotlin.script.experimental.jvm.BasicJvmScriptEvaluator.invoke(BasicJvmScriptEvaluator.kt)",
      "\tat kotlin.script.experimental.jvm.BasicJvmReplEvaluator.eval(BasicJvmReplEvaluator.kt:49)",
      "\tat org.jetbrains.kotlinx.jupyter.repl.impl.InternalEvaluatorImpl$eval$resultWithDiagnostics$1.invokeSuspend(InternalEvaluatorImpl.kt:137)",
      "\tat kotlin.coroutines.jvm.internal.BaseContinuationImpl.resumeWith(ContinuationImpl.kt:33)",
      "\tat kotlinx.coroutines.DispatchedTask.run(DispatchedTask.kt:104)",
      "\tat kotlinx.coroutines.EventLoopImplBase.processNextEvent(EventLoop.common.kt:277)",
      "\tat kotlinx.coroutines.BlockingCoroutine.joinBlocking(Builders.kt:95)",
      "\tat kotlinx.coroutines.BuildersKt__BuildersKt.runBlocking(Builders.kt:69)",
      "\tat kotlinx.coroutines.BuildersKt.runBlocking(Unknown Source)",
      "\tat kotlinx.coroutines.BuildersKt__BuildersKt.runBlocking$default(Builders.kt:48)",
      "\tat kotlinx.coroutines.BuildersKt.runBlocking$default(Unknown Source)",
      "\tat org.jetbrains.kotlinx.jupyter.repl.impl.InternalEvaluatorImpl.eval(InternalEvaluatorImpl.kt:137)",
      "\tat org.jetbrains.kotlinx.jupyter.repl.impl.CellExecutorImpl$execute$1$result$1.invoke(CellExecutorImpl.kt:80)",
      "\tat org.jetbrains.kotlinx.jupyter.repl.impl.CellExecutorImpl$execute$1$result$1.invoke(CellExecutorImpl.kt:78)",
      "\tat org.jetbrains.kotlinx.jupyter.repl.impl.ReplForJupyterImpl.withHost(ReplForJupyterImpl.kt:791)",
      "\tat org.jetbrains.kotlinx.jupyter.repl.impl.CellExecutorImpl.execute-L4Nmkdk(CellExecutorImpl.kt:78)",
      "\tat org.jetbrains.kotlinx.jupyter.repl.execution.CellExecutor$DefaultImpls.execute-L4Nmkdk$default(CellExecutor.kt:13)",
      "\tat org.jetbrains.kotlinx.jupyter.repl.impl.ReplForJupyterImpl.evaluateUserCode-wNURfNM(ReplForJupyterImpl.kt:613)",
      "\tat org.jetbrains.kotlinx.jupyter.repl.impl.ReplForJupyterImpl.evalExImpl(ReplForJupyterImpl.kt:471)",
      "\tat org.jetbrains.kotlinx.jupyter.repl.impl.ReplForJupyterImpl.access$evalExImpl(ReplForJupyterImpl.kt:143)",
      "\tat org.jetbrains.kotlinx.jupyter.repl.impl.ReplForJupyterImpl$evalEx$1.invoke(ReplForJupyterImpl.kt:464)",
      "\tat org.jetbrains.kotlinx.jupyter.repl.impl.ReplForJupyterImpl$evalEx$1.invoke(ReplForJupyterImpl.kt:463)",
      "\tat org.jetbrains.kotlinx.jupyter.repl.impl.ReplForJupyterImpl.withEvalContext(ReplForJupyterImpl.kt:444)",
      "\tat org.jetbrains.kotlinx.jupyter.repl.impl.ReplForJupyterImpl.evalEx(ReplForJupyterImpl.kt:463)",
      "\tat org.jetbrains.kotlinx.jupyter.messaging.IdeCompatibleMessageRequestProcessor$processExecuteRequest$1$response$1$1.invoke(IdeCompatibleMessageRequestProcessor.kt:159)",
      "\tat org.jetbrains.kotlinx.jupyter.messaging.IdeCompatibleMessageRequestProcessor$processExecuteRequest$1$response$1$1.invoke(IdeCompatibleMessageRequestProcessor.kt:158)",
      "\tat org.jetbrains.kotlinx.jupyter.streams.BlockingSubstitutionEngine.withDataSubstitution(SubstitutionEngine.kt:70)",
      "\tat org.jetbrains.kotlinx.jupyter.streams.StreamSubstitutionManager.withSubstitutedStreams(StreamSubstitutionManager.kt:118)",
      "\tat org.jetbrains.kotlinx.jupyter.messaging.IdeCompatibleMessageRequestProcessor.withForkedIn(IdeCompatibleMessageRequestProcessor.kt:335)",
      "\tat org.jetbrains.kotlinx.jupyter.messaging.IdeCompatibleMessageRequestProcessor.access$withForkedIn(IdeCompatibleMessageRequestProcessor.kt:54)",
      "\tat org.jetbrains.kotlinx.jupyter.messaging.IdeCompatibleMessageRequestProcessor$evalWithIO$1$1.invoke(IdeCompatibleMessageRequestProcessor.kt:349)",
      "\tat org.jetbrains.kotlinx.jupyter.streams.BlockingSubstitutionEngine.withDataSubstitution(SubstitutionEngine.kt:70)",
      "\tat org.jetbrains.kotlinx.jupyter.streams.StreamSubstitutionManager.withSubstitutedStreams(StreamSubstitutionManager.kt:118)",
      "\tat org.jetbrains.kotlinx.jupyter.messaging.IdeCompatibleMessageRequestProcessor.withForkedErr(IdeCompatibleMessageRequestProcessor.kt:324)",
      "\tat org.jetbrains.kotlinx.jupyter.messaging.IdeCompatibleMessageRequestProcessor.access$withForkedErr(IdeCompatibleMessageRequestProcessor.kt:54)",
      "\tat org.jetbrains.kotlinx.jupyter.messaging.IdeCompatibleMessageRequestProcessor$evalWithIO$1.invoke(IdeCompatibleMessageRequestProcessor.kt:348)",
      "\tat org.jetbrains.kotlinx.jupyter.streams.BlockingSubstitutionEngine.withDataSubstitution(SubstitutionEngine.kt:70)",
      "\tat org.jetbrains.kotlinx.jupyter.streams.StreamSubstitutionManager.withSubstitutedStreams(StreamSubstitutionManager.kt:118)",
      "\tat org.jetbrains.kotlinx.jupyter.messaging.IdeCompatibleMessageRequestProcessor.withForkedOut(IdeCompatibleMessageRequestProcessor.kt:316)",
      "\tat org.jetbrains.kotlinx.jupyter.messaging.IdeCompatibleMessageRequestProcessor.evalWithIO(IdeCompatibleMessageRequestProcessor.kt:347)",
      "\tat org.jetbrains.kotlinx.jupyter.messaging.IdeCompatibleMessageRequestProcessor$processExecuteRequest$1$response$1.invoke(IdeCompatibleMessageRequestProcessor.kt:158)",
      "\tat org.jetbrains.kotlinx.jupyter.messaging.IdeCompatibleMessageRequestProcessor$processExecuteRequest$1$response$1.invoke(IdeCompatibleMessageRequestProcessor.kt:157)",
      "\tat org.jetbrains.kotlinx.jupyter.execution.JupyterExecutorImpl$Task.execute(JupyterExecutorImpl.kt:41)",
      "\tat org.jetbrains.kotlinx.jupyter.execution.JupyterExecutorImpl$executorThread$1.invoke(JupyterExecutorImpl.kt:83)",
      "\tat org.jetbrains.kotlinx.jupyter.execution.JupyterExecutorImpl$executorThread$1.invoke(JupyterExecutorImpl.kt:80)",
      "\tat kotlin.concurrent.ThreadsKt$thread$thread$1.run(Thread.kt:30)",
      "",
      "redis.clients.jedis.exceptions.JedisDataException: CMS: key does not exist",
      "at Cell In[11], line 9",
      ""
     ]
    }
   ],
   "execution_count": 12
  },
  {
   "metadata": {
    "ExecuteTime": {
     "end_time": "2025-05-19T13:37:15.590853Z",
     "start_time": "2025-05-19T13:37:15.538017Z"
    }
   },
   "cell_type": "code",
   "source": [
    "import dev.raphaeldelio.*\n",
    "\n",
    "val trendingTopicsHandler: (String, String) -> Iterable<String> = { route, query ->\n",
    "    when (route) {\n",
    "        \"trending_topics\" -> trendingTopics()\n",
    "        else -> emptyList()\n",
    "    }\n",
    "}\n",
    "\n",
    "fun processUserRequest(\n",
    "    query: String,\n",
    "    handler: (String, String) -> Iterable<String>\n",
    "): String {\n",
    "    val routes = matchRoute(query)\n",
    "    println(routes)\n",
    "\n",
    "    val enrichedData = routes.map { route -> handler(route, query) }\n",
    "\n",
    "    val systemPrompt = \"You are a bot that helps users analyse posts about politics. You may be given a data set to help you answer questions. Answer in a max od 300 chars. I MEAN IT. It's a TWEET. Don't write more than 300 chars. Respond in only ONE paragraph. Be as concise as possible\"\n",
    "\n",
    "    return ollamaChatModel.call(\n",
    "        Prompt(\n",
    "            SystemMessage(systemPrompt),\n",
    "            SystemMessage(\"Enriching data: $enrichedData\"),\n",
    "            UserMessage(\"User query: $query\")\n",
    "        )\n",
    "    ).result.output.text ?: \"\"\n",
    "}"
   ],
   "outputs": [],
   "execution_count": 65
  },
  {
   "metadata": {
    "ExecuteTime": {
     "end_time": "2025-05-19T13:18:27.555711Z",
     "start_time": "2025-05-19T13:18:27.485431Z"
    }
   },
   "cell_type": "code",
   "source": "processUserRequest(\"What are people talking about?\", trendingTopicsHandler)",
   "outputs": [
    {
     "name": "stdout",
     "output_type": "stream",
     "text": [
      "What are people talking about\n",
      "trending_topics\n",
      "0.9953664541244507\n",
      "\n",
      "[trending_topics]\n"
     ]
    },
    {
     "ename": "redis.clients.jedis.exceptions.JedisDataException",
     "evalue": "CMS: key does not exist",
     "output_type": "error",
     "traceback": [
      "redis.clients.jedis.exceptions.JedisDataException: CMS: key does not exist",
      "\tat redis.clients.jedis.Protocol.processError(Protocol.java:110)",
      "\tat redis.clients.jedis.Protocol.process(Protocol.java:158)",
      "\tat redis.clients.jedis.Protocol.read(Protocol.java:221)",
      "\tat redis.clients.jedis.Connection.protocolRead(Connection.java:384)",
      "\tat redis.clients.jedis.Connection.readProtocolWithCheckingBroken(Connection.java:397)",
      "\tat redis.clients.jedis.Connection.getOne(Connection.java:370)",
      "\tat redis.clients.jedis.Connection.executeCommand(Connection.java:175)",
      "\tat redis.clients.jedis.executors.DefaultCommandExecutor.executeCommand(DefaultCommandExecutor.java:24)",
      "\tat redis.clients.jedis.UnifiedJedis.executeCommand(UnifiedJedis.java:311)",
      "\tat redis.clients.jedis.UnifiedJedis.cmsQuery(UnifiedJedis.java:4868)",
      "\tat Line_24_jupyter.trendingTopics(Line_24.jupyter.kts:9) at Cell In[11], line 9",
      "\tat Line_26_jupyter$trendingTopicsHandler$1.invoke(Line_26.jupyter.kts:5) at Cell In[13], line 5",
      "\tat Line_26_jupyter$trendingTopicsHandler$1.invoke(Line_26.jupyter.kts:3) at Cell In[13], line 3",
      "\tat Line_26_jupyter.processUserRequest(Line_26.jupyter.kts:17) at Cell In[13], line 17",
      "\tat Line_27_jupyter.<init>(Line_27.jupyter.kts:1) at Cell In[14], line 1",
      "\tat java.base/jdk.internal.reflect.DirectConstructorHandleAccessor.newInstance(DirectConstructorHandleAccessor.java:62)",
      "\tat java.base/java.lang.reflect.Constructor.newInstanceWithCaller(Constructor.java:502)",
      "\tat java.base/java.lang.reflect.Constructor.newInstance(Constructor.java:486)",
      "\tat kotlin.script.experimental.jvm.BasicJvmScriptEvaluator.evalWithConfigAndOtherScriptsResults(BasicJvmScriptEvaluator.kt:122)",
      "\tat kotlin.script.experimental.jvm.BasicJvmScriptEvaluator.invoke$suspendImpl(BasicJvmScriptEvaluator.kt:48)",
      "\tat kotlin.script.experimental.jvm.BasicJvmScriptEvaluator.invoke(BasicJvmScriptEvaluator.kt)",
      "\tat kotlin.script.experimental.jvm.BasicJvmReplEvaluator.eval(BasicJvmReplEvaluator.kt:49)",
      "\tat org.jetbrains.kotlinx.jupyter.repl.impl.InternalEvaluatorImpl$eval$resultWithDiagnostics$1.invokeSuspend(InternalEvaluatorImpl.kt:137)",
      "\tat kotlin.coroutines.jvm.internal.BaseContinuationImpl.resumeWith(ContinuationImpl.kt:33)",
      "\tat kotlinx.coroutines.DispatchedTask.run(DispatchedTask.kt:104)",
      "\tat kotlinx.coroutines.EventLoopImplBase.processNextEvent(EventLoop.common.kt:277)",
      "\tat kotlinx.coroutines.BlockingCoroutine.joinBlocking(Builders.kt:95)",
      "\tat kotlinx.coroutines.BuildersKt__BuildersKt.runBlocking(Builders.kt:69)",
      "\tat kotlinx.coroutines.BuildersKt.runBlocking(Unknown Source)",
      "\tat kotlinx.coroutines.BuildersKt__BuildersKt.runBlocking$default(Builders.kt:48)",
      "\tat kotlinx.coroutines.BuildersKt.runBlocking$default(Unknown Source)",
      "\tat org.jetbrains.kotlinx.jupyter.repl.impl.InternalEvaluatorImpl.eval(InternalEvaluatorImpl.kt:137)",
      "\tat org.jetbrains.kotlinx.jupyter.repl.impl.CellExecutorImpl$execute$1$result$1.invoke(CellExecutorImpl.kt:80)",
      "\tat org.jetbrains.kotlinx.jupyter.repl.impl.CellExecutorImpl$execute$1$result$1.invoke(CellExecutorImpl.kt:78)",
      "\tat org.jetbrains.kotlinx.jupyter.repl.impl.ReplForJupyterImpl.withHost(ReplForJupyterImpl.kt:791)",
      "\tat org.jetbrains.kotlinx.jupyter.repl.impl.CellExecutorImpl.execute-L4Nmkdk(CellExecutorImpl.kt:78)",
      "\tat org.jetbrains.kotlinx.jupyter.repl.execution.CellExecutor$DefaultImpls.execute-L4Nmkdk$default(CellExecutor.kt:13)",
      "\tat org.jetbrains.kotlinx.jupyter.repl.impl.ReplForJupyterImpl.evaluateUserCode-wNURfNM(ReplForJupyterImpl.kt:613)",
      "\tat org.jetbrains.kotlinx.jupyter.repl.impl.ReplForJupyterImpl.evalExImpl(ReplForJupyterImpl.kt:471)",
      "\tat org.jetbrains.kotlinx.jupyter.repl.impl.ReplForJupyterImpl.access$evalExImpl(ReplForJupyterImpl.kt:143)",
      "\tat org.jetbrains.kotlinx.jupyter.repl.impl.ReplForJupyterImpl$evalEx$1.invoke(ReplForJupyterImpl.kt:464)",
      "\tat org.jetbrains.kotlinx.jupyter.repl.impl.ReplForJupyterImpl$evalEx$1.invoke(ReplForJupyterImpl.kt:463)",
      "\tat org.jetbrains.kotlinx.jupyter.repl.impl.ReplForJupyterImpl.withEvalContext(ReplForJupyterImpl.kt:444)",
      "\tat org.jetbrains.kotlinx.jupyter.repl.impl.ReplForJupyterImpl.evalEx(ReplForJupyterImpl.kt:463)",
      "\tat org.jetbrains.kotlinx.jupyter.messaging.IdeCompatibleMessageRequestProcessor$processExecuteRequest$1$response$1$1.invoke(IdeCompatibleMessageRequestProcessor.kt:159)",
      "\tat org.jetbrains.kotlinx.jupyter.messaging.IdeCompatibleMessageRequestProcessor$processExecuteRequest$1$response$1$1.invoke(IdeCompatibleMessageRequestProcessor.kt:158)",
      "\tat org.jetbrains.kotlinx.jupyter.streams.BlockingSubstitutionEngine.withDataSubstitution(SubstitutionEngine.kt:70)",
      "\tat org.jetbrains.kotlinx.jupyter.streams.StreamSubstitutionManager.withSubstitutedStreams(StreamSubstitutionManager.kt:118)",
      "\tat org.jetbrains.kotlinx.jupyter.messaging.IdeCompatibleMessageRequestProcessor.withForkedIn(IdeCompatibleMessageRequestProcessor.kt:335)",
      "\tat org.jetbrains.kotlinx.jupyter.messaging.IdeCompatibleMessageRequestProcessor.access$withForkedIn(IdeCompatibleMessageRequestProcessor.kt:54)",
      "\tat org.jetbrains.kotlinx.jupyter.messaging.IdeCompatibleMessageRequestProcessor$evalWithIO$1$1.invoke(IdeCompatibleMessageRequestProcessor.kt:349)",
      "\tat org.jetbrains.kotlinx.jupyter.streams.BlockingSubstitutionEngine.withDataSubstitution(SubstitutionEngine.kt:70)",
      "\tat org.jetbrains.kotlinx.jupyter.streams.StreamSubstitutionManager.withSubstitutedStreams(StreamSubstitutionManager.kt:118)",
      "\tat org.jetbrains.kotlinx.jupyter.messaging.IdeCompatibleMessageRequestProcessor.withForkedErr(IdeCompatibleMessageRequestProcessor.kt:324)",
      "\tat org.jetbrains.kotlinx.jupyter.messaging.IdeCompatibleMessageRequestProcessor.access$withForkedErr(IdeCompatibleMessageRequestProcessor.kt:54)",
      "\tat org.jetbrains.kotlinx.jupyter.messaging.IdeCompatibleMessageRequestProcessor$evalWithIO$1.invoke(IdeCompatibleMessageRequestProcessor.kt:348)",
      "\tat org.jetbrains.kotlinx.jupyter.streams.BlockingSubstitutionEngine.withDataSubstitution(SubstitutionEngine.kt:70)",
      "\tat org.jetbrains.kotlinx.jupyter.streams.StreamSubstitutionManager.withSubstitutedStreams(StreamSubstitutionManager.kt:118)",
      "\tat org.jetbrains.kotlinx.jupyter.messaging.IdeCompatibleMessageRequestProcessor.withForkedOut(IdeCompatibleMessageRequestProcessor.kt:316)",
      "\tat org.jetbrains.kotlinx.jupyter.messaging.IdeCompatibleMessageRequestProcessor.evalWithIO(IdeCompatibleMessageRequestProcessor.kt:347)",
      "\tat org.jetbrains.kotlinx.jupyter.messaging.IdeCompatibleMessageRequestProcessor$processExecuteRequest$1$response$1.invoke(IdeCompatibleMessageRequestProcessor.kt:158)",
      "\tat org.jetbrains.kotlinx.jupyter.messaging.IdeCompatibleMessageRequestProcessor$processExecuteRequest$1$response$1.invoke(IdeCompatibleMessageRequestProcessor.kt:157)",
      "\tat org.jetbrains.kotlinx.jupyter.execution.JupyterExecutorImpl$Task.execute(JupyterExecutorImpl.kt:41)",
      "\tat org.jetbrains.kotlinx.jupyter.execution.JupyterExecutorImpl$executorThread$1.invoke(JupyterExecutorImpl.kt:83)",
      "\tat org.jetbrains.kotlinx.jupyter.execution.JupyterExecutorImpl$executorThread$1.invoke(JupyterExecutorImpl.kt:80)",
      "\tat kotlin.concurrent.ThreadsKt$thread$thread$1.run(Thread.kt:30)",
      "",
      "redis.clients.jedis.exceptions.JedisDataException: CMS: key does not exist",
      "at Cell In[11], line 9",
      ""
     ]
    }
   ],
   "execution_count": 14
  },
  {
   "metadata": {
    "ExecuteTime": {
     "end_time": "2025-05-19T13:27:28.204772Z",
     "start_time": "2025-05-19T13:27:28.175602Z"
    }
   },
   "cell_type": "code",
   "source": [
    "val summarizationRoute = listOf(\n",
    "    \"What are people saying about {topics}?\",\n",
    "    \"What’s the buzz around {topics}?\",\n",
    "    \"Any chatter about {topics}?\",\n",
    "    \"What are folks talking about regarding {topics}?\",\n",
    "    \"What’s being said about {topics} lately?\",\n",
    "    \"What have people been posting about {topics}?\",\n",
    "    \"What's trending in conversations about {topics}?\",\n",
    "    \"What’s the latest talk on {topics}?\",\n",
    "    \"Any recent posts about {topics}?\",\n",
    "    \"What's the sentiment around {topics}?\",\n",
    "    \"What are people saying about {topic1} and {topic2}?\",\n",
    "    \"What are folks talking about when it comes to {topic1}, {topic2}, or both?\",\n",
    "    \"What’s being said about {topic1}, {topic2}, and others?\",\n",
    "    \"Is there any discussion around {topic1} and {topic2}?\",\n",
    "    \"How are people reacting to both {topic1} and {topic2}?\",\n",
    "    \"What’s the conversation like around {topic1}, {topic2}, or related topics?\",\n",
    "    \"Are {topic1} and {topic2} being discussed together?\",\n",
    "    \"Any posts comparing {topic1} and {topic2}?\",\n",
    "    \"What's trending when it comes to {topic1} and {topic2}?\",\n",
    "    \"What are people saying about the relationship between {topic1} and {topic2}?\"\n",
    ")"
   ],
   "outputs": [],
   "execution_count": 36
  },
  {
   "metadata": {
    "ExecuteTime": {
     "end_time": "2025-05-19T13:28:10.340019Z",
     "start_time": "2025-05-19T13:28:09.666675Z"
    }
   },
   "cell_type": "code",
   "source": "storeRouteDocumentsInRedis(\"summarization\", 0.8, summarizationRoute)",
   "outputs": [],
   "execution_count": 39
  },
  {
   "metadata": {
    "ExecuteTime": {
     "end_time": "2025-05-19T13:36:19.255950Z",
     "start_time": "2025-05-19T13:36:19.202051Z"
    }
   },
   "cell_type": "code",
   "source": [
    "import org.springframework.ai.chat.messages.SystemMessage\n",
    "import org.springframework.ai.chat.messages.UserMessage\n",
    "import org.springframework.ai.chat.prompt.Prompt\n",
    "\n",
    "fun summarization(userQuery: String): List<String> {\n",
    "    val existingTopics = jedisPooled.smembers(\"topics\").joinToString { \", \" }\n",
    "    val queryTopics = topicModeling(userQuery, existingTopics).replace(\"\\\"\", \"\").split(\", \")\n",
    "    println(queryTopics)\n",
    "\n",
    "    return queryTopics.map { topic ->\n",
    "        val query = Query(\"@topics:{'$topic'}\")\n",
    "            .returnFields(\"text\")\n",
    "            .setSortBy(\"time_us\", false)\n",
    "            .dialect(2)\n",
    "            .limit(0, 10)\n",
    "\n",
    "        val result = jedisPooled.ftSearch(\n",
    "            \"postIdx\",\n",
    "            query\n",
    "        )\n",
    "\n",
    "        result.documents.map {\n",
    "            document -> document.get(\"text\").toString()\n",
    "        }\n",
    "    }.flatten()\n",
    "}"
   ],
   "outputs": [],
   "execution_count": 60
  },
  {
   "metadata": {
    "ExecuteTime": {
     "end_time": "2025-05-19T13:36:21.921622Z",
     "start_time": "2025-05-19T13:36:21.329747Z"
    }
   },
   "cell_type": "code",
   "source": "summarization(\"What's being said about Trump and Angela Merkel?\")",
   "outputs": [
    {
     "name": "stdout",
     "output_type": "stream",
     "text": [
      "[ Donald Trump, Angela Merkel, US Politics, German Politics]\n"
     ]
    },
    {
     "data": {
      "text/plain": [
       "[I have many problems with Biden, including some big ones like enabling genocide and putting corporate profits over public safety during a pandemic. But if you’re a news organization and you’re leading with a Biden story while Trump systematically destroys our republic, you’re criminally negligent, Living in the past is how we got into this shit show to start with. The 2024 election is over, the Biden presidency is over. What happened during that time, no longer matters. We don't have the same country we had then., The idea this is a legitimate government, or that it had been this entire time, is actually what's been destroyed already in the minds of tens of millions of Americans that weren't so inclined before. Now they see the truth that thought leaders like you end at these brick walls, Dan Moynihan.\n",
       "Cheers, And when a handful of Republicans met at a steakhouse in DC on the day of his inauguration to plot to derail Obama's agenda, the Republican party officially began strategizing how they'd divide the country as Obama tried to bring us together; division which continues today.\n",
       "\n",
       "youtu.be/33X0Mxc8FGo?..., the golem should also be invested with all the secret wisdom of kabbalah, sufism, and pseudo-dionysius the areopagite and learn some secret names of god so it can finally answer the \"was biden senile in '24\" question for the whole world and allow the dems to move forward, Want a #WorcPoli connection?\n",
       "\n",
       "Look at Worcester. See how many colleges and universities are here?\n",
       "\n",
       "What do you think happens if enrollment halves? If some of them close? \n",
       "\n",
       "Is anyone monitoring the impact that the huge layoffs at UMassMed are having, will continue to have?, I wish he were gone NOW…this very second.  Every single day he does something else to destroy our country and destroy democracy., Catholics’ Hope\n",
       "\n",
       "World’s Catholics, I don’t think could cope\n",
       "So everyone’s expressing the hope\n",
       "With Vatican’s taking a chance\n",
       "Of inviting Veep Vance\n",
       "That J.D. won’t, again, kill the pope, Reichsfuhrer Noem tries to deny the terrifyingly obvious truth., “Anything is better than Trump”\n",
       "\n",
       "If we had a robust education system in this country yall would know that so many other countries that fell into dictatorship and ruin thought the SAME thing. \n",
       "\n",
       "When Trump dies, someone will come along who is WORSE than him but more polished so white people will relax, Der ganze Wahlkampf beruhte auf Schmu, aber das geht bei der Union halt einfach so durch, das kratzt die Presse nicht, Versucht es mal mit Rückgrat, SPD., Wir haben langsam ähnliche Dummbratzen in der Regierung wie die Amis., ...Nico Lange: „Wenn unsere alleinige europäische Hoffnung darin besteht, dass Trump vielleicht doch noch böse auf Putin wird, ist das viel zu wenig.\", Achso, einen an der Waffel haben wird einfach modern? Ja, das geht, hat man ja an der letzten Bundestagswahl gesehen.]"
      ]
     },
     "execution_count": 61,
     "metadata": {},
     "output_type": "execute_result"
    }
   ],
   "execution_count": 61
  },
  {
   "metadata": {
    "ExecuteTime": {
     "end_time": "2025-05-19T13:36:39.847032Z",
     "start_time": "2025-05-19T13:36:39.814943Z"
    }
   },
   "cell_type": "code",
   "source": [
    "val multiHandler: (String, String) -> Iterable<String> = { route, query ->\n",
    "    when (route) {\n",
    "        \"trending_topics\" -> trendingTopics()\n",
    "        \"summarization\" -> summarization(query)\n",
    "        else -> emptyList()\n",
    "    }\n",
    "}"
   ],
   "outputs": [],
   "execution_count": 62
  },
  {
   "metadata": {
    "ExecuteTime": {
     "end_time": "2025-05-19T13:37:29.775291Z",
     "start_time": "2025-05-19T13:37:23.500835Z"
    }
   },
   "cell_type": "code",
   "source": "processUserRequest(\"What's being said about Trump and Angela Merkel?\", multiHandler)",
   "outputs": [
    {
     "name": "stdout",
     "output_type": "stream",
     "text": [
      "What's being said about Trump and Angela Merkel\n",
      "summarization\n",
      "0.8182173371315002\n",
      "0.8\n",
      "\n",
      "[summarization]\n",
      "[ Donald Trump, Angela Merkel, US Politics, German Politics]\n"
     ]
    },
    {
     "data": {
      "text/plain": [
       " The tweets highlight concerns about Biden, particularly his handling of the genocide issue and pandemic response. They criticize news organizations for focusing too much on Biden while ignoring Trump's actions that allegedly threaten the republic. Some comments also express frustration with Democrats and their approach to politics, suggesting a need for better solutions and strategies. There's an underlying theme of disappointment in current political figures and a call for more effective leadership."
      ]
     },
     "execution_count": 66,
     "metadata": {},
     "output_type": "execute_result"
    }
   ],
   "execution_count": 66
  },
  {
   "metadata": {},
   "cell_type": "code",
   "outputs": [],
   "execution_count": null,
   "source": [
    "@Serializable\n",
    "data class LoginResponse(\n",
    "    @SerialName(\"accessJwt\") val accessJwt: String,\n",
    "    @SerialName(\"refreshJwt\") val refreshJwt: String,\n",
    "    @SerialName(\"handle\") val handle: String,\n",
    "    @SerialName(\"did\") val did: String,\n",
    "    @SerialName(\"didDoc\") val didDoc: DidDoc?,\n",
    "    @SerialName(\"email\") val email: String?,\n",
    "    @SerialName(\"emailConfirmed\") val emailConfirmed: Boolean?,\n",
    "    @SerialName(\"emailAuthFactor\") val emailAuthFactor: Boolean?,\n",
    "    @SerialName(\"active\") val active: Boolean,\n",
    "    @SerialName(\"status\") val status: String? = null\n",
    ")\n",
    "\n",
    "@Serializable\n",
    "data class DidDoc(\n",
    "    @SerialName(\"id\") val id: String?\n",
    ")"
   ]
  },
  {
   "metadata": {},
   "cell_type": "code",
   "outputs": [],
   "execution_count": null,
   "source": [
    "import io.ktor.client.HttpClient\n",
    "import io.ktor.client.engine.cio.CIO\n",
    "import io.ktor.client.plugins.contentnegotiation.ContentNegotiation\n",
    "import io.ktor.serialization.kotlinx.json.json\n",
    "\n",
    "val client = HttpClient(CIO) {\n",
    "    install(ContentNegotiation) {\n",
    "        json(Json {\n",
    "            ignoreUnknownKeys = true\n",
    "        })\n",
    "    }\n",
    "}\n",
    "\n",
    "val API_URL = \"https://bsky.social/xrpc\"\n",
    "\n",
    "val USERNAME = \"devbubble.bsky.social\"\n",
    "val PASSWORD = System.getenv(\"DEVBUBBLE_TOKEN\")"
   ]
  },
  {
   "metadata": {},
   "cell_type": "code",
   "outputs": [
    {
     "ename": "org.jetbrains.kotlinx.jupyter.exceptions.ReplCompilerException",
     "evalue": "at Cell In[14], line 5, column 37: Name shadowed: routes\nat Cell In[14], line 8, column 32: Unresolved reference: summarization",
     "output_type": "error",
     "traceback": [
      "org.jetbrains.kotlinx.jupyter.exceptions.ReplCompilerException: at Cell In[14], line 5, column 37: Name shadowed: routes",
      "at Cell In[14], line 8, column 32: Unresolved reference: summarization",
      "\tat org.jetbrains.kotlinx.jupyter.repl.impl.JupyterCompilerImpl.compileSync(JupyterCompilerImpl.kt:208)",
      "\tat org.jetbrains.kotlinx.jupyter.repl.impl.InternalEvaluatorImpl.eval(InternalEvaluatorImpl.kt:126)",
      "\tat org.jetbrains.kotlinx.jupyter.repl.impl.CellExecutorImpl$execute$1$result$1.invoke(CellExecutorImpl.kt:80)",
      "\tat org.jetbrains.kotlinx.jupyter.repl.impl.CellExecutorImpl$execute$1$result$1.invoke(CellExecutorImpl.kt:78)",
      "\tat org.jetbrains.kotlinx.jupyter.repl.impl.ReplForJupyterImpl.withHost(ReplForJupyterImpl.kt:791)",
      "\tat org.jetbrains.kotlinx.jupyter.repl.impl.CellExecutorImpl.execute-L4Nmkdk(CellExecutorImpl.kt:78)",
      "\tat org.jetbrains.kotlinx.jupyter.repl.execution.CellExecutor$DefaultImpls.execute-L4Nmkdk$default(CellExecutor.kt:13)",
      "\tat org.jetbrains.kotlinx.jupyter.repl.impl.ReplForJupyterImpl.evaluateUserCode-wNURfNM(ReplForJupyterImpl.kt:613)",
      "\tat org.jetbrains.kotlinx.jupyter.repl.impl.ReplForJupyterImpl.evalExImpl(ReplForJupyterImpl.kt:471)",
      "\tat org.jetbrains.kotlinx.jupyter.repl.impl.ReplForJupyterImpl.access$evalExImpl(ReplForJupyterImpl.kt:143)",
      "\tat org.jetbrains.kotlinx.jupyter.repl.impl.ReplForJupyterImpl$evalEx$1.invoke(ReplForJupyterImpl.kt:464)",
      "\tat org.jetbrains.kotlinx.jupyter.repl.impl.ReplForJupyterImpl$evalEx$1.invoke(ReplForJupyterImpl.kt:463)",
      "\tat org.jetbrains.kotlinx.jupyter.repl.impl.ReplForJupyterImpl.withEvalContext(ReplForJupyterImpl.kt:444)",
      "\tat org.jetbrains.kotlinx.jupyter.repl.impl.ReplForJupyterImpl.evalEx(ReplForJupyterImpl.kt:463)",
      "\tat org.jetbrains.kotlinx.jupyter.messaging.IdeCompatibleMessageRequestProcessor$processExecuteRequest$1$response$1$1.invoke(IdeCompatibleMessageRequestProcessor.kt:159)",
      "\tat org.jetbrains.kotlinx.jupyter.messaging.IdeCompatibleMessageRequestProcessor$processExecuteRequest$1$response$1$1.invoke(IdeCompatibleMessageRequestProcessor.kt:158)",
      "\tat org.jetbrains.kotlinx.jupyter.streams.BlockingSubstitutionEngine.withDataSubstitution(SubstitutionEngine.kt:70)",
      "\tat org.jetbrains.kotlinx.jupyter.streams.StreamSubstitutionManager.withSubstitutedStreams(StreamSubstitutionManager.kt:118)",
      "\tat org.jetbrains.kotlinx.jupyter.messaging.IdeCompatibleMessageRequestProcessor.withForkedIn(IdeCompatibleMessageRequestProcessor.kt:335)",
      "\tat org.jetbrains.kotlinx.jupyter.messaging.IdeCompatibleMessageRequestProcessor.access$withForkedIn(IdeCompatibleMessageRequestProcessor.kt:54)",
      "\tat org.jetbrains.kotlinx.jupyter.messaging.IdeCompatibleMessageRequestProcessor$evalWithIO$1$1.invoke(IdeCompatibleMessageRequestProcessor.kt:349)",
      "\tat org.jetbrains.kotlinx.jupyter.streams.BlockingSubstitutionEngine.withDataSubstitution(SubstitutionEngine.kt:70)",
      "\tat org.jetbrains.kotlinx.jupyter.streams.StreamSubstitutionManager.withSubstitutedStreams(StreamSubstitutionManager.kt:118)",
      "\tat org.jetbrains.kotlinx.jupyter.messaging.IdeCompatibleMessageRequestProcessor.withForkedErr(IdeCompatibleMessageRequestProcessor.kt:324)",
      "\tat org.jetbrains.kotlinx.jupyter.messaging.IdeCompatibleMessageRequestProcessor.access$withForkedErr(IdeCompatibleMessageRequestProcessor.kt:54)",
      "\tat org.jetbrains.kotlinx.jupyter.messaging.IdeCompatibleMessageRequestProcessor$evalWithIO$1.invoke(IdeCompatibleMessageRequestProcessor.kt:348)",
      "\tat org.jetbrains.kotlinx.jupyter.streams.BlockingSubstitutionEngine.withDataSubstitution(SubstitutionEngine.kt:70)",
      "\tat org.jetbrains.kotlinx.jupyter.streams.StreamSubstitutionManager.withSubstitutedStreams(StreamSubstitutionManager.kt:118)",
      "\tat org.jetbrains.kotlinx.jupyter.messaging.IdeCompatibleMessageRequestProcessor.withForkedOut(IdeCompatibleMessageRequestProcessor.kt:316)",
      "\tat org.jetbrains.kotlinx.jupyter.messaging.IdeCompatibleMessageRequestProcessor.evalWithIO(IdeCompatibleMessageRequestProcessor.kt:347)",
      "\tat org.jetbrains.kotlinx.jupyter.messaging.IdeCompatibleMessageRequestProcessor$processExecuteRequest$1$response$1.invoke(IdeCompatibleMessageRequestProcessor.kt:158)",
      "\tat org.jetbrains.kotlinx.jupyter.messaging.IdeCompatibleMessageRequestProcessor$processExecuteRequest$1$response$1.invoke(IdeCompatibleMessageRequestProcessor.kt:157)",
      "\tat org.jetbrains.kotlinx.jupyter.execution.JupyterExecutorImpl$Task.execute(JupyterExecutorImpl.kt:41)",
      "\tat org.jetbrains.kotlinx.jupyter.execution.JupyterExecutorImpl$executorThread$1.invoke(JupyterExecutorImpl.kt:83)",
      "\tat org.jetbrains.kotlinx.jupyter.execution.JupyterExecutorImpl$executorThread$1.invoke(JupyterExecutorImpl.kt:80)",
      "\tat kotlin.concurrent.ThreadsKt$thread$thread$1.run(Thread.kt:30)",
      ""
     ]
    }
   ],
   "execution_count": 14,
   "source": [
    "fun processUserRequest(query: String): String {\n",
    "    val routes = matchRoute(query)\n",
    "    println(routes)\n",
    "\n",
    "    val enrichedData = routes.map { routes ->\n",
    "        when (routes) {\n",
    "            \"trending_topics\" -> trendingTopics()\n",
    "            \"summarization\" -> summarization(query)\n",
    "            else -> \"\"\n",
    "        }\n",
    "    }\n",
    "\n",
    "    val systemPrompt = \"You are a bot that helps users analyse posts about politics. You may be given a data set to help you answer questions. Answer in a max od 300 chars. I MEAN IT. It's a TWEET. Don't write more than 300 chars. Respond in only ONE paragraph. Be as concise as possible\"\n",
    "\n",
    "    return ollamaChatModel.call(\n",
    "        Prompt(\n",
    "            SystemMessage(systemPrompt),\n",
    "            SystemMessage(\"Enriching data: $enrichedData\"),\n",
    "            UserMessage(\"User query: $query\")\n",
    "        )\n",
    "    ).result.output.text ?: \"\"\n",
    "}"
   ]
  },
  {
   "metadata": {},
   "cell_type": "code",
   "outputs": [],
   "execution_count": null,
   "source": [
    "import io.ktor.client.call.body\n",
    "import io.ktor.client.request.HttpRequestBuilder\n",
    "import io.ktor.client.request.headers\n",
    "import io.ktor.client.request.post\n",
    "import io.ktor.client.request.setBody\n",
    "import io.ktor.http.ContentType\n",
    "import io.ktor.http.HeadersBuilder\n",
    "import io.ktor.http.HttpStatusCode\n",
    "import io.ktor.http.contentType\n",
    "\n",
    "suspend fun getAccessToken(): String {\n",
    "    val response = client.post(\"$API_URL/com.atproto.server.createSession\") {\n",
    "        contentType(ContentType.Application.Json)\n",
    "        setBody(\n",
    "            mapOf(\n",
    "                \"identifier\" to USERNAME,\n",
    "                \"password\" to PASSWORD\n",
    "            )\n",
    "        )\n",
    "    }\n",
    "\n",
    "    return if (response.status == HttpStatusCode.OK) {\n",
    "        val result: LoginResponse = response.body()\n",
    "        jedis.set(\"mainDid\", result.did)\n",
    "        println(\"✅ Login successful. DID: ${result.did}\")\n",
    "        result.accessJwt\n",
    "    } else {\n",
    "        println(\"⚠️ Authentication failed: ${response.status}\")\n",
    "        \"\"\n",
    "    }\n",
    "}"
   ]
  },
  {
   "metadata": {},
   "cell_type": "code",
   "outputs": [],
   "execution_count": null,
   "source": [
    "lateinit var blueskyToken: String;\n",
    "runBlocking {\n",
    "    blueskyToken = getAccessToken()\n",
    "}"
   ]
  },
  {
   "metadata": {},
   "cell_type": "code",
   "outputs": [],
   "execution_count": null,
   "source": [
    "@Serializable\n",
    "data class SearchResponse(\n",
    "    @SerialName(\"cursor\") val cursor: String? = null,\n",
    "    @SerialName(\"hitsTotal\") val hitsTotal: Int? = null,\n",
    "    @SerialName(\"posts\") val posts: List<Post>\n",
    ")\n",
    "\n",
    "@Serializable\n",
    "data class Post(\n",
    "    @SerialName(\"uri\") val uri: String,\n",
    "    @SerialName(\"cid\") val cid: String,\n",
    "    @SerialName(\"author\") val author: Author,\n",
    "    @SerialName(\"indexedAt\") val indexedAt: String,\n",
    "    @SerialName(\"record\") val record: Record?,\n",
    "    @SerialName(\"replyCount\") val replyCount: Int? = null,\n",
    "    @SerialName(\"repostCount\") val repostCount: Int? = null,\n",
    "    @SerialName(\"likeCount\") val likeCount: Int? = null,\n",
    "    @SerialName(\"quoteCount\") val quoteCount: Int? = null,\n",
    "\n",
    "    )\n",
    "\n",
    "@Serializable\n",
    "data class Author(\n",
    "    @SerialName(\"did\") val did: String,\n",
    "    @SerialName(\"handle\") val handle: String,\n",
    "    @SerialName(\"displayName\") val displayName: String? = null,\n",
    "    @SerialName(\"avatar\") val avatar: String? = null\n",
    ")\n",
    "\n",
    "@Serializable\n",
    "data class Record(\n",
    "    @SerialName(\"text\") val text: String? = null,\n",
    "    @SerialName(\"embed\") val embed: Embed? = null,\n",
    "    @SerialName(\"createdAt\") val createdAt: String\n",
    ")\n",
    "\n",
    "@Serializable\n",
    "data class Embed(\n",
    "    @SerialName(\"images\") val images: List<Image>? = null\n",
    ")\n",
    "\n",
    "@Serializable\n",
    "data class Image(\n",
    "    @SerialName(\"thumb\") val thumb: String? = null, // Nullable to handle missing values\n",
    "    @SerialName(\"fullsize\") val fullsize: String? = null,\n",
    "    @SerialName(\"alt\") val alt: String? = null // Alt text is also optional\n",
    ")"
   ]
  },
  {
   "metadata": {},
   "cell_type": "code",
   "outputs": [],
   "execution_count": null,
   "source": [
    "import io.ktor.client.*\n",
    "import io.ktor.client.request.*\n",
    "import io.ktor.client.statement.*\n",
    "import io.ktor.client.call.*\n",
    "import io.ktor.http.*\n",
    "\n",
    "import java.time.Instant\n",
    "import java.time.temporal.ChronoUnit\n",
    "\n",
    "suspend fun searchPosts(sinceTime: String, tag: String): List<Post> {\n",
    "    val allPosts = mutableListOf<Post>()\n",
    "    var cursor: String? = null\n",
    "\n",
    "    println(\"🔍 Searching posts with tag: $tag since: $sinceTime\")\n",
    "    do {\n",
    "        val response: HttpResponse = client.get(\"$API_URL/app.bsky.feed.searchPosts\") {\n",
    "            headers {\n",
    "                append(\"Authorization\", \"Bearer $blueskyToken\")\n",
    "            }\n",
    "            parameter(\"q\", tag)\n",
    "            parameter(\"sort\", \"latest\")\n",
    "            parameter(\"limit\", 100)\n",
    "            parameter(\"since\", sinceTime)\n",
    "            if (cursor != null) {\n",
    "                parameter(\"cursor\", cursor)\n",
    "            }\n",
    "        }\n",
    "\n",
    "        if (response.status == HttpStatusCode.OK) {\n",
    "            val result: SearchResponse = response.body()\n",
    "            val posts = result.posts\n",
    "            println(\"✅ Retrieved ${posts.size} posts. Total so far: ${allPosts.size + posts.size}.\")\n",
    "            allPosts.addAll(posts)\n",
    "            cursor = result.cursor\n",
    "        } else {\n",
    "            println(\"⚠️ Failed to fetch posts. Status: ${response.status}\")\n",
    "            println(response.bodyAsText())\n",
    "            break\n",
    "        }\n",
    "    } while (cursor != null)\n",
    "\n",
    "    println(\"🎉 Finished fetching posts. Total retrieved: ${allPosts.size}.\")\n",
    "    return allPosts\n",
    "}"
   ]
  },
  {
   "metadata": {},
   "cell_type": "code",
   "outputs": [],
   "execution_count": null,
   "source": [
    "import kotlinx.coroutines.runBlocking\n",
    "\n",
    "runBlocking {\n",
    "    val sinceTime = Instant.now().minus(15, ChronoUnit.HOURS).toString()\n",
    "    searchPosts(sinceTime, \"java\")\n",
    "}"
   ]
  },
  {
   "metadata": {},
   "cell_type": "code",
   "source": "processUserRequest(\"What are people saying about Trump or Angela Merkel?\")",
   "outputs": [],
   "execution_count": null
  },
  {
   "metadata": {},
   "cell_type": "code",
   "source": "matchRoute(\"What are folks talking about tpics and Angela Merkel?\")",
   "outputs": [],
   "execution_count": null
  },
  {
   "metadata": {},
   "cell_type": "code",
   "source": [
    "val embeddingModel = TransformersEmbeddingModel()\n",
    "embeddingModel.setModelResource(\"file:model/bge-large-en-v1.5/model.onnx\")\n",
    "embeddingModel.setTokenizerResource(\"file:model/bge-large-en-v1.5/tokenizer.json\")\n",
    "embeddingModel.afterPropertiesSet()"
   ],
   "outputs": [],
   "execution_count": null
  },
  {
   "metadata": {},
   "cell_type": "code",
   "source": [
    "fun createEmbedding(input: String): ByteArray {\n",
    "    val embedding = embeddingModel.embed(input)\n",
    "    val embeddingBytes = ByteArray(Float.BYTES * embedding.size)\n",
    "    ByteBuffer.wrap(embeddingBytes).order(ByteOrder.LITTLE_ENDIAN).asFloatBuffer().put(embedding)\n",
    "    return embeddingBytes\n",
    "}\n",
    "\n",
    "val redisVectorStore = RedisVectorStore.builder(jedis, embeddingModel)\n",
    "    .indexName(\"routeIdx\")\n",
    "    .contentFieldName(\"text\")\n",
    "    .embeddingFieldName(\"textEmbedding\")\n",
    "    .metadataFields(\n",
    "        MetadataField(\"route\", FieldType.TEXT)\n",
    "    )\n",
    "    .prefix(\"route:\")\n",
    "    .initializeSchema(true)\n",
    "    .vectorAlgorithm(RedisVectorStore.Algorithm.FLAT)\n",
    "    .build()\n",
    "redisVectorStore.afterPropertiesSet()\n",
    "\n",
    "summarizationRoute.forEach { text ->\n",
    "    redisVectorStore.add(\n",
    "        listOf(\n",
    "            org.springframework.ai.document.Document(\n",
    "                UUID.randomUUID().toString(),\n",
    "                text,\n",
    "                mapOf(\n",
    "                    \"route\" to \"summarization\",\n",
    "                    \"text\" to text,\n",
    "                )\n",
    "            )\n",
    "        )\n",
    "    )\n",
    "}\n",
    "\n",
    "trendingTopicsRoute.forEach { text ->\n",
    "    redisVectorStore.add(\n",
    "        listOf(\n",
    "            org.springframework.ai.document.Document(\n",
    "                UUID.randomUUID().toString(),\n",
    "                text,\n",
    "                mapOf(\n",
    "                    \"route\" to \"trending_topics\",\n",
    "                    \"text\" to text,\n",
    "                )\n",
    "            )\n",
    "        )\n",
    "    )\n",
    "}"
   ],
   "outputs": [],
   "execution_count": null
  },
  {
   "metadata": {},
   "cell_type": "code",
   "source": "matchRoute(\"What are folks saying regarding Trump and Angela Merkel?\")",
   "outputs": [],
   "execution_count": null
  },
  {
   "metadata": {},
   "cell_type": "code",
   "source": "processUserRequest(\"What have people been posting about Trump or Angela Merkel?\")",
   "outputs": [],
   "execution_count": null
  },
  {
   "metadata": {},
   "cell_type": "code",
   "source": "processUserRequest(\"What are people talking about?\")",
   "outputs": [],
   "execution_count": null
  }
 ],
 "metadata": {
  "kernelspec": {
   "display_name": "Kotlin",
   "language": "kotlin",
   "name": "kotlin"
  },
  "language_info": {
   "name": "kotlin",
   "version": "1.9.23",
   "mimetype": "text/x-kotlin",
   "file_extension": ".kt",
   "pygments_lexer": "kotlin",
   "codemirror_mode": "text/x-kotlin",
   "nbconvert_exporter": ""
  },
  "ktnbPluginMetadata": {
   "projectDependencies": [
    "kotlinconf-bsky-bot.kotlin-notebooks.main"
   ],
   "projectLibraries": false
  }
 },
 "nbformat": 4,
 "nbformat_minor": 0
}
