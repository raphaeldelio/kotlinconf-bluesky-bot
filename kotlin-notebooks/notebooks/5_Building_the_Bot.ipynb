{
 "cells": [
  {
   "metadata": {},
   "cell_type": "markdown",
   "source": [
    "# Building the bot\n",
    "\n",
    "In this notebook, we'll create a bot that will be used as the interface to analyze the enriched events from the previous notebook. The bot will allow users to:\n",
    "\n",
    "- Ask what's trending on Bluesky\n",
    "- Search for posts based on topics"
   ]
  },
  {
   "metadata": {},
   "cell_type": "markdown",
   "source": [
    "## Setting Up the Environment\n",
    "In this section, we'll set up the environment for our bot. We'll import the necessary libraries and create the HTTP client that we'll use to interact with the Bluesky API.\n"
   ]
  },
  {
   "metadata": {},
   "cell_type": "code",
   "outputs": [],
   "execution_count": null,
   "source": "import dev.raphaeldelio.*"
  },
  {
   "metadata": {},
   "cell_type": "code",
   "outputs": [],
   "execution_count": null,
   "source": "%use coroutines"
  },
  {
   "metadata": {},
   "cell_type": "markdown",
   "source": [
    "### Creating the HTTP Client\n",
    "We'll use Ktor's HTTP client to interact with the Bluesky API. We'll configure it to use the CIO engine and to handle JSON content negotiation.\n"
   ]
  },
  {
   "metadata": {},
   "cell_type": "code",
   "outputs": [],
   "execution_count": null,
   "source": [
    "import io.ktor.client.HttpClient\n",
    "import io.ktor.client.engine.cio.CIO\n",
    "import io.ktor.client.plugins.contentnegotiation.ContentNegotiation\n",
    "import io.ktor.serialization.kotlinx.json.json\n",
    "import kotlinx.serialization.json.Json\n",
    "\n",
    "val client = HttpClient(CIO) {\n",
    "    install(ContentNegotiation) {\n",
    "        json(Json {\n",
    "            ignoreUnknownKeys = true\n",
    "        })\n",
    "    }\n",
    "}"
   ]
  },
  {
   "metadata": {},
   "cell_type": "markdown",
   "source": [
    "### Configuring Bluesky API Access\n",
    "Here we define the constants needed to access the Bluesky API. We'll need the API URL, our bot's username, and a password token stored as an environment variable for security.\n"
   ]
  },
  {
   "metadata": {},
   "cell_type": "code",
   "outputs": [],
   "execution_count": null,
   "source": [
    "val API_URL = \"https://bsky.social/xrpc\"\n",
    "val USERNAME = \"devbubble.bsky.social\"\n",
    "val PASSWORD = System.getenv(\"DEVBUBBLE_TOKEN\")"
   ]
  },
  {
   "metadata": {},
   "cell_type": "markdown",
   "source": [
    "### Defining Authentication Data Models\n",
    "We need to define data classes to represent the response from the Bluesky authentication API. These models will be used to deserialize the JSON response from the API.\n"
   ]
  },
  {
   "metadata": {},
   "cell_type": "code",
   "outputs": [],
   "execution_count": null,
   "source": [
    "import kotlinx.serialization.SerialName\n",
    "import kotlinx.serialization.Serializable\n",
    "\n",
    "@Serializable\n",
    "data class LoginResponse(\n",
    "    @SerialName(\"accessJwt\") val accessJwt: String,\n",
    "    @SerialName(\"refreshJwt\") val refreshJwt: String,\n",
    "    @SerialName(\"handle\") val handle: String,\n",
    "    @SerialName(\"did\") val did: String,\n",
    "    @SerialName(\"didDoc\") val didDoc: DidDoc?,\n",
    "    @SerialName(\"email\") val email: String?,\n",
    "    @SerialName(\"emailConfirmed\") val emailConfirmed: Boolean?,\n",
    "    @SerialName(\"emailAuthFactor\") val emailAuthFactor: Boolean?,\n",
    "    @SerialName(\"active\") val active: Boolean,\n",
    "    @SerialName(\"status\") val status: String? = null\n",
    ")\n",
    "\n",
    "@Serializable\n",
    "data class DidDoc(\n",
    "    @SerialName(\"id\") val id: String?\n",
    ")"
   ]
  },
  {
   "metadata": {},
   "cell_type": "markdown",
   "source": [
    "### Implementing Authentication\n",
    "Now we'll implement the function to authenticate with the Bluesky API. This function will send a POST request to the API with our username and password, and return an access token that we can use for subsequent requests.\n"
   ]
  },
  {
   "metadata": {},
   "cell_type": "code",
   "outputs": [],
   "execution_count": null,
   "source": [
    "import io.ktor.client.call.body\n",
    "import io.ktor.client.request.HttpRequestBuilder\n",
    "import io.ktor.client.request.headers\n",
    "import io.ktor.client.request.post\n",
    "import io.ktor.client.request.setBody\n",
    "import io.ktor.http.ContentType\n",
    "import io.ktor.http.HeadersBuilder\n",
    "import io.ktor.http.HttpStatusCode\n",
    "import io.ktor.http.contentType\n",
    "\n",
    "suspend fun getAccessToken(): String {\n",
    "    val response = client.post(\"$API_URL/com.atproto.server.createSession\") {\n",
    "        contentType(ContentType.Application.Json)\n",
    "        setBody(\n",
    "            mapOf(\n",
    "                \"identifier\" to USERNAME,\n",
    "                \"password\" to PASSWORD\n",
    "            )\n",
    "        )\n",
    "    }\n",
    "\n",
    "    return if (response.status == HttpStatusCode.OK) {\n",
    "        val result: LoginResponse = response.body()\n",
    "        jedisPooled.set(\"mainDid\", result.did)\n",
    "        println(\"✅ Login successful. DID: ${result.did}\")\n",
    "        result.accessJwt\n",
    "    } else {\n",
    "        println(\"⚠️ Authentication failed: ${response.status}\")\n",
    "        \"\"\n",
    "    }\n",
    "}"
   ]
  },
  {
   "metadata": {},
   "cell_type": "markdown",
   "source": [
    "### Getting the Access Token\n",
    "Now we'll call the `getAccessToken` function to get an access token from the Bluesky API. We'll store this token in a variable that we can use for subsequent requests.\n"
   ]
  },
  {
   "metadata": {},
   "cell_type": "code",
   "outputs": [],
   "execution_count": null,
   "source": [
    "var blueskyToken: String\n",
    "runBlocking {\n",
    "    blueskyToken = getAccessToken()\n",
    "}"
   ]
  },
  {
   "metadata": {},
   "cell_type": "markdown",
   "source": [
    "## Searching for Posts\n",
    "In this section, we'll implement the functionality to search for posts on Bluesky. We'll define data models to represent the search response and posts, and then implement a function to search for posts.\n",
    "\n",
    "### Defining Post Search Models\n",
    "First, we need to define data classes to represent the response from the Bluesky search API. These models will be used to deserialize the JSON response from the API.\n"
   ]
  },
  {
   "metadata": {},
   "cell_type": "code",
   "outputs": [],
   "execution_count": null,
   "source": [
    "@Serializable\n",
    "data class SearchResponse(\n",
    "    @SerialName(\"cursor\") val cursor: String? = null,\n",
    "    @SerialName(\"hitsTotal\") val hitsTotal: Int? = null,\n",
    "    @SerialName(\"posts\") val posts: List<Post>\n",
    ")\n",
    "\n",
    "@Serializable\n",
    "data class Post(\n",
    "    @SerialName(\"uri\") val uri: String,\n",
    "    @SerialName(\"cid\") val cid: String,\n",
    "    @SerialName(\"author\") val author: Author,\n",
    "    @SerialName(\"indexedAt\") val indexedAt: String,\n",
    "    @SerialName(\"record\") val record: Record?,\n",
    "    @SerialName(\"replyCount\") val replyCount: Int? = null,\n",
    "    @SerialName(\"repostCount\") val repostCount: Int? = null,\n",
    "    @SerialName(\"likeCount\") val likeCount: Int? = null,\n",
    "    @SerialName(\"quoteCount\") val quoteCount: Int? = null,\n",
    "\n",
    "    )\n",
    "\n",
    "@Serializable\n",
    "data class Author(\n",
    "    @SerialName(\"did\") val did: String,\n",
    "    @SerialName(\"handle\") val handle: String,\n",
    "    @SerialName(\"displayName\") val displayName: String? = null,\n",
    "    @SerialName(\"avatar\") val avatar: String? = null\n",
    ")\n",
    "\n",
    "@Serializable\n",
    "data class Record(\n",
    "    @SerialName(\"text\") val text: String? = null,\n",
    "    @SerialName(\"embed\") val embed: Embed? = null,\n",
    "    @SerialName(\"createdAt\") val createdAt: String\n",
    ")\n",
    "\n",
    "@Serializable\n",
    "data class Embed(\n",
    "    @SerialName(\"images\") val images: List<Image>? = null\n",
    ")\n",
    "\n",
    "@Serializable\n",
    "data class Image(\n",
    "    @SerialName(\"thumb\") val thumb: String? = null, // Nullable to handle missing values\n",
    "    @SerialName(\"fullsize\") val fullsize: String? = null,\n",
    "    @SerialName(\"alt\") val alt: String? = null // Alt text is also optional\n",
    ")"
   ]
  },
  {
   "metadata": {},
   "cell_type": "markdown",
   "source": [
    "### Implementing Post Search\n",
    "Now we'll implement the function to search for posts on Bluesky. This function will send a GET request to the API with our search parameters, and return a list of posts that match our search criteria.\n",
    "\n",
    "The function uses pagination to retrieve all posts that match the search criteria, even if there are more than can be returned in a single response.\n"
   ]
  },
  {
   "metadata": {},
   "cell_type": "code",
   "outputs": [],
   "execution_count": null,
   "source": [
    "import io.ktor.client.*\n",
    "import io.ktor.client.request.*\n",
    "import io.ktor.client.statement.*\n",
    "import io.ktor.client.call.*\n",
    "import io.ktor.http.*\n",
    "\n",
    "import java.time.Instant\n",
    "import java.time.temporal.ChronoUnit\n",
    "\n",
    "suspend fun searchPosts(sinceTime: String, term: String): List<Post> {\n",
    "    val allPosts = mutableListOf<Post>()\n",
    "    var cursor: String? = null\n",
    "\n",
    "    println(\"🔍 Searching posts with tag: $term since: $sinceTime\")\n",
    "    do {\n",
    "        val response: HttpResponse = client.get(\"$API_URL/app.bsky.feed.searchPosts\") {\n",
    "            headers {\n",
    "                append(\"Authorization\", \"Bearer $blueskyToken\")\n",
    "            }\n",
    "            parameter(\"q\", term)\n",
    "            parameter(\"sort\", \"latest\")\n",
    "            parameter(\"limit\", 100)\n",
    "            parameter(\"since\", sinceTime)\n",
    "            if (cursor != null) {\n",
    "                parameter(\"cursor\", cursor)\n",
    "            }\n",
    "        }\n",
    "\n",
    "        if (response.status == HttpStatusCode.OK) {\n",
    "            val result: SearchResponse = response.body()\n",
    "            val posts = result.posts\n",
    "            println(\"✅ Retrieved ${posts.size} posts. Total so far: ${allPosts.size + posts.size}.\")\n",
    "            allPosts.addAll(posts)\n",
    "            cursor = result.cursor\n",
    "        } else {\n",
    "            println(\"⚠️ Failed to fetch posts. Status: ${response.status}\")\n",
    "            println(response.bodyAsText())\n",
    "            break\n",
    "        }\n",
    "    } while (cursor != null)\n",
    "\n",
    "    println(\"🎉 Finished fetching posts. Total retrieved: ${allPosts.size}.\")\n",
    "    return allPosts\n",
    "}"
   ]
  },
  {
   "metadata": {},
   "cell_type": "markdown",
   "source": [
    "### Testing Post Search\n",
    "Let's test our post search function by searching for posts that mention our bot's handle. We'll search for posts from the last 15 hours, and for each post, we'll process the text to remove our bot's handle and then process the user's request.\n"
   ]
  },
  {
   "metadata": {},
   "cell_type": "code",
   "outputs": [],
   "execution_count": null,
   "source": [
    "val sinceTime = Instant.now().minus(15, ChronoUnit.HOURS).toString()\n",
    "runBlocking {\n",
    "    val posts = searchPosts(sinceTime, \"@devbubble.bsky.social\")\n",
    "    posts.forEach { post ->\n",
    "        post.record?.text?.replace(\"@devbubble.bsky.social\", \"\")?.trim()!!.let { cleanedPost ->\n",
    "            println(processUserRequest(cleanedPost, multiHandler))\n",
    "        }\n",
    "    }\n",
    "}"
   ]
  },
  {
   "metadata": {},
   "cell_type": "markdown",
   "source": [
    "## Creating Posts\n",
    "In this section, we'll implement the functionality to create posts on Bluesky. We'll define data models to represent the post request and then implement a function to create posts.\n",
    "\n",
    "### Defining Post Creation Models\n",
    "First, we need to define data classes to represent the request we'll send to the Bluesky API to create a post. These models will be used to serialize our request into JSON.\n"
   ]
  },
  {
   "metadata": {},
   "cell_type": "code",
   "outputs": [],
   "execution_count": null,
   "source": [
    "@Serializable\n",
    "data class ReplyRef(\n",
    "    val root: PostRef,\n",
    "    val parent: PostRef\n",
    ")\n",
    "\n",
    "@Serializable\n",
    "data class PostRef(\n",
    "    val cid: String,\n",
    "    val uri: String\n",
    ")\n",
    "\n",
    "@Serializable\n",
    "data class PostRecord(\n",
    "    val `$type`: String = \"app.bsky.feed.post\",\n",
    "    val text: String,\n",
    "    val createdAt: String,\n",
    "    val reply: ReplyRef? = null\n",
    ")\n",
    "\n",
    "@Serializable\n",
    "data class PostRequest(\n",
    "    val repo: String,\n",
    "    val collection: String,\n",
    "    val record: PostRecord\n",
    ")\n"
   ]
  },
  {
   "metadata": {},
   "cell_type": "markdown",
   "source": [
    "### Implementing Post Creation\n",
    "Now we'll implement the function to create posts on Bluesky. This function will send a POST request to the API with our post content, and return a boolean indicating whether the post was created successfully.\n",
    "\n",
    "The function can create both standalone posts and replies to existing posts. If `replyToUri` and `replyToCid` are provided, the post will be created as a reply to the specified post.\n"
   ]
  },
  {
   "metadata": {},
   "cell_type": "code",
   "outputs": [],
   "execution_count": null,
   "source": [
    "suspend fun createPost(\n",
    "    text: String,\n",
    "    replyToUri: String? = null,\n",
    "    replyToCid: String? = null\n",
    "): Boolean {\n",
    "    val replyRef = if (replyToUri != null && replyToCid != null) {\n",
    "        ReplyRef(\n",
    "            root = PostRef(uri = replyToUri, cid = replyToCid),\n",
    "            parent = PostRef(uri = replyToUri, cid = replyToCid)\n",
    "        )\n",
    "    } else {\n",
    "        null\n",
    "    }\n",
    "\n",
    "    val record = PostRecord(\n",
    "        text = text,\n",
    "        createdAt = Instant.now().toString(),\n",
    "        reply = replyRef\n",
    "    )\n",
    "\n",
    "    val response: HttpResponse = client.post(\"$API_URL/com.atproto.repo.createRecord\") {\n",
    "        headers {\n",
    "            append(\"Authorization\", \"Bearer $blueskyToken\")\n",
    "            contentType(ContentType.Application.Json)\n",
    "        }\n",
    "        setBody(\n",
    "            PostRequest(\n",
    "                repo = \"did:plc:qdwb7czl4gdbu5go25dza3vo\",\n",
    "                collection = \"app.bsky.feed.post\",\n",
    "                record = record\n",
    "            )\n",
    "        )\n",
    "    }\n",
    "\n",
    "    return if (response.status == HttpStatusCode.OK || response.status == HttpStatusCode.Accepted) {\n",
    "        println(\"✅ Post created${if (replyRef != null) \" (as reply)\" else \"\"}!\")\n",
    "        true\n",
    "    } else {\n",
    "        println(\"❌ Failed to create post: ${response.status}\")\n",
    "        println(response.bodyAsText())\n",
    "        false\n",
    "    }\n",
    "}"
   ]
  },
  {
   "metadata": {},
   "cell_type": "code",
   "outputs": [],
   "execution_count": null,
   "source": [
    "runBlocking {\n",
    "    createPost(\"test\")\n",
    "}"
   ]
  },
  {
   "metadata": {},
   "cell_type": "markdown",
   "source": "### Putting It All Together"
  },
  {
   "metadata": {},
   "cell_type": "code",
   "outputs": [],
   "execution_count": null,
   "source": [
    "fun splitIntoChunks(text: String, maxLength: Int = 300): List<String> {\n",
    "    val words = text.split(Regex(\"\\\\s+\"))\n",
    "    val chunks = mutableListOf<String>()\n",
    "    var current = StringBuilder()\n",
    "\n",
    "    for (word in words) {\n",
    "        if (current.length + word.length + 1 > maxLength) {\n",
    "            chunks.add(current.toString().trim())\n",
    "            current = StringBuilder()\n",
    "        }\n",
    "        current.append(word).append(' ')\n",
    "    }\n",
    "\n",
    "    if (current.isNotEmpty()) {\n",
    "        chunks.add(current.toString().trim())\n",
    "    }\n",
    "\n",
    "    return chunks\n",
    "}"
   ]
  },
  {
   "metadata": {},
   "cell_type": "code",
   "outputs": [],
   "execution_count": null,
   "source": [
    "val sinceTime = Instant.now().minus(15, ChronoUnit.HOURS).toString()\n",
    "runBlocking {\n",
    "    val posts = searchPosts(sinceTime, \"@devbubble.bsky.social\")\n",
    "    posts.forEach { post ->\n",
    "        post.record?.text?.replace(\"@devbubble.bsky.social\", \"\")?.trim()!!.let { cleanedPost ->\n",
    "            val handle = post.author.handle\n",
    "            val response = \"@$handle ${processUserRequest(cleanedPost, multiHandler)}\"\n",
    "            val chunks = splitIntoChunks(response)\n",
    "            var lastUri = post.uri\n",
    "            var lastCid = post.cid\n",
    "\n",
    "            chunks.forEach { chunk ->\n",
    "                createPost(\n",
    "                    chunk,\n",
    "                    post.uri,\n",
    "                    post.cid\n",
    "                )\n",
    "                lastUri = post.uri\n",
    "                lastCid = post.cid\n",
    "            }\n",
    "        }\n",
    "    }\n",
    "}\n"
   ]
  }
 ],
 "metadata": {
  "kernelspec": {
   "display_name": "Kotlin",
   "language": "kotlin",
   "name": "kotlin"
  },
  "language_info": {
   "name": "kotlin",
   "version": "1.9.23",
   "mimetype": "text/x-kotlin",
   "file_extension": ".kt",
   "pygments_lexer": "kotlin",
   "codemirror_mode": "text/x-kotlin",
   "nbconvert_exporter": ""
  },
  "ktnbPluginMetadata": {
   "projectDependencies": [
    "kotlinconf-bsky-bot.kotlin-notebooks.main"
   ],
   "projectLibraries": false
  }
 },
 "nbformat": 4,
 "nbformat_minor": 0
}
