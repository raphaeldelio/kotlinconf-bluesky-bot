{
 "cells": [
  {
   "metadata": {},
   "cell_type": "markdown",
   "source": "# Filtering JetStream Events"
  },
  {
   "metadata": {},
   "cell_type": "markdown",
   "source": [
    "In this notebook, we'll filter events from the Redis Stream that we created in the previous notebook. We'll use a combination of techniques to filter the events:\n",
    "\n",
    "1. Deduplication using Redis Bloom Filter to avoid processing the same event multiple times\n",
    "2. Content-based filtering using a machine learning model to identify software-related posts\n",
    "3. Storing filtered events in Redis for further processing\n",
    "\n",
    "Redis Bloom Filter is a probabilistic data structure that allows us to check if an element is in a set. It's very memory efficient and has a constant time complexity for both insertion and lookup operations. The trade-off is that it can have false positives, but the probability of false positives can be controlled by the size of the filter.\n",
    "\n",
    "Machine learning models can be used to classify text into different categories. In this notebook, we'll use a pre-trained zero-shot classification model to classify posts as software-related or not."
   ]
  },
  {
   "metadata": {},
   "cell_type": "markdown",
   "source": "## Consuming from Redis Streams"
  },
  {
   "metadata": {},
   "cell_type": "markdown",
   "source": [
    "### Model Redis Streams Event\n",
    "In this section, we'll define a data class to represent the events stored in the Redis Stream. This model will be used to deserialize the events from the stream."
   ]
  },
  {
   "metadata": {
    "ExecuteTime": {
     "end_time": "2025-05-22T17:47:14.520130Z",
     "start_time": "2025-05-22T17:47:14.285562Z"
    }
   },
   "cell_type": "code",
   "source": "@file:DependsOn(\"redis.clients:jedis:6.0.0\")",
   "outputs": [],
   "execution_count": 1
  },
  {
   "metadata": {
    "ExecuteTime": {
     "end_time": "2025-05-22T17:47:15.276993Z",
     "start_time": "2025-05-22T17:47:14.525304Z"
    }
   },
   "cell_type": "code",
   "source": [
    "import redis.clients.jedis.resps.StreamEntry\n",
    "\n",
    "data class Event(\n",
    "    val did: String,\n",
    "    val rkey: String,\n",
    "    val text: String,\n",
    "    val timeUs: String,\n",
    "    val operation: String,\n",
    "    val uri: String,\n",
    "    val parentUri: String,\n",
    "    val rootUri: String,\n",
    "    val langs: List<String>,\n",
    ") {\n",
    "    companion object {\n",
    "        fun fromMap(entry: StreamEntry): Event {\n",
    "            val fields = entry.fields\n",
    "            return Event(\n",
    "                did = fields[\"did\"] ?: \"\",\n",
    "                rkey = fields[\"rkey\"] ?: \"\",\n",
    "                text = fields[\"text\"] ?: \"\",\n",
    "                timeUs = fields[\"timeUs\"] ?: \"\",\n",
    "                operation = fields[\"operation\"] ?: \"\",\n",
    "                uri = fields[\"uri\"] ?: \"\",\n",
    "                parentUri = fields[\"parentUri\"] ?: \"\",\n",
    "                rootUri = fields[\"rootUri\"] ?: \"\",\n",
    "                langs = fields[\"langs\"]?.replace(\"[\", \"\")?.replace(\"]\", \"\")?.split(\", \") ?: emptyList()\n",
    "            )\n",
    "        }\n",
    "    }\n",
    "}"
   ],
   "outputs": [],
   "execution_count": 2
  },
  {
   "metadata": {},
   "cell_type": "markdown",
   "source": [
    "### Creating a Redis Client\n",
    "Create a Jedis client to connect to Redis. This is a reusable client that can be used to interact with Redis Streams."
   ]
  },
  {
   "metadata": {
    "ExecuteTime": {
     "end_time": "2025-05-22T17:47:15.569052Z",
     "start_time": "2025-05-22T17:47:15.285350Z"
    }
   },
   "cell_type": "code",
   "source": [
    "import redis.clients.jedis.JedisPooled\n",
    "\n",
    "val jedisPooled = JedisPooled()"
   ],
   "outputs": [],
   "execution_count": 3
  },
  {
   "metadata": {},
   "cell_type": "markdown",
   "source": [
    "### Creating a Consumer Group\n",
    "Create a consumer group to read from the Redis Stream. A consumer group allows multiple consumers to read from the same stream without duplicating the work. Each consumer in the group will receive a different subset of the messages.\n",
    "\n",
    "A consumer group can be created in Redis with the XGROUP CREATE command:\n",
    "\n",
    "`XGROUP CREATE streamName groupName id [MKSTREAM]`\n",
    "\n",
    "To create a consumer group in this notebook, we will encapsulate the command in a function. The function will take the stream name and the group name as parameters."
   ]
  },
  {
   "metadata": {
    "ExecuteTime": {
     "end_time": "2025-05-22T17:47:15.694189Z",
     "start_time": "2025-05-22T17:47:15.580176Z"
    }
   },
   "cell_type": "code",
   "source": [
    "import redis.clients.jedis.StreamEntryID\n",
    "\n",
    "fun createConsumerGroup(streamName: String, consumerGroupName: String) {\n",
    "    try {\n",
    "        jedisPooled.xgroupCreate(streamName, consumerGroupName, StreamEntryID(\"0-0\"), true)\n",
    "    } catch (_: Exception) {\n",
    "        println(\"Group already exists\")\n",
    "    }\n",
    "}"
   ],
   "outputs": [],
   "execution_count": 4
  },
  {
   "metadata": {
    "ExecuteTime": {
     "end_time": "2025-05-22T17:47:15.742831Z",
     "start_time": "2025-05-22T17:47:15.699967Z"
    }
   },
   "cell_type": "code",
   "source": "createConsumerGroup(\"jetstream\", \"printer-example\")",
   "outputs": [
    {
     "name": "stdout",
     "output_type": "stream",
     "text": [
      "Group already exists\n"
     ]
    }
   ],
   "execution_count": 5
  },
  {
   "metadata": {},
   "cell_type": "markdown",
   "source": [
    "### Reading from the Stream\n",
    "Create a reusable function to read from the stream. This function will read from the stream and return a list of entries. It uses the XREADGROUP command to read from the stream as part of a consumer group:\n",
    "\n",
    "`XREADGROUP GROUP groupName consumerName COUNT count BLOCK blockTime streamName id`\n",
    "\n",
    "The command will be encapsulated in a function that takes the stream name, consumer group name, consumer name, and count as parameters. The function will return a list of entries."
   ]
  },
  {
   "metadata": {
    "ExecuteTime": {
     "end_time": "2025-05-22T17:47:15.915547Z",
     "start_time": "2025-05-22T17:47:15.809780Z"
    }
   },
   "cell_type": "code",
   "source": [
    "import redis.clients.jedis.params.XReadGroupParams\n",
    "\n",
    "fun readFromStream(\n",
    "    streamName: String,\n",
    "    consumerGroup: String,\n",
    "    consumer: String, count: Int\n",
    "): List<Map.Entry<String, List<StreamEntry>>> {\n",
    "    return jedisPooled.xreadGroup(\n",
    "        consumerGroup,\n",
    "        consumer,\n",
    "        XReadGroupParams().count(count),\n",
    "        mapOf(\n",
    "            streamName to StreamEntryID.XREADGROUP_UNDELIVERED_ENTRY\n",
    "        )\n",
    "    ) ?: emptyList()\n",
    "}"
   ],
   "outputs": [],
   "execution_count": 6
  },
  {
   "metadata": {},
   "cell_type": "markdown",
   "source": [
    "### Acknowledging Messages\n",
    "Create a function to acknowledge the message. This is important to let Redis know that the message has been processed successfully, so it won't be delivered to other consumers in the group.\n",
    "\n",
    "This is done by using the XACK command:\n",
    "\n",
    "`XACK streamName groupName id`\n",
    "\n",
    "The command will be encapsulated in a lambda function that takes the stream name, consumer group name, and entry as parameters. The function will acknowledge the message by calling the XACK command."
   ]
  },
  {
   "metadata": {
    "ExecuteTime": {
     "end_time": "2025-05-22T17:47:15.993385Z",
     "start_time": "2025-05-22T17:47:15.919768Z"
    }
   },
   "cell_type": "code",
   "source": [
    "fun ackFunction(): (String, String, StreamEntry) -> Unit {\n",
    "    return { streamName, consumerGroup, entry ->\n",
    "        jedisPooled.xack(\n",
    "            streamName,\n",
    "            consumerGroup,\n",
    "            entry.id\n",
    "        )\n",
    "    }\n",
    "}"
   ],
   "outputs": [],
   "execution_count": 7
  },
  {
   "metadata": {},
   "cell_type": "markdown",
   "source": [
    "### Consuming the Stream\n",
    "Create a reusable function to consume the stream.\n",
    "\n",
    "This function implements a pipeline pattern where each event is processed sequentially by a series of handlers. If any handler returns false, the processing stops for that event.\n",
    "\n",
    "After processing the event, the function acknowledges the message using the ack function."
   ]
  },
  {
   "metadata": {
    "ExecuteTime": {
     "end_time": "2025-05-22T17:47:16.100600Z",
     "start_time": "2025-05-22T17:47:15.998956Z"
    }
   },
   "cell_type": "code",
   "source": "%use coroutines",
   "outputs": [],
   "execution_count": 8
  },
  {
   "metadata": {
    "ExecuteTime": {
     "end_time": "2025-05-22T17:47:16.411826Z",
     "start_time": "2025-05-22T17:47:16.108216Z"
    }
   },
   "cell_type": "code",
   "source": [
    "import kotlinx.coroutines.*\n",
    "\n",
    "fun consumeStream(\n",
    "    streamName: String,\n",
    "    consumerGroup: String,\n",
    "    consumer: String,\n",
    "    handlers: List<(Event) -> Pair<Boolean, String>>,\n",
    "    ackFunction: ((String, String, StreamEntry) -> Unit),\n",
    "    count: Int = 5,\n",
    "    limit: Int = 5\n",
    ") {\n",
    "    var lastMessageTime = System.currentTimeMillis()\n",
    "    var consumed = 0\n",
    "\n",
    "    while (consumed < limit) {\n",
    "        val entries = readFromStream(streamName, consumerGroup, consumer, count)\n",
    "        val allEntries = entries.flatMap { it.value }\n",
    "        allEntries.map { entry ->\n",
    "            consumed++\n",
    "            val event = Event.fromMap(entry)\n",
    "\n",
    "            for (handler in handlers) {\n",
    "                val (shouldContinue, message) = handler(event)\n",
    "                ackFunction(streamName, consumerGroup, entry)\n",
    "\n",
    "                if (!shouldContinue) {\n",
    "                    println(\"$consumer: Handler stopped processing: $message\")\n",
    "                    break\n",
    "                }\n",
    "            }\n",
    "        }\n",
    "\n",
    "        if (allEntries.isEmpty()) {\n",
    "            val now = System.currentTimeMillis()\n",
    "            if (now - lastMessageTime >= 2_000) {\n",
    "                println(\"$consumer: No new messages for 2 seconds. Stopping.\")\n",
    "                break\n",
    "            }\n",
    "        }\n",
    "    }\n",
    "\n",
    "}"
   ],
   "outputs": [],
   "execution_count": 9
  },
  {
   "metadata": {},
   "cell_type": "markdown",
   "source": "To test the consumeStream function, we'll create a simple handler that prints the event's URI."
  },
  {
   "metadata": {
    "ExecuteTime": {
     "end_time": "2025-05-22T17:47:16.471186Z",
     "start_time": "2025-05-22T17:47:16.422960Z"
    }
   },
   "cell_type": "code",
   "source": [
    "val printUri: (Event) -> Pair<Boolean, String> = {\n",
    "    println(\"Got event from ${it.uri}\")\n",
    "    Pair(true, \"OK\")\n",
    "}"
   ],
   "outputs": [],
   "execution_count": 10
  },
  {
   "metadata": {
    "ExecuteTime": {
     "end_time": "2025-05-22T17:47:16.702289Z",
     "start_time": "2025-05-22T17:47:16.476510Z"
    }
   },
   "cell_type": "code",
   "source": [
    "runBlocking {\n",
    "    consumeStream(\n",
    "        streamName = \"jetstream\",\n",
    "        consumerGroup = \"printer-example\",\n",
    "        consumer =\"printer-1\",\n",
    "        handlers = listOf(printUri),\n",
    "        ackFunction = ackFunction(),\n",
    "        count = 100,\n",
    "        limit = 200\n",
    "    )\n",
    "}"
   ],
   "outputs": [
    {
     "name": "stdout",
     "output_type": "stream",
     "text": [
      "Got event from at://did:plc:gvbo5cxa4luw5qm3hyuusn43/app.bsky.feed.post/3lprnh3a3z22r\n",
      "Got event from at://did:plc:oirl2wfqqce5vx6jnkzkfbzf/app.bsky.feed.post/3lprng5nsym26\n",
      "Got event from at://did:plc:yz5uclcxqc43gosf7p3re36g/app.bsky.feed.post/3lprfjk4tm22m\n",
      "Got event from at://did:plc:fwn3y6bqnrofysix42ii5gww/app.bsky.feed.post/3lprng5hasc22\n",
      "Got event from at://did:plc:td2wa2smeh2rg3djgytj75l7/app.bsky.feed.post/3lprng5jd7c2o\n",
      "Got event from at://did:plc:l5wmyupvupvcea4363bh4l6e/app.bsky.feed.post/3lprng5om5k2a\n",
      "Got event from at://did:plc:fsizwqykg2bihurdtmwsfuw5/app.bsky.feed.post/3lprng2qoc22f\n",
      "Got event from at://did:plc:vltagjkl53y5ciorrkt24frj/app.bsky.feed.post/3lprng4trqs2l\n",
      "Got event from at://did:plc:6uwcqdvktsyokmyfpxgpxk4u/app.bsky.feed.post/3lprng5pruq2h\n",
      "Got event from at://did:plc:zjetfffcwvaw6lvgoz4s6vhf/app.bsky.feed.post/3lprng5v5522u\n",
      "Got event from at://did:plc:fcnbisw7xl6lmtcnvioocffz/app.bsky.feed.post/3lprng6brv727\n",
      "Got event from at://did:plc:lsmukzrlmppyjxq2arvngra5/app.bsky.feed.post/3lprng7tq2s25\n",
      "Got event from at://did:plc:4zb6wjgjersfbj3i34cxxk56/app.bsky.feed.post/3lprng5xges2z\n",
      "Got event from at://did:plc:aksonx5oo37635smw5vudg35/app.bsky.feed.post/3lprng5j4ek2g\n",
      "Got event from at://did:plc:nlvh6deqh72mu4dlusb4cru7/app.bsky.feed.post/3lprnfyvgrs2e\n",
      "Got event from at://did:plc:gshqpwaac6l3poetgjld67i5/app.bsky.feed.post/3lprng5x6ks2f\n",
      "Got event from at://did:plc:eilva2ueeyv6aiuhstlc3zfa/app.bsky.feed.post/3lprng6ca3c2u\n",
      "Got event from at://did:plc:clfaakrlbf4775kmzu7snpzc/app.bsky.feed.post/3lprng5teik2o\n",
      "Got event from at://did:plc:do54tnooaq6gejxd7v7zkxig/app.bsky.feed.post/3lprng3x2sk2g\n",
      "Got event from at://did:plc:hogs3gru344tnctga4pcturl/app.bsky.feed.post/3lprng4myxc2g\n",
      "Got event from at://did:plc:qc6ekznbhnzmfltyfjdxzq3j/app.bsky.feed.post/3lprng57qks2r\n",
      "Got event from at://did:plc:35wqwejtyr26cahnu4vggtr3/app.bsky.feed.post/3lprng627ak2f\n",
      "Got event from at://did:plc:p6nqzgxs4todtzvxhd5rx3jw/app.bsky.feed.post/3lprng6s6t22k\n",
      "Got event from at://did:plc:op2qhdl2sa3fbtk6s6eioml4/app.bsky.feed.post/3lprng6j3he2v\n",
      "Got event from at://did:plc:ejth5bkqyyqz5elcsbjo3dze/app.bsky.feed.post/3lprng7ron22y\n",
      "Got event from at://did:plc:3mc2x22djq2ndzacgkyjxkyp/app.bsky.feed.post/3lprng66zk22c\n",
      "Got event from at://did:plc:mge5msvjg7sx4gtmy23xpkji/app.bsky.feed.post/3lprng5oagk2b\n",
      "Got event from at://did:plc:74aqrp7glywttk7rp5mew74a/app.bsky.feed.post/3lprng6cmrk2i\n",
      "Got event from at://did:plc:42b7ksfuo4silmgkmtcqdx2j/app.bsky.feed.post/3lprng4tkw22b\n",
      "Got event from at://did:plc:77og2k7ddnnd73grocld2l5h/app.bsky.feed.post/3lprng63cfk2e\n",
      "Got event from at://did:plc:icwllu7ami32arokkxe6kpzx/app.bsky.feed.post/3lprng34zsc2k\n",
      "Got event from at://did:plc:koskfrc4wpcmstjqmiftfrew/app.bsky.feed.post/3lprng4v3qk2u\n",
      "Got event from at://did:plc:mpoxsaax7r5rs2tgeh56nqhn/app.bsky.feed.post/3lprng6i7ic2s\n",
      "Got event from at://did:plc:uda2b7kiu2nnchi2l3e74rip/app.bsky.feed.post/3lprng6jdmk2k\n",
      "Got event from at://did:plc:euftmudfrw4xoi7qlkp35the/app.bsky.feed.post/3lprng5tt5c2m\n",
      "Got event from at://did:plc:twxtmwfokxf42hibzheq67dk/app.bsky.feed.post/3lprnfy5pyk2n\n",
      "Got event from at://did:plc:iagl6b5cmwolnjrwlgf4gga2/app.bsky.feed.post/3lprng6icg22f\n",
      "Got event from at://did:plc:355meljijqaaf2vyoc5hxoi2/app.bsky.feed.post/3lprngari7k2e\n",
      "Got event from at://did:plc:p7o6msqjtaw226gy6u67fioo/app.bsky.feed.post/3lprngjcngc2i\n",
      "Got event from at://did:plc:aglf33m5he6lomqfdmn7mgub/app.bsky.feed.post/3lprng6pktk23\n",
      "Got event from at://did:plc:uotcdmn3gcfvqyoe4ee5v6sr/app.bsky.feed.post/3lprng6msx22s\n",
      "Got event from at://did:plc:e5rpxlurzayxllfar7v6mc4v/app.bsky.feed.post/3lprng5l5sc2o\n",
      "Got event from at://did:plc:63acl7hz3yvyfearinfcfbr7/app.bsky.feed.post/3lprngje7a22g\n",
      "Got event from at://did:plc:ykk3hferzfnouathc5x6vebx/app.bsky.feed.post/3lprng4o25s2f\n",
      "Got event from at://did:plc:vcmrbyudeqbb6uynjgnnk5uo/app.bsky.feed.post/3lprng5zkqc2i\n",
      "Got event from at://did:plc:bt3gxdxa7d7znm7zurbbewdf/app.bsky.feed.post/3lprng6owdc2s\n",
      "Got event from at://did:plc:34tijy4m2g6bpz3g5utctmxq/app.bsky.feed.post/3lprng6ssvh2c\n",
      "Got event from at://did:plc:7vb3nqbwxsgxzvukuddgttrw/app.bsky.feed.post/3lprng6mk5s2y\n",
      "Got event from at://did:plc:wli3qpfcun2bcidet7uzjb44/app.bsky.feed.post/3lprng6riec2w\n",
      "Got event from at://did:plc:roth7tgy5scwomms4o2wnefj/app.bsky.feed.post/3lprng66prk2e\n",
      "Got event from at://did:plc:pquifblugxroe3rxgc6blsnb/app.bsky.feed.post/3lprng5m5zk2g\n",
      "Got event from at://did:plc:zvoiwglwezmsrtzzdjn4fufw/app.bsky.feed.post/3lprng6is222q\n",
      "Got event from at://did:plc:agrfaaiqi3g3icmwkv2uqiag/app.bsky.feed.post/3lprng6vcgk2o\n",
      "Got event from at://did:plc:dewy3zf7knmlcmld2544ghhf/app.bsky.feed.post/3lprng6mi7c2w\n",
      "Got event from at://did:plc:pyot3ubqetcrmhkocw3emymo/app.bsky.feed.post/3lprng63xv22a\n",
      "Got event from at://did:plc:yxr57oeaa4ns6rgt34boaasq/app.bsky.feed.post/3lprnffpdg22j\n",
      "Got event from at://did:plc:pukppnblih32qy6tv4uj72fa/app.bsky.feed.post/3lprng6p46s23\n",
      "Got event from at://did:plc:2dwkir74lpzmumk7yn4s6t5h/app.bsky.feed.post/3lprnfzpdv22b\n",
      "Got event from at://did:plc:unjps4fyrj7c2jty3mbt6rpz/app.bsky.feed.post/3lprng6jkhc2f\n",
      "Got event from at://did:plc:yhtvirojwuingrqqam4vlqyh/app.bsky.feed.post/3lprng6x6y223\n",
      "Got event from at://did:plc:mtp7qesc2x5mzm5u2th3uc44/app.bsky.feed.post/3lprng6jiis2e\n",
      "Got event from at://did:plc:kmhihkceqzh27iwzptjxmtgr/app.bsky.feed.post/3lprng6ns722z\n",
      "Got event from at://did:plc:5gbwipbphmu3ku5tz5jewdkb/app.bsky.feed.post/3lprng6sjks22\n",
      "Got event from at://did:plc:gpwzw5lfkcxxd3wgb2lzo3yw/app.bsky.feed.post/3lprng3xw5k2v\n",
      "Got event from at://did:plc:nar6gk72v2v35a5zvy2c3b4e/app.bsky.feed.post/3lprng6ui2s23\n",
      "Got event from at://did:plc:qyi6hgpxxjhppb2wzi4phqmd/app.bsky.feed.post/3lprnfjmp522n\n",
      "Got event from at://did:plc:z3yh4fbcm2ylrhfx7oakhbdt/app.bsky.feed.post/3lprng7egsk2n\n",
      "Got event from at://did:plc:lm4cfgsvvfuk7dddn2oqs3uj/app.bsky.feed.post/3lprng4txmc2n\n",
      "Got event from at://did:plc:dcm3rz54r5oqn2qhv7fwenmz/app.bsky.feed.post/3lprn7byo5c2g\n",
      "Got event from at://did:plc:n6fblbi7an53eitvhpcxpjxa/app.bsky.feed.post/3lprng6eyx22a\n",
      "Got event from at://did:plc:esmiuxk53vmsllayghrq676w/app.bsky.feed.post/3lprng5t7mc2b\n",
      "Got event from at://did:plc:3dml7picqqflyuwkr6npru2n/app.bsky.feed.post/3lprng4q4ks2p\n",
      "Got event from at://did:plc:honas5g3yaqo33mqvpfv5xdf/app.bsky.feed.post/3lprng6r6ls24\n",
      "Got event from at://did:plc:7jemxrjpjzqiorv2pc44677y/app.bsky.feed.post/null\n",
      "Got event from at://did:plc:lwjga5mnaxpmphhzgx2assmc/app.bsky.feed.post/3lprng65mmk26\n",
      "Got event from at://did:plc:zfbudfc2cm7sznun25z3mxna/app.bsky.feed.post/3lprng6x23s2a\n",
      "Got event from at://did:plc:k4fdbmlsz55v47mgklr6bddy/app.bsky.feed.post/3lprng76kfq2z\n",
      "Got event from at://did:plc:qrdu5iv7p623ozcuo6tavku3/app.bsky.feed.post/3lprng6qad22r\n",
      "Got event from at://did:plc:7p4hriw6p7ywfn2qqcjexm7l/app.bsky.feed.post/3lprng6ug4c25\n",
      "Got event from at://did:plc:xm4hedc43ryek6dkvlxmftdr/app.bsky.feed.post/3lprng6vic22i\n",
      "Got event from at://did:plc:mjewdcijkb3noyjwt4soelh2/app.bsky.feed.post/3lprng7fxn22v\n",
      "Got event from at://did:plc:yoi3qkb5n2x2owmwb5qqqem4/app.bsky.feed.post/3lprng4sgrs2t\n",
      "Got event from at://did:plc:laox7mddooy3pi2qryn4li7z/app.bsky.feed.post/3lprng6bzak2k\n",
      "Got event from at://did:plc:pzpmdmglvnoouvzdwlmvikxq/app.bsky.feed.post/3lprng6mj6k24\n",
      "Got event from at://did:plc:ono3poexgcg3cgn4uss67rpo/app.bsky.feed.post/3lprng6pktk24\n",
      "Got event from at://did:plc:aqlbhiuq7kupn7y5wey652sw/app.bsky.feed.post/3lprnfz3ws22k\n",
      "Got event from at://did:plc:aqv3qh7i4ysdqggrrk6i4kg2/app.bsky.feed.post/3lprng6yb5s2h\n",
      "Got event from at://did:plc:e2s3yhvncv2aud2bwqnhfqsj/app.bsky.feed.post/3lprng6ioa425\n",
      "Got event from at://did:plc:omt6zz23vj44xfl6ekkqp5wo/app.bsky.feed.post/3lprng6vic22b\n",
      "Got event from at://did:plc:uzxfsubajeacqtjd5x2aawtu/app.bsky.feed.post/3lprng6bnjk2y\n",
      "Got event from at://did:plc:scvmq4erqpmucvxlibvnmvoa/app.bsky.feed.post/3lprng3tli22w\n",
      "Got event from at://did:plc:tpc42zt2y25vzh4a2djx5tvo/app.bsky.feed.post/3lprng7dzfh26\n",
      "Got event from at://did:plc:zw5ad2f4pznwhauszvk424je/app.bsky.feed.post/3lprng6pms222\n",
      "Got event from at://did:plc:byfzlpdqlelu5ojronz37jpy/app.bsky.feed.post/3lprng5ocf22w\n",
      "Got event from at://did:plc:ygsortxwjawzsbks7ziabrlt/app.bsky.feed.post/3lprng6q2hk2t\n",
      "Got event from at://did:plc:4xqe2tsxezcs2q3x5hfhrcx4/app.bsky.feed.post/3lprng6ygzc2r\n",
      "Got event from at://did:plc:qxle7srs4sr6klswpbx4voul/app.bsky.feed.post/3lprng6bkls23\n",
      "Got event from at://did:plc:swnpkf67gvggw74xzhixgxvm/app.bsky.feed.post/3lprng7qz5k2q\n",
      "Got event from at://did:plc:xlqm33h3pigepovdqsxcev76/app.bsky.feed.post/3lprng6ql2s23\n",
      "Got event from at://did:plc:mfed2sddsnymkudw3uj2r55i/app.bsky.feed.post/3lprng733y22x\n",
      "Got event from at://did:plc:xugpwyynancpe2rd3wvwc5zd/app.bsky.feed.post/3lprng75rw22h\n",
      "Got event from at://did:plc:lv7be4dmxb6n4om6jcdq75oz/app.bsky.feed.post/3lprng6mafc2k\n",
      "Got event from at://did:plc:nyssz5opbbuhrdsagnb52ddf/app.bsky.feed.post/3lprng6jmfs26\n",
      "Got event from at://did:plc:j6loih3dp3rdsgz3azmjdcoa/app.bsky.feed.post/3lprng7qhl22l\n",
      "Got event from at://did:plc:u7kwrxol2b3pwrjaabwxoaop/app.bsky.feed.post/3lprng6bcrs2c\n",
      "Got event from at://did:plc:m5gerthvonfve3g3d5gdekpw/app.bsky.feed.post/3lprng7q4wc2o\n",
      "Got event from at://did:plc:asr354oiyasl4lhsy6twlboi/app.bsky.feed.post/3lprng6cwk22r\n",
      "Got event from at://did:plc:e6viblkcsztudabnp56gjh4v/app.bsky.feed.post/3lprng7d4ss2p\n",
      "Got event from at://did:plc:zu4yae7mttrj6n4bclvbvq5w/app.bsky.feed.post/3lprng6c64s2p\n",
      "Got event from at://did:plc:5xmo7tbte4ptu7oqzudruvwn/app.bsky.feed.post/3lprngafyzk2h\n",
      "Got event from at://did:plc:fnydug25yzckvgt2g6xa3omi/app.bsky.feed.post/3lprng7gtxc25\n",
      "Got event from at://did:plc:lzbu3dbnjliv2zmefceprrnd/app.bsky.feed.post/3lprng747522x\n",
      "Got event from at://did:plc:kxdzd6a4j4ijxqvsyhasmm5j/app.bsky.feed.post/3lprng7jzjc2t\n",
      "Got event from at://did:plc:7eju5bbw4wuhi3xphjmg3jhd/app.bsky.feed.post/3lprng7sd5c2u\n",
      "Got event from at://did:plc:wenkvcrk7cv7oxmgffg4kfa6/app.bsky.feed.post/3lprng7i6wc23\n",
      "Got event from at://did:plc:zpsre5yzuoxeecifnk6avagk/app.bsky.feed.post/3lprng7iknc2w\n",
      "Got event from at://did:plc:ds5jkhcia22a4dozxjwyqan5/app.bsky.feed.post/3lprnga57rk2i\n",
      "Got event from at://did:plc:7wfplwuksbvpjcumq3um5tyq/app.bsky.feed.post/3lk4qyhmp7k2x\n",
      "Got event from at://did:plc:eatyfmb4ucsawqjdbmizxmoo/app.bsky.feed.post/3lprng7olys25\n",
      "Got event from at://did:plc:at2vjbbos2pzzhrzpjrmv4i6/app.bsky.feed.post/3lprng7y6nt2v\n",
      "Got event from at://did:plc:cm6xt25nl5jsmztuh6jucqz7/app.bsky.feed.post/3lprng7yktr2h\n",
      "Got event from at://did:plc:5oqd4uv7a44vos6kppnr7qn2/app.bsky.feed.post/3lprng7chdc26\n",
      "Got event from at://did:plc:5gbenbbaqvgrs24v26spocyc/app.bsky.feed.post/3lprng7lv3k2p\n",
      "Got event from at://did:plc:i53e6y3liw2oaw4s6e6odw5m/app.bsky.feed.post/3lprng7rstz2n\n",
      "Got event from at://did:plc:elaj3g3i4m66rinqymkhkwi4/app.bsky.feed.post/3lprng7gvvs2m\n",
      "Got event from at://did:plc:jqbakqcfzqd6pv5ta3ehqykt/app.bsky.feed.post/3lprng7qrdk2d\n",
      "Got event from at://did:plc:czy2qv6wtlavcr264kkx45zv/app.bsky.feed.post/3lprng3gva22a\n",
      "Got event from at://did:plc:wdrdr7vpyod6s6i7m4ggmhyg/app.bsky.feed.post/3lprng5om5k2q\n",
      "Got event from at://did:plc:2npss2njzeai7lhockveymna/app.bsky.feed.post/3lprnga2sqo2y\n",
      "Got event from at://did:plc:oih4lg4nad4djksv3q6lotcs/app.bsky.feed.post/3lprng7tcfc2y\n",
      "Got event from at://did:plc:3fvlhe5v66n6gyztxfs7nquk/app.bsky.feed.post/3lprngbc3hk2y\n",
      "Got event from at://did:plc:3yxbv667vvngelzbmtphu6lf/app.bsky.feed.post/3lprncra3j22b\n",
      "Got event from at://did:plc:spkgkrtpyokoc2ujdxzrzian/app.bsky.feed.post/3lprng7upcs2w\n",
      "Got event from at://did:plc:pnvtyj35fzoh7dofum4v6odf/app.bsky.feed.post/3lprng7nksc22\n",
      "Got event from at://did:plc:eebadjpbxbgix3774yau7yq3/app.bsky.feed.post/3lprng7we2c2l\n",
      "Got event from at://did:plc:6ezctzx7fd73a6rspt2jetuv/app.bsky.feed.post/3lprng7r43c23\n",
      "Got event from at://did:plc:w5qgdp5ibmkknbw4z7j2g5pr/app.bsky.feed.post/3lprnga37d225\n",
      "Got event from at://did:plc:qsls6ljahfmaphjnrwridkmp/app.bsky.feed.post/3lprng7i4xs23\n",
      "Got event from at://did:plc:yzos2bixvwh2fpkq55qrgrmd/app.bsky.feed.post/3lprng5xjck2f\n",
      "Got event from at://did:plc:aezdnhvk2cbnk3zerowuyp3w/app.bsky.feed.post/3lprnga2rnk25\n",
      "Got event from at://did:plc:uy5ntbrfz5fqgl5d5fkdtjer/app.bsky.feed.post/3lprng7yx2k23\n",
      "Got event from at://did:plc:cmap5ilu7muwxndmfpxyf64j/app.bsky.feed.post/3lpqbglpojc2f\n",
      "Got event from at://did:plc:vhs2qyluko326a7ulvevlxek/app.bsky.feed.post/3lprng77z7c26\n",
      "Got event from at://did:plc:ns7wrj7736bi2sn4b7ztpgqc/app.bsky.feed.post/3lprng7j47s2b\n",
      "Got event from at://did:plc:2yssdkmfxwasyxr4dj7u55df/app.bsky.feed.post/3lnzmuretjc22\n",
      "Got event from at://did:plc:wiubnph5poryayt746rtcw2h/app.bsky.feed.post/3lprng7xbds2l\n",
      "Got event from at://did:plc:mcjtljwzuju443fnztopxw5b/app.bsky.feed.post/3lprngabte62q\n",
      "Got event from at://did:plc:unyzi4cadxbh7woqdsj3xtac/app.bsky.feed.post/3lprngaby4k2x\n",
      "Got event from at://did:plc:hnrvx2suxahp3o6cwedje4hi/app.bsky.feed.post/3lprng7q5sk24\n",
      "Got event from at://did:plc:2av3hldybsoyp7ieqr7zjo6d/app.bsky.feed.post/3lprngaccuc2d\n",
      "Got event from at://did:plc:njrh5n5btdob77u6tbjiyf6m/app.bsky.feed.post/3lprnga7nys2a\n",
      "Got event from at://did:plc:nmksjbdjb4oamngppgpfobbw/app.bsky.feed.post/3lprnga7t4v2z\n",
      "Got event from at://did:plc:scltayjs6jo632hnahn7ceko/app.bsky.feed.post/3lprng2nbvc2a\n",
      "Got event from at://did:plc:p2wwjajj2wk4rm54bclwnxjn/app.bsky.feed.post/3lprngahfx226\n",
      "Got event from at://did:plc:a7nvleq36o2sl5dsutq2z2nx/app.bsky.feed.post/3lprnga6tjs2f\n",
      "Got event from at://did:plc:plgiqc7hotf4a76kda7k7epe/app.bsky.feed.post/3lprngb2gds2v\n",
      "Got event from at://did:plc:tdp6nor3g5jf3k6hmzbqyq4f/app.bsky.feed.post/3lprng7ejqc2w\n",
      "Got event from at://did:plc:bk2tbqtu3tsdxsn7dwn6x4u6/app.bsky.feed.post/3lprnfy322k2g\n",
      "Got event from at://did:plc:bghb2tz2tc4gvhy7j7a5xb6p/app.bsky.feed.post/3lprngaaenu2h\n",
      "Got event from at://did:plc:usgjnw2vx4a5hv2ypul7apd3/app.bsky.feed.post/3lprng6rq6c2r\n",
      "Got event from at://did:plc:xy7ypubgkz25ima3dfqptvhl/app.bsky.feed.post/3lprnga5qes2d\n",
      "Got event from at://did:plc:qebkdxqskl77uz26pgtwukzw/app.bsky.feed.post/3lprngapnmk2n\n",
      "Got event from at://did:plc:546o5kzrvqtafrxjv6j5plyc/app.bsky.feed.post/3lprng5z43k2t\n",
      "Got event from at://did:plc:whu2w6ztwn6miwkdtfset3zz/app.bsky.feed.post/3lprngacnm22a\n",
      "Got event from at://did:plc:a5ozdwtdqhcv5btykumdo3hs/app.bsky.feed.post/3lprnga6bxc2i\n",
      "Got event from at://did:plc:4hpuqgtpehclbmyiexwjeohj/app.bsky.feed.post/3lprng7tje62z\n",
      "Got event from at://did:plc:t3mjm4kin674wium3pj64ekn/app.bsky.feed.post/3lprng7viw32z\n",
      "Got event from at://did:plc:6uwcqdvktsyokmyfpxgpxk4u/app.bsky.feed.post/3lprng7ziwf2k\n",
      "Got event from at://did:plc:knj5sw5al3sukl6vhkpi7637/app.bsky.feed.post/3lprnga46cl27\n",
      "Got event from at://did:plc:pfuwnava4i7xpbx6khgyflyv/app.bsky.feed.post/3lprngaepz22d\n",
      "Got event from at://did:plc:tmx2ts22ouglxty2choeckrf/app.bsky.feed.post/3lprngan3lk2c\n",
      "Got event from at://did:plc:ftprqx74zwaqfbrbs6j7vyp3/app.bsky.feed.post/3lprng7dofc2r\n",
      "Got event from at://did:plc:2gizn4b3us6in4xbbh2pnjbb/app.bsky.feed.post/3lprngaek5k27\n",
      "Got event from at://did:plc:lpf2xgdbzi4w3zvkkjcaocrv/app.bsky.feed.post/3lprng7yu4s2i\n",
      "Got event from at://did:plc:7q3tpsxymwqqufr6wgnncbrl/app.bsky.feed.post/3lprnfqk25c2w\n",
      "Got event from at://did:plc:6cbuyostj4ovhon52js7tgpv/app.bsky.feed.post/3lprngaalxc26\n",
      "Got event from at://did:plc:sitrnfglbtrhkhbsde4sobb6/app.bsky.feed.post/3lprngaiyq22n\n",
      "Got event from at://did:plc:plvxn2kpjuseoftweoo4xtag/app.bsky.feed.post/3lprngc2cu22x\n",
      "Got event from at://did:plc:5bnkkfmpjef3h3xaljtwibgl/app.bsky.feed.post/3lprng7wqqk2s\n",
      "Got event from at://did:plc:idl6kz55ngtrlutxvwzjrpoz/app.bsky.feed.post/3lprngahppk2u\n",
      "Got event from at://did:plc:5464bny43t7bhk5clpux237v/app.bsky.feed.post/3lprng75dbc22\n",
      "Got event from at://did:plc:d6b2de4kpbl3fg6naogmj56w/app.bsky.feed.post/3lprng5jkzc2h\n",
      "Got event from at://did:plc:npxvi4jeug6ggyfui7r2vqbf/app.bsky.feed.post/3lprnfs56uc2g\n",
      "Got event from at://did:plc:ubsnor6y5g5qjkclsbbwdnux/app.bsky.feed.post/3lprnfs5hnk2s\n",
      "Got event from at://did:plc:ceno7z2kuwziqatmwh2dwrh2/app.bsky.feed.post/3lppit5evtk2c\n",
      "Got event from at://did:plc:c2v4mpbrmzed32nrj7zco7cn/app.bsky.feed.post/3lprng5gv3c2p\n",
      "Got event from at://did:plc:kiapuhawh5r2jhv5c7ln6a6g/app.bsky.feed.post/3lprngawdko2g\n",
      "Got event from at://did:plc:6fz3nerh3ad67n7hxiqhkmv4/app.bsky.feed.post/3lprngapols2k\n",
      "Got event from at://did:plc:tp4b4ooa2am74wu5zkx34vl7/app.bsky.feed.post/3lprng4drzs2a\n",
      "Got event from at://did:plc:z7spjxzfs3j3vqqghhud572a/app.bsky.feed.post/3lprngafv4k2d\n",
      "Got event from at://did:plc:3yxys7dtrlgz6gzjtammm3jl/app.bsky.feed.post/3lprnfqunyc2a\n",
      "Got event from at://did:plc:yupmvqf77u6jam6ibqyfc6e2/app.bsky.feed.post/3lprng7rmok2n\n",
      "Got event from at://did:plc:jqyc2c35sqrwcpr7lklblj3a/app.bsky.feed.post/3lprng7txus2p\n",
      "Got event from at://did:plc:6txfkfqexgv3m424mam3fryg/app.bsky.feed.post/3lprngavl322i\n",
      "Got event from at://did:plc:guzyha2on3otrdjch4w2coir/app.bsky.feed.post/3lprng7zwkx2d\n",
      "Got event from at://did:plc:qvkitlnk74oeq65dpiyczg5l/app.bsky.feed.post/3lprngapnru2f\n",
      "Got event from at://did:plc:2sh6zkj6hhrpx5ywfxqw7efx/app.bsky.feed.post/3lprng7hcm22b\n",
      "Got event from at://did:plc:loz47o5h47x4tpxbhkaiy77z/app.bsky.feed.post/3lprng7acxs2i\n",
      "Got event from at://did:plc:zipphihu644mxj7qjafvwwun/app.bsky.feed.post/3lprng723qs2x\n",
      "Got event from at://did:plc:pzyykjlfh63afnffp23lq4mp/app.bsky.feed.post/3lprng7ryfk2e\n"
     ]
    }
   ],
   "execution_count": 11
  },
  {
   "metadata": {},
   "cell_type": "markdown",
   "source": [
    "## Deduplication with Bloom Filter\n",
    "Redis Bloom Filter is a probabilistic data structure that allows us to check if an element is in a set. It's very memory efficient and has a constant time complexity for both insertion and lookup operations.\n"
   ]
  },
  {
   "metadata": {},
   "cell_type": "markdown",
   "source": [
    "### Creating a Bloom Filter\n",
    "This function creates a Bloom Filter with the given name. The filter is configured with an error rate of 0.01 and an initial capacity of 1,000,000 elements."
   ]
  },
  {
   "metadata": {
    "ExecuteTime": {
     "end_time": "2025-05-22T17:47:16.795453Z",
     "start_time": "2025-05-22T17:47:16.723902Z"
    }
   },
   "cell_type": "code",
   "source": [
    "import redis.clients.jedis.bloom.BFReserveParams\n",
    "import redis.clients.jedis.exceptions.JedisDataException\n",
    "fun createBloomFilter(name: String) {\n",
    "    try {\n",
    "        val errorRate = 0.01\n",
    "        val capacity = 1_000_000L\n",
    "        val reserveParams = BFReserveParams().expansion(2)\n",
    "        jedisPooled.bfReserve(name, errorRate, capacity, reserveParams)\n",
    "    } catch (_: JedisDataException) {\n",
    "        println(\"Bloom filter already exists\")\n",
    "    }\n",
    "}"
   ],
   "outputs": [],
   "execution_count": 12
  },
  {
   "metadata": {},
   "cell_type": "markdown",
   "source": [
    "### Deduplication Handler\n",
    "This function creates a handler that checks if an event has already been processed by checking if its URI is in the Bloom Filter. If the URI is in the filter, the handler returns false, which stops the processing of the event.\n"
   ]
  },
  {
   "metadata": {
    "ExecuteTime": {
     "end_time": "2025-05-22T17:47:16.915011Z",
     "start_time": "2025-05-22T17:47:16.800405Z"
    }
   },
   "cell_type": "code",
   "source": [
    "fun deduplicate(bloomFilter: String): (Event) -> Pair<Boolean, String> {\n",
    "    return { event ->\n",
    "        if (jedisPooled.bfExists(bloomFilter, event.uri)) {\n",
    "            Pair(false, \"${event.uri} already processed\")\n",
    "        } else {\n",
    "            Pair(true, \"OK\")\n",
    "        }\n",
    "    }\n",
    "}"
   ],
   "outputs": [],
   "execution_count": 13
  },
  {
   "metadata": {},
   "cell_type": "markdown",
   "source": [
    "### Atomic Acknowledgment and Bloom Filter Update\n",
    "This function creates a handler that acknowledges the message and adds the URI to the Bloom Filter in a single atomic transaction. This ensures that if the acknowledgment succeeds, the URI is also added to the filter, and vice versa.\n"
   ]
  },
  {
   "metadata": {
    "ExecuteTime": {
     "end_time": "2025-05-22T17:47:17.174468Z",
     "start_time": "2025-05-22T17:47:16.923090Z"
    }
   },
   "cell_type": "code",
   "source": [
    "import redis.clients.jedis.Connection\n",
    "import redis.clients.jedis.JedisPool\n",
    "import redis.clients.jedis.Transaction\n",
    "\n",
    "val jedisPool = JedisPool()\n",
    "\n",
    "fun ackAndBfFn(bloomFilter: String):  (String, String, StreamEntry) -> Unit {\n",
    "    return { streamName, consumerGroup, entry ->\n",
    "        jedisPool.resource.use { jedis ->\n",
    "            // Create a transaction\n",
    "            val multi = jedis.multi()\n",
    "\n",
    "            // Acknowledge the message\n",
    "            multi.xack(\n",
    "                streamName,\n",
    "                consumerGroup,\n",
    "                entry.id\n",
    "            )\n",
    "\n",
    "            // Add the URI to the bloom filter\n",
    "            multi.bfAdd(bloomFilter, Event.fromMap(entry).uri)\n",
    "\n",
    "            // Execute the transaction\n",
    "            multi.exec()\n",
    "        }\n",
    "    }\n",
    "}"
   ],
   "outputs": [],
   "execution_count": 14
  },
  {
   "metadata": {
    "ExecuteTime": {
     "end_time": "2025-05-22T17:47:17.255085Z",
     "start_time": "2025-05-22T17:47:17.220102Z"
    }
   },
   "cell_type": "code",
   "source": "createConsumerGroup(\"jetstream\", \"deduplicate-example\")",
   "outputs": [
    {
     "name": "stdout",
     "output_type": "stream",
     "text": [
      "Group already exists\n"
     ]
    }
   ],
   "execution_count": 15
  },
  {
   "metadata": {
    "ExecuteTime": {
     "end_time": "2025-05-22T17:47:17.301470Z",
     "start_time": "2025-05-22T17:47:17.260729Z"
    }
   },
   "cell_type": "code",
   "source": [
    "val bloomFilterName = \"processed-uris\"\n",
    "createBloomFilter(\"processed-uris\")"
   ],
   "outputs": [
    {
     "name": "stdout",
     "output_type": "stream",
     "text": [
      "Bloom filter already exists\n"
     ]
    }
   ],
   "execution_count": 16
  },
  {
   "metadata": {
    "ExecuteTime": {
     "end_time": "2025-05-22T17:47:17.951597Z",
     "start_time": "2025-05-22T17:47:17.309890Z"
    }
   },
   "cell_type": "code",
   "source": [
    "runBlocking {\n",
    "    consumeStream(\n",
    "        streamName = \"jetstream\",\n",
    "        consumerGroup = \"deduplicate-example\",\n",
    "        consumer = \"deduplicate-1\",\n",
    "        handlers = listOf(deduplicate(bloomFilterName), printUri),\n",
    "        ackFunction = ackAndBfFn(bloomFilterName),\n",
    "        count = 100,\n",
    "        limit = 200\n",
    "    )\n",
    "}"
   ],
   "outputs": [
    {
     "name": "stdout",
     "output_type": "stream",
     "text": [
      "Got event from at://did:plc:gvbo5cxa4luw5qm3hyuusn43/app.bsky.feed.post/3lprnh3a3z22r\n",
      "Got event from at://did:plc:oirl2wfqqce5vx6jnkzkfbzf/app.bsky.feed.post/3lprng5nsym26\n",
      "Got event from at://did:plc:yz5uclcxqc43gosf7p3re36g/app.bsky.feed.post/3lprfjk4tm22m\n",
      "Got event from at://did:plc:fwn3y6bqnrofysix42ii5gww/app.bsky.feed.post/3lprng5hasc22\n",
      "Got event from at://did:plc:td2wa2smeh2rg3djgytj75l7/app.bsky.feed.post/3lprng5jd7c2o\n",
      "Got event from at://did:plc:l5wmyupvupvcea4363bh4l6e/app.bsky.feed.post/3lprng5om5k2a\n",
      "Got event from at://did:plc:fsizwqykg2bihurdtmwsfuw5/app.bsky.feed.post/3lprng2qoc22f\n",
      "Got event from at://did:plc:vltagjkl53y5ciorrkt24frj/app.bsky.feed.post/3lprng4trqs2l\n",
      "Got event from at://did:plc:6uwcqdvktsyokmyfpxgpxk4u/app.bsky.feed.post/3lprng5pruq2h\n",
      "Got event from at://did:plc:zjetfffcwvaw6lvgoz4s6vhf/app.bsky.feed.post/3lprng5v5522u\n",
      "Got event from at://did:plc:fcnbisw7xl6lmtcnvioocffz/app.bsky.feed.post/3lprng6brv727\n",
      "Got event from at://did:plc:lsmukzrlmppyjxq2arvngra5/app.bsky.feed.post/3lprng7tq2s25\n",
      "Got event from at://did:plc:4zb6wjgjersfbj3i34cxxk56/app.bsky.feed.post/3lprng5xges2z\n",
      "Got event from at://did:plc:aksonx5oo37635smw5vudg35/app.bsky.feed.post/3lprng5j4ek2g\n",
      "Got event from at://did:plc:nlvh6deqh72mu4dlusb4cru7/app.bsky.feed.post/3lprnfyvgrs2e\n",
      "Got event from at://did:plc:gshqpwaac6l3poetgjld67i5/app.bsky.feed.post/3lprng5x6ks2f\n",
      "Got event from at://did:plc:eilva2ueeyv6aiuhstlc3zfa/app.bsky.feed.post/3lprng6ca3c2u\n",
      "Got event from at://did:plc:clfaakrlbf4775kmzu7snpzc/app.bsky.feed.post/3lprng5teik2o\n",
      "Got event from at://did:plc:do54tnooaq6gejxd7v7zkxig/app.bsky.feed.post/3lprng3x2sk2g\n",
      "Got event from at://did:plc:hogs3gru344tnctga4pcturl/app.bsky.feed.post/3lprng4myxc2g\n",
      "Got event from at://did:plc:qc6ekznbhnzmfltyfjdxzq3j/app.bsky.feed.post/3lprng57qks2r\n",
      "Got event from at://did:plc:35wqwejtyr26cahnu4vggtr3/app.bsky.feed.post/3lprng627ak2f\n",
      "Got event from at://did:plc:p6nqzgxs4todtzvxhd5rx3jw/app.bsky.feed.post/3lprng6s6t22k\n",
      "Got event from at://did:plc:op2qhdl2sa3fbtk6s6eioml4/app.bsky.feed.post/3lprng6j3he2v\n",
      "Got event from at://did:plc:ejth5bkqyyqz5elcsbjo3dze/app.bsky.feed.post/3lprng7ron22y\n",
      "Got event from at://did:plc:3mc2x22djq2ndzacgkyjxkyp/app.bsky.feed.post/3lprng66zk22c\n",
      "Got event from at://did:plc:mge5msvjg7sx4gtmy23xpkji/app.bsky.feed.post/3lprng5oagk2b\n",
      "Got event from at://did:plc:74aqrp7glywttk7rp5mew74a/app.bsky.feed.post/3lprng6cmrk2i\n",
      "Got event from at://did:plc:42b7ksfuo4silmgkmtcqdx2j/app.bsky.feed.post/3lprng4tkw22b\n",
      "Got event from at://did:plc:77og2k7ddnnd73grocld2l5h/app.bsky.feed.post/3lprng63cfk2e\n",
      "Got event from at://did:plc:icwllu7ami32arokkxe6kpzx/app.bsky.feed.post/3lprng34zsc2k\n",
      "Got event from at://did:plc:koskfrc4wpcmstjqmiftfrew/app.bsky.feed.post/3lprng4v3qk2u\n",
      "Got event from at://did:plc:mpoxsaax7r5rs2tgeh56nqhn/app.bsky.feed.post/3lprng6i7ic2s\n",
      "Got event from at://did:plc:uda2b7kiu2nnchi2l3e74rip/app.bsky.feed.post/3lprng6jdmk2k\n",
      "Got event from at://did:plc:euftmudfrw4xoi7qlkp35the/app.bsky.feed.post/3lprng5tt5c2m\n",
      "Got event from at://did:plc:twxtmwfokxf42hibzheq67dk/app.bsky.feed.post/3lprnfy5pyk2n\n",
      "Got event from at://did:plc:iagl6b5cmwolnjrwlgf4gga2/app.bsky.feed.post/3lprng6icg22f\n",
      "Got event from at://did:plc:355meljijqaaf2vyoc5hxoi2/app.bsky.feed.post/3lprngari7k2e\n",
      "Got event from at://did:plc:p7o6msqjtaw226gy6u67fioo/app.bsky.feed.post/3lprngjcngc2i\n",
      "Got event from at://did:plc:aglf33m5he6lomqfdmn7mgub/app.bsky.feed.post/3lprng6pktk23\n",
      "Got event from at://did:plc:uotcdmn3gcfvqyoe4ee5v6sr/app.bsky.feed.post/3lprng6msx22s\n",
      "Got event from at://did:plc:e5rpxlurzayxllfar7v6mc4v/app.bsky.feed.post/3lprng5l5sc2o\n",
      "Got event from at://did:plc:63acl7hz3yvyfearinfcfbr7/app.bsky.feed.post/3lprngje7a22g\n",
      "Got event from at://did:plc:ykk3hferzfnouathc5x6vebx/app.bsky.feed.post/3lprng4o25s2f\n",
      "Got event from at://did:plc:vcmrbyudeqbb6uynjgnnk5uo/app.bsky.feed.post/3lprng5zkqc2i\n",
      "Got event from at://did:plc:bt3gxdxa7d7znm7zurbbewdf/app.bsky.feed.post/3lprng6owdc2s\n",
      "Got event from at://did:plc:34tijy4m2g6bpz3g5utctmxq/app.bsky.feed.post/3lprng6ssvh2c\n",
      "Got event from at://did:plc:7vb3nqbwxsgxzvukuddgttrw/app.bsky.feed.post/3lprng6mk5s2y\n",
      "Got event from at://did:plc:wli3qpfcun2bcidet7uzjb44/app.bsky.feed.post/3lprng6riec2w\n",
      "Got event from at://did:plc:roth7tgy5scwomms4o2wnefj/app.bsky.feed.post/3lprng66prk2e\n",
      "Got event from at://did:plc:pquifblugxroe3rxgc6blsnb/app.bsky.feed.post/3lprng5m5zk2g\n",
      "Got event from at://did:plc:zvoiwglwezmsrtzzdjn4fufw/app.bsky.feed.post/3lprng6is222q\n",
      "Got event from at://did:plc:agrfaaiqi3g3icmwkv2uqiag/app.bsky.feed.post/3lprng6vcgk2o\n",
      "Got event from at://did:plc:dewy3zf7knmlcmld2544ghhf/app.bsky.feed.post/3lprng6mi7c2w\n",
      "Got event from at://did:plc:pyot3ubqetcrmhkocw3emymo/app.bsky.feed.post/3lprng63xv22a\n",
      "Got event from at://did:plc:yxr57oeaa4ns6rgt34boaasq/app.bsky.feed.post/3lprnffpdg22j\n",
      "Got event from at://did:plc:pukppnblih32qy6tv4uj72fa/app.bsky.feed.post/3lprng6p46s23\n",
      "Got event from at://did:plc:2dwkir74lpzmumk7yn4s6t5h/app.bsky.feed.post/3lprnfzpdv22b\n",
      "Got event from at://did:plc:unjps4fyrj7c2jty3mbt6rpz/app.bsky.feed.post/3lprng6jkhc2f\n",
      "Got event from at://did:plc:yhtvirojwuingrqqam4vlqyh/app.bsky.feed.post/3lprng6x6y223\n",
      "Got event from at://did:plc:mtp7qesc2x5mzm5u2th3uc44/app.bsky.feed.post/3lprng6jiis2e\n",
      "Got event from at://did:plc:kmhihkceqzh27iwzptjxmtgr/app.bsky.feed.post/3lprng6ns722z\n",
      "Got event from at://did:plc:5gbwipbphmu3ku5tz5jewdkb/app.bsky.feed.post/3lprng6sjks22\n",
      "Got event from at://did:plc:gpwzw5lfkcxxd3wgb2lzo3yw/app.bsky.feed.post/3lprng3xw5k2v\n",
      "Got event from at://did:plc:nar6gk72v2v35a5zvy2c3b4e/app.bsky.feed.post/3lprng6ui2s23\n",
      "Got event from at://did:plc:qyi6hgpxxjhppb2wzi4phqmd/app.bsky.feed.post/3lprnfjmp522n\n",
      "Got event from at://did:plc:z3yh4fbcm2ylrhfx7oakhbdt/app.bsky.feed.post/3lprng7egsk2n\n",
      "Got event from at://did:plc:lm4cfgsvvfuk7dddn2oqs3uj/app.bsky.feed.post/3lprng4txmc2n\n",
      "Got event from at://did:plc:dcm3rz54r5oqn2qhv7fwenmz/app.bsky.feed.post/3lprn7byo5c2g\n",
      "Got event from at://did:plc:n6fblbi7an53eitvhpcxpjxa/app.bsky.feed.post/3lprng6eyx22a\n",
      "Got event from at://did:plc:esmiuxk53vmsllayghrq676w/app.bsky.feed.post/3lprng5t7mc2b\n",
      "Got event from at://did:plc:3dml7picqqflyuwkr6npru2n/app.bsky.feed.post/3lprng4q4ks2p\n",
      "Got event from at://did:plc:honas5g3yaqo33mqvpfv5xdf/app.bsky.feed.post/3lprng6r6ls24\n",
      "Got event from at://did:plc:7jemxrjpjzqiorv2pc44677y/app.bsky.feed.post/null\n",
      "Got event from at://did:plc:lwjga5mnaxpmphhzgx2assmc/app.bsky.feed.post/3lprng65mmk26\n",
      "Got event from at://did:plc:zfbudfc2cm7sznun25z3mxna/app.bsky.feed.post/3lprng6x23s2a\n",
      "Got event from at://did:plc:k4fdbmlsz55v47mgklr6bddy/app.bsky.feed.post/3lprng76kfq2z\n",
      "Got event from at://did:plc:qrdu5iv7p623ozcuo6tavku3/app.bsky.feed.post/3lprng6qad22r\n",
      "Got event from at://did:plc:7p4hriw6p7ywfn2qqcjexm7l/app.bsky.feed.post/3lprng6ug4c25\n",
      "Got event from at://did:plc:xm4hedc43ryek6dkvlxmftdr/app.bsky.feed.post/3lprng6vic22i\n",
      "Got event from at://did:plc:mjewdcijkb3noyjwt4soelh2/app.bsky.feed.post/3lprng7fxn22v\n",
      "Got event from at://did:plc:yoi3qkb5n2x2owmwb5qqqem4/app.bsky.feed.post/3lprng4sgrs2t\n",
      "Got event from at://did:plc:laox7mddooy3pi2qryn4li7z/app.bsky.feed.post/3lprng6bzak2k\n",
      "Got event from at://did:plc:pzpmdmglvnoouvzdwlmvikxq/app.bsky.feed.post/3lprng6mj6k24\n",
      "Got event from at://did:plc:ono3poexgcg3cgn4uss67rpo/app.bsky.feed.post/3lprng6pktk24\n",
      "Got event from at://did:plc:aqlbhiuq7kupn7y5wey652sw/app.bsky.feed.post/3lprnfz3ws22k\n",
      "Got event from at://did:plc:aqv3qh7i4ysdqggrrk6i4kg2/app.bsky.feed.post/3lprng6yb5s2h\n",
      "Got event from at://did:plc:e2s3yhvncv2aud2bwqnhfqsj/app.bsky.feed.post/3lprng6ioa425\n",
      "Got event from at://did:plc:omt6zz23vj44xfl6ekkqp5wo/app.bsky.feed.post/3lprng6vic22b\n",
      "Got event from at://did:plc:uzxfsubajeacqtjd5x2aawtu/app.bsky.feed.post/3lprng6bnjk2y\n",
      "Got event from at://did:plc:scvmq4erqpmucvxlibvnmvoa/app.bsky.feed.post/3lprng3tli22w\n",
      "Got event from at://did:plc:tpc42zt2y25vzh4a2djx5tvo/app.bsky.feed.post/3lprng7dzfh26\n",
      "Got event from at://did:plc:zw5ad2f4pznwhauszvk424je/app.bsky.feed.post/3lprng6pms222\n",
      "Got event from at://did:plc:byfzlpdqlelu5ojronz37jpy/app.bsky.feed.post/3lprng5ocf22w\n",
      "Got event from at://did:plc:ygsortxwjawzsbks7ziabrlt/app.bsky.feed.post/3lprng6q2hk2t\n",
      "Got event from at://did:plc:4xqe2tsxezcs2q3x5hfhrcx4/app.bsky.feed.post/3lprng6ygzc2r\n",
      "Got event from at://did:plc:qxle7srs4sr6klswpbx4voul/app.bsky.feed.post/3lprng6bkls23\n",
      "Got event from at://did:plc:swnpkf67gvggw74xzhixgxvm/app.bsky.feed.post/3lprng7qz5k2q\n",
      "Got event from at://did:plc:xlqm33h3pigepovdqsxcev76/app.bsky.feed.post/3lprng6ql2s23\n",
      "Got event from at://did:plc:mfed2sddsnymkudw3uj2r55i/app.bsky.feed.post/3lprng733y22x\n",
      "Got event from at://did:plc:xugpwyynancpe2rd3wvwc5zd/app.bsky.feed.post/3lprng75rw22h\n",
      "Got event from at://did:plc:lv7be4dmxb6n4om6jcdq75oz/app.bsky.feed.post/3lprng6mafc2k\n",
      "Got event from at://did:plc:nyssz5opbbuhrdsagnb52ddf/app.bsky.feed.post/3lprng6jmfs26\n",
      "Got event from at://did:plc:j6loih3dp3rdsgz3azmjdcoa/app.bsky.feed.post/3lprng7qhl22l\n",
      "Got event from at://did:plc:u7kwrxol2b3pwrjaabwxoaop/app.bsky.feed.post/3lprng6bcrs2c\n",
      "Got event from at://did:plc:m5gerthvonfve3g3d5gdekpw/app.bsky.feed.post/3lprng7q4wc2o\n",
      "Got event from at://did:plc:asr354oiyasl4lhsy6twlboi/app.bsky.feed.post/3lprng6cwk22r\n",
      "Got event from at://did:plc:e6viblkcsztudabnp56gjh4v/app.bsky.feed.post/3lprng7d4ss2p\n",
      "Got event from at://did:plc:zu4yae7mttrj6n4bclvbvq5w/app.bsky.feed.post/3lprng6c64s2p\n",
      "Got event from at://did:plc:5xmo7tbte4ptu7oqzudruvwn/app.bsky.feed.post/3lprngafyzk2h\n",
      "Got event from at://did:plc:fnydug25yzckvgt2g6xa3omi/app.bsky.feed.post/3lprng7gtxc25\n",
      "Got event from at://did:plc:lzbu3dbnjliv2zmefceprrnd/app.bsky.feed.post/3lprng747522x\n",
      "Got event from at://did:plc:kxdzd6a4j4ijxqvsyhasmm5j/app.bsky.feed.post/3lprng7jzjc2t\n",
      "Got event from at://did:plc:7eju5bbw4wuhi3xphjmg3jhd/app.bsky.feed.post/3lprng7sd5c2u\n",
      "Got event from at://did:plc:wenkvcrk7cv7oxmgffg4kfa6/app.bsky.feed.post/3lprng7i6wc23\n",
      "Got event from at://did:plc:zpsre5yzuoxeecifnk6avagk/app.bsky.feed.post/3lprng7iknc2w\n",
      "Got event from at://did:plc:ds5jkhcia22a4dozxjwyqan5/app.bsky.feed.post/3lprnga57rk2i\n",
      "Got event from at://did:plc:7wfplwuksbvpjcumq3um5tyq/app.bsky.feed.post/3lk4qyhmp7k2x\n",
      "Got event from at://did:plc:eatyfmb4ucsawqjdbmizxmoo/app.bsky.feed.post/3lprng7olys25\n",
      "Got event from at://did:plc:at2vjbbos2pzzhrzpjrmv4i6/app.bsky.feed.post/3lprng7y6nt2v\n",
      "Got event from at://did:plc:cm6xt25nl5jsmztuh6jucqz7/app.bsky.feed.post/3lprng7yktr2h\n",
      "Got event from at://did:plc:5oqd4uv7a44vos6kppnr7qn2/app.bsky.feed.post/3lprng7chdc26\n",
      "Got event from at://did:plc:5gbenbbaqvgrs24v26spocyc/app.bsky.feed.post/3lprng7lv3k2p\n",
      "Got event from at://did:plc:i53e6y3liw2oaw4s6e6odw5m/app.bsky.feed.post/3lprng7rstz2n\n",
      "Got event from at://did:plc:elaj3g3i4m66rinqymkhkwi4/app.bsky.feed.post/3lprng7gvvs2m\n",
      "Got event from at://did:plc:jqbakqcfzqd6pv5ta3ehqykt/app.bsky.feed.post/3lprng7qrdk2d\n",
      "Got event from at://did:plc:czy2qv6wtlavcr264kkx45zv/app.bsky.feed.post/3lprng3gva22a\n",
      "Got event from at://did:plc:wdrdr7vpyod6s6i7m4ggmhyg/app.bsky.feed.post/3lprng5om5k2q\n",
      "Got event from at://did:plc:2npss2njzeai7lhockveymna/app.bsky.feed.post/3lprnga2sqo2y\n",
      "Got event from at://did:plc:oih4lg4nad4djksv3q6lotcs/app.bsky.feed.post/3lprng7tcfc2y\n",
      "Got event from at://did:plc:3fvlhe5v66n6gyztxfs7nquk/app.bsky.feed.post/3lprngbc3hk2y\n",
      "Got event from at://did:plc:3yxbv667vvngelzbmtphu6lf/app.bsky.feed.post/3lprncra3j22b\n",
      "Got event from at://did:plc:spkgkrtpyokoc2ujdxzrzian/app.bsky.feed.post/3lprng7upcs2w\n",
      "Got event from at://did:plc:pnvtyj35fzoh7dofum4v6odf/app.bsky.feed.post/3lprng7nksc22\n",
      "Got event from at://did:plc:eebadjpbxbgix3774yau7yq3/app.bsky.feed.post/3lprng7we2c2l\n",
      "Got event from at://did:plc:6ezctzx7fd73a6rspt2jetuv/app.bsky.feed.post/3lprng7r43c23\n",
      "Got event from at://did:plc:w5qgdp5ibmkknbw4z7j2g5pr/app.bsky.feed.post/3lprnga37d225\n",
      "Got event from at://did:plc:qsls6ljahfmaphjnrwridkmp/app.bsky.feed.post/3lprng7i4xs23\n",
      "Got event from at://did:plc:yzos2bixvwh2fpkq55qrgrmd/app.bsky.feed.post/3lprng5xjck2f\n",
      "Got event from at://did:plc:aezdnhvk2cbnk3zerowuyp3w/app.bsky.feed.post/3lprnga2rnk25\n",
      "Got event from at://did:plc:uy5ntbrfz5fqgl5d5fkdtjer/app.bsky.feed.post/3lprng7yx2k23\n",
      "Got event from at://did:plc:cmap5ilu7muwxndmfpxyf64j/app.bsky.feed.post/3lpqbglpojc2f\n",
      "Got event from at://did:plc:vhs2qyluko326a7ulvevlxek/app.bsky.feed.post/3lprng77z7c26\n",
      "Got event from at://did:plc:ns7wrj7736bi2sn4b7ztpgqc/app.bsky.feed.post/3lprng7j47s2b\n",
      "Got event from at://did:plc:2yssdkmfxwasyxr4dj7u55df/app.bsky.feed.post/3lnzmuretjc22\n",
      "Got event from at://did:plc:wiubnph5poryayt746rtcw2h/app.bsky.feed.post/3lprng7xbds2l\n",
      "Got event from at://did:plc:mcjtljwzuju443fnztopxw5b/app.bsky.feed.post/3lprngabte62q\n",
      "Got event from at://did:plc:unyzi4cadxbh7woqdsj3xtac/app.bsky.feed.post/3lprngaby4k2x\n",
      "Got event from at://did:plc:hnrvx2suxahp3o6cwedje4hi/app.bsky.feed.post/3lprng7q5sk24\n",
      "Got event from at://did:plc:2av3hldybsoyp7ieqr7zjo6d/app.bsky.feed.post/3lprngaccuc2d\n",
      "Got event from at://did:plc:njrh5n5btdob77u6tbjiyf6m/app.bsky.feed.post/3lprnga7nys2a\n",
      "Got event from at://did:plc:nmksjbdjb4oamngppgpfobbw/app.bsky.feed.post/3lprnga7t4v2z\n",
      "Got event from at://did:plc:scltayjs6jo632hnahn7ceko/app.bsky.feed.post/3lprng2nbvc2a\n",
      "Got event from at://did:plc:p2wwjajj2wk4rm54bclwnxjn/app.bsky.feed.post/3lprngahfx226\n",
      "Got event from at://did:plc:a7nvleq36o2sl5dsutq2z2nx/app.bsky.feed.post/3lprnga6tjs2f\n",
      "Got event from at://did:plc:plgiqc7hotf4a76kda7k7epe/app.bsky.feed.post/3lprngb2gds2v\n",
      "Got event from at://did:plc:tdp6nor3g5jf3k6hmzbqyq4f/app.bsky.feed.post/3lprng7ejqc2w\n",
      "deduplicate-1: Handler stopped processing: at://did:plc:bk2tbqtu3tsdxsn7dwn6x4u6/app.bsky.feed.post/3lprnfy322k2g already processed\n",
      "Got event from at://did:plc:bghb2tz2tc4gvhy7j7a5xb6p/app.bsky.feed.post/3lprngaaenu2h\n",
      "Got event from at://did:plc:usgjnw2vx4a5hv2ypul7apd3/app.bsky.feed.post/3lprng6rq6c2r\n",
      "Got event from at://did:plc:xy7ypubgkz25ima3dfqptvhl/app.bsky.feed.post/3lprnga5qes2d\n",
      "Got event from at://did:plc:qebkdxqskl77uz26pgtwukzw/app.bsky.feed.post/3lprngapnmk2n\n",
      "Got event from at://did:plc:546o5kzrvqtafrxjv6j5plyc/app.bsky.feed.post/3lprng5z43k2t\n",
      "Got event from at://did:plc:whu2w6ztwn6miwkdtfset3zz/app.bsky.feed.post/3lprngacnm22a\n",
      "Got event from at://did:plc:a5ozdwtdqhcv5btykumdo3hs/app.bsky.feed.post/3lprnga6bxc2i\n",
      "Got event from at://did:plc:4hpuqgtpehclbmyiexwjeohj/app.bsky.feed.post/3lprng7tje62z\n",
      "Got event from at://did:plc:t3mjm4kin674wium3pj64ekn/app.bsky.feed.post/3lprng7viw32z\n",
      "Got event from at://did:plc:6uwcqdvktsyokmyfpxgpxk4u/app.bsky.feed.post/3lprng7ziwf2k\n",
      "Got event from at://did:plc:knj5sw5al3sukl6vhkpi7637/app.bsky.feed.post/3lprnga46cl27\n",
      "Got event from at://did:plc:pfuwnava4i7xpbx6khgyflyv/app.bsky.feed.post/3lprngaepz22d\n",
      "Got event from at://did:plc:tmx2ts22ouglxty2choeckrf/app.bsky.feed.post/3lprngan3lk2c\n",
      "Got event from at://did:plc:ftprqx74zwaqfbrbs6j7vyp3/app.bsky.feed.post/3lprng7dofc2r\n",
      "Got event from at://did:plc:2gizn4b3us6in4xbbh2pnjbb/app.bsky.feed.post/3lprngaek5k27\n",
      "Got event from at://did:plc:lpf2xgdbzi4w3zvkkjcaocrv/app.bsky.feed.post/3lprng7yu4s2i\n",
      "Got event from at://did:plc:7q3tpsxymwqqufr6wgnncbrl/app.bsky.feed.post/3lprnfqk25c2w\n",
      "Got event from at://did:plc:6cbuyostj4ovhon52js7tgpv/app.bsky.feed.post/3lprngaalxc26\n",
      "Got event from at://did:plc:sitrnfglbtrhkhbsde4sobb6/app.bsky.feed.post/3lprngaiyq22n\n",
      "Got event from at://did:plc:plvxn2kpjuseoftweoo4xtag/app.bsky.feed.post/3lprngc2cu22x\n",
      "Got event from at://did:plc:5bnkkfmpjef3h3xaljtwibgl/app.bsky.feed.post/3lprng7wqqk2s\n",
      "Got event from at://did:plc:idl6kz55ngtrlutxvwzjrpoz/app.bsky.feed.post/3lprngahppk2u\n",
      "Got event from at://did:plc:5464bny43t7bhk5clpux237v/app.bsky.feed.post/3lprng75dbc22\n",
      "Got event from at://did:plc:d6b2de4kpbl3fg6naogmj56w/app.bsky.feed.post/3lprng5jkzc2h\n",
      "Got event from at://did:plc:npxvi4jeug6ggyfui7r2vqbf/app.bsky.feed.post/3lprnfs56uc2g\n",
      "Got event from at://did:plc:ubsnor6y5g5qjkclsbbwdnux/app.bsky.feed.post/3lprnfs5hnk2s\n",
      "Got event from at://did:plc:ceno7z2kuwziqatmwh2dwrh2/app.bsky.feed.post/3lppit5evtk2c\n",
      "Got event from at://did:plc:c2v4mpbrmzed32nrj7zco7cn/app.bsky.feed.post/3lprng5gv3c2p\n",
      "Got event from at://did:plc:kiapuhawh5r2jhv5c7ln6a6g/app.bsky.feed.post/3lprngawdko2g\n",
      "Got event from at://did:plc:6fz3nerh3ad67n7hxiqhkmv4/app.bsky.feed.post/3lprngapols2k\n",
      "Got event from at://did:plc:tp4b4ooa2am74wu5zkx34vl7/app.bsky.feed.post/3lprng4drzs2a\n",
      "Got event from at://did:plc:z7spjxzfs3j3vqqghhud572a/app.bsky.feed.post/3lprngafv4k2d\n",
      "Got event from at://did:plc:3yxys7dtrlgz6gzjtammm3jl/app.bsky.feed.post/3lprnfqunyc2a\n",
      "Got event from at://did:plc:yupmvqf77u6jam6ibqyfc6e2/app.bsky.feed.post/3lprng7rmok2n\n",
      "Got event from at://did:plc:jqyc2c35sqrwcpr7lklblj3a/app.bsky.feed.post/3lprng7txus2p\n",
      "Got event from at://did:plc:6txfkfqexgv3m424mam3fryg/app.bsky.feed.post/3lprngavl322i\n",
      "Got event from at://did:plc:guzyha2on3otrdjch4w2coir/app.bsky.feed.post/3lprng7zwkx2d\n",
      "Got event from at://did:plc:qvkitlnk74oeq65dpiyczg5l/app.bsky.feed.post/3lprngapnru2f\n",
      "Got event from at://did:plc:2sh6zkj6hhrpx5ywfxqw7efx/app.bsky.feed.post/3lprng7hcm22b\n",
      "Got event from at://did:plc:loz47o5h47x4tpxbhkaiy77z/app.bsky.feed.post/3lprng7acxs2i\n",
      "Got event from at://did:plc:zipphihu644mxj7qjafvwwun/app.bsky.feed.post/3lprng723qs2x\n",
      "Got event from at://did:plc:pzyykjlfh63afnffp23lq4mp/app.bsky.feed.post/3lprng7ryfk2e\n"
     ]
    }
   ],
   "execution_count": 17
  },
  {
   "metadata": {},
   "cell_type": "markdown",
   "source": [
    "## Content-Based Filtering with Machine Learning\n",
    "In this section, we'll use a machine learning model to filter posts based on their content. We'll use a pre-trained zero-shot classification model to classify posts as software-related or not."
   ]
  },
  {
   "metadata": {},
   "cell_type": "markdown",
   "source": [
    "### Setting Up the Machine Learning Model\n",
    "To load the model, we'll use the DJL (Deep Java Library) library. DJL is a high-level framework for deep learning in Java that provides a simple and consistent API for loading and using models."
   ]
  },
  {
   "metadata": {
    "ExecuteTime": {
     "end_time": "2025-05-22T17:47:18.466983Z",
     "start_time": "2025-05-22T17:47:17.955677Z"
    }
   },
   "cell_type": "code",
   "source": "@file:DependsOn(\"org.springframework.ai:spring-ai-redis-store:1.0.0-RC1\")",
   "outputs": [],
   "execution_count": 18
  },
  {
   "metadata": {},
   "cell_type": "markdown",
   "source": [
    "### Creating the Model Criteria\n",
    "The criteria is used to load the model and create a predictor. The criteria specifies the model path, the engine to use (in this case, PyTorch), and the translator to use.\n"
   ]
  },
  {
   "metadata": {
    "ExecuteTime": {
     "end_time": "2025-05-22T17:47:19.405031Z",
     "start_time": "2025-05-22T17:47:18.470615Z"
    }
   },
   "cell_type": "code",
   "source": [
    "import org.springframework.ai.transformers.TransformersEmbeddingModel\n",
    "\n",
    "val embeddingModel = TransformersEmbeddingModel()\n",
    "embeddingModel.afterPropertiesSet()"
   ],
   "outputs": [],
   "execution_count": 19
  },
  {
   "metadata": {},
   "cell_type": "markdown",
   "source": [
    "### Loading the Model\n",
    "Now we'll load the model and create a predictor. The predictor is used to make predictions with the model.\n"
   ]
  },
  {
   "metadata": {
    "ExecuteTime": {
     "end_time": "2025-05-22T17:47:19.711966Z",
     "start_time": "2025-05-22T17:47:19.413870Z"
    }
   },
   "cell_type": "code",
   "source": [
    "import org.springframework.ai.vectorstore.redis.RedisVectorStore\n",
    "import org.springframework.ai.vectorstore.redis.RedisVectorStore.MetadataField\n",
    "import redis.clients.jedis.search.Schema.FieldType\n",
    "\n",
    "val redisVectorStore = RedisVectorStore.builder(jedisPooled, embeddingModel)\n",
    "    .indexName(\"classifierIdx\")\n",
    "    .contentFieldName(\"text\")\n",
    "    .embeddingFieldName(\"textEmbedding\")\n",
    "    .prefix(\"classifier:\")\n",
    "    .initializeSchema(true)\n",
    "    .vectorAlgorithm(RedisVectorStore.Algorithm.FLAT)\n",
    "    .build()\n",
    "redisVectorStore.afterPropertiesSet()"
   ],
   "outputs": [],
   "execution_count": 20
  },
  {
   "metadata": {
    "ExecuteTime": {
     "end_time": "2025-05-22T17:47:20.632619Z",
     "start_time": "2025-05-22T17:47:19.717644Z"
    }
   },
   "cell_type": "code",
   "source": [
    "import kotlinx.serialization.json.Json\n",
    "import org.springframework.ai.document.Document\n",
    "import java.io.File\n",
    "import java.util.UUID\n",
    "\n",
    "val references = Json.decodeFromString<List<String>>(File(\"../resources/filtering-examples.json\").readText())\n",
    "\n",
    "fun createRouteDocument(text: String): Document {\n",
    "    return Document(\n",
    "        UUID.randomUUID().toString(),\n",
    "        text,\n",
    "        mapOf(\n",
    "            \"text\" to text,\n",
    "        )\n",
    "    )\n",
    "}\n",
    "\n",
    "fun storeRouteDocumentsInRedis(references: List<String>) {\n",
    "    val documents = references.map { text ->\n",
    "        createRouteDocument(text)\n",
    "    }\n",
    "\n",
    "    redisVectorStore.add(documents)\n",
    "}\n",
    "\n",
    "storeRouteDocumentsInRedis(references)"
   ],
   "outputs": [],
   "execution_count": 21
  },
  {
   "metadata": {},
   "cell_type": "markdown",
   "source": [
    "### Creating a Classification Function\n",
    "Now we'll create a function to classify text using the model.\n",
    "\n",
    "The function takes a text as input and returns a classification output. The classification output contains the probabilities for each candidate label.\n"
   ]
  },
  {
   "metadata": {
    "ExecuteTime": {
     "end_time": "2025-05-22T17:47:20.792027Z",
     "start_time": "2025-05-22T17:47:20.636148Z"
    }
   },
   "cell_type": "code",
   "source": [
    "import ai.djl.modality.nlp.translator.ZeroShotClassificationOutput\n",
    "import org.springframework.ai.vectorstore.SearchRequest\n",
    "\n",
    "fun breakSentenceIntoClauses(sentence: String): List<String> {\n",
    "    return sentence.split(Regex(\"\"\"[!?,.:;()\"\\[\\]{}]+\"\"\"))\n",
    "        .filter { it.isNotBlank() }.map { it.trim() }\n",
    "}\n",
    "\n",
    "fun classify(post: String): List<Double> {\n",
    "    return breakSentenceIntoClauses(post).map { clause ->\n",
    "        (redisVectorStore.similaritySearch(\n",
    "            SearchRequest.builder()\n",
    "                .topK(1)\n",
    "                .query(clause)\n",
    "                .build()\n",
    "        )?.map { it.score ?: 0.0 } ?: emptyList())\n",
    "    }.flatten()\n",
    "}"
   ],
   "outputs": [],
   "execution_count": 22
  },
  {
   "metadata": {
    "ExecuteTime": {
     "end_time": "2025-05-22T17:47:20.870843Z",
     "start_time": "2025-05-22T17:47:20.805757Z"
    }
   },
   "cell_type": "code",
   "source": "classify(\"Redis is a great tool for building distributed systems\")",
   "outputs": [
    {
     "data": {
      "text/plain": [
       "[0.7052901387214661]"
      ]
     },
     "execution_count": 23,
     "metadata": {},
     "output_type": "execute_result"
    }
   ],
   "execution_count": 23
  },
  {
   "metadata": {
    "ExecuteTime": {
     "end_time": "2025-05-22T17:47:20.915315Z",
     "start_time": "2025-05-22T17:47:20.878440Z"
    }
   },
   "cell_type": "code",
   "source": "classify(\"Redis is a great tool for building applied AI systems\")",
   "outputs": [
    {
     "data": {
      "text/plain": [
       "[0.8494792580604553]"
      ]
     },
     "execution_count": 24,
     "metadata": {},
     "output_type": "execute_result"
    }
   ],
   "execution_count": 24
  },
  {
   "metadata": {},
   "cell_type": "markdown",
   "source": [
    "### Creating a Filter Handler\n",
    "\n",
    "Now we 'll create a handler that filters events based on their content.\n",
    "\n",
    "The handler uses the classification function to determine if a post is software -related.If the post is not software -related, the handler returns false, which stops the processing of the event."
   ]
  },
  {
   "metadata": {
    "ExecuteTime": {
     "end_time": "2025-05-22T17:47:21.020164Z",
     "start_time": "2025-05-22T17:47:20.921846Z"
    }
   },
   "cell_type": "code",
   "source": [
    "val filter: (Event) -> Pair<Boolean, String> = { event ->\n",
    "    if (event.text.isNotBlank() && event.operation != \"delete\") {\n",
    "        val classification = classify(event.text)\n",
    "        if (classification.any { it > 0.75 }) {\n",
    "            Pair(true, \"OK\")\n",
    "        } else {\n",
    "            Pair(false, \"Not a post related to artificial intelligence\")\n",
    "        }\n",
    "    } else {\n",
    "        Pair(false, \"Text is null or empty\")\n",
    "    }\n",
    "}"
   ],
   "outputs": [],
   "execution_count": 25
  },
  {
   "metadata": {},
   "cell_type": "markdown",
   "source": [
    "## Storing Filtered Events\n",
    "In this section, we'll store the filtered events in Redis for further processing."
   ]
  },
  {
   "metadata": {},
   "cell_type": "markdown",
   "source": "### Converting Data Class to Hash"
  },
  {
   "metadata": {
    "ExecuteTime": {
     "end_time": "2025-05-22T17:47:21.089537Z",
     "start_time": "2025-05-22T17:47:21.023316Z"
    }
   },
   "cell_type": "code",
   "source": [
    "fun Event.toMap(): Map<String, String> {\n",
    "    return mapOf(\n",
    "        \"did\" to this.did,\n",
    "        \"timeUs\" to this.timeUs,\n",
    "        \"text\" to this.text,\n",
    "        \"langs\" to this.langs.joinToString(\",\"),\n",
    "        \"operation\" to this.operation,\n",
    "        \"rkey\" to this.rkey,\n",
    "        \"parentUri\" to this.parentUri,\n",
    "        \"rootUri\" to this.rootUri,\n",
    "        \"uri\" to this.uri\n",
    "    )\n",
    "}"
   ],
   "outputs": [],
   "execution_count": 26
  },
  {
   "metadata": {},
   "cell_type": "markdown",
   "source": [
    "### Storing Events in Redis\n",
    "Now we 'll create a handler that stores events in Redis. The handler stores the event as a hash in Redis, with the key being the event' s URI."
   ]
  },
  {
   "metadata": {
    "ExecuteTime": {
     "end_time": "2025-05-22T17:47:21.131442Z",
     "start_time": "2025-05-22T17:47:21.094019Z"
    }
   },
   "cell_type": "code",
   "source": [
    "val storeEvent: (Event) -> Pair<Boolean, String> = { event ->\n",
    "    jedisPooled.hset(\"post:\" + event.uri.replace(\"at://did:plc:\", \"\"), event.toMap())\n",
    "    Pair(true, \"OK\")\n",
    "}"
   ],
   "outputs": [],
   "execution_count": 27
  },
  {
   "metadata": {},
   "cell_type": "markdown",
   "source": [
    "### Adding Filtered Events to a New Stream\n",
    "\n",
    "Finally, we'll create a handler that adds filtered events to a new stream. This allows other consumers to process only the filtered events, rather than having to filter the events themselves."
   ]
  },
  {
   "metadata": {
    "ExecuteTime": {
     "end_time": "2025-05-22T17:47:21.181084Z",
     "start_time": "2025-05-22T17:47:21.135243Z"
    }
   },
   "cell_type": "code",
   "source": [
    "import redis.clients.jedis.params.XAddParams\n",
    "\n",
    "val addFilteredEventToStream: (Event) -> Pair<Boolean, String> = { event ->\n",
    "    jedisPooled.xadd(\n",
    "        \"filtered-events\",\n",
    "        XAddParams.xAddParams().id(StreamEntryID.NEW_ENTRY),\n",
    "        event.toMap()\n",
    "    )\n",
    "    Pair(true, \"OK\")\n",
    "}\n",
    "createConsumerGroup(\"jetstream\", \"store-example\")"
   ],
   "outputs": [
    {
     "name": "stdout",
     "output_type": "stream",
     "text": [
      "Group already exists\n"
     ]
    }
   ],
   "execution_count": 28
  },
  {
   "metadata": {},
   "cell_type": "markdown",
   "source": [
    "## Putting It All Together\n",
    "Now we 'll put all the pieces together to create a complete pipeline for filtering events from the Redis Stream.\n",
    "\n",
    "In this example we create two consumers that will process the same stream.\n",
    "\n",
    "- By doing that, we can scale the processing of the events by adding more consumers to the group.\n",
    "- Redis will make sure that each consumer will receive different messages."
   ]
  },
  {
   "metadata": {
    "ExecuteTime": {
     "end_time": "2025-05-22T17:47:23.321415Z",
     "start_time": "2025-05-22T17:47:21.185582Z"
    }
   },
   "cell_type": "code",
   "source": [
    "runBlocking {\n",
    "    listOf(\n",
    "        async(Dispatchers.IO) {\n",
    "            consumeStream(\n",
    "                streamName = \"jetstream\",\n",
    "                consumerGroup = \"store-example\",\n",
    "                consumer = \"store-1\",\n",
    "                handlers = listOf(\n",
    "                    filter,\n",
    "                    printUri,\n",
    "                    storeEvent,\n",
    "                    addFilteredEventToStream\n",
    "                ),\n",
    "                ackFunction = ackFunction(),\n",
    "                count = 1,\n",
    "                limit = 100\n",
    "            )\n",
    "        },\n",
    "        async(Dispatchers.IO) {\n",
    "            consumeStream(\n",
    "                streamName = \"jetstream\",\n",
    "                consumerGroup = \"store-example\",\n",
    "                consumer = \"store-2\", // Different consumer\n",
    "                handlers = listOf(\n",
    "                    filter,\n",
    "                    printUri,\n",
    "                    storeEvent,\n",
    "                    addFilteredEventToStream\n",
    "                ),\n",
    "                ackFunction = ackFunction(),\n",
    "                count = 1,\n",
    "                limit = 100\n",
    "            )\n",
    "        }\n",
    "    ).awaitAll()\n",
    "}"
   ],
   "outputs": [
    {
     "name": "stdout",
     "output_type": "stream",
     "text": [
      "store-1: Handler stopped processing: Not a post related to artificial intelligence\n",
      "store-2: Handler stopped processing: Not a post related to artificial intelligence\n",
      "store-1: Handler stopped processing: Not a post related to artificial intelligence\n",
      "store-2: Handler stopped processing: Not a post related to artificial intelligence\n",
      "store-1: Handler stopped processing: Not a post related to artificial intelligence\n",
      "store-2: Handler stopped processing: Not a post related to artificial intelligence\n",
      "store-2: Handler stopped processing: Text is null or empty\n",
      "store-2: Handler stopped processing: Not a post related to artificial intelligence\n",
      "store-2: Handler stopped processing: Text is null or empty\n",
      "store-2: Handler stopped processing: Not a post related to artificial intelligence\n",
      "store-2: Handler stopped processing: Not a post related to artificial intelligence\n",
      "store-1: Handler stopped processing: Not a post related to artificial intelligence\n",
      "store-1: Handler stopped processing: Text is null or empty\n",
      "store-2: Handler stopped processing: Not a post related to artificial intelligence\n",
      "store-1: Handler stopped processing: Not a post related to artificial intelligence\n",
      "store-2: Handler stopped processing: Not a post related to artificial intelligence\n",
      "store-2: Handler stopped processing: Not a post related to artificial intelligence\n",
      "store-1: Handler stopped processing: Not a post related to artificial intelligence\n",
      "store-1: Handler stopped processing: Not a post related to artificial intelligence\n",
      "store-2: Handler stopped processing: Not a post related to artificial intelligence\n",
      "store-2: Handler stopped processing: Not a post related to artificial intelligence\n",
      "store-1: Handler stopped processing: Not a post related to artificial intelligence\n",
      "store-2: Handler stopped processing: Not a post related to artificial intelligence\n",
      "store-1: Handler stopped processing: Not a post related to artificial intelligence\n",
      "store-1: Handler stopped processing: Not a post related to artificial intelligence\n",
      "store-1: Handler stopped processing: Not a post related to artificial intelligence\n",
      "store-1: Handler stopped processing: Not a post related to artificial intelligence\n",
      "store-1: Handler stopped processing: Not a post related to artificial intelligence\n",
      "store-1: Handler stopped processing: Not a post related to artificial intelligence\n",
      "store-1: Handler stopped processing: Not a post related to artificial intelligence\n",
      "store-2: Handler stopped processing: Not a post related to artificial intelligence\n",
      "store-1: Handler stopped processing: Not a post related to artificial intelligence\n",
      "store-2: Handler stopped processing: Not a post related to artificial intelligence\n",
      "store-1: Handler stopped processing: Not a post related to artificial intelligence\n",
      "store-2: Handler stopped processing: Not a post related to artificial intelligence\n",
      "store-1: Handler stopped processing: Not a post related to artificial intelligence\n",
      "store-2: Handler stopped processing: Not a post related to artificial intelligence\n",
      "store-1: Handler stopped processing: Not a post related to artificial intelligence\n",
      "store-1: Handler stopped processing: Not a post related to artificial intelligence\n",
      "store-2: Handler stopped processing: Not a post related to artificial intelligence\n",
      "store-1: Handler stopped processing: Not a post related to artificial intelligence\n",
      "store-1: Handler stopped processing: Not a post related to artificial intelligence\n",
      "store-2: Handler stopped processing: Not a post related to artificial intelligence\n",
      "store-1: Handler stopped processing: Not a post related to artificial intelligence\n",
      "store-2: Handler stopped processing: Not a post related to artificial intelligence\n",
      "store-1: Handler stopped processing: Not a post related to artificial intelligence\n",
      "store-2: Handler stopped processing: Not a post related to artificial intelligence\n",
      "store-2: Handler stopped processing: Text is null or empty\n",
      "store-1: Handler stopped processing: Not a post related to artificial intelligence\n",
      "store-1: Handler stopped processing: Not a post related to artificial intelligence\n",
      "store-1: Handler stopped processing: Not a post related to artificial intelligence\n",
      "store-1: Handler stopped processing: Not a post related to artificial intelligence\n",
      "store-1: Handler stopped processing: Not a post related to artificial intelligence\n",
      "store-2: Handler stopped processing: Not a post related to artificial intelligence\n",
      "store-2: Handler stopped processing: Not a post related to artificial intelligence\n",
      "store-2: Handler stopped processing: Text is null or empty\n",
      "store-1: Handler stopped processing: Not a post related to artificial intelligence\n",
      "store-1: Handler stopped processing: Text is null or empty\n",
      "store-2: Handler stopped processing: Not a post related to artificial intelligence\n",
      "store-2: Handler stopped processing: Text is null or empty\n",
      "store-1: Handler stopped processing: Not a post related to artificial intelligence\n",
      "store-2: Handler stopped processing: Not a post related to artificial intelligence\n",
      "store-1: Handler stopped processing: Not a post related to artificial intelligence\n",
      "store-1: Handler stopped processing: Text is null or empty\n",
      "store-2: Handler stopped processing: Not a post related to artificial intelligence\n",
      "store-2: Handler stopped processing: Not a post related to artificial intelligence\n",
      "store-2: Handler stopped processing: Not a post related to artificial intelligence\n",
      "store-1: Handler stopped processing: Not a post related to artificial intelligence\n",
      "store-1: Handler stopped processing: Text is null or empty\n",
      "store-2: Handler stopped processing: Not a post related to artificial intelligence\n",
      "store-2: Handler stopped processing: Not a post related to artificial intelligence\n",
      "store-1: Handler stopped processing: Not a post related to artificial intelligence\n",
      "store-2: Handler stopped processing: Not a post related to artificial intelligence\n",
      "store-1: Handler stopped processing: Not a post related to artificial intelligence\n",
      "store-2: Handler stopped processing: Not a post related to artificial intelligence\n",
      "store-1: Handler stopped processing: Not a post related to artificial intelligence\n",
      "store-2: Handler stopped processing: Not a post related to artificial intelligence\n",
      "store-1: Handler stopped processing: Not a post related to artificial intelligence\n",
      "store-2: Handler stopped processing: Not a post related to artificial intelligence\n",
      "store-1: Handler stopped processing: Not a post related to artificial intelligence\n",
      "store-2: Handler stopped processing: Not a post related to artificial intelligence\n",
      "store-1: Handler stopped processing: Not a post related to artificial intelligence\n",
      "store-2: Handler stopped processing: Not a post related to artificial intelligence\n",
      "store-1: Handler stopped processing: Not a post related to artificial intelligence\n",
      "store-2: Handler stopped processing: Not a post related to artificial intelligence\n",
      "store-2: Handler stopped processing: Not a post related to artificial intelligence\n",
      "store-2: Handler stopped processing: Not a post related to artificial intelligence\n",
      "store-2: Handler stopped processing: Text is null or empty\n",
      "store-2: Handler stopped processing: Not a post related to artificial intelligence\n",
      "store-1: Handler stopped processing: Not a post related to artificial intelligence\n",
      "store-2: Handler stopped processing: Not a post related to artificial intelligence\n",
      "store-2: Handler stopped processing: Not a post related to artificial intelligence\n",
      "store-2: Handler stopped processing: Not a post related to artificial intelligence\n",
      "store-2: Handler stopped processing: Not a post related to artificial intelligence\n",
      "store-2: Handler stopped processing: Not a post related to artificial intelligence\n",
      "store-2: Handler stopped processing: Not a post related to artificial intelligence\n",
      "store-1: Handler stopped processing: Not a post related to artificial intelligence\n",
      "store-1: Handler stopped processing: Not a post related to artificial intelligence\n",
      "store-2: Handler stopped processing: Not a post related to artificial intelligence\n",
      "store-1: Handler stopped processing: Not a post related to artificial intelligence\n",
      "store-2: Handler stopped processing: Not a post related to artificial intelligence\n",
      "store-1: Handler stopped processing: Not a post related to artificial intelligence\n",
      "store-1: Handler stopped processing: Text is null or empty\n",
      "store-2: Handler stopped processing: Not a post related to artificial intelligence\n",
      "store-2: Handler stopped processing: Not a post related to artificial intelligence\n",
      "store-2: Handler stopped processing: Text is null or empty\n",
      "store-1: Handler stopped processing: Not a post related to artificial intelligence\n",
      "store-2: Handler stopped processing: Not a post related to artificial intelligence\n",
      "store-2: Handler stopped processing: Not a post related to artificial intelligence\n",
      "store-2: Handler stopped processing: Not a post related to artificial intelligence\n",
      "store-1: Handler stopped processing: Not a post related to artificial intelligence\n",
      "store-1: Handler stopped processing: Not a post related to artificial intelligence\n",
      "store-2: Handler stopped processing: Not a post related to artificial intelligence\n",
      "store-2: Handler stopped processing: Not a post related to artificial intelligence\n",
      "store-1: Handler stopped processing: Not a post related to artificial intelligence\n",
      "store-2: Handler stopped processing: Not a post related to artificial intelligence\n",
      "store-2: Handler stopped processing: Not a post related to artificial intelligence\n",
      "store-1: Handler stopped processing: Not a post related to artificial intelligence\n",
      "store-1: Handler stopped processing: Not a post related to artificial intelligence\n",
      "store-2: Handler stopped processing: Not a post related to artificial intelligence\n",
      "store-1: Handler stopped processing: Not a post related to artificial intelligence\n",
      "store-2: Handler stopped processing: Not a post related to artificial intelligence\n",
      "store-2: Handler stopped processing: Not a post related to artificial intelligence\n",
      "store-2: Handler stopped processing: Not a post related to artificial intelligence\n",
      "store-2: Handler stopped processing: Not a post related to artificial intelligence\n",
      "store-1: Handler stopped processing: Not a post related to artificial intelligence\n",
      "store-2: Handler stopped processing: Not a post related to artificial intelligence\n",
      "store-1: Handler stopped processing: Not a post related to artificial intelligence\n",
      "store-2: Handler stopped processing: Not a post related to artificial intelligence\n",
      "store-2: Handler stopped processing: Not a post related to artificial intelligence\n",
      "store-1: Handler stopped processing: Not a post related to artificial intelligence\n",
      "store-1: Handler stopped processing: Not a post related to artificial intelligence\n",
      "store-2: Handler stopped processing: Not a post related to artificial intelligence\n",
      "store-2: Handler stopped processing: Not a post related to artificial intelligence\n",
      "store-1: Handler stopped processing: Not a post related to artificial intelligence\n",
      "store-2: Handler stopped processing: Not a post related to artificial intelligence\n",
      "store-2: Handler stopped processing: Not a post related to artificial intelligence\n",
      "store-2: Handler stopped processing: Not a post related to artificial intelligence\n",
      "store-1: Handler stopped processing: Not a post related to artificial intelligence\n",
      "store-2: Handler stopped processing: Not a post related to artificial intelligence\n",
      "store-2: Handler stopped processing: Not a post related to artificial intelligence\n",
      "store-1: Handler stopped processing: Not a post related to artificial intelligence\n",
      "store-1: Handler stopped processing: Not a post related to artificial intelligence\n",
      "store-2: Handler stopped processing: Not a post related to artificial intelligence\n",
      "store-2: Handler stopped processing: Not a post related to artificial intelligence\n",
      "store-2: Handler stopped processing: Not a post related to artificial intelligence\n",
      "store-2: Handler stopped processing: Not a post related to artificial intelligence\n",
      "store-1: Handler stopped processing: Not a post related to artificial intelligence\n",
      "store-1: Handler stopped processing: Not a post related to artificial intelligence\n",
      "store-1: Handler stopped processing: Not a post related to artificial intelligence\n",
      "store-1: Handler stopped processing: Not a post related to artificial intelligence\n",
      "store-2: Handler stopped processing: Not a post related to artificial intelligence\n",
      "store-1: Handler stopped processing: Not a post related to artificial intelligence\n",
      "store-1: Handler stopped processing: Not a post related to artificial intelligence\n",
      "store-2: Handler stopped processing: Not a post related to artificial intelligence\n",
      "store-2: Handler stopped processing: Not a post related to artificial intelligence\n",
      "store-2: Handler stopped processing: Not a post related to artificial intelligence\n",
      "store-2: Handler stopped processing: Not a post related to artificial intelligence\n",
      "store-1: Handler stopped processing: Not a post related to artificial intelligence\n",
      "store-2: Handler stopped processing: Not a post related to artificial intelligence\n",
      "store-2: Handler stopped processing: Not a post related to artificial intelligence\n",
      "store-2: Handler stopped processing: Not a post related to artificial intelligence\n",
      "store-1: Handler stopped processing: Not a post related to artificial intelligence\n",
      "store-2: Handler stopped processing: Not a post related to artificial intelligence\n",
      "store-2: Handler stopped processing: Text is null or empty\n",
      "store-1: Handler stopped processing: Not a post related to artificial intelligence\n",
      "store-2: Handler stopped processing: Not a post related to artificial intelligence\n",
      "store-2: Handler stopped processing: Text is null or empty\n",
      "store-2: Handler stopped processing: Not a post related to artificial intelligence\n",
      "store-2: Handler stopped processing: Not a post related to artificial intelligence\n",
      "store-1: Handler stopped processing: Not a post related to artificial intelligence\n",
      "store-2: Handler stopped processing: Not a post related to artificial intelligence\n",
      "store-1: Handler stopped processing: Text is null or empty\n",
      "store-1: Handler stopped processing: Text is null or empty\n",
      "store-2: Handler stopped processing: Not a post related to artificial intelligence\n",
      "store-2: Handler stopped processing: Text is null or empty\n",
      "store-1: Handler stopped processing: Not a post related to artificial intelligence\n",
      "store-1: Handler stopped processing: Not a post related to artificial intelligence\n",
      "store-1: Handler stopped processing: Not a post related to artificial intelligence\n",
      "store-2: Handler stopped processing: Not a post related to artificial intelligence\n",
      "store-1: Handler stopped processing: Text is null or empty\n",
      "store-1: Handler stopped processing: Text is null or empty\n",
      "store-1: Handler stopped processing: Text is null or empty\n",
      "store-1: Handler stopped processing: Not a post related to artificial intelligence\n",
      "store-1: Handler stopped processing: Not a post related to artificial intelligence\n",
      "store-1: Handler stopped processing: Not a post related to artificial intelligence\n",
      "store-1: Handler stopped processing: Not a post related to artificial intelligence\n",
      "store-1: Handler stopped processing: Not a post related to artificial intelligence\n",
      "store-1: Handler stopped processing: Not a post related to artificial intelligence\n",
      "store-1: Handler stopped processing: Not a post related to artificial intelligence\n",
      "store-1: Handler stopped processing: Not a post related to artificial intelligence\n",
      "store-1: Handler stopped processing: Not a post related to artificial intelligence\n",
      "store-1: Handler stopped processing: Text is null or empty\n",
      "store-1: Handler stopped processing: Not a post related to artificial intelligence\n",
      "store-1: Handler stopped processing: Not a post related to artificial intelligence\n",
      "store-1: Handler stopped processing: Not a post related to artificial intelligence\n",
      "store-1: Handler stopped processing: Not a post related to artificial intelligence\n",
      "store-1: Handler stopped processing: Not a post related to artificial intelligence\n",
      "store-1: Handler stopped processing: Not a post related to artificial intelligence\n",
      "store-1: Handler stopped processing: Text is null or empty\n"
     ]
    },
    {
     "data": {
      "text/plain": [
       "[kotlin.Unit, kotlin.Unit]"
      ]
     },
     "execution_count": 29,
     "metadata": {},
     "output_type": "execute_result"
    }
   ],
   "execution_count": 29
  },
  {
   "metadata": {},
   "cell_type": "markdown",
   "source": [
    "## Next Steps\n",
    "In the next notebook, we'll enrich the filtered events with additional information, such as topic modeling and embeddings for semantic search.\n"
   ]
  }
 ],
 "metadata": {
  "kernelspec": {
   "display_name": "Kotlin",
   "language": "kotlin",
   "name": "kotlin"
  },
  "language_info": {
   "name": "kotlin",
   "version": "1.9.23",
   "mimetype": "text/x-kotlin",
   "file_extension": ".kt",
   "pygments_lexer": "kotlin",
   "codemirror_mode": "text/x-kotlin",
   "nbconvert_exporter": ""
  }
 },
 "nbformat": 4,
 "nbformat_minor": 0
}
