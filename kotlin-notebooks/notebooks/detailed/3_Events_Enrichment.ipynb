{
 "cells": [
  {
   "metadata": {},
   "cell_type": "markdown",
   "source": "# Enriching Filtered Events"
  },
  {
   "metadata": {},
   "cell_type": "markdown",
   "source": [
    "In this notebook, we'll enrich the filtered events from the previous notebook with additional information. We'll use a combination of techniques to enrich the events:\n",
    "\n",
    "1. Topic modeling using a Large Language Model (LLM) to extract topics from the posts\n",
    "2. Creating embeddings for semantic search using a transformer model\n",
    "3. Storing the enriched events in Redis for querying\n",
    "\n",
    "\n",
    "\n",
    "Embeddings are vector representations of text that capture semantic meaning. They allow us to perform semantic search, which is a search based on meaning rather than exact keyword matching. In this notebook, we'll create embeddings for posts and store them in Redis for later querying.\n"
   ]
  },
  {
   "metadata": {
    "ExecuteTime": {
     "end_time": "2025-05-22T18:05:17.482058Z",
     "start_time": "2025-05-22T18:05:17.086863Z"
    }
   },
   "cell_type": "code",
   "source": "%use coroutines",
   "outputs": [],
   "execution_count": 1
  },
  {
   "metadata": {},
   "cell_type": "markdown",
   "source": "## Functions from Previous Notebooks"
  },
  {
   "metadata": {},
   "cell_type": "markdown",
   "source": "### Creating a Redis Client"
  },
  {
   "metadata": {
    "ExecuteTime": {
     "end_time": "2025-05-22T18:05:17.812432Z",
     "start_time": "2025-05-22T18:05:17.487196Z"
    }
   },
   "cell_type": "code",
   "source": [
    "import redis.clients.jedis.JedisPooled\n",
    "\n",
    "val jedisPooled = JedisPooled()"
   ],
   "outputs": [],
   "execution_count": 2
  },
  {
   "metadata": {},
   "cell_type": "markdown",
   "source": "### Model Stream Events"
  },
  {
   "metadata": {
    "ExecuteTime": {
     "end_time": "2025-05-22T18:05:18.264404Z",
     "start_time": "2025-05-22T18:05:17.818957Z"
    }
   },
   "cell_type": "code",
   "source": [
    "import redis.clients.jedis.resps.StreamEntry\n",
    "\n",
    "data class Event(\n",
    "    val did: String,\n",
    "    val rkey: String,\n",
    "    val text: String,\n",
    "    val timeUs: String,\n",
    "    val operation: String,\n",
    "    val uri: String,\n",
    "    val parentUri: String,\n",
    "    val rootUri: String,\n",
    "    val langs: List<String>,\n",
    ") {\n",
    "    companion object {\n",
    "        fun fromMap(entry: StreamEntry): Event {\n",
    "            val fields = entry.fields\n",
    "            return Event(\n",
    "                did = fields[\"did\"] ?: \"\",\n",
    "                rkey = fields[\"rkey\"] ?: \"\",\n",
    "                text = fields[\"text\"] ?: \"\",\n",
    "                timeUs = fields[\"timeUs\"] ?: \"\",\n",
    "                operation = fields[\"operation\"] ?: \"\",\n",
    "                uri = fields[\"uri\"] ?: \"\",\n",
    "                parentUri = fields[\"parentUri\"] ?: \"\",\n",
    "                rootUri = fields[\"rootUri\"] ?: \"\",\n",
    "                langs = fields[\"langs\"]?.replace(\"[\", \"\")?.replace(\"]\", \"\")?.split(\", \") ?: emptyList()\n",
    "            )\n",
    "        }\n",
    "    }\n",
    "}"
   ],
   "outputs": [],
   "execution_count": 3
  },
  {
   "metadata": {},
   "cell_type": "markdown",
   "source": "### Create Consumer Group"
  },
  {
   "metadata": {
    "ExecuteTime": {
     "end_time": "2025-05-22T18:05:18.375172Z",
     "start_time": "2025-05-22T18:05:18.270669Z"
    }
   },
   "cell_type": "code",
   "source": [
    "import redis.clients.jedis.StreamEntryID\n",
    "\n",
    "fun createConsumerGroup(streamName: String, groupName: String) {\n",
    "    try {\n",
    "        jedisPooled.xgroupCreate(streamName, groupName, StreamEntryID(\"0-0\"), true)\n",
    "    } catch (e: Exception) {\n",
    "        println(\"Consumer group already exists\")\n",
    "    }\n",
    "}"
   ],
   "outputs": [],
   "execution_count": 4
  },
  {
   "metadata": {},
   "cell_type": "markdown",
   "source": "### Create Bloom Filter"
  },
  {
   "metadata": {
    "ExecuteTime": {
     "end_time": "2025-05-22T18:05:18.425396Z",
     "start_time": "2025-05-22T18:05:18.378535Z"
    }
   },
   "cell_type": "code",
   "source": [
    "fun createBloomFilter(name: String) {\n",
    "    try {\n",
    "        jedisPooled.bfReserve(name, 0.01, 1000000)\n",
    "    } catch (e: Exception) {\n",
    "        println(\"Bloom filter already exists\")\n",
    "    }\n",
    "}"
   ],
   "outputs": [],
   "execution_count": 5
  },
  {
   "metadata": {},
   "cell_type": "markdown",
   "source": "### Read from Stream"
  },
  {
   "metadata": {
    "ExecuteTime": {
     "end_time": "2025-05-22T18:05:18.496609Z",
     "start_time": "2025-05-22T18:05:18.428533Z"
    }
   },
   "cell_type": "code",
   "source": [
    "import redis.clients.jedis.params.XReadGroupParams\n",
    "\n",
    "fun readFromStream(\n",
    "    streamName: String,\n",
    "    consumerGroup: String,\n",
    "    consumer: String, count: Int\n",
    "): List<Map.Entry<String, List<StreamEntry>>> {\n",
    "    return jedisPooled.xreadGroup(\n",
    "        consumerGroup,\n",
    "        consumer,\n",
    "        XReadGroupParams().count(count),\n",
    "        mapOf(\n",
    "            streamName to StreamEntryID.XREADGROUP_UNDELIVERED_ENTRY\n",
    "        )\n",
    "    ) ?: emptyList()\n",
    "}"
   ],
   "outputs": [],
   "execution_count": 6
  },
  {
   "metadata": {},
   "cell_type": "markdown",
   "source": "### Consume Stream"
  },
  {
   "metadata": {
    "ExecuteTime": {
     "end_time": "2025-05-22T18:05:18.681288Z",
     "start_time": "2025-05-22T18:05:18.499619Z"
    }
   },
   "cell_type": "code",
   "source": [
    "import kotlinx.coroutines.*\n",
    "\n",
    "fun consumeStream(\n",
    "    streamName: String,\n",
    "    consumerGroup: String,\n",
    "    consumer: String,\n",
    "    handlers: List<(Event) -> Pair<Boolean, String>>,\n",
    "    ackFunction: ((String, String, StreamEntry) -> Unit),\n",
    "    count: Int = 5,\n",
    "    limit: Int = 5\n",
    ") {\n",
    "    var lastMessageTime = System.currentTimeMillis()\n",
    "    var consumed = 0\n",
    "\n",
    "    while (consumed < limit) {\n",
    "        val entries = readFromStream(streamName, consumerGroup, consumer, count)\n",
    "        val allEntries = entries.flatMap { it.value }\n",
    "        allEntries.map { entry ->\n",
    "            consumed++\n",
    "            val event = Event.fromMap(entry)\n",
    "\n",
    "            for (handler in handlers) {\n",
    "                val (shouldContinue, message) = handler(event)\n",
    "                ackFunction(streamName, consumerGroup, entry)\n",
    "\n",
    "                if (!shouldContinue) {\n",
    "                    println(\"$consumer: Handler stopped processing: $message\")\n",
    "                    break\n",
    "                }\n",
    "            }\n",
    "        }\n",
    "\n",
    "        if (allEntries.isEmpty()) {\n",
    "            val now = System.currentTimeMillis()\n",
    "            if (now - lastMessageTime >= 2_000) {\n",
    "                println(\"$consumer: No new messages for 2 seconds. Stopping.\")\n",
    "                break\n",
    "            }\n",
    "        }\n",
    "    }\n",
    "\n",
    "}"
   ],
   "outputs": [],
   "execution_count": 7
  },
  {
   "metadata": {},
   "cell_type": "markdown",
   "source": "### Deduplicate"
  },
  {
   "metadata": {
    "ExecuteTime": {
     "end_time": "2025-05-22T18:05:18.733017Z",
     "start_time": "2025-05-22T18:05:18.685169Z"
    }
   },
   "cell_type": "code",
   "source": [
    "fun deduplicate(bloomFilter: String): (Event) -> Pair<Boolean, String> {\n",
    "    return { event ->\n",
    "        if (jedisPooled.bfExists(bloomFilter, event.uri)) {\n",
    "            Pair(false, \"${event.uri} already processed\")\n",
    "        } else {\n",
    "            Pair(true, \"OK\")\n",
    "        }\n",
    "    }\n",
    "}"
   ],
   "outputs": [],
   "execution_count": 8
  },
  {
   "metadata": {
    "ExecuteTime": {
     "end_time": "2025-05-22T18:05:18.871372Z",
     "start_time": "2025-05-22T18:05:18.737498Z"
    }
   },
   "cell_type": "code",
   "source": [
    "import redis.clients.jedis.Connection\n",
    "import redis.clients.jedis.JedisPool\n",
    "import redis.clients.jedis.Transaction\n",
    "\n",
    "val jedisPool = JedisPool()\n",
    "\n",
    "fun ackAndBfFn(bloomFilter: String):  (String, String, StreamEntry) -> Unit {\n",
    "    return { streamName, consumerGroup, entry ->\n",
    "        jedisPool.resource.use { jedis ->\n",
    "            // Create a transaction\n",
    "            val multi = jedis.multi()\n",
    "\n",
    "            // Acknowledge the message\n",
    "            multi.xack(\n",
    "                streamName,\n",
    "                consumerGroup,\n",
    "                entry.id\n",
    "            )\n",
    "\n",
    "            // Add the URI to the bloom filter\n",
    "            multi.bfAdd(bloomFilter, Event.fromMap(entry).uri)\n",
    "\n",
    "            // Execute the transaction\n",
    "            multi.exec()\n",
    "        }\n",
    "    }\n",
    "}"
   ],
   "outputs": [],
   "execution_count": 9
  },
  {
   "metadata": {
    "ExecuteTime": {
     "end_time": "2025-05-22T18:05:18.948053Z",
     "start_time": "2025-05-22T18:05:18.878433Z"
    }
   },
   "cell_type": "code",
   "source": [
    "val printUri: (Event) -> Pair<Boolean, String> = {\n",
    "    println(\"Got event from ${it.uri}\")\n",
    "    Pair(true, \"OK\")\n",
    "}"
   ],
   "outputs": [],
   "execution_count": 10
  },
  {
   "metadata": {},
   "cell_type": "markdown",
   "source": [
    "## Topic Modeling with Large Language Models\n",
    "Topic modeling is a technique used to discover abstract topics in a collection of documents. In this notebook, we'll use a Large Language Model to extract topics from posts. This will allow us to categorize posts and make them more searchable."
   ]
  },
  {
   "metadata": {},
   "cell_type": "markdown",
   "source": [
    "### Setting Up the Ollama API Client\n",
    "We'll use the Spring AI Ollama client to interact with the Ollama API.\n",
    "\n",
    "Ollama is a tool that allows us to run large language models locally."
   ]
  },
  {
   "metadata": {
    "ExecuteTime": {
     "end_time": "2025-05-22T18:05:19.577702Z",
     "start_time": "2025-05-22T18:05:18.953967Z"
    }
   },
   "cell_type": "code",
   "source": "@file:DependsOn(\"org.springframework.ai:spring-ai-ollama:1.0.0-RC1\")",
   "outputs": [],
   "execution_count": 11
  },
  {
   "metadata": {},
   "cell_type": "markdown",
   "source": "The prompt we'll use for the LLM is designed to extract software-related topics from posts. The prompt includes examples of how to format the output and what types of topics to include."
  },
  {
   "metadata": {
    "ExecuteTime": {
     "end_time": "2025-05-22T18:05:19.638985Z",
     "start_time": "2025-05-22T18:05:19.586557Z"
    }
   },
   "cell_type": "code",
   "source": [
    "import java.io.File\n",
    "\n",
    "val topicExtractorSystemPrompt = File(\"../resources/topic-extractor-prompt.txt\").readText()"
   ],
   "outputs": [],
   "execution_count": 12
  },
  {
   "metadata": {},
   "cell_type": "markdown",
   "source": "Create the Ollama Chat Model"
  },
  {
   "metadata": {
    "ExecuteTime": {
     "end_time": "2025-05-22T18:05:20.186173Z",
     "start_time": "2025-05-22T18:05:19.644114Z"
    }
   },
   "cell_type": "code",
   "source": [
    "import org.springframework.ai.ollama.OllamaChatModel\n",
    "import org.springframework.ai.ollama.api.OllamaApi\n",
    "import org.springframework.ai.ollama.api.OllamaApi.ChatRequest\n",
    "import org.springframework.ai.ollama.api.OllamaApi.Message\n",
    "import org.springframework.ai.ollama.api.OllamaApi.Message.Role\n",
    "import org.springframework.ai.ollama.api.OllamaOptions\n",
    "\n",
    "val ollamaApi = OllamaApi.builder()\n",
    "    .baseUrl(\"http://localhost:11434\")\n",
    "    .build()\n",
    "\n",
    "val ollamaOptions = OllamaOptions.builder().model(\"deepseek-coder-v2\").build()\n",
    "\n",
    "val ollamaChatModel = OllamaChatModel.builder()\n",
    "    .ollamaApi(ollamaApi)\n",
    "    .defaultOptions(ollamaOptions)\n",
    "    .build()"
   ],
   "outputs": [],
   "execution_count": 13
  },
  {
   "metadata": {},
   "cell_type": "markdown",
   "source": [
    "### Creating a Topic Modeling Function\n",
    "This function takes a post as input and uses the Ollama API to extract topics from the post. The function returns a string of comma-separated topics."
   ]
  },
  {
   "metadata": {
    "ExecuteTime": {
     "end_time": "2025-05-22T18:05:20.312723Z",
     "start_time": "2025-05-22T18:05:20.194252Z"
    }
   },
   "cell_type": "code",
   "source": [
    "import org.springframework.ai.chat.messages.SystemMessage\n",
    "import org.springframework.ai.chat.messages.UserMessage\n",
    "import org.springframework.ai.chat.prompt.Prompt\n",
    "\n",
    "fun extractTopics(post: String, existingTopics: String): String {\n",
    "    // Build a chat message\n",
    "    val messages = listOf(\n",
    "        SystemMessage(topicExtractorSystemPrompt),\n",
    "        UserMessage(\"Existing topics: $existingTopics\"),\n",
    "        UserMessage(\"Post: $post\")\n",
    "    )\n",
    "\n",
    "    val response = ollamaChatModel.call(Prompt(messages))\n",
    "    return response.result.output.text ?: \"\"\n",
    "}"
   ],
   "outputs": [],
   "execution_count": 14
  },
  {
   "metadata": {
    "ExecuteTime": {
     "end_time": "2025-05-22T18:05:21.222476Z",
     "start_time": "2025-05-22T18:05:20.325185Z"
    }
   },
   "cell_type": "code",
   "source": "extractTopics(\"Kotlin is a great programming language for beginners who want to do Applied AI Engineering\", \"\")",
   "outputs": [
    {
     "data": {
      "text/plain": [
       " \"Programming Languages, Beginner Tutorials, AI Application Development\""
      ]
     },
     "execution_count": 15,
     "metadata": {},
     "output_type": "execute_result"
    }
   ],
   "execution_count": 15
  },
  {
   "metadata": {
    "ExecuteTime": {
     "end_time": "2025-05-22T18:05:21.355540Z",
     "start_time": "2025-05-22T18:05:21.233039Z"
    }
   },
   "cell_type": "code",
   "source": "extractTopics(\"Kotlin is a great programming language for beginners\", \"\")",
   "outputs": [
    {
     "data": {
      "text/plain": [
       " \"\""
      ]
     },
     "execution_count": 16,
     "metadata": {},
     "output_type": "execute_result"
    }
   ],
   "execution_count": 16
  },
  {
   "metadata": {
    "ExecuteTime": {
     "end_time": "2025-05-22T18:05:21.543781Z",
     "start_time": "2025-05-22T18:05:21.364864Z"
    }
   },
   "cell_type": "code",
   "source": "extractTopics(\"Brazilian samba is a great music genre for dancing\", \"\")",
   "outputs": [
    {
     "data": {
      "text/plain": [
       " \"\""
      ]
     },
     "execution_count": 17,
     "metadata": {},
     "output_type": "execute_result"
    }
   ],
   "execution_count": 17
  },
  {
   "metadata": {},
   "cell_type": "markdown",
   "source": "### Counting how many times a topic appears"
  },
  {
   "metadata": {},
   "cell_type": "markdown",
   "source": [
    "Count-min sketch is a probabilistic data structure used for estimating the frequency of events in a stream of data.\n",
    "\n",
    "It is particularly useful for counting the number of occurrences of items in a large dataset without storing all the items explicitly."
   ]
  },
  {
   "metadata": {
    "ExecuteTime": {
     "end_time": "2025-05-22T18:05:21.642373Z",
     "start_time": "2025-05-22T18:05:21.555150Z"
    }
   },
   "cell_type": "code",
   "source": [
    "import redis.clients.jedis.exceptions.JedisDataException\n",
    "import java.time.LocalDateTime\n",
    "\n",
    "fun createTopK(): String {\n",
    "    val windowBucket = LocalDateTime.now().withMinute(0).withSecond(0).withNano(0)\n",
    "    try {\n",
    "        jedisPooled.topkReserve(\"topics-topk:$windowBucket\", 15, 3000, 10, 0.9)\n",
    "    } catch (_: JedisDataException) {\n",
    "        println(\"TopK already exists\")\n",
    "    }\n",
    "\n",
    "    return \"topics-topk:$windowBucket\"\n",
    "}"
   ],
   "outputs": [],
   "execution_count": 18
  },
  {
   "metadata": {},
   "cell_type": "markdown",
   "source": [
    "### Creating a Topic Extraction Handler\n",
    "This function creates a handler that extracts topics from an event's text and stores them in Redis. The topics are stored as a pipe-separated string in the \"topics\" field of the event's hash."
   ]
  },
  {
   "metadata": {
    "ExecuteTime": {
     "end_time": "2025-05-22T18:05:21.922598Z",
     "start_time": "2025-05-22T18:05:21.647706Z"
    }
   },
   "cell_type": "code",
   "source": [
    "val extractTopics: (Event) -> Pair<Boolean, String> = { event ->\n",
    "    val existingTopics = jedisPooled.smembers(\"topics\")\n",
    "    val topics = extractTopics(event.text, existingTopics.joinToString(\", \"))\n",
    "        .replace(\"\\\"\", \"\")\n",
    "        .replace(\"“\", \"\")\n",
    "        .replace(\"”\", \"\")\n",
    "        .split(\",\")\n",
    "        .map { it.trim() }\n",
    "        .filter { it.isNotBlank() }\n",
    "\n",
    "    val topKKey = createTopK()\n",
    "    if (topics.isNotEmpty()) {\n",
    "        val filteredTopics = topics.filter { it.isNotBlank() }\n",
    "        jedisPooled.topkAdd(topKKey, *filteredTopics.toTypedArray())\n",
    "        jedisPooled.hset(\"post:\" + event.uri.replace(\"at://did:plc:\", \"\"), mapOf(\"topics\" to filteredTopics.joinToString(\"|\")))\n",
    "        jedisPooled.sadd(\"topics\", *filteredTopics.toTypedArray())\n",
    "    }\n",
    "    Pair(true, \"OK\")\n",
    "}"
   ],
   "outputs": [],
   "execution_count": 19
  },
  {
   "metadata": {
    "ExecuteTime": {
     "end_time": "2025-05-22T18:05:22.029809Z",
     "start_time": "2025-05-22T18:05:21.981683Z"
    }
   },
   "cell_type": "code",
   "source": "createConsumerGroup(\"filtered-events\", \"topic-extraction-example\")",
   "outputs": [
    {
     "name": "stdout",
     "output_type": "stream",
     "text": [
      "Consumer group already exists\n"
     ]
    }
   ],
   "execution_count": 20
  },
  {
   "metadata": {
    "ExecuteTime": {
     "end_time": "2025-05-22T18:05:22.106375Z",
     "start_time": "2025-05-22T18:05:22.069427Z"
    }
   },
   "cell_type": "code",
   "source": [
    "val bloomFilterName = \"topic-extraction-bf\"\n",
    "createBloomFilter(bloomFilterName)"
   ],
   "outputs": [
    {
     "name": "stdout",
     "output_type": "stream",
     "text": [
      "Bloom filter already exists\n"
     ]
    }
   ],
   "execution_count": 21
  },
  {
   "metadata": {
    "ExecuteTime": {
     "end_time": "2025-05-22T18:05:37.614657Z",
     "start_time": "2025-05-22T18:05:22.151045Z"
    }
   },
   "cell_type": "code",
   "source": [
    "runBlocking {\n",
    "    consumeStream(\n",
    "        streamName = \"filtered-events\",\n",
    "        consumerGroup = \"topic-extraction-example\",\n",
    "        consumer = \"topic-extraction-1\",\n",
    "        handlers = listOf(deduplicate(bloomFilterName), printUri, extractTopics),\n",
    "        ackFunction = ackAndBfFn(bloomFilterName),\n",
    "        count = 1,\n",
    "        limit = 100\n",
    "    )\n",
    "}"
   ],
   "outputs": [
    {
     "name": "stdout",
     "output_type": "stream",
     "text": [
      "Got event from at://did:plc:zc6bjaq5z5mzb7u36dtxfzw7/app.bsky.feed.post/3lprnpnymfh2x\n",
      "TopK already exists\n",
      "Got event from at://did:plc:uuykykkdbtq2plsexeztdhpf/app.bsky.feed.post/3lprnpor5vz2v\n",
      "TopK already exists\n",
      "Got event from at://did:plc:2llcip7wwsv66wu6vxrxfhsm/app.bsky.feed.post/3lprp5tj4662e\n",
      "TopK already exists\n",
      "Got event from at://did:plc:xbsy5qmxblcb2tgt3cmhwnld/app.bsky.feed.post/3lprp5vcdy226\n",
      "TopK already exists\n",
      "Got event from at://did:plc:xbsy5qmxblcb2tgt3cmhwnld/app.bsky.feed.post/3lprp5vcgvs26\n",
      "TopK already exists\n",
      "Got event from at://did:plc:6hxrccgkh23eeygeqqiqxb6t/app.bsky.feed.post/3lprp5woyvy2h\n",
      "TopK already exists\n",
      "Got event from at://did:plc:scy5fhrtswxpfuzchccp5swn/app.bsky.feed.post/3lprp63cam22t\n",
      "TopK already exists\n",
      "Got event from at://did:plc:dero4a3fkusyfpiuzc7ax7o5/app.bsky.feed.post/3lprp65wb3c2l\n",
      "TopK already exists\n",
      "Got event from at://did:plc:5wm7ascxvmho32pfdihilozg/app.bsky.feed.post/3lprp62epc22v\n",
      "TopK already exists\n",
      "Got event from at://did:plc:2zprqnchjss7abl6sveqkx4v/app.bsky.feed.post/3lprp665inr2r\n",
      "TopK already exists\n",
      "Got event from at://did:plc:mf7uetvngc5rahnfbkphher6/app.bsky.feed.post/3lprp65fkvk2q\n",
      "TopK already exists\n",
      "Got event from at://did:plc:5vwjnzaibnwscbbcvkzhy57v/app.bsky.feed.post/3lproz4f6zf52\n",
      "TopK already exists\n",
      "Got event from at://did:plc:w2yenz43ofkk752xk3s6i55y/app.bsky.feed.post/3lprp6abp5c2a\n",
      "TopK already exists\n",
      "Got event from at://did:plc:7e7hpm56jvhi62ldct4w3yoq/app.bsky.feed.post/3lprp6aegzs2h\n",
      "TopK already exists\n",
      "Got event from at://did:plc:vvnaz7i5wrdyt7vuujdpzyxv/app.bsky.feed.post/3lprp6etv5u2z\n",
      "TopK already exists\n",
      "Got event from at://did:plc:lqrwoaafb3nts3wancyqyufx/app.bsky.feed.post/3lprp6fc6yp2x\n",
      "TopK already exists\n",
      "Got event from at://did:plc:mtoepwnxylcuk6ka3d4enu4d/app.bsky.feed.post/3lprp6hjkaf24\n",
      "TopK already exists\n",
      "Got event from at://did:plc:gjamdsn6s7eyxs7bocgxc6kl/app.bsky.feed.post/3lprp6kfubo2l\n",
      "TopK already exists\n",
      "Got event from at://did:plc:flck2ns3su7kdx7xi5upctye/app.bsky.feed.post/3lprp6ollic2l\n",
      "TopK already exists\n",
      "Got event from at://did:plc:efaqskpmq5cah4ej5d6euipd/app.bsky.feed.post/3lprp6pasfk2n\n",
      "TopK already exists\n",
      "Got event from at://did:plc:h7ddneoxuu77ps5jqtx7yiuf/app.bsky.feed.post/3lprp6q6t522a\n",
      "TopK already exists\n",
      "Got event from at://did:plc:f3wys76pwospxs7ooc7khbys/app.bsky.feed.post/3lprp6prhfk2w\n",
      "TopK already exists\n",
      "Got event from at://did:plc:iobmu44bnjmown7gr4xaj3j7/app.bsky.feed.post/3lprp7573h22c\n",
      "TopK already exists\n",
      "Got event from at://did:plc:42non5hsfu532djiepy5b6t6/app.bsky.feed.post/3lprp6tx5ps25\n",
      "TopK already exists\n",
      "Got event from at://did:plc:mrwawytjnwutaveddlqybil5/app.bsky.feed.post/3lprp6rz4ek2a\n",
      "TopK already exists\n",
      "Got event from at://did:plc:s33lmvk7rwmlypc2qm6wn2lr/app.bsky.feed.post/3lprozrbwzg52\n",
      "TopK already exists\n",
      "Got event from at://did:plc:f3hbwly43l7abgmf632d3a64/app.bsky.feed.post/3lprp6w4uer24\n",
      "TopK already exists\n",
      "Got event from at://did:plc:kxwaejodrxe2ojb567xcgmab/app.bsky.feed.post/3lprp6wjelc2j\n",
      "TopK already exists\n",
      "Got event from at://did:plc:lni45qu7s4dv627ks77fjxgw/app.bsky.feed.post/3lprp6weq5c2t\n",
      "TopK already exists\n",
      "Got event from at://did:plc:i53e6y3liw2oaw4s6e6odw5m/app.bsky.feed.post/3lprp6xl3w62c\n",
      "TopK already exists\n",
      "Got event from at://did:plc:ipnqgjcngbafxdo3bv3gamrx/app.bsky.feed.post/3lprp6z52h62y\n",
      "TopK already exists\n",
      "Got event from at://did:plc:vhv7meqhporr4s2wlsgxdqwa/app.bsky.feed.post/3lprp72g6ww2e\n",
      "TopK already exists\n",
      "Got event from at://did:plc:adnla3vcvfnpwxxtdbq5zxjj/app.bsky.feed.post/3lprp33euihz2\n",
      "TopK already exists\n",
      "Got event from at://did:plc:jghdyvm3tmf3xhqjizvzaszb/app.bsky.feed.post/3lprp6qbf622w\n",
      "TopK already exists\n",
      "Got event from at://did:plc:jghdyvm3tmf3xhqjizvzaszb/app.bsky.feed.post/3lprp6yrdcs2w\n",
      "TopK already exists\n",
      "Got event from at://did:plc:jghdyvm3tmf3xhqjizvzaszb/app.bsky.feed.post/3lprp75pukk2w\n",
      "TopK already exists\n",
      "Got event from at://did:plc:jghdyvm3tmf3xhqjizvzaszb/app.bsky.feed.post/3lprp75pukl2w\n",
      "TopK already exists\n"
     ]
    }
   ],
   "execution_count": null
  },
  {
   "metadata": {},
   "cell_type": "markdown",
   "source": [
    "## Creating Embeddings for Semantic Search\n",
    "In this section, we'll create embeddings for posts. Embeddings are vector representations of text that capture semantic meaning. They allow us to perform semantic search, which is a search based on meaning rather than exact keyword matching.\n",
    "\n",
    "For example, if I search for:\n",
    "\n",
    "\"Redis is a cool db for Python devs\"\n",
    "\n",
    "I can still match:\n",
    "\n",
    "\"Redis is a great database for Python developers\""
   ]
  },
  {
   "metadata": {},
   "cell_type": "markdown",
   "source": [
    "### Setting Up the Embedding Model\n",
    "We'll use the Spring AI Transformers library to create embeddings for posts. This library provides a simple API for creating embeddings using transformer models."
   ]
  },
  {
   "metadata": {
    "ExecuteTime": {
     "end_time": "2025-05-22T18:05:38.896321Z",
     "start_time": "2025-05-22T18:05:38.624906Z"
    }
   },
   "cell_type": "code",
   "source": [
    "@file:DependsOn(\"org.springframework.ai:spring-ai-transformers:1.0.0-RC1\")\n",
    "@file:DependsOn(\"ai.djl.huggingface:tokenizers:0.33.0\")"
   ],
   "outputs": [],
   "execution_count": 23
  },
  {
   "metadata": {
    "ExecuteTime": {
     "end_time": "2025-05-22T18:05:39.842445Z",
     "start_time": "2025-05-22T18:05:38.899230Z"
    }
   },
   "cell_type": "code",
   "source": [
    "import org.springframework.ai.transformers.TransformersEmbeddingModel\n",
    "\n",
    "val embeddingModel = TransformersEmbeddingModel() // uses all-MiniLM-L6-v2 by default\n",
    "embeddingModel.afterPropertiesSet()"
   ],
   "outputs": [],
   "execution_count": 24
  },
  {
   "metadata": {},
   "cell_type": "markdown",
   "source": [
    "### Creating an Embedding Handler\n",
    "This function creates a handler that generates embeddings for an event's text and stores them in Redis. The embeddings are stored as binary data in the \"textEmbedding\" field of the event's hash."
   ]
  },
  {
   "metadata": {
    "ExecuteTime": {
     "end_time": "2025-05-22T18:05:39.927908Z",
     "start_time": "2025-05-22T18:05:39.847926Z"
    }
   },
   "cell_type": "code",
   "source": [
    "import java.lang.Float\n",
    "import java.nio.ByteBuffer\n",
    "import java.nio.ByteOrder\n",
    "\n",
    "fun createEmbedding(input: String): ByteArray {\n",
    "    val embedding = embeddingModel.embed(input)\n",
    "    val embeddingBytes = ByteArray(Float.BYTES * embedding.size)\n",
    "    ByteBuffer.wrap(embeddingBytes).order(ByteOrder.LITTLE_ENDIAN).asFloatBuffer().put(embedding)\n",
    "    return embeddingBytes\n",
    "}"
   ],
   "outputs": [],
   "execution_count": 25
  },
  {
   "metadata": {
    "ExecuteTime": {
     "end_time": "2025-05-22T18:05:39.991807Z",
     "start_time": "2025-05-22T18:05:39.930652Z"
    }
   },
   "cell_type": "code",
   "source": [
    "val createEmbedding: (Event) -> Pair<Boolean, String> = { event ->\n",
    "    val embeddingBytes = createEmbedding(event.text)\n",
    "    jedisPooled.hset((\"post:\" + event.uri.replace(\"at://did:plc:\", \"\")).encodeToByteArray(), mapOf(\"textEmbedding\".encodeToByteArray() to embeddingBytes))\n",
    "    Pair(true, \"OK\")\n",
    "}"
   ],
   "outputs": [],
   "execution_count": 26
  },
  {
   "metadata": {
    "ExecuteTime": {
     "end_time": "2025-05-22T18:05:40.018925Z",
     "start_time": "2025-05-22T18:05:39.997430Z"
    }
   },
   "cell_type": "code",
   "source": "createConsumerGroup(\"filtered-events\", \"embedding-example\")",
   "outputs": [
    {
     "name": "stdout",
     "output_type": "stream",
     "text": [
      "Consumer group already exists\n"
     ]
    }
   ],
   "execution_count": 27
  },
  {
   "metadata": {
    "ExecuteTime": {
     "end_time": "2025-05-22T18:05:40.048603Z",
     "start_time": "2025-05-22T18:05:40.024380Z"
    }
   },
   "cell_type": "code",
   "source": [
    "val bloomFilterName = \"embedding-bf\"\n",
    "createBloomFilter(bloomFilterName)"
   ],
   "outputs": [
    {
     "name": "stdout",
     "output_type": "stream",
     "text": [
      "Bloom filter already exists\n"
     ]
    }
   ],
   "execution_count": 28
  },
  {
   "metadata": {
    "ExecuteTime": {
     "end_time": "2025-05-22T18:05:42.102422Z",
     "start_time": "2025-05-22T18:05:40.055005Z"
    }
   },
   "cell_type": "code",
   "source": [
    "runBlocking {\n",
    "    consumeStream(\n",
    "        streamName = \"filtered-events\",\n",
    "        consumerGroup = \"embedding-example\",\n",
    "        consumer = \"embedding-1\",\n",
    "        handlers = listOf(deduplicate(bloomFilterName), printUri, createEmbedding),\n",
    "        ackFunction = ackAndBfFn(bloomFilterName),\n",
    "        count = 1,\n",
    "        limit = 100\n",
    "    )\n",
    "}"
   ],
   "outputs": [
    {
     "name": "stdout",
     "output_type": "stream",
     "text": [
      "Got event from at://did:plc:zc6bjaq5z5mzb7u36dtxfzw7/app.bsky.feed.post/3lprnpnymfh2x\n",
      "Got event from at://did:plc:uuykykkdbtq2plsexeztdhpf/app.bsky.feed.post/3lprnpor5vz2v\n",
      "Got event from at://did:plc:2llcip7wwsv66wu6vxrxfhsm/app.bsky.feed.post/3lprp5tj4662e\n",
      "Got event from at://did:plc:xbsy5qmxblcb2tgt3cmhwnld/app.bsky.feed.post/3lprp5vcdy226\n",
      "Got event from at://did:plc:xbsy5qmxblcb2tgt3cmhwnld/app.bsky.feed.post/3lprp5vcgvs26\n",
      "Got event from at://did:plc:6hxrccgkh23eeygeqqiqxb6t/app.bsky.feed.post/3lprp5woyvy2h\n",
      "Got event from at://did:plc:scy5fhrtswxpfuzchccp5swn/app.bsky.feed.post/3lprp63cam22t\n",
      "Got event from at://did:plc:dero4a3fkusyfpiuzc7ax7o5/app.bsky.feed.post/3lprp65wb3c2l\n",
      "Got event from at://did:plc:5wm7ascxvmho32pfdihilozg/app.bsky.feed.post/3lprp62epc22v\n",
      "Got event from at://did:plc:2zprqnchjss7abl6sveqkx4v/app.bsky.feed.post/3lprp665inr2r\n",
      "Got event from at://did:plc:mf7uetvngc5rahnfbkphher6/app.bsky.feed.post/3lprp65fkvk2q\n",
      "Got event from at://did:plc:5vwjnzaibnwscbbcvkzhy57v/app.bsky.feed.post/3lproz4f6zf52\n",
      "Got event from at://did:plc:w2yenz43ofkk752xk3s6i55y/app.bsky.feed.post/3lprp6abp5c2a\n",
      "Got event from at://did:plc:7e7hpm56jvhi62ldct4w3yoq/app.bsky.feed.post/3lprp6aegzs2h\n",
      "Got event from at://did:plc:vvnaz7i5wrdyt7vuujdpzyxv/app.bsky.feed.post/3lprp6etv5u2z\n",
      "Got event from at://did:plc:lqrwoaafb3nts3wancyqyufx/app.bsky.feed.post/3lprp6fc6yp2x\n",
      "Got event from at://did:plc:mtoepwnxylcuk6ka3d4enu4d/app.bsky.feed.post/3lprp6hjkaf24\n",
      "Got event from at://did:plc:gjamdsn6s7eyxs7bocgxc6kl/app.bsky.feed.post/3lprp6kfubo2l\n",
      "Got event from at://did:plc:flck2ns3su7kdx7xi5upctye/app.bsky.feed.post/3lprp6ollic2l\n",
      "Got event from at://did:plc:efaqskpmq5cah4ej5d6euipd/app.bsky.feed.post/3lprp6pasfk2n\n",
      "Got event from at://did:plc:h7ddneoxuu77ps5jqtx7yiuf/app.bsky.feed.post/3lprp6q6t522a\n",
      "Got event from at://did:plc:f3wys76pwospxs7ooc7khbys/app.bsky.feed.post/3lprp6prhfk2w\n",
      "Got event from at://did:plc:iobmu44bnjmown7gr4xaj3j7/app.bsky.feed.post/3lprp7573h22c\n",
      "Got event from at://did:plc:42non5hsfu532djiepy5b6t6/app.bsky.feed.post/3lprp6tx5ps25\n",
      "Got event from at://did:plc:mrwawytjnwutaveddlqybil5/app.bsky.feed.post/3lprp6rz4ek2a\n",
      "Got event from at://did:plc:s33lmvk7rwmlypc2qm6wn2lr/app.bsky.feed.post/3lprozrbwzg52\n",
      "Got event from at://did:plc:f3hbwly43l7abgmf632d3a64/app.bsky.feed.post/3lprp6w4uer24\n",
      "Got event from at://did:plc:kxwaejodrxe2ojb567xcgmab/app.bsky.feed.post/3lprp6wjelc2j\n",
      "Got event from at://did:plc:lni45qu7s4dv627ks77fjxgw/app.bsky.feed.post/3lprp6weq5c2t\n",
      "Got event from at://did:plc:i53e6y3liw2oaw4s6e6odw5m/app.bsky.feed.post/3lprp6xl3w62c\n",
      "Got event from at://did:plc:ipnqgjcngbafxdo3bv3gamrx/app.bsky.feed.post/3lprp6z52h62y\n",
      "Got event from at://did:plc:vhv7meqhporr4s2wlsgxdqwa/app.bsky.feed.post/3lprp72g6ww2e\n",
      "Got event from at://did:plc:adnla3vcvfnpwxxtdbq5zxjj/app.bsky.feed.post/3lprp33euihz2\n",
      "Got event from at://did:plc:jghdyvm3tmf3xhqjizvzaszb/app.bsky.feed.post/3lprp6qbf622w\n",
      "Got event from at://did:plc:jghdyvm3tmf3xhqjizvzaszb/app.bsky.feed.post/3lprp6yrdcs2w\n",
      "Got event from at://did:plc:jghdyvm3tmf3xhqjizvzaszb/app.bsky.feed.post/3lprp75pukk2w\n",
      "Got event from at://did:plc:jghdyvm3tmf3xhqjizvzaszb/app.bsky.feed.post/3lprp75pukl2w\n",
      "Got event from at://did:plc:mmk2ipc25u2lfjfkumxy67az/app.bsky.feed.post/3lprp7b37bi2z\n",
      "Got event from at://did:plc:baftsysoztjpor6yxwvzggvf/app.bsky.feed.post/3lprp7bstxk2r\n",
      "Got event from at://did:plc:u4ytjqlsmwaec72dbhsckjai/app.bsky.feed.post/3lprp7hqlas2v\n",
      "Got event from at://did:plc:va2l4q7kg2cqkhlkabe3cqjn/app.bsky.feed.post/3lprp7h26jn27\n",
      "Got event from at://did:plc:xx5vrq6wt4pgt5hnos5f47a4/app.bsky.feed.post/3lprp7l7ow22d\n",
      "Got event from at://did:plc:omdt6wnydywjdgrnljs4lekz/app.bsky.feed.post/3lprp7mihtk27\n",
      "Got event from at://did:plc:q32qkw5u7z3derggmyp64eac/app.bsky.feed.post/3lprp7ltcts2d\n",
      "Got event from at://did:plc:pe2sl2vytige3j6gyfwd6pfy/app.bsky.feed.post/3lprp7vge222i\n",
      "Got event from at://did:plc:dekuz7vvlsl4anv7l7dytrod/app.bsky.feed.post/3lprp7w66qc27\n",
      "Got event from at://did:plc:zp4r62rfa32x3ub4tkbdcjk5/app.bsky.feed.post/3lprp7wmxfc2c\n",
      "Got event from at://did:plc:4w7jzkpdswrg7tf4azxu3gsc/app.bsky.feed.post/3lprp7x3sch2l\n",
      "Got event from at://did:plc:4ou4jas64ztpiqtykuielncv/app.bsky.feed.post/3lprp7z6lp226\n",
      "Got event from at://did:plc:4w7jzkpdswrg7tf4azxu3gsc/app.bsky.feed.post/3lprp7ycvff2f\n",
      "Got event from at://did:plc:aigz7azw4buhevk5oi26uwbp/app.bsky.feed.post/3lprpa2emik2n\n",
      "Got event from at://did:plc:46jp6rf24q2clpjlbsw3u7cd/app.bsky.feed.post/3lprpa2mjgc2a\n",
      "Got event from at://did:plc:bbpjawymn64275u2hay54f6o/app.bsky.feed.post/3lprpa26o2s2e\n",
      "Got event from at://did:plc:4w7jzkpdswrg7tf4azxu3gsc/app.bsky.feed.post/3lprpa47qd42y\n",
      "Got event from at://did:plc:w3ppeapzvziqqnp2q4imkkhy/app.bsky.feed.post/3lprpa3kixv2q\n",
      "Got event from at://did:plc:4w7jzkpdswrg7tf4azxu3gsc/app.bsky.feed.post/3lprpa6dxx523\n",
      "Got event from at://did:plc:gtagcl6hjrllxz5yz4dsrwm2/app.bsky.feed.post/3lprpa732fw2l\n",
      "Got event from at://did:plc:obzmodhumpztnas3eumpknln/app.bsky.feed.post/3lprpa5zrjc2v\n",
      "Got event from at://did:plc:4w7jzkpdswrg7tf4azxu3gsc/app.bsky.feed.post/3lprpaapusv2f\n",
      "Got event from at://did:plc:2t5uffsfbdy6hgj2num2new6/app.bsky.feed.post/3lprpacgan22s\n",
      "Got event from at://did:plc:hpp52ivrklmlxzotiurem2af/app.bsky.feed.post/3lprpacd6cl2z\n",
      "Got event from at://did:plc:2ntxtnddqyh3iesmvm4l7emv/app.bsky.feed.post/3lprpad2cac26\n",
      "Got event from at://did:plc:2lbilt6g2owh3wrjdmrmleso/app.bsky.feed.post/3lprpabr2vk2s\n",
      "Got event from at://did:plc:3wabpz6pahnltbj4b7vqqtpl/app.bsky.feed.post/3lprpag5l4x2k\n",
      "Got event from at://did:plc:3mkq6m7x22373azwxgo7p34p/app.bsky.feed.post/3lprpaihed22p\n",
      "Got event from at://did:plc:4jsog32acz7tnjqsxndhpgnv/app.bsky.feed.post/3lprpajtgu62l\n",
      "Got event from at://did:plc:p7lnxoikmx2bx54t4g6s5joa/app.bsky.feed.post/3lprpalt5k223\n",
      "Got event from at://did:plc:pdwryunie6mmkobp2wgjy2ak/app.bsky.feed.post/3lprparumx22x\n",
      "Got event from at://did:plc:7fx2nioi264gvh4vtyrqn2tv/app.bsky.feed.post/3lprpapf32c25\n",
      "Got event from at://did:plc:2772baqwlamm7ovlm3lm3clo/app.bsky.feed.post/3lprpaym4hc2v\n",
      "Got event from at://did:plc:h7zohblydqa56lhnmph426k7/app.bsky.feed.post/3lprpb2pdt22n\n",
      "Got event from at://did:plc:iaxsj65caafa6dgfovsfi4xm/app.bsky.feed.post/3lprpb34fs22h\n",
      "Got event from at://did:plc:uuykykkdbtq2plsexeztdhpf/app.bsky.feed.post/3lprpb5ydub2q\n",
      "Got event from at://did:plc:pe5yab32qft72c2muk53rf2g/app.bsky.feed.post/3lprpb64kws2s\n",
      "Got event from at://did:plc:m3xq6fu3d6fehptyingqc6hx/app.bsky.feed.post/3lprppmpyvk2p\n",
      "Got event from at://did:plc:afdbdjntsogslxjigpzyysqu/app.bsky.feed.post/3lprpb7a7ks2k\n",
      "Got event from at://did:plc:ly2tjli73wlwrip3qjohdfj2/app.bsky.feed.post/3lprpb7mk3s2q\n",
      "Got event from at://did:plc:5pwnydd73k5mvwsbeiupoxbd/app.bsky.feed.post/3lprpb6gzvk2k\n",
      "Got event from at://did:plc:3flullnzxeo6n36notzccv6l/app.bsky.feed.post/3lprpbcho7t2h\n",
      "Got event from at://did:plc:aci2vgru6tmdvya3pxcra67q/app.bsky.feed.post/3lprpbbfxyc2t\n",
      "Got event from at://did:plc:b4ed3umttqpgs2323eocan4g/app.bsky.feed.post/3lprpbbp2ys26\n",
      "Got event from at://did:plc:vsx5537d3qbwsbhz55yhwgim/app.bsky.feed.post/3lprpbfjqrs2r\n",
      "Got event from at://did:plc:bpnpcawvkeznnlbcid3pnpuy/app.bsky.feed.post/3lprpbgc3422y\n",
      "Got event from at://did:plc:zr4rfu7nyqlibueul6hyqp5v/app.bsky.feed.post/3lprpbacj7s24\n",
      "Got event from at://did:plc:75o537d7zmiquzl6zri3coxh/app.bsky.feed.post/3lprpbpzhx22c\n",
      "Got event from at://did:plc:keqpyg4lzu4nbqkfvmgqxcw3/app.bsky.feed.post/3lprpbuuktk2y\n",
      "Got event from at://did:plc:wakkskihjt4f2qyawoh62cf5/app.bsky.feed.post/3lprpbtpp5k2n\n",
      "Got event from at://did:plc:zuzh3zaopusv7tkd3cxy2iyz/app.bsky.feed.post/3lprpbxaijk2d\n",
      "Got event from at://did:plc:qebkdxqskl77uz26pgtwukzw/app.bsky.feed.post/3lprpbzp36c26\n",
      "Got event from at://did:plc:dkbue3ecawqngxmeghjpd2mp/app.bsky.feed.post/3lprpbypoc22l\n",
      "Got event from at://did:plc:ts7jd2psvwggg2jo25qd2x7m/app.bsky.feed.post/3lprpc3y2bl27\n",
      "Got event from at://did:plc:dwecjm5n7fyljcjk3vi7x5oa/app.bsky.feed.post/3lprpc3hmci2p\n",
      "embedding-1: No new messages for 2 seconds. Stopping.\n"
     ]
    }
   ],
   "execution_count": 29
  },
  {
   "metadata": {},
   "cell_type": "markdown",
   "source": [
    "## Creating a Redis Search Index\n",
    "In this section, we'll create a Redis Search index to make the enriched events searchable. Redis Search is a module that adds full-text search capabilities to Redis. It allows us to search for events based on their text, topics, and other fields."
   ]
  },
  {
   "metadata": {},
   "cell_type": "markdown",
   "source": [
    "### Creating the Index Schema in Code\n",
    "Now we'll create the index schema in code. We'll use the Jedis client to create the schema and the index.\n",
    "\n",
    "The following schema defines the fields that will be indexed. The schema includes:\n",
    "- Text fields for full-text search\n",
    "- Tag fields for exact matching\n",
    "- Vector fields for semantic search\n",
    "\n",
    "```\n",
    "FT.CREATE postIdx ON HASH PREFIX 1 post: SCHEMA\n",
    "        parentUri     TEXT\n",
    "        topics        TAG SEPARATOR \"|\"\n",
    "        time_us       TEXT\n",
    "        langs         TAG\n",
    "        uri           TEXT\n",
    "        operation     TAG\n",
    "        did           TAG\n",
    "        timeUs        NUMERIC\n",
    "        rkey          TAG\n",
    "        rootUri       TEXT\n",
    "        text          TEXT\n",
    "```"
   ]
  },
  {
   "metadata": {
    "ExecuteTime": {
     "end_time": "2025-05-22T18:14:28.898768Z",
     "start_time": "2025-05-22T18:14:28.794393Z"
    }
   },
   "cell_type": "code",
   "source": [
    "import redis.clients.jedis.search.IndexDefinition\n",
    "import redis.clients.jedis.search.IndexOptions\n",
    "import redis.clients.jedis.search.Schema\n",
    "import redis.clients.jedis.search.schemafields.VectorField.VectorAlgorithm\n",
    "\n",
    "val schema = Schema()\n",
    "    .addTextField(\"parentUri\", 1.0)\n",
    "    .addTagField(\"topics\", \"|\")\n",
    "    .addTextField(\"time_us\", 1.0)\n",
    "    .addTagField(\"langs\")\n",
    "    .addTextField(\"uri\", 1.0)\n",
    "    .addTagField(\"operation\")\n",
    "    .addTagField(\"did\")\n",
    "    .addNumericField(\"timeUs\")\n",
    "    .addTagField(\"rkey\")\n",
    "    .addTextField(\"rootUri\", 1.0)\n",
    "    .addTextField(\"text\", 1.0)\n",
    "\n",
    "// Define index options (e.g., prefix)\n",
    "val rule = IndexDefinition()\n",
    "    .setPrefixes(\"post:\")\n",
    "\n",
    "// Create the index\n",
    "try {\n",
    "    jedisPooled.ftCreate(\"postIdx\", IndexOptions.defaultOptions().setDefinition(rule), schema)\n",
    "} catch (e: JedisDataException) {\n",
    "    println(\"Index already exists\")\n",
    "}"
   ],
   "outputs": [],
   "execution_count": 38
  },
  {
   "metadata": {},
   "cell_type": "markdown",
   "source": [
    "### Searching the Index\n",
    "Now that we have created the index, we can search for events based on their topics, text, and other fields. In this example, we'll search for events with the topic \"Samba\".\n",
    "\n",
    "Redis Search uses a query language similar to SQL. For example, to search for events with the topic \"machine_learning\", we would use the query `@topics:{machine_learning}`."
   ]
  },
  {
   "metadata": {},
   "cell_type": "markdown",
   "source": "Exact Matching Search"
  },
  {
   "metadata": {
    "ExecuteTime": {
     "end_time": "2025-05-22T18:05:42.342156Z",
     "start_time": "2025-05-22T18:05:42.266787Z"
    }
   },
   "cell_type": "code",
   "source": [
    "//FT.SEARCH postIdx \"@topics:{machine_learning}\"\n",
    "val result = jedisPooled.ftSearch(\n",
    "    \"postIdx\",\n",
    "    \"@topics:{ChatGPT}\"\n",
    ")\n",
    "\n",
    "result.documents.forEach { post ->\n",
    "    println(post.get(\"topics\"))\n",
    "    println(post.get(\"text\"))\n",
    "    println(\"\\n\")\n",
    "}"
   ],
   "outputs": [
    {
     "name": "stdout",
     "output_type": "stream",
     "text": [
      "ChatGPT|AI Agents|Prompt Engineering\n",
      "ChatGPT referred to my OC lore as a \"cosmic soap opera\" and I'm now coping with the realization that this has been the best way all along to describe this story FUCKING HELP ME 😭\n",
      "\n",
      "\n",
      "ChatGPT|AI Ethics\n",
      "Because you posted screenshots of chatgpt as if it is a reliable source!\n",
      "\n",
      "I am critiquing you legitimizing a tool with clear alternatives, that does not do what you claim it does, and that is killing untold numbers, right now.\n",
      "\n",
      "\n",
      "ChatGPT|Prompt Engineering|AI Applications\n",
      "Just to say I used ChatGPT today that saves me time from scrolling through various websites to find the answer. It was very helpful. I don't understand why using a tool is wrong - as long as the user knows the limits of the tools one uses.\n",
      "\n",
      "\n"
     ]
    }
   ],
   "execution_count": 31
  },
  {
   "metadata": {},
   "cell_type": "markdown",
   "source": "Full Text Search"
  },
  {
   "metadata": {
    "ExecuteTime": {
     "end_time": "2025-05-22T18:05:42.462384Z",
     "start_time": "2025-05-22T18:05:42.398602Z"
    }
   },
   "cell_type": "code",
   "source": [
    "//FT.SEARCH postIdx \"@text:Open source\"\n",
    "val result = jedisPooled.ftSearch(\n",
    "    \"postIdx\",\n",
    "    \"@text:estimated to be\"\n",
    ")\n",
    "\n",
    "result.documents.forEach { post ->\n",
    "    println(post.get(\"text\"))\n",
    "    println(\"\\n\")\n",
    "}"
   ],
   "outputs": [
    {
     "name": "stdout",
     "output_type": "stream",
     "text": [
      "“ChatGPT is now estimated to be the fifth-most visited website in the world, just after Instagram and ahead of X.”\n",
      "\n",
      "www.technologyreview.com/2025/05/20/1...\n",
      "\n",
      "\n"
     ]
    }
   ],
   "execution_count": 32
  },
  {
   "metadata": {},
   "cell_type": "markdown",
   "source": "Counting the number of occurrences of a topic with Count-min sketch\n"
  },
  {
   "metadata": {
    "ExecuteTime": {
     "end_time": "2025-05-22T18:07:04.128302Z",
     "start_time": "2025-05-22T18:07:04.055540Z"
    }
   },
   "cell_type": "code",
   "source": [
    "import redis.clients.jedis.params.ScanParams\n",
    "\n",
    "val jedisScanFn = { cursor: String ->\n",
    "    jedisPooled.scan(cursor, ScanParams().match(\"topics-topk:*\"), \"TOPK-TYPE\")\n",
    "}\n",
    "\n",
    "val keys = mutableListOf<String>()\n",
    "var lastCursor = \"0\"\n",
    "do {\n",
    "    val result = jedisScanFn.invoke(lastCursor)\n",
    "    lastCursor = result.cursor\n",
    "    keys.addAll(result.result)\n",
    "} while (lastCursor != \"0\")\n",
    "\n",
    "keys.forEach {\n",
    "    println(it)\n",
    "    val topics = jedisPooled.topkList(it)\n",
    "    println(topics)\n",
    "}"
   ],
   "outputs": [
    {
     "name": "stdout",
     "output_type": "stream",
     "text": [
      "topics-topk:2025-05-22T20:00\n",
      "[AI Tooling, Generative Models, , Prompt Engineering, AI, AI Ethics, AI Applications, Generative AI, AI Research, Machine Learning, Anthropic, Azure ML, OpenAI, Cloud Services, Predictive Models]\n",
      "topics-topk:2025-05-22T19:00\n",
      "[Generative Models, AI Ethics, Prompt Engineering, , AI Applications, OpenAI, AI Tooling, AI, AI Agents, ChatGPT, Cloud Services, Generative AI, AI Research, Healthcare Technology, Google AI]\n"
     ]
    }
   ],
   "execution_count": 37
  }
 ],
 "metadata": {
  "kernelspec": {
   "display_name": "Kotlin",
   "language": "kotlin",
   "name": "kotlin"
  },
  "language_info": {
   "name": "kotlin",
   "version": "1.9.23",
   "mimetype": "text/x-kotlin",
   "file_extension": ".kt",
   "pygments_lexer": "kotlin",
   "codemirror_mode": "text/x-kotlin",
   "nbconvert_exporter": ""
  }
 },
 "nbformat": 4,
 "nbformat_minor": 0
}
