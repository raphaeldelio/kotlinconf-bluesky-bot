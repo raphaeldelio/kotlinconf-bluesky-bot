{
 "cells": [
  {
   "metadata": {},
   "cell_type": "markdown",
   "source": "# Consuming Bluesky's Jetstream Websocket"
  },
  {
   "metadata": {},
   "cell_type": "markdown",
   "source": [
    "In this notebook we want to consume Bluesky's Jetstream Websocket and insert the events into a Redis Stream.\n",
    "\n",
    "The Jetstream Websocket is a stream of events that are sent by the Bluesky server. The events are sent in JSON format and can be consumed by any client that supports Websockets.\n",
    "\n",
    "Redis Streams are a data structure that allows you to store and consume a stream of events. They are similar to Kafka topics, but are much simpler to use. Redis Streams are a great way to store and consume events in a distributed system."
   ]
  },
  {
   "metadata": {},
   "cell_type": "markdown",
   "source": "## Consuming Bluesky's Jetstream Websocket"
  },
  {
   "metadata": {},
   "cell_type": "markdown",
   "source": [
    "### Importing Ktor and Serialization\n",
    "We're going to use Ktor for the Websocket client and Serialization for JSON parsing."
   ]
  },
  {
   "metadata": {
    "ExecuteTime": {
     "end_time": "2025-05-19T12:32:54.242179Z",
     "start_time": "2025-05-19T12:32:54.058493Z"
    }
   },
   "cell_type": "code",
   "source": [
    "%use ktor-client\n",
    "%use serialization"
   ],
   "outputs": [],
   "execution_count": 22
  },
  {
   "metadata": {},
   "cell_type": "markdown",
   "source": [
    "### Modeling the Event sent by Jetstream's Websocket\n",
    "This is the model of the event sent by Jetstream's Websocket. The event is a JSON object that contains the following fields:"
   ]
  },
  {
   "metadata": {
    "ExecuteTime": {
     "end_time": "2025-05-19T12:32:54.522714Z",
     "start_time": "2025-05-19T12:32:54.245848Z"
    }
   },
   "cell_type": "code",
   "source": [
    "import kotlinx.serialization.SerialName\n",
    "import kotlinx.serialization.Serializable\n",
    "\n",
    "@Serializable\n",
    "data class Event(\n",
    "    val did: String,\n",
    "    @SerialName(\"time_us\") val timeUs: Long,\n",
    "    val kind: String? = null,\n",
    "    val commit: Commit? = null\n",
    ") {\n",
    "    @Serializable\n",
    "    data class Commit(\n",
    "        val rev: String? = null,\n",
    "        val operation: String? = null,\n",
    "        val collection: String? = null,\n",
    "        val rkey: String? = null,\n",
    "        val record: Record? = null,\n",
    "        val cid: String? = null\n",
    "    )\n",
    "\n",
    "    @Serializable\n",
    "    data class Record(\n",
    "        @SerialName(\"\\$type\") val type: String? = null,\n",
    "        val timeUs: String? = null,\n",
    "        val text: String? = null,\n",
    "        val langs: List<String>? = null,\n",
    "        val facets: List<Facet>? = null,\n",
    "        val reply: Reply? = null,\n",
    "        val embed: Embed? = null\n",
    "    )\n",
    "\n",
    "    @Serializable\n",
    "    data class Reply(\n",
    "        val parent: PostRef? = null,\n",
    "        val root: PostRef? = null\n",
    "    )\n",
    "\n",
    "    @Serializable\n",
    "    data class PostRef(\n",
    "        val cid: String? = null,\n",
    "        val uri: String? = null\n",
    "    )\n",
    "\n",
    "    @Serializable\n",
    "    data class Facet(\n",
    "        @SerialName(\"\\$type\") val type: String? = null,\n",
    "        val features: List<Feature>? = null,\n",
    "        val index: Index? = null\n",
    "    )\n",
    "\n",
    "    @Serializable\n",
    "    data class Feature(\n",
    "        @SerialName(\"\\$type\") val type: String? = null,\n",
    "        val did: String? = null\n",
    "    )\n",
    "\n",
    "    @Serializable\n",
    "    data class Index(\n",
    "        val byteStart: Int? = null,\n",
    "        val byteEnd: Int? = null\n",
    "    )\n",
    "\n",
    "    @Serializable\n",
    "    data class Embed(\n",
    "        @SerialName(\"\\$type\") val type: String? = null,\n",
    "        val images: List<EmbedImage>? = null\n",
    "    )\n",
    "\n",
    "    @Serializable\n",
    "    data class EmbedImage(\n",
    "        val alt: String? = null,\n",
    "        val aspectRatio: AspectRatio? = null,\n",
    "        val image: Image? = null\n",
    "    )\n",
    "\n",
    "    @Serializable\n",
    "    data class AspectRatio(\n",
    "        val height: Int? = null,\n",
    "        val width: Int? = null\n",
    "    )\n",
    "\n",
    "    @Serializable\n",
    "    data class Image(\n",
    "        @SerialName(\"\\$type\") val type: String? = null,\n",
    "        val ref: Ref? = null,\n",
    "        val mimeType: String? = null,\n",
    "        val size: Int? = null\n",
    "    )\n",
    "\n",
    "    @Serializable\n",
    "    data class Ref(\n",
    "        @SerialName(\"\\$link\") val link: String? = null\n",
    "    )\n",
    "}"
   ],
   "outputs": [],
   "execution_count": 23
  },
  {
   "metadata": {},
   "cell_type": "markdown",
   "source": "### Creating the Web Socket Client"
  },
  {
   "metadata": {
    "ExecuteTime": {
     "end_time": "2025-05-19T12:32:54.561193Z",
     "start_time": "2025-05-19T12:32:54.529841Z"
    }
   },
   "cell_type": "code",
   "source": [
    "import io.ktor.client.*\n",
    "import io.ktor.client.engine.cio.*\n",
    "import io.ktor.client.plugins.websocket.*\n",
    "import io.ktor.websocket.*\n",
    "import kotlinx.coroutines.*\n",
    "\n",
    "val client = HttpClient(CIO) {\n",
    "    install(WebSockets)\n",
    "}"
   ],
   "outputs": [],
   "execution_count": 24
  },
  {
   "metadata": {
    "ExecuteTime": {
     "end_time": "2025-05-19T12:32:54.583518Z",
     "start_time": "2025-05-19T12:32:54.563949Z"
    }
   },
   "cell_type": "code",
   "source": "val jsonParser = Json { ignoreUnknownKeys = true }",
   "outputs": [],
   "execution_count": 25
  },
  {
   "metadata": {},
   "cell_type": "markdown",
   "source": [
    "Reusable function to consume the Jetstream Websocket.\n",
    "\n",
    "- This function will connect to the Jetstream Websocket and listen for events.\n",
    "- The events will be passed to the `onEvent` function.\n",
    "- The function will stop consuming events after `limit` events have been received."
   ]
  },
  {
   "metadata": {
    "ExecuteTime": {
     "end_time": "2025-05-19T12:32:54.650256Z",
     "start_time": "2025-05-19T12:32:54.586256Z"
    }
   },
   "cell_type": "code",
   "source": [
    "import kotlinx.coroutines.channels.consume\n",
    "\n",
    "suspend fun consumeJetstream(limit: Int = 1000, onEvent: (Event) -> Unit) {\n",
    "    client.webSocket(\"wss://jetstream2.us-east.bsky.network/subscribe?wantedCollections=app.bsky.feed.post\") {\n",
    "        repeat(limit) {\n",
    "            incoming.receive().let { message ->\n",
    "                if (message is Frame.Text) {\n",
    "                    val event = jsonParser.decodeFromString<Event>(message.readText())\n",
    "                    onEvent(event)\n",
    "                }\n",
    "            }\n",
    "        }\n",
    "    }\n",
    "}"
   ],
   "outputs": [],
   "execution_count": 26
  },
  {
   "metadata": {},
   "cell_type": "markdown",
   "source": "Example of consuming the Jetstream Websocket and printing the event's `did` and `text` fields."
  },
  {
   "metadata": {
    "ExecuteTime": {
     "end_time": "2025-05-19T12:33:12.437940Z",
     "start_time": "2025-05-19T12:32:54.662180Z"
    }
   },
   "cell_type": "code",
   "source": [
    "runBlocking {\n",
    "    consumeJetstream(limit = 5) { event ->\n",
    "        println(\"${event.did}-${event.commit?.record?.text}\")\n",
    "    }\n",
    "}"
   ],
   "outputs": [
    {
     "name": "stdout",
     "output_type": "stream",
     "text": [
      "did:plc:fu25gccovedci7rfhsyb4hoa-おゆさんがあるっていうから買ってきた！飲むベー\n",
      "did:plc:3xcaidt3fqbumzx5clw6lxv6-I been A-1 since day one, you niggas boo-boo\n",
      "did:plc:3ivz3ewskpaxhwim6llidsg5-Všetci tí naivní apologéti, čo hlásali, že Hlas nie je zlo, lebo bude vo vláde brzdiť Smer v jeho podlizovaní sa luze a ťahaniu krajiny do obskúrnosti dostali ďalši facku. Odpor ministra Šaška proti odstúpeniu Slovenska od pandemickej zmluvy bol veľmi krátky.\n",
      "www.cynickaobluda.com/2025/05/pris...\n",
      "did:plc:l4ocf37dt5qd74dk3fk5fmhw-They are meant for low speed limited driving, small scale agriculture, municipal maintence work, etc, one on a highway would be a disaster\n",
      "did:plc:qr3xsh6b6sjgmxq4xrclgt4u-We need a new catchphrase for that ol pot calling the kettle…something more ludicrously extreme.\n"
     ]
    },
    {
     "ename": "org.jetbrains.kotlinx.jupyter.exceptions.ReplInterruptedException",
     "evalue": "The execution was interrupted",
     "output_type": "error",
     "traceback": [
      "The execution was interrupted"
     ]
    }
   ],
   "execution_count": 27
  },
  {
   "metadata": {},
   "cell_type": "markdown",
   "source": "## Inserting into Redis Streams"
  },
  {
   "metadata": {},
   "cell_type": "markdown",
   "source": [
    "Redis Streams are a data structure that allows you to store and consume a stream of events. They are similar to Kafka topics, but are much simpler to use. Redis Streams are a great way to store and consume events in a distributed system.\n",
    "\n",
    "To connect to Redis, we're going to use Jedis, a Java client for Redis. Jedis is a simple and easy to use client that supports all Redis commands."
   ]
  },
  {
   "metadata": {
    "ExecuteTime": {
     "end_time": "2025-05-19T12:33:17.686004Z",
     "start_time": "2025-05-19T12:33:17.633662Z"
    }
   },
   "cell_type": "code",
   "source": "@file:DependsOn(\"redis.clients:jedis:6.0.0\")",
   "outputs": [],
   "execution_count": 28
  },
  {
   "metadata": {},
   "cell_type": "markdown",
   "source": [
    "Creating a reusable Jedis client.\n",
    "\n",
    "JedisPooled is a connection pool that allows you to create multiple connections to Redis. This is useful when you want to create multiple threads that can access Redis at the same time."
   ]
  },
  {
   "metadata": {
    "ExecuteTime": {
     "end_time": "2025-05-19T12:33:19.245769Z",
     "start_time": "2025-05-19T12:33:19.219256Z"
    }
   },
   "cell_type": "code",
   "source": [
    "import redis.clients.jedis.JedisPooled\n",
    "val jedisPooled = JedisPooled()"
   ],
   "outputs": [],
   "execution_count": 29
  },
  {
   "metadata": {},
   "cell_type": "markdown",
   "source": [
    "Redis Streams is a stream of hashes:\n",
    "- Each hash is a map of key-value pairs.\n",
    "- The keys are strings and the values are strings.\n",
    "- The keys are used to identify the fields in the hash and the values are the data that is stored in the hash.\n",
    "\n",
    "Let's create an extension function to convert the Event object to a Map<String, String> (Hash) for Redis Streams."
   ]
  },
  {
   "metadata": {
    "ExecuteTime": {
     "end_time": "2025-05-19T12:33:21.350576Z",
     "start_time": "2025-05-19T12:33:21.279657Z"
    }
   },
   "cell_type": "code",
   "source": [
    "fun Event.toMap() = mapOf(\n",
    "        \"did\" to this.did,\n",
    "        \"timeUs\" to this.commit?.record?.timeUs.toString(),\n",
    "        \"text\" to this.commit?.record?.text.toString(),\n",
    "        \"langs\" to this.commit?.record?.langs.toString(),\n",
    "        \"operation\" to this.commit?.operation.toString(),\n",
    "        \"rkey\" to this.commit?.rkey.toString(),\n",
    "        \"parentUri\" to (this.commit?.record?.reply?.parent?.uri ?: \"\"),\n",
    "        \"rootUri\" to (this.commit?.record?.reply?.root?.uri ?: \"\"),\n",
    "        \"uri\" to \"at://${this.did}/app.bsky.feed.post/${this.commit?.rkey}\",\n",
    "    )"
   ],
   "outputs": [],
   "execution_count": 30
  },
  {
   "metadata": {},
   "cell_type": "markdown",
   "source": [
    "To add an entry to a Redis Stream, we need to use the `XADD` command:\n",
    "\n",
    "`XADD streamName id entry [field value] [field value] ...`\n",
    "\n",
    "Let's create a function that encapsulates the `XADD` command and takes a stream name and a hash as parameters:"
   ]
  },
  {
   "metadata": {
    "ExecuteTime": {
     "end_time": "2025-05-19T12:33:23.117505Z",
     "start_time": "2025-05-19T12:33:23.089402Z"
    }
   },
   "cell_type": "code",
   "source": [
    "import redis.clients.jedis.StreamEntryID\n",
    "import redis.clients.jedis.params.XAddParams\n",
    "\n",
    "fun addToStream(streamName: String, hash: Map<String, String>) {\n",
    "    jedisPooled.xadd(\n",
    "        streamName,\n",
    "        XAddParams.xAddParams()\n",
    "            .id(StreamEntryID.NEW_ENTRY)\n",
    "            .maxLen(1_000_000)\n",
    "            .exactTrimming(),\n",
    "        hash\n",
    "    )\n",
    "}"
   ],
   "outputs": [],
   "execution_count": 31
  },
  {
   "metadata": {},
   "cell_type": "markdown",
   "source": "Now let's consume the Jetstream Websocket and insert the events into a Redis Stream using the function `addToStream`."
  },
  {
   "metadata": {
    "ExecuteTime": {
     "end_time": "2025-05-19T12:33:26.832969Z",
     "start_time": "2025-05-19T12:33:24.737116Z"
    }
   },
   "cell_type": "code",
   "source": [
    "runBlocking {\n",
    "    consumeJetstream(limit = 100) { event ->\n",
    "        addToStream(\"jetstream\", event.toMap())\n",
    "    }\n",
    "}"
   ],
   "outputs": [],
   "execution_count": 32
  },
  {
   "metadata": {},
   "cell_type": "markdown",
   "source": "Open Redis Insight and show the stream."
  }
 ],
 "metadata": {
  "kernelspec": {
   "display_name": "Kotlin",
   "language": "kotlin",
   "name": "kotlin"
  },
  "language_info": {
   "name": "kotlin",
   "version": "1.9.23",
   "mimetype": "text/x-kotlin",
   "file_extension": ".kt",
   "pygments_lexer": "kotlin",
   "codemirror_mode": "text/x-kotlin",
   "nbconvert_exporter": ""
  },
  "ktnbPluginMetadata": {
   "projectLibraries": false
  }
 },
 "nbformat": 4,
 "nbformat_minor": 0
}
